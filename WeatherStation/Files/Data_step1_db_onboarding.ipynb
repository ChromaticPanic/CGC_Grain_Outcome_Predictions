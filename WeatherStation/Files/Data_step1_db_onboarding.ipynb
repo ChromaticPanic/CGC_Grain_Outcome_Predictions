{
 "cells": [
  {
   "cell_type": "markdown",
   "id": "cf8e8455-a89d-418f-8ffe-4c93fadbcef0",
   "metadata": {},
   "source": [
    "#Group3_Data_Operations"
   ]
  },
  {
   "cell_type": "code",
   "execution_count": 7,
   "id": "fb7c6eba-2357-4ab1-8ecb-1870367fa315",
   "metadata": {
    "cellView": "form",
    "id": "9n9_cTveKmse"
   },
   "outputs": [],
   "source": [
    "#@title Import relevant modules\n",
    "import os\n",
    "import sys\n",
    "import pandas as pd\n",
    "import geopandas as gpd\n",
    "import sqlalchemy as sq\n",
    "import ipyparallel as ipp\n",
    "from dotenv import load_dotenv"
   ]
  },
  {
   "cell_type": "code",
   "execution_count": 8,
   "id": "0343b664",
   "metadata": {},
   "outputs": [],
   "source": [
    "# The following lines adjust the granularity of reporting.\n",
    "pd.options.display.max_rows = 10\n",
    "pd.options.display.float_format = \"{:.1f}\".format\n",
    "pd.set_option('display.max_columns', None)\n",
    "os.chdir('/tf')\n",
    "PGUSER = os.getenv('POSTGRES_USER')\n",
    "PGPW = os.getenv('POSTGRES_PW')\n",
    "PGDB = os.getenv('POSTGRES_DB')"
   ]
  },
  {
   "cell_type": "code",
   "execution_count": 9,
   "id": "d2caaf18-3142-42ae-b954-7cbece859f51",
   "metadata": {},
   "outputs": [],
   "source": [
    "\n",
    "def pushToPostGresDB(fi: str, db: str, user: str, pw: str) -> None:\n",
    "    import geopandas as gpd\n",
    "    from DataService import DataService\n",
    "    \n",
    "    db_service = DataService(db, user, pw)\n",
    "    db_con = db_service.connect()\n",
    "\n",
    "    geodf = gpd.read_file(fi, encoding=\"utf-8\")\n",
    "    geodf = geodf.set_crs(4617, allow_override=True)\n",
    "    tableName = fi[-3:]+fi[:-4]\n",
    "    \n",
    "    geodf.to_postgis(tableName, db_con, index=False, if_exists='replace')\n",
    "    return fi\n",
    "            \n",
    "            "
   ]
  },
  {
   "cell_type": "code",
   "execution_count": 10,
   "id": "38eb026b-569f-4d57-909d-0c0d41560e2a",
   "metadata": {},
   "outputs": [],
   "source": [
    "#create a list of full path file names from directory\n",
    "def getFileList():\n",
    "    DATA_DIR = \"Data/\"\n",
    "    fullPathNames = []\n",
    "    for fi in os.listdir(DATA_DIR):\n",
    "        fi = os.path.join(DATA_DIR, fi)\n",
    "        if os.path.isfile(fi):\n",
    "            if fi.endswith(\"dbf\"): # or fi.endswith(\"shp\") :\n",
    "                fullPathNames.append(fi)\n",
    "    return fullPathNames\n"
   ]
  },
  {
   "cell_type": "code",
   "execution_count": 11,
   "id": "c603c697",
   "metadata": {},
   "outputs": [],
   "source": [
    "files = getFileList()\n",
    "for fi in files:\n",
    "    pushToPostGresDB(fi, PGDB, PGUSER, PGPW)"
   ]
  },
  {
   "cell_type": "code",
   "execution_count": null,
   "id": "b2cb67e6-d14d-4229-9a13-469d84a363ac",
   "metadata": {},
   "outputs": [],
   "source": [
    "#set up parallel computing cluster\n",
    "cluster = ipp.Cluster.from_file(\"/root/.ipython/profile_default/security/cluster-.json\")\n",
    "rc = cluster.connect_client_sync()\n",
    "rc"
   ]
  },
  {
   "cell_type": "code",
   "execution_count": null,
   "id": "774b762a-433c-4c58-9e0d-1439f730870f",
   "metadata": {},
   "outputs": [],
   "source": [
    "\n",
    "# cluster = ipp.Cluster(n=4)\n",
    "# await cluster.start_cluster()\n",
    "# rc = cluster.connect_client_sync()\n",
    "rc.wait_for_engines(n=4)\n",
    "dview = rc[:]\n",
    "dview.block=True\n",
    "\n"
   ]
  },
  {
   "cell_type": "code",
   "execution_count": null,
   "id": "e0abc366-8d44-4c95-98fb-6cd617aa8b4b",
   "metadata": {},
   "outputs": [],
   "source": [
    "# transfer to postgres go brr\n",
    "files = getFileList()\n",
    "result = dview.map_sync(pushToPostGresDB, files, [PGDB]*len(files), [PGUSER]*len(files), [PGPW]*len(files))\n",
    "print(result)"
   ]
  },
  {
   "cell_type": "code",
   "execution_count": null,
   "id": "17828805-dcb4-44d0-a053-8ca77d030e51",
   "metadata": {},
   "outputs": [],
   "source": [
    "#uncomment to install more modules\n",
    "#%pip install geoalchemy2\n",
    "\n",
    "\n",
    "#uncomment the next 2 to see all installed modules\n",
    "# import os\n",
    "# os.system(\"pip list\")"
   ]
  }
 ],
 "metadata": {
  "kernelspec": {
   "display_name": "Python 3.8.10 64-bit",
   "language": "python",
   "name": "python3"
  },
  "language_info": {
   "codemirror_mode": {
    "name": "ipython",
    "version": 3
   },
   "file_extension": ".py",
   "mimetype": "text/x-python",
   "name": "python",
   "nbconvert_exporter": "python",
   "pygments_lexer": "ipython3",
   "version": "3.8.10"
  },
  "vscode": {
   "interpreter": {
    "hash": "916dbcbb3f70747c44a77c7bcd40155683ae19c65e1c03b4aa3499c5328201f1"
   }
  }
 },
 "nbformat": 4,
 "nbformat_minor": 5
}
