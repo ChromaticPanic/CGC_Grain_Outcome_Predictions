{
 "cells": [
  {
   "attachments": {},
   "cell_type": "markdown",
   "metadata": {},
   "source": [
    "# ergotVisualization.ipynb\n",
    "\n",
    "Visualisation for [ergot_sample](https://github.com/ChromaticPanic/CGC_Grain_Outcome_Predictions/tree/main#ergot_sample) and [agg_ergot_sample](https://github.com/ChromaticPanic/CGC_Grain_Outcome_Predictions/tree/main#agg_ergot_sample), The following script can be used to visualize the data\n",
    "\n",
    "## Output graphs:\n",
    "\n",
    "- Correlation plot ([such as ...](https://github.com/ChromaticPanic/CGC_Grain_Outcome_Predictions/blob/main/.github/img/ergotCorr.png))\n"
   ]
  },
  {
   "cell_type": "code",
   "execution_count": null,
   "metadata": {},
   "outputs": [],
   "source": [
    "from matplotlib import pyplot as plt  # type: ignore\n",
    "from matplotlib import cm, colors  # type: ignore\n",
    "from matplotlib.colors import ListedColormap, Normalize  # type: ignore\n",
    "from matplotlib.cm import ScalarMappable  # type: ignore\n",
    "from dotenv import load_dotenv\n",
    "import geopandas as gpd  # type: ignore\n",
    "import sqlalchemy as sq\n",
    "import pandas as pd\n",
    "import numpy as np\n",
    "import os, sys\n",
    "\n",
    "sys.path.append(\"../\")\n",
    "from Shared.DataService import DataService"
   ]
  },
  {
   "attachments": {},
   "cell_type": "markdown",
   "metadata": {},
   "source": [
    "Psuedocode:  \n",
    "- Load the environment database variables\n",
    "- Connect to the database"
   ]
  },
  {
   "cell_type": "code",
   "execution_count": null,
   "metadata": {},
   "outputs": [],
   "source": [
    "load_dotenv()\n",
    "PG_DB = os.getenv(\"POSTGRES_DB\")\n",
    "PG_ADDR = os.getenv(\"POSTGRES_ADDR\")\n",
    "PG_PORT = os.getenv(\"POSTGRES_PORT\")\n",
    "PG_USER = os.getenv(\"POSTGRES_USER\")\n",
    "PG_PW = os.getenv(\"POSTGRES_PW\")"
   ]
  },
  {
   "cell_type": "code",
   "execution_count": null,
   "metadata": {},
   "outputs": [],
   "source": [
    "if (\n",
    "    PG_DB is None\n",
    "    or PG_ADDR is None\n",
    "    or PG_PORT is None\n",
    "    or PG_USER is None\n",
    "    or PG_PW is None\n",
    "):\n",
    "    raise ValueError(\"Environment variables not set\")\n",
    "\n",
    "# connecting to database\n",
    "db = DataService(PG_DB, PG_ADDR, int(PG_PORT), PG_USER, PG_PW)\n",
    "conn = db.connect()"
   ]
  },
  {
   "attachments": {},
   "cell_type": "markdown",
   "metadata": {},
   "source": [
    "## Visualization before aggregation"
   ]
  },
  {
   "attachments": {},
   "cell_type": "markdown",
   "metadata": {},
   "source": [
    "Purpose : Self contained data retrieval for the ergot visualization for the data before aggregation\n",
    "\n",
    "Psuedocode: \n",
    "- Create the ergot data SQL query\n",
    "- [Load the data from the database directly into a DataFrame](https://pandas.pydata.org/docs/reference/api/pandas.read_sql.html) "
   ]
  },
  {
   "cell_type": "code",
   "execution_count": null,
   "metadata": {},
   "outputs": [],
   "source": [
    "query = sq.text(\"SELECT * FROM public.ergot_sample\")\n",
    "ergot_df = pd.read_sql(query, conn)"
   ]
  },
  {
   "cell_type": "code",
   "execution_count": null,
   "metadata": {},
   "outputs": [],
   "source": [
    "ergot_df"
   ]
  },
  {
   "attachments": {},
   "cell_type": "markdown",
   "metadata": {},
   "source": [
    "Purpose: \n",
    "- The purpose of this code is to update the \"district\" values for provinces entries in the DataFrame. It adjusts the district codes, to reconcile them for consistency.\n",
    "\n",
    "Psuedocode : \n",
    "- Update the in the DataFrame ergot_df based on the \"province\" and \"crop_district\" values for each row. "
   ]
  },
  {
   "cell_type": "code",
   "execution_count": null,
   "metadata": {},
   "outputs": [],
   "source": [
    "ergot_df.loc[ergot_df[\"province\"] == \"MB\", \"district\"] = (\n",
    "    ergot_df.loc[ergot_df[\"province\"] == \"MB\", \"crop_district\"] + 4600\n",
    ")\n",
    "ergot_df.loc[ergot_df[\"province\"] == \"SK\", \"district\"] = (\n",
    "    ergot_df.loc[ergot_df[\"province\"] == \"SK\", \"crop_district\"] - 1\n",
    ") + 4700\n",
    "ergot_df.loc[ergot_df[\"province\"] == \"AB\", \"district\"] = (\n",
    "    ergot_df.loc[ergot_df[\"province\"] == \"AB\", \"crop_district\"] * 10\n",
    ") + 4800"
   ]
  },
  {
   "attachments": {},
   "cell_type": "markdown",
   "metadata": {},
   "source": [
    "Purpose:  \n",
    "Merge the soil and drop irrelevant columns\n",
    "- Drop irrelevant attributes "
   ]
  },
  {
   "cell_type": "code",
   "execution_count": null,
   "metadata": {},
   "outputs": [],
   "source": [
    "ergot_df.drop(columns=[\"crop_district\", \"sample_id\"], inplace=True)"
   ]
  },
  {
   "attachments": {},
   "cell_type": "markdown",
   "metadata": {},
   "source": [
    "Purpose:\n",
    "- The purpose of this code is to ensure that the \"district\" column contains integer values\n",
    "\n",
    "Psuedocode :\n",
    "- [convert district value to integer type](https://pandas.pydata.org/docs/reference/api/pandas.to_numeric.html)\n"
   ]
  },
  {
   "cell_type": "code",
   "execution_count": null,
   "metadata": {},
   "outputs": [],
   "source": [
    "ergot_df[\"district\"] = pd.to_numeric(ergot_df[\"district\"], downcast=\"integer\")\n",
    "ergot_df"
   ]
  },
  {
   "attachments": {},
   "cell_type": "markdown",
   "metadata": {},
   "source": [
    "Purpose:\n",
    "- The purpose of this code is to visualize and compare the incidence of the specified condition in the provinces of Manitoba, Alberta, and Saskatchewan over the years. \n",
    "\n",
    "Psuedocode :\n",
    "- [use plt.xlabel to label x-axis](https://matplotlib.org/3.1.1/api/_as_gen/matplotlib.pyplot.ylabel.html)\n",
    "- [use plt.xlabel to label y-axis](https://matplotlib.org/3.1.1/api/_as_gen/matplotlib.pyplot.xlabel.html)\n",
    "- [use plt.figure to determine the dimensions of graph](https://matplotlib.org/stable/api/_as_gen/matplotlib.pyplot.figure.html)\n",
    "- [use plt.plot to plot the graph](https://matplotlib.org/stable/api/_as_gen/matplotlib.pyplot.plot.html)"
   ]
  },
  {
   "cell_type": "code",
   "execution_count": null,
   "metadata": {},
   "outputs": [],
   "source": [
    "# sample with incidence = True: per year, per province\n",
    "samples_df = (\n",
    "    ergot_df[ergot_df[\"incidence\"] == True]\n",
    "    .groupby([\"province\", \"year\"])[\"incidence\"]\n",
    "    .count()\n",
    "    .reset_index()\n",
    ")\n",
    "mb_df = samples_df[samples_df[\"province\"] == \"MB\"]\n",
    "ab_df = samples_df[samples_df[\"province\"] == \"AB\"]\n",
    "sk_df = samples_df[samples_df[\"province\"] == \"SK\"]\n",
    "\n",
    "year = mb_df[\"year\"].tolist()\n",
    "mb_incidence = mb_df[\"incidence\"].tolist()\n",
    "ab_incidence = ab_df[\"incidence\"].tolist()\n",
    "sk_incidence = sk_df[\"incidence\"].tolist()\n",
    "\n",
    "\n",
    "plt.figure(figsize=(10, 5))\n",
    "plt.xlabel(\"Year\")\n",
    "plt.ylabel(\"Incidence\")\n",
    "plt.plot(year, mb_incidence, color=\"blue\")\n",
    "plt.plot(year, ab_incidence, color=\"green\")\n",
    "plt.plot(year, sk_incidence, color=\"red\")\n",
    "plt.legend([\"Manitoba\", \"Alberta\", \"Saskatchewan\"])\n",
    "plt.show()"
   ]
  },
  {
   "attachments": {},
   "cell_type": "markdown",
   "metadata": {},
   "source": [
    "Purpose:\n",
    "- The purpose of this code is to create a DataFrame (ratio_df) containing the ratio of the incidence of ergot for each province over the years. The ratio represents how frequently the condition occurs relative to the total incidence count for each province-year group."
   ]
  },
  {
   "cell_type": "code",
   "execution_count": null,
   "metadata": {},
   "outputs": [],
   "source": [
    "ratio_df = ergot_df.groupby([\"province\", \"year\"])[\"incidence\"].count().reset_index()\n",
    "ratio_df[\"ratio\"] = (samples_df[\"incidence\"] / ratio_df[\"incidence\"]).to_frame()\n",
    "ratio_df.drop(columns=[\"incidence\"], inplace=True)\n",
    "ratio_df"
   ]
  },
  {
   "attachments": {},
   "cell_type": "markdown",
   "metadata": {},
   "source": [
    "Purpose:\n",
    "- The purpose of this code is to visualize and compare the incidence ratios of the specified condition for each province over the years."
   ]
  },
  {
   "cell_type": "code",
   "execution_count": null,
   "metadata": {},
   "outputs": [],
   "source": [
    "# Min, max for each province\n",
    "mb_ratio = ratio_df[ratio_df[\"province\"] == \"MB\"][\"ratio\"].tolist()\n",
    "ab_ratio = ratio_df[ratio_df[\"province\"] == \"AB\"][\"ratio\"].tolist()\n",
    "sk_ratio = ratio_df[ratio_df[\"province\"] == \"SK\"][\"ratio\"].tolist()\n",
    "\n",
    "\n",
    "plt.figure(figsize=(10, 5))\n",
    "plt.xlabel(\"Year\")\n",
    "plt.ylabel(\"Incidence\")\n",
    "plt.plot(year, mb_ratio, color=\"blue\")\n",
    "plt.plot(year, ab_ratio, color=\"green\")\n",
    "plt.plot(year, sk_ratio, color=\"red\")\n",
    "plt.legend([\"Manitoba\", \"Alberta\", \"Saskatchewan\"])\n",
    "plt.show()\n",
    "\n",
    "print(\n",
    "    \"Highest ratio in MB: {}, in year: {}\".format(\n",
    "        max(mb_ratio), mb_ratio.index(max(mb_ratio)) + 1995\n",
    "    )\n",
    ")\n",
    "print(\n",
    "    \"Highest ratio in AB: {}, in year: {}\".format(\n",
    "        max(ab_ratio), ab_ratio.index(max(ab_ratio)) + 1995\n",
    "    )\n",
    ")\n",
    "print(\n",
    "    \"Highest ratio in SK: {}, in year: {}\".format(\n",
    "        max(sk_ratio), sk_ratio.index(max(sk_ratio)) + 1995\n",
    "    )\n",
    ")\n",
    "\n",
    "print(\n",
    "    \"Lowest ratio in MB: {}, in year: {}\".format(\n",
    "        min(mb_ratio), mb_ratio.index(min(mb_ratio)) + 1995\n",
    "    )\n",
    ")\n",
    "print(\n",
    "    \"Lowest ratio in AB: {}, in year: {}\".format(\n",
    "        min(ab_ratio), ab_ratio.index(min(ab_ratio)) + 1995\n",
    "    )\n",
    ")\n",
    "print(\n",
    "    \"Lowest ratio in SK: {}, in year: {}\".format(\n",
    "        min(sk_ratio), sk_ratio.index(min(sk_ratio)) + 1995\n",
    "    )\n",
    ")"
   ]
  },
  {
   "attachments": {},
   "cell_type": "markdown",
   "metadata": {},
   "source": [
    "Purpose:\n",
    "- The purpose of this code is to calculate the incidence ratio (as a percentage) of ergot for each region (province and district) over the years. \n",
    "\n",
    "Output:\n",
    "- The resulting region_df DataFrame contains the \"province\", \"year\", \"district\", \"incidence\", and \"ratio\" columns, where \"ratio\" represents the calculated incidence ratio for each region."
   ]
  },
  {
   "cell_type": "code",
   "execution_count": null,
   "metadata": {},
   "outputs": [],
   "source": [
    "total_df = ergot_df.groupby([\"year\", \"district\"])[\"incidence\"].count().reset_index()\n",
    "region_df = (\n",
    "    ergot_df[ergot_df[\"incidence\"] == True]\n",
    "    .groupby([\"province\", \"year\", \"district\"])[\"incidence\"]\n",
    "    .count()\n",
    "    .reset_index()\n",
    ")\n",
    "region_df[\"ratio\"] = (region_df[\"incidence\"] / total_df[\"incidence\"]) * 100\n",
    "region_df"
   ]
  },
  {
   "attachments": {},
   "cell_type": "markdown",
   "metadata": {},
   "source": [
    "Purpose:\n",
    "- The purpose of this code is to fetch geospatial data related to agricultural regions from database and store it in a GeoDataFrame (agRegions). \n",
    "- This GeoDataFrame can be used for operations such as plotting the regions on maps."
   ]
  },
  {
   "cell_type": "code",
   "execution_count": null,
   "metadata": {},
   "outputs": [],
   "source": [
    "regionQuery = sq.text(\"select district, color, geometry FROM public.census_ag_regions\")\n",
    "agRegions = gpd.GeoDataFrame.from_postgis(\n",
    "    regionQuery, conn, crs=\"EPSG:3347\", geom_col=\"geometry\"\n",
    ")"
   ]
  },
  {
   "attachments": {},
   "cell_type": "markdown",
   "metadata": {},
   "source": [
    "Purpose:\n",
    "- The purpose of this function is to convert a numerical value into a corresponding color representation based on a chosen colormap. \n",
    "\n",
    "Psuedocode:\n",
    "- [Normalization](https://matplotlib.org/stable/api/_as_gen/matplotlib.colors.Normalize.html): The function uses the `colors.Normalize()` function to normalize the input `value` between the specified minimum (`vmin`) and maximum (`vmax`) values. This ensures that the value falls within the range of 0 to 1.\n",
    "\n",
    "- [Colormap Retrieval](https://matplotlib.org/stable/api/_as_gen/matplotlib.cm.get_cmap.html): It then retrieves the specified colormap using the `cm.get_cmap()`.\n",
    "\n",
    "- Color Mapping: The normalized `value` is used as input to the colormap obtained in the previous step. The colormap maps the normalized value to a corresponding RGB color using the `cmap(norm(abs(value)))` operation. \n",
    "\n",
    "- [Hexadecimal Color Conversion](https://matplotlib.org/stable/api/_as_gen/matplotlib.colors.rgb2hex.html): The resulting RGB color tuple is then converted to a hexadecimal color string using the `colors.rgb2hex()`."
   ]
  },
  {
   "cell_type": "code",
   "execution_count": null,
   "metadata": {},
   "outputs": [],
   "source": [
    "def color_map_color(\n",
    "    value: int, cmap_name=\"Wistia\", vmin: int = 0, vmax: int = 100\n",
    ") -> str:\n",
    "    norm = colors.Normalize(vmin=vmin, vmax=vmax)\n",
    "    cmap = cm.get_cmap(cmap_name)\n",
    "    rgb = cmap(norm(abs(value)))[:3]\n",
    "    color = colors.rgb2hex(rgb)\n",
    "\n",
    "    return color"
   ]
  },
  {
   "attachments": {},
   "cell_type": "markdown",
   "metadata": {},
   "source": [
    "Purpose :\n",
    "- The purpose of this function is to create a color map for a set of districts based on the provided ratio data."
   ]
  },
  {
   "cell_type": "code",
   "execution_count": null,
   "metadata": {},
   "outputs": [],
   "source": [
    "def get_color(ratio_year: pd.DataFrame) -> pd.Series:\n",
    "    color_map = []\n",
    "\n",
    "    for district in agRegions[\"district\"].tolist():\n",
    "        if district in ratio_year[\"district\"].tolist():\n",
    "            ratio = ratio_year[ratio_year[\"district\"] == district][\"ratio\"].tolist()[0]\n",
    "            color_map.append(color_map_color(ratio))\n",
    "        else:\n",
    "            color_map.append(color_map_color(0))\n",
    "\n",
    "    return pd.Series(color_map)"
   ]
  },
  {
   "attachments": {},
   "cell_type": "markdown",
   "metadata": {},
   "source": [
    "Purpose:\n",
    "- The purpose of this function is to visualize incident levels for each district on a map. It takes the incident ratio color map and the year as input to create a choropleth map. Each district is colored according to its incident level, and the district names are annotated on the map for easy identification."
   ]
  },
  {
   "attachments": {},
   "cell_type": "markdown",
   "metadata": {},
   "source": [
    "Pseudocode:\n",
    "- Get the bounding box (minimum and maximum coordinates). \n",
    "- Create a figure and axes.\n",
    "- Set the y-axis and x-axis limits of the axes using the bounding box coordinates obtained earlier.\n",
    "- Set the title of the plot to \"Incident level for district in {year}\".\n",
    "- Plot the GeoDataFrame on the axes , and pass color_map as an argument to color the districts based on the provided incident level data.\n",
    "- [Display the plot](https://matplotlib.org/stable/api/_as_gen/matplotlib.pyplot.show.html)."
   ]
  },
  {
   "cell_type": "code",
   "execution_count": null,
   "metadata": {},
   "outputs": [],
   "source": [
    "def plot_map(color_map: pd.Series, year: int):\n",
    "    minx, miny, maxx, maxy = agRegions.total_bounds\n",
    "    fig, ax = plt.subplots(figsize=(20, 20))\n",
    "    ax.set_ylim(miny, maxy)\n",
    "    ax.set_xlim(minx, maxx)\n",
    "    ax.set_title(\"Incident level for district in \" + str(year))\n",
    "\n",
    "    # Create a custom colormap based on unique colors in color_map\n",
    "    unique_colors = color_map.unique()\n",
    "    cmap = ListedColormap(unique_colors)\n",
    "    normalize = Normalize(vmin=0, vmax=len(unique_colors) - 1)\n",
    "    scalar_mappable = ScalarMappable(cmap=cmap, norm=normalize)\n",
    "\n",
    "    agRegions.plot(ax=ax, color=color_map, edgecolor=\"black\")\n",
    "    agRegions.apply(\n",
    "        lambda x: ax.annotate(\n",
    "            text=x[\"district\"],\n",
    "            xy=x.geometry.centroid.coords[0],\n",
    "            ha=\"center\",\n",
    "            color=\"black\",\n",
    "            size=10,\n",
    "        ),\n",
    "        axis=1,\n",
    "    )\n",
    "\n",
    "    # Create a colorbar without tick labels\n",
    "    cbar = plt.colorbar(scalar_mappable, ax=ax, orientation=\"vertical\", pad=0.02)\n",
    "    cbar.set_label(\"Incident Level\")\n",
    "\n",
    "    plt.show()"
   ]
  },
  {
   "attachments": {},
   "cell_type": "markdown",
   "metadata": {},
   "source": [
    "Purpose:\n",
    "- The purpose of this pseudocode is to loop through the years in the range (1995 to 2022) and create map visualizations for each year based on incident ratio data."
   ]
  },
  {
   "cell_type": "code",
   "execution_count": null,
   "metadata": {},
   "outputs": [],
   "source": [
    "for currYear in range(1995, 2023):\n",
    "    ratio_year = region_df.loc[region_df[\"year\"] == currYear]\n",
    "    color = get_color(ratio_year)\n",
    "    plot_map(color, currYear)"
   ]
  },
  {
   "attachments": {},
   "cell_type": "markdown",
   "metadata": {},
   "source": [
    "# Visualization for aggregated ergot"
   ]
  },
  {
   "attachments": {},
   "cell_type": "markdown",
   "metadata": {},
   "source": [
    "Purpose : Self contained data retrieval for the ergot visualization for the data after aggregation\n",
    "\n",
    "Psuedocode: \n",
    "- Create the agg_ergot data SQL query\n",
    "- [Load the data from the database directly into a DataFrame](https://pandas.pydata.org/docs/reference/api/pandas.read_sql.html) \n",
    "- obtain the unique values in the \"severity\" column of the DataFrame."
   ]
  },
  {
   "cell_type": "code",
   "execution_count": null,
   "metadata": {},
   "outputs": [],
   "source": [
    "query = sq.text(\"SELECT * FROM public.agg_ergot_samples\")\n",
    "agg_ergot_df = pd.read_sql(query, conn)\n",
    "agg_ergot_df"
   ]
  },
  {
   "cell_type": "code",
   "execution_count": null,
   "metadata": {},
   "outputs": [],
   "source": [
    "agg_ergot_df[\"severity\"].unique()"
   ]
  },
  {
   "attachments": {},
   "cell_type": "markdown",
   "metadata": {},
   "source": [
    "Purpose:\n",
    "- The purpose of this function is to provide basic descriptive statistics (first quartile, median, third quartile) of the given numerical data and identify outliers using the Interquartile Range (IQR) method."
   ]
  },
  {
   "cell_type": "code",
   "execution_count": null,
   "metadata": {},
   "outputs": [],
   "source": [
    "def stats(data: list):\n",
    "    # assign your quartiles, limits and iq3\n",
    "    q1, q2, q3 = np.percentile(data, [25, 50, 75])\n",
    "    iqr = q3 - q1\n",
    "    print(\"iqr: \", iqr)\n",
    "    lower_bound = q1 - 1.5 * iqr\n",
    "    upper_bound = q3 + 1.5 * iqr\n",
    "\n",
    "    # create conditions to isolate the outliers\n",
    "    outliers = [value for value in data if value < lower_bound or value > upper_bound]\n",
    "    return q1, q2, q3, outliers"
   ]
  },
  {
   "attachments": {},
   "cell_type": "markdown",
   "metadata": {},
   "source": [
    "Purpose:\n",
    "- The purpose of this code is to analyze the \"severity\" data from the DataFrame. It calculates the quartiles (Q1, Q2, Q3) using the stats function and identifies any outlier values. "
   ]
  },
  {
   "cell_type": "code",
   "execution_count": null,
   "metadata": {},
   "outputs": [],
   "source": [
    "data = np.array(agg_ergot_df[\"severity\"])\n",
    "\n",
    "q1, q2, q3, outliers = stats(data.tolist())\n",
    "print(\"number of outliers:\", len(outliers))\n",
    "print(\"q1, q2, q3: {}, {}, {}\".format(q1, q2, q3))\n",
    "print(outliers)"
   ]
  },
  {
   "attachments": {},
   "cell_type": "markdown",
   "metadata": {},
   "source": [
    "Purpose:\n",
    "- The purpose of this code is to remove outliers from the \"severity\" data in the DataFrame wo_outliers and then create a box plot without the outliers. The box plot visually represents the distribution of the \"severity\" data without extreme values"
   ]
  },
  {
   "cell_type": "code",
   "execution_count": null,
   "metadata": {},
   "outputs": [],
   "source": [
    "wo_outliers = pd.DataFrame(data, columns=[\"severity\"])\n",
    "wo_outliers = wo_outliers[~wo_outliers[\"severity\"].isin(outliers)]\n",
    "wo_outliers"
   ]
  },
  {
   "cell_type": "code",
   "execution_count": null,
   "metadata": {},
   "outputs": [],
   "source": [
    "wo_outliers.boxplot(column=[\"severity\"], showfliers=False, autorange=True)"
   ]
  },
  {
   "cell_type": "code",
   "execution_count": null,
   "metadata": {},
   "outputs": [],
   "source": [
    "# incident/present of urgot information by district\n",
    "present_df = agg_ergot_df[\n",
    "    [\n",
    "        \"year\",\n",
    "        \"has_ergot\",\n",
    "        \"district\",\n",
    "        \"present_prev1\",\n",
    "        \"present_prev2\",\n",
    "        \"present_prev3\",\n",
    "        \"present_in_neighbor\",\n",
    "    ]\n",
    "].drop_duplicates()\n",
    "present_df"
   ]
  },
  {
   "attachments": {},
   "cell_type": "markdown",
   "metadata": {},
   "source": [
    "Purpose:\n",
    "- The purpose of this code is to analyze the relationships between ergot incidents in the current year and different scenarios related to previous years and neighboring areas. By calculating the percentages, it provides insights into how the presence of ergot in specific periods or neighboring areas might influence the occurrence of ergot in the current year."
   ]
  },
  {
   "cell_type": "code",
   "execution_count": null,
   "metadata": {},
   "outputs": [],
   "source": [
    "# find percentage of having ergot in previous year -> having ergot in this year\n",
    "percent1 = (\n",
    "    present_df[\n",
    "        (present_df[\"has_ergot\"] == True) & (present_df[\"present_prev1\"] == True)\n",
    "    ].shape[0]\n",
    "    / present_df.shape[0]\n",
    ")\n",
    "print(\"Percent of having ergot when prev year had ergot: \", percent1)\n",
    "\n",
    "# find percentage of having ergot in previous 2 years -> having ergot in this year\n",
    "percent2 = (\n",
    "    present_df[\n",
    "        (present_df[\"has_ergot\"] == True) & (present_df[\"present_prev2\"] == True)\n",
    "    ].shape[0]\n",
    "    / present_df.shape[0]\n",
    ")\n",
    "print(\"Percent of having ergot when prev 2 year had ergot: \", percent2)\n",
    "\n",
    "# find percentage of having ergot when having ergot in previous 3 year\n",
    "percent3 = (\n",
    "    present_df[\n",
    "        (present_df[\"has_ergot\"] == True) & (present_df[\"present_prev3\"] == True)\n",
    "    ].shape[0]\n",
    "    / present_df.shape[0]\n",
    ")\n",
    "print(\"Percent of having ergot when prev 3 year had ergot: \", percent3)\n",
    "\n",
    "# find percentage of having ergot when neighbor has ergot\n",
    "percent4 = (\n",
    "    present_df[\n",
    "        (present_df[\"has_ergot\"] == True) & (present_df[\"present_in_neighbor\"] == True)\n",
    "    ].shape[0]\n",
    "    / present_df.shape[0]\n",
    ")\n",
    "print(\"Percent of having ergot when neighbor is having ergot: \", percent4)"
   ]
  },
  {
   "cell_type": "code",
   "execution_count": null,
   "metadata": {},
   "outputs": [],
   "source": [
    "# severity information by district\n",
    "severity_df = agg_ergot_df[\n",
    "    [\n",
    "        \"year\",\n",
    "        \"district\",\n",
    "        \"has_ergot\",\n",
    "        \"sum_severity\",\n",
    "        \"severity_prev1\",\n",
    "        \"severity_prev2\",\n",
    "        \"severity_prev3\",\n",
    "    ]\n",
    "].drop_duplicates()\n",
    "severity_df"
   ]
  },
  {
   "attachments": {},
   "cell_type": "markdown",
   "metadata": {},
   "source": [
    "Purpose:\n",
    "- The purpose of this code is to analyze the severity levels in districts with no ergot incidents (has_ergot is False) but with a non-zero sum of severity levels (sum_severity > 0). It first filters the severity_df to select such rows and then calculates the quartiles and detects outliers in the \"sum_severity\" data."
   ]
  },
  {
   "cell_type": "code",
   "execution_count": null,
   "metadata": {},
   "outputs": [],
   "source": [
    "severity_df[(~severity_df[\"has_ergot\"]) & (severity_df[\"sum_severity\"] > 0)]"
   ]
  },
  {
   "cell_type": "code",
   "execution_count": null,
   "metadata": {},
   "outputs": [],
   "source": [
    "# assign your quartiles, limits and iq3\n",
    "data = np.array(severity_df[\"sum_severity\"])\n",
    "q1, q2, q3, outliers = stats(data.tolist())\n",
    "print(\"number of outliers:\", len(outliers))\n",
    "print(\"q1, q2, q3: {}, {}, {}\".format(q1, q2, q3))\n",
    "print(outliers)"
   ]
  },
  {
   "attachments": {},
   "cell_type": "markdown",
   "metadata": {},
   "source": [
    "Purpose:\n",
    "- The purpose of this code is to visualize the distribution of severity levels across districts without displaying any outliers."
   ]
  },
  {
   "cell_type": "code",
   "execution_count": null,
   "metadata": {},
   "outputs": [],
   "source": [
    "# plt.rcParams.update({'figure.figsize':(7,5), 'figure.dpi':100})\n",
    "\n",
    "# plot\n",
    "severity_df.plot.box(title=\"Severity\", column=[\"sum_severity\"], showfliers=False)"
   ]
  }
 ],
 "metadata": {
  "kernelspec": {
   "display_name": ".venv",
   "language": "python",
   "name": "python3"
  },
  "language_info": {
   "codemirror_mode": {
    "name": "ipython",
    "version": 3
   },
   "file_extension": ".py",
   "mimetype": "text/x-python",
   "name": "python",
   "nbconvert_exporter": "python",
   "pygments_lexer": "ipython3",
   "version": "3.10.12"
  },
  "orig_nbformat": 4
 },
 "nbformat": 4,
 "nbformat_minor": 2
}
