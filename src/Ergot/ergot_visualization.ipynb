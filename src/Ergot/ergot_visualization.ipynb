{
 "cells": [
  {
   "cell_type": "code",
   "execution_count": null,
   "metadata": {},
   "outputs": [],
   "source": [
    "from matplotlib import pyplot as plt  # type: ignore\n",
    "from matplotlib import cm, colors  # type: ignore\n",
    "from dotenv import load_dotenv\n",
    "import geopandas as gpd  # type: ignore\n",
    "import sqlalchemy as sq\n",
    "import pandas as pd  # type: ignore\n",
    "import numpy as np\n",
    "import os, sys\n",
    "\n",
    "sys.path.append(\"../\")\n",
    "from Shared.DataService import DataService"
   ]
  },
  {
   "cell_type": "code",
   "execution_count": null,
   "metadata": {},
   "outputs": [],
   "source": [
    "load_dotenv()\n",
    "PG_DB = os.getenv(\"POSTGRES_DB\")\n",
    "PG_ADDR = os.getenv(\"POSTGRES_ADDR\")\n",
    "PG_PORT = os.getenv(\"POSTGRES_PORT\")\n",
    "PG_USER = os.getenv(\"POSTGRES_USER\")\n",
    "PG_PW = os.getenv(\"POSTGRES_PW\")"
   ]
  },
  {
   "cell_type": "code",
   "execution_count": null,
   "metadata": {},
   "outputs": [],
   "source": [
    "if (\n",
    "    PG_DB is None\n",
    "    or PG_ADDR is None\n",
    "    or PG_PORT is None\n",
    "    or PG_USER is None\n",
    "    or PG_PW is None\n",
    "):\n",
    "    raise ValueError(\"Environment variables not set\")\n",
    "\n",
    "# connecting to database\n",
    "db = DataService(PG_DB, PG_ADDR, int(PG_PORT), PG_USER, PG_PW)\n",
    "conn = db.connect()"
   ]
  },
  {
   "attachments": {},
   "cell_type": "markdown",
   "metadata": {},
   "source": [
    "## Visualization before aggregation"
   ]
  },
  {
   "cell_type": "code",
   "execution_count": null,
   "metadata": {},
   "outputs": [],
   "source": [
    "query = sq.text(\"SELECT * FROM public.ergot_sample\")\n",
    "ergot_df = pd.read_sql(query, conn)"
   ]
  },
  {
   "cell_type": "code",
   "execution_count": null,
   "metadata": {},
   "outputs": [],
   "source": [
    "ergot_df"
   ]
  },
  {
   "cell_type": "code",
   "execution_count": null,
   "metadata": {},
   "outputs": [],
   "source": [
    "ergot_df.loc[ergot_df[\"province\"] == \"MB\", \"district\"] = (\n",
    "    ergot_df.loc[ergot_df[\"province\"] == \"MB\", \"crop_district\"] + 4600\n",
    ")\n",
    "ergot_df.loc[ergot_df[\"province\"] == \"SK\", \"district\"] = (\n",
    "    ergot_df.loc[ergot_df[\"province\"] == \"SK\", \"crop_district\"] - 1\n",
    ") + 4700\n",
    "ergot_df.loc[ergot_df[\"province\"] == \"AB\", \"district\"] = (\n",
    "    ergot_df.loc[ergot_df[\"province\"] == \"AB\", \"crop_district\"] * 10\n",
    ") + 4800"
   ]
  },
  {
   "cell_type": "code",
   "execution_count": null,
   "metadata": {},
   "outputs": [],
   "source": [
    "ergot_df.drop(columns=[\"crop_district\", \"sample_id\"], inplace=True)"
   ]
  },
  {
   "cell_type": "code",
   "execution_count": null,
   "metadata": {},
   "outputs": [],
   "source": [
    "ergot_df[\"district\"] = pd.to_numeric(ergot_df[\"district\"], downcast=\"integer\")\n",
    "ergot_df"
   ]
  },
  {
   "cell_type": "code",
   "execution_count": null,
   "metadata": {},
   "outputs": [],
   "source": [
    "# sample with incidence = True: per year, per province\n",
    "samples_df = (\n",
    "    ergot_df[ergot_df[\"incidence\"] == True]\n",
    "    .groupby([\"province\", \"year\"])[\"incidence\"]\n",
    "    .count()\n",
    "    .reset_index()\n",
    ")\n",
    "mb_df = samples_df[samples_df[\"province\"] == \"MB\"]\n",
    "ab_df = samples_df[samples_df[\"province\"] == \"AB\"]\n",
    "sk_df = samples_df[samples_df[\"province\"] == \"SK\"]\n",
    "\n",
    "year = mb_df[\"year\"].tolist()\n",
    "mb_incidence = mb_df[\"incidence\"].tolist()\n",
    "ab_incidence = ab_df[\"incidence\"].tolist()\n",
    "sk_incidence = sk_df[\"incidence\"].tolist()\n",
    "\n",
    "\n",
    "plt.figure(figsize=(10, 5))\n",
    "plt.xlabel(\"Year\")\n",
    "plt.ylabel(\"Incidence\")\n",
    "plt.plot(year, mb_incidence, color=\"blue\")\n",
    "plt.plot(year, ab_incidence, color=\"green\")\n",
    "plt.plot(year, sk_incidence, color=\"red\")\n",
    "plt.legend([\"Manitoba\", \"Alberta\", \"Saskatchewan\"])\n",
    "plt.show()"
   ]
  },
  {
   "cell_type": "code",
   "execution_count": null,
   "metadata": {},
   "outputs": [],
   "source": [
    "ratio_df = ergot_df.groupby([\"province\", \"year\"])[\"incidence\"].count().reset_index()\n",
    "ratio_df[\"ratio\"] = (samples_df[\"incidence\"] / ratio_df[\"incidence\"]).to_frame()\n",
    "ratio_df.drop(columns=[\"incidence\"], inplace=True)\n",
    "ratio_df"
   ]
  },
  {
   "cell_type": "code",
   "execution_count": null,
   "metadata": {},
   "outputs": [],
   "source": [
    "# Min, max for each province\n",
    "mb_ratio = ratio_df[ratio_df[\"province\"] == \"MB\"][\"ratio\"].tolist()\n",
    "ab_ratio = ratio_df[ratio_df[\"province\"] == \"AB\"][\"ratio\"].tolist()\n",
    "sk_ratio = ratio_df[ratio_df[\"province\"] == \"SK\"][\"ratio\"].tolist()\n",
    "\n",
    "\n",
    "plt.figure(figsize=(10, 5))\n",
    "plt.xlabel(\"Year\")\n",
    "plt.ylabel(\"Incidence\")\n",
    "plt.plot(year, mb_ratio, color=\"blue\")\n",
    "plt.plot(year, ab_ratio, color=\"green\")\n",
    "plt.plot(year, sk_ratio, color=\"red\")\n",
    "plt.legend([\"Manitoba\", \"Alberta\", \"Saskatchewan\"])\n",
    "plt.show()\n",
    "\n",
    "print(\n",
    "    \"Highest ratio in MB: {}, in year: {}\".format(\n",
    "        max(mb_ratio), mb_ratio.index(max(mb_ratio)) + 1995\n",
    "    )\n",
    ")\n",
    "print(\n",
    "    \"Highest ratio in AB: {}, in year: {}\".format(\n",
    "        max(ab_ratio), ab_ratio.index(max(ab_ratio)) + 1995\n",
    "    )\n",
    ")\n",
    "print(\n",
    "    \"Highest ratio in SK: {}, in year: {}\".format(\n",
    "        max(sk_ratio), sk_ratio.index(max(sk_ratio)) + 1995\n",
    "    )\n",
    ")\n",
    "\n",
    "print(\n",
    "    \"Lowest ratio in MB: {}, in year: {}\".format(\n",
    "        min(mb_ratio), mb_ratio.index(min(mb_ratio)) + 1995\n",
    "    )\n",
    ")\n",
    "print(\n",
    "    \"Lowest ratio in AB: {}, in year: {}\".format(\n",
    "        min(ab_ratio), ab_ratio.index(min(ab_ratio)) + 1995\n",
    "    )\n",
    ")\n",
    "print(\n",
    "    \"Lowest ratio in SK: {}, in year: {}\".format(\n",
    "        min(sk_ratio), sk_ratio.index(min(sk_ratio)) + 1995\n",
    "    )\n",
    ")"
   ]
  },
  {
   "cell_type": "code",
   "execution_count": null,
   "metadata": {},
   "outputs": [],
   "source": [
    "total_df = ergot_df.groupby([\"year\", \"district\"])[\"incidence\"].count().reset_index()\n",
    "region_df = (\n",
    "    ergot_df[ergot_df[\"incidence\"] == True]\n",
    "    .groupby([\"province\", \"year\", \"district\"])[\"incidence\"]\n",
    "    .count()\n",
    "    .reset_index()\n",
    ")\n",
    "region_df[\"ratio\"] = (region_df[\"incidence\"] / total_df[\"incidence\"]) * 100\n",
    "region_df"
   ]
  },
  {
   "cell_type": "code",
   "execution_count": null,
   "metadata": {},
   "outputs": [],
   "source": [
    "regionQuery = sq.text(\"select district, color, geometry FROM public.census_ag_regions\")\n",
    "agRegions = gpd.GeoDataFrame.from_postgis(\n",
    "    regionQuery, conn, crs=\"EPSG:3347\", geom_col=\"geometry\"\n",
    ")"
   ]
  },
  {
   "cell_type": "code",
   "execution_count": null,
   "metadata": {},
   "outputs": [],
   "source": [
    "def color_map_color(\n",
    "    value: int, cmap_name=\"Wistia\", vmin: int = 0, vmax: int = 100\n",
    ") -> str:\n",
    "    norm = colors.Normalize(vmin=vmin, vmax=vmax)\n",
    "    cmap = cm.get_cmap(cmap_name)\n",
    "    rgb = cmap(norm(abs(value)))[:3]\n",
    "    color = colors.rgb2hex(rgb)\n",
    "\n",
    "    return color"
   ]
  },
  {
   "cell_type": "code",
   "execution_count": null,
   "metadata": {},
   "outputs": [],
   "source": [
    "def get_color(ratio_year: pd.DataFrame) -> pd.Series:\n",
    "    color_map = []\n",
    "\n",
    "    for district in agRegions[\"district\"].tolist():\n",
    "        if district in ratio_year[\"district\"].tolist():\n",
    "            ratio = ratio_year[ratio_year[\"district\"] == district][\"ratio\"].tolist()[0]\n",
    "            color_map.append(color_map_color(ratio))\n",
    "        else:\n",
    "            color_map.append(color_map_color(0))\n",
    "\n",
    "    return pd.Series(color_map)"
   ]
  },
  {
   "cell_type": "code",
   "execution_count": null,
   "metadata": {},
   "outputs": [],
   "source": [
    "def plot_map(color_map: pd.Series, year: int):\n",
    "    minx, miny, maxx, maxy = agRegions.total_bounds\n",
    "    fig, ax = plt.subplots(figsize=(20, 20))\n",
    "    ax.set_ylim(miny, maxy)\n",
    "    ax.set_xlim(minx, maxx)\n",
    "    ax.set_title(\"Incident level for district in \" + str(year))\n",
    "    agRegions.plot(ax=ax, color=color_map, edgecolor=\"black\")\n",
    "    agRegions.apply(\n",
    "        lambda x: ax.annotate(\n",
    "            text=x[\"district\"],\n",
    "            xy=x.geometry.centroid.coords[0],\n",
    "            ha=\"center\",\n",
    "            color=\"black\",\n",
    "            size=10,\n",
    "        ),\n",
    "        axis=1,\n",
    "    )\n",
    "    plt.show()"
   ]
  },
  {
   "cell_type": "code",
   "execution_count": null,
   "metadata": {},
   "outputs": [],
   "source": [
    "for currYear in range(1995, 2023):\n",
    "    ratio_year = region_df.loc[region_df[\"year\"] == year]\n",
    "    color = get_color(ratio_year)\n",
    "    plot_map(color, currYear)"
   ]
  },
  {
   "attachments": {},
   "cell_type": "markdown",
   "metadata": {},
   "source": [
    "# Visualization for aggregated ergot"
   ]
  },
  {
   "cell_type": "code",
   "execution_count": null,
   "metadata": {},
   "outputs": [],
   "source": [
    "query = sq.text(\"SELECT * FROM public.agg_ergot_samples\")\n",
    "agg_ergot_df = pd.read_sql(query, conn)\n",
    "agg_ergot_df"
   ]
  },
  {
   "cell_type": "code",
   "execution_count": null,
   "metadata": {},
   "outputs": [],
   "source": [
    "agg_ergot_df[\"severity\"].unique()"
   ]
  },
  {
   "cell_type": "code",
   "execution_count": null,
   "metadata": {},
   "outputs": [],
   "source": [
    "def stats(data: list):\n",
    "    # assign your quartiles, limits and iq3\n",
    "    q1, q2, q3 = np.percentile(data, [25, 50, 75])\n",
    "    iqr = q3 - q1\n",
    "    print(\"iqr: \", iqr)\n",
    "    lower_bound = q1 - 1.5 * iqr\n",
    "    upper_bound = q3 + 1.5 * iqr\n",
    "\n",
    "    # create conditions to isolate the outliers\n",
    "    outliers = data[(data < lower_bound) | (data > upper_bound)]\n",
    "    return q1, q2, q3, outliers"
   ]
  },
  {
   "cell_type": "code",
   "execution_count": null,
   "metadata": {},
   "outputs": [],
   "source": [
    "data = np.array(agg_ergot_df[\"severity\"])\n",
    "q1, q2, q3, outliers = stats(data.tolist())\n",
    "print(\"number of outliers:\", len(outliers))\n",
    "print(\"q1, q2, q3: {}, {}, {}\".format(q1, q2, q3))\n",
    "print(outliers)"
   ]
  },
  {
   "cell_type": "code",
   "execution_count": null,
   "metadata": {},
   "outputs": [],
   "source": [
    "wo_outliers = pd.DataFrame(data, columns=[\"severity\"])\n",
    "wo_outliers = wo_outliers[~wo_outliers[\"severity\"].isin(outliers)]\n",
    "wo_outliers"
   ]
  },
  {
   "cell_type": "code",
   "execution_count": null,
   "metadata": {},
   "outputs": [],
   "source": [
    "wo_outliers.boxplot(column=[\"severity\"], showfliers=False, autorange=True)"
   ]
  },
  {
   "cell_type": "code",
   "execution_count": null,
   "metadata": {},
   "outputs": [],
   "source": [
    "# incident/present of urgot information by district\n",
    "present_df = agg_ergot_df[\n",
    "    [\n",
    "        \"year\",\n",
    "        \"has_ergot\",\n",
    "        \"district\",\n",
    "        \"present_prev1\",\n",
    "        \"present_prev2\",\n",
    "        \"present_prev3\",\n",
    "        \"present_in_neighbor\",\n",
    "    ]\n",
    "].drop_duplicates()\n",
    "present_df"
   ]
  },
  {
   "cell_type": "code",
   "execution_count": null,
   "metadata": {},
   "outputs": [],
   "source": [
    "# find percentage of having ergot in previous year -> having ergot in this year\n",
    "percent1 = (\n",
    "    present_df[\n",
    "        (present_df[\"has_ergot\"] == True) & (present_df[\"present_prev1\"] == True)\n",
    "    ].shape[0]\n",
    "    / present_df.shape[0]\n",
    ")\n",
    "print(\"Percent of having ergot when prev year had ergot: \", percent1)\n",
    "\n",
    "# find percentage of having ergot in previous 2 years -> having ergot in this year\n",
    "percent2 = (\n",
    "    present_df[\n",
    "        (present_df[\"has_ergot\"] == True) & (present_df[\"present_prev2\"] == True)\n",
    "    ].shape[0]\n",
    "    / present_df.shape[0]\n",
    ")\n",
    "print(\"Percent of having ergot when prev 2 year had ergot: \", percent2)\n",
    "\n",
    "# find percentage of having ergot when having ergot in previous 3 year\n",
    "percent3 = (\n",
    "    present_df[\n",
    "        (present_df[\"has_ergot\"] == True) & (present_df[\"present_prev3\"] == True)\n",
    "    ].shape[0]\n",
    "    / present_df.shape[0]\n",
    ")\n",
    "print(\"Percent of having ergot when prev 3 year had ergot: \", percent3)\n",
    "\n",
    "# find percentage of having ergot when neighbor has ergot\n",
    "percent4 = (\n",
    "    present_df[\n",
    "        (present_df[\"has_ergot\"] == True) & (present_df[\"present_in_neighbor\"] == True)\n",
    "    ].shape[0]\n",
    "    / present_df.shape[0]\n",
    ")\n",
    "print(\"Percent of having ergot when neighbor is having ergot: \", percent4)"
   ]
  },
  {
   "cell_type": "code",
   "execution_count": null,
   "metadata": {},
   "outputs": [],
   "source": [
    "# severity information by district\n",
    "severity_df = agg_ergot_df[\n",
    "    [\n",
    "        \"year\",\n",
    "        \"district\",\n",
    "        \"has_ergot\",\n",
    "        \"sum_severity\",\n",
    "        \"severity_prev1\",\n",
    "        \"severity_prev2\",\n",
    "        \"severity_prev3\",\n",
    "    ]\n",
    "].drop_duplicates()\n",
    "severity_df"
   ]
  },
  {
   "cell_type": "code",
   "execution_count": null,
   "metadata": {},
   "outputs": [],
   "source": [
    "severity_df[(~severity_df[\"has_ergot\"]) & (severity_df[\"sum_severity\"] > 0)]"
   ]
  },
  {
   "cell_type": "code",
   "execution_count": null,
   "metadata": {},
   "outputs": [],
   "source": [
    "# assign your quartiles, limits and iq3\n",
    "data = np.array(severity_df[\"sum_severity\"])\n",
    "q1, q2, q3, outliers = stats(data.tolist())\n",
    "print(\"number of outliers:\", len(outliers))\n",
    "print(\"q1, q2, q3: {}, {}, {}\".format(q1, q2, q3))\n",
    "print(outliers)"
   ]
  },
  {
   "cell_type": "code",
   "execution_count": null,
   "metadata": {},
   "outputs": [],
   "source": [
    "# plt.rcParams.update({'figure.figsize':(7,5), 'figure.dpi':100})\n",
    "\n",
    "# plot\n",
    "severity_df.plot.box(title=\"Severity\", column=[\"sum_severity\"], showfliers=False)"
   ]
  }
 ],
 "metadata": {
  "kernelspec": {
   "display_name": ".venv",
   "language": "python",
   "name": "python3"
  },
  "language_info": {
   "codemirror_mode": {
    "name": "ipython",
    "version": 3
   },
   "file_extension": ".py",
   "mimetype": "text/x-python",
   "name": "python",
   "nbconvert_exporter": "python",
   "pygments_lexer": "ipython3",
   "version": "3.8.0"
  },
  "orig_nbformat": 4
 },
 "nbformat": 4,
 "nbformat_minor": 2
}
