{
 "cells": [
  {
   "cell_type": "code",
   "execution_count": null,
   "metadata": {},
   "outputs": [],
   "source": [
    "import sys\n",
    "import os\n",
    "from dotenv import load_dotenv\n",
    "\n",
    "import geopandas as gpd\n",
    "import sqlalchemy as sq\n",
    "import pandas as pd\n",
    "from matplotlib import pyplot as plt\n",
    "from matplotlib import cm, colors\n",
    "\n",
    "sys.path.append(\"../\")\n",
    "from Shared.DataService import DataService"
   ]
  },
  {
   "cell_type": "code",
   "execution_count": null,
   "metadata": {},
   "outputs": [],
   "source": [
    "load_dotenv()\n",
    "PG_DB = os.getenv(\"POSTGRES_DB\")\n",
    "PG_ADDR = os.getenv(\"POSTGRES_ADDR\")\n",
    "PG_PORT = os.getenv(\"POSTGRES_PORT\")\n",
    "PG_USER = os.getenv(\"POSTGRES_USER\")\n",
    "PG_PW = os.getenv(\"POSTGRES_PW\")"
   ]
  },
  {
   "cell_type": "code",
   "execution_count": null,
   "metadata": {},
   "outputs": [],
   "source": [
    "# connecting to database\n",
    "db = DataService(PG_DB, PG_ADDR, PG_PORT, PG_USER, PG_PW)\n",
    "conn = db.connect()"
   ]
  },
  {
   "cell_type": "code",
   "execution_count": null,
   "metadata": {},
   "outputs": [],
   "source": [
    "query = sq.text(\"select * FROM public.ergot_sample\")\n",
    "ergot_df = pd.read_sql(query, conn)"
   ]
  },
  {
   "cell_type": "code",
   "execution_count": null,
   "metadata": {},
   "outputs": [],
   "source": [
    "ergot_df"
   ]
  },
  {
   "cell_type": "code",
   "execution_count": null,
   "metadata": {},
   "outputs": [],
   "source": [
    "# car : canadian agriculture region\n",
    "ergot_df.loc[ergot_df[\"province\"] == \"MB\", \"car_uid\"] = ergot_df.loc[ergot_df[\"province\"] == \"MB\", \"crop_district\"] + 4600\n",
    "ergot_df.loc[ergot_df[\"province\"] == \"SK\", \"car_uid\"] = (ergot_df.loc[ergot_df[\"province\"] == \"SK\", \"crop_district\"] - 1) + 4700\n",
    "ergot_df.loc[ergot_df[\"province\"] == \"AB\", \"car_uid\"] = (ergot_df.loc[ergot_df[\"province\"] == \"AB\", \"crop_district\"] * 10) + 4800"
   ]
  },
  {
   "cell_type": "code",
   "execution_count": null,
   "metadata": {},
   "outputs": [],
   "source": [
    "ergot_df.drop(columns=['crop_district', 'sample_id'], inplace=True)"
   ]
  },
  {
   "cell_type": "code",
   "execution_count": null,
   "metadata": {},
   "outputs": [],
   "source": [
    "ergot_df['car_uid'] = pd.to_numeric(ergot_df['car_uid'], downcast='integer')\n",
    "ergot_df"
   ]
  },
  {
   "cell_type": "code",
   "execution_count": null,
   "metadata": {},
   "outputs": [],
   "source": [
    "# sample with incidence = True: per year, per province\n",
    "samples_df = ergot_df[ergot_df['incidence'] == True].groupby(['province', 'year'])['incidence'].count().reset_index()\n",
    "mb_df = samples_df[samples_df['province'] == 'MB']\n",
    "ab_df = samples_df[samples_df['province'] == 'AB']\n",
    "sk_df = samples_df[samples_df['province'] == 'SK']\n",
    "\n",
    "year = mb_df['year'].tolist()\n",
    "mb_incidence = mb_df['incidence'].tolist()\n",
    "ab_incidence = ab_df['incidence'].tolist()\n",
    "sk_incidence = sk_df['incidence'].tolist()\n",
    "\n",
    "\n",
    "plt.figure(figsize=(10,5))\n",
    "plt.xlabel('Year')\n",
    "plt.ylabel('Incidence')\n",
    "plt.plot(year, mb_incidence, color=\"blue\")\n",
    "plt.plot(year, ab_incidence, color=\"green\")\n",
    "plt.plot(year, sk_incidence, color=\"red\")\n",
    "plt.legend(['Manitoba', 'Alberta', 'Saskatchewan'])\n",
    "plt.show()\n"
   ]
  },
  {
   "cell_type": "code",
   "execution_count": null,
   "metadata": {},
   "outputs": [],
   "source": [
    "ratio_df = ergot_df.groupby(['province', 'year'])['incidence'].count().reset_index()\n",
    "ratio_df['ratio'] = (samples_df['incidence']/ratio_df['incidence']).to_frame()\n",
    "ratio_df.drop(columns = {'incidence'}, inplace=True)\n",
    "ratio_df"
   ]
  },
  {
   "cell_type": "code",
   "execution_count": null,
   "metadata": {},
   "outputs": [],
   "source": [
    "# Min, max for each province\n",
    "mb_ratio = ratio_df[ratio_df['province'] == 'MB']['ratio'].tolist()\n",
    "ab_ratio = ratio_df[ratio_df['province'] == 'AB']['ratio'].tolist()\n",
    "sk_ratio = ratio_df[ratio_df['province'] == 'SK']['ratio'].tolist()\n",
    "\n",
    "\n",
    "plt.figure(figsize=(10,5))\n",
    "plt.xlabel('Year')\n",
    "plt.ylabel('Incidence')\n",
    "plt.plot(year, mb_ratio, color=\"blue\")\n",
    "plt.plot(year, ab_ratio, color=\"green\")\n",
    "plt.plot(year, sk_ratio, color=\"red\")\n",
    "plt.legend(['Manitoba', 'Alberta', 'Saskatchewan'])\n",
    "plt.show()\n",
    "\n",
    "print('Highest ratio in MB: {}, in year: {}'.format(max(mb_ratio), mb_ratio.index(max(mb_ratio)) + 1995))\n",
    "print('Highest ratio in AB: {}, in year: {}'.format(max(ab_ratio), ab_ratio.index(max(ab_ratio)) + 1995))\n",
    "print('Highest ratio in SK: {}, in year: {}'.format(max(sk_ratio), sk_ratio.index(max(sk_ratio)) + 1995))\n",
    "\n",
    "print('Lowest ratio in MB: {}, in year: {}'.format(min(mb_ratio), mb_ratio.index(min(mb_ratio)) + 1995))\n",
    "print('Lowest ratio in AB: {}, in year: {}'.format(min(ab_ratio), ab_ratio.index(min(ab_ratio)) + 1995))\n",
    "print('Lowest ratio in SK: {}, in year: {}'.format(min(sk_ratio), sk_ratio.index(min(sk_ratio)) + 1995))"
   ]
  },
  {
   "cell_type": "code",
   "execution_count": null,
   "metadata": {},
   "outputs": [],
   "source": [
    "total_df = ergot_df.groupby(['year', 'car_uid'])['incidence'].count().reset_index()\n",
    "region_df = ergot_df[ergot_df['incidence'] == True].groupby(['province', 'year', 'car_uid'])['incidence'].count().reset_index()\n",
    "region_df['ratio'] = (region_df['incidence']/total_df['incidence']) * 100\n",
    "region_df\n"
   ]
  },
  {
   "cell_type": "code",
   "execution_count": null,
   "metadata": {},
   "outputs": [],
   "source": [
    "regionQuery = sq.text(\"select district, color, geometry FROM public.census_ag_regions\")\n",
    "agRegions = gpd.GeoDataFrame.from_postgis(\n",
    "    regionQuery, conn, crs=\"EPSG:3347\", geom_col=\"geometry\"\n",
    ")"
   ]
  },
  {
   "cell_type": "code",
   "execution_count": null,
   "metadata": {},
   "outputs": [],
   "source": [
    "def color_map_color(value, cmap_name='Wistia', vmin=0, vmax=100):\n",
    "    norm = colors.Normalize(vmin=vmin, vmax=vmax)\n",
    "    cmap = cm.get_cmap(cmap_name)\n",
    "    rgb = cmap(norm(abs(value)))[:3]\n",
    "    color = colors.rgb2hex(rgb)\n",
    "    return color"
   ]
  },
  {
   "cell_type": "code",
   "execution_count": null,
   "metadata": {},
   "outputs": [],
   "source": [
    "def get_color(ratio_year):\n",
    "    color_map = []\n",
    "    for district in agRegions['district'].tolist():\n",
    "        if district in ratio_year['car_uid'].tolist():\n",
    "            ratio = ratio_year[ratio_year['car_uid'] == district]['ratio'].tolist()[0]\n",
    "            color_map.append(color_map_color(ratio))\n",
    "        else:\n",
    "            color_map.append(color_map_color(0))\n",
    "    return pd.Series(color_map)"
   ]
  },
  {
   "cell_type": "code",
   "execution_count": null,
   "metadata": {},
   "outputs": [],
   "source": [
    "def plot_map(color_map, year):\n",
    "    minx, miny, maxx, maxy = agRegions.total_bounds\n",
    "    fig, ax = plt.subplots(figsize=(20, 20))\n",
    "    ax.set_ylim(miny, maxy)\n",
    "    ax.set_xlim(minx, maxx)\n",
    "    ax.set_title(\"Incident level for district in \" + str(year))\n",
    "    agRegions.plot(ax=ax, color=color_map, edgecolor=\"black\")\n",
    "    agRegions.apply(\n",
    "        lambda x: ax.annotate(\n",
    "            text=x[\"district\"],\n",
    "            xy=x.geometry.centroid.coords[0],\n",
    "            ha=\"center\",\n",
    "            color=\"black\",\n",
    "            size=10,\n",
    "        ),\n",
    "        axis=1,\n",
    "    )\n",
    "    plt.show()"
   ]
  },
  {
   "cell_type": "code",
   "execution_count": null,
   "metadata": {},
   "outputs": [],
   "source": [
    "for year in range(1995, 2023):\n",
    "    ratio_year = region_df.loc[region_df['year'] == year]\n",
    "    color = get_color(ratio_year)\n",
    "    plot_map(color, year)"
   ]
  }
 ],
 "metadata": {
  "kernelspec": {
   "display_name": ".venv",
   "language": "python",
   "name": "python3"
  },
  "language_info": {
   "codemirror_mode": {
    "name": "ipython",
    "version": 3
   },
   "file_extension": ".py",
   "mimetype": "text/x-python",
   "name": "python",
   "nbconvert_exporter": "python",
   "pygments_lexer": "ipython3",
   "version": "3.10.6"
  },
  "orig_nbformat": 4
 },
 "nbformat": 4,
 "nbformat_minor": 2
}
