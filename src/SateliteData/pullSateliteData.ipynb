{
 "cells": [
  {
   "cell_type": "code",
   "execution_count": null,
   "metadata": {},
   "outputs": [],
   "source": [
    "import cdsapi\n",
    "c = cdsapi.Client()\n",
    "\n",
    "c.retrieve(\n",
    "    'reanalysis-era5-land',\n",
    "    {\n",
    "        'year': '1995',\n",
    "        'variable': [\n",
    "            '2m_dewpoint_temperature', '2m_temperature', 'evaporation_from_bare_soil',\n",
    "            'skin_reservoir_content', 'skin_temperature', 'soil_temperature_level_1',\n",
    "            'soil_temperature_level_2', 'soil_temperature_level_3', 'soil_temperature_level_4',\n",
    "            'surface_net_solar_radiation', 'surface_pressure', 'volumetric_soil_water_layer_1',\n",
    "            'volumetric_soil_water_layer_2', 'volumetric_soil_water_layer_3', 'volumetric_soil_water_layer_4',\n",
    "        ],\n",
    "        'month': '01',\n",
    "        'day': [\n",
    "            '01', '02', '03',\n",
    "            '04', '05', '06',\n",
    "            '07', '08', '09',\n",
    "            '10', '11', '12',\n",
    "            '13', '14', '15',\n",
    "            '16', '17', '18',\n",
    "            '19', '20', '21',\n",
    "            '22', '23', '24',\n",
    "            '25', '26', '27',\n",
    "            '28', '29', '30',\n",
    "            '31',\n",
    "        ],\n",
    "        'time': [\n",
    "            '00:00', '01:00', '02:00',\n",
    "            '03:00', '04:00', '05:00',\n",
    "            '06:00', '07:00', '08:00',\n",
    "            '09:00', '10:00', '11:00',\n",
    "            '12:00', '13:00', '14:00',\n",
    "            '15:00', '16:00', '17:00',\n",
    "            '18:00', '19:00', '20:00',\n",
    "            '21:00', '22:00', '23:00',\n",
    "        ],\n",
    "        'format': 'grib',\n",
    "    },\n",
    "    'download.grib')"
   ]
  },
  {
   "cell_type": "code",
   "execution_count": null,
   "metadata": {},
   "outputs": [],
   "source": [
    "c.retrieve(\n",
    "    'reanalysis-era5-land',\n",
    "    {\n",
    "        'format': 'grib',\n",
    "        'variable': 'skin_temperature',\n",
    "        'year': '1995',\n",
    "        'month': '01',\n",
    "        'day': '01',\n",
    "        'time': '00:00',\n",
    "        'area': [\n",
    "            70, -142, 40,\n",
    "            -53,\n",
    "        ],\n",
    "    },\n",
    "    'download.grib')"
   ]
  },
  {
   "cell_type": "code",
   "execution_count": null,
   "metadata": {},
   "outputs": [],
   "source": [
    "# load grib data\n",
    "# try manipulating it\n",
    "import xarray as xr\n",
    "import cfgrib\n",
    "# pip install eccodes \n",
    "\n",
    "ds = cfgrib.open_datasets('\\era5land_extract.grib')\n",
    "\n",
    "#ds = xr.load_dataset(\"download.grib\", engine='cfgrib')\n",
    "print(ds)\n"
   ]
  }
 ],
 "metadata": {
  "kernelspec": {
   "display_name": "env",
   "language": "python",
   "name": "python3"
  },
  "language_info": {
   "codemirror_mode": {
    "name": "ipython",
    "version": 3
   },
   "file_extension": ".py",
   "mimetype": "text/x-python",
   "name": "python",
   "nbconvert_exporter": "python",
   "pygments_lexer": "ipython3",
   "version": "3.8.0"
  },
  "orig_nbformat": 4
 },
 "nbformat": 4,
 "nbformat_minor": 2
}
