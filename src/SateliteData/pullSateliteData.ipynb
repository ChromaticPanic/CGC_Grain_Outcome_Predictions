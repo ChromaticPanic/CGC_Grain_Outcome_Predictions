{
 "cells": [
  {
   "attachments": {},
   "cell_type": "markdown",
   "metadata": {},
   "source": [
    "pip install cdsapi  \n",
    "pip install pygrid"
   ]
  },
  {
   "cell_type": "code",
   "execution_count": 18,
   "metadata": {},
   "outputs": [
    {
     "name": "stdout",
     "output_type": "stream",
     "text": [
      "30\n"
     ]
    }
   ],
   "source": [
    "import os, sys, cdsapi, pygrib, calendar\n",
    "from QueryHandler import QueryHandler\n",
    "from shapely.geometry import Point\n",
    "from dotenv import load_dotenv\n",
    "import sqlalchemy as sq \n",
    "import geopandas as gpd\n",
    "import numpy as np\n",
    "\n",
    "sys.path.append('../')\n",
    "from DataService import DataService\n",
    "\n",
    "\n",
    "load_dotenv()\n",
    "PG_DB = os.getenv('POSTGRES_DB')\n",
    "PG_ADDR = os.getenv('POSTGRES_ADDR')\n",
    "PG_PORT = os.getenv('POSTGRES_PORT')\n",
    "PG_USER = os.getenv('POSTGRES_USER')\n",
    "PG_PW = os.getenv('POSTGRES_PW')\n",
    "\n",
    "MIN_MONTH = 3\n",
    "MAX_MONTH = 12\n",
    "\n",
    "MIN_YEAR = 1995\n",
    "MAX_YEAR = 2023"
   ]
  },
  {
   "cell_type": "code",
   "execution_count": null,
   "metadata": {},
   "outputs": [],
   "source": [
    "queryHandler = QueryHandler()"
   ]
  },
  {
   "cell_type": "code",
   "execution_count": null,
   "metadata": {},
   "outputs": [],
   "source": [
    "def createTable(db):\n",
    "    query = sq.text(queryHandler.tableExistsReq('copernicus_satelite_data'))\n",
    "    tableExists = queryHandler.readTableExists(db.execute(query))\n",
    "    \n",
    "    if not tableExists:\n",
    "        query = sq.text(queryHandler.createCopernicusTableReq('copernicus_satelite_data'))\n",
    "        db.execute(query)"
   ]
  },
  {
   "cell_type": "code",
   "execution_count": null,
   "metadata": {},
   "outputs": [],
   "source": [
    "def calcAgRegion(agRegions, point):\n",
    "    region = None\n",
    "\n",
    "    for index, region in agRegions.iterrows():\n",
    "        if region['geomtry'].contains(point):\n",
    "            region = region['car_name']\n",
    "            break\n",
    "    \n",
    "    return region"
   ]
  },
  {
   "cell_type": "code",
   "execution_count": null,
   "metadata": {},
   "outputs": [],
   "source": [
    "def storeData(db, lon, lat, year, month, day, hour, region, attr, value):\n",
    "    datetime = datetime = np.datetime64(f'{year}-{month}-{day}T{hour}')\n",
    "    query = sq.text(queryHandler.createRowExistsInDBReq(lon, lat, datetime))\n",
    "    rowExists = queryHandler.readRowExistsInDB(db.execute(query))\n",
    "    \n",
    "    if rowExists:\n",
    "        query = sq.text(queryHandler.createUpdateRowReq(attr, value))\n",
    "        db.execute(query)\n",
    "    else:\n",
    "        query = sq.text(queryHandler.createInsertRowReq(lon, lat, datetime, year, month, day, hour, region, attr, value))\n",
    "        db.execute(query)"
   ]
  },
  {
   "cell_type": "code",
   "execution_count": null,
   "metadata": {},
   "outputs": [],
   "source": [
    "def processFile(grbs, db, agRegions, year, month, day, hour, attr):\n",
    "    data, lats, lons = grbs[1].data()\n",
    "\n",
    "    for index, value in enumerate(data):\n",
    "        point = Point(lons[index], lats[index])\n",
    "            \n",
    "        if agRegions.contains(point):\n",
    "            region = calcAgRegion(agRegions, point)\n",
    "            storeData(db, lons[index], lats[index], year, month, day, hour, region, attr, value)"
   ]
  },
  {
   "cell_type": "code",
   "execution_count": null,
   "metadata": {},
   "outputs": [],
   "source": [
    "def loadGeometry(conn):\n",
    "    query = sq.text('select car_name, geometry FROM public.census_ag_regions')\n",
    "    agRegions = gpd.read_postgis(query, conn, geom_col='geometry')\n",
    "    agRegions.set_crs(\"EPSG:4326\", allow_override=True)\n",
    "\n",
    "    return agRegions\n",
    "    "
   ]
  },
  {
   "cell_type": "code",
   "execution_count": null,
   "metadata": {},
   "outputs": [],
   "source": [
    "c = cdsapi.Client()\n",
    "years = [str(year) for year in range(MIN_YEAR, MAX_YEAR + 1)]\n",
    "months = [str(month) for month in range(MIN_MONTH, MAX_MONTH + 1)]\n",
    "attrs = [\n",
    "    '2m_dewpoint_temperature', '2m_temperature', 'evaporation_from_bare_soil', 'skin_reservoir_content', 'skin_temperature',\n",
    "    'snowmelt', 'soil_temperature_level_1', 'soil_temperature_level_2', 'soil_temperature_level_3', 'soil_temperature_level_4',\n",
    "    'surface_net_solar_radiation', 'surface_pressure', 'volumetric_soil_water_layer_1', 'volumetric_soil_water_layer_2', \n",
    "    'volumetric_soil_water_layer_3', 'volumetric_soil_water_layer_4'\n",
    "]\n",
    "hours = [\n",
    "    '00:00', '01:00', '02:00', '03:00', '04:00', '05:00', '06:00', '07:00', '08:00', '09:00', '10:00', '11:00','12:00', '13:00', \n",
    "    '14:00', '15:00', '16:00', '17:00', '18:00', '19:00', '20:00', '21:00', '22:00', '23:00'\n",
    "]\n",
    "\n",
    "db = DataService(PG_DB, PG_ADDR, PG_PORT, PG_USER, PG_PW)\n",
    "conn = db.connect()\n",
    "\n",
    "createTable(db)\n",
    "agRegions, Canada = loadGeometry(conn)\n",
    "\n",
    "for year in years:\n",
    "    for month in months:\n",
    "        numDays = calendar.monthrange(year, month)[1]\n",
    "        days = [str(day) for day in range(1, numDays + 1)]\n",
    "\n",
    "        for day in days:\n",
    "            for hour in hours:\n",
    "                for attr in attrs:\n",
    "                    c.retrieve(\n",
    "                        'reanalysis-era5-land',\n",
    "                        {\n",
    "                            'format': 'grib',\n",
    "                            'variable': [attr],\n",
    "                            'year': year,\n",
    "                            'month': month,\n",
    "                            'day': [day],\n",
    "                            'time': [hour],\n",
    "                            'area': [61, -140, 48, -88],\n",
    "                        },\n",
    "                        'download.grib'\n",
    "                    )\n",
    "\n",
    "                    # read the file, process it, delete it then go onto the next set of data\n",
    "                    grbs = pygrib.open('download.grib')\n",
    "                    processFile(grbs, db, agRegions, year, month, day, hour, attr)\n",
    "                    os.remove('download.grib')"
   ]
  },
  {
   "cell_type": "code",
   "execution_count": null,
   "metadata": {},
   "outputs": [],
   "source": [
    "# print(grbs[1].latlons())\n",
    "# lats, lons = grbs[1].latlons()\n",
    "# print(lats[0][0])\n",
    "# print(lons[0][0])\n",
    "# for lat in lats:\n",
    "#     for lon in lons:\n",
    "#         print()"
   ]
  },
  {
   "cell_type": "code",
   "execution_count": 27,
   "metadata": {},
   "outputs": [
    {
     "name": "stdout",
     "output_type": "stream",
     "text": [
      "891\n",
      "891\n",
      "891\n"
     ]
    }
   ],
   "source": [
    "# data, lat, lon = grbs[1].data()\n",
    "# print(len(data[2]))\n",
    "# print(len(lat[2]))\n",
    "# print(len(lon[2]))\n",
    "# data, lat, lon = grbs[2].data(lat1=70,lon1=-142)\n",
    "# print(lat)\n",
    "\n",
    "\n",
    "#print(grbs[5].values)\n",
    "#print(grbs[5].data(lat1=70,lon1=-142))"
   ]
  },
  {
   "cell_type": "code",
   "execution_count": null,
   "metadata": {},
   "outputs": [],
   "source": [
    "# local_data,lats,lons = grb.data(lat1=y1,lat2=y2,lon1=x1,lon2=x2)"
   ]
  },
  {
   "cell_type": "code",
   "execution_count": null,
   "metadata": {},
   "outputs": [],
   "source": [
    "# grbs= pygrib.open(\"download.grib\")\n",
    "\n",
    "# num = 0\n",
    "# for n in grbs:\n",
    "#     print(n.latlons())\n",
    "#     print(n)\n",
    "#     num += 1\n",
    "\n",
    "# print(num)"
   ]
  }
 ],
 "metadata": {
  "kernelspec": {
   "display_name": "Python 3",
   "language": "python",
   "name": "python3"
  },
  "language_info": {
   "codemirror_mode": {
    "name": "ipython",
    "version": 3
   },
   "file_extension": ".py",
   "mimetype": "text/x-python",
   "name": "python",
   "nbconvert_exporter": "python",
   "pygments_lexer": "ipython3",
   "version": "3.8.10"
  },
  "orig_nbformat": 4
 },
 "nbformat": 4,
 "nbformat_minor": 2
}
