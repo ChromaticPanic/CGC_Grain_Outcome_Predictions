{
 "cells": [
  {
   "cell_type": "code",
   "execution_count": null,
   "metadata": {},
   "outputs": [],
   "source": [
    "import sys\n",
    "import os\n",
    "import pandas as pd\n",
    "\n",
    "from sklearn.model_selection import train_test_split  # type: ignore\n",
    "\n",
    "sys.path.append(\"../\")\n",
    "from Datasets.DataCreation import getDatasetV1, getDatasetV2, getDatasetV3\n",
    "\n",
    "from Datasets.DataTestSplit import splitData"
   ]
  },
  {
   "cell_type": "code",
   "execution_count": null,
   "metadata": {},
   "outputs": [],
   "source": [
    "TARGET = \"has_ergot\"\n",
    "months = [\"1\", \"2\", \"3\", \"4\", \"5\", \"6\", \"7\", \"8\", \"9\"]\n",
    "\n",
    "df = getDatasetV1(months)\n",
    "df[TARGET] = df[TARGET].astype(int)  # 0: Flase, 1: True\n",
    "t = pd.get_dummies(df[\"district\"], drop_first=True)\n",
    "df = pd.concat([df, t], axis=1)\n",
    "df.columns = df.columns.astype(str)\n",
    "df.drop_duplicates(inplace=True)\n",
    "# df.drop([\"severity\"], axis=1, inplace=True)\n",
    "df"
   ]
  },
  {
   "cell_type": "markdown",
   "metadata": {},
   "source": [
    "# split\n"
   ]
  },
  {
   "cell_type": "code",
   "execution_count": null,
   "metadata": {},
   "outputs": [],
   "source": [
    "# devine important variables\n",
    "PIVOT = 2019\n",
    "TARGET = \"has_ergot\"\n",
    "STRATIFIED = False\n",
    "VAL_SIZE = 0.2\n",
    "\n",
    "NOT_USEFUL_FEATUES = [\"year\", \"district\"]"
   ]
  },
  {
   "cell_type": "code",
   "execution_count": null,
   "metadata": {},
   "outputs": [],
   "source": [
    "def splitData2(\n",
    "    df: pd.DataFrame, drop_features: list, target_variable: str\n",
    ") -> tuple[pd.DataFrame, pd.Series]:\n",
    "    if drop_features == None:\n",
    "        drop_features = []\n",
    "\n",
    "        if target_variable in drop_features:\n",
    "            drop_features.remove(TARGET)\n",
    "\n",
    "        if \"year\" in drop_features:\n",
    "            drop_features.remove(\"year\")\n",
    "\n",
    "    df.drop(columns=drop_features, inplace=True)\n",
    "    X = df.drop(columns=[target_variable])\n",
    "    y = df[target_variable]\n",
    "\n",
    "    return X, y"
   ]
  },
  {
   "cell_type": "code",
   "execution_count": null,
   "metadata": {},
   "outputs": [],
   "source": [
    "# train set\n",
    "df_train = df[df[\"year\"] < PIVOT]  # all data before PIVOT\n",
    "X_train_df, y_train_df = splitData2(\n",
    "    df_train, NOT_USEFUL_FEATUES, TARGET\n",
    ")  # split data into X_train_df and y_train_df\n",
    "\n",
    "# test set\n",
    "df_test = df[df[\"year\"] >= PIVOT]  # all data after and including PIVOT\n",
    "X_test, y_test = splitData2(\n",
    "    df_test, NOT_USEFUL_FEATUES, TARGET\n",
    ")  # split data into X and y"
   ]
  },
  {
   "cell_type": "code",
   "execution_count": null,
   "metadata": {},
   "outputs": [],
   "source": [
    "# now train test for validation\n",
    "if STRATIFIED:\n",
    "    X_train, X_val, y_train, y_val = train_test_split(\n",
    "        X_train_df, y_train_df, test_size=VAL_SIZE, random_state=42, stratify=y_train_df\n",
    "    )\n",
    "else:\n",
    "    X_train, X_val, y_train, y_val = train_test_split(\n",
    "        X_train_df, y_train_df, test_size=VAL_SIZE, random_state=42\n",
    "    )"
   ]
  },
  {
   "cell_type": "code",
   "execution_count": null,
   "metadata": {},
   "outputs": [],
   "source": [
    "X_train.shape"
   ]
  },
  {
   "cell_type": "code",
   "execution_count": null,
   "metadata": {},
   "outputs": [],
   "source": []
  },
  {
   "cell_type": "code",
   "execution_count": null,
   "metadata": {},
   "outputs": [],
   "source": [
    "a, b, c, d, e, f = splitData(\n",
    "    df,\n",
    "    drop_features=NOT_USEFUL_FEATUES,\n",
    "    target_variable=TARGET,\n",
    "    pivot=PIVOT,\n",
    "    val_size=0.2,\n",
    "    stratified=True,\n",
    ")"
   ]
  },
  {
   "cell_type": "code",
   "execution_count": null,
   "metadata": {},
   "outputs": [],
   "source": [
    "a.shape"
   ]
  },
  {
   "cell_type": "code",
   "execution_count": null,
   "metadata": {},
   "outputs": [],
   "source": []
  }
 ],
 "metadata": {
  "kernelspec": {
   "display_name": ".venv",
   "language": "python",
   "name": "python3"
  },
  "language_info": {
   "codemirror_mode": {
    "name": "ipython",
    "version": 3
   },
   "file_extension": ".py",
   "mimetype": "text/x-python",
   "name": "python",
   "nbconvert_exporter": "python",
   "pygments_lexer": "ipython3",
   "version": "3.10.6"
  },
  "orig_nbformat": 4
 },
 "nbformat": 4,
 "nbformat_minor": 2
}
