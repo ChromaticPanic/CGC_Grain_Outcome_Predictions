{
 "cells": [
  {
   "cell_type": "code",
   "execution_count": 1,
   "metadata": {},
   "outputs": [
    {
     "name": "stderr",
     "output_type": "stream",
     "text": [
      "/tmp/ipykernel_740987/988212167.py:10: DeprecationWarning: `import pandas_profiling` is going to be deprecated by April 1st. Please use `import ydata_profiling` instead.\n",
      "  from pandas_profiling import ProfileReport\n",
      "2023-07-08 21:36:44.981007: I tensorflow/core/platform/cpu_feature_guard.cc:182] This TensorFlow binary is optimized to use available CPU instructions in performance-critical operations.\n",
      "To enable the following instructions: AVX2 FMA, in other operations, rebuild TensorFlow with the appropriate compiler flags.\n",
      "2023-07-08 21:36:45.478709: W tensorflow/compiler/tf2tensorrt/utils/py_utils.cc:38] TF-TRT Warning: Could not find TensorRT\n"
     ]
    }
   ],
   "source": [
    "import sys\n",
    "import os\n",
    "from dotenv import load_dotenv\n",
    "\n",
    "import numpy as np\n",
    "import pandas as pd\n",
    "import sqlalchemy as sq\n",
    "import matplotlib.pyplot as plt\n",
    "import seaborn as sns\n",
    "from pandas_profiling import ProfileReport\n",
    "from imblearn.over_sampling import RandomOverSampler\n",
    "\n",
    "from sklearn.model_selection import train_test_split\n",
    "from sklearn.preprocessing import StandardScaler, MinMaxScaler\n",
    "from sklearn.metrics import accuracy_score, classification_report, roc_curve, auc\n",
    "\n",
    "import tensorflow\n",
    "from tensorflow import keras\n",
    "from tensorflow.keras import Sequential\n",
    "from tensorflow.keras.layers import Dense\n",
    "\n",
    "\n",
    "\n",
    "sys.path.append(\"../Shared/\")\n",
    "from DataService import DataService"
   ]
  },
  {
   "cell_type": "code",
   "execution_count": 2,
   "metadata": {},
   "outputs": [],
   "source": [
    "from Datasets.DataCreation import getDatasetV1"
   ]
  },
  {
   "attachments": {},
   "cell_type": "markdown",
   "metadata": {},
   "source": [
    "# fetch data from db"
   ]
  },
  {
   "cell_type": "code",
   "execution_count": 3,
   "metadata": {},
   "outputs": [],
   "source": [
    "df = getDatasetV1()\n",
    "df.drop(columns=['year', 'district'], inplace=True)"
   ]
  },
  {
   "cell_type": "code",
   "execution_count": null,
   "metadata": {},
   "outputs": [],
   "source": [
    "# function to update logs\n",
    "def updateLog(fileName: str, message: str) -> None:\n",
    "    try:\n",
    "        if fileName is not None:\n",
    "            with open(fileName, \"a\") as log:\n",
    "                log.write(message + \"\\n\")\n",
    "    except Exception as e:\n",
    "        print(message)"
   ]
  },
  {
   "cell_type": "code",
   "execution_count": null,
   "metadata": {},
   "outputs": [],
   "source": [
    "LOG_FILE = \"/data/pull_moisture.log\"\n",
    "\n",
    "load_dotenv()\n",
    "PG_USER = os.getenv(\"POSTGRES_USER\")\n",
    "PG_PW = os.getenv(\"POSTGRES_PW\")\n",
    "PG_DB = os.getenv(\"POSTGRES_DB\")\n",
    "PG_ADDR = os.getenv(\"POSTGRES_ADDR\")\n",
    "PG_PORT = os.getenv(\"POSTGRES_PORT\")"
   ]
  },
  {
   "cell_type": "code",
   "execution_count": null,
   "metadata": {},
   "outputs": [],
   "source": [
    "if (\n",
    "    PG_DB is None\n",
    "    or PG_ADDR is None\n",
    "    or PG_PORT is None\n",
    "    or PG_USER is None\n",
    "    or PG_PW is None\n",
    "):\n",
    "    updateLog(LOG_FILE, \"Missing database credentials\")\n",
    "    raise ValueError(\"Environment variables are not set\")\n",
    "else:\n",
    "    # connicting to database\n",
    "    db = DataService(PG_DB, PG_ADDR, int(PG_PORT), PG_USER, PG_PW)\n",
    "    conn = db.connect()"
   ]
  },
  {
   "cell_type": "code",
   "execution_count": null,
   "metadata": {},
   "outputs": [],
   "source": [
    "# pulling soil moisture data\n",
    "query = sq.text(\"select * FROM public.agg_soil_moisture\")\n",
    "sm_df = pd.read_sql(query, conn)"
   ]
  },
  {
   "cell_type": "code",
   "execution_count": null,
   "metadata": {},
   "outputs": [],
   "source": [
    "sm_df.drop(columns=[\"index\", \"cr_num\", \"month\", \"day\"], inplace=True)\n",
    "sm_df.head()\n",
    "# sm_df.duplicated().sum() # 0\n",
    "# print(sm_df.shape) #117221"
   ]
  },
  {
   "cell_type": "code",
   "execution_count": null,
   "metadata": {},
   "outputs": [],
   "source": [
    "# sm_df = sm_df.drop_duplicates()"
   ]
  },
  {
   "cell_type": "code",
   "execution_count": null,
   "metadata": {},
   "outputs": [],
   "source": [
    "sm_df.shape"
   ]
  },
  {
   "cell_type": "code",
   "execution_count": null,
   "metadata": {},
   "outputs": [],
   "source": []
  },
  {
   "cell_type": "code",
   "execution_count": null,
   "metadata": {},
   "outputs": [],
   "source": []
  },
  {
   "cell_type": "code",
   "execution_count": null,
   "metadata": {},
   "outputs": [],
   "source": []
  },
  {
   "cell_type": "code",
   "execution_count": null,
   "metadata": {},
   "outputs": [],
   "source": [
    "# pull ergot data\n",
    "query = sq.text(\"select * FROM public.agg_ergot_samples\")\n",
    "ergot_df = pd.read_sql(query, conn)"
   ]
  },
  {
   "cell_type": "code",
   "execution_count": null,
   "metadata": {},
   "outputs": [],
   "source": [
    "ergot_df.shape"
   ]
  },
  {
   "cell_type": "code",
   "execution_count": null,
   "metadata": {},
   "outputs": [],
   "source": []
  },
  {
   "cell_type": "code",
   "execution_count": null,
   "metadata": {},
   "outputs": [],
   "source": [
    "ergot_df.sample(5)"
   ]
  },
  {
   "cell_type": "code",
   "execution_count": null,
   "metadata": {},
   "outputs": [],
   "source": [
    "ergot_df[\"has_ergot\"].value_counts()"
   ]
  },
  {
   "cell_type": "code",
   "execution_count": null,
   "metadata": {},
   "outputs": [],
   "source": [
    "ergot_df.drop(columns=[\"sum_severity\", \"present_in_neighbor\", \"severity_in_neighbor\", \"percnt_true\"], inplace=True)"
   ]
  },
  {
   "cell_type": "code",
   "execution_count": null,
   "metadata": {},
   "outputs": [],
   "source": [
    "ergot_df.duplicated().sum()"
   ]
  },
  {
   "cell_type": "code",
   "execution_count": null,
   "metadata": {},
   "outputs": [],
   "source": [
    "ergot_df = ergot_df.drop_duplicates()"
   ]
  },
  {
   "cell_type": "code",
   "execution_count": null,
   "metadata": {},
   "outputs": [],
   "source": [
    "ergot_df.sample(5)"
   ]
  },
  {
   "cell_type": "code",
   "execution_count": null,
   "metadata": {},
   "outputs": [],
   "source": [
    "ergot_df.shape"
   ]
  },
  {
   "cell_type": "code",
   "execution_count": null,
   "metadata": {},
   "outputs": [],
   "source": []
  },
  {
   "cell_type": "code",
   "execution_count": null,
   "metadata": {},
   "outputs": [],
   "source": []
  },
  {
   "cell_type": "code",
   "execution_count": null,
   "metadata": {},
   "outputs": [],
   "source": [
    "# pull weather data\n",
    "# in case reading csv\n",
    "weather_df = pd.read_csv(\"data/aggregatedDly.csv\")\n",
    "weather_df.shape"
   ]
  },
  {
   "cell_type": "code",
   "execution_count": null,
   "metadata": {},
   "outputs": [],
   "source": [
    "weather_df"
   ]
  },
  {
   "cell_type": "code",
   "execution_count": null,
   "metadata": {},
   "outputs": [],
   "source": [
    "weather_df.drop(weather_df.columns[0], axis=1, inplace=True)"
   ]
  },
  {
   "cell_type": "code",
   "execution_count": null,
   "metadata": {},
   "outputs": [],
   "source": [
    "all_col = weather_df.columns.tolist()\n",
    "uni_col = set()\n",
    "for i in range (2,len(all_col)):\n",
    "    # print(all_col[i].split(\":\")[1])\n",
    "    split_attr_name = all_col[i].split(\"_\")\n",
    "    if \"mean\" in split_attr_name[0]:\n",
    "        uni_col.add(all_col[i].split(\":\")[1])"
   ]
  },
  {
   "cell_type": "code",
   "execution_count": null,
   "metadata": {},
   "outputs": [],
   "source": [
    "uni_col"
   ]
  },
  {
   "cell_type": "code",
   "execution_count": null,
   "metadata": {},
   "outputs": [],
   "source": [
    "new_weather_df = pd.DataFrame()\n",
    "new_weather_df[\"year\"] = weather_df[\"year\"]\n",
    "new_weather_df[\"district\"] = weather_df[\"district\"]\n",
    "for col_name in uni_col:\n",
    "    # col_name = \"max_temp\"\n",
    "    fil_col = weather_df.filter(like=col_name)\n",
    "    new_weather_df[col_name] = fil_col.mean(axis=1)\n",
    "    # weather_df.drop(columns=fil_col.columns, inplace=True)\n"
   ]
  },
  {
   "cell_type": "code",
   "execution_count": null,
   "metadata": {},
   "outputs": [],
   "source": [
    "weather_df.head()"
   ]
  },
  {
   "cell_type": "code",
   "execution_count": null,
   "metadata": {},
   "outputs": [],
   "source": [
    "new_weather_df"
   ]
  },
  {
   "cell_type": "code",
   "execution_count": null,
   "metadata": {},
   "outputs": [],
   "source": []
  },
  {
   "cell_type": "code",
   "execution_count": null,
   "metadata": {},
   "outputs": [],
   "source": [
    "df = pd.merge(ergot_df, weather_df,  on=[\"year\", \"district\"], how=\"left\")"
   ]
  },
  {
   "cell_type": "code",
   "execution_count": null,
   "metadata": {},
   "outputs": [],
   "source": [
    "df.isna().sum()"
   ]
  },
  {
   "cell_type": "code",
   "execution_count": null,
   "metadata": {},
   "outputs": [],
   "source": [
    "df.interpolate(method=\"linear\", limit_direction=\"both\", inplace=True)"
   ]
  },
  {
   "cell_type": "code",
   "execution_count": null,
   "metadata": {},
   "outputs": [],
   "source": [
    "df = pd.merge(df, sm_df, on=[\"year\", \"district\"], how=\"left\")"
   ]
  },
  {
   "cell_type": "code",
   "execution_count": null,
   "metadata": {},
   "outputs": [],
   "source": [
    "df.isna().sum()"
   ]
  },
  {
   "cell_type": "code",
   "execution_count": null,
   "metadata": {},
   "outputs": [],
   "source": [
    "df.interpolate(method=\"linear\", limit_direction=\"both\", inplace=True)"
   ]
  },
  {
   "cell_type": "code",
   "execution_count": null,
   "metadata": {},
   "outputs": [],
   "source": [
    "df.shape"
   ]
  },
  {
   "cell_type": "code",
   "execution_count": null,
   "metadata": {},
   "outputs": [],
   "source": [
    "# # joining tables\n",
    "# # df = pd.merge(sm_df, ergot_df, how=\"inner\", on=[\"year\", \"district\"])\n",
    "# df = pd.merge(sm_df, ergot_df)"
   ]
  },
  {
   "cell_type": "code",
   "execution_count": null,
   "metadata": {},
   "outputs": [],
   "source": [
    "# df.shape"
   ]
  },
  {
   "cell_type": "code",
   "execution_count": null,
   "metadata": {},
   "outputs": [],
   "source": [
    "# df = pd.merge(df, weather_df, on=[\"year\", \"district\"])"
   ]
  },
  {
   "cell_type": "code",
   "execution_count": null,
   "metadata": {},
   "outputs": [],
   "source": [
    "# df.shape"
   ]
  },
  {
   "cell_type": "code",
   "execution_count": null,
   "metadata": {},
   "outputs": [],
   "source": [
    "df.info()"
   ]
  },
  {
   "cell_type": "code",
   "execution_count": null,
   "metadata": {},
   "outputs": [],
   "source": []
  },
  {
   "cell_type": "code",
   "execution_count": null,
   "metadata": {},
   "outputs": [],
   "source": [
    "df"
   ]
  },
  {
   "cell_type": "code",
   "execution_count": null,
   "metadata": {},
   "outputs": [],
   "source": []
  },
  {
   "cell_type": "code",
   "execution_count": null,
   "metadata": {},
   "outputs": [],
   "source": [
    "# temp = pd.merge(ergot_df, weather_df)\n",
    "# temp.columns"
   ]
  },
  {
   "cell_type": "code",
   "execution_count": null,
   "metadata": {},
   "outputs": [],
   "source": [
    "# g = sns.pairplot(temp.sample(1000))"
   ]
  },
  {
   "cell_type": "code",
   "execution_count": null,
   "metadata": {},
   "outputs": [],
   "source": [
    "correlation_matrix = df.corr()\n",
    "# Plot the correlation matrix as a heatmap\n",
    "plt.figure(figsize=(30, 25))\n",
    "sns.heatmap(correlation_matrix, cmap='coolwarm', annot=True)\n",
    "plt.title('Correlation Plot')\n",
    "plt.show()"
   ]
  },
  {
   "cell_type": "code",
   "execution_count": null,
   "metadata": {},
   "outputs": [],
   "source": [
    "# with the following function we can select highly correlated features\n",
    "# it will remove the first feature that is correlated with anything other feature\n",
    "\n",
    "def correlation(dataset, threshold):\n",
    "    col_corr = set()  # Set of all the names of correlated columns\n",
    "    corr_matrix = dataset.corr()\n",
    "    for i in range(len(corr_matrix.columns)):\n",
    "        for j in range(i):\n",
    "            if abs(corr_matrix.iloc[i, j]) > threshold: # we are interested in absolute coeff value\n",
    "                colname = corr_matrix.columns[i]  # getting the name of column\n",
    "                col_corr.add(colname)\n",
    "    return col_corr"
   ]
  },
  {
   "cell_type": "code",
   "execution_count": null,
   "metadata": {},
   "outputs": [],
   "source": [
    "corr_features = correlation(df, 0.8)\n",
    "len(set(corr_features))\n",
    "corr_features"
   ]
  },
  {
   "cell_type": "code",
   "execution_count": null,
   "metadata": {},
   "outputs": [],
   "source": [
    "# df.drop(columns=corr_features, inplace=True)"
   ]
  },
  {
   "cell_type": "code",
   "execution_count": null,
   "metadata": {},
   "outputs": [],
   "source": [
    "# using one hot encoding to change catagorical variable to numarical\n",
    "# df = pd.get_dummies(df, columns=[\"province\"], drop_first=True)"
   ]
  },
  {
   "cell_type": "code",
   "execution_count": null,
   "metadata": {},
   "outputs": [],
   "source": [
    "df.drop(columns=[\"year\", \"district\"], inplace=True)"
   ]
  },
  {
   "cell_type": "code",
   "execution_count": null,
   "metadata": {},
   "outputs": [],
   "source": [
    "df.columns"
   ]
  },
  {
   "attachments": {},
   "cell_type": "markdown",
   "metadata": {},
   "source": [
    "# split data"
   ]
  },
  {
   "cell_type": "code",
   "execution_count": 86,
   "metadata": {},
   "outputs": [],
   "source": [
    "X = df.drop(columns=[\"has_ergot\"])\n",
    "y = df['has_ergot']\n",
    "oversampler = RandomOverSampler(random_state=42)\n",
    "# y = df['has_ergot'].astype(int)\n",
    "X_train, X_test, y_train, y_test = train_test_split(X,y, test_size=0.2, random_state=42, stratify=y)\n",
    "# print(y_train.value_count())\n",
    "X_train, y_train = oversampler.fit_resample(X_train, y_train)"
   ]
  },
  {
   "cell_type": "code",
   "execution_count": 87,
   "metadata": {},
   "outputs": [
    {
     "data": {
      "text/plain": [
       "True     696\n",
       "False    696\n",
       "Name: has_ergot, dtype: int64"
      ]
     },
     "execution_count": 87,
     "metadata": {},
     "output_type": "execute_result"
    }
   ],
   "source": [
    "y_train.value_counts()"
   ]
  },
  {
   "cell_type": "code",
   "execution_count": 40,
   "metadata": {},
   "outputs": [
    {
     "data": {
      "text/plain": [
       "Index(['mean_snow_on_grnd', 'mean_temp', 'mean_total_rain',\n",
       "       'mean_total_precip', 'mean_total_snow'],\n",
       "      dtype='object')"
      ]
     },
     "execution_count": 40,
     "metadata": {},
     "output_type": "execute_result"
    }
   ],
   "source": [
    "X_train.columns"
   ]
  },
  {
   "cell_type": "code",
   "execution_count": 41,
   "metadata": {},
   "outputs": [],
   "source": [
    "# use StandardScaler when we don't know upper bounds\n",
    "scaler = StandardScaler()\n",
    "X_train_scaled = scaler.fit_transform(X_train)\n",
    "X_test_scaled = scaler.transform(X_test)"
   ]
  },
  {
   "cell_type": "code",
   "execution_count": 42,
   "metadata": {},
   "outputs": [
    {
     "data": {
      "text/plain": [
       "(1392, 5)"
      ]
     },
     "execution_count": 42,
     "metadata": {},
     "output_type": "execute_result"
    }
   ],
   "source": [
    "X_train_scaled.shape"
   ]
  },
  {
   "cell_type": "code",
   "execution_count": 43,
   "metadata": {},
   "outputs": [],
   "source": [
    "tensorflow.config.set_visible_devices([], 'GPU')  # Hide GPU devices\n",
    "tensorflow.config.set_visible_devices(tensorflow.config.list_physical_devices('CPU'), 'CPU')  # Show CPU devices\n"
   ]
  },
  {
   "attachments": {},
   "cell_type": "markdown",
   "metadata": {},
   "source": [
    "# creating model"
   ]
  },
  {
   "cell_type": "code",
   "execution_count": 88,
   "metadata": {},
   "outputs": [],
   "source": [
    "model = Sequential()\n",
    "\n",
    "model.add(Dense(5, activation=\"relu\", input_dim = X.shape[1]))\n",
    "model.add(Dense(4, activation=\"relu\"))\n",
    "model.add(Dense(2, activation=\"relu\"))\n",
    "model.add(Dense(1, activation=\"sigmoid\"))\n",
    "# model.add(Dense(1, activation=\"sigmoid\", input_dim = X.shape[1]))"
   ]
  },
  {
   "cell_type": "code",
   "execution_count": 89,
   "metadata": {},
   "outputs": [
    {
     "name": "stdout",
     "output_type": "stream",
     "text": [
      "Model: \"sequential_6\"\n",
      "_________________________________________________________________\n",
      " Layer (type)                Output Shape              Param #   \n",
      "=================================================================\n",
      " dense_18 (Dense)            (None, 5)                 30        \n",
      "                                                                 \n",
      " dense_19 (Dense)            (None, 4)                 24        \n",
      "                                                                 \n",
      " dense_20 (Dense)            (None, 2)                 10        \n",
      "                                                                 \n",
      " dense_21 (Dense)            (None, 1)                 3         \n",
      "                                                                 \n",
      "=================================================================\n",
      "Total params: 67\n",
      "Trainable params: 67\n",
      "Non-trainable params: 0\n",
      "_________________________________________________________________\n"
     ]
    }
   ],
   "source": [
    "model.summary()"
   ]
  },
  {
   "cell_type": "code",
   "execution_count": null,
   "metadata": {},
   "outputs": [],
   "source": []
  },
  {
   "cell_type": "code",
   "execution_count": 90,
   "metadata": {},
   "outputs": [],
   "source": [
    "# compile model\n",
    "model.compile(loss=\"binary_crossentropy\", optimizer=\"Adam\", metrics=[\"accuracy\"])"
   ]
  },
  {
   "cell_type": "code",
   "execution_count": 91,
   "metadata": {},
   "outputs": [
    {
     "name": "stdout",
     "output_type": "stream",
     "text": [
      "Epoch 1/500\n"
     ]
    },
    {
     "name": "stdout",
     "output_type": "stream",
     "text": [
      "35/35 [==============================] - 1s 4ms/step - loss: 0.6917 - accuracy: 0.5903 - val_loss: 0.7035 - val_accuracy: 0.1147\n",
      "Epoch 2/500\n",
      "35/35 [==============================] - 0s 1ms/step - loss: 0.6881 - accuracy: 0.6343 - val_loss: 0.7177 - val_accuracy: 0.0143\n",
      "Epoch 3/500\n",
      "35/35 [==============================] - 0s 1ms/step - loss: 0.6850 - accuracy: 0.6352 - val_loss: 0.7316 - val_accuracy: 0.0143\n",
      "Epoch 4/500\n",
      "35/35 [==============================] - 0s 1ms/step - loss: 0.6823 - accuracy: 0.6298 - val_loss: 0.7445 - val_accuracy: 0.0072\n",
      "Epoch 5/500\n",
      "35/35 [==============================] - 0s 1ms/step - loss: 0.6797 - accuracy: 0.6289 - val_loss: 0.7564 - val_accuracy: 0.0072\n",
      "Epoch 6/500\n",
      "35/35 [==============================] - 0s 2ms/step - loss: 0.6776 - accuracy: 0.6298 - val_loss: 0.7691 - val_accuracy: 0.0072\n",
      "Epoch 7/500\n",
      "35/35 [==============================] - 0s 1ms/step - loss: 0.6754 - accuracy: 0.6280 - val_loss: 0.7809 - val_accuracy: 0.0108\n",
      "Epoch 8/500\n",
      "35/35 [==============================] - 0s 2ms/step - loss: 0.6736 - accuracy: 0.6298 - val_loss: 0.7909 - val_accuracy: 0.0108\n",
      "Epoch 9/500\n",
      "35/35 [==============================] - 0s 1ms/step - loss: 0.6718 - accuracy: 0.6271 - val_loss: 0.8027 - val_accuracy: 0.0036\n",
      "Epoch 10/500\n",
      "35/35 [==============================] - 0s 1ms/step - loss: 0.6703 - accuracy: 0.6262 - val_loss: 0.8132 - val_accuracy: 0.0036\n",
      "Epoch 11/500\n",
      "35/35 [==============================] - 0s 1ms/step - loss: 0.6689 - accuracy: 0.6280 - val_loss: 0.8233 - val_accuracy: 0.0036\n",
      "Epoch 12/500\n",
      "35/35 [==============================] - 0s 2ms/step - loss: 0.6677 - accuracy: 0.6271 - val_loss: 0.8331 - val_accuracy: 0.0036\n",
      "Epoch 13/500\n",
      "35/35 [==============================] - 0s 1ms/step - loss: 0.6665 - accuracy: 0.6271 - val_loss: 0.8410 - val_accuracy: 0.0036\n",
      "Epoch 14/500\n",
      "35/35 [==============================] - 0s 1ms/step - loss: 0.6655 - accuracy: 0.6289 - val_loss: 0.8492 - val_accuracy: 0.0000e+00\n",
      "Epoch 15/500\n",
      "35/35 [==============================] - 0s 1ms/step - loss: 0.6645 - accuracy: 0.6325 - val_loss: 0.8582 - val_accuracy: 0.0108\n",
      "Epoch 16/500\n",
      "35/35 [==============================] - 0s 1ms/step - loss: 0.6637 - accuracy: 0.6325 - val_loss: 0.8647 - val_accuracy: 0.0108\n",
      "Epoch 17/500\n",
      "35/35 [==============================] - 0s 2ms/step - loss: 0.6629 - accuracy: 0.6298 - val_loss: 0.8727 - val_accuracy: 0.0108\n",
      "Epoch 18/500\n",
      "35/35 [==============================] - 0s 2ms/step - loss: 0.6622 - accuracy: 0.6307 - val_loss: 0.8803 - val_accuracy: 0.0108\n",
      "Epoch 19/500\n",
      "35/35 [==============================] - 0s 1ms/step - loss: 0.6616 - accuracy: 0.6325 - val_loss: 0.8863 - val_accuracy: 0.0108\n",
      "Epoch 20/500\n",
      "35/35 [==============================] - 0s 1ms/step - loss: 0.6609 - accuracy: 0.6316 - val_loss: 0.8907 - val_accuracy: 0.0036\n",
      "Epoch 21/500\n",
      "35/35 [==============================] - 0s 1ms/step - loss: 0.6604 - accuracy: 0.6316 - val_loss: 0.8941 - val_accuracy: 0.0108\n",
      "Epoch 22/500\n",
      "35/35 [==============================] - 0s 1ms/step - loss: 0.6598 - accuracy: 0.6325 - val_loss: 0.8984 - val_accuracy: 0.0108\n",
      "Epoch 23/500\n",
      "35/35 [==============================] - 0s 1ms/step - loss: 0.6590 - accuracy: 0.6379 - val_loss: 0.8971 - val_accuracy: 0.0179\n",
      "Epoch 24/500\n",
      "35/35 [==============================] - 0s 1ms/step - loss: 0.6581 - accuracy: 0.6397 - val_loss: 0.8992 - val_accuracy: 0.0179\n",
      "Epoch 25/500\n",
      "35/35 [==============================] - 0s 1ms/step - loss: 0.6576 - accuracy: 0.6388 - val_loss: 0.8998 - val_accuracy: 0.0287\n",
      "Epoch 26/500\n",
      "35/35 [==============================] - 0s 1ms/step - loss: 0.6571 - accuracy: 0.6397 - val_loss: 0.9028 - val_accuracy: 0.0287\n",
      "Epoch 27/500\n",
      "35/35 [==============================] - 0s 2ms/step - loss: 0.6566 - accuracy: 0.6397 - val_loss: 0.9088 - val_accuracy: 0.0287\n",
      "Epoch 28/500\n",
      "35/35 [==============================] - 0s 1ms/step - loss: 0.6561 - accuracy: 0.6397 - val_loss: 0.9136 - val_accuracy: 0.0287\n",
      "Epoch 29/500\n",
      "35/35 [==============================] - 0s 1ms/step - loss: 0.6556 - accuracy: 0.6397 - val_loss: 0.9163 - val_accuracy: 0.0287\n",
      "Epoch 30/500\n",
      "35/35 [==============================] - 0s 1ms/step - loss: 0.6552 - accuracy: 0.6442 - val_loss: 0.9165 - val_accuracy: 0.0538\n",
      "Epoch 31/500\n",
      "35/35 [==============================] - 0s 1ms/step - loss: 0.6547 - accuracy: 0.6442 - val_loss: 0.9202 - val_accuracy: 0.0538\n",
      "Epoch 32/500\n",
      "35/35 [==============================] - 0s 1ms/step - loss: 0.6544 - accuracy: 0.6442 - val_loss: 0.9255 - val_accuracy: 0.0538\n",
      "Epoch 33/500\n",
      "35/35 [==============================] - 0s 2ms/step - loss: 0.6544 - accuracy: 0.6397 - val_loss: 0.9258 - val_accuracy: 0.0538\n",
      "Epoch 34/500\n",
      "35/35 [==============================] - 0s 1ms/step - loss: 0.6536 - accuracy: 0.6433 - val_loss: 0.9303 - val_accuracy: 0.0538\n",
      "Epoch 35/500\n",
      "35/35 [==============================] - 0s 1ms/step - loss: 0.6534 - accuracy: 0.6424 - val_loss: 0.9317 - val_accuracy: 0.0538\n",
      "Epoch 36/500\n",
      "35/35 [==============================] - 0s 1ms/step - loss: 0.6530 - accuracy: 0.6415 - val_loss: 0.9314 - val_accuracy: 0.0573\n",
      "Epoch 37/500\n",
      "35/35 [==============================] - 0s 2ms/step - loss: 0.6530 - accuracy: 0.6415 - val_loss: 0.9361 - val_accuracy: 0.0573\n",
      "Epoch 38/500\n",
      "35/35 [==============================] - 0s 2ms/step - loss: 0.6524 - accuracy: 0.6388 - val_loss: 0.9366 - val_accuracy: 0.0573\n",
      "Epoch 39/500\n",
      "35/35 [==============================] - 0s 2ms/step - loss: 0.6523 - accuracy: 0.6424 - val_loss: 0.9388 - val_accuracy: 0.0573\n",
      "Epoch 40/500\n",
      "35/35 [==============================] - 0s 1ms/step - loss: 0.6520 - accuracy: 0.6388 - val_loss: 0.9390 - val_accuracy: 0.0609\n",
      "Epoch 41/500\n",
      "35/35 [==============================] - 0s 1ms/step - loss: 0.6517 - accuracy: 0.6361 - val_loss: 0.9427 - val_accuracy: 0.0609\n",
      "Epoch 42/500\n",
      "35/35 [==============================] - 0s 2ms/step - loss: 0.6514 - accuracy: 0.6397 - val_loss: 0.9412 - val_accuracy: 0.0681\n",
      "Epoch 43/500\n",
      "35/35 [==============================] - 0s 1ms/step - loss: 0.6513 - accuracy: 0.6406 - val_loss: 0.9472 - val_accuracy: 0.0609\n",
      "Epoch 44/500\n",
      "35/35 [==============================] - 0s 1ms/step - loss: 0.6510 - accuracy: 0.6406 - val_loss: 0.9458 - val_accuracy: 0.0681\n",
      "Epoch 45/500\n",
      "35/35 [==============================] - 0s 1ms/step - loss: 0.6510 - accuracy: 0.6424 - val_loss: 0.9447 - val_accuracy: 0.0753\n",
      "Epoch 46/500\n",
      "35/35 [==============================] - 0s 2ms/step - loss: 0.6508 - accuracy: 0.6406 - val_loss: 0.9516 - val_accuracy: 0.0681\n",
      "Epoch 47/500\n",
      "35/35 [==============================] - 0s 2ms/step - loss: 0.6505 - accuracy: 0.6424 - val_loss: 0.9484 - val_accuracy: 0.0824\n",
      "Epoch 48/500\n",
      "35/35 [==============================] - 0s 1ms/step - loss: 0.6503 - accuracy: 0.6433 - val_loss: 0.9526 - val_accuracy: 0.0753\n",
      "Epoch 49/500\n",
      "35/35 [==============================] - 0s 2ms/step - loss: 0.6501 - accuracy: 0.6442 - val_loss: 0.9542 - val_accuracy: 0.0753\n",
      "Epoch 50/500\n",
      "35/35 [==============================] - 0s 2ms/step - loss: 0.6501 - accuracy: 0.6433 - val_loss: 0.9573 - val_accuracy: 0.0753\n",
      "Epoch 51/500\n",
      "35/35 [==============================] - 0s 1ms/step - loss: 0.6499 - accuracy: 0.6424 - val_loss: 0.9563 - val_accuracy: 0.0824\n",
      "Epoch 52/500\n",
      "35/35 [==============================] - 0s 1ms/step - loss: 0.6499 - accuracy: 0.6424 - val_loss: 0.9561 - val_accuracy: 0.0824\n",
      "Epoch 53/500\n",
      "35/35 [==============================] - 0s 1ms/step - loss: 0.6495 - accuracy: 0.6415 - val_loss: 0.9584 - val_accuracy: 0.0824\n",
      "Epoch 54/500\n",
      "35/35 [==============================] - 0s 2ms/step - loss: 0.6500 - accuracy: 0.6406 - val_loss: 0.9563 - val_accuracy: 0.0824\n",
      "Epoch 55/500\n",
      "35/35 [==============================] - 0s 1ms/step - loss: 0.6493 - accuracy: 0.6451 - val_loss: 0.9618 - val_accuracy: 0.0824\n",
      "Epoch 56/500\n",
      "35/35 [==============================] - 0s 1ms/step - loss: 0.6492 - accuracy: 0.6460 - val_loss: 0.9648 - val_accuracy: 0.0753\n",
      "Epoch 57/500\n",
      "35/35 [==============================] - 0s 1ms/step - loss: 0.6493 - accuracy: 0.6433 - val_loss: 0.9617 - val_accuracy: 0.0860\n",
      "Epoch 58/500\n",
      "35/35 [==============================] - 0s 2ms/step - loss: 0.6491 - accuracy: 0.6478 - val_loss: 0.9677 - val_accuracy: 0.0789\n",
      "Epoch 59/500\n",
      "35/35 [==============================] - 0s 1ms/step - loss: 0.6489 - accuracy: 0.6433 - val_loss: 0.9624 - val_accuracy: 0.0860\n",
      "Epoch 60/500\n",
      "35/35 [==============================] - 0s 1ms/step - loss: 0.6488 - accuracy: 0.6433 - val_loss: 0.9649 - val_accuracy: 0.0860\n",
      "Epoch 61/500\n",
      "35/35 [==============================] - 0s 1ms/step - loss: 0.6486 - accuracy: 0.6487 - val_loss: 0.9667 - val_accuracy: 0.0860\n",
      "Epoch 62/500\n",
      "35/35 [==============================] - 0s 1ms/step - loss: 0.6484 - accuracy: 0.6487 - val_loss: 0.9684 - val_accuracy: 0.0860\n",
      "Epoch 63/500\n",
      "35/35 [==============================] - 0s 2ms/step - loss: 0.6485 - accuracy: 0.6487 - val_loss: 0.9690 - val_accuracy: 0.0860\n",
      "Epoch 64/500\n",
      "35/35 [==============================] - 0s 1ms/step - loss: 0.6483 - accuracy: 0.6514 - val_loss: 0.9660 - val_accuracy: 0.0860\n",
      "Epoch 65/500\n",
      "35/35 [==============================] - 0s 1ms/step - loss: 0.6482 - accuracy: 0.6487 - val_loss: 0.9701 - val_accuracy: 0.0860\n",
      "Epoch 66/500\n",
      "35/35 [==============================] - 0s 1ms/step - loss: 0.6483 - accuracy: 0.6460 - val_loss: 0.9670 - val_accuracy: 0.0824\n",
      "Epoch 67/500\n",
      "35/35 [==============================] - 0s 1ms/step - loss: 0.6483 - accuracy: 0.6451 - val_loss: 0.9698 - val_accuracy: 0.0860\n",
      "Epoch 68/500\n",
      "35/35 [==============================] - 0s 1ms/step - loss: 0.6481 - accuracy: 0.6514 - val_loss: 0.9725 - val_accuracy: 0.0860\n",
      "Epoch 69/500\n",
      "35/35 [==============================] - 0s 1ms/step - loss: 0.6478 - accuracy: 0.6442 - val_loss: 0.9678 - val_accuracy: 0.0860\n",
      "Epoch 70/500\n",
      "35/35 [==============================] - 0s 1ms/step - loss: 0.6478 - accuracy: 0.6451 - val_loss: 0.9704 - val_accuracy: 0.0860\n",
      "Epoch 71/500\n",
      "35/35 [==============================] - 0s 1ms/step - loss: 0.6478 - accuracy: 0.6442 - val_loss: 0.9695 - val_accuracy: 0.0860\n",
      "Epoch 72/500\n",
      "35/35 [==============================] - 0s 1ms/step - loss: 0.6478 - accuracy: 0.6496 - val_loss: 0.9729 - val_accuracy: 0.0860\n",
      "Epoch 73/500\n",
      "35/35 [==============================] - 0s 1ms/step - loss: 0.6476 - accuracy: 0.6469 - val_loss: 0.9703 - val_accuracy: 0.0860\n",
      "Epoch 74/500\n",
      "35/35 [==============================] - 0s 1ms/step - loss: 0.6473 - accuracy: 0.6442 - val_loss: 0.9710 - val_accuracy: 0.0860\n",
      "Epoch 75/500\n",
      "35/35 [==============================] - 0s 1ms/step - loss: 0.6473 - accuracy: 0.6469 - val_loss: 0.9746 - val_accuracy: 0.0860\n",
      "Epoch 76/500\n",
      "35/35 [==============================] - 0s 1ms/step - loss: 0.6472 - accuracy: 0.6442 - val_loss: 0.9737 - val_accuracy: 0.0860\n",
      "Epoch 77/500\n",
      "35/35 [==============================] - 0s 1ms/step - loss: 0.6472 - accuracy: 0.6478 - val_loss: 0.9756 - val_accuracy: 0.0860\n",
      "Epoch 78/500\n",
      "35/35 [==============================] - 0s 2ms/step - loss: 0.6471 - accuracy: 0.6460 - val_loss: 0.9765 - val_accuracy: 0.0860\n",
      "Epoch 79/500\n",
      "35/35 [==============================] - 0s 1ms/step - loss: 0.6469 - accuracy: 0.6460 - val_loss: 0.9696 - val_accuracy: 0.0860\n",
      "Epoch 80/500\n",
      "35/35 [==============================] - 0s 1ms/step - loss: 0.6469 - accuracy: 0.6433 - val_loss: 0.9733 - val_accuracy: 0.0860\n",
      "Epoch 81/500\n",
      "35/35 [==============================] - 0s 1ms/step - loss: 0.6467 - accuracy: 0.6469 - val_loss: 0.9772 - val_accuracy: 0.0860\n",
      "Epoch 82/500\n",
      "35/35 [==============================] - 0s 2ms/step - loss: 0.6468 - accuracy: 0.6424 - val_loss: 0.9729 - val_accuracy: 0.0860\n",
      "Epoch 83/500\n",
      "35/35 [==============================] - 0s 1ms/step - loss: 0.6465 - accuracy: 0.6442 - val_loss: 0.9741 - val_accuracy: 0.0860\n",
      "Epoch 84/500\n",
      "35/35 [==============================] - 0s 1ms/step - loss: 0.6467 - accuracy: 0.6424 - val_loss: 0.9737 - val_accuracy: 0.0860\n",
      "Epoch 85/500\n",
      "35/35 [==============================] - 0s 1ms/step - loss: 0.6464 - accuracy: 0.6442 - val_loss: 0.9752 - val_accuracy: 0.0860\n",
      "Epoch 86/500\n",
      "35/35 [==============================] - 0s 2ms/step - loss: 0.6463 - accuracy: 0.6433 - val_loss: 0.9768 - val_accuracy: 0.0860\n",
      "Epoch 87/500\n",
      "35/35 [==============================] - 0s 1ms/step - loss: 0.6462 - accuracy: 0.6442 - val_loss: 0.9762 - val_accuracy: 0.0860\n",
      "Epoch 88/500\n",
      "35/35 [==============================] - 0s 1ms/step - loss: 0.6462 - accuracy: 0.6424 - val_loss: 0.9732 - val_accuracy: 0.0860\n",
      "Epoch 89/500\n",
      "35/35 [==============================] - 0s 1ms/step - loss: 0.6463 - accuracy: 0.6415 - val_loss: 0.9721 - val_accuracy: 0.0860\n",
      "Epoch 90/500\n",
      "35/35 [==============================] - 0s 1ms/step - loss: 0.6462 - accuracy: 0.6451 - val_loss: 0.9769 - val_accuracy: 0.0860\n",
      "Epoch 91/500\n",
      "35/35 [==============================] - 0s 1ms/step - loss: 0.6459 - accuracy: 0.6424 - val_loss: 0.9742 - val_accuracy: 0.0860\n",
      "Epoch 92/500\n",
      "35/35 [==============================] - 0s 1ms/step - loss: 0.6457 - accuracy: 0.6451 - val_loss: 0.9780 - val_accuracy: 0.0860\n",
      "Epoch 93/500\n",
      "35/35 [==============================] - 0s 2ms/step - loss: 0.6459 - accuracy: 0.6478 - val_loss: 0.9793 - val_accuracy: 0.0860\n",
      "Epoch 94/500\n",
      "35/35 [==============================] - 0s 1ms/step - loss: 0.6459 - accuracy: 0.6433 - val_loss: 0.9761 - val_accuracy: 0.0860\n",
      "Epoch 95/500\n",
      "35/35 [==============================] - 0s 2ms/step - loss: 0.6458 - accuracy: 0.6415 - val_loss: 0.9745 - val_accuracy: 0.0860\n",
      "Epoch 96/500\n",
      "35/35 [==============================] - 0s 1ms/step - loss: 0.6455 - accuracy: 0.6424 - val_loss: 0.9755 - val_accuracy: 0.0860\n",
      "Epoch 97/500\n",
      "35/35 [==============================] - 0s 1ms/step - loss: 0.6457 - accuracy: 0.6442 - val_loss: 0.9740 - val_accuracy: 0.0896\n",
      "Epoch 98/500\n",
      "35/35 [==============================] - 0s 1ms/step - loss: 0.6454 - accuracy: 0.6433 - val_loss: 0.9768 - val_accuracy: 0.0860\n",
      "Epoch 99/500\n",
      "35/35 [==============================] - 0s 2ms/step - loss: 0.6454 - accuracy: 0.6442 - val_loss: 0.9768 - val_accuracy: 0.0860\n",
      "Epoch 100/500\n",
      "35/35 [==============================] - 0s 2ms/step - loss: 0.6454 - accuracy: 0.6451 - val_loss: 0.9787 - val_accuracy: 0.0860\n",
      "Epoch 101/500\n",
      "35/35 [==============================] - 0s 1ms/step - loss: 0.6453 - accuracy: 0.6433 - val_loss: 0.9767 - val_accuracy: 0.0860\n",
      "Epoch 102/500\n",
      "35/35 [==============================] - 0s 2ms/step - loss: 0.6454 - accuracy: 0.6424 - val_loss: 0.9734 - val_accuracy: 0.0896\n",
      "Epoch 103/500\n",
      "35/35 [==============================] - 0s 1ms/step - loss: 0.6452 - accuracy: 0.6424 - val_loss: 0.9783 - val_accuracy: 0.0860\n",
      "Epoch 104/500\n",
      "35/35 [==============================] - 0s 1ms/step - loss: 0.6451 - accuracy: 0.6460 - val_loss: 0.9804 - val_accuracy: 0.0860\n",
      "Epoch 105/500\n",
      "35/35 [==============================] - 0s 1ms/step - loss: 0.6450 - accuracy: 0.6451 - val_loss: 0.9783 - val_accuracy: 0.0860\n",
      "Epoch 106/500\n",
      "35/35 [==============================] - 0s 2ms/step - loss: 0.6450 - accuracy: 0.6442 - val_loss: 0.9771 - val_accuracy: 0.0896\n",
      "Epoch 107/500\n",
      "35/35 [==============================] - 0s 1ms/step - loss: 0.6451 - accuracy: 0.6433 - val_loss: 0.9765 - val_accuracy: 0.0896\n",
      "Epoch 108/500\n",
      "35/35 [==============================] - 0s 1ms/step - loss: 0.6449 - accuracy: 0.6451 - val_loss: 0.9793 - val_accuracy: 0.0860\n",
      "Epoch 109/500\n",
      "35/35 [==============================] - 0s 2ms/step - loss: 0.6450 - accuracy: 0.6433 - val_loss: 0.9773 - val_accuracy: 0.0860\n",
      "Epoch 110/500\n",
      "35/35 [==============================] - 0s 1ms/step - loss: 0.6448 - accuracy: 0.6433 - val_loss: 0.9786 - val_accuracy: 0.0860\n",
      "Epoch 111/500\n",
      "35/35 [==============================] - 0s 1ms/step - loss: 0.6448 - accuracy: 0.6433 - val_loss: 0.9762 - val_accuracy: 0.0896\n",
      "Epoch 112/500\n",
      "35/35 [==============================] - 0s 1ms/step - loss: 0.6447 - accuracy: 0.6460 - val_loss: 0.9808 - val_accuracy: 0.0860\n",
      "Epoch 113/500\n",
      "35/35 [==============================] - 0s 1ms/step - loss: 0.6446 - accuracy: 0.6442 - val_loss: 0.9779 - val_accuracy: 0.0896\n",
      "Epoch 114/500\n",
      "35/35 [==============================] - 0s 2ms/step - loss: 0.6447 - accuracy: 0.6442 - val_loss: 0.9735 - val_accuracy: 0.0968\n",
      "Epoch 115/500\n",
      "35/35 [==============================] - 0s 1ms/step - loss: 0.6444 - accuracy: 0.6451 - val_loss: 0.9784 - val_accuracy: 0.0860\n",
      "Epoch 116/500\n",
      "35/35 [==============================] - 0s 1ms/step - loss: 0.6450 - accuracy: 0.6451 - val_loss: 0.9788 - val_accuracy: 0.0896\n",
      "Epoch 117/500\n",
      "35/35 [==============================] - 0s 1ms/step - loss: 0.6447 - accuracy: 0.6442 - val_loss: 0.9785 - val_accuracy: 0.0896\n",
      "Epoch 118/500\n",
      "35/35 [==============================] - 0s 1ms/step - loss: 0.6443 - accuracy: 0.6451 - val_loss: 0.9798 - val_accuracy: 0.0860\n",
      "Epoch 119/500\n",
      "35/35 [==============================] - 0s 2ms/step - loss: 0.6443 - accuracy: 0.6442 - val_loss: 0.9782 - val_accuracy: 0.0896\n",
      "Epoch 120/500\n",
      "35/35 [==============================] - 0s 1ms/step - loss: 0.6442 - accuracy: 0.6442 - val_loss: 0.9770 - val_accuracy: 0.0896\n",
      "Epoch 121/500\n",
      "35/35 [==============================] - 0s 1ms/step - loss: 0.6442 - accuracy: 0.6442 - val_loss: 0.9778 - val_accuracy: 0.0896\n",
      "Epoch 122/500\n",
      "35/35 [==============================] - 0s 1ms/step - loss: 0.6441 - accuracy: 0.6442 - val_loss: 0.9793 - val_accuracy: 0.0860\n",
      "Epoch 123/500\n",
      "35/35 [==============================] - 0s 1ms/step - loss: 0.6443 - accuracy: 0.6460 - val_loss: 0.9788 - val_accuracy: 0.0896\n",
      "Epoch 124/500\n",
      "35/35 [==============================] - 0s 1ms/step - loss: 0.6441 - accuracy: 0.6451 - val_loss: 0.9803 - val_accuracy: 0.0860\n",
      "Epoch 125/500\n",
      "35/35 [==============================] - 0s 2ms/step - loss: 0.6441 - accuracy: 0.6433 - val_loss: 0.9791 - val_accuracy: 0.0896\n",
      "Epoch 126/500\n",
      "35/35 [==============================] - 0s 2ms/step - loss: 0.6439 - accuracy: 0.6442 - val_loss: 0.9801 - val_accuracy: 0.0896\n",
      "Epoch 127/500\n",
      "35/35 [==============================] - 0s 2ms/step - loss: 0.6439 - accuracy: 0.6442 - val_loss: 0.9791 - val_accuracy: 0.0896\n",
      "Epoch 128/500\n",
      "35/35 [==============================] - 0s 1ms/step - loss: 0.6438 - accuracy: 0.6442 - val_loss: 0.9801 - val_accuracy: 0.0896\n",
      "Epoch 129/500\n",
      "35/35 [==============================] - 0s 1ms/step - loss: 0.6438 - accuracy: 0.6451 - val_loss: 0.9784 - val_accuracy: 0.0896\n",
      "Epoch 130/500\n",
      "35/35 [==============================] - 0s 1ms/step - loss: 0.6438 - accuracy: 0.6451 - val_loss: 0.9788 - val_accuracy: 0.0896\n",
      "Epoch 131/500\n",
      "35/35 [==============================] - 0s 1ms/step - loss: 0.6437 - accuracy: 0.6451 - val_loss: 0.9801 - val_accuracy: 0.0896\n",
      "Epoch 132/500\n",
      "35/35 [==============================] - 0s 1ms/step - loss: 0.6438 - accuracy: 0.6460 - val_loss: 0.9776 - val_accuracy: 0.0968\n",
      "Epoch 133/500\n",
      "35/35 [==============================] - 0s 2ms/step - loss: 0.6437 - accuracy: 0.6451 - val_loss: 0.9792 - val_accuracy: 0.0896\n",
      "Epoch 134/500\n",
      "35/35 [==============================] - 0s 1ms/step - loss: 0.6437 - accuracy: 0.6451 - val_loss: 0.9783 - val_accuracy: 0.0896\n",
      "Epoch 135/500\n",
      "35/35 [==============================] - 0s 2ms/step - loss: 0.6438 - accuracy: 0.6469 - val_loss: 0.9795 - val_accuracy: 0.0896\n",
      "Epoch 136/500\n",
      "35/35 [==============================] - 0s 1ms/step - loss: 0.6436 - accuracy: 0.6451 - val_loss: 0.9800 - val_accuracy: 0.0896\n",
      "Epoch 137/500\n",
      "35/35 [==============================] - 0s 2ms/step - loss: 0.6435 - accuracy: 0.6469 - val_loss: 0.9819 - val_accuracy: 0.0896\n",
      "Epoch 138/500\n",
      "35/35 [==============================] - 0s 2ms/step - loss: 0.6435 - accuracy: 0.6460 - val_loss: 0.9800 - val_accuracy: 0.0896\n",
      "Epoch 139/500\n",
      "35/35 [==============================] - 0s 2ms/step - loss: 0.6433 - accuracy: 0.6451 - val_loss: 0.9808 - val_accuracy: 0.0896\n",
      "Epoch 140/500\n",
      "35/35 [==============================] - 0s 2ms/step - loss: 0.6433 - accuracy: 0.6460 - val_loss: 0.9780 - val_accuracy: 0.0896\n",
      "Epoch 141/500\n",
      "35/35 [==============================] - 0s 2ms/step - loss: 0.6434 - accuracy: 0.6451 - val_loss: 0.9811 - val_accuracy: 0.0896\n",
      "Epoch 142/500\n",
      "35/35 [==============================] - 0s 1ms/step - loss: 0.6431 - accuracy: 0.6460 - val_loss: 0.9795 - val_accuracy: 0.0896\n",
      "Epoch 143/500\n",
      "35/35 [==============================] - 0s 1ms/step - loss: 0.6432 - accuracy: 0.6451 - val_loss: 0.9760 - val_accuracy: 0.0968\n",
      "Epoch 144/500\n",
      "35/35 [==============================] - 0s 1ms/step - loss: 0.6432 - accuracy: 0.6460 - val_loss: 0.9788 - val_accuracy: 0.0896\n",
      "Epoch 145/500\n",
      "35/35 [==============================] - 0s 1ms/step - loss: 0.6430 - accuracy: 0.6451 - val_loss: 0.9795 - val_accuracy: 0.0896\n",
      "Epoch 146/500\n",
      "35/35 [==============================] - 0s 1ms/step - loss: 0.6431 - accuracy: 0.6451 - val_loss: 0.9780 - val_accuracy: 0.0968\n",
      "Epoch 147/500\n",
      "35/35 [==============================] - 0s 1ms/step - loss: 0.6428 - accuracy: 0.6460 - val_loss: 0.9792 - val_accuracy: 0.0896\n",
      "Epoch 148/500\n",
      "35/35 [==============================] - 0s 1ms/step - loss: 0.6431 - accuracy: 0.6442 - val_loss: 0.9814 - val_accuracy: 0.0896\n",
      "Epoch 149/500\n",
      "35/35 [==============================] - 0s 1ms/step - loss: 0.6430 - accuracy: 0.6460 - val_loss: 0.9816 - val_accuracy: 0.0896\n",
      "Epoch 150/500\n",
      "35/35 [==============================] - 0s 1ms/step - loss: 0.6428 - accuracy: 0.6460 - val_loss: 0.9804 - val_accuracy: 0.0896\n",
      "Epoch 151/500\n",
      "35/35 [==============================] - 0s 1ms/step - loss: 0.6429 - accuracy: 0.6460 - val_loss: 0.9795 - val_accuracy: 0.0896\n",
      "Epoch 152/500\n",
      "35/35 [==============================] - 0s 1ms/step - loss: 0.6428 - accuracy: 0.6433 - val_loss: 0.9771 - val_accuracy: 0.0968\n",
      "Epoch 153/500\n",
      "35/35 [==============================] - 0s 2ms/step - loss: 0.6426 - accuracy: 0.6460 - val_loss: 0.9783 - val_accuracy: 0.0968\n",
      "Epoch 154/500\n",
      "35/35 [==============================] - 0s 1ms/step - loss: 0.6426 - accuracy: 0.6460 - val_loss: 0.9801 - val_accuracy: 0.0896\n",
      "Epoch 155/500\n",
      "35/35 [==============================] - 0s 1ms/step - loss: 0.6426 - accuracy: 0.6460 - val_loss: 0.9809 - val_accuracy: 0.0896\n",
      "Epoch 156/500\n",
      "35/35 [==============================] - 0s 1ms/step - loss: 0.6426 - accuracy: 0.6451 - val_loss: 0.9805 - val_accuracy: 0.0896\n",
      "Epoch 157/500\n",
      "35/35 [==============================] - 0s 2ms/step - loss: 0.6425 - accuracy: 0.6451 - val_loss: 0.9771 - val_accuracy: 0.0968\n",
      "Epoch 158/500\n",
      "35/35 [==============================] - 0s 2ms/step - loss: 0.6426 - accuracy: 0.6460 - val_loss: 0.9779 - val_accuracy: 0.0896\n",
      "Epoch 159/500\n",
      "35/35 [==============================] - 0s 1ms/step - loss: 0.6425 - accuracy: 0.6442 - val_loss: 0.9808 - val_accuracy: 0.0896\n",
      "Epoch 160/500\n",
      "35/35 [==============================] - 0s 2ms/step - loss: 0.6424 - accuracy: 0.6460 - val_loss: 0.9809 - val_accuracy: 0.0896\n",
      "Epoch 161/500\n",
      "35/35 [==============================] - 0s 1ms/step - loss: 0.6424 - accuracy: 0.6451 - val_loss: 0.9777 - val_accuracy: 0.0968\n",
      "Epoch 162/500\n",
      "35/35 [==============================] - 0s 1ms/step - loss: 0.6421 - accuracy: 0.6433 - val_loss: 0.9810 - val_accuracy: 0.0896\n",
      "Epoch 163/500\n",
      "35/35 [==============================] - 0s 1ms/step - loss: 0.6423 - accuracy: 0.6451 - val_loss: 0.9820 - val_accuracy: 0.0896\n",
      "Epoch 164/500\n",
      "35/35 [==============================] - 0s 1ms/step - loss: 0.6423 - accuracy: 0.6442 - val_loss: 0.9807 - val_accuracy: 0.0896\n",
      "Epoch 165/500\n",
      "35/35 [==============================] - 0s 2ms/step - loss: 0.6422 - accuracy: 0.6451 - val_loss: 0.9794 - val_accuracy: 0.0896\n",
      "Epoch 166/500\n",
      "35/35 [==============================] - 0s 1ms/step - loss: 0.6423 - accuracy: 0.6442 - val_loss: 0.9808 - val_accuracy: 0.0896\n",
      "Epoch 167/500\n",
      "35/35 [==============================] - 0s 1ms/step - loss: 0.6421 - accuracy: 0.6433 - val_loss: 0.9782 - val_accuracy: 0.0968\n",
      "Epoch 168/500\n",
      "35/35 [==============================] - 0s 2ms/step - loss: 0.6421 - accuracy: 0.6433 - val_loss: 0.9785 - val_accuracy: 0.0968\n",
      "Epoch 169/500\n",
      "35/35 [==============================] - 0s 2ms/step - loss: 0.6420 - accuracy: 0.6442 - val_loss: 0.9792 - val_accuracy: 0.0968\n",
      "Epoch 170/500\n",
      "35/35 [==============================] - 0s 1ms/step - loss: 0.6420 - accuracy: 0.6460 - val_loss: 0.9819 - val_accuracy: 0.0896\n",
      "Epoch 171/500\n",
      "35/35 [==============================] - 0s 1ms/step - loss: 0.6419 - accuracy: 0.6469 - val_loss: 0.9798 - val_accuracy: 0.0896\n",
      "Epoch 172/500\n",
      "35/35 [==============================] - 0s 2ms/step - loss: 0.6420 - accuracy: 0.6460 - val_loss: 0.9809 - val_accuracy: 0.0896\n",
      "Epoch 173/500\n",
      "35/35 [==============================] - 0s 1ms/step - loss: 0.6421 - accuracy: 0.6451 - val_loss: 0.9836 - val_accuracy: 0.0860\n",
      "Epoch 174/500\n",
      "35/35 [==============================] - 0s 2ms/step - loss: 0.6418 - accuracy: 0.6469 - val_loss: 0.9793 - val_accuracy: 0.0968\n",
      "Epoch 175/500\n",
      "35/35 [==============================] - 0s 1ms/step - loss: 0.6418 - accuracy: 0.6460 - val_loss: 0.9779 - val_accuracy: 0.0968\n",
      "Epoch 176/500\n",
      "35/35 [==============================] - 0s 1ms/step - loss: 0.6420 - accuracy: 0.6460 - val_loss: 0.9809 - val_accuracy: 0.0896\n",
      "Epoch 177/500\n",
      "35/35 [==============================] - 0s 1ms/step - loss: 0.6417 - accuracy: 0.6460 - val_loss: 0.9796 - val_accuracy: 0.0896\n",
      "Epoch 178/500\n",
      "35/35 [==============================] - 0s 1ms/step - loss: 0.6418 - accuracy: 0.6442 - val_loss: 0.9791 - val_accuracy: 0.0896\n",
      "Epoch 179/500\n",
      "35/35 [==============================] - 0s 1ms/step - loss: 0.6416 - accuracy: 0.6451 - val_loss: 0.9803 - val_accuracy: 0.0896\n",
      "Epoch 180/500\n",
      "35/35 [==============================] - 0s 1ms/step - loss: 0.6418 - accuracy: 0.6451 - val_loss: 0.9817 - val_accuracy: 0.0896\n",
      "Epoch 181/500\n",
      "35/35 [==============================] - 0s 1ms/step - loss: 0.6418 - accuracy: 0.6469 - val_loss: 0.9838 - val_accuracy: 0.0896\n",
      "Epoch 182/500\n",
      "35/35 [==============================] - 0s 1ms/step - loss: 0.6417 - accuracy: 0.6442 - val_loss: 0.9783 - val_accuracy: 0.0968\n",
      "Epoch 183/500\n",
      "35/35 [==============================] - 0s 1ms/step - loss: 0.6416 - accuracy: 0.6442 - val_loss: 0.9810 - val_accuracy: 0.0896\n",
      "Epoch 184/500\n",
      "35/35 [==============================] - 0s 2ms/step - loss: 0.6416 - accuracy: 0.6442 - val_loss: 0.9801 - val_accuracy: 0.0896\n",
      "Epoch 185/500\n",
      "35/35 [==============================] - 0s 1ms/step - loss: 0.6415 - accuracy: 0.6433 - val_loss: 0.9826 - val_accuracy: 0.0896\n",
      "Epoch 186/500\n",
      "35/35 [==============================] - 0s 1ms/step - loss: 0.6416 - accuracy: 0.6460 - val_loss: 0.9787 - val_accuracy: 0.0968\n",
      "Epoch 187/500\n",
      "35/35 [==============================] - 0s 1ms/step - loss: 0.6418 - accuracy: 0.6451 - val_loss: 0.9795 - val_accuracy: 0.0968\n",
      "Epoch 188/500\n",
      "35/35 [==============================] - 0s 1ms/step - loss: 0.6415 - accuracy: 0.6451 - val_loss: 0.9800 - val_accuracy: 0.0968\n",
      "Epoch 189/500\n",
      "35/35 [==============================] - 0s 2ms/step - loss: 0.6417 - accuracy: 0.6469 - val_loss: 0.9811 - val_accuracy: 0.0896\n",
      "Epoch 190/500\n",
      "35/35 [==============================] - 0s 1ms/step - loss: 0.6415 - accuracy: 0.6460 - val_loss: 0.9799 - val_accuracy: 0.0968\n",
      "Epoch 191/500\n",
      "35/35 [==============================] - 0s 2ms/step - loss: 0.6415 - accuracy: 0.6433 - val_loss: 0.9779 - val_accuracy: 0.0968\n",
      "Epoch 192/500\n",
      "35/35 [==============================] - 0s 1ms/step - loss: 0.6415 - accuracy: 0.6460 - val_loss: 0.9824 - val_accuracy: 0.0896\n",
      "Epoch 193/500\n",
      "35/35 [==============================] - 0s 1ms/step - loss: 0.6414 - accuracy: 0.6469 - val_loss: 0.9807 - val_accuracy: 0.0968\n",
      "Epoch 194/500\n",
      "35/35 [==============================] - 0s 2ms/step - loss: 0.6413 - accuracy: 0.6451 - val_loss: 0.9809 - val_accuracy: 0.0896\n",
      "Epoch 195/500\n",
      "35/35 [==============================] - 0s 2ms/step - loss: 0.6412 - accuracy: 0.6451 - val_loss: 0.9836 - val_accuracy: 0.0896\n",
      "Epoch 196/500\n",
      "35/35 [==============================] - 0s 1ms/step - loss: 0.6414 - accuracy: 0.6460 - val_loss: 0.9805 - val_accuracy: 0.0968\n",
      "Epoch 197/500\n",
      "35/35 [==============================] - 0s 1ms/step - loss: 0.6416 - accuracy: 0.6451 - val_loss: 0.9812 - val_accuracy: 0.0896\n",
      "Epoch 198/500\n",
      "35/35 [==============================] - 0s 2ms/step - loss: 0.6414 - accuracy: 0.6442 - val_loss: 0.9799 - val_accuracy: 0.0968\n",
      "Epoch 199/500\n",
      "35/35 [==============================] - 0s 1ms/step - loss: 0.6411 - accuracy: 0.6424 - val_loss: 0.9846 - val_accuracy: 0.0860\n",
      "Epoch 200/500\n",
      "35/35 [==============================] - 0s 2ms/step - loss: 0.6413 - accuracy: 0.6460 - val_loss: 0.9800 - val_accuracy: 0.0968\n",
      "Epoch 201/500\n",
      "35/35 [==============================] - 0s 1ms/step - loss: 0.6413 - accuracy: 0.6442 - val_loss: 0.9813 - val_accuracy: 0.0968\n",
      "Epoch 202/500\n",
      "35/35 [==============================] - 0s 1ms/step - loss: 0.6413 - accuracy: 0.6442 - val_loss: 0.9817 - val_accuracy: 0.0896\n",
      "Epoch 203/500\n",
      "35/35 [==============================] - 0s 2ms/step - loss: 0.6410 - accuracy: 0.6460 - val_loss: 0.9826 - val_accuracy: 0.0896\n",
      "Epoch 204/500\n",
      "35/35 [==============================] - 0s 2ms/step - loss: 0.6413 - accuracy: 0.6433 - val_loss: 0.9758 - val_accuracy: 0.0968\n",
      "Epoch 205/500\n",
      "35/35 [==============================] - 0s 1ms/step - loss: 0.6410 - accuracy: 0.6442 - val_loss: 0.9794 - val_accuracy: 0.0968\n",
      "Epoch 206/500\n",
      "35/35 [==============================] - 0s 1ms/step - loss: 0.6410 - accuracy: 0.6460 - val_loss: 0.9828 - val_accuracy: 0.0896\n",
      "Epoch 207/500\n",
      "35/35 [==============================] - 0s 1ms/step - loss: 0.6410 - accuracy: 0.6460 - val_loss: 0.9818 - val_accuracy: 0.0896\n",
      "Epoch 208/500\n",
      "35/35 [==============================] - 0s 2ms/step - loss: 0.6411 - accuracy: 0.6451 - val_loss: 0.9814 - val_accuracy: 0.0896\n",
      "Epoch 209/500\n",
      "35/35 [==============================] - 0s 1ms/step - loss: 0.6409 - accuracy: 0.6460 - val_loss: 0.9820 - val_accuracy: 0.0968\n",
      "Epoch 210/500\n",
      "35/35 [==============================] - 0s 1ms/step - loss: 0.6413 - accuracy: 0.6442 - val_loss: 0.9844 - val_accuracy: 0.0896\n",
      "Epoch 211/500\n",
      "35/35 [==============================] - 0s 2ms/step - loss: 0.6412 - accuracy: 0.6451 - val_loss: 0.9846 - val_accuracy: 0.0860\n",
      "Epoch 212/500\n",
      "35/35 [==============================] - 0s 1ms/step - loss: 0.6410 - accuracy: 0.6451 - val_loss: 0.9797 - val_accuracy: 0.0968\n",
      "Epoch 213/500\n",
      "35/35 [==============================] - 0s 1ms/step - loss: 0.6411 - accuracy: 0.6451 - val_loss: 0.9815 - val_accuracy: 0.0968\n",
      "Epoch 214/500\n",
      "35/35 [==============================] - 0s 1ms/step - loss: 0.6410 - accuracy: 0.6424 - val_loss: 0.9837 - val_accuracy: 0.0896\n",
      "Epoch 215/500\n",
      "35/35 [==============================] - 0s 1ms/step - loss: 0.6411 - accuracy: 0.6451 - val_loss: 0.9825 - val_accuracy: 0.0896\n",
      "Epoch 216/500\n",
      "35/35 [==============================] - 0s 2ms/step - loss: 0.6409 - accuracy: 0.6451 - val_loss: 0.9779 - val_accuracy: 0.0968\n",
      "Epoch 217/500\n",
      "35/35 [==============================] - 0s 1ms/step - loss: 0.6408 - accuracy: 0.6460 - val_loss: 0.9818 - val_accuracy: 0.0896\n",
      "Epoch 218/500\n",
      "35/35 [==============================] - 0s 1ms/step - loss: 0.6409 - accuracy: 0.6451 - val_loss: 0.9782 - val_accuracy: 0.0968\n",
      "Epoch 219/500\n",
      "35/35 [==============================] - 0s 2ms/step - loss: 0.6408 - accuracy: 0.6451 - val_loss: 0.9805 - val_accuracy: 0.0968\n",
      "Epoch 220/500\n",
      "35/35 [==============================] - 0s 1ms/step - loss: 0.6409 - accuracy: 0.6451 - val_loss: 0.9816 - val_accuracy: 0.0968\n",
      "Epoch 221/500\n",
      "35/35 [==============================] - 0s 1ms/step - loss: 0.6409 - accuracy: 0.6451 - val_loss: 0.9817 - val_accuracy: 0.0968\n",
      "Epoch 222/500\n",
      "35/35 [==============================] - 0s 1ms/step - loss: 0.6407 - accuracy: 0.6442 - val_loss: 0.9811 - val_accuracy: 0.0968\n",
      "Epoch 223/500\n",
      "35/35 [==============================] - 0s 2ms/step - loss: 0.6408 - accuracy: 0.6433 - val_loss: 0.9798 - val_accuracy: 0.0968\n",
      "Epoch 224/500\n",
      "35/35 [==============================] - 0s 1ms/step - loss: 0.6411 - accuracy: 0.6451 - val_loss: 0.9836 - val_accuracy: 0.0896\n",
      "Epoch 225/500\n",
      "35/35 [==============================] - 0s 1ms/step - loss: 0.6409 - accuracy: 0.6460 - val_loss: 0.9822 - val_accuracy: 0.0968\n",
      "Epoch 226/500\n",
      "35/35 [==============================] - 0s 1ms/step - loss: 0.6408 - accuracy: 0.6460 - val_loss: 0.9835 - val_accuracy: 0.0896\n",
      "Epoch 227/500\n",
      "35/35 [==============================] - 0s 1ms/step - loss: 0.6407 - accuracy: 0.6451 - val_loss: 0.9807 - val_accuracy: 0.0968\n",
      "Epoch 228/500\n",
      "35/35 [==============================] - 0s 1ms/step - loss: 0.6408 - accuracy: 0.6460 - val_loss: 0.9836 - val_accuracy: 0.0896\n",
      "Epoch 229/500\n",
      "35/35 [==============================] - 0s 1ms/step - loss: 0.6411 - accuracy: 0.6424 - val_loss: 0.9765 - val_accuracy: 0.0968\n",
      "Epoch 230/500\n",
      "35/35 [==============================] - 0s 1ms/step - loss: 0.6407 - accuracy: 0.6442 - val_loss: 0.9838 - val_accuracy: 0.0896\n",
      "Epoch 231/500\n",
      "35/35 [==============================] - 0s 1ms/step - loss: 0.6406 - accuracy: 0.6442 - val_loss: 0.9833 - val_accuracy: 0.0896\n",
      "Epoch 232/500\n",
      "35/35 [==============================] - 0s 2ms/step - loss: 0.6405 - accuracy: 0.6451 - val_loss: 0.9851 - val_accuracy: 0.0896\n",
      "Epoch 233/500\n",
      "35/35 [==============================] - 0s 2ms/step - loss: 0.6408 - accuracy: 0.6442 - val_loss: 0.9809 - val_accuracy: 0.0968\n",
      "Epoch 234/500\n",
      "35/35 [==============================] - 0s 2ms/step - loss: 0.6406 - accuracy: 0.6451 - val_loss: 0.9802 - val_accuracy: 0.0968\n",
      "Epoch 235/500\n",
      "35/35 [==============================] - 0s 2ms/step - loss: 0.6405 - accuracy: 0.6451 - val_loss: 0.9829 - val_accuracy: 0.0968\n",
      "Epoch 236/500\n",
      "35/35 [==============================] - 0s 1ms/step - loss: 0.6404 - accuracy: 0.6451 - val_loss: 0.9824 - val_accuracy: 0.0968\n",
      "Epoch 237/500\n",
      "35/35 [==============================] - 0s 2ms/step - loss: 0.6406 - accuracy: 0.6442 - val_loss: 0.9812 - val_accuracy: 0.0968\n",
      "Epoch 238/500\n",
      "35/35 [==============================] - 0s 1ms/step - loss: 0.6404 - accuracy: 0.6451 - val_loss: 0.9811 - val_accuracy: 0.0968\n",
      "Epoch 239/500\n",
      "35/35 [==============================] - 0s 2ms/step - loss: 0.6408 - accuracy: 0.6442 - val_loss: 0.9819 - val_accuracy: 0.0968\n",
      "Epoch 240/500\n",
      "35/35 [==============================] - 0s 1ms/step - loss: 0.6405 - accuracy: 0.6442 - val_loss: 0.9822 - val_accuracy: 0.0968\n",
      "Epoch 241/500\n",
      "35/35 [==============================] - 0s 1ms/step - loss: 0.6405 - accuracy: 0.6451 - val_loss: 0.9804 - val_accuracy: 0.0968\n",
      "Epoch 242/500\n",
      "35/35 [==============================] - 0s 2ms/step - loss: 0.6404 - accuracy: 0.6451 - val_loss: 0.9834 - val_accuracy: 0.0896\n",
      "Epoch 243/500\n",
      "35/35 [==============================] - 0s 2ms/step - loss: 0.6405 - accuracy: 0.6442 - val_loss: 0.9854 - val_accuracy: 0.0896\n",
      "Epoch 244/500\n",
      "35/35 [==============================] - 0s 1ms/step - loss: 0.6405 - accuracy: 0.6451 - val_loss: 0.9807 - val_accuracy: 0.0968\n",
      "Epoch 245/500\n",
      "35/35 [==============================] - 0s 1ms/step - loss: 0.6405 - accuracy: 0.6442 - val_loss: 0.9832 - val_accuracy: 0.0896\n",
      "Epoch 246/500\n",
      "35/35 [==============================] - 0s 2ms/step - loss: 0.6405 - accuracy: 0.6442 - val_loss: 0.9804 - val_accuracy: 0.0968\n",
      "Epoch 247/500\n",
      "35/35 [==============================] - 0s 1ms/step - loss: 0.6403 - accuracy: 0.6442 - val_loss: 0.9822 - val_accuracy: 0.0968\n",
      "Epoch 248/500\n",
      "35/35 [==============================] - 0s 1ms/step - loss: 0.6405 - accuracy: 0.6433 - val_loss: 0.9822 - val_accuracy: 0.0968\n",
      "Epoch 249/500\n",
      "35/35 [==============================] - 0s 2ms/step - loss: 0.6405 - accuracy: 0.6451 - val_loss: 0.9764 - val_accuracy: 0.0968\n",
      "Epoch 250/500\n",
      "35/35 [==============================] - 0s 1ms/step - loss: 0.6404 - accuracy: 0.6451 - val_loss: 0.9792 - val_accuracy: 0.0968\n",
      "Epoch 251/500\n",
      "35/35 [==============================] - 0s 1ms/step - loss: 0.6406 - accuracy: 0.6442 - val_loss: 0.9842 - val_accuracy: 0.0896\n",
      "Epoch 252/500\n",
      "35/35 [==============================] - 0s 1ms/step - loss: 0.6405 - accuracy: 0.6451 - val_loss: 0.9814 - val_accuracy: 0.0968\n",
      "Epoch 253/500\n",
      "35/35 [==============================] - 0s 2ms/step - loss: 0.6403 - accuracy: 0.6451 - val_loss: 0.9809 - val_accuracy: 0.0968\n",
      "Epoch 254/500\n",
      "35/35 [==============================] - 0s 2ms/step - loss: 0.6403 - accuracy: 0.6451 - val_loss: 0.9825 - val_accuracy: 0.0896\n",
      "Epoch 255/500\n",
      "35/35 [==============================] - 0s 2ms/step - loss: 0.6403 - accuracy: 0.6442 - val_loss: 0.9825 - val_accuracy: 0.0896\n",
      "Epoch 256/500\n",
      "35/35 [==============================] - 0s 2ms/step - loss: 0.6404 - accuracy: 0.6442 - val_loss: 0.9816 - val_accuracy: 0.0968\n",
      "Epoch 257/500\n",
      "35/35 [==============================] - 0s 1ms/step - loss: 0.6404 - accuracy: 0.6442 - val_loss: 0.9798 - val_accuracy: 0.0968\n",
      "Epoch 258/500\n",
      "35/35 [==============================] - 0s 1ms/step - loss: 0.6403 - accuracy: 0.6442 - val_loss: 0.9827 - val_accuracy: 0.0968\n",
      "Epoch 259/500\n",
      "35/35 [==============================] - 0s 1ms/step - loss: 0.6403 - accuracy: 0.6451 - val_loss: 0.9839 - val_accuracy: 0.0896\n",
      "Epoch 260/500\n",
      "35/35 [==============================] - 0s 2ms/step - loss: 0.6401 - accuracy: 0.6451 - val_loss: 0.9833 - val_accuracy: 0.0968\n",
      "Epoch 261/500\n",
      "35/35 [==============================] - 0s 1ms/step - loss: 0.6402 - accuracy: 0.6451 - val_loss: 0.9834 - val_accuracy: 0.0896\n",
      "Epoch 262/500\n",
      "35/35 [==============================] - 0s 1ms/step - loss: 0.6401 - accuracy: 0.6442 - val_loss: 0.9840 - val_accuracy: 0.0896\n",
      "Epoch 263/500\n",
      "35/35 [==============================] - 0s 1ms/step - loss: 0.6402 - accuracy: 0.6451 - val_loss: 0.9815 - val_accuracy: 0.0968\n",
      "Epoch 264/500\n",
      "35/35 [==============================] - 0s 2ms/step - loss: 0.6402 - accuracy: 0.6442 - val_loss: 0.9835 - val_accuracy: 0.0896\n",
      "Epoch 265/500\n",
      "35/35 [==============================] - 0s 1ms/step - loss: 0.6405 - accuracy: 0.6451 - val_loss: 0.9829 - val_accuracy: 0.0896\n",
      "Epoch 266/500\n",
      "35/35 [==============================] - 0s 1ms/step - loss: 0.6402 - accuracy: 0.6451 - val_loss: 0.9829 - val_accuracy: 0.0896\n",
      "Epoch 267/500\n",
      "35/35 [==============================] - 0s 2ms/step - loss: 0.6402 - accuracy: 0.6442 - val_loss: 0.9821 - val_accuracy: 0.0968\n",
      "Epoch 268/500\n",
      "35/35 [==============================] - 0s 2ms/step - loss: 0.6401 - accuracy: 0.6442 - val_loss: 0.9844 - val_accuracy: 0.0896\n",
      "Epoch 269/500\n",
      "35/35 [==============================] - 0s 1ms/step - loss: 0.6402 - accuracy: 0.6442 - val_loss: 0.9841 - val_accuracy: 0.0896\n",
      "Epoch 270/500\n",
      "35/35 [==============================] - 0s 1ms/step - loss: 0.6400 - accuracy: 0.6442 - val_loss: 0.9818 - val_accuracy: 0.0968\n",
      "Epoch 271/500\n",
      "35/35 [==============================] - 0s 2ms/step - loss: 0.6401 - accuracy: 0.6442 - val_loss: 0.9816 - val_accuracy: 0.0968\n",
      "Epoch 272/500\n",
      "35/35 [==============================] - 0s 1ms/step - loss: 0.6400 - accuracy: 0.6442 - val_loss: 0.9843 - val_accuracy: 0.0896\n",
      "Epoch 273/500\n",
      "35/35 [==============================] - 0s 1ms/step - loss: 0.6402 - accuracy: 0.6442 - val_loss: 0.9849 - val_accuracy: 0.0896\n",
      "Epoch 274/500\n",
      "35/35 [==============================] - 0s 1ms/step - loss: 0.6404 - accuracy: 0.6433 - val_loss: 0.9865 - val_accuracy: 0.0896\n",
      "Epoch 275/500\n",
      "35/35 [==============================] - 0s 1ms/step - loss: 0.6400 - accuracy: 0.6442 - val_loss: 0.9794 - val_accuracy: 0.0968\n",
      "Epoch 276/500\n",
      "35/35 [==============================] - 0s 1ms/step - loss: 0.6399 - accuracy: 0.6451 - val_loss: 0.9802 - val_accuracy: 0.0968\n",
      "Epoch 277/500\n",
      "35/35 [==============================] - 0s 2ms/step - loss: 0.6399 - accuracy: 0.6451 - val_loss: 0.9828 - val_accuracy: 0.0968\n",
      "Epoch 278/500\n",
      "35/35 [==============================] - 0s 1ms/step - loss: 0.6406 - accuracy: 0.6442 - val_loss: 0.9824 - val_accuracy: 0.0968\n",
      "Epoch 279/500\n",
      "35/35 [==============================] - 0s 1ms/step - loss: 0.6402 - accuracy: 0.6451 - val_loss: 0.9863 - val_accuracy: 0.0896\n",
      "Epoch 280/500\n",
      "35/35 [==============================] - 0s 1ms/step - loss: 0.6400 - accuracy: 0.6442 - val_loss: 0.9813 - val_accuracy: 0.0968\n",
      "Epoch 281/500\n",
      "35/35 [==============================] - 0s 1ms/step - loss: 0.6398 - accuracy: 0.6451 - val_loss: 0.9820 - val_accuracy: 0.0968\n",
      "Epoch 282/500\n",
      "35/35 [==============================] - 0s 1ms/step - loss: 0.6400 - accuracy: 0.6451 - val_loss: 0.9830 - val_accuracy: 0.0968\n",
      "Epoch 283/500\n",
      "35/35 [==============================] - 0s 1ms/step - loss: 0.6399 - accuracy: 0.6451 - val_loss: 0.9839 - val_accuracy: 0.0896\n",
      "Epoch 284/500\n",
      "35/35 [==============================] - 0s 1ms/step - loss: 0.6400 - accuracy: 0.6451 - val_loss: 0.9818 - val_accuracy: 0.0968\n",
      "Epoch 285/500\n",
      "35/35 [==============================] - 0s 1ms/step - loss: 0.6401 - accuracy: 0.6442 - val_loss: 0.9803 - val_accuracy: 0.0968\n",
      "Epoch 286/500\n",
      "35/35 [==============================] - 0s 1ms/step - loss: 0.6400 - accuracy: 0.6451 - val_loss: 0.9837 - val_accuracy: 0.0968\n",
      "Epoch 287/500\n",
      "35/35 [==============================] - 0s 1ms/step - loss: 0.6399 - accuracy: 0.6442 - val_loss: 0.9833 - val_accuracy: 0.0968\n",
      "Epoch 288/500\n",
      "35/35 [==============================] - 0s 1ms/step - loss: 0.6397 - accuracy: 0.6451 - val_loss: 0.9845 - val_accuracy: 0.0896\n",
      "Epoch 289/500\n",
      "35/35 [==============================] - 0s 1ms/step - loss: 0.6398 - accuracy: 0.6442 - val_loss: 0.9843 - val_accuracy: 0.0968\n",
      "Epoch 290/500\n",
      "35/35 [==============================] - 0s 1ms/step - loss: 0.6398 - accuracy: 0.6442 - val_loss: 0.9824 - val_accuracy: 0.0968\n",
      "Epoch 291/500\n",
      "35/35 [==============================] - 0s 1ms/step - loss: 0.6399 - accuracy: 0.6442 - val_loss: 0.9838 - val_accuracy: 0.0968\n",
      "Epoch 292/500\n",
      "35/35 [==============================] - 0s 1ms/step - loss: 0.6398 - accuracy: 0.6442 - val_loss: 0.9879 - val_accuracy: 0.0896\n",
      "Epoch 293/500\n",
      "35/35 [==============================] - 0s 1ms/step - loss: 0.6400 - accuracy: 0.6442 - val_loss: 0.9803 - val_accuracy: 0.0968\n",
      "Epoch 294/500\n",
      "35/35 [==============================] - 0s 1ms/step - loss: 0.6398 - accuracy: 0.6442 - val_loss: 0.9840 - val_accuracy: 0.0896\n",
      "Epoch 295/500\n",
      "35/35 [==============================] - 0s 1ms/step - loss: 0.6399 - accuracy: 0.6451 - val_loss: 0.9826 - val_accuracy: 0.0968\n",
      "Epoch 296/500\n",
      "35/35 [==============================] - 0s 1ms/step - loss: 0.6400 - accuracy: 0.6451 - val_loss: 0.9822 - val_accuracy: 0.0968\n",
      "Epoch 297/500\n",
      "35/35 [==============================] - 0s 1ms/step - loss: 0.6398 - accuracy: 0.6451 - val_loss: 0.9846 - val_accuracy: 0.0896\n",
      "Epoch 298/500\n",
      "35/35 [==============================] - 0s 1ms/step - loss: 0.6398 - accuracy: 0.6442 - val_loss: 0.9814 - val_accuracy: 0.0968\n",
      "Epoch 299/500\n",
      "35/35 [==============================] - 0s 1ms/step - loss: 0.6399 - accuracy: 0.6451 - val_loss: 0.9841 - val_accuracy: 0.0968\n",
      "Epoch 300/500\n",
      "35/35 [==============================] - 0s 1ms/step - loss: 0.6399 - accuracy: 0.6442 - val_loss: 0.9826 - val_accuracy: 0.0968\n",
      "Epoch 301/500\n",
      "35/35 [==============================] - 0s 1ms/step - loss: 0.6398 - accuracy: 0.6442 - val_loss: 0.9820 - val_accuracy: 0.0968\n",
      "Epoch 302/500\n",
      "35/35 [==============================] - 0s 2ms/step - loss: 0.6398 - accuracy: 0.6442 - val_loss: 0.9841 - val_accuracy: 0.0896\n",
      "Epoch 303/500\n",
      "35/35 [==============================] - 0s 1ms/step - loss: 0.6397 - accuracy: 0.6442 - val_loss: 0.9836 - val_accuracy: 0.0896\n",
      "Epoch 304/500\n",
      "35/35 [==============================] - 0s 2ms/step - loss: 0.6398 - accuracy: 0.6442 - val_loss: 0.9841 - val_accuracy: 0.0896\n",
      "Epoch 305/500\n",
      "35/35 [==============================] - 0s 1ms/step - loss: 0.6397 - accuracy: 0.6451 - val_loss: 0.9833 - val_accuracy: 0.0968\n",
      "Epoch 306/500\n",
      "35/35 [==============================] - 0s 2ms/step - loss: 0.6396 - accuracy: 0.6451 - val_loss: 0.9829 - val_accuracy: 0.0968\n",
      "Epoch 307/500\n",
      "35/35 [==============================] - 0s 1ms/step - loss: 0.6396 - accuracy: 0.6451 - val_loss: 0.9839 - val_accuracy: 0.0896\n",
      "Epoch 308/500\n",
      "35/35 [==============================] - 0s 1ms/step - loss: 0.6397 - accuracy: 0.6442 - val_loss: 0.9829 - val_accuracy: 0.0968\n",
      "Epoch 309/500\n",
      "35/35 [==============================] - 0s 1ms/step - loss: 0.6399 - accuracy: 0.6451 - val_loss: 0.9847 - val_accuracy: 0.0896\n",
      "Epoch 310/500\n",
      "35/35 [==============================] - 0s 1ms/step - loss: 0.6397 - accuracy: 0.6451 - val_loss: 0.9849 - val_accuracy: 0.0896\n",
      "Epoch 311/500\n",
      "35/35 [==============================] - 0s 1ms/step - loss: 0.6396 - accuracy: 0.6451 - val_loss: 0.9837 - val_accuracy: 0.0896\n",
      "Epoch 312/500\n",
      "35/35 [==============================] - 0s 2ms/step - loss: 0.6396 - accuracy: 0.6442 - val_loss: 0.9861 - val_accuracy: 0.0896\n",
      "Epoch 313/500\n",
      "35/35 [==============================] - 0s 1ms/step - loss: 0.6397 - accuracy: 0.6442 - val_loss: 0.9822 - val_accuracy: 0.0968\n",
      "Epoch 314/500\n",
      "35/35 [==============================] - 0s 1ms/step - loss: 0.6397 - accuracy: 0.6442 - val_loss: 0.9818 - val_accuracy: 0.0968\n",
      "Epoch 315/500\n",
      "35/35 [==============================] - 0s 2ms/step - loss: 0.6398 - accuracy: 0.6442 - val_loss: 0.9841 - val_accuracy: 0.0968\n",
      "Epoch 316/500\n",
      "35/35 [==============================] - 0s 1ms/step - loss: 0.6395 - accuracy: 0.6451 - val_loss: 0.9828 - val_accuracy: 0.0968\n",
      "Epoch 317/500\n",
      "35/35 [==============================] - 0s 1ms/step - loss: 0.6396 - accuracy: 0.6424 - val_loss: 0.9843 - val_accuracy: 0.0968\n",
      "Epoch 318/500\n",
      "35/35 [==============================] - 0s 2ms/step - loss: 0.6397 - accuracy: 0.6442 - val_loss: 0.9843 - val_accuracy: 0.0968\n",
      "Epoch 319/500\n",
      "35/35 [==============================] - 0s 1ms/step - loss: 0.6396 - accuracy: 0.6442 - val_loss: 0.9847 - val_accuracy: 0.0896\n",
      "Epoch 320/500\n",
      "35/35 [==============================] - 0s 1ms/step - loss: 0.6395 - accuracy: 0.6451 - val_loss: 0.9853 - val_accuracy: 0.0896\n",
      "Epoch 321/500\n",
      "35/35 [==============================] - 0s 1ms/step - loss: 0.6395 - accuracy: 0.6442 - val_loss: 0.9832 - val_accuracy: 0.0968\n",
      "Epoch 322/500\n",
      "35/35 [==============================] - 0s 2ms/step - loss: 0.6396 - accuracy: 0.6442 - val_loss: 0.9845 - val_accuracy: 0.0968\n",
      "Epoch 323/500\n",
      "35/35 [==============================] - 0s 1ms/step - loss: 0.6397 - accuracy: 0.6451 - val_loss: 0.9850 - val_accuracy: 0.0896\n",
      "Epoch 324/500\n",
      "35/35 [==============================] - 0s 1ms/step - loss: 0.6395 - accuracy: 0.6451 - val_loss: 0.9804 - val_accuracy: 0.0968\n",
      "Epoch 325/500\n",
      "35/35 [==============================] - 0s 1ms/step - loss: 0.6395 - accuracy: 0.6451 - val_loss: 0.9826 - val_accuracy: 0.0968\n",
      "Epoch 326/500\n",
      "35/35 [==============================] - 0s 1ms/step - loss: 0.6396 - accuracy: 0.6451 - val_loss: 0.9816 - val_accuracy: 0.0968\n",
      "Epoch 327/500\n",
      "35/35 [==============================] - 0s 1ms/step - loss: 0.6395 - accuracy: 0.6433 - val_loss: 0.9813 - val_accuracy: 0.0968\n",
      "Epoch 328/500\n",
      "35/35 [==============================] - 0s 1ms/step - loss: 0.6395 - accuracy: 0.6433 - val_loss: 0.9819 - val_accuracy: 0.0968\n",
      "Epoch 329/500\n",
      "35/35 [==============================] - 0s 1ms/step - loss: 0.6395 - accuracy: 0.6442 - val_loss: 0.9867 - val_accuracy: 0.0896\n",
      "Epoch 330/500\n",
      "35/35 [==============================] - 0s 2ms/step - loss: 0.6394 - accuracy: 0.6433 - val_loss: 0.9820 - val_accuracy: 0.0968\n",
      "Epoch 331/500\n",
      "35/35 [==============================] - 0s 1ms/step - loss: 0.6396 - accuracy: 0.6442 - val_loss: 0.9872 - val_accuracy: 0.0896\n",
      "Epoch 332/500\n",
      "35/35 [==============================] - 0s 1ms/step - loss: 0.6394 - accuracy: 0.6442 - val_loss: 0.9841 - val_accuracy: 0.0968\n",
      "Epoch 333/500\n",
      "35/35 [==============================] - 0s 1ms/step - loss: 0.6394 - accuracy: 0.6451 - val_loss: 0.9848 - val_accuracy: 0.0896\n",
      "Epoch 334/500\n",
      "35/35 [==============================] - 0s 1ms/step - loss: 0.6394 - accuracy: 0.6433 - val_loss: 0.9802 - val_accuracy: 0.0968\n",
      "Epoch 335/500\n",
      "35/35 [==============================] - 0s 2ms/step - loss: 0.6393 - accuracy: 0.6433 - val_loss: 0.9827 - val_accuracy: 0.0968\n",
      "Epoch 336/500\n",
      "35/35 [==============================] - 0s 2ms/step - loss: 0.6393 - accuracy: 0.6442 - val_loss: 0.9825 - val_accuracy: 0.0968\n",
      "Epoch 337/500\n",
      "35/35 [==============================] - 0s 2ms/step - loss: 0.6392 - accuracy: 0.6442 - val_loss: 0.9802 - val_accuracy: 0.0968\n",
      "Epoch 338/500\n",
      "35/35 [==============================] - 0s 1ms/step - loss: 0.6394 - accuracy: 0.6442 - val_loss: 0.9825 - val_accuracy: 0.0968\n",
      "Epoch 339/500\n",
      "35/35 [==============================] - 0s 1ms/step - loss: 0.6394 - accuracy: 0.6433 - val_loss: 0.9794 - val_accuracy: 0.0968\n",
      "Epoch 340/500\n",
      "35/35 [==============================] - 0s 1ms/step - loss: 0.6394 - accuracy: 0.6415 - val_loss: 0.9812 - val_accuracy: 0.0968\n",
      "Epoch 341/500\n",
      "35/35 [==============================] - 0s 1ms/step - loss: 0.6392 - accuracy: 0.6433 - val_loss: 0.9838 - val_accuracy: 0.0968\n",
      "Epoch 342/500\n",
      "35/35 [==============================] - 0s 1ms/step - loss: 0.6393 - accuracy: 0.6442 - val_loss: 0.9826 - val_accuracy: 0.0968\n",
      "Epoch 343/500\n",
      "35/35 [==============================] - 0s 1ms/step - loss: 0.6394 - accuracy: 0.6442 - val_loss: 0.9817 - val_accuracy: 0.0968\n",
      "Epoch 344/500\n",
      "35/35 [==============================] - 0s 1ms/step - loss: 0.6393 - accuracy: 0.6433 - val_loss: 0.9818 - val_accuracy: 0.0968\n",
      "Epoch 345/500\n",
      "35/35 [==============================] - 0s 1ms/step - loss: 0.6392 - accuracy: 0.6451 - val_loss: 0.9828 - val_accuracy: 0.0968\n",
      "Epoch 346/500\n",
      "35/35 [==============================] - 0s 1ms/step - loss: 0.6392 - accuracy: 0.6442 - val_loss: 0.9831 - val_accuracy: 0.0968\n",
      "Epoch 347/500\n",
      "35/35 [==============================] - 0s 1ms/step - loss: 0.6392 - accuracy: 0.6442 - val_loss: 0.9833 - val_accuracy: 0.0968\n",
      "Epoch 348/500\n",
      "35/35 [==============================] - 0s 1ms/step - loss: 0.6393 - accuracy: 0.6433 - val_loss: 0.9871 - val_accuracy: 0.0896\n",
      "Epoch 349/500\n",
      "35/35 [==============================] - 0s 1ms/step - loss: 0.6393 - accuracy: 0.6451 - val_loss: 0.9811 - val_accuracy: 0.0968\n",
      "Epoch 350/500\n",
      "35/35 [==============================] - 0s 1ms/step - loss: 0.6394 - accuracy: 0.6433 - val_loss: 0.9819 - val_accuracy: 0.0968\n",
      "Epoch 351/500\n",
      "35/35 [==============================] - 0s 1ms/step - loss: 0.6393 - accuracy: 0.6451 - val_loss: 0.9836 - val_accuracy: 0.0896\n",
      "Epoch 352/500\n",
      "35/35 [==============================] - 0s 1ms/step - loss: 0.6394 - accuracy: 0.6451 - val_loss: 0.9801 - val_accuracy: 0.0968\n",
      "Epoch 353/500\n",
      "35/35 [==============================] - 0s 1ms/step - loss: 0.6391 - accuracy: 0.6415 - val_loss: 0.9849 - val_accuracy: 0.0896\n",
      "Epoch 354/500\n",
      "35/35 [==============================] - 0s 1ms/step - loss: 0.6391 - accuracy: 0.6442 - val_loss: 0.9809 - val_accuracy: 0.0968\n",
      "Epoch 355/500\n",
      "35/35 [==============================] - 0s 1ms/step - loss: 0.6390 - accuracy: 0.6433 - val_loss: 0.9812 - val_accuracy: 0.0968\n",
      "Epoch 356/500\n",
      "35/35 [==============================] - 0s 1ms/step - loss: 0.6390 - accuracy: 0.6460 - val_loss: 0.9836 - val_accuracy: 0.0968\n",
      "Epoch 357/500\n",
      "35/35 [==============================] - 0s 1ms/step - loss: 0.6390 - accuracy: 0.6460 - val_loss: 0.9835 - val_accuracy: 0.0896\n",
      "Epoch 358/500\n",
      "35/35 [==============================] - 0s 1ms/step - loss: 0.6392 - accuracy: 0.6433 - val_loss: 0.9882 - val_accuracy: 0.0896\n",
      "Epoch 359/500\n",
      "35/35 [==============================] - 0s 1ms/step - loss: 0.6394 - accuracy: 0.6451 - val_loss: 0.9864 - val_accuracy: 0.0896\n",
      "Epoch 360/500\n",
      "35/35 [==============================] - 0s 2ms/step - loss: 0.6392 - accuracy: 0.6442 - val_loss: 0.9837 - val_accuracy: 0.0896\n",
      "Epoch 361/500\n",
      "35/35 [==============================] - 0s 1ms/step - loss: 0.6391 - accuracy: 0.6451 - val_loss: 0.9812 - val_accuracy: 0.0968\n",
      "Epoch 362/500\n",
      "35/35 [==============================] - 0s 2ms/step - loss: 0.6391 - accuracy: 0.6451 - val_loss: 0.9854 - val_accuracy: 0.0896\n",
      "Epoch 363/500\n",
      "35/35 [==============================] - 0s 1ms/step - loss: 0.6390 - accuracy: 0.6451 - val_loss: 0.9830 - val_accuracy: 0.0968\n",
      "Epoch 364/500\n",
      "35/35 [==============================] - 0s 1ms/step - loss: 0.6391 - accuracy: 0.6442 - val_loss: 0.9818 - val_accuracy: 0.0968\n",
      "Epoch 365/500\n",
      "35/35 [==============================] - 0s 1ms/step - loss: 0.6391 - accuracy: 0.6451 - val_loss: 0.9804 - val_accuracy: 0.0968\n",
      "Epoch 366/500\n",
      "35/35 [==============================] - 0s 2ms/step - loss: 0.6391 - accuracy: 0.6451 - val_loss: 0.9821 - val_accuracy: 0.0968\n",
      "Epoch 367/500\n",
      "35/35 [==============================] - 0s 2ms/step - loss: 0.6389 - accuracy: 0.6433 - val_loss: 0.9842 - val_accuracy: 0.0896\n",
      "Epoch 368/500\n",
      "35/35 [==============================] - 0s 2ms/step - loss: 0.6390 - accuracy: 0.6442 - val_loss: 0.9818 - val_accuracy: 0.0968\n",
      "Epoch 369/500\n",
      "35/35 [==============================] - 0s 1ms/step - loss: 0.6391 - accuracy: 0.6451 - val_loss: 0.9827 - val_accuracy: 0.0968\n",
      "Epoch 370/500\n",
      "35/35 [==============================] - 0s 2ms/step - loss: 0.6390 - accuracy: 0.6442 - val_loss: 0.9841 - val_accuracy: 0.0896\n",
      "Epoch 371/500\n",
      "35/35 [==============================] - 0s 1ms/step - loss: 0.6390 - accuracy: 0.6451 - val_loss: 0.9824 - val_accuracy: 0.0968\n",
      "Epoch 372/500\n",
      "35/35 [==============================] - 0s 2ms/step - loss: 0.6389 - accuracy: 0.6442 - val_loss: 0.9830 - val_accuracy: 0.0968\n",
      "Epoch 373/500\n",
      "35/35 [==============================] - 0s 1ms/step - loss: 0.6389 - accuracy: 0.6442 - val_loss: 0.9823 - val_accuracy: 0.0968\n",
      "Epoch 374/500\n",
      "35/35 [==============================] - 0s 1ms/step - loss: 0.6390 - accuracy: 0.6424 - val_loss: 0.9813 - val_accuracy: 0.0968\n",
      "Epoch 375/500\n",
      "35/35 [==============================] - 0s 1ms/step - loss: 0.6389 - accuracy: 0.6442 - val_loss: 0.9850 - val_accuracy: 0.0896\n",
      "Epoch 376/500\n",
      "35/35 [==============================] - 0s 1ms/step - loss: 0.6389 - accuracy: 0.6460 - val_loss: 0.9846 - val_accuracy: 0.0896\n",
      "Epoch 377/500\n",
      "35/35 [==============================] - 0s 1ms/step - loss: 0.6389 - accuracy: 0.6460 - val_loss: 0.9816 - val_accuracy: 0.1039\n",
      "Epoch 378/500\n",
      "35/35 [==============================] - 0s 1ms/step - loss: 0.6390 - accuracy: 0.6460 - val_loss: 0.9845 - val_accuracy: 0.0968\n",
      "Epoch 379/500\n",
      "35/35 [==============================] - 0s 1ms/step - loss: 0.6388 - accuracy: 0.6451 - val_loss: 0.9835 - val_accuracy: 0.0968\n",
      "Epoch 380/500\n",
      "35/35 [==============================] - 0s 1ms/step - loss: 0.6390 - accuracy: 0.6424 - val_loss: 0.9802 - val_accuracy: 0.1039\n",
      "Epoch 381/500\n",
      "35/35 [==============================] - 0s 1ms/step - loss: 0.6389 - accuracy: 0.6433 - val_loss: 0.9872 - val_accuracy: 0.0896\n",
      "Epoch 382/500\n",
      "35/35 [==============================] - 0s 1ms/step - loss: 0.6389 - accuracy: 0.6442 - val_loss: 0.9840 - val_accuracy: 0.0896\n",
      "Epoch 383/500\n",
      "35/35 [==============================] - 0s 2ms/step - loss: 0.6389 - accuracy: 0.6469 - val_loss: 0.9824 - val_accuracy: 0.1039\n",
      "Epoch 384/500\n",
      "35/35 [==============================] - 0s 1ms/step - loss: 0.6390 - accuracy: 0.6469 - val_loss: 0.9830 - val_accuracy: 0.1039\n",
      "Epoch 385/500\n",
      "35/35 [==============================] - 0s 2ms/step - loss: 0.6390 - accuracy: 0.6451 - val_loss: 0.9821 - val_accuracy: 0.1039\n",
      "Epoch 386/500\n",
      "35/35 [==============================] - 0s 2ms/step - loss: 0.6389 - accuracy: 0.6451 - val_loss: 0.9837 - val_accuracy: 0.1039\n",
      "Epoch 387/500\n",
      "35/35 [==============================] - 0s 1ms/step - loss: 0.6388 - accuracy: 0.6460 - val_loss: 0.9836 - val_accuracy: 0.0968\n",
      "Epoch 388/500\n",
      "35/35 [==============================] - 0s 2ms/step - loss: 0.6388 - accuracy: 0.6442 - val_loss: 0.9841 - val_accuracy: 0.0896\n",
      "Epoch 389/500\n",
      "35/35 [==============================] - 0s 1ms/step - loss: 0.6391 - accuracy: 0.6451 - val_loss: 0.9814 - val_accuracy: 0.1039\n",
      "Epoch 390/500\n",
      "35/35 [==============================] - 0s 1ms/step - loss: 0.6389 - accuracy: 0.6460 - val_loss: 0.9838 - val_accuracy: 0.0896\n",
      "Epoch 391/500\n",
      "35/35 [==============================] - 0s 2ms/step - loss: 0.6388 - accuracy: 0.6451 - val_loss: 0.9813 - val_accuracy: 0.1039\n",
      "Epoch 392/500\n",
      "35/35 [==============================] - 0s 2ms/step - loss: 0.6388 - accuracy: 0.6460 - val_loss: 0.9809 - val_accuracy: 0.1039\n",
      "Epoch 393/500\n",
      "35/35 [==============================] - 0s 1ms/step - loss: 0.6388 - accuracy: 0.6460 - val_loss: 0.9844 - val_accuracy: 0.0896\n",
      "Epoch 394/500\n",
      "35/35 [==============================] - 0s 1ms/step - loss: 0.6388 - accuracy: 0.6451 - val_loss: 0.9832 - val_accuracy: 0.1039\n",
      "Epoch 395/500\n",
      "35/35 [==============================] - 0s 1ms/step - loss: 0.6388 - accuracy: 0.6469 - val_loss: 0.9850 - val_accuracy: 0.0896\n",
      "Epoch 396/500\n",
      "35/35 [==============================] - 0s 1ms/step - loss: 0.6389 - accuracy: 0.6460 - val_loss: 0.9861 - val_accuracy: 0.0896\n",
      "Epoch 397/500\n",
      "35/35 [==============================] - 0s 1ms/step - loss: 0.6388 - accuracy: 0.6460 - val_loss: 0.9836 - val_accuracy: 0.1039\n",
      "Epoch 398/500\n",
      "35/35 [==============================] - 0s 1ms/step - loss: 0.6390 - accuracy: 0.6460 - val_loss: 0.9819 - val_accuracy: 0.1039\n",
      "Epoch 399/500\n",
      "35/35 [==============================] - 0s 1ms/step - loss: 0.6388 - accuracy: 0.6451 - val_loss: 0.9822 - val_accuracy: 0.1039\n",
      "Epoch 400/500\n",
      "35/35 [==============================] - 0s 1ms/step - loss: 0.6388 - accuracy: 0.6442 - val_loss: 0.9840 - val_accuracy: 0.1039\n",
      "Epoch 401/500\n",
      "35/35 [==============================] - 0s 1ms/step - loss: 0.6388 - accuracy: 0.6469 - val_loss: 0.9778 - val_accuracy: 0.1039\n",
      "Epoch 402/500\n",
      "35/35 [==============================] - 0s 2ms/step - loss: 0.6393 - accuracy: 0.6442 - val_loss: 0.9836 - val_accuracy: 0.1039\n",
      "Epoch 403/500\n",
      "35/35 [==============================] - 0s 1ms/step - loss: 0.6388 - accuracy: 0.6478 - val_loss: 0.9810 - val_accuracy: 0.1039\n",
      "Epoch 404/500\n",
      "35/35 [==============================] - 0s 1ms/step - loss: 0.6388 - accuracy: 0.6460 - val_loss: 0.9826 - val_accuracy: 0.1039\n",
      "Epoch 405/500\n",
      "35/35 [==============================] - 0s 2ms/step - loss: 0.6387 - accuracy: 0.6460 - val_loss: 0.9814 - val_accuracy: 0.1039\n",
      "Epoch 406/500\n",
      "35/35 [==============================] - 0s 1ms/step - loss: 0.6386 - accuracy: 0.6442 - val_loss: 0.9852 - val_accuracy: 0.0968\n",
      "Epoch 407/500\n",
      "35/35 [==============================] - 0s 1ms/step - loss: 0.6388 - accuracy: 0.6460 - val_loss: 0.9859 - val_accuracy: 0.0968\n",
      "Epoch 408/500\n",
      "35/35 [==============================] - 0s 1ms/step - loss: 0.6389 - accuracy: 0.6460 - val_loss: 0.9819 - val_accuracy: 0.1039\n",
      "Epoch 409/500\n",
      "35/35 [==============================] - 0s 1ms/step - loss: 0.6387 - accuracy: 0.6460 - val_loss: 0.9814 - val_accuracy: 0.1039\n",
      "Epoch 410/500\n",
      "35/35 [==============================] - 0s 1ms/step - loss: 0.6387 - accuracy: 0.6460 - val_loss: 0.9831 - val_accuracy: 0.1039\n",
      "Epoch 411/500\n",
      "35/35 [==============================] - 0s 1ms/step - loss: 0.6387 - accuracy: 0.6451 - val_loss: 0.9831 - val_accuracy: 0.1039\n",
      "Epoch 412/500\n",
      "35/35 [==============================] - 0s 1ms/step - loss: 0.6391 - accuracy: 0.6460 - val_loss: 0.9830 - val_accuracy: 0.1039\n",
      "Epoch 413/500\n",
      "35/35 [==============================] - 0s 1ms/step - loss: 0.6388 - accuracy: 0.6478 - val_loss: 0.9806 - val_accuracy: 0.1039\n",
      "Epoch 414/500\n",
      "35/35 [==============================] - 0s 1ms/step - loss: 0.6387 - accuracy: 0.6478 - val_loss: 0.9804 - val_accuracy: 0.1039\n",
      "Epoch 415/500\n",
      "35/35 [==============================] - 0s 1ms/step - loss: 0.6387 - accuracy: 0.6460 - val_loss: 0.9831 - val_accuracy: 0.1039\n",
      "Epoch 416/500\n",
      "35/35 [==============================] - 0s 1ms/step - loss: 0.6387 - accuracy: 0.6469 - val_loss: 0.9853 - val_accuracy: 0.1039\n",
      "Epoch 417/500\n",
      "35/35 [==============================] - 0s 2ms/step - loss: 0.6386 - accuracy: 0.6460 - val_loss: 0.9826 - val_accuracy: 0.1039\n",
      "Epoch 418/500\n",
      "35/35 [==============================] - 0s 1ms/step - loss: 0.6388 - accuracy: 0.6451 - val_loss: 0.9832 - val_accuracy: 0.1039\n",
      "Epoch 419/500\n",
      "35/35 [==============================] - 0s 1ms/step - loss: 0.6387 - accuracy: 0.6451 - val_loss: 0.9884 - val_accuracy: 0.0896\n",
      "Epoch 420/500\n",
      "35/35 [==============================] - 0s 1ms/step - loss: 0.6386 - accuracy: 0.6451 - val_loss: 0.9834 - val_accuracy: 0.1039\n",
      "Epoch 421/500\n",
      "35/35 [==============================] - 0s 2ms/step - loss: 0.6387 - accuracy: 0.6487 - val_loss: 0.9872 - val_accuracy: 0.0968\n",
      "Epoch 422/500\n",
      "35/35 [==============================] - 0s 1ms/step - loss: 0.6386 - accuracy: 0.6469 - val_loss: 0.9836 - val_accuracy: 0.1039\n",
      "Epoch 423/500\n",
      "35/35 [==============================] - 0s 1ms/step - loss: 0.6392 - accuracy: 0.6460 - val_loss: 0.9811 - val_accuracy: 0.1039\n",
      "Epoch 424/500\n",
      "35/35 [==============================] - 0s 1ms/step - loss: 0.6388 - accuracy: 0.6496 - val_loss: 0.9844 - val_accuracy: 0.1039\n",
      "Epoch 425/500\n",
      "35/35 [==============================] - 0s 2ms/step - loss: 0.6386 - accuracy: 0.6460 - val_loss: 0.9822 - val_accuracy: 0.1039\n",
      "Epoch 426/500\n",
      "35/35 [==============================] - 0s 1ms/step - loss: 0.6387 - accuracy: 0.6469 - val_loss: 0.9817 - val_accuracy: 0.1039\n",
      "Epoch 427/500\n",
      "35/35 [==============================] - 0s 2ms/step - loss: 0.6387 - accuracy: 0.6460 - val_loss: 0.9864 - val_accuracy: 0.0968\n",
      "Epoch 428/500\n",
      "35/35 [==============================] - 0s 2ms/step - loss: 0.6389 - accuracy: 0.6460 - val_loss: 0.9817 - val_accuracy: 0.1039\n",
      "Epoch 429/500\n",
      "35/35 [==============================] - 0s 2ms/step - loss: 0.6393 - accuracy: 0.6442 - val_loss: 0.9841 - val_accuracy: 0.1039\n",
      "Epoch 430/500\n",
      "35/35 [==============================] - 0s 1ms/step - loss: 0.6387 - accuracy: 0.6478 - val_loss: 0.9804 - val_accuracy: 0.1039\n",
      "Epoch 431/500\n",
      "35/35 [==============================] - 0s 1ms/step - loss: 0.6386 - accuracy: 0.6478 - val_loss: 0.9818 - val_accuracy: 0.1039\n",
      "Epoch 432/500\n",
      "35/35 [==============================] - 0s 1ms/step - loss: 0.6386 - accuracy: 0.6478 - val_loss: 0.9840 - val_accuracy: 0.1039\n",
      "Epoch 433/500\n",
      "35/35 [==============================] - 0s 1ms/step - loss: 0.6387 - accuracy: 0.6460 - val_loss: 0.9826 - val_accuracy: 0.1039\n",
      "Epoch 434/500\n",
      "35/35 [==============================] - 0s 1ms/step - loss: 0.6384 - accuracy: 0.6469 - val_loss: 0.9836 - val_accuracy: 0.1039\n",
      "Epoch 435/500\n",
      "35/35 [==============================] - 0s 1ms/step - loss: 0.6384 - accuracy: 0.6451 - val_loss: 0.9851 - val_accuracy: 0.1039\n",
      "Epoch 436/500\n",
      "35/35 [==============================] - 0s 1ms/step - loss: 0.6386 - accuracy: 0.6469 - val_loss: 0.9822 - val_accuracy: 0.1039\n",
      "Epoch 437/500\n",
      "35/35 [==============================] - 0s 1ms/step - loss: 0.6387 - accuracy: 0.6469 - val_loss: 0.9838 - val_accuracy: 0.1039\n",
      "Epoch 438/500\n",
      "35/35 [==============================] - 0s 2ms/step - loss: 0.6384 - accuracy: 0.6451 - val_loss: 0.9849 - val_accuracy: 0.1039\n",
      "Epoch 439/500\n",
      "35/35 [==============================] - 0s 2ms/step - loss: 0.6385 - accuracy: 0.6478 - val_loss: 0.9822 - val_accuracy: 0.1039\n",
      "Epoch 440/500\n",
      "35/35 [==============================] - 0s 1ms/step - loss: 0.6383 - accuracy: 0.6478 - val_loss: 0.9832 - val_accuracy: 0.1039\n",
      "Epoch 441/500\n",
      "35/35 [==============================] - 0s 1ms/step - loss: 0.6383 - accuracy: 0.6460 - val_loss: 0.9838 - val_accuracy: 0.1039\n",
      "Epoch 442/500\n",
      "35/35 [==============================] - 0s 1ms/step - loss: 0.6384 - accuracy: 0.6469 - val_loss: 0.9830 - val_accuracy: 0.1039\n",
      "Epoch 443/500\n",
      "35/35 [==============================] - 0s 1ms/step - loss: 0.6385 - accuracy: 0.6478 - val_loss: 0.9815 - val_accuracy: 0.1039\n",
      "Epoch 444/500\n",
      "35/35 [==============================] - 0s 1ms/step - loss: 0.6384 - accuracy: 0.6478 - val_loss: 0.9814 - val_accuracy: 0.1039\n",
      "Epoch 445/500\n",
      "35/35 [==============================] - 0s 2ms/step - loss: 0.6384 - accuracy: 0.6469 - val_loss: 0.9844 - val_accuracy: 0.1039\n",
      "Epoch 446/500\n",
      "35/35 [==============================] - 0s 1ms/step - loss: 0.6384 - accuracy: 0.6460 - val_loss: 0.9844 - val_accuracy: 0.1039\n",
      "Epoch 447/500\n",
      "35/35 [==============================] - 0s 2ms/step - loss: 0.6383 - accuracy: 0.6478 - val_loss: 0.9807 - val_accuracy: 0.1039\n",
      "Epoch 448/500\n",
      "35/35 [==============================] - 0s 1ms/step - loss: 0.6383 - accuracy: 0.6478 - val_loss: 0.9838 - val_accuracy: 0.1039\n",
      "Epoch 449/500\n",
      "35/35 [==============================] - 0s 1ms/step - loss: 0.6385 - accuracy: 0.6460 - val_loss: 0.9881 - val_accuracy: 0.0968\n",
      "Epoch 450/500\n",
      "35/35 [==============================] - 0s 1ms/step - loss: 0.6382 - accuracy: 0.6460 - val_loss: 0.9831 - val_accuracy: 0.1039\n",
      "Epoch 451/500\n",
      "35/35 [==============================] - 0s 1ms/step - loss: 0.6387 - accuracy: 0.6478 - val_loss: 0.9806 - val_accuracy: 0.1039\n",
      "Epoch 452/500\n",
      "35/35 [==============================] - 0s 2ms/step - loss: 0.6388 - accuracy: 0.6433 - val_loss: 0.9858 - val_accuracy: 0.1039\n",
      "Epoch 453/500\n",
      "35/35 [==============================] - 0s 1ms/step - loss: 0.6383 - accuracy: 0.6478 - val_loss: 0.9804 - val_accuracy: 0.1039\n",
      "Epoch 454/500\n",
      "35/35 [==============================] - 0s 1ms/step - loss: 0.6389 - accuracy: 0.6451 - val_loss: 0.9765 - val_accuracy: 0.1039\n",
      "Epoch 455/500\n",
      "35/35 [==============================] - 0s 2ms/step - loss: 0.6384 - accuracy: 0.6478 - val_loss: 0.9850 - val_accuracy: 0.1039\n",
      "Epoch 456/500\n",
      "35/35 [==============================] - 0s 1ms/step - loss: 0.6384 - accuracy: 0.6460 - val_loss: 0.9861 - val_accuracy: 0.1039\n",
      "Epoch 457/500\n",
      "35/35 [==============================] - 0s 2ms/step - loss: 0.6383 - accuracy: 0.6460 - val_loss: 0.9816 - val_accuracy: 0.1039\n",
      "Epoch 458/500\n",
      "35/35 [==============================] - 0s 1ms/step - loss: 0.6383 - accuracy: 0.6478 - val_loss: 0.9824 - val_accuracy: 0.1039\n",
      "Epoch 459/500\n",
      "35/35 [==============================] - 0s 2ms/step - loss: 0.6383 - accuracy: 0.6478 - val_loss: 0.9826 - val_accuracy: 0.1039\n",
      "Epoch 460/500\n",
      "35/35 [==============================] - 0s 1ms/step - loss: 0.6383 - accuracy: 0.6469 - val_loss: 0.9824 - val_accuracy: 0.1039\n",
      "Epoch 461/500\n",
      "35/35 [==============================] - 0s 1ms/step - loss: 0.6386 - accuracy: 0.6460 - val_loss: 0.9818 - val_accuracy: 0.1039\n",
      "Epoch 462/500\n",
      "35/35 [==============================] - 0s 2ms/step - loss: 0.6387 - accuracy: 0.6469 - val_loss: 0.9837 - val_accuracy: 0.1039\n",
      "Epoch 463/500\n",
      "35/35 [==============================] - 0s 2ms/step - loss: 0.6383 - accuracy: 0.6478 - val_loss: 0.9825 - val_accuracy: 0.1039\n",
      "Epoch 464/500\n",
      "35/35 [==============================] - 0s 1ms/step - loss: 0.6382 - accuracy: 0.6460 - val_loss: 0.9820 - val_accuracy: 0.1039\n",
      "Epoch 465/500\n",
      "35/35 [==============================] - 0s 1ms/step - loss: 0.6382 - accuracy: 0.6469 - val_loss: 0.9826 - val_accuracy: 0.1039\n",
      "Epoch 466/500\n",
      "35/35 [==============================] - 0s 1ms/step - loss: 0.6381 - accuracy: 0.6478 - val_loss: 0.9842 - val_accuracy: 0.1039\n",
      "Epoch 467/500\n",
      "35/35 [==============================] - 0s 2ms/step - loss: 0.6382 - accuracy: 0.6469 - val_loss: 0.9824 - val_accuracy: 0.1039\n",
      "Epoch 468/500\n",
      "35/35 [==============================] - 0s 1ms/step - loss: 0.6381 - accuracy: 0.6469 - val_loss: 0.9813 - val_accuracy: 0.1039\n",
      "Epoch 469/500\n",
      "35/35 [==============================] - 0s 1ms/step - loss: 0.6382 - accuracy: 0.6460 - val_loss: 0.9795 - val_accuracy: 0.1039\n",
      "Epoch 470/500\n",
      "35/35 [==============================] - 0s 2ms/step - loss: 0.6381 - accuracy: 0.6460 - val_loss: 0.9805 - val_accuracy: 0.1039\n",
      "Epoch 471/500\n",
      "35/35 [==============================] - 0s 1ms/step - loss: 0.6383 - accuracy: 0.6451 - val_loss: 0.9807 - val_accuracy: 0.1039\n",
      "Epoch 472/500\n",
      "35/35 [==============================] - 0s 1ms/step - loss: 0.6386 - accuracy: 0.6469 - val_loss: 0.9860 - val_accuracy: 0.1039\n",
      "Epoch 473/500\n",
      "35/35 [==============================] - 0s 2ms/step - loss: 0.6384 - accuracy: 0.6487 - val_loss: 0.9844 - val_accuracy: 0.1039\n",
      "Epoch 474/500\n",
      "35/35 [==============================] - 0s 2ms/step - loss: 0.6381 - accuracy: 0.6469 - val_loss: 0.9837 - val_accuracy: 0.1039\n",
      "Epoch 475/500\n",
      "35/35 [==============================] - 0s 1ms/step - loss: 0.6381 - accuracy: 0.6496 - val_loss: 0.9846 - val_accuracy: 0.1039\n",
      "Epoch 476/500\n",
      "35/35 [==============================] - 0s 1ms/step - loss: 0.6380 - accuracy: 0.6469 - val_loss: 0.9838 - val_accuracy: 0.1039\n",
      "Epoch 477/500\n",
      "35/35 [==============================] - 0s 1ms/step - loss: 0.6381 - accuracy: 0.6469 - val_loss: 0.9829 - val_accuracy: 0.1039\n",
      "Epoch 478/500\n",
      "35/35 [==============================] - 0s 1ms/step - loss: 0.6380 - accuracy: 0.6469 - val_loss: 0.9830 - val_accuracy: 0.1039\n",
      "Epoch 479/500\n",
      "35/35 [==============================] - 0s 1ms/step - loss: 0.6380 - accuracy: 0.6478 - val_loss: 0.9852 - val_accuracy: 0.1039\n",
      "Epoch 480/500\n",
      "35/35 [==============================] - 0s 1ms/step - loss: 0.6379 - accuracy: 0.6469 - val_loss: 0.9821 - val_accuracy: 0.1039\n",
      "Epoch 481/500\n",
      "35/35 [==============================] - 0s 1ms/step - loss: 0.6381 - accuracy: 0.6487 - val_loss: 0.9811 - val_accuracy: 0.1039\n",
      "Epoch 482/500\n",
      "35/35 [==============================] - 0s 1ms/step - loss: 0.6380 - accuracy: 0.6469 - val_loss: 0.9825 - val_accuracy: 0.1039\n",
      "Epoch 483/500\n",
      "35/35 [==============================] - 0s 2ms/step - loss: 0.6380 - accuracy: 0.6460 - val_loss: 0.9795 - val_accuracy: 0.1039\n",
      "Epoch 484/500\n",
      "35/35 [==============================] - 0s 2ms/step - loss: 0.6380 - accuracy: 0.6487 - val_loss: 0.9847 - val_accuracy: 0.1039\n",
      "Epoch 485/500\n",
      "35/35 [==============================] - 0s 1ms/step - loss: 0.6380 - accuracy: 0.6487 - val_loss: 0.9811 - val_accuracy: 0.1039\n",
      "Epoch 486/500\n",
      "35/35 [==============================] - 0s 2ms/step - loss: 0.6380 - accuracy: 0.6460 - val_loss: 0.9828 - val_accuracy: 0.1039\n",
      "Epoch 487/500\n",
      "35/35 [==============================] - 0s 1ms/step - loss: 0.6379 - accuracy: 0.6478 - val_loss: 0.9844 - val_accuracy: 0.1039\n",
      "Epoch 488/500\n",
      "35/35 [==============================] - 0s 1ms/step - loss: 0.6380 - accuracy: 0.6451 - val_loss: 0.9837 - val_accuracy: 0.1039\n",
      "Epoch 489/500\n",
      "35/35 [==============================] - 0s 2ms/step - loss: 0.6380 - accuracy: 0.6469 - val_loss: 0.9782 - val_accuracy: 0.1039\n",
      "Epoch 490/500\n",
      "35/35 [==============================] - 0s 1ms/step - loss: 0.6379 - accuracy: 0.6487 - val_loss: 0.9859 - val_accuracy: 0.1039\n",
      "Epoch 491/500\n",
      "35/35 [==============================] - 0s 1ms/step - loss: 0.6378 - accuracy: 0.6487 - val_loss: 0.9837 - val_accuracy: 0.1039\n",
      "Epoch 492/500\n",
      "35/35 [==============================] - 0s 1ms/step - loss: 0.6379 - accuracy: 0.6487 - val_loss: 0.9847 - val_accuracy: 0.1039\n",
      "Epoch 493/500\n",
      "35/35 [==============================] - 0s 1ms/step - loss: 0.6388 - accuracy: 0.6442 - val_loss: 0.9791 - val_accuracy: 0.1039\n",
      "Epoch 494/500\n",
      "35/35 [==============================] - 0s 1ms/step - loss: 0.6379 - accuracy: 0.6469 - val_loss: 0.9830 - val_accuracy: 0.1039\n",
      "Epoch 495/500\n",
      "35/35 [==============================] - 0s 1ms/step - loss: 0.6379 - accuracy: 0.6469 - val_loss: 0.9831 - val_accuracy: 0.1039\n",
      "Epoch 496/500\n",
      "35/35 [==============================] - 0s 1ms/step - loss: 0.6379 - accuracy: 0.6460 - val_loss: 0.9831 - val_accuracy: 0.1039\n",
      "Epoch 497/500\n",
      "35/35 [==============================] - 0s 1ms/step - loss: 0.6378 - accuracy: 0.6478 - val_loss: 0.9853 - val_accuracy: 0.1039\n",
      "Epoch 498/500\n",
      "35/35 [==============================] - 0s 2ms/step - loss: 0.6378 - accuracy: 0.6469 - val_loss: 0.9819 - val_accuracy: 0.1039\n",
      "Epoch 499/500\n",
      "35/35 [==============================] - 0s 1ms/step - loss: 0.6379 - accuracy: 0.6469 - val_loss: 0.9859 - val_accuracy: 0.1039\n",
      "Epoch 500/500\n",
      "35/35 [==============================] - 0s 2ms/step - loss: 0.6379 - accuracy: 0.6478 - val_loss: 0.9832 - val_accuracy: 0.1039\n"
     ]
    }
   ],
   "source": [
    "history = model.fit(X_train_scaled, y_train, epochs=500, validation_split=0.2, shuffle=True, batch_size=32)"
   ]
  },
  {
   "cell_type": "code",
   "execution_count": 92,
   "metadata": {},
   "outputs": [
    {
     "data": {
      "text/plain": [
       "[<tf.Variable 'dense_18/kernel:0' shape=(5, 5) dtype=float32, numpy=\n",
       " array([[-0.2852873 , -0.5949433 ,  0.7933532 , -0.5039516 , -0.49448028],\n",
       "        [-0.96737933, -0.9190838 ,  0.8536706 ,  0.02416801,  0.57110804],\n",
       "        [-0.31566098, -0.7497304 , -1.211123  ,  0.937392  ,  0.50967485],\n",
       "        [ 0.23882283, -1.1429625 , -0.8060526 ,  0.16850577,  0.5016366 ],\n",
       "        [-1.0834141 ,  0.13687   ,  0.04608103, -0.52735305,  1.0699918 ]],\n",
       "       dtype=float32)>,\n",
       " <tf.Variable 'dense_18/bias:0' shape=(5,) dtype=float32, numpy=\n",
       " array([-0.24976452,  0.0729186 , -0.06166737, -0.5968812 , -0.01237831],\n",
       "       dtype=float32)>,\n",
       " <tf.Variable 'dense_19/kernel:0' shape=(5, 4) dtype=float32, numpy=\n",
       " array([[ 0.6413814 , -0.61802644,  1.2150955 , -0.7410788 ],\n",
       "        [ 0.7528752 ,  1.5539103 ,  2.7413056 , -0.8549677 ],\n",
       "        [ 1.1959124 , -0.5889856 , -1.2742745 , -1.2293457 ],\n",
       "        [-0.93745226,  0.43413782, -1.8030541 ,  0.290858  ],\n",
       "        [-0.80308276,  0.01498992,  0.14668132,  0.48994544]],\n",
       "       dtype=float32)>,\n",
       " <tf.Variable 'dense_19/bias:0' shape=(4,) dtype=float32, numpy=array([ 0.10283583,  0.43677267, -0.21108451,  0.16160782], dtype=float32)>,\n",
       " <tf.Variable 'dense_20/kernel:0' shape=(4, 2) dtype=float32, numpy=\n",
       " array([[-2.9561822 , -0.61099744],\n",
       "        [-2.911633  , -0.07085282],\n",
       "        [ 0.9762705 , -2.0607448 ],\n",
       "        [-2.3846695 ,  0.44492233]], dtype=float32)>,\n",
       " <tf.Variable 'dense_20/bias:0' shape=(2,) dtype=float32, numpy=array([ 0.83310145, -0.07265844], dtype=float32)>,\n",
       " <tf.Variable 'dense_21/kernel:0' shape=(2, 1) dtype=float32, numpy=\n",
       " array([[-7.6271434],\n",
       "        [-1.13947  ]], dtype=float32)>,\n",
       " <tf.Variable 'dense_21/bias:0' shape=(1,) dtype=float32, numpy=array([0.68383926], dtype=float32)>]"
      ]
     },
     "execution_count": 92,
     "metadata": {},
     "output_type": "execute_result"
    }
   ],
   "source": [
    "model.weights"
   ]
  },
  {
   "cell_type": "code",
   "execution_count": 93,
   "metadata": {},
   "outputs": [
    {
     "name": "stdout",
     "output_type": "stream",
     "text": [
      "7/7 [==============================] - 0s 609us/step\n"
     ]
    }
   ],
   "source": [
    "y_pred = model.predict(X_test_scaled)"
   ]
  },
  {
   "cell_type": "code",
   "execution_count": 94,
   "metadata": {},
   "outputs": [],
   "source": [
    "threshhold = 0.8\n",
    "y_pred = np.where(y_pred > threshhold, True, False)\n",
    "\n",
    "# y_test = y_test.to_numpy()\n",
    "# type(y_pred)"
   ]
  },
  {
   "cell_type": "code",
   "execution_count": 95,
   "metadata": {},
   "outputs": [
    {
     "data": {
      "text/plain": [
       "0.18309859154929578"
      ]
     },
     "execution_count": 95,
     "metadata": {},
     "output_type": "execute_result"
    }
   ],
   "source": [
    "accuracy_score(y_test, y_pred)"
   ]
  },
  {
   "cell_type": "code",
   "execution_count": 96,
   "metadata": {},
   "outputs": [
    {
     "data": {
      "text/plain": [
       "<matplotlib.legend.Legend at 0x7fed58f78b50>"
      ]
     },
     "execution_count": 96,
     "metadata": {},
     "output_type": "execute_result"
    },
    {
     "data": {
      "image/png": "[encoded data removed]",
      "text/plain": [
       "<Figure size 640x480 with 1 Axes>"
      ]
     },
     "metadata": {},
     "output_type": "display_data"
    }
   ],
   "source": [
    "plt.plot(history.history[\"loss\"], label=\"Training Loss\")\n",
    "plt.plot(history.history[\"val_loss\"], label=\"Val Loss\")\n",
    "plt.legend()"
   ]
  },
  {
   "cell_type": "code",
   "execution_count": 97,
   "metadata": {},
   "outputs": [
    {
     "data": {
      "text/plain": [
       "<matplotlib.legend.Legend at 0x7fed58fbe500>"
      ]
     },
     "execution_count": 97,
     "metadata": {},
     "output_type": "execute_result"
    },
    {
     "data": {
      "image/png": "[encoded data removed]",
      "text/plain": [
       "<Figure size 640x480 with 1 Axes>"
      ]
     },
     "metadata": {},
     "output_type": "display_data"
    }
   ],
   "source": [
    "plt.plot(history.history[\"accuracy\"], label=\"Training Accuracy\")\n",
    "plt.plot(history.history[\"val_accuracy\"], label=\"Val Accuracy\")\n",
    "plt.legend()"
   ]
  },
  {
   "cell_type": "code",
   "execution_count": 98,
   "metadata": {},
   "outputs": [
    {
     "name": "stdout",
     "output_type": "stream",
     "text": [
      "              precision    recall  f1-score   support\n",
      "\n",
      "       False       0.18      1.00      0.31        39\n",
      "        True       0.00      0.00      0.00       174\n",
      "\n",
      "    accuracy                           0.18       213\n",
      "   macro avg       0.09      0.50      0.15       213\n",
      "weighted avg       0.03      0.18      0.06       213\n",
      "\n"
     ]
    },
    {
     "name": "stderr",
     "output_type": "stream",
     "text": [
      "/home/student/dodhiajk/CGC_Grain_Outcome_Predictions/.venv/lib/python3.10/site-packages/sklearn/metrics/_classification.py:1344: UndefinedMetricWarning: Precision and F-score are ill-defined and being set to 0.0 in labels with no predicted samples. Use `zero_division` parameter to control this behavior.\n",
      "  _warn_prf(average, modifier, msg_start, len(result))\n",
      "/home/student/dodhiajk/CGC_Grain_Outcome_Predictions/.venv/lib/python3.10/site-packages/sklearn/metrics/_classification.py:1344: UndefinedMetricWarning: Precision and F-score are ill-defined and being set to 0.0 in labels with no predicted samples. Use `zero_division` parameter to control this behavior.\n",
      "  _warn_prf(average, modifier, msg_start, len(result))\n",
      "/home/student/dodhiajk/CGC_Grain_Outcome_Predictions/.venv/lib/python3.10/site-packages/sklearn/metrics/_classification.py:1344: UndefinedMetricWarning: Precision and F-score are ill-defined and being set to 0.0 in labels with no predicted samples. Use `zero_division` parameter to control this behavior.\n",
      "  _warn_prf(average, modifier, msg_start, len(result))\n"
     ]
    }
   ],
   "source": [
    "print(classification_report(y_test, y_pred))"
   ]
  },
  {
   "cell_type": "code",
   "execution_count": 99,
   "metadata": {},
   "outputs": [
    {
     "name": "stdout",
     "output_type": "stream",
     "text": [
      "0.5\n"
     ]
    },
    {
     "data": {
      "image/png": "[encoded data removed]",
      "text/plain": [
       "<Figure size 640x480 with 1 Axes>"
      ]
     },
     "metadata": {},
     "output_type": "display_data"
    }
   ],
   "source": [
    "fpr, tpr, t = roc_curve(y_test, y_pred)\n",
    "auc_ = auc(fpr, tpr)\n",
    "plt.plot(fpr, tpr, marker=\".\")\n",
    "print(auc_)"
   ]
  },
  {
   "cell_type": "code",
   "execution_count": null,
   "metadata": {},
   "outputs": [],
   "source": []
  },
  {
   "cell_type": "code",
   "execution_count": null,
   "metadata": {},
   "outputs": [],
   "source": []
  },
  {
   "cell_type": "code",
   "execution_count": null,
   "metadata": {},
   "outputs": [],
   "source": []
  },
  {
   "cell_type": "code",
   "execution_count": null,
   "metadata": {},
   "outputs": [],
   "source": []
  },
  {
   "cell_type": "code",
   "execution_count": null,
   "metadata": {},
   "outputs": [],
   "source": []
  },
  {
   "cell_type": "code",
   "execution_count": 56,
   "metadata": {},
   "outputs": [
    {
     "name": "stdout",
     "output_type": "stream",
     "text": [
      "mean_snow_on_grnd    1.273909\n",
      "mean_temp            1.035595\n",
      "mean_total_rain      0.475588\n",
      "mean_total_precip    1.188088\n",
      "mean_total_snow      0.519263\n",
      "dtype: float32\n"
     ]
    }
   ],
   "source": [
    "# prints weight with attribute\n",
    "attributes = X_train.columns.tolist()\n",
    "weights = model.layers[0].get_weights()[0]\n",
    "bias = model.layers[0].get_weights()[1]\n",
    "\n",
    "result = {}\n",
    "\n",
    "for x, y in zip(attributes, weights):\n",
    "    result[x] = y\n",
    "\n",
    "result = pd.DataFrame(result)\n",
    "\n",
    "result.transpose()\n",
    "print(result.max())"
   ]
  },
  {
   "cell_type": "code",
   "execution_count": null,
   "metadata": {},
   "outputs": [],
   "source": []
  },
  {
   "cell_type": "code",
   "execution_count": null,
   "metadata": {},
   "outputs": [],
   "source": []
  },
  {
   "cell_type": "code",
   "execution_count": null,
   "metadata": {},
   "outputs": [],
   "source": []
  }
 ],
 "metadata": {
  "kernelspec": {
   "display_name": ".venv",
   "language": "python",
   "name": "python3"
  },
  "language_info": {
   "codemirror_mode": {
    "name": "ipython",
    "version": 3
   },
   "file_extension": ".py",
   "mimetype": "text/x-python",
   "name": "python",
   "nbconvert_exporter": "python",
   "pygments_lexer": "ipython3",
   "version": "3.10.6"
  },
  "orig_nbformat": 4
 },
 "nbformat": 4,
 "nbformat_minor": 2
}
