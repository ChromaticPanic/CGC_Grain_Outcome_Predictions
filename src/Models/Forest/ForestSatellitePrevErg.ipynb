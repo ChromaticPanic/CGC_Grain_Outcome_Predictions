{
 "cells": [
  {
   "attachments": {},
   "cell_type": "markdown",
   "metadata": {},
   "source": [
    "how this notebook works"
   ]
  },
  {
   "cell_type": "code",
   "execution_count": 1,
   "metadata": {},
   "outputs": [],
   "source": [
    "# dependencies\n",
    "\n",
    "import pandas as pd\n",
    "import sqlalchemy as sq\n",
    "import sys, os\n",
    "import pickle\n",
    "from imblearn.combine import SMOTEENN, SMOTETomek\n",
    "from xgboost import XGBRFClassifier\n",
    "from sklearn.ensemble import (\n",
    "    RandomForestClassifier,\n",
    ")\n",
    "from imblearn.ensemble import (\n",
    "    BalancedRandomForestClassifier,\n",
    ")\n",
    "\n",
    "from sklearn.metrics import (\n",
    "    accuracy_score,\n",
    "    precision_score,\n",
    "    recall_score,\n",
    "    f1_score,\n",
    "    roc_auc_score,\n",
    "    classification_report,\n",
    ")\n",
    "\n",
    "sys.path.append(\"../../\")\n",
    "os.chdir(\"../../\")\n",
    "from ModelBuilderMethods import getConn, extractYears, scaleColumns, encodeColumns\n",
    "from Models.models_ensemble import getBalancedClassifier, getClassifier"
   ]
  },
  {
   "cell_type": "code",
   "execution_count": 2,
   "metadata": {},
   "outputs": [],
   "source": [
    "# unlimited line output\n",
    "pd.set_option(\"display.max_colwidth\", None)\n",
    "pd.set_option(\"display.max_rows\", 500)"
   ]
  },
  {
   "attachments": {},
   "cell_type": "markdown",
   "metadata": {},
   "source": [
    "setting up a dataset"
   ]
  },
  {
   "cell_type": "code",
   "execution_count": 3,
   "metadata": {},
   "outputs": [],
   "source": [
    "weatherStationQuery = sq.text(\n",
    "    \"\"\"\n",
    "    SELECT * from dataset_cross_monthly_station\n",
    "\"\"\"\n",
    ")\n",
    "\n",
    "weatherSatQuery = sq.text(\n",
    "    \"\"\"\n",
    "    SELECT * from dataset_cross_monthly_sat\n",
    "\"\"\"\n",
    ")\n",
    "\n",
    "ergotPrevYearsAggQuery = sq.text(\n",
    "    \"\"\"\n",
    "    SELECT year, district, \n",
    "    present_prev1, present_prev2, present_prev3,\n",
    "    percnt_true_prev1, percnt_true_prev2, percnt_true_prev3 \n",
    "    from agg_ergot_sample_v2\n",
    "\"\"\"\n",
    ")\n",
    "\n",
    "ergotTargetQuery = sq.text(\n",
    "    \"\"\"\n",
    "    SELECT year, district, downgrade from ergot_sample_feat_eng\n",
    "\"\"\"\n",
    ")"
   ]
  },
  {
   "cell_type": "code",
   "execution_count": 4,
   "metadata": {},
   "outputs": [],
   "source": [
    "conn = getConn(\"./.env\")\n",
    "\n",
    "# stationDf = pd.read_sql(weatherStationQuery, conn)\n",
    "satelliteDf = pd.read_sql(weatherSatQuery, conn)\n",
    "ergotPrevDf = pd.read_sql(ergotPrevYearsAggQuery, conn)\n",
    "ergotTargetDf = pd.read_sql(ergotTargetQuery, conn)\n",
    "\n",
    "conn.close()\n",
    "del conn"
   ]
  },
  {
   "cell_type": "code",
   "execution_count": 5,
   "metadata": {},
   "outputs": [],
   "source": [
    "# merge on year and district\n",
    "tempdf = pd.merge(satelliteDf, ergotPrevDf, on=[\"year\", \"district\"], how=\"left\")\n",
    "del satelliteDf\n",
    "del ergotPrevDf\n",
    "# tempdf = satelliteDf\n",
    "# tempdf = stationDf\n",
    "\n",
    "# merge on year and district\n",
    "datasetDf = pd.merge(ergotTargetDf, tempdf, on=[\"year\", \"district\"], how=\"left\")\n",
    "del ergotTargetDf\n",
    "del tempdf"
   ]
  },
  {
   "cell_type": "markdown",
   "metadata": {},
   "source": [
    "categorical values [one-hot encoding](https://scikit-learn.org/stable/modules/generated/sklearn.preprocessing.OneHotEncoder.html)  \n"
   ]
  },
  {
   "cell_type": "code",
   "execution_count": 6,
   "metadata": {},
   "outputs": [],
   "source": [
    "\n",
    "# encode district\n",
    "datasetDf[\"district\"] = datasetDf[\"district\"].astype(\"category\")\n",
    "\n",
    "temp = pd.get_dummies(datasetDf[\"district\"], prefix=\"district\", drop_first=True)\n",
    "datasetDf = pd.concat([datasetDf, temp], axis=1)\n",
    "\n",
    "datasetDf = datasetDf.drop(columns=[\"district\"])\n",
    "\n",
    "del temp"
   ]
  },
  {
   "cell_type": "markdown",
   "metadata": {},
   "source": [
    "splitting the dataset"
   ]
  },
  {
   "cell_type": "code",
   "execution_count": 7,
   "metadata": {},
   "outputs": [],
   "source": [
    "# train 1995 - 2015 test 2016 - 2020\n",
    "trainDf = extractYears(datasetDf, 1995, 2015)\n",
    "testDf = extractYears(datasetDf, 2016, 2020)\n",
    "del datasetDf"
   ]
  },
  {
   "cell_type": "code",
   "execution_count": 8,
   "metadata": {},
   "outputs": [],
   "source": [
    "# drop year\n",
    "trainDf = trainDf.drop(columns=[\"year\"])\n",
    "testDf = testDf.drop(columns=[\"year\"])\n"
   ]
  },
  {
   "attachments": {},
   "cell_type": "markdown",
   "metadata": {},
   "source": [
    "balancing the dataset https://imbalanced-learn.org/stable/\n",
    "\n"
   ]
  },
  {
   "cell_type": "code",
   "execution_count": 9,
   "metadata": {},
   "outputs": [
    {
     "name": "stdout",
     "output_type": "stream",
     "text": [
      "downgrade\n",
      "False    122202\n",
      "True       2082\n",
      "Name: count, dtype: int64\n",
      "downgrade\n",
      "False    26307\n",
      "True      1016\n",
      "Name: count, dtype: int64\n"
     ]
    }
   ],
   "source": [
    "# pre balancing check\n",
    "# print value counts downgrade\n",
    "print(trainDf[\"downgrade\"].value_counts())\n",
    "print(testDf[\"downgrade\"].value_counts())"
   ]
  },
  {
   "cell_type": "code",
   "execution_count": 10,
   "metadata": {},
   "outputs": [
    {
     "name": "stdout",
     "output_type": "stream",
     "text": [
      "downgrade                           0\n",
      "1:min_dewpoint_temperature          0\n",
      "1:min_temperature                   0\n",
      "1:min_evaporation_from_bare_soil    0\n",
      "1:min_skin_reservoir_content        0\n",
      "                                   ..\n",
      "district_4830                       0\n",
      "district_4840                       0\n",
      "district_4850                       0\n",
      "district_4860                       0\n",
      "district_4870                       0\n",
      "Length: 687, dtype: int64\n"
     ]
    }
   ],
   "source": [
    "# count nan\n",
    "print(trainDf.isna().sum())\n",
    "# set nan to 0\n",
    "# trainDf = trainDf.fillna(0)\n",
    "\n",
    "# drop nan\n",
    "trainDf = trainDf.dropna()"
   ]
  },
  {
   "cell_type": "code",
   "execution_count": 11,
   "metadata": {},
   "outputs": [],
   "source": [
    "balancer = SMOTEENN(sampling_strategy=1, random_state=42)\n",
    "balancedTrainDfX, balancedTrainDfY = balancer.fit_resample(\n",
    "    trainDf.drop(columns=\"downgrade\"), trainDf[\"downgrade\"]\n",
    ")"
   ]
  },
  {
   "cell_type": "code",
   "execution_count": 12,
   "metadata": {},
   "outputs": [
    {
     "name": "stdout",
     "output_type": "stream",
     "text": [
      "downgrade\n",
      "False    115239\n",
      "True      25156\n",
      "Name: count, dtype: int64\n"
     ]
    }
   ],
   "source": [
    "# post balancing check\n",
    "# print value counts downgrade\n",
    "print(balancedTrainDfY.value_counts())"
   ]
  },
  {
   "attachments": {},
   "cell_type": "markdown",
   "metadata": {},
   "source": [
    "### normalization / scaling\n",
    "some blurb about scalers  \n",
    "0 [MinMaxScaler](https://scikit-learn.org/stable/modules/generated/sklearn.preprocessing.MinMaxScaler.html)             \n",
    "1 [MaxAbsScaler](https://scikit-learn.org/stable/modules/generated/sklearn.preprocessing.MaxAbsScaler.html)  \n",
    "2 [StandardScaler](https://scikit-learn.org/stable/modules/generated/sklearn.preprocessing.StandardScaler.html)  \n",
    "3 [RobustScaler](https://scikit-learn.org/stable/modules/generated/sklearn.preprocessing.RobustScaler.html)  \n",
    "4 [Normalizer](https://scikit-learn.org/stable/modules/generated/sklearn.preprocessing.Normalizer.html)  \n",
    "5 [PowerTransformer](https://scikit-learn.org/stable/modules/generated/sklearn.preprocessing.PowerTransformer.html)  \n",
    "6 [QuantileTransformer](https://scikit-learn.org/stable/modules/generated/sklearn.preprocessing.QuantileTransformer.html)  "
   ]
  },
  {
   "cell_type": "code",
   "execution_count": 13,
   "metadata": {},
   "outputs": [],
   "source": [
    "# df = pd.DataFrame()\n",
    "# scaled = scaleColumns(df, ['max_temp'], None, 1)"
   ]
  },
  {
   "attachments": {},
   "cell_type": "markdown",
   "metadata": {},
   "source": [
    "categorical values [one-hot encoding](https://scikit-learn.org/stable/modules/generated/sklearn.preprocessing.OneHotEncoder.html)  \n"
   ]
  },
  {
   "cell_type": "code",
   "execution_count": 14,
   "metadata": {},
   "outputs": [],
   "source": [
    "# encoded = encodeColumns(df, ['max_temp'], None)"
   ]
  },
  {
   "cell_type": "code",
   "execution_count": 15,
   "metadata": {},
   "outputs": [],
   "source": [
    "def printMetrics(model_name, y_true, y_pred):\n",
    "    print(model_name)\n",
    "    print(\"Accuracy: \", accuracy_score(y_true, y_pred))\n",
    "    print(\"Precision: \", precision_score(y_true, y_pred))\n",
    "    print(\"Recall: \", recall_score(y_true, y_pred))\n",
    "    print(\"F1: \", f1_score(y_true, y_pred))\n",
    "    print(\"ROC AUC: \", roc_auc_score(y_true, y_pred))\n",
    "    print(\"Classification Report: \\n\", classification_report(y_true, y_pred))\n",
    "    print()"
   ]
  },
  {
   "attachments": {},
   "cell_type": "markdown",
   "metadata": {},
   "source": [
    "selecting a model"
   ]
  },
  {
   "cell_type": "code",
   "execution_count": 16,
   "metadata": {},
   "outputs": [],
   "source": [
    "ESTIMATORS = 400\n",
    "DEPTH = 40\n",
    "CORES = 10\n",
    "MINSPLSPLIT = 8\n",
    "MINSAMPLELEAF = 4\n",
    "\n",
    "model_rf = RandomForestClassifier(\n",
    "    n_estimators=ESTIMATORS,\n",
    "    random_state=42,\n",
    "    max_depth=DEPTH,\n",
    "    n_jobs=CORES,\n",
    "    min_samples_split=MINSPLSPLIT,\n",
    "    min_samples_leaf=MINSAMPLELEAF,\n",
    ")\n",
    "model_nobalance_rf = RandomForestClassifier(\n",
    "    n_estimators=ESTIMATORS,\n",
    "    random_state=42,\n",
    "    max_depth=DEPTH,\n",
    "    n_jobs=CORES,\n",
    "    min_samples_split=MINSPLSPLIT,\n",
    "    min_samples_leaf=MINSAMPLELEAF,\n",
    ")\n",
    "balanced_model_rf = BalancedRandomForestClassifier(\n",
    "    n_estimators=ESTIMATORS,\n",
    "    random_state=42,\n",
    "    max_depth=DEPTH,\n",
    "    n_jobs=CORES,\n",
    "    min_samples_split=MINSPLSPLIT,\n",
    "    min_samples_leaf=MINSAMPLELEAF,\n",
    ")\n",
    "balanced_model_balanced_rf = BalancedRandomForestClassifier(\n",
    "    n_estimators=ESTIMATORS,\n",
    "    random_state=42,\n",
    "    max_depth=DEPTH,\n",
    "    n_jobs=CORES,\n",
    "    min_samples_split=MINSPLSPLIT,\n",
    "    min_samples_leaf=MINSAMPLELEAF,\n",
    ")\n",
    "model_xgbrf = XGBRFClassifier(\n",
    "    n_estimators=ESTIMATORS,\n",
    "    random_state=42,\n",
    "    max_depth=DEPTH,\n",
    "    n_jobs=CORES,\n",
    ")\n",
    "model_balance_xgbrf = XGBRFClassifier(\n",
    "    n_estimators=ESTIMATORS,\n",
    "    random_state=42,\n",
    "    max_depth=DEPTH,\n",
    "    n_jobs=CORES,\n",
    ")"
   ]
  },
  {
   "cell_type": "code",
   "execution_count": 17,
   "metadata": {},
   "outputs": [
    {
     "name": "stderr",
     "output_type": "stream",
     "text": [
      "/usr/local/lib/python3.8/dist-packages/imblearn/ensemble/_forest.py:546: FutureWarning: The default of `sampling_strategy` will change from `'auto'` to `'all'` in version 0.13. This change will follow the implementation proposed in the original paper. Set to `'all'` to silence this warning and adopt the future behaviour.\n",
      "  warn(\n",
      "/usr/local/lib/python3.8/dist-packages/imblearn/ensemble/_forest.py:558: FutureWarning: The default of `replacement` will change from `False` to `True` in version 0.13. This change will follow the implementation proposed in the original paper. Set to `True` to silence this warning and adopt the future behaviour.\n",
      "  warn(\n",
      "/usr/local/lib/python3.8/dist-packages/imblearn/ensemble/_forest.py:546: FutureWarning: The default of `sampling_strategy` will change from `'auto'` to `'all'` in version 0.13. This change will follow the implementation proposed in the original paper. Set to `'all'` to silence this warning and adopt the future behaviour.\n",
      "  warn(\n",
      "/usr/local/lib/python3.8/dist-packages/imblearn/ensemble/_forest.py:558: FutureWarning: The default of `replacement` will change from `False` to `True` in version 0.13. This change will follow the implementation proposed in the original paper. Set to `True` to silence this warning and adopt the future behaviour.\n",
      "  warn(\n"
     ]
    },
    {
     "data": {
      "text/html": [
       "<style>#sk-container-id-1 {color: black;background-color: white;}#sk-container-id-1 pre{padding: 0;}#sk-container-id-1 div.sk-toggleable {background-color: white;}#sk-container-id-1 label.sk-toggleable__label {cursor: pointer;display: block;width: 100%;margin-bottom: 0;padding: 0.3em;box-sizing: border-box;text-align: center;}#sk-container-id-1 label.sk-toggleable__label-arrow:before {content: \"▸\";float: left;margin-right: 0.25em;color: #696969;}#sk-container-id-1 label.sk-toggleable__label-arrow:hover:before {color: black;}#sk-container-id-1 div.sk-estimator:hover label.sk-toggleable__label-arrow:before {color: black;}#sk-container-id-1 div.sk-toggleable__content {max-height: 0;max-width: 0;overflow: hidden;text-align: left;background-color: #f0f8ff;}#sk-container-id-1 div.sk-toggleable__content pre {margin: 0.2em;color: black;border-radius: 0.25em;background-color: #f0f8ff;}#sk-container-id-1 input.sk-toggleable__control:checked~div.sk-toggleable__content {max-height: 200px;max-width: 100%;overflow: auto;}#sk-container-id-1 input.sk-toggleable__control:checked~label.sk-toggleable__label-arrow:before {content: \"▾\";}#sk-container-id-1 div.sk-estimator input.sk-toggleable__control:checked~label.sk-toggleable__label {background-color: #d4ebff;}#sk-container-id-1 div.sk-label input.sk-toggleable__control:checked~label.sk-toggleable__label {background-color: #d4ebff;}#sk-container-id-1 input.sk-hidden--visually {border: 0;clip: rect(1px 1px 1px 1px);clip: rect(1px, 1px, 1px, 1px);height: 1px;margin: -1px;overflow: hidden;padding: 0;position: absolute;width: 1px;}#sk-container-id-1 div.sk-estimator {font-family: monospace;background-color: #f0f8ff;border: 1px dotted black;border-radius: 0.25em;box-sizing: border-box;margin-bottom: 0.5em;}#sk-container-id-1 div.sk-estimator:hover {background-color: #d4ebff;}#sk-container-id-1 div.sk-parallel-item::after {content: \"\";width: 100%;border-bottom: 1px solid gray;flex-grow: 1;}#sk-container-id-1 div.sk-label:hover label.sk-toggleable__label {background-color: #d4ebff;}#sk-container-id-1 div.sk-serial::before {content: \"\";position: absolute;border-left: 1px solid gray;box-sizing: border-box;top: 0;bottom: 0;left: 50%;z-index: 0;}#sk-container-id-1 div.sk-serial {display: flex;flex-direction: column;align-items: center;background-color: white;padding-right: 0.2em;padding-left: 0.2em;position: relative;}#sk-container-id-1 div.sk-item {position: relative;z-index: 1;}#sk-container-id-1 div.sk-parallel {display: flex;align-items: stretch;justify-content: center;background-color: white;position: relative;}#sk-container-id-1 div.sk-item::before, #sk-container-id-1 div.sk-parallel-item::before {content: \"\";position: absolute;border-left: 1px solid gray;box-sizing: border-box;top: 0;bottom: 0;left: 50%;z-index: -1;}#sk-container-id-1 div.sk-parallel-item {display: flex;flex-direction: column;z-index: 1;position: relative;background-color: white;}#sk-container-id-1 div.sk-parallel-item:first-child::after {align-self: flex-end;width: 50%;}#sk-container-id-1 div.sk-parallel-item:last-child::after {align-self: flex-start;width: 50%;}#sk-container-id-1 div.sk-parallel-item:only-child::after {width: 0;}#sk-container-id-1 div.sk-dashed-wrapped {border: 1px dashed gray;margin: 0 0.4em 0.5em 0.4em;box-sizing: border-box;padding-bottom: 0.4em;background-color: white;}#sk-container-id-1 div.sk-label label {font-family: monospace;font-weight: bold;display: inline-block;line-height: 1.2em;}#sk-container-id-1 div.sk-label-container {text-align: center;}#sk-container-id-1 div.sk-container {/* jupyter's `normalize.less` sets `[hidden] { display: none; }` but bootstrap.min.css set `[hidden] { display: none !important; }` so we also need the `!important` here to be able to override the default hidden behavior on the sphinx rendered scikit-learn.org. See: https://github.com/scikit-learn/scikit-learn/issues/21755 */display: inline-block !important;position: relative;}#sk-container-id-1 div.sk-text-repr-fallback {display: none;}</style><div id=\"sk-container-id-1\" class=\"sk-top-container\"><div class=\"sk-text-repr-fallback\"><pre>XGBRFClassifier(base_score=None, booster=None, callbacks=None,\n",
       "                colsample_bylevel=None, colsample_bytree=None,\n",
       "                early_stopping_rounds=None, enable_categorical=False,\n",
       "                eval_metric=None, feature_types=None, gamma=None, gpu_id=None,\n",
       "                grow_policy=None, importance_type=None,\n",
       "                interaction_constraints=None, max_bin=None,\n",
       "                max_cat_threshold=None, max_cat_to_onehot=None,\n",
       "                max_delta_step=None, max_depth=40, max_leaves=None,\n",
       "                min_child_weight=None, missing=nan, monotone_constraints=None,\n",
       "                n_estimators=400, n_jobs=10, num_parallel_tree=None,\n",
       "                objective=&#x27;binary:logistic&#x27;, predictor=None, random_state=42,\n",
       "                reg_alpha=None, ...)</pre><b>In a Jupyter environment, please rerun this cell to show the HTML representation or trust the notebook. <br />On GitHub, the HTML representation is unable to render, please try loading this page with nbviewer.org.</b></div><div class=\"sk-container\" hidden><div class=\"sk-item\"><div class=\"sk-estimator sk-toggleable\"><input class=\"sk-toggleable__control sk-hidden--visually\" id=\"sk-estimator-id-1\" type=\"checkbox\" checked><label for=\"sk-estimator-id-1\" class=\"sk-toggleable__label sk-toggleable__label-arrow\">XGBRFClassifier</label><div class=\"sk-toggleable__content\"><pre>XGBRFClassifier(base_score=None, booster=None, callbacks=None,\n",
       "                colsample_bylevel=None, colsample_bytree=None,\n",
       "                early_stopping_rounds=None, enable_categorical=False,\n",
       "                eval_metric=None, feature_types=None, gamma=None, gpu_id=None,\n",
       "                grow_policy=None, importance_type=None,\n",
       "                interaction_constraints=None, max_bin=None,\n",
       "                max_cat_threshold=None, max_cat_to_onehot=None,\n",
       "                max_delta_step=None, max_depth=40, max_leaves=None,\n",
       "                min_child_weight=None, missing=nan, monotone_constraints=None,\n",
       "                n_estimators=400, n_jobs=10, num_parallel_tree=None,\n",
       "                objective=&#x27;binary:logistic&#x27;, predictor=None, random_state=42,\n",
       "                reg_alpha=None, ...)</pre></div></div></div></div></div>"
      ],
      "text/plain": [
       "XGBRFClassifier(base_score=None, booster=None, callbacks=None,\n",
       "                colsample_bylevel=None, colsample_bytree=None,\n",
       "                early_stopping_rounds=None, enable_categorical=False,\n",
       "                eval_metric=None, feature_types=None, gamma=None, gpu_id=None,\n",
       "                grow_policy=None, importance_type=None,\n",
       "                interaction_constraints=None, max_bin=None,\n",
       "                max_cat_threshold=None, max_cat_to_onehot=None,\n",
       "                max_delta_step=None, max_depth=40, max_leaves=None,\n",
       "                min_child_weight=None, missing=nan, monotone_constraints=None,\n",
       "                n_estimators=400, n_jobs=10, num_parallel_tree=None,\n",
       "                objective='binary:logistic', predictor=None, random_state=42,\n",
       "                reg_alpha=None, ...)"
      ]
     },
     "execution_count": 17,
     "metadata": {},
     "output_type": "execute_result"
    }
   ],
   "source": [
    "model_nobalance_rf.fit(trainDf.drop(columns=\"downgrade\"), trainDf[\"downgrade\"])\n",
    "model_rf.fit(balancedTrainDfX, balancedTrainDfY)\n",
    "balanced_model_rf.fit(trainDf.drop(columns=\"downgrade\"), trainDf[\"downgrade\"])\n",
    "balanced_model_balanced_rf.fit(balancedTrainDfX, balancedTrainDfY)\n",
    "model_xgbrf.fit(trainDf.drop(columns=\"downgrade\"), trainDf[\"downgrade\"])\n",
    "model_balance_xgbrf.fit(balancedTrainDfX, balancedTrainDfY)"
   ]
  },
  {
   "attachments": {},
   "cell_type": "markdown",
   "metadata": {},
   "source": [
    "eval procedure"
   ]
  },
  {
   "cell_type": "code",
   "execution_count": 18,
   "metadata": {},
   "outputs": [],
   "source": [
    "# set nan to 0\n",
    "# testDf = testDf.fillna(0)\n",
    "\n",
    "# drop nan\n",
    "testDf = testDf.dropna()"
   ]
  },
  {
   "cell_type": "code",
   "execution_count": 19,
   "metadata": {},
   "outputs": [],
   "source": [
    "# get predictions\n",
    "predictions = model_rf.predict(testDf.drop(columns=\"downgrade\"))\n",
    "predictions_nobalance = model_nobalance_rf.predict(testDf.drop(columns=\"downgrade\"))\n",
    "predictions_balanced = balanced_model_rf.predict(testDf.drop(columns=\"downgrade\"))\n",
    "predictions_balanced_balanced = balanced_model_balanced_rf.predict(\n",
    "    testDf.drop(columns=\"downgrade\")\n",
    ")\n",
    "predictions_xgbrf = model_xgbrf.predict(testDf.drop(columns=\"downgrade\"))\n",
    "predictions_balance_xgbrf = model_balance_xgbrf.predict(\n",
    "    testDf.drop(columns=\"downgrade\")\n",
    ")"
   ]
  },
  {
   "cell_type": "code",
   "execution_count": 20,
   "metadata": {},
   "outputs": [
    {
     "name": "stdout",
     "output_type": "stream",
     "text": [
      "False    22907\n",
      "True      4416\n",
      "Name: count, dtype: int64\n",
      "False    27323\n",
      "Name: count, dtype: int64\n",
      "False    26237\n",
      "True      1086\n",
      "Name: count, dtype: int64\n",
      "False    25565\n",
      "True      1758\n",
      "Name: count, dtype: int64\n",
      "0    27323\n",
      "Name: count, dtype: int64\n",
      "0    22679\n",
      "1     4644\n",
      "Name: count, dtype: int64\n"
     ]
    }
   ],
   "source": [
    "print(pd.DataFrame(predictions).value_counts())\n",
    "print(pd.DataFrame(predictions_nobalance).value_counts())\n",
    "print(pd.DataFrame(predictions_balanced).value_counts())\n",
    "print(pd.DataFrame(predictions_balanced_balanced).value_counts())\n",
    "print(pd.DataFrame(predictions_xgbrf).value_counts())\n",
    "print(pd.DataFrame(predictions_balance_xgbrf).value_counts())"
   ]
  },
  {
   "attachments": {},
   "cell_type": "markdown",
   "metadata": {},
   "source": [
    "print model performance metrics on test data"
   ]
  },
  {
   "cell_type": "code",
   "execution_count": 21,
   "metadata": {},
   "outputs": [
    {
     "name": "stdout",
     "output_type": "stream",
     "text": [
      "sk RF balanced train set\n",
      "Accuracy:  0.8126120850565458\n",
      "Precision:  0.035326086956521736\n",
      "Recall:  0.15354330708661418\n",
      "F1:  0.05743740795287187\n",
      "ROC AUC:  0.49580461055094766\n",
      "Classification Report: \n",
      "               precision    recall  f1-score   support\n",
      "\n",
      "       False       0.96      0.84      0.90     26307\n",
      "        True       0.04      0.15      0.06      1016\n",
      "\n",
      "    accuracy                           0.81     27323\n",
      "   macro avg       0.50      0.50      0.48     27323\n",
      "weighted avg       0.93      0.81      0.86     27323\n",
      "\n",
      "\n",
      "sk RF imbalanced train set\n",
      "Accuracy:  0.9628152106284082\n",
      "Precision:  0.0\n",
      "Recall:  0.0\n",
      "F1:  0.0\n",
      "ROC AUC:  0.5\n",
      "Classification Report: \n",
      "               precision    recall  f1-score   support\n",
      "\n",
      "       False       0.96      1.00      0.98     26307\n",
      "        True       0.00      0.00      0.00      1016\n",
      "\n",
      "    accuracy                           0.96     27323\n",
      "   macro avg       0.48      0.50      0.49     27323\n",
      "weighted avg       0.93      0.96      0.94     27323\n",
      "\n",
      "\n",
      "imb RF imbalanced train set\n",
      "Accuracy:  0.9283387622149837\n",
      "Precision:  0.06629834254143646\n",
      "Recall:  0.07086614173228346\n",
      "F1:  0.06850618458610847\n",
      "ROC AUC:  0.5161606338721858\n",
      "Classification Report: \n",
      "               precision    recall  f1-score   support\n",
      "\n",
      "       False       0.96      0.96      0.96     26307\n",
      "        True       0.07      0.07      0.07      1016\n",
      "\n",
      "    accuracy                           0.93     27323\n",
      "   macro avg       0.52      0.52      0.52     27323\n",
      "weighted avg       0.93      0.93      0.93     27323\n",
      "\n",
      "\n",
      "imb RF balanced train set\n",
      "Accuracy:  0.905574058485525\n",
      "Precision:  0.055176336746302616\n",
      "Recall:  0.09547244094488189\n",
      "F1:  0.06993511175198269\n",
      "ROC AUC:  0.5161666762446689\n",
      "Classification Report: \n",
      "               precision    recall  f1-score   support\n",
      "\n",
      "       False       0.96      0.94      0.95     26307\n",
      "        True       0.06      0.10      0.07      1016\n",
      "\n",
      "    accuracy                           0.91     27323\n",
      "   macro avg       0.51      0.52      0.51     27323\n",
      "weighted avg       0.93      0.91      0.92     27323\n",
      "\n",
      "\n",
      "xgb RF imbalanced train set\n",
      "Accuracy:  0.9628152106284082\n",
      "Precision:  0.0\n",
      "Recall:  0.0\n",
      "F1:  0.0\n",
      "ROC AUC:  0.5\n",
      "Classification Report: \n",
      "               precision    recall  f1-score   support\n",
      "\n",
      "       False       0.96      1.00      0.98     26307\n",
      "        True       0.00      0.00      0.00      1016\n",
      "\n",
      "    accuracy                           0.96     27323\n",
      "   macro avg       0.48      0.50      0.49     27323\n",
      "weighted avg       0.93      0.96      0.94     27323\n",
      "\n",
      "\n",
      "xgb RF balanced train set\n",
      "Accuracy:  0.8030962925008235\n",
      "Precision:  0.030146425495262703\n"
     ]
    },
    {
     "name": "stderr",
     "output_type": "stream",
     "text": [
      "/usr/local/lib/python3.8/dist-packages/sklearn/metrics/_classification.py:1344: UndefinedMetricWarning: Precision is ill-defined and being set to 0.0 due to no predicted samples. Use `zero_division` parameter to control this behavior.\n",
      "  _warn_prf(average, modifier, msg_start, len(result))\n",
      "/usr/local/lib/python3.8/dist-packages/sklearn/metrics/_classification.py:1344: UndefinedMetricWarning: Precision and F-score are ill-defined and being set to 0.0 in labels with no predicted samples. Use `zero_division` parameter to control this behavior.\n",
      "  _warn_prf(average, modifier, msg_start, len(result))\n",
      "/usr/local/lib/python3.8/dist-packages/sklearn/metrics/_classification.py:1344: UndefinedMetricWarning: Precision and F-score are ill-defined and being set to 0.0 in labels with no predicted samples. Use `zero_division` parameter to control this behavior.\n",
      "  _warn_prf(average, modifier, msg_start, len(result))\n",
      "/usr/local/lib/python3.8/dist-packages/sklearn/metrics/_classification.py:1344: UndefinedMetricWarning: Precision and F-score are ill-defined and being set to 0.0 in labels with no predicted samples. Use `zero_division` parameter to control this behavior.\n",
      "  _warn_prf(average, modifier, msg_start, len(result))\n",
      "/usr/local/lib/python3.8/dist-packages/sklearn/metrics/_classification.py:1344: UndefinedMetricWarning: Precision is ill-defined and being set to 0.0 due to no predicted samples. Use `zero_division` parameter to control this behavior.\n",
      "  _warn_prf(average, modifier, msg_start, len(result))\n",
      "/usr/local/lib/python3.8/dist-packages/sklearn/metrics/_classification.py:1344: UndefinedMetricWarning: Precision and F-score are ill-defined and being set to 0.0 in labels with no predicted samples. Use `zero_division` parameter to control this behavior.\n",
      "  _warn_prf(average, modifier, msg_start, len(result))\n",
      "/usr/local/lib/python3.8/dist-packages/sklearn/metrics/_classification.py:1344: UndefinedMetricWarning: Precision and F-score are ill-defined and being set to 0.0 in labels with no predicted samples. Use `zero_division` parameter to control this behavior.\n",
      "  _warn_prf(average, modifier, msg_start, len(result))\n",
      "/usr/local/lib/python3.8/dist-packages/sklearn/metrics/_classification.py:1344: UndefinedMetricWarning: Precision and F-score are ill-defined and being set to 0.0 in labels with no predicted samples. Use `zero_division` parameter to control this behavior.\n",
      "  _warn_prf(average, modifier, msg_start, len(result))\n"
     ]
    },
    {
     "name": "stdout",
     "output_type": "stream",
     "text": [
      "Recall:  0.1377952755905512\n",
      "F1:  0.04946996466431096\n",
      "ROC AUC:  0.48329304586156974\n",
      "Classification Report: \n",
      "               precision    recall  f1-score   support\n",
      "\n",
      "       False       0.96      0.83      0.89     26307\n",
      "        True       0.03      0.14      0.05      1016\n",
      "\n",
      "    accuracy                           0.80     27323\n",
      "   macro avg       0.50      0.48      0.47     27323\n",
      "weighted avg       0.93      0.80      0.86     27323\n",
      "\n",
      "\n"
     ]
    }
   ],
   "source": [
    "printMetrics(\"sk RF balanced train set\", testDf[\"downgrade\"], predictions)\n",
    "printMetrics(\"sk RF imbalanced train set\", testDf[\"downgrade\"], predictions_nobalance)\n",
    "printMetrics(\"imb RF imbalanced train set\", testDf[\"downgrade\"], predictions_balanced)\n",
    "printMetrics(\n",
    "    \"imb RF balanced train set\", testDf[\"downgrade\"], predictions_balanced_balanced\n",
    ")\n",
    "printMetrics(\"xgb RF imbalanced train set\", testDf[\"downgrade\"], predictions_xgbrf)\n",
    "printMetrics(\n",
    "    \"xgb RF balanced train set\", testDf[\"downgrade\"], predictions_balance_xgbrf\n",
    ")"
   ]
  }
 ],
 "metadata": {
  "kernelspec": {
   "display_name": "Python 3",
   "language": "python",
   "name": "python3"
  },
  "language_info": {
   "codemirror_mode": {
    "name": "ipython",
    "version": 3
   },
   "file_extension": ".py",
   "mimetype": "text/x-python",
   "name": "python",
   "nbconvert_exporter": "python",
   "pygments_lexer": "ipython3",
   "version": "3.8.10"
  },
  "orig_nbformat": 4,
  "vscode": {
   "interpreter": {
    "hash": "5b3ded1ccb95c1d9bd405e7b823d9e85424cde40fbb5985eb47e999ef50e15b4"
   }
  }
 },
 "nbformat": 4,
 "nbformat_minor": 2
}
