{
 "cells": [
  {
   "cell_type": "code",
   "execution_count": null,
   "metadata": {},
   "outputs": [],
   "source": [
    "import os\n",
    "import sys\n",
    "from dotenv import load_dotenv\n",
    "\n",
    "# sklearn\n",
    "from sklearn.linear_model import LogisticRegression                                 # type: ignore\n",
    "from sklearn.ensemble import RandomForestClassifier, GradientBoostingClassifier     # type: ignore\n",
    "from sklearn.tree import DecisionTreeClassifier                                     # type: ignore                            \n",
    "from sklearn.svm import SVC, LinearSVC                                              # type: ignore\n",
    "from sklearn.model_selection import KFold, StratifiedKFold                          # type: ignore\n",
    "from sklearn.metrics import f1_score                                                # type: ignore\n",
    "\n",
    "import numpy as np\n",
    "import pandas as pd\n",
    "import sqlalchemy as sq\n",
    "\n",
    "sys.path.append(\"../\")\n",
    "from Shared.DataService import DataService"
   ]
  },
  {
   "cell_type": "code",
   "execution_count": null,
   "metadata": {},
   "outputs": [],
   "source": [
    "# function to update logs\n",
    "def updateLog(fileName: str, message: str) -> None:\n",
    "    try:\n",
    "        if fileName is not None:\n",
    "            with open(fileName, \"a\") as log:\n",
    "                log.write(message + \"\\n\")\n",
    "    except Exception as e:\n",
    "        print(message)\n",
    "\n",
    "\n",
    "LOG_FILE = \"/data/pull_moisture.log\"\n",
    "load_dotenv()\n",
    "PG_USER = os.getenv(\"POSTGRES_USER\")\n",
    "PG_PW = os.getenv(\"POSTGRES_PW\")\n",
    "PG_DB = os.getenv(\"POSTGRES_DB\")\n",
    "PG_ADDR = os.getenv(\"POSTGRES_ADDR\")\n",
    "PG_PORT = os.getenv(\"POSTGRES_PORT\")\n",
    "\n",
    "if (\n",
    "    PG_DB is None\n",
    "    or PG_ADDR is None\n",
    "    or PG_PORT is None\n",
    "    or PG_USER is None\n",
    "    or PG_PW is None\n",
    "):\n",
    "    updateLog(LOG_FILE, \"Missing database credentials\")\n",
    "    raise ValueError(\"Environment variables are not set\")\n",
    "else:\n",
    "    # connecting to database\n",
    "    db = DataService(PG_DB, PG_ADDR, int(PG_PORT), PG_USER, PG_PW)\n",
    "    conn = db.connect()"
   ]
  },
  {
   "cell_type": "code",
   "execution_count": null,
   "metadata": {},
   "outputs": [],
   "source": [
    "model_dict = {\n",
    "    \"logistic_regression\": LogisticRegression,\n",
    "    \"random_forest\": RandomForestClassifier,\n",
    "    \"decision_tree\": DecisionTreeClassifier,\n",
    "    \"gradient_boost\": GradientBoostingClassifier,\n",
    "    # \"svc\": SVC,\n",
    "    # \"linear_svc\": LinearSVC,\n",
    "}\n",
    "\n",
    "\n",
    "def model_initializer(model_type: str, random_state: int = 42, max_depth: int = 2):\n",
    "    # if network then initialize the network model differently (passing X-train, xtest, ytest ...)\n",
    "    # currently haven't had any networks.\n",
    "    if model_type == \"random_forest\":\n",
    "        model = model_dict[model_type](random_state=random_state, max_depth=max_depth)\n",
    "    else:\n",
    "        model = model_dict[model_type](random_state=random_state)\n",
    "    return model\n",
    "\n",
    "\n",
    "# def evaluate_model(dataset, arg, model_type):\n",
    "#     f1_score = 0"
   ]
  },
  {
   "attachments": {},
   "cell_type": "markdown",
   "metadata": {},
   "source": [
    "## Pulling data (only ergot and soil moisture rn)"
   ]
  },
  {
   "cell_type": "code",
   "execution_count": null,
   "metadata": {},
   "outputs": [],
   "source": [
    "# pulling ergot data\n",
    "query = sq.text(\"select * FROM public.agg_ergot_samples\")\n",
    "ergot_df = (\n",
    "    pd.read_sql(query, conn)\n",
    "    .drop(columns=[\"sample_id\"])\n",
    "    .drop_duplicates()[[\"year\", \"province\", \"district\", \"incidence\"]]\n",
    ")\n",
    "ergot_df"
   ]
  },
  {
   "cell_type": "code",
   "execution_count": null,
   "metadata": {},
   "outputs": [],
   "source": [
    "# pulling soil moisture data\n",
    "query = sq.text(\"select * FROM public.agg_soil_moisture\")\n",
    "sm_df = (\n",
    "    pd.read_sql(query, conn).drop(columns=[\"index\", \"month\", \"day\"]).drop_duplicates()\n",
    ")\n",
    "sm_df"
   ]
  },
  {
   "cell_type": "code",
   "execution_count": null,
   "metadata": {},
   "outputs": [],
   "source": [
    "df = pd.merge(sm_df, ergot_df, how=\"inner\", on=[\"year\", \"district\"])\n",
    "\n",
    "features = [\"soil_moisture_min\", \"soil_moisture_max\", \"soil_moisture_mean\"]\n",
    "\n",
    "X = np.array(df[features]).squeeze()\n",
    "y = np.array(df[[\"incidence\"]]).squeeze()\n",
    "print(\"X data: \", X)\n",
    "print(\"X shape: {} \\n\".format(X.shape))\n",
    "print(\"y data: \", y)\n",
    "print(\"y shape: \", y.shape)"
   ]
  },
  {
   "cell_type": "code",
   "execution_count": null,
   "metadata": {},
   "outputs": [],
   "source": [
    "# X_train, X_test, y_train, y_test = train_test_split(X, y, test_size = 0.4, random_state=42)"
   ]
  },
  {
   "attachments": {},
   "cell_type": "markdown",
   "metadata": {},
   "source": [
    "## K-Fold Cross Validation"
   ]
  },
  {
   "cell_type": "code",
   "execution_count": null,
   "metadata": {},
   "outputs": [],
   "source": [
    "kf = KFold(\n",
    "    n_splits=5\n",
    ")  # we need to modify it to make sure the outliers dont fall into 1 bin\n",
    "\n",
    "for i, (train_index, test_index) in enumerate(kf.split(X)):\n",
    "    print(f\"Fold {i}: \")\n",
    "    X_train, X_test = X[train_index], X[test_index]\n",
    "    y_train, y_test = y[train_index], y[test_index]\n",
    "    for model_type in model_dict:\n",
    "        model = model_initializer(model_type).fit(X_train, y_train.squeeze())\n",
    "        y_pred = model.predict(X_test)\n",
    "        print(\n",
    "            f\"model type: {model_type}, and its r^2 score is : {model.score(X_test, y_test)} and f1_score is: {f1_score(y_test, y_pred)}\"\n",
    "        )\n",
    "    print(f\"End the fold {i}\\n\")"
   ]
  },
  {
   "attachments": {},
   "cell_type": "markdown",
   "metadata": {},
   "source": [
    "## Leave one out cross validation"
   ]
  },
  {
   "attachments": {},
   "cell_type": "markdown",
   "metadata": {},
   "source": []
  },
  {
   "cell_type": "code",
   "execution_count": null,
   "metadata": {},
   "outputs": [],
   "source": []
  },
  {
   "cell_type": "code",
   "execution_count": null,
   "metadata": {},
   "outputs": [],
   "source": []
  },
  {
   "attachments": {},
   "cell_type": "markdown",
   "metadata": {},
   "source": [
    "## Stratified KFold\n",
    "\n",
    "KFold validation does not preserve the split of the output variable while splitting the data. For example, it is possible that if we have ten samples where 5 of them has incidence = True, and 5 of them has incidence = False, KFold can randomly put all positive (incidence = True) in 1 bin and all negative in another bin. To avoid that, we can use Stratified KFold - preserve the split in the original dataset in training dataset."
   ]
  },
  {
   "cell_type": "code",
   "execution_count": null,
   "metadata": {},
   "outputs": [],
   "source": [
    "skf = StratifiedKFold(n_splits=5, random_state=None, shuffle=False)\n",
    "\n",
    "for i, (train_index, test_index) in enumerate(skf.split(X, y)):\n",
    "    print(f\"Fold {i}:\")\n",
    "    print(f\"  Train: index={train_index}\")\n",
    "    print(f\"  Test:  index={test_index}\")\n",
    "    X_train, X_test = X[train_index], X[test_index]\n",
    "    y_train, y_test = y[train_index], y[test_index]\n",
    "    for model_type in model_dict:\n",
    "        model = model_initializer(model_type).fit(X_train, y_train.squeeze())\n",
    "        y_pred = model.predict(X_test)\n",
    "        print(\n",
    "            f\"   model type: {model_type}, and its r^2 score is : {model.score(X_test, y_test)} and f1_score is: {f1_score(y_test, y_pred)}\"\n",
    "        )\n",
    "    print(f\"End the fold {i} \\n\")"
   ]
  },
  {
   "attachments": {},
   "cell_type": "markdown",
   "metadata": {},
   "source": []
  }
 ],
 "metadata": {
  "kernelspec": {
   "display_name": ".venv",
   "language": "python",
   "name": "python3"
  },
  "language_info": {
   "codemirror_mode": {
    "name": "ipython",
    "version": 3
   },
   "file_extension": ".py",
   "mimetype": "text/x-python",
   "name": "python",
   "nbconvert_exporter": "python",
   "pygments_lexer": "ipython3",
   "version": "3.10.6"
  },
  "orig_nbformat": 4
 },
 "nbformat": 4,
 "nbformat_minor": 2
}
