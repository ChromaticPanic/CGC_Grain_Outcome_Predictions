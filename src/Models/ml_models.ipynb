{
 "cells": [
  {
   "cell_type": "markdown",
   "metadata": {},
   "source": [
    "# ml_models.ipynb\n",
    "- Implementation of Logistic Regression, Random Forest Classifier, Decision Tree Classifier, Gradient Boosting Classifier.\n",
    "- It aims to perform the evaluation and comparison of various machine learning models on three different datasets (dataset_v1, dataset_v2, and dataset_v3).\n",
    "- For each fold in the K-Fold and Stratified K-Fold Cross Validation, the script trains each of these models on the training set and evaluates their performance on the test set. "
   ]
  },
  {
   "cell_type": "code",
   "execution_count": null,
   "metadata": {},
   "outputs": [],
   "source": [
    "import os\n",
    "import sys\n",
    "from dotenv import load_dotenv\n",
    "\n",
    "# sklearn\n",
    "from sklearn.linear_model import LogisticRegression  # type:ignore\n",
    "from sklearn.ensemble import (  # type:ignore\n",
    "    RandomForestClassifier,\n",
    "    GradientBoostingClassifier,\n",
    ")\n",
    "from sklearn.tree import DecisionTreeClassifier  # type:ignore\n",
    "from sklearn.svm import SVC, LinearSVC  # type:ignore\n",
    "from sklearn.model_selection import KFold, StratifiedKFold  # type:ignore\n",
    "from sklearn.metrics import f1_score  # type:ignore\n",
    "from sklearn.metrics import roc_curve, auc  # type:ignore\n",
    "\n",
    "import numpy as np\n",
    "import pandas as pd\n",
    "import sqlalchemy as sq\n",
    "\n",
    "# Mathplotlib\n",
    "from matplotlib import pyplot as plt  # type: ignore\n",
    "\n",
    "sys.path.append(\"../\")\n",
    "from Shared.DataService import DataService\n",
    "\n",
    "from Datasets.DataCreation import getDatasetV1, getDatasetV2, getDatasetV3"
   ]
  },
  {
   "cell_type": "markdown",
   "metadata": {},
   "source": [
    "Purpose:\n",
    "- The purpose of the provided code is to facilitate the initialization of various machine learning classifiers based on a given model type.\n",
    "\n",
    "Psuedocode:\n",
    "- The provided code defines a dictionary called model_dict, which maps strings to corresponding machine learning classifier classes. \n",
    "- It also defines a function called model_initializer, which initializes and returns an instance of a specified classifier based on the given model_type."
   ]
  },
  {
   "cell_type": "code",
   "execution_count": null,
   "metadata": {},
   "outputs": [],
   "source": [
    "model_dict = {\n",
    "    \"logistic_regression\": LogisticRegression,\n",
    "    \"random_forest\": RandomForestClassifier,\n",
    "    \"decision_tree\": DecisionTreeClassifier,\n",
    "    \"gradient_boost\": GradientBoostingClassifier,\n",
    "    # \"svc\": SVC,\n",
    "    # \"linear_svc\": LinearSVC,\n",
    "}\n",
    "\n",
    "\n",
    "def model_initializer(model_type: str, random_state: int = 42, max_depth: int = 2):\n",
    "    # if network then initialize the network model differently (passing X-train, xtest, ytest ...)\n",
    "    # currently haven't had any networks.\n",
    "    if model_type == \"random_forest\":\n",
    "        model = model_dict[model_type](random_state=random_state, max_depth=max_depth)\n",
    "    else:\n",
    "        model = model_dict[model_type](random_state=random_state)\n",
    "    return model"
   ]
  },
  {
   "cell_type": "code",
   "execution_count": null,
   "metadata": {},
   "outputs": [],
   "source": [
    "dataset_v1 = getDatasetV1(None)\n",
    "dataset_v1"
   ]
  },
  {
   "cell_type": "code",
   "execution_count": null,
   "metadata": {},
   "outputs": [],
   "source": [
    "dataset_v2 = getDatasetV2(None)\n",
    "dataset_v2"
   ]
  },
  {
   "cell_type": "code",
   "execution_count": null,
   "metadata": {},
   "outputs": [],
   "source": [
    "dataset_v3 = getDatasetV3(None)\n",
    "dataset_v3"
   ]
  },
  {
   "cell_type": "markdown",
   "metadata": {},
   "source": [
    "Purpose:\n",
    "- The purpose of the provided code is to evaluate multiple machine learning models using k-fold cross-validation. \n",
    "\n",
    "Psuedocode:\n",
    "- It takes input features X and corresponding labels y and performs k-fold cross-validation on the data. \n",
    "- For each fold, it trains different machine learning classifiers from the model_dict, evaluates their performance using various metrics."
   ]
  },
  {
   "cell_type": "code",
   "execution_count": null,
   "metadata": {},
   "outputs": [],
   "source": [
    "def evaluate_models_kfold(X: np.ndarray, y: np.ndarray, numOfFolds: int) -> None:\n",
    "    kf = KFold(\n",
    "        n_splits=numOfFolds\n",
    "    )  # we need to modify it to make sure the outliers dont fall into 1 bin\n",
    "    for i, (train_index, test_index) in enumerate(kf.split(X)):\n",
    "        print(f\"Fold {i}: \")\n",
    "        X_train, X_test = X[train_index], X[test_index]\n",
    "        y_train, y_test = y[train_index], y[test_index]\n",
    "        for model_type in model_dict:\n",
    "            model = model_initializer(model_type).fit(X_train, y_train.squeeze())\n",
    "            y_pred = model.predict(X_test)\n",
    "            print(\n",
    "                f\"model type: {model_type}, and its r^2 score is : {model.score(X_test, y_test)} and f1_score is: {f1_score(y_test, y_pred)}\"\n",
    "            )\n",
    "            fpr, tpr, t = roc_curve(y_test, y_pred)\n",
    "            auc_ = auc(fpr, tpr)\n",
    "            # plt.plot(fpr, tpr, marker=\".\")\n",
    "            print(\"auc score: \", auc_)\n",
    "        print(f\"End the fold {i}\\n\")"
   ]
  },
  {
   "cell_type": "markdown",
   "metadata": {},
   "source": [
    "Purpose:\n",
    "- The purpose of the provided code is to evaluate multiple machine learning models using stratified k-fold cross-validation. \n",
    "\n",
    "Psuedocode:\n",
    "- It takes input features X and corresponding labels y as NumPy arrays and performs stratified k-fold cross-validation on the data. \n",
    "- For each fold, it trains different machine learning classifiers from the model_dict, evaluates their performance using various metrics."
   ]
  },
  {
   "cell_type": "code",
   "execution_count": null,
   "metadata": {},
   "outputs": [],
   "source": [
    "def evaluate_models_stratifiedKFold(\n",
    "    X: np.ndarray, y: np.ndarray, numOfFolds: int\n",
    ") -> None:\n",
    "    kf = StratifiedKFold(\n",
    "        n_splits=numOfFolds, random_state=None, shuffle=False\n",
    "    )  # we need to modify it to make sure the outliers dont fall into 1 bin\n",
    "    for i, (train_index, test_index) in enumerate(kf.split(X, y)):\n",
    "        print(f\"Fold {i}: \")\n",
    "        X_train, X_test = X[train_index], X[test_index]\n",
    "        y_train, y_test = y[train_index], y[test_index]\n",
    "        for model_type in model_dict:\n",
    "            model = model_initializer(model_type).fit(X_train, y_train.squeeze())\n",
    "            y_pred = model.predict(X_test)\n",
    "            print(\n",
    "                f\"model type: {model_type}, and its r^2 score is : {model.score(X_test, y_test)} and f1_score is: {f1_score(y_test, y_pred)}\"\n",
    "            )\n",
    "            fpr, tpr, t = roc_curve(y_test, y_pred)\n",
    "            auc_ = auc(fpr, tpr)\n",
    "            # plt.plot(fpr, tpr, marker=\".\")\n",
    "            print(\"auc score: \", auc_)\n",
    "        print(f\"End the fold {i}\\n\")"
   ]
  },
  {
   "cell_type": "markdown",
   "metadata": {},
   "source": [
    "Purpose :\n",
    "\n",
    "- The purpose of this code is to experiment on different datasets with different models.\n",
    "\n",
    "Psuedocode :\n",
    "- This code first prepares the input features and target labels from the dataset. \n",
    "- It proceeds to evaluate multiple machine learning models using both k-fold cross-validation and stratified k-fold cross-validation with 5 folds on different datasets."
   ]
  },
  {
   "cell_type": "markdown",
   "metadata": {},
   "source": [
    "# Experimenting on dataset v1"
   ]
  },
  {
   "cell_type": "code",
   "execution_count": null,
   "metadata": {},
   "outputs": [],
   "source": [
    "X = np.array(dataset_v1.drop(columns=[\"has_ergot\", \"year\"])).squeeze()\n",
    "y = np.array(dataset_v1[\"has_ergot\"]).squeeze()\n",
    "\n",
    "print(\"X data: \", X)\n",
    "print(\"X shape: {} \\n\".format(X.shape))\n",
    "print(\"y data: \", y)\n",
    "print(\"y shape: \", y.shape)"
   ]
  },
  {
   "cell_type": "markdown",
   "metadata": {},
   "source": [
    "### K-Fold Cross Validation"
   ]
  },
  {
   "cell_type": "code",
   "execution_count": null,
   "metadata": {},
   "outputs": [],
   "source": [
    "evaluate_models_kfold(X, y, 5)"
   ]
  },
  {
   "cell_type": "markdown",
   "metadata": {},
   "source": [
    "### Stratified KFold\n",
    "\n",
    "Note :\n",
    "- KFold validation does not preserve the split of the output variable while splitting the data. For example, it is possible that if we have ten samples where 5 of them has incidence = True, and 5 of them has incidence = False, KFold can randomly put all positive (incidence = True) in 1 bin and all negative in another bin. To avoid that, we can use Stratified KFold - preserve the split in the original dataset in training dataset."
   ]
  },
  {
   "cell_type": "code",
   "execution_count": null,
   "metadata": {},
   "outputs": [],
   "source": [
    "evaluate_models_stratifiedKFold(X, y, 5)"
   ]
  },
  {
   "cell_type": "markdown",
   "metadata": {},
   "source": [
    "# Experimenting on dataset v2"
   ]
  },
  {
   "cell_type": "code",
   "execution_count": null,
   "metadata": {},
   "outputs": [],
   "source": [
    "X_2 = np.array(dataset_v2.drop(columns=[\"has_ergot\", \"year\"])).squeeze()\n",
    "y_2 = np.array(dataset_v2[\"has_ergot\"]).squeeze()\n",
    "\n",
    "print(\"X data: \", X)\n",
    "print(\"X shape: {} \\n\".format(X_2.shape))\n",
    "print(\"y data: \", y_2)\n",
    "print(\"y shape: \", y_2.shape)"
   ]
  },
  {
   "cell_type": "code",
   "execution_count": null,
   "metadata": {},
   "outputs": [],
   "source": [
    "evaluate_models_kfold(X_2, y_2, 5)"
   ]
  },
  {
   "cell_type": "code",
   "execution_count": null,
   "metadata": {},
   "outputs": [],
   "source": [
    "evaluate_models_stratifiedKFold(X_2, y_2, 5)"
   ]
  },
  {
   "cell_type": "markdown",
   "metadata": {},
   "source": [
    "# Experimenting on dataset v3"
   ]
  },
  {
   "cell_type": "code",
   "execution_count": null,
   "metadata": {},
   "outputs": [],
   "source": [
    "X_3 = np.array(dataset_v3.drop(columns=[\"incidence\", \"year\"])).squeeze()\n",
    "y_3 = np.array(dataset_v3[\"incidence\"]).squeeze()\n",
    "\n",
    "print(\"X data: \", X_3)\n",
    "print(\"X shape: {} \\n\".format(X_3.shape))\n",
    "print(\"y data: \", y_3)\n",
    "print(\"y shape: \", y_3.shape)"
   ]
  },
  {
   "cell_type": "code",
   "execution_count": null,
   "metadata": {},
   "outputs": [],
   "source": [
    "evaluate_models_kfold(X_3, y_3, 5)"
   ]
  },
  {
   "cell_type": "code",
   "execution_count": null,
   "metadata": {},
   "outputs": [],
   "source": [
    "evaluate_models_stratifiedKFold(X_3, y_3, 5)"
   ]
  }
 ],
 "metadata": {
  "kernelspec": {
   "display_name": ".venv",
   "language": "python",
   "name": "python3"
  },
  "language_info": {
   "codemirror_mode": {
    "name": "ipython",
    "version": 3
   },
   "file_extension": ".py",
   "mimetype": "text/x-python",
   "name": "python",
   "nbconvert_exporter": "python",
   "pygments_lexer": "ipython3",
   "version": "3.10.6"
  },
  "orig_nbformat": 4
 },
 "nbformat": 4,
 "nbformat_minor": 2
}
