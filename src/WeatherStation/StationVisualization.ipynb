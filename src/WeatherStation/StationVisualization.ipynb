{
 "cells": [
  {
   "cell_type": "markdown",
   "metadata": {},
   "source": [
    "# stationVisualization.ipynb\n",
    "After loading the [weather stations into the database](https://github.com/ChromaticPanic/CGC_Grain_Outcome_Predictions/blob/main/src/WeatherStation/importBoundariesAndStations.ipynb) the following script can be used to visualize the spread of the stations as well as the data they hold\n",
    "\n",
    "##### Output graphs:\n",
    "- Station summaries for each district ([such as...](https://github.com/ChromaticPanic/CGC_Grain_Outcome_Predictions/blob/main/.github/img/TLDR.png))\n",
    "- Region plots for stations ([such as...](https://github.com/ChromaticPanic/CGC_Grain_Outcome_Predictions/blob/main/.github/img/allStations.png))\n",
    "\n",
    "Both of which consider:\n",
    "- Station elevation\n",
    "- Which stations are still active?\n",
    "- Which stations are hourly and which are daily?\n",
    "- Amount of data collected"
   ]
  },
  {
   "cell_type": "code",
   "execution_count": null,
   "metadata": {},
   "outputs": [],
   "source": [
    "import matplotlib.patches as mpatches  # type: ignore\n",
    "from matplotlib import pyplot as plt  # type: ignore\n",
    "from dotenv import load_dotenv\n",
    "import geopandas as gpd  # type: ignore\n",
    "import sqlalchemy as sq\n",
    "import os, sys\n",
    "\n",
    "\n",
    "sys.path.append(\"../\")\n",
    "from Shared.DataService import DataService"
   ]
  },
  {
   "cell_type": "code",
   "execution_count": null,
   "metadata": {},
   "outputs": [],
   "source": [
    "DLY_STATIONS_TABLE = \"stations_dly\"  # table that holds the daily stations\n",
    "HLY_STATIONS_TABLE = \"stations_hly\"  # table that holds the hourly stations\n",
    "AG_REGIONS_TABLE = \"census_ag_regions\"  # table that holds the agriculture regions\n",
    "\n",
    "MB_CUTOFF_ELEVATION = 300 + 50  # the average elevation for MB in m plus a 50m buffer\n",
    "SK_CUTOFF_ELEVATION = 610 + 50  # the average elevation for SK in m plus a 50m buffer\n",
    "AB_CUTOFF_ELEVATION = 800 + 50  # the average elevation for AB in m plus a 50m buffer\n",
    "\n",
    "\n",
    "# Load the database connection environment variables located in the docker folder\n",
    "load_dotenv(\"../docker/.env\")\n",
    "PG_USER = os.getenv(\"POSTGRES_USER\")\n",
    "PG_PW = os.getenv(\"POSTGRES_PW\")\n",
    "PG_DB = os.getenv(\"POSTGRES_DB\")\n",
    "PG_ADDR = os.getenv(\"POSTGRES_ADDR\")\n",
    "PG_PORT = os.getenv(\"POSTGRES_PORT\")"
   ]
  },
  {
   "cell_type": "markdown",
   "metadata": {},
   "source": [
    "Purpose:  \n",
    "Connects to the database\n",
    "\n",
    "Pseudocode:  \n",
    "- Load the environment variables\n",
    "- Connect to the database"
   ]
  },
  {
   "cell_type": "code",
   "execution_count": null,
   "metadata": {},
   "outputs": [],
   "source": [
    "if (\n",
    "    PG_DB is None\n",
    "    or PG_ADDR is None\n",
    "    or PG_PORT is None\n",
    "    or PG_USER is None\n",
    "    or PG_PW is None\n",
    "):\n",
    "    raise ValueError(\"Environment variables not set\")\n",
    "\n",
    "# Handles connections to the database\n",
    "db = DataService(PG_DB, PG_ADDR, int(PG_PORT), PG_USER, PG_PW)\n",
    "conn = db.connect()"
   ]
  },
  {
   "cell_type": "markdown",
   "metadata": {},
   "source": [
    "Purpose:  \n",
    "Load the agriculture regions from the agriculture regions table ([readme](https://github.com/ChromaticPanic/CGC_Grain_Outcome_Predictions#census_ag_regions))\n",
    "\n",
    "Pseudocode:  \n",
    "- Create the agriculture regions SQL query\n",
    "- [Load the data from the database directly into a DataFrame](https://geopandas.org/en/stable/docs/reference/api/geopandas.GeoDataFrame.from_postgis.html)\n",
    "    - crs specifies the coordinate system which in our case we are using EPSG:3347\n",
    "    - geom_col specifies the name of the columns we expect to find the geometry/borders within"
   ]
  },
  {
   "cell_type": "code",
   "execution_count": null,
   "metadata": {},
   "outputs": [],
   "source": [
    "regionQuery = sq.text(\n",
    "    f\"select district, color, geometry FROM public.{AG_REGIONS_TABLE}\"\n",
    ")\n",
    "\n",
    "agRegions = gpd.GeoDataFrame.from_postgis(\n",
    "    regionQuery, conn, crs=\"EPSG:3347\", geom_col=\"geometry\"\n",
    ")"
   ]
  },
  {
   "cell_type": "markdown",
   "metadata": {},
   "source": [
    "Purpose:  \n",
    "Load the daily weather stations from the daily weather stations table ([readme](https://github.com/ChromaticPanic/CGC_Grain_Outcome_Predictions#stations_dly))\n",
    "\n",
    "Pseudocode:  \n",
    "- Create the daily weather stations SQL query (all stations)\n",
    "- Create the daily weather stations SQL query \n",
    "    - restricted by elevation\n",
    "    - Only returns one station given the same set of coordinates\n",
    "    - First and last years must be valid\n",
    "- [Load the data from the database directly into a DataFrame](https://geopandas.org/en/stable/docs/reference/api/geopandas.GeoDataFrame.from_postgis.html)\n",
    "    - crs specifies the coordinate system which in our case we are using EPSG:3347\n",
    "    - geom_col specifies the name of the columns we expect to find the geometry/borders within"
   ]
  },
  {
   "cell_type": "code",
   "execution_count": null,
   "metadata": {},
   "outputs": [],
   "source": [
    "allDlyQuery = sq.text(f\"SELECT * FROM public.{DLY_STATIONS_TABLE}\")\n",
    "\n",
    "dlyQuery = sq.text(\n",
    "    f\"\"\"\n",
    "    SELECT latitude, longitude, MIN(dly_first_year), MAX(dly_last_year), district, geometry FROM public.{DLY_STATIONS_TABLE} \n",
    "    WHERE dly_first_year IS NOT NULL AND dly_last_year IS NOT NULL AND\n",
    "        (elevation <= {MB_CUTOFF_ELEVATION} AND province = 'MB' OR elevation <= {SK_CUTOFF_ELEVATION} AND province = 'SK' OR elevation <= {AB_CUTOFF_ELEVATION} AND province = 'AB')\n",
    "    GROUP BY latitude, longitude, district, geometry;\n",
    "    \"\"\"\n",
    ")\n",
    "\n",
    "allDlyStations = gpd.GeoDataFrame.from_postgis(\n",
    "    allDlyQuery, conn, crs=\"EPSG:3347\", geom_col=\"geometry\"\n",
    ")\n",
    "dlyStations = gpd.GeoDataFrame.from_postgis(\n",
    "    dlyQuery, conn, crs=\"EPSG:3347\", geom_col=\"geometry\"\n",
    ")"
   ]
  },
  {
   "cell_type": "markdown",
   "metadata": {},
   "source": [
    "Purpose:  \n",
    "Load the daily weather stations from the hourly weather stations table ([readme](https://github.com/ChromaticPanic/CGC_Grain_Outcome_Predictions#stations_hly))\n",
    "\n",
    "Pseudocode:  \n",
    "- Create the hourly weather stations SQL query (all stations)\n",
    "- Create the hourly weather stations SQL query \n",
    "    - restricted by elevation\n",
    "    - Only returns one station given the same set of coordinates\n",
    "    - First and last years must be valid\n",
    "- [Load the data from the database directly into a DataFrame](https://geopandas.org/en/stable/docs/reference/api/geopandas.GeoDataFrame.from_postgis.html)\n",
    "    - crs specifies the coordinate system which in our case we are using EPSG:3347\n",
    "    - geom_col specifies the name of the columns we expect to find the geometry/borders within"
   ]
  },
  {
   "cell_type": "code",
   "execution_count": null,
   "metadata": {},
   "outputs": [],
   "source": [
    "allHlyQuery = sq.text(f\"SELECT * FROM public.{HLY_STATIONS_TABLE}\")\n",
    "\n",
    "hlyQuery = sq.text(\n",
    "    f\"\"\"\n",
    "    SELECT latitude, longitude, MIN(dly_first_year), MAX(dly_last_year), district, geometry FROM public.{HLY_STATIONS_TABLE} \n",
    "    WHERE hly_first_year IS NOT NULL AND hly_last_year IS NOT NULL AND\n",
    "        (elevation <= {MB_CUTOFF_ELEVATION} AND province = 'MB' OR elevation <= {SK_CUTOFF_ELEVATION} AND province = 'SK' OR elevation <= {AB_CUTOFF_ELEVATION} AND province = 'AB')\n",
    "    GROUP BY latitude, longitude, district, geometry;\n",
    "    \"\"\"\n",
    ")\n",
    "\n",
    "allHlyStations = gpd.GeoDataFrame.from_postgis(\n",
    "    allHlyQuery, conn, crs=\"EPSG:3347\", geom_col=\"geometry\"\n",
    ")\n",
    "hlyStations = gpd.GeoDataFrame.from_postgis(\n",
    "    hlyQuery, conn, crs=\"EPSG:3347\", geom_col=\"geometry\"\n",
    ")"
   ]
  },
  {
   "cell_type": "markdown",
   "metadata": {},
   "source": [
    "Purpose:  \n",
    "Disconnect from the database"
   ]
  },
  {
   "cell_type": "code",
   "execution_count": null,
   "metadata": {},
   "outputs": [],
   "source": [
    "db.cleanup()"
   ]
  },
  {
   "cell_type": "markdown",
   "metadata": {},
   "source": [
    "Purpose:  \n",
    "Since no color is assigned to region 4612 (Nothern Manitoba, we assign it to as white)\n",
    "\n",
    "Psuedocode:  \n",
    "- [Reference the locations in the dataframe where the district is equal to 4612 and assign the value](https://pandas.pydata.org/docs/reference/api/pandas.DataFrame.loc.html) in the the column *color* to white"
   ]
  },
  {
   "cell_type": "code",
   "execution_count": null,
   "metadata": {},
   "outputs": [],
   "source": [
    "agRegions.loc[agRegions[\"district\"] == 4612, \"color\"] = \"white\""
   ]
  },
  {
   "cell_type": "markdown",
   "metadata": {},
   "source": [
    "Purpose:  \n",
    "Creates a region plot of the agriculture regions labeled their respective district number\n",
    "\n",
    "Psuedocode:  \n",
    "- [Generate the minimum and maximum bounds of the geography](https://geopandas.org/en/stable/docs/reference/api/geopandas.GeoSeries.total_bounds.html)\n",
    "- [Create a subplot](https://matplotlib.org/stable/api/_as_gen/matplotlib.pyplot.subplots.html)\n",
    "- [Assign the vertical view limit](https://matplotlib.org/stable/api/_as_gen/matplotlib.axes.Axes.set_ylim.html)\n",
    "- [Assign the hoirzontal view limit](https://matplotlib.org/stable/api/_as_gen/matplotlib.axes.Axes.set_xlim.html)\n",
    "- [Assign a title](https://matplotlib.org/stable/api/_as_gen/matplotlib.axes.Axes.set_title.html)\n",
    "- [Plot the geometry/districts](https://geopandas.org/en/stable/docs/reference/api/geopandas.GeoDataFrame.plot.html#geopandas.GeoDataFrame.plot)\n",
    "- [Add the centered labels](https://matplotlib.org/stable/api/_as_gen/matplotlib.pyplot.annotate.html)\n",
    "- [Generate the region plot](https://matplotlib.org/stable/api/_as_gen/matplotlib.pyplot.show.html)"
   ]
  },
  {
   "cell_type": "code",
   "execution_count": null,
   "metadata": {},
   "outputs": [],
   "source": [
    "minx, miny, maxx, maxy = agRegions.total_bounds\n",
    "fig, ax = plt.subplots(figsize=(20, 20))\n",
    "ax.set_ylim(miny, maxy)\n",
    "ax.set_xlim(minx, maxx)\n",
    "ax.set_title(\"Geometry with District Identifiers\")\n",
    "agRegions.plot(ax=ax, color=agRegions[\"color\"], edgecolor=\"black\")\n",
    "agRegions.apply(\n",
    "    lambda x: ax.annotate(\n",
    "        text=x[\"district\"],\n",
    "        xy=x.geometry.centroid.coords[0],\n",
    "        ha=\"center\",\n",
    "        color=\"black\",\n",
    "        size=10,\n",
    "    ),\n",
    "    axis=1,\n",
    ")\n",
    "\n",
    "plt.show()"
   ]
  },
  {
   "cell_type": "markdown",
   "metadata": {},
   "source": [
    "Purpose:  \n",
    "Creates markers/labels to be used in region plots\n",
    "\n",
    "Pseudocode:  \n",
    "- [Create labels for stations](https://matplotlib.org/stable/api/patches_api.html)\n",
    "- Assign colors to quantities of data per station\n",
    "- [Create labels for the quantities of data](https://matplotlib.org/stable/api/patches_api.html)"
   ]
  },
  {
   "cell_type": "code",
   "execution_count": null,
   "metadata": {},
   "outputs": [],
   "source": [
    "# Create labels for stations\n",
    "hourly = mpatches.Patch(color=\"black\", label=\"Houly stations (larger)\")\n",
    "daily = mpatches.Patch(color=\"red\", label=\"Daily stations (smaller)\")\n",
    "stations = mpatches.Patch(color=\"red\", label=\"Stations\")\n",
    "\n",
    "# Assign colors to quantities of data per station\n",
    "hasLessThan5Col = \"white\"\n",
    "hasLessThan10Col = \"pink\"\n",
    "hasLessThan15Col = \"red\"\n",
    "hasLessThan20Col = \"maroon\"\n",
    "hasMoreThan20Col = \"black\"\n",
    "\n",
    "# Create labels for the quantities of data\n",
    "hasLessThan5Yrs = mpatches.Patch(\n",
    "    color=hasLessThan5Col, label=\"Less than 5 years of data\"\n",
    ")\n",
    "hasLessThan10Yrs = mpatches.Patch(\n",
    "    color=hasLessThan10Col, label=\"Less than 10 years of data\"\n",
    ")\n",
    "hasLessThan15Yrs = mpatches.Patch(\n",
    "    color=hasLessThan15Col, label=\"Less than 15 years of data\"\n",
    ")\n",
    "hasLessThan20Yrs = mpatches.Patch(\n",
    "    color=hasLessThan20Col, label=\"Less than 20 years of data\"\n",
    ")\n",
    "hasMoreThan20Yrs = mpatches.Patch(\n",
    "    color=hasMoreThan20Col, label=\"More than 20 years of data\"\n",
    ")"
   ]
  },
  {
   "cell_type": "markdown",
   "metadata": {},
   "source": [
    "Purpose:  \n",
    "Creates a region plot for all daily weather stations\n",
    "\n",
    "Psuedocode:  \n",
    "- [Generate the minimum and maximum bounds of the geography](https://geopandas.org/en/stable/docs/reference/api/geopandas.GeoSeries.total_bounds.html)\n",
    "- [Create a subplot](https://matplotlib.org/stable/api/_as_gen/matplotlib.pyplot.subplots.html)\n",
    "- [Assign the vertical view limit](https://matplotlib.org/stable/api/_as_gen/matplotlib.axes.Axes.set_ylim.html)\n",
    "- [Assign the hoirzontal view limit](https://matplotlib.org/stable/api/_as_gen/matplotlib.axes.Axes.set_xlim.html)\n",
    "- [Assign a title](https://matplotlib.org/stable/api/_as_gen/matplotlib.axes.Axes.set_title.html)\n",
    "- [Plot the geometry/districts](https://geopandas.org/en/stable/docs/reference/api/geopandas.GeoDataFrame.plot.html#geopandas.GeoDataFrame.plot)\n",
    "- [Plot the weather stations](https://geopandas.org/en/stable/docs/reference/api/geopandas.GeoDataFrame.plot.html#geopandas.GeoDataFrame.plot)\n",
    "- [Add a legend](https://matplotlib.org/stable/api/_as_gen/matplotlib.pyplot.legend.html)"
   ]
  },
  {
   "cell_type": "code",
   "execution_count": null,
   "metadata": {},
   "outputs": [],
   "source": [
    "minx, miny, maxx, maxy = agRegions.total_bounds\n",
    "fig, ax = plt.subplots(figsize=(20, 20))\n",
    "ax.set_ylim(miny, maxy)\n",
    "ax.set_xlim(minx, maxx)\n",
    "ax.set_title(\"All Daily Stations\")\n",
    "agRegions.plot(ax=ax, color=agRegions[\"color\"], edgecolor=\"black\")\n",
    "allDlyStations.plot(ax=ax, color=\"red\", markersize=10)\n",
    "plt.legend(handles=[stations], fontsize=\"30\")"
   ]
  },
  {
   "cell_type": "markdown",
   "metadata": {},
   "source": [
    "Purpose:  \n",
    "Creates a region plot for all hourly weather stations\n",
    "\n",
    "Psuedocode:  \n",
    "- [Generate the minimum and maximum bounds of the geography](https://geopandas.org/en/stable/docs/reference/api/geopandas.GeoSeries.total_bounds.html)\n",
    "- [Create a subplot](https://matplotlib.org/stable/api/_as_gen/matplotlib.pyplot.subplots.html)\n",
    "- [Assign the vertical view limit](https://matplotlib.org/stable/api/_as_gen/matplotlib.axes.Axes.set_ylim.html)\n",
    "- [Assign the hoirzontal view limit](https://matplotlib.org/stable/api/_as_gen/matplotlib.axes.Axes.set_xlim.html)\n",
    "- [Assign a title](https://matplotlib.org/stable/api/_as_gen/matplotlib.axes.Axes.set_title.html)\n",
    "- [Plot the geometry/districts](https://geopandas.org/en/stable/docs/reference/api/geopandas.GeoDataFrame.plot.html#geopandas.GeoDataFrame.plot)\n",
    "- [Plot the weather stations](https://geopandas.org/en/stable/docs/reference/api/geopandas.GeoDataFrame.plot.html#geopandas.GeoDataFrame.plot)\n",
    "- [Add a legend](https://matplotlib.org/stable/api/_as_gen/matplotlib.pyplot.legend.html)"
   ]
  },
  {
   "cell_type": "code",
   "execution_count": null,
   "metadata": {},
   "outputs": [],
   "source": [
    "minx, miny, maxx, maxy = agRegions.total_bounds\n",
    "fig, ax = plt.subplots(figsize=(20, 20))\n",
    "ax.set_ylim(miny, maxy)\n",
    "ax.set_xlim(minx, maxx)\n",
    "ax.set_title(\"All Hourly Stations\")\n",
    "agRegions.plot(ax=ax, color=agRegions[\"color\"], edgecolor=\"black\")\n",
    "allHlyStations.plot(ax=ax, color=\"red\", markersize=10)\n",
    "plt.legend(handles=[stations], fontsize=\"30\")"
   ]
  },
  {
   "cell_type": "markdown",
   "metadata": {},
   "source": [
    "Purpose:  \n",
    "Creates a region plot for all weather stations (daily and hourly)\n",
    "\n",
    "Psuedocode:  \n",
    "- [Generate the minimum and maximum bounds of the geography](https://geopandas.org/en/stable/docs/reference/api/geopandas.GeoSeries.total_bounds.html)\n",
    "- [Create a subplot](https://matplotlib.org/stable/api/_as_gen/matplotlib.pyplot.subplots.html)\n",
    "- [Assign the vertical view limit](https://matplotlib.org/stable/api/_as_gen/matplotlib.axes.Axes.set_ylim.html)\n",
    "- [Assign the hoirzontal view limit](https://matplotlib.org/stable/api/_as_gen/matplotlib.axes.Axes.set_xlim.html)\n",
    "- [Assign a title](https://matplotlib.org/stable/api/_as_gen/matplotlib.axes.Axes.set_title.html)\n",
    "- [Plot the geometry/districts](https://geopandas.org/en/stable/docs/reference/api/geopandas.GeoDataFrame.plot.html#geopandas.GeoDataFrame.plot)\n",
    "- [Plot the weather stations](https://geopandas.org/en/stable/docs/reference/api/geopandas.GeoDataFrame.plot.html#geopandas.GeoDataFrame.plot)\n",
    "- [Add a legend](https://matplotlib.org/stable/api/_as_gen/matplotlib.pyplot.legend.html)"
   ]
  },
  {
   "cell_type": "code",
   "execution_count": null,
   "metadata": {},
   "outputs": [],
   "source": [
    "minx, miny, maxx, maxy = agRegions.total_bounds\n",
    "fig, ax = plt.subplots(figsize=(20, 20))\n",
    "ax.set_ylim(miny, maxy)\n",
    "ax.set_xlim(minx, maxx)\n",
    "ax.set_title(\"All Daily and Hourly Stations\")\n",
    "agRegions.plot(ax=ax, color=agRegions[\"color\"], edgecolor=\"black\")\n",
    "allHlyStations.plot(ax=ax, color=\"black\", markersize=25)\n",
    "allDlyStations.plot(ax=ax, color=\"red\", markersize=5)\n",
    "plt.legend(handles=[hourly, daily], fontsize=\"30\")"
   ]
  },
  {
   "cell_type": "markdown",
   "metadata": {},
   "source": [
    "Purpose:  \n",
    "Creates a region plot for all weather stations but with the following restrictions:\n",
    "- restricted by elevation\n",
    "- Only returns one station given the same set of coordinates\n",
    "- First and last years must be valid\n",
    "\n",
    "Psuedocode:  \n",
    "- [Generate the minimum and maximum bounds of the geography](https://geopandas.org/en/stable/docs/reference/api/geopandas.GeoSeries.total_bounds.html)\n",
    "- [Create a subplot](https://matplotlib.org/stable/api/_as_gen/matplotlib.pyplot.subplots.html)\n",
    "- [Assign the vertical view limit](https://matplotlib.org/stable/api/_as_gen/matplotlib.axes.Axes.set_ylim.html)\n",
    "- [Assign the hoirzontal view limit](https://matplotlib.org/stable/api/_as_gen/matplotlib.axes.Axes.set_xlim.html)\n",
    "- [Assign a title](https://matplotlib.org/stable/api/_as_gen/matplotlib.axes.Axes.set_title.html)\n",
    "- [Plot the geometry/districts](https://geopandas.org/en/stable/docs/reference/api/geopandas.GeoDataFrame.plot.html#geopandas.GeoDataFrame.plot)\n",
    "- [Plot the weather stations](https://geopandas.org/en/stable/docs/reference/api/geopandas.GeoDataFrame.plot.html#geopandas.GeoDataFrame.plot)\n",
    "- [Add a legend](https://matplotlib.org/stable/api/_as_gen/matplotlib.pyplot.legend.html)"
   ]
  },
  {
   "cell_type": "code",
   "execution_count": null,
   "metadata": {},
   "outputs": [],
   "source": [
    "minx, miny, maxx, maxy = agRegions.total_bounds\n",
    "fig, ax = plt.subplots(figsize=(20, 20))\n",
    "ax.set_ylim(miny, maxy)\n",
    "ax.set_xlim(minx, maxx)\n",
    "ax.set_title(\"Restricted Daily and Hourly Stations\")\n",
    "agRegions.plot(ax=ax, color=agRegions[\"color\"], edgecolor=\"black\")\n",
    "dlyStations.plot(ax=ax, color=\"black\", markersize=25)\n",
    "hlyStations.plot(ax=ax, color=\"red\", markersize=5)\n",
    "plt.legend(handles=[hourly, daily], fontsize=\"30\")"
   ]
  },
  {
   "cell_type": "markdown",
   "metadata": {},
   "source": [
    "Purpose:  \n",
    "Drops stations without the latest data (2022)\n",
    "\n",
    "Pseudocode:  \n",
    "- Create a geoDataFrame from the weather stations such that only the rows with their max year column = 2022 are included (by dropping the others)"
   ]
  },
  {
   "cell_type": "code",
   "execution_count": null,
   "metadata": {},
   "outputs": [],
   "source": [
    "activeDlyStations = gpd.GeoDataFrame(\n",
    "    dlyStations.drop(dlyStations[dlyStations[\"max\"] != 2022].index)\n",
    ")\n",
    "\n",
    "activeHlyStations = gpd.GeoDataFrame(\n",
    "    hlyStations.drop(hlyStations[hlyStations[\"max\"] != 2022].index)\n",
    ")"
   ]
  },
  {
   "cell_type": "markdown",
   "metadata": {},
   "source": [
    "Purpose:  \n",
    "Creates a region plot for all active weather stations (has data from 2022)\n",
    "\n",
    "Psuedocode:  \n",
    "- [Generate the minimum and maximum bounds of the geography](https://geopandas.org/en/stable/docs/reference/api/geopandas.GeoSeries.total_bounds.html)\n",
    "- [Create a subplot](https://matplotlib.org/stable/api/_as_gen/matplotlib.pyplot.subplots.html)\n",
    "- [Assign the vertical view limit](https://matplotlib.org/stable/api/_as_gen/matplotlib.axes.Axes.set_ylim.html)\n",
    "- [Assign the hoirzontal view limit](https://matplotlib.org/stable/api/_as_gen/matplotlib.axes.Axes.set_xlim.html)\n",
    "- [Assign a title](https://matplotlib.org/stable/api/_as_gen/matplotlib.axes.Axes.set_title.html)\n",
    "- [Plot the geometry/districts](https://geopandas.org/en/stable/docs/reference/api/geopandas.GeoDataFrame.plot.html#geopandas.GeoDataFrame.plot)\n",
    "- [Plot the weather stations](https://geopandas.org/en/stable/docs/reference/api/geopandas.GeoDataFrame.plot.html#geopandas.GeoDataFrame.plot)\n",
    "- [Add a legend](https://matplotlib.org/stable/api/_as_gen/matplotlib.pyplot.legend.html)"
   ]
  },
  {
   "cell_type": "code",
   "execution_count": null,
   "metadata": {},
   "outputs": [],
   "source": [
    "minx, miny, maxx, maxy = agRegions.total_bounds\n",
    "fig, ax = plt.subplots(figsize=(20, 20))\n",
    "ax.set_ylim(miny, maxy)\n",
    "ax.set_xlim(minx, maxx)\n",
    "ax.set_title(\"Active Daily and Hourly Stations\")\n",
    "agRegions.plot(ax=ax, color=agRegions[\"color\"], edgecolor=\"black\", label=5)\n",
    "activeHlyStations.plot(ax=ax, color=\"black\", markersize=25)\n",
    "activeDlyStations.plot(ax=ax, color=\"red\", markersize=5)\n",
    "\n",
    "plt.legend(handles=[hourly, daily], fontsize=\"30\")"
   ]
  },
  {
   "cell_type": "markdown",
   "metadata": {},
   "source": [
    "Purpose:  \n",
    "Creates duplicater geoDataFrames of the original station data and then adds a color column (assigned to None)"
   ]
  },
  {
   "cell_type": "code",
   "execution_count": null,
   "metadata": {},
   "outputs": [],
   "source": [
    "coloredDlyStations = gpd.GeoDataFrame(dlyStations)\n",
    "coloredHlyStations = gpd.GeoDataFrame(hlyStations)\n",
    "\n",
    "coloredDlyStations[\"color\"] = None\n",
    "coloredHlyStations[\"color\"] = None"
   ]
  },
  {
   "cell_type": "markdown",
   "metadata": {},
   "source": [
    "Purpose:  \n",
    "Assigns colors to stations depending on how many years of data is available in a station (last year - first year)\n",
    "\n",
    "Psuedocode:  \n",
    "- Calculate the number of years with data (lastYear - firstYear)\n",
    "- Assign the color which corresponds to the following categories of data:\n",
    "    - less than or equal to 5 years\n",
    "    - less than or equal to 10 years\n",
    "    - less than or equal to 15 years\n",
    "    - less than or equal to 20 years\n",
    "    - More than 20 years"
   ]
  },
  {
   "cell_type": "code",
   "execution_count": null,
   "metadata": {},
   "outputs": [],
   "source": [
    "def checkColor(df, index, firstYear, lastYear):\n",
    "    numYrs = lastYear - firstYear\n",
    "\n",
    "    if numYrs <= 5:\n",
    "        df.at[index, \"color\"] = hasLessThan5Col\n",
    "    elif numYrs <= 10:\n",
    "        df.at[index, \"color\"] = hasLessThan10Col\n",
    "    elif numYrs <= 15:\n",
    "        df.at[index, \"color\"] = hasLessThan15Col\n",
    "    elif numYrs <= 20:\n",
    "        df.at[index, \"color\"] = hasLessThan20Col\n",
    "    else:\n",
    "        df.at[index, \"color\"] = hasMoreThan20Col"
   ]
  },
  {
   "cell_type": "markdown",
   "metadata": {},
   "source": [
    "Purpose:  \n",
    "Iterrate through the rows of data and add the corresponding color (dly and hly)"
   ]
  },
  {
   "cell_type": "code",
   "execution_count": null,
   "metadata": {},
   "outputs": [],
   "source": [
    "# Add the corresponding colors (years of data) for the dly stations\n",
    "for index, row in coloredDlyStations.iterrows():\n",
    "    checkColor(coloredDlyStations, index, row[\"min\"], row[\"max\"])\n",
    "\n",
    "# Add the corresponding colors (years of data) for the hly stations\n",
    "for index, row in coloredHlyStations.iterrows():\n",
    "    checkColor(coloredHlyStations, index, row[\"min\"], row[\"max\"])"
   ]
  },
  {
   "cell_type": "markdown",
   "metadata": {},
   "source": [
    "Purpose:  \n",
    "Creates a region plot for daily weather stations such that different colors correspond to the amount of data available:\n",
    "- less than 5 years = white\n",
    "- less than 10 years = pink\n",
    "- less than 15 years = red\n",
    "- less than 20 years = maroon\n",
    "- more than 20 years = black\n",
    "\n",
    "Psuedocode:  \n",
    "- [Generate the minimum and maximum bounds of the geography](https://geopandas.org/en/stable/docs/reference/api/geopandas.GeoSeries.total_bounds.html)\n",
    "- [Create a subplot](https://matplotlib.org/stable/api/_as_gen/matplotlib.pyplot.subplots.html)\n",
    "- [Assign the vertical view limit](https://matplotlib.org/stable/api/_as_gen/matplotlib.axes.Axes.set_ylim.html)\n",
    "- [Assign the hoirzontal view limit](https://matplotlib.org/stable/api/_as_gen/matplotlib.axes.Axes.set_xlim.html)\n",
    "- [Assign a title](https://matplotlib.org/stable/api/_as_gen/matplotlib.axes.Axes.set_title.html)\n",
    "- [Plot the geometry/districts](https://geopandas.org/en/stable/docs/reference/api/geopandas.GeoDataFrame.plot.html#geopandas.GeoDataFrame.plot)\n",
    "- [Plot the weather stations](https://geopandas.org/en/stable/docs/reference/api/geopandas.GeoDataFrame.plot.html#geopandas.GeoDataFrame.plot)\n",
    "- [Add a legend](https://matplotlib.org/stable/api/_as_gen/matplotlib.pyplot.legend.html)"
   ]
  },
  {
   "cell_type": "code",
   "execution_count": null,
   "metadata": {},
   "outputs": [],
   "source": [
    "minx, miny, maxx, maxy = agRegions.total_bounds\n",
    "fig, ax = plt.subplots(figsize=(20, 20))\n",
    "ax.set_ylim(miny, maxy)\n",
    "ax.set_xlim(minx, maxx)\n",
    "ax.set_title(\"Number of Years of Data for Daily Stations\")\n",
    "agRegions.plot(ax=ax, color=agRegions[\"color\"], edgecolor=\"black\")\n",
    "coloredDlyStations.plot(ax=ax, color=coloredDlyStations[\"color\"], markersize=20)\n",
    "\n",
    "plt.legend(\n",
    "    handles=[\n",
    "        hasLessThan5Yrs,\n",
    "        hasLessThan10Yrs,\n",
    "        hasLessThan15Yrs,\n",
    "        hasLessThan20Yrs,\n",
    "        hasMoreThan20Yrs,\n",
    "    ],\n",
    "    fontsize=\"30\",\n",
    ")"
   ]
  },
  {
   "cell_type": "markdown",
   "metadata": {},
   "source": [
    "Purpose:  \n",
    "Creates a region plot for hourly weather stations such that different colors correspond to the amount of data available:\n",
    "- less than 5 years = white\n",
    "- less than 10 years = pink\n",
    "- less than 15 years = red\n",
    "- less than 20 years = maroon\n",
    "- more than 20 years = black\n",
    "\n",
    "Psuedocode:  \n",
    "- [Generate the minimum and maximum bounds of the geography](https://geopandas.org/en/stable/docs/reference/api/geopandas.GeoSeries.total_bounds.html)\n",
    "- [Create a subplot](https://matplotlib.org/stable/api/_as_gen/matplotlib.pyplot.subplots.html)\n",
    "- [Assign the vertical view limit](https://matplotlib.org/stable/api/_as_gen/matplotlib.axes.Axes.set_ylim.html)\n",
    "- [Assign the hoirzontal view limit](https://matplotlib.org/stable/api/_as_gen/matplotlib.axes.Axes.set_xlim.html)\n",
    "- [Assign a title](https://matplotlib.org/stable/api/_as_gen/matplotlib.axes.Axes.set_title.html)\n",
    "- [Plot the geometry/districts](https://geopandas.org/en/stable/docs/reference/api/geopandas.GeoDataFrame.plot.html#geopandas.GeoDataFrame.plot)\n",
    "- [Plot the weather stations](https://geopandas.org/en/stable/docs/reference/api/geopandas.GeoDataFrame.plot.html#geopandas.GeoDataFrame.plot)\n",
    "- [Add a legend](https://matplotlib.org/stable/api/_as_gen/matplotlib.pyplot.legend.html)"
   ]
  },
  {
   "cell_type": "code",
   "execution_count": null,
   "metadata": {},
   "outputs": [],
   "source": [
    "minx, miny, maxx, maxy = agRegions.total_bounds\n",
    "fig, ax = plt.subplots(figsize=(20, 20))\n",
    "ax.set_ylim(miny, maxy)\n",
    "ax.set_xlim(minx, maxx)\n",
    "ax.set_title(\"Number of Years of Data for Hourly Stations (darker means more)\")\n",
    "agRegions.plot(ax=ax, color=agRegions[\"color\"], edgecolor=\"black\")\n",
    "coloredHlyStations.plot(ax=ax, color=coloredHlyStations[\"color\"], markersize=20)\n",
    "\n",
    "plt.legend(\n",
    "    handles=[\n",
    "        hasLessThan5Yrs,\n",
    "        hasLessThan10Yrs,\n",
    "        hasLessThan15Yrs,\n",
    "        hasLessThan20Yrs,\n",
    "        hasMoreThan20Yrs,\n",
    "    ],\n",
    "    fontsize=\"30\",\n",
    ")"
   ]
  },
  {
   "cell_type": "markdown",
   "metadata": {},
   "source": [
    "Purpose:  \n",
    "Creates a region plot for all weather stations such that different colors correspond to the amount of data available:\n",
    "- less than 5 years = white\n",
    "- less than 10 years = pink\n",
    "- less than 15 years = red\n",
    "- less than 20 years = maroon\n",
    "- more than 20 years = black\n",
    "\n",
    "Psuedocode:  \n",
    "- [Generate the minimum and maximum bounds of the geography](https://geopandas.org/en/stable/docs/reference/api/geopandas.GeoSeries.total_bounds.html)\n",
    "- [Create a subplot](https://matplotlib.org/stable/api/_as_gen/matplotlib.pyplot.subplots.html)\n",
    "- [Assign the vertical view limit](https://matplotlib.org/stable/api/_as_gen/matplotlib.axes.Axes.set_ylim.html)\n",
    "- [Assign the hoirzontal view limit](https://matplotlib.org/stable/api/_as_gen/matplotlib.axes.Axes.set_xlim.html)\n",
    "- [Assign a title](https://matplotlib.org/stable/api/_as_gen/matplotlib.axes.Axes.set_title.html)\n",
    "- [Plot the geometry/districts](https://geopandas.org/en/stable/docs/reference/api/geopandas.GeoDataFrame.plot.html#geopandas.GeoDataFrame.plot)\n",
    "- [Plot the weather stations](https://geopandas.org/en/stable/docs/reference/api/geopandas.GeoDataFrame.plot.html#geopandas.GeoDataFrame.plot)\n",
    "- [Add a legend](https://matplotlib.org/stable/api/_as_gen/matplotlib.pyplot.legend.html)"
   ]
  },
  {
   "cell_type": "code",
   "execution_count": null,
   "metadata": {},
   "outputs": [],
   "source": [
    "minx, miny, maxx, maxy = agRegions.total_bounds\n",
    "fig, ax = plt.subplots(figsize=(20, 20))\n",
    "ax.set_ylim(miny, maxy)\n",
    "ax.set_xlim(minx, maxx)\n",
    "ax.set_title(\"Number of Years of Data for Daily and Hourly Stations\")\n",
    "agRegions.plot(ax=ax, color=agRegions[\"color\"], edgecolor=\"black\")\n",
    "coloredHlyStations.plot(ax=ax, color=coloredHlyStations[\"color\"], markersize=25)\n",
    "coloredDlyStations.plot(ax=ax, color=coloredDlyStations[\"color\"], markersize=5)\n",
    "\n",
    "plt.legend(\n",
    "    title=\"Hourly Stations are Larger, Daily Stations are Smaller\",\n",
    "    title_fontsize=\"20\",\n",
    "    handles=[\n",
    "        hasLessThan5Yrs,\n",
    "        hasLessThan10Yrs,\n",
    "        hasLessThan15Yrs,\n",
    "        hasLessThan20Yrs,\n",
    "        hasMoreThan20Yrs,\n",
    "    ],\n",
    "    fontsize=\"30\",\n",
    ")"
   ]
  },
  {
   "cell_type": "markdown",
   "metadata": {},
   "source": [
    "Purpose:  \n",
    "Creates a report based on the data of a weather stations which considers the following:\n",
    "- Raw number of stations\n",
    "- Number of stations that satisfy elevation and have a unique position\n",
    "- Number of stations with at least 5 years of data\n",
    "- Number of stations with at least 10 years of data\n",
    "- Number of stations with at least 15 years of data\n",
    "- Number of stations with at least 20 years of data\n",
    "- Number of stations with more then 20 years of data\n",
    "- Number of stations that were active as of 2022"
   ]
  },
  {
   "cell_type": "code",
   "execution_count": null,
   "metadata": {},
   "outputs": [],
   "source": [
    "def genReport(\n",
    "    allHlyStations: gpd.GeoDataFrame,\n",
    "    hlyStations: gpd.GeoDataFrame,\n",
    "    coloredHlyStations: gpd.GeoDataFrame,\n",
    "    activeHlyStations: gpd.GeoDataFrame,\n",
    "    allDlyStations: gpd.GeoDataFrame,\n",
    "    dlyStations: gpd.GeoDataFrame,\n",
    "    coloredDlyStations: gpd.GeoDataFrame,\n",
    "    activeDlyStations: gpd.GeoDataFrame,\n",
    "    append: str = \"\",\n",
    "):\n",
    "    print(\n",
    "        f\"\"\"\n",
    "        {append}Raw number of hourly stations: {len(allHlyStations.index)}\n",
    "        {append}Raw number of daily stations: {len(allDlyStations.index)}\n",
    "\n",
    "        {append}Number of hourly stations that satisfy elevation and have a unique position: {len(hlyStations.index)}\n",
    "        {append}Number of daily stations that satisfy elevation and have a unique position: {len(dlyStations.index)}\n",
    "\n",
    "        {append}The following statistics describe the restricted set of weather stations:\n",
    "        {append}\\tNumber of hourly stations with at least 5 years of data: {len(coloredHlyStations[coloredHlyStations[\"color\"] == hasLessThan5Col])}\n",
    "        {append}\\tNumber of daily stations with at least 5 years of data: {len(coloredDlyStations[coloredDlyStations[\"color\"] == hasLessThan5Col])}\n",
    "\n",
    "        {append}\\tNumber of hourly stations with at least 10 years of data: {len(coloredHlyStations[coloredHlyStations[\"color\"] == hasLessThan10Col])}\n",
    "        {append}\\tNumber of daily stations with at least 10 years of data: {len(coloredDlyStations[coloredDlyStations[\"color\"] == hasLessThan10Col])}\n",
    "\n",
    "        {append}\\tNumber of hourly stations with at least 15 years of data: {len(coloredHlyStations[coloredHlyStations[\"color\"] == hasLessThan15Col])}\n",
    "        {append}\\tNumber of daily stations with at least 15 years of data: {len(coloredDlyStations[coloredDlyStations[\"color\"] == hasLessThan15Col])}\n",
    "\n",
    "        {append}\\tNumber of hourly stations with at least 20 years of data: {len(coloredHlyStations[coloredHlyStations[\"color\"] == hasLessThan20Col])}\n",
    "        {append}\\tNumber of daily stations with at least 20 years of data: {len(coloredDlyStations[coloredDlyStations[\"color\"] == hasLessThan20Col])}\n",
    "    \n",
    "        {append}\\tNumber of hourly stations with more than 20 years of data: {len(coloredHlyStations[coloredHlyStations[\"color\"] == hasMoreThan20Col])}\n",
    "        {append}\\tNumber of daily stations with more than 20 years of data: {len(coloredDlyStations[coloredDlyStations[\"color\"] == hasMoreThan20Col])}\n",
    "    \n",
    "        {append}\\tNumber of hourly stations that were active as of 2022: {len(activeHlyStations.index)}\n",
    "        {append}\\tNumber of daily stations that were active as of 2022: {len(activeDlyStations.index)}\\n\n",
    "        \"\"\"\n",
    "    )"
   ]
  },
  {
   "cell_type": "markdown",
   "metadata": {},
   "source": [
    "Purpose:  \n",
    "Creates reports for all loaded data"
   ]
  },
  {
   "cell_type": "code",
   "execution_count": null,
   "metadata": {},
   "outputs": [],
   "source": [
    "genReport(\n",
    "    allHlyStations,\n",
    "    hlyStations,\n",
    "    coloredHlyStations,\n",
    "    activeHlyStations,\n",
    "    allDlyStations,\n",
    "    dlyStations,\n",
    "    coloredDlyStations,\n",
    "    activeDlyStations,\n",
    ")"
   ]
  },
  {
   "cell_type": "markdown",
   "metadata": {},
   "source": [
    "Purpose:  \n",
    "Creates reports based on districts and provinces"
   ]
  },
  {
   "cell_type": "code",
   "execution_count": null,
   "metadata": {},
   "outputs": [],
   "source": [
    "for index, row in agRegions.iterrows():\n",
    "    currDistrict = row[\"district\"]\n",
    "    province = \"SK\"\n",
    "\n",
    "    if currDistrict < 4700:\n",
    "        province = \"MB\"\n",
    "    elif currDistrict >= 4800:\n",
    "        province = \"AB\"\n",
    "\n",
    "    allDistHlyStations = allHlyStations[allHlyStations[\"district\"] == currDistrict]\n",
    "    hlyDistStations = hlyStations[hlyStations[\"district\"] == currDistrict]\n",
    "    coloredDistHlyStations = coloredHlyStations[\n",
    "        coloredHlyStations[\"district\"] == currDistrict\n",
    "    ]\n",
    "    activeDistHlyStations = activeHlyStations[\n",
    "        activeHlyStations[\"district\"] == currDistrict\n",
    "    ]\n",
    "\n",
    "    allDistDlyStations = allDlyStations[allDlyStations[\"district\"] == currDistrict]\n",
    "    dlyDistStations = dlyStations[dlyStations[\"district\"] == currDistrict]\n",
    "    coloredDistDlyStations = coloredDlyStations[\n",
    "        coloredDlyStations[\"district\"] == currDistrict\n",
    "    ]\n",
    "    activeDistDlyStations = activeHlyStations[\n",
    "        activeDlyStations[\"district\"] == currDistrict\n",
    "    ]\n",
    "\n",
    "    print(f\"District: {currDistrict} which is in {province}\")\n",
    "    genReport(\n",
    "        allDistHlyStations,\n",
    "        hlyDistStations,\n",
    "        coloredDistHlyStations,\n",
    "        activeDistHlyStations,\n",
    "        allDistDlyStations,\n",
    "        dlyDistStations,\n",
    "        coloredDistDlyStations,\n",
    "        activeDistDlyStations,\n",
    "        \"\\t\",\n",
    "    )\n",
    "\n",
    "    if len(hlyDistStations) > 0:\n",
    "        print(\n",
    "            f'\\tHourly date range falls into: {int(hlyDistStations[\"min\"].min())} - {int(hlyDistStations[\"max\"].max())}'\n",
    "        )\n",
    "    if len(dlyDistStations) > 0:\n",
    "        print(\n",
    "            f'\\tDaily date range falls into: {int(dlyDistStations[\"min\"].min())} - {int(dlyDistStations[\"max\"].max())}\\n\\n\\n'\n",
    "        )"
   ]
  }
 ],
 "metadata": {
  "kernelspec": {
   "display_name": "env",
   "language": "python",
   "name": "python3"
  },
  "language_info": {
   "codemirror_mode": {
    "name": "ipython",
    "version": 3
   },
   "file_extension": ".py",
   "mimetype": "text/x-python",
   "name": "python",
   "nbconvert_exporter": "python",
   "pygments_lexer": "ipython3",
   "version": "3.8.0"
  },
  "orig_nbformat": 4
 },
 "nbformat": 4,
 "nbformat_minor": 2
}
