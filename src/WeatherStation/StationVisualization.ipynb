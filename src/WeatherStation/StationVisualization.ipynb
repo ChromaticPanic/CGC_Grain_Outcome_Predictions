{
 "cells": [
  {
   "cell_type": "code",
   "execution_count": null,
   "metadata": {},
   "outputs": [],
   "source": [
    "import os\n",
    "import sys\n",
    "import geopandas as gpd  # type: ignore\n",
    "import sqlalchemy as sq\n",
    "from matplotlib import pyplot as plt  # type: ignore\n",
    "import matplotlib.patches as mpatches  # type: ignore\n",
    "from dotenv import load_dotenv\n",
    "\n",
    "sys.path.append(\"../\")\n",
    "from Shared.DataService import DataService"
   ]
  },
  {
   "cell_type": "code",
   "execution_count": null,
   "metadata": {},
   "outputs": [],
   "source": [
    "MB_CUTOFF_ELEVATION = 300 + 50  # the average elevation for MB in m plus a 50m buffer\n",
    "SK_CUTOFF_ELEVATION = 610 + 50  # the average elevation for SK in m plus a 50m buffer\n",
    "AB_CUTOFF_ELEVATION = 800 + 50  # the average elevation for AB in m plus a 50m buffer\n",
    "\n",
    "load_dotenv()\n",
    "PG_USER = os.getenv(\"POSTGRES_USER\")\n",
    "PG_PW = os.getenv(\"POSTGRES_PW\")\n",
    "PG_DB = os.getenv(\"POSTGRES_DB\")\n",
    "PG_ADDR = os.getenv(\"POSTGRES_ADDR\")\n",
    "PG_PORT = os.getenv(\"POSTGRES_PORT\")"
   ]
  },
  {
   "cell_type": "code",
   "execution_count": null,
   "metadata": {},
   "outputs": [],
   "source": [
    "if (\n",
    "    PG_DB is None\n",
    "    or PG_ADDR is None\n",
    "    or PG_PORT is None\n",
    "    or PG_USER is None\n",
    "    or PG_PW is None\n",
    "):\n",
    "    raise ValueError(\"Environment variables not set\")\n",
    "\n",
    "# Handles connections to the database\n",
    "db = DataService(PG_DB, PG_ADDR, int(PG_PORT), PG_USER, PG_PW)\n",
    "conn = db.connect()"
   ]
  },
  {
   "cell_type": "code",
   "execution_count": null,
   "metadata": {},
   "outputs": [],
   "source": [
    "regionQuery = sq.text(\"select car_uid, color, geometry FROM public.census_ag_regions\")\n",
    "agRegions = gpd.GeoDataFrame.from_postgis(\n",
    "    regionQuery, conn, crs=\"EPSG:3347\", geom_col=\"geometry\"\n",
    ")"
   ]
  },
  {
   "cell_type": "code",
   "execution_count": null,
   "metadata": {},
   "outputs": [],
   "source": [
    "allDlyQuery = sq.text(\"SELECT * FROM public.stations_dly\")\n",
    "dlyQuery = sq.text(\n",
    "    f\"\"\"\n",
    "    SELECT latitude, longitude, MIN(dly_first_year), MAX(dly_last_year), district, geometry FROM public.stations_dly \n",
    "    WHERE dly_first_year IS NOT NULL AND dly_last_year IS NOT NULL AND\n",
    "        (elevation <= {MB_CUTOFF_ELEVATION} AND province = 'MB' OR elevation <= {SK_CUTOFF_ELEVATION} AND province = 'SK' OR elevation <= {AB_CUTOFF_ELEVATION} AND province = 'AB')\n",
    "    GROUP BY latitude, longitude, district, geometry;\n",
    "    \"\"\"\n",
    ")\n",
    "\n",
    "allDlyStations = gpd.GeoDataFrame.from_postgis(\n",
    "    allDlyQuery, conn, crs=\"EPSG:3347\", geom_col=\"geometry\"\n",
    ")\n",
    "dlyStations = gpd.GeoDataFrame.from_postgis(\n",
    "    dlyQuery, conn, crs=\"EPSG:3347\", geom_col=\"geometry\"\n",
    ")"
   ]
  },
  {
   "cell_type": "code",
   "execution_count": null,
   "metadata": {},
   "outputs": [],
   "source": [
    "allHlyQuery = sq.text(\"SELECT * FROM public.stations_hly\")\n",
    "hlyQuery = sq.text(\n",
    "    f\"\"\"\n",
    "    SELECT latitude, longitude, MIN(dly_first_year), MAX(dly_last_year), district, geometry FROM public.stations_hly \n",
    "    WHERE hly_first_year IS NOT NULL AND hly_last_year IS NOT NULL AND\n",
    "        (elevation <= {MB_CUTOFF_ELEVATION} AND province = 'MB' OR elevation <= {SK_CUTOFF_ELEVATION} AND province = 'SK' OR elevation <= {AB_CUTOFF_ELEVATION} AND province = 'AB')\n",
    "    GROUP BY latitude, longitude, district, geometry;\n",
    "    \"\"\"\n",
    ")\n",
    "\n",
    "allHlyStations = gpd.GeoDataFrame.from_postgis(\n",
    "    allHlyQuery, conn, crs=\"EPSG:3347\", geom_col=\"geometry\"\n",
    ")\n",
    "hlyStations = gpd.GeoDataFrame.from_postgis(\n",
    "    hlyQuery, conn, crs=\"EPSG:3347\", geom_col=\"geometry\"\n",
    ")"
   ]
  },
  {
   "cell_type": "code",
   "execution_count": null,
   "metadata": {},
   "outputs": [],
   "source": [
    "db.cleanup()"
   ]
  },
  {
   "cell_type": "code",
   "execution_count": null,
   "metadata": {},
   "outputs": [],
   "source": [
    "agRegions.loc[agRegions[\"car_uid\"] == 4612, \"color\"] = \"white\""
   ]
  },
  {
   "cell_type": "code",
   "execution_count": null,
   "metadata": {},
   "outputs": [],
   "source": [
    "minx, miny, maxx, maxy = agRegions.total_bounds\n",
    "fig, ax = plt.subplots(figsize=(20, 20))\n",
    "ax.set_ylim(miny, maxy)\n",
    "ax.set_xlim(minx, maxx)\n",
    "ax.set_title(\"Geometry with District Identifiers\")\n",
    "agRegions.plot(ax=ax, color=agRegions[\"color\"], edgecolor=\"black\")\n",
    "agRegions.apply(\n",
    "    lambda x: ax.annotate(\n",
    "        text=x[\"car_uid\"],\n",
    "        xy=x.geometry.centroid.coords[0],\n",
    "        ha=\"center\",\n",
    "        color=\"black\",\n",
    "        size=10,\n",
    "    ),\n",
    "    axis=1,\n",
    ")\n",
    "plt.show()"
   ]
  },
  {
   "cell_type": "code",
   "execution_count": null,
   "metadata": {},
   "outputs": [],
   "source": [
    "hourly = mpatches.Patch(color=\"black\", label=\"Houly stations (larger)\")\n",
    "daily = mpatches.Patch(color=\"red\", label=\"Daily stations (smaller)\")\n",
    "stations = mpatches.Patch(color=\"red\", label=\"Stations\")\n",
    "\n",
    "hasLessThan5Col = \"white\"\n",
    "hasLessThan10Col = \"pink\"\n",
    "hasLessThan15Col = \"red\"\n",
    "hasLessThan20Col = \"maroon\"\n",
    "hasMoreThan20Col = \"black\"\n",
    "\n",
    "hasLessThan5Yrs = mpatches.Patch(\n",
    "    color=hasLessThan5Col, label=\"Less than 5 years of data\"\n",
    ")\n",
    "hasLessThan10Yrs = mpatches.Patch(\n",
    "    color=hasLessThan10Col, label=\"Less than 10 years of data\"\n",
    ")\n",
    "hasLessThan15Yrs = mpatches.Patch(\n",
    "    color=hasLessThan15Col, label=\"Less than 15 years of data\"\n",
    ")\n",
    "hasLessThan20Yrs = mpatches.Patch(\n",
    "    color=hasLessThan20Col, label=\"Less than 20 years of data\"\n",
    ")\n",
    "hasMoreThan20Yrs = mpatches.Patch(\n",
    "    color=hasMoreThan20Col, label=\"More than 20 years of data\"\n",
    ")"
   ]
  },
  {
   "cell_type": "code",
   "execution_count": null,
   "metadata": {},
   "outputs": [],
   "source": [
    "minx, miny, maxx, maxy = agRegions.total_bounds\n",
    "fig, ax = plt.subplots(figsize=(20, 20))\n",
    "ax.set_ylim(miny, maxy)\n",
    "ax.set_xlim(minx, maxx)\n",
    "ax.set_title(\"All Daily Stations\")\n",
    "agRegions.plot(ax=ax, color=agRegions[\"color\"], edgecolor=\"black\")\n",
    "allDlyStations.plot(ax=ax, color=\"red\", markersize=10)\n",
    "plt.legend(handles=[stations], fontsize=\"30\")"
   ]
  },
  {
   "cell_type": "code",
   "execution_count": null,
   "metadata": {},
   "outputs": [],
   "source": [
    "minx, miny, maxx, maxy = agRegions.total_bounds\n",
    "fig, ax = plt.subplots(figsize=(20, 20))\n",
    "ax.set_ylim(miny, maxy)\n",
    "ax.set_xlim(minx, maxx)\n",
    "ax.set_title(\"All Hourly Stations\")\n",
    "agRegions.plot(ax=ax, color=agRegions[\"color\"], edgecolor=\"black\")\n",
    "allHlyStations.plot(ax=ax, color=\"red\", markersize=10)\n",
    "plt.legend(handles=[stations], fontsize=\"30\")"
   ]
  },
  {
   "cell_type": "code",
   "execution_count": null,
   "metadata": {},
   "outputs": [],
   "source": [
    "minx, miny, maxx, maxy = agRegions.total_bounds\n",
    "fig, ax = plt.subplots(figsize=(20, 20))\n",
    "ax.set_ylim(miny, maxy)\n",
    "ax.set_xlim(minx, maxx)\n",
    "ax.set_title(\"All Daily and Hourly Stations\")\n",
    "agRegions.plot(ax=ax, color=agRegions[\"color\"], edgecolor=\"black\")\n",
    "allHlyStations.plot(ax=ax, color=\"black\", markersize=25)\n",
    "allDlyStations.plot(ax=ax, color=\"red\", markersize=5)\n",
    "plt.legend(handles=[hourly, daily], fontsize=\"30\")"
   ]
  },
  {
   "cell_type": "code",
   "execution_count": null,
   "metadata": {},
   "outputs": [],
   "source": [
    "minx, miny, maxx, maxy = agRegions.total_bounds\n",
    "fig, ax = plt.subplots(figsize=(20, 20))\n",
    "ax.set_ylim(miny, maxy)\n",
    "ax.set_xlim(minx, maxx)\n",
    "ax.set_title(\"Restricted Daily and Hourly Stations\")\n",
    "agRegions.plot(ax=ax, color=agRegions[\"color\"], edgecolor=\"black\")\n",
    "dlyStations.plot(ax=ax, color=\"black\", markersize=25)\n",
    "hlyStations.plot(ax=ax, color=\"red\", markersize=5)\n",
    "plt.legend(handles=[hourly, daily], fontsize=\"30\")"
   ]
  },
  {
   "cell_type": "code",
   "execution_count": null,
   "metadata": {},
   "outputs": [],
   "source": [
    "activeDlyStations = gpd.GeoDataFrame(\n",
    "    dlyStations.drop(dlyStations[dlyStations[\"max\"] != 2022].index)\n",
    ")\n",
    "activeHlyStations = gpd.GeoDataFrame(\n",
    "    hlyStations.drop(hlyStations[hlyStations[\"max\"] != 2022].index)\n",
    ")"
   ]
  },
  {
   "cell_type": "code",
   "execution_count": null,
   "metadata": {},
   "outputs": [],
   "source": [
    "minx, miny, maxx, maxy = agRegions.total_bounds\n",
    "fig, ax = plt.subplots(figsize=(20, 20))\n",
    "ax.set_ylim(miny, maxy)\n",
    "ax.set_xlim(minx, maxx)\n",
    "ax.set_title(\"Active Daily and Hourly Stations\")\n",
    "agRegions.plot(ax=ax, color=agRegions[\"color\"], edgecolor=\"black\", label=5)\n",
    "activeHlyStations.plot(ax=ax, color=\"black\", markersize=25)\n",
    "activeDlyStations.plot(ax=ax, color=\"red\", markersize=5)\n",
    "\n",
    "plt.legend(handles=[hourly, daily], fontsize=\"30\")"
   ]
  },
  {
   "cell_type": "code",
   "execution_count": null,
   "metadata": {},
   "outputs": [],
   "source": [
    "coloredDlyStations = gpd.GeoDataFrame(dlyStations)\n",
    "coloredHlyStations = gpd.GeoDataFrame(hlyStations)\n",
    "\n",
    "coloredDlyStations[\"color\"] = None\n",
    "coloredHlyStations[\"color\"] = None"
   ]
  },
  {
   "cell_type": "code",
   "execution_count": null,
   "metadata": {},
   "outputs": [],
   "source": [
    "def checkColor(df, index, firstYear, lastYear):\n",
    "    numYrs = lastYear - firstYear\n",
    "\n",
    "    if numYrs <= 5:\n",
    "        df.at[index, \"color\"] = hasLessThan5Col\n",
    "    elif numYrs <= 10:\n",
    "        df.at[index, \"color\"] = hasLessThan10Col\n",
    "    elif numYrs <= 15:\n",
    "        df.at[index, \"color\"] = hasLessThan15Col\n",
    "    elif numYrs <= 20:\n",
    "        df.at[index, \"color\"] = hasLessThan20Col\n",
    "    else:\n",
    "        df.at[index, \"color\"] = hasMoreThan20Col"
   ]
  },
  {
   "cell_type": "code",
   "execution_count": null,
   "metadata": {},
   "outputs": [],
   "source": [
    "for index, row in coloredDlyStations.iterrows():\n",
    "    checkColor(coloredDlyStations, index, row[\"min\"], row[\"max\"])\n",
    "\n",
    "for index, row in coloredHlyStations.iterrows():\n",
    "    checkColor(coloredHlyStations, index, row[\"min\"], row[\"max\"])"
   ]
  },
  {
   "cell_type": "code",
   "execution_count": null,
   "metadata": {},
   "outputs": [],
   "source": [
    "minx, miny, maxx, maxy = agRegions.total_bounds\n",
    "fig, ax = plt.subplots(figsize=(20, 20))\n",
    "ax.set_ylim(miny, maxy)\n",
    "ax.set_xlim(minx, maxx)\n",
    "ax.set_title(\"Number of Years of Data for Daily Stations\")\n",
    "agRegions.plot(ax=ax, color=agRegions[\"color\"], edgecolor=\"black\")\n",
    "coloredDlyStations.plot(ax=ax, color=coloredDlyStations[\"color\"], markersize=20)\n",
    "plt.legend(\n",
    "    handles=[\n",
    "        hasLessThan5Yrs,\n",
    "        hasLessThan10Yrs,\n",
    "        hasLessThan15Yrs,\n",
    "        hasLessThan20Yrs,\n",
    "        hasMoreThan20Yrs,\n",
    "    ],\n",
    "    fontsize=\"30\",\n",
    ")"
   ]
  },
  {
   "cell_type": "code",
   "execution_count": null,
   "metadata": {},
   "outputs": [],
   "source": [
    "minx, miny, maxx, maxy = agRegions.total_bounds\n",
    "fig, ax = plt.subplots(figsize=(20, 20))\n",
    "ax.set_ylim(miny, maxy)\n",
    "ax.set_xlim(minx, maxx)\n",
    "ax.set_title(\"Number of Years of Data for Hourly Stations (darker means more)\")\n",
    "agRegions.plot(ax=ax, color=agRegions[\"color\"], edgecolor=\"black\")\n",
    "coloredHlyStations.plot(ax=ax, color=coloredHlyStations[\"color\"], markersize=20)\n",
    "plt.legend(\n",
    "    handles=[\n",
    "        hasLessThan5Yrs,\n",
    "        hasLessThan10Yrs,\n",
    "        hasLessThan15Yrs,\n",
    "        hasLessThan20Yrs,\n",
    "        hasMoreThan20Yrs,\n",
    "    ],\n",
    "    fontsize=\"30\",\n",
    ")"
   ]
  },
  {
   "cell_type": "code",
   "execution_count": null,
   "metadata": {},
   "outputs": [],
   "source": [
    "minx, miny, maxx, maxy = agRegions.total_bounds\n",
    "fig, ax = plt.subplots(figsize=(20, 20))\n",
    "ax.set_ylim(miny, maxy)\n",
    "ax.set_xlim(minx, maxx)\n",
    "ax.set_title(\"Number of Years of Data for Daily and Hourly Stations\")\n",
    "agRegions.plot(ax=ax, color=agRegions[\"color\"], edgecolor=\"black\")\n",
    "coloredHlyStations.plot(ax=ax, color=coloredHlyStations[\"color\"], markersize=25)\n",
    "coloredDlyStations.plot(ax=ax, color=coloredDlyStations[\"color\"], markersize=5)\n",
    "plt.legend(\n",
    "    title=\"Hourly Stations are Larger, Daily Stations are Smaller\",\n",
    "    title_fontsize=\"20\",\n",
    "    handles=[\n",
    "        hasLessThan5Yrs,\n",
    "        hasLessThan10Yrs,\n",
    "        hasLessThan15Yrs,\n",
    "        hasLessThan20Yrs,\n",
    "        hasMoreThan20Yrs,\n",
    "    ],\n",
    "    fontsize=\"30\",\n",
    ")"
   ]
  },
  {
   "cell_type": "code",
   "execution_count": null,
   "metadata": {},
   "outputs": [],
   "source": [
    "def genReport(\n",
    "    allHlyStations: gpd.GeoDataFrame,\n",
    "    hlyStations: gpd.GeoDataFrame,\n",
    "    coloredHlyStations: gpd.GeoDataFrame,\n",
    "    activeHlyStations: gpd.GeoDataFrame,\n",
    "    allDlyStations: gpd.GeoDataFrame,\n",
    "    dlyStations: gpd.GeoDataFrame,\n",
    "    coloredDlyStations: gpd.GeoDataFrame,\n",
    "    activeDlyStations: gpd.GeoDataFrame,\n",
    "    append: str = \"\",\n",
    "):\n",
    "    print(\n",
    "        f\"\"\"\n",
    "        {append}Raw number of hourly stations: {len(allHlyStations.index)}\n",
    "        {append}Raw number of daily stations: {len(allDlyStations.index)}\\n\n",
    "\n",
    "        {append}Number of hourly stations that satisfy elevation and have a unique position: {len(hlyStations.index)}\n",
    "        {append}Number of daily stations that satisfy elevation and have a unique position: {len(dlyStations.index)}\\n\n",
    "\n",
    "        {append}The following statistics describe the restricted set of weather stations:\n",
    "        {append}\\tNumber of hourly stations with at least 5 years of data: {len(coloredHlyStations[coloredHlyStations[\"color\"] == hasLessThan5Col])}\n",
    "        {append}\\tNumber of daily stations with at least 5 years of data: {len(coloredDlyStations[coloredDlyStations[\"color\"] == hasLessThan5Col])}\\n\n",
    "\n",
    "        {append}\\tNumber of hourly stations with at least 10 years of data: {len(coloredHlyStations[coloredHlyStations[\"color\"] == hasLessThan10Col])}\n",
    "        {append}\\tNumber of daily stations with at least 10 years of data: {len(coloredDlyStations[coloredDlyStations[\"color\"] == hasLessThan10Col])}\\n\n",
    "\n",
    "        {append}\\tNumber of hourly stations with at least 15 years of data: {len(coloredHlyStations[coloredHlyStations[\"color\"] == hasLessThan15Col])}\n",
    "        {append}\\tNumber of daily stations with at least 15 years of data: {len(coloredDlyStations[coloredDlyStations[\"color\"] == hasLessThan15Col])}\\n\n",
    "\n",
    "        {append}\\tNumber of hourly stations with at least 20 years of data: {len(coloredHlyStations[coloredHlyStations[\"color\"] == hasLessThan20Col])}\n",
    "        {append}\\tNumber of daily stations with at least 20 years of data: {len(coloredDlyStations[coloredDlyStations[\"color\"] == hasLessThan20Col])}\\n\n",
    "    \n",
    "        {append}\\tNumber of hourly stations with more than 20 years of data: {len(coloredHlyStations[coloredHlyStations[\"color\"] == hasMoreThan20Col])}\n",
    "        {append}\\tNumber of daily stations with more than 20 years of data: {len(coloredDlyStations[coloredDlyStations[\"color\"] == hasMoreThan20Col])}\\n\n",
    "    \n",
    "        {append}\\tNumber of hourly stations that were active as of 2022: {len(activeHlyStations.index)}\n",
    "        {append}\\tNumber of daily stations that were active as of 2022: {len(activeDlyStations.index)}\\n\n",
    "        \"\"\"\n",
    "    )"
   ]
  },
  {
   "cell_type": "code",
   "execution_count": null,
   "metadata": {},
   "outputs": [],
   "source": [
    "genReport(\n",
    "    allHlyStations,\n",
    "    hlyStations,\n",
    "    coloredHlyStations,\n",
    "    activeHlyStations,\n",
    "    allDlyStations,\n",
    "    dlyStations,\n",
    "    coloredDlyStations,\n",
    "    activeDlyStations,\n",
    ")"
   ]
  },
  {
   "cell_type": "code",
   "execution_count": null,
   "metadata": {},
   "outputs": [],
   "source": [
    "for index, row in agRegions.iterrows():\n",
    "    currDistrict = row[\"car_uid\"]\n",
    "    province = \"SK\"\n",
    "\n",
    "    if currDistrict < 4700:\n",
    "        province = \"MB\"\n",
    "    elif currDistrict >= 4800:\n",
    "        province = \"AB\"\n",
    "\n",
    "    allDistHlyStations = allHlyStations[allHlyStations[\"district\"] == currDistrict]\n",
    "    hlyDistStations = hlyStations[hlyStations[\"district\"] == currDistrict]\n",
    "    coloredDistHlyStations = coloredHlyStations[\n",
    "        coloredHlyStations[\"district\"] == currDistrict\n",
    "    ]\n",
    "    activeDistHlyStations = activeHlyStations[\n",
    "        activeHlyStations[\"district\"] == currDistrict\n",
    "    ]\n",
    "\n",
    "    allDistDlyStations = allDlyStations[allDlyStations[\"district\"] == currDistrict]\n",
    "    dlyDistStations = dlyStations[dlyStations[\"district\"] == currDistrict]\n",
    "    coloredDistDlyStations = coloredDlyStations[\n",
    "        coloredDlyStations[\"district\"] == currDistrict\n",
    "    ]\n",
    "    activeDistDlyStations = activeHlyStations[\n",
    "        activeDlyStations[\"district\"] == currDistrict\n",
    "    ]\n",
    "\n",
    "    print(f\"District: {currDistrict} which is in {province}\")\n",
    "    genReport(\n",
    "        allDistHlyStations,\n",
    "        hlyDistStations,\n",
    "        coloredDistHlyStations,\n",
    "        activeDistHlyStations,\n",
    "        allDistDlyStations,\n",
    "        dlyDistStations,\n",
    "        coloredDistDlyStations,\n",
    "        activeDistDlyStations,\n",
    "        \"\\t\",\n",
    "    )\n",
    "\n",
    "    if len(hlyDistStations) > 0:\n",
    "        print(\n",
    "            f'\\tHourly date range falls into: {int(hlyDistStations[\"min\"].min())} - {int(hlyDistStations[\"max\"].max())}'\n",
    "        )\n",
    "    if len(dlyDistStations) > 0:\n",
    "        print(\n",
    "            f'\\tDaily date range falls into: {int(dlyDistStations[\"min\"].min())} - {int(dlyDistStations[\"max\"].max())}\\n\\n\\n'\n",
    "        )"
   ]
  }
 ],
 "metadata": {
  "kernelspec": {
   "display_name": "env",
   "language": "python",
   "name": "python3"
  },
  "language_info": {
   "codemirror_mode": {
    "name": "ipython",
    "version": 3
   },
   "file_extension": ".py",
   "mimetype": "text/x-python",
   "name": "python",
   "nbconvert_exporter": "python",
   "pygments_lexer": "ipython3",
   "version": "3.8.0"
  },
  "orig_nbformat": 4
 },
 "nbformat": 4,
 "nbformat_minor": 2
}
