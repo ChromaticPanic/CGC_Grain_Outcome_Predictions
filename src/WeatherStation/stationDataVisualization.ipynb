{
 "cells": [
  {
   "cell_type": "markdown",
   "metadata": {},
   "source": [
    "# stationDataVisualization.ipynb\n",
    "After aggregating the weather station data the following script can be used to visualize the data\n",
    "\n",
    "##### Output graphs:\n",
    "- Correlation plot ([such as ...](https://github.com/ChromaticPanic/CGC_Grain_Outcome_Predictions/blob/main/.github/img/hlyCorrPlot.png) or [this](https://github.com/ChromaticPanic/CGC_Grain_Outcome_Predictions/blob/main/.github/img/dlyCorrPlot.png))\n",
    "- Histograms ([such as ...](https://github.com/ChromaticPanic/CGC_Grain_Outcome_Predictions/blob/main/.github/img/hlyDewTempDist.png))"
   ]
  },
  {
   "cell_type": "code",
   "execution_count": null,
   "metadata": {},
   "outputs": [],
   "source": [
    "import matplotlib.pyplot as plt  # type: ignore\n",
    "from dotenv import load_dotenv\n",
    "import sqlalchemy as sq\n",
    "import seaborn as sns  # type: ignore\n",
    "import pandas as pd\n",
    "import numpy as np\n",
    "import os, sys\n",
    "\n",
    "sys.path.append(\"../\")\n",
    "from Shared.DataService import DataService"
   ]
  },
  {
   "cell_type": "code",
   "execution_count": null,
   "metadata": {},
   "outputs": [],
   "source": [
    "ERGOT_TABLE = \"agg_ergot_sample\"  # table that holds the aggregated ergot data\n",
    "DLY_STATION_TABLE = \"stations_dly\"  # table that holds the daily stations\n",
    "HLY_STATION_TABLE = \"stations_hly\"  # table that holds the hourly stations\n",
    "\n",
    "AB_HLY_TABLE = \"ab_hly_station_data\"  # table that holds Albertas hourly data\n",
    "MB_HLY_TABLE = \"mb_hly_station_data\"  # table that holds Manitobas hourly data\n",
    "SK_HLY_TABLE = \"sk_hly_station_data\"  # table that holds Saskatchewans hourly data\n",
    "\n",
    "AB_DLY_TABLE = \"ab_station_data\"  # table that holds Albertas daily data\n",
    "MB_DLY_TABLE = \"mb_station_data\"  # table that holds Manitobas daily data\n",
    "SK_DLY_TABLE = \"sk_station_data\"  # table that holds Saskatchewans daily data\n",
    "\n",
    "\n",
    "# Load the database connection environment variables located in the docker folder\n",
    "load_dotenv(\"../docker/.env\")\n",
    "PG_DB = os.getenv(\"POSTGRES_DB\")\n",
    "PG_ADDR = os.getenv(\"POSTGRES_ADDR\")\n",
    "PG_PORT = os.getenv(\"POSTGRES_PORT\")\n",
    "PG_USER = os.getenv(\"POSTGRES_USER\")\n",
    "PG_PW = os.getenv(\"POSTGRES_PW\")"
   ]
  },
  {
   "cell_type": "markdown",
   "metadata": {},
   "source": [
    "Purpose:  \n",
    "Connect to the database"
   ]
  },
  {
   "cell_type": "code",
   "execution_count": null,
   "metadata": {},
   "outputs": [],
   "source": [
    "if (\n",
    "    PG_DB is None\n",
    "    or PG_ADDR is None\n",
    "    or PG_PORT is None\n",
    "    or PG_USER is None\n",
    "    or PG_PW is None\n",
    "):\n",
    "    raise ValueError(\"Environment variables not set\")\n",
    "\n",
    "db = DataService(PG_DB, PG_ADDR, int(PG_PORT), PG_USER, PG_PW)\n",
    "conn = db.connect()"
   ]
  },
  {
   "cell_type": "markdown",
   "metadata": {},
   "source": [
    "Purpose:  \n",
    "Load the hourly data (and metadata) from the database\n",
    "\n",
    "Pseudocode:  \n",
    "- Create the weather data SQL query\n",
    "- Create the station SQL query\n",
    "- [Load the data from the database directly into a DataFrame](https://pandas.pydata.org/docs/reference/api/pandas.read_sql.html)"
   ]
  },
  {
   "cell_type": "code",
   "execution_count": null,
   "metadata": {},
   "outputs": [],
   "source": [
    "mbHlyQuery = sq.text(f\"SELECT * FROM public.{MB_HLY_TABLE}\")\n",
    "skHlyQuery = sq.text(f\"SELECT * FROM public.{SK_HLY_TABLE}\")\n",
    "abHlyQuery = sq.text(f\"SELECT * FROM public.{AB_HLY_TABLE}\")\n",
    "\n",
    "hlyStationDataQuery = sq.text(\n",
    "    f\"\"\"\n",
    "    SELECT station_id, district FROM public.{HLY_STATION_TABLE}\n",
    "    WHERE district IS NOT NULL;\n",
    "    \"\"\"\n",
    ")\n",
    "\n",
    "mb_hly_df = pd.read_sql(mbHlyQuery, conn)\n",
    "sk_hly_df = pd.read_sql(skHlyQuery, conn)\n",
    "ab_hly_df = pd.read_sql(abHlyQuery, conn)\n",
    "hlyStations = pd.read_sql(hlyStationDataQuery, conn)"
   ]
  },
  {
   "cell_type": "markdown",
   "metadata": {},
   "source": [
    "Purpose:  \n",
    "Load the daily data (and metadata) from the database\n",
    "\n",
    "Pseudocode:  \n",
    "- Create the weather data SQL query\n",
    "- Create the station SQL query\n",
    "- [Load the data from the database directly into a DataFrame](https://pandas.pydata.org/docs/reference/api/pandas.read_sql.html)"
   ]
  },
  {
   "cell_type": "code",
   "execution_count": null,
   "metadata": {},
   "outputs": [],
   "source": [
    "dlyWeatherDataQuery = sq.text(\n",
    "    f\"\"\"\n",
    "    SELECT * FROM public.{AB_DLY_TABLE}\n",
    "    UNION\n",
    "    SELECT * FROM public.{MB_DLY_TABLE}\n",
    "    UNION\n",
    "    SELECT * FROM public.{SK_DLY_TABLE};\n",
    "    \"\"\"\n",
    ")\n",
    "\n",
    "dlyStationDataQuery = sq.text(\n",
    "    f\"\"\"\n",
    "    SELECT station_id, district FROM public.{DLY_STATION_TABLE}\n",
    "    WHERE district IS NOT NULL;\n",
    "    \"\"\"\n",
    ")\n",
    "\n",
    "dlyData = pd.read_sql(dlyWeatherDataQuery, conn)\n",
    "dlyStations = pd.read_sql(dlyStationDataQuery, conn)"
   ]
  },
  {
   "cell_type": "markdown",
   "metadata": {},
   "source": [
    "Purpose:  \n",
    "Load the ergot data from the database and close the database connection\n",
    "\n",
    "Pseudocode:  \n",
    "- Create the ergot data SQL query\n",
    "- [Load the data from the database directly into a DataFrame](https://pandas.pydata.org/docs/reference/api/pandas.read_sql.html)\n",
    "- Close the connection to the database"
   ]
  },
  {
   "cell_type": "code",
   "execution_count": null,
   "metadata": {},
   "outputs": [],
   "source": [
    "ergotQuery = sq.text(f\"SELECT * FROM public.{ERGOT_TABLE}\")\n",
    "ergotDF = pd.read_sql_query(ergotQuery, conn)\n",
    "\n",
    "db.cleanup()"
   ]
  },
  {
   "cell_type": "markdown",
   "metadata": {},
   "source": [
    "# Hourly Data Visualization"
   ]
  },
  {
   "cell_type": "markdown",
   "metadata": {},
   "source": [
    "Purpose:  \n",
    "Preprocesses the data for visualization\n",
    "\n",
    "Psuedocode:  \n",
    "- [Concat all province houly data into one DataFrame](https://pandas.pydata.org/docs/reference/api/pandas.concat.html)\n",
    "- Convert district ([station metadata](https://github.com/ChromaticPanic/CGC_Grain_Outcome_Predictions#stations_hly)) into an integer as double was throwing an error\n",
    "- [Merge the DataFrames together](https://pandas.pydata.org/docs/reference/api/pandas.DataFrame.merge.html)\n",
    "- [Drop irrelevant columns](https://pandas.pydata.org/docs/reference/api/pandas.DataFrame.drop.html)"
   ]
  },
  {
   "cell_type": "code",
   "execution_count": null,
   "metadata": {},
   "outputs": [],
   "source": [
    "hlyData = pd.concat([mb_hly_df, sk_hly_df, ab_hly_df])\n",
    "\n",
    "hlyStations[[\"district\"]] = hlyStations[[\"district\"]].astype(int)\n",
    "\n",
    "hlyDF = hlyData.merge(hlyStations, on=\"station_id\")\n",
    "\n",
    "final_hly_df = hlyDF.merge(ergotDF, on=[\"year\", \"district\"])\n",
    "final_hly_df.drop(columns=[\"id\", \"station_id\", \"year\", \"month\", \"day\"], inplace=True)"
   ]
  },
  {
   "cell_type": "markdown",
   "metadata": {},
   "source": [
    "Purpose:  \n",
    "Create the correlation matrix between attributes\n",
    "\n",
    "Psuedocode:  \n",
    "- [Create the correlation matrix between attributes](https://pandas.pydata.org/docs/reference/api/pandas.DataFrame.corr.html)"
   ]
  },
  {
   "cell_type": "code",
   "execution_count": null,
   "metadata": {},
   "outputs": [],
   "source": [
    "hly_corr = final_hly_df.corr()"
   ]
  },
  {
   "cell_type": "markdown",
   "metadata": {},
   "source": [
    "Purpose:  \n",
    "Create a correlation plot between houly weather station data and ergot\n",
    "\n",
    "Note: this code is boilerplate, therefore additional information can be found [here](https://seaborn.pydata.org/examples/many_pairwise_correlations.html)"
   ]
  },
  {
   "cell_type": "code",
   "execution_count": null,
   "metadata": {},
   "outputs": [],
   "source": [
    "sns.set_theme(style=\"white\")\n",
    "\n",
    "# Generate a mask for the upper triangle\n",
    "mask = np.triu(np.ones_like(hly_corr, dtype=bool))\n",
    "\n",
    "# Set up the matplotlib figure\n",
    "f, ax = plt.subplots(figsize=(11, 9))\n",
    "\n",
    "# Generate a custom diverging colormap\n",
    "cmap = sns.diverging_palette(230, 20, as_cmap=True)\n",
    "\n",
    "# Draw the heatmap with the mask and correct aspect ratio\n",
    "sns.heatmap(\n",
    "    hly_corr,\n",
    "    mask=mask,\n",
    "    cmap=cmap,\n",
    "    vmax=0.1,\n",
    "    vmin=-0.1,\n",
    "    center=0,\n",
    "    square=True,\n",
    "    linewidths=0.5,\n",
    "    cbar_kws={\"shrink\": 0.5},\n",
    ")"
   ]
  },
  {
   "cell_type": "markdown",
   "metadata": {},
   "source": [
    "Purpose:  \n",
    "Create side by side histograms containing the minimum, mean and maximum values\n",
    "\n",
    "Pseudocode:  \n",
    "- [Create 3 subplot](https://matplotlib.org/stable/api/_as_gen/matplotlib.pyplot.subplots.html)\n",
    "- [Assign a figure title](https://matplotlib.org/stable/api/_as_gen/matplotlib.pyplot.suptitle.html)\n",
    "- [Plot groups of histograms](https://matplotlib.org/stable/api/_as_gen/matplotlib.pyplot.hist.html) (minimum, mean and maximum values) for all provinces of interest\n",
    "- [Add a legend](https://matplotlib.org/stable/api/_as_gen/matplotlib.pyplot.legend.html)"
   ]
  },
  {
   "cell_type": "code",
   "execution_count": null,
   "metadata": {},
   "outputs": [],
   "source": [
    "fig, (ax1, ax2, ax3) = plt.subplots(1, 3)\n",
    "fig.suptitle(\"Temperature (°C)\")\n",
    "\n",
    "\n",
    "ax1.hist(ab_hly_df[\"min_temp\"], alpha=0.5, label=\"ab\")\n",
    "ax1.hist(mb_hly_df[\"min_temp\"], alpha=0.5, label=\"mb\")\n",
    "ax1.hist(sk_hly_df[\"min_temp\"], alpha=0.5, label=\"sk\")\n",
    "ax1.title.set_text(\"min\")\n",
    "ax1.legend(loc=\"upper left\")\n",
    "\n",
    "ax2.hist(ab_hly_df[\"mean_temp\"], alpha=0.5, label=\"ab\")\n",
    "ax2.hist(mb_hly_df[\"mean_temp\"], alpha=0.5, label=\"mb\")\n",
    "ax2.hist(sk_hly_df[\"mean_temp\"], alpha=0.5, label=\"sk\")\n",
    "ax2.title.set_text(\"mean\")\n",
    "ax2.legend(loc=\"upper left\")\n",
    "\n",
    "ax3.hist(ab_hly_df[\"max_temp\"], alpha=0.5, label=\"ab\")\n",
    "ax3.hist(mb_hly_df[\"max_temp\"], alpha=0.5, label=\"mb\")\n",
    "ax3.hist(sk_hly_df[\"max_temp\"], alpha=0.5, label=\"sk\")\n",
    "ax3.title.set_text(\"max\")\n",
    "ax3.legend(loc=\"upper left\")"
   ]
  },
  {
   "cell_type": "markdown",
   "metadata": {},
   "source": [
    "Purpose:  \n",
    "Create side by side histograms containing the minimum, mean and maximum values\n",
    "\n",
    "Pseudocode:  \n",
    "- [Create 3 subplot](https://matplotlib.org/stable/api/_as_gen/matplotlib.pyplot.subplots.html)\n",
    "- [Assign a figure title](https://matplotlib.org/stable/api/_as_gen/matplotlib.pyplot.suptitle.html)\n",
    "- [Plot groups of histograms](https://matplotlib.org/stable/api/_as_gen/matplotlib.pyplot.hist.html) (minimum, mean and maximum values) for all provinces of interest\n",
    "- [Add a legend](https://matplotlib.org/stable/api/_as_gen/matplotlib.pyplot.legend.html)"
   ]
  },
  {
   "cell_type": "code",
   "execution_count": null,
   "metadata": {},
   "outputs": [],
   "source": [
    "fig, (ax1, ax2, ax3) = plt.subplots(1, 3)\n",
    "fig.suptitle(\"Dew Point Temperature (°C)\")\n",
    "\n",
    "\n",
    "ax1.hist(ab_hly_df[\"min_dew_point_temp\"], alpha=0.5, label=\"ab\")\n",
    "ax1.hist(mb_hly_df[\"min_dew_point_temp\"], alpha=0.5, label=\"mb\")\n",
    "ax1.hist(sk_hly_df[\"min_dew_point_temp\"], alpha=0.5, label=\"sk\")\n",
    "ax1.title.set_text(\"min\")\n",
    "ax1.legend(loc=\"upper left\")\n",
    "\n",
    "ax2.hist(ab_hly_df[\"mean_dew_point_temp\"], alpha=0.5, label=\"ab\")\n",
    "ax2.hist(mb_hly_df[\"mean_dew_point_temp\"], alpha=0.5, label=\"mb\")\n",
    "ax2.hist(sk_hly_df[\"mean_dew_point_temp\"], alpha=0.5, label=\"sk\")\n",
    "ax2.title.set_text(\"mean\")\n",
    "ax2.legend(loc=\"upper left\")\n",
    "\n",
    "ax3.hist(ab_hly_df[\"max_dew_point_temp\"], alpha=0.5, label=\"ab\")\n",
    "ax3.hist(mb_hly_df[\"max_dew_point_temp\"], alpha=0.5, label=\"mb\")\n",
    "ax3.hist(sk_hly_df[\"max_dew_point_temp\"], alpha=0.5, label=\"sk\")\n",
    "ax3.title.set_text(\"max\")\n",
    "ax3.legend(loc=\"upper left\")"
   ]
  },
  {
   "cell_type": "markdown",
   "metadata": {},
   "source": [
    "Purpose:  \n",
    "Create side by side histograms containing the minimum, mean and maximum values\n",
    "\n",
    "Pseudocode:  \n",
    "- [Create 3 subplot](https://matplotlib.org/stable/api/_as_gen/matplotlib.pyplot.subplots.html)\n",
    "- [Assign a figure title](https://matplotlib.org/stable/api/_as_gen/matplotlib.pyplot.suptitle.html)\n",
    "- [Plot groups of histograms](https://matplotlib.org/stable/api/_as_gen/matplotlib.pyplot.hist.html) (minimum, mean and maximum values) for all provinces of interest\n",
    "- [Add a legend](https://matplotlib.org/stable/api/_as_gen/matplotlib.pyplot.legend.html)"
   ]
  },
  {
   "cell_type": "code",
   "execution_count": null,
   "metadata": {},
   "outputs": [],
   "source": [
    "fig, (ax1, ax2, ax3) = plt.subplots(1, 3)\n",
    "fig.suptitle(\"Humidity Index (air temperature + humidity)\")\n",
    "\n",
    "\n",
    "ax1.hist(ab_hly_df[\"min_humidex\"], alpha=0.5, label=\"ab\")\n",
    "ax1.hist(mb_hly_df[\"min_humidex\"], alpha=0.5, label=\"mb\")\n",
    "ax1.hist(sk_hly_df[\"min_humidex\"], alpha=0.5, label=\"sk\")\n",
    "ax1.title.set_text(\"min\")\n",
    "ax1.legend(loc=\"upper left\")\n",
    "\n",
    "ax2.hist(ab_hly_df[\"mean_humidex\"], alpha=0.5, label=\"ab\")\n",
    "ax2.hist(mb_hly_df[\"mean_humidex\"], alpha=0.5, label=\"mb\")\n",
    "ax2.hist(sk_hly_df[\"mean_humidex\"], alpha=0.5, label=\"sk\")\n",
    "ax2.title.set_text(\"mean\")\n",
    "ax2.legend(loc=\"upper left\")\n",
    "\n",
    "ax3.hist(ab_hly_df[\"max_humidex\"], alpha=0.5, label=\"ab\")\n",
    "ax3.hist(mb_hly_df[\"max_humidex\"], alpha=0.5, label=\"mb\")\n",
    "ax3.hist(sk_hly_df[\"max_humidex\"], alpha=0.5, label=\"sk\")\n",
    "ax3.title.set_text(\"max\")\n",
    "ax3.legend(loc=\"upper left\")"
   ]
  },
  {
   "cell_type": "markdown",
   "metadata": {},
   "source": [
    "Purpose:  \n",
    "Create side by side histograms containing the minimum, mean and maximum values\n",
    "\n",
    "Pseudocode:  \n",
    "- [Create 3 subplot](https://matplotlib.org/stable/api/_as_gen/matplotlib.pyplot.subplots.html)\n",
    "- [Assign a figure title](https://matplotlib.org/stable/api/_as_gen/matplotlib.pyplot.suptitle.html)\n",
    "- [Plot groups of histograms](https://matplotlib.org/stable/api/_as_gen/matplotlib.pyplot.hist.html) (minimum, mean and maximum values) for all provinces of interest\n",
    "- [Add a legend](https://matplotlib.org/stable/api/_as_gen/matplotlib.pyplot.legend.html)"
   ]
  },
  {
   "cell_type": "code",
   "execution_count": null,
   "metadata": {},
   "outputs": [],
   "source": [
    "plt.hist(ab_hly_df[\"total_precip\"], alpha=0.5, label=\"ab\")\n",
    "plt.hist(mb_hly_df[\"total_precip\"], alpha=0.5, label=\"mb\")\n",
    "plt.hist(sk_hly_df[\"total_precip\"], alpha=0.5, label=\"sk\")\n",
    "plt.legend(loc=\"upper right\")\n",
    "plt.title(\"Total Precipitation (mm)\")\n",
    "plt.xlim(0, 2500)\n",
    "plt.show()"
   ]
  },
  {
   "cell_type": "markdown",
   "metadata": {},
   "source": [
    "Purpose:  \n",
    "Create side by side histograms containing the minimum, mean and maximum values\n",
    "\n",
    "Pseudocode:  \n",
    "- [Create 3 subplot](https://matplotlib.org/stable/api/_as_gen/matplotlib.pyplot.subplots.html)\n",
    "- [Assign a figure title](https://matplotlib.org/stable/api/_as_gen/matplotlib.pyplot.suptitle.html)\n",
    "- [Plot groups of histograms](https://matplotlib.org/stable/api/_as_gen/matplotlib.pyplot.hist.html) (minimum, mean and maximum values) for all provinces of interest\n",
    "- [Add a legend](https://matplotlib.org/stable/api/_as_gen/matplotlib.pyplot.legend.html)"
   ]
  },
  {
   "cell_type": "code",
   "execution_count": null,
   "metadata": {},
   "outputs": [],
   "source": [
    "fig, (ax1, ax2, ax3) = plt.subplots(1, 3)\n",
    "fig.suptitle(\"Humidity (%)\")\n",
    "\n",
    "\n",
    "ax1.hist(ab_hly_df[\"min_rel_humid\"], alpha=0.5, label=\"ab\")\n",
    "ax1.hist(mb_hly_df[\"min_rel_humid\"], alpha=0.5, label=\"mb\")\n",
    "ax1.hist(sk_hly_df[\"min_rel_humid\"], alpha=0.5, label=\"sk\")\n",
    "ax1.title.set_text(\"min\")\n",
    "ax1.legend(loc=\"upper left\")\n",
    "\n",
    "ax2.hist(ab_hly_df[\"mean_rel_humid\"], alpha=0.5, label=\"ab\")\n",
    "ax2.hist(mb_hly_df[\"mean_rel_humid\"], alpha=0.5, label=\"mb\")\n",
    "ax2.hist(sk_hly_df[\"mean_rel_humid\"], alpha=0.5, label=\"sk\")\n",
    "ax2.title.set_text(\"mean\")\n",
    "ax2.legend(loc=\"upper left\")\n",
    "\n",
    "ax3.hist(ab_hly_df[\"max_rel_humid\"], alpha=0.5, label=\"ab\")\n",
    "ax3.hist(mb_hly_df[\"max_rel_humid\"], alpha=0.5, label=\"mb\")\n",
    "ax3.hist(sk_hly_df[\"max_rel_humid\"], alpha=0.5, label=\"sk\")\n",
    "ax3.title.set_text(\"max\")\n",
    "ax3.legend(loc=\"upper left\")"
   ]
  },
  {
   "cell_type": "markdown",
   "metadata": {},
   "source": [
    "Purpose:  \n",
    "Create side by side histograms containing the minimum, mean and maximum values\n",
    "\n",
    "Pseudocode:  \n",
    "- [Create 3 subplot](https://matplotlib.org/stable/api/_as_gen/matplotlib.pyplot.subplots.html)\n",
    "- [Assign a figure title](https://matplotlib.org/stable/api/_as_gen/matplotlib.pyplot.suptitle.html)\n",
    "- [Plot groups of histograms](https://matplotlib.org/stable/api/_as_gen/matplotlib.pyplot.hist.html) (minimum, mean and maximum values) for all provinces of interest\n",
    "- [Add a legend](https://matplotlib.org/stable/api/_as_gen/matplotlib.pyplot.legend.html)"
   ]
  },
  {
   "cell_type": "code",
   "execution_count": null,
   "metadata": {},
   "outputs": [],
   "source": [
    "fig, (ax1, ax2, ax3) = plt.subplots(1, 3)\n",
    "fig.suptitle(\"Station Pressure (kPa)\")\n",
    "\n",
    "\n",
    "ax1.hist(ab_hly_df[\"min_stn_press\"], alpha=0.5, label=\"ab\")\n",
    "ax1.hist(mb_hly_df[\"min_stn_press\"], alpha=0.5, label=\"mb\")\n",
    "ax1.hist(sk_hly_df[\"min_stn_press\"], alpha=0.5, label=\"sk\")\n",
    "ax1.title.set_text(\"min\")\n",
    "ax1.legend(loc=\"upper left\")\n",
    "\n",
    "ax2.hist(ab_hly_df[\"mean_stn_press\"], alpha=0.5, label=\"ab\")\n",
    "ax2.hist(mb_hly_df[\"mean_stn_press\"], alpha=0.5, label=\"mb\")\n",
    "ax2.hist(sk_hly_df[\"mean_stn_press\"], alpha=0.5, label=\"sk\")\n",
    "ax2.title.set_text(\"mean\")\n",
    "ax2.legend(loc=\"upper left\")\n",
    "\n",
    "ax3.hist(ab_hly_df[\"max_stn_press\"], alpha=0.5, label=\"ab\")\n",
    "ax3.hist(mb_hly_df[\"max_stn_press\"], alpha=0.5, label=\"mb\")\n",
    "ax3.hist(sk_hly_df[\"max_stn_press\"], alpha=0.5, label=\"sk\")\n",
    "ax3.title.set_text(\"max\")\n",
    "ax3.legend(loc=\"upper left\")"
   ]
  },
  {
   "cell_type": "markdown",
   "metadata": {},
   "source": [
    "Purpose:  \n",
    "Create side by side histograms containing the minimum, mean and maximum values\n",
    "\n",
    "Pseudocode:  \n",
    "- [Create 3 subplot](https://matplotlib.org/stable/api/_as_gen/matplotlib.pyplot.subplots.html)\n",
    "- [Assign a figure title](https://matplotlib.org/stable/api/_as_gen/matplotlib.pyplot.suptitle.html)\n",
    "- [Plot groups of histograms](https://matplotlib.org/stable/api/_as_gen/matplotlib.pyplot.hist.html) (minimum, mean and maximum values) for all provinces of interest\n",
    "- [Add a legend](https://matplotlib.org/stable/api/_as_gen/matplotlib.pyplot.legend.html)"
   ]
  },
  {
   "cell_type": "code",
   "execution_count": null,
   "metadata": {},
   "outputs": [],
   "source": [
    "fig, (ax1, ax2, ax3) = plt.subplots(1, 3)\n",
    "fig.suptitle(\"Visibility (km)\")\n",
    "\n",
    "\n",
    "ax1.hist(ab_hly_df[\"min_visibility\"], alpha=0.5, label=\"ab\")\n",
    "ax1.hist(mb_hly_df[\"min_visibility\"], alpha=0.5, label=\"mb\")\n",
    "ax1.hist(sk_hly_df[\"min_visibility\"], alpha=0.5, label=\"sk\")\n",
    "ax1.title.set_text(\"min\")\n",
    "ax1.legend(loc=\"upper left\")\n",
    "\n",
    "ax2.hist(ab_hly_df[\"mean_visibility\"], alpha=0.5, label=\"ab\")\n",
    "ax2.hist(mb_hly_df[\"mean_visibility\"], alpha=0.5, label=\"mb\")\n",
    "ax2.hist(sk_hly_df[\"mean_visibility\"], alpha=0.5, label=\"sk\")\n",
    "ax2.title.set_text(\"mean\")\n",
    "ax2.legend(loc=\"upper left\")\n",
    "\n",
    "ax3.hist(ab_hly_df[\"max_visibility\"], alpha=0.5, label=\"ab\")\n",
    "ax3.hist(mb_hly_df[\"max_visibility\"], alpha=0.5, label=\"mb\")\n",
    "ax3.hist(sk_hly_df[\"max_visibility\"], alpha=0.5, label=\"sk\")\n",
    "ax3.title.set_text(\"max\")\n",
    "ax3.legend(loc=\"upper left\")"
   ]
  },
  {
   "cell_type": "markdown",
   "metadata": {},
   "source": [
    "# Daily data visualization"
   ]
  },
  {
   "cell_type": "markdown",
   "metadata": {},
   "source": [
    "Purpose:  \n",
    "Preprocesses the data for visualization\n",
    "\n",
    "Psuedocode:  \n",
    "- Convert district ([station metadata](https://github.com/ChromaticPanic/CGC_Grain_Outcome_Predictions#stations_hly)) into an integer as double was throwing an error\n",
    "- [Merge the DataFrames together](https://pandas.pydata.org/docs/reference/api/pandas.DataFrame.merge.html)\n",
    "- [Drop irrelevant columns](https://pandas.pydata.org/docs/reference/api/pandas.DataFrame.drop.html)"
   ]
  },
  {
   "cell_type": "code",
   "execution_count": null,
   "metadata": {},
   "outputs": [],
   "source": [
    "dlyStations[[\"district\"]] = dlyStations[[\"district\"]].astype(int)\n",
    "\n",
    "dlyData = dlyData.merge(dlyStations, on=\"station_id\")\n",
    "\n",
    "final_dly_df = dlyData.merge(ergotDF, on=[\"year\", \"district\"])\n",
    "final_dly_df.drop(columns=[\"station_id\", \"date\", \"month\", \"day\", \"year\"], inplace=True)"
   ]
  },
  {
   "cell_type": "markdown",
   "metadata": {},
   "source": [
    "Purpose:  \n",
    "Create the correlation matrix between attributes\n",
    "\n",
    "Psuedocode:  \n",
    "- [Create the correlation matrix between attributes](https://pandas.pydata.org/docs/reference/api/pandas.DataFrame.corr.html)"
   ]
  },
  {
   "cell_type": "code",
   "execution_count": null,
   "metadata": {},
   "outputs": [],
   "source": [
    "dly_corr = final_dly_df.corr()"
   ]
  },
  {
   "cell_type": "markdown",
   "metadata": {},
   "source": [
    "Purpose:  \n",
    "Create a correlation plot between houly weather station data and ergot\n",
    "\n",
    "Note: this code is boilerplate, therefore additional information can be found [here](https://seaborn.pydata.org/examples/many_pairwise_correlations.html)"
   ]
  },
  {
   "cell_type": "code",
   "execution_count": null,
   "metadata": {},
   "outputs": [],
   "source": [
    "sns.set_theme(style=\"white\")\n",
    "\n",
    "# Generate a mask for the upper triangle\n",
    "mask = np.triu(np.ones_like(corr, dtype=bool))\n",
    "\n",
    "# Set up the matplotlib figure\n",
    "f, ax = plt.subplots(figsize=(11, 9))\n",
    "\n",
    "# Generate a custom diverging colormap\n",
    "cmap = sns.diverging_palette(230, 20, as_cmap=True)\n",
    "\n",
    "# Draw the heatmap with the mask and correct aspect ratio\n",
    "sns.heatmap(\n",
    "    dly_corr,\n",
    "    mask=mask,\n",
    "    cmap=cmap,\n",
    "    vmax=0.1,\n",
    "    center=0,\n",
    "    square=True,\n",
    "    linewidths=0.5,\n",
    "    cbar_kws={\"shrink\": 0.5},\n",
    ")"
   ]
  }
 ],
 "metadata": {
  "kernelspec": {
   "display_name": "env",
   "language": "python",
   "name": "python3"
  },
  "language_info": {
   "codemirror_mode": {
    "name": "ipython",
    "version": 3
   },
   "file_extension": ".py",
   "mimetype": "text/x-python",
   "name": "python",
   "nbconvert_exporter": "python",
   "pygments_lexer": "ipython3",
   "version": "3.8.0"
  },
  "orig_nbformat": 4
 },
 "nbformat": 4,
 "nbformat_minor": 2
}
