{
 "cells": [
  {
   "cell_type": "code",
   "execution_count": 19,
   "metadata": {},
   "outputs": [],
   "source": [
    "import sqlalchemy as sq\n",
    "import geopandas as gpd  # type: ignore\n",
    "import pandas as pd  # type: ignore\n",
    "from dotenv import load_dotenv\n",
    "import os, sys, calendar\n",
    "\n",
    "sys.path.append(\"../\")\n",
    "from Shared.DataService import DataService  # type: ignore"
   ]
  },
  {
   "cell_type": "code",
   "execution_count": 15,
   "metadata": {},
   "outputs": [],
   "source": [
    "TABLENAME = \"agg_station_dly\"\n",
    "\n",
    "load_dotenv()\n",
    "PG_DB = os.getenv(\"POSTGRES_DB\")\n",
    "PG_ADDR = os.getenv(\"POSTGRES_ADDR\")\n",
    "PG_PORT = os.getenv(\"POSTGRES_PORT\")\n",
    "PG_USER = os.getenv(\"POSTGRES_USER\")\n",
    "PG_PW = os.getenv(\"POSTGRES_PW\")"
   ]
  },
  {
   "cell_type": "code",
   "execution_count": 17,
   "metadata": {},
   "outputs": [],
   "source": [
    "db = DataService(PG_DB, PG_ADDR, PG_PORT, PG_USER, PG_PW)\n",
    "conn = db.connect()"
   ]
  },
  {
   "cell_type": "code",
   "execution_count": 8,
   "metadata": {},
   "outputs": [],
   "source": [
    "MIN_MONTH = 1\n",
    "MAX_MONTH = 12\n",
    "\n",
    "MIN_YEAR = 1995\n",
    "MAX_YEAR = 2023\n",
    "\n",
    "years = [year for year in range(MIN_YEAR, MAX_YEAR + 1)]  # the year range we want to pull data from\n",
    "months = [month for month in range(MIN_MONTH, MAX_MONTH + 1)]  # the month range we want to pull data from\n",
    "\n",
    "\n",
    "columns = ['year', 'district']\n",
    "dates = []\n",
    "for year in years:\n",
    "    for month in months:\n",
    "        numDays = calendar.monthrange(int(year), int(month))[1]\n",
    "\n",
    "        for day in range(1, numDays + 1):\n",
    "            dates.append(f'{year}/{month}/{day}')\n",
    "            columns.append(f'{year}/{month}/{day}:max_temp')\n",
    "            columns.append(f'{year}/{month}/{day}:min_temp')\n",
    "            columns.append(f'{year}/{month}/{day}:mean_temp')\n",
    "            columns.append(f'{year}/{month}/{day}:total_rain')\n",
    "            columns.append(f'{year}/{month}/{day}:total_snow')\n",
    "            columns.append(f'{year}/{month}/{day}:total_precip')\n",
    "            columns.append(f'{year}/{month}/{day}:snow_on_grnd')"
   ]
  },
  {
   "cell_type": "code",
   "execution_count": 12,
   "metadata": {},
   "outputs": [
    {
     "ename": "NameError",
     "evalue": "name 'sq' is not defined",
     "output_type": "error",
     "traceback": [
      "\u001b[1;31m---------------------------------------------------------------------------\u001b[0m",
      "\u001b[1;31mNameError\u001b[0m                                 Traceback (most recent call last)",
      "Cell \u001b[1;32mIn[12], line 3\u001b[0m\n\u001b[0;32m      1\u001b[0m df \u001b[39m=\u001b[39m pd\u001b[39m.\u001b[39mDataFrame(columns\u001b[39m=\u001b[39mcolumns)\n\u001b[1;32m----> 3\u001b[0m query \u001b[39m=\u001b[39m sq\u001b[39m.\u001b[39mtext(\n\u001b[0;32m      4\u001b[0m \u001b[39m    \u001b[39m\u001b[39m\"\"\"\u001b[39;00m\n\u001b[0;32m      5\u001b[0m \u001b[39m    SELECT AVG(max_temp), AVG(min_temp), AVG(mean_temp), AVG(total_rain), AVG(total_snow), AVG(total_precip), AVG(snow_on_grnd) FROM \u001b[39;00m\n\u001b[0;32m      6\u001b[0m \u001b[39m    public.ab_station_data\u001b[39;00m\n\u001b[0;32m      7\u001b[0m \u001b[39m    \"\"\"\u001b[39;00m\n\u001b[0;32m      8\u001b[0m )\n",
      "\u001b[1;31mNameError\u001b[0m: name 'sq' is not defined"
     ]
    }
   ],
   "source": [
    "\n",
    "df = pd.DataFrame(columns=columns)\n",
    "\n",
    "query = sq.text(\n",
    "    f\"\"\"\n",
    "    SELECT AVG(max_temp) AS max_temp, AVG(min_temp) AS min_temp, AVG(mean_temp) AS mean_temp, AVG(total_rain) AS total_rain, \n",
    "        AVG(total_snow) AS total_snow, AVG(total_precip) as total_precip, AVG(snow_on_grnd) as snow_on_grnd \n",
    "\tFROM public.{ab_station_data}\n",
    "\tJOIN public.stations_dly ON stations_dly.station_id = {ab_station_data}.station_id\n",
    "\tWHERE stations_dly.district = {4840} AND {ab_station_data}.date = '{1995/2/01}'\n",
    "    \"\"\"\n",
    ")"
   ]
  },
  {
   "cell_type": "code",
   "execution_count": 10,
   "metadata": {},
   "outputs": [
    {
     "data": {
      "text/html": [
       "<div>\n",
       "<style scoped>\n",
       "    .dataframe tbody tr th:only-of-type {\n",
       "        vertical-align: middle;\n",
       "    }\n",
       "\n",
       "    .dataframe tbody tr th {\n",
       "        vertical-align: top;\n",
       "    }\n",
       "\n",
       "    .dataframe thead th {\n",
       "        text-align: right;\n",
       "    }\n",
       "</style>\n",
       "<table border=\"1\" class=\"dataframe\">\n",
       "  <thead>\n",
       "    <tr style=\"text-align: right;\">\n",
       "      <th></th>\n",
       "      <th>year</th>\n",
       "      <th>district</th>\n",
       "      <th>1995/1/1:max_temp</th>\n",
       "      <th>1995/1/1:min_temp</th>\n",
       "      <th>1995/1/1:mean_temp</th>\n",
       "      <th>1995/1/1:total_rain</th>\n",
       "      <th>1995/1/1:total_snow</th>\n",
       "      <th>1995/1/1:total_precip</th>\n",
       "      <th>1995/1/1:snow_on_grnd</th>\n",
       "      <th>1995/1/2:max_temp</th>\n",
       "      <th>...</th>\n",
       "      <th>2023/12/30:total_snow</th>\n",
       "      <th>2023/12/30:total_precip</th>\n",
       "      <th>2023/12/30:snow_on_grnd</th>\n",
       "      <th>2023/12/31:max_temp</th>\n",
       "      <th>2023/12/31:min_temp</th>\n",
       "      <th>2023/12/31:mean_temp</th>\n",
       "      <th>2023/12/31:total_rain</th>\n",
       "      <th>2023/12/31:total_snow</th>\n",
       "      <th>2023/12/31:total_precip</th>\n",
       "      <th>2023/12/31:snow_on_grnd</th>\n",
       "    </tr>\n",
       "  </thead>\n",
       "  <tbody>\n",
       "  </tbody>\n",
       "</table>\n",
       "<p>0 rows × 74146 columns</p>\n",
       "</div>"
      ],
      "text/plain": [
       "Empty DataFrame\n",
       "Columns: [year, district, 1995/1/1:max_temp, 1995/1/1:min_temp, 1995/1/1:mean_temp, 1995/1/1:total_rain, 1995/1/1:total_snow, 1995/1/1:total_precip, 1995/1/1:snow_on_grnd, 1995/1/2:max_temp, 1995/1/2:min_temp, 1995/1/2:mean_temp, 1995/1/2:total_rain, 1995/1/2:total_snow, 1995/1/2:total_precip, 1995/1/2:snow_on_grnd, 1995/1/3:max_temp, 1995/1/3:min_temp, 1995/1/3:mean_temp, 1995/1/3:total_rain, 1995/1/3:total_snow, 1995/1/3:total_precip, 1995/1/3:snow_on_grnd, 1995/1/4:max_temp, 1995/1/4:min_temp, 1995/1/4:mean_temp, 1995/1/4:total_rain, 1995/1/4:total_snow, 1995/1/4:total_precip, 1995/1/4:snow_on_grnd, 1995/1/5:max_temp, 1995/1/5:min_temp, 1995/1/5:mean_temp, 1995/1/5:total_rain, 1995/1/5:total_snow, 1995/1/5:total_precip, 1995/1/5:snow_on_grnd, 1995/1/6:max_temp, 1995/1/6:min_temp, 1995/1/6:mean_temp, 1995/1/6:total_rain, 1995/1/6:total_snow, 1995/1/6:total_precip, 1995/1/6:snow_on_grnd, 1995/1/7:max_temp, 1995/1/7:min_temp, 1995/1/7:mean_temp, 1995/1/7:total_rain, 1995/1/7:total_snow, 1995/1/7:total_precip, 1995/1/7:snow_on_grnd, 1995/1/8:max_temp, 1995/1/8:min_temp, 1995/1/8:mean_temp, 1995/1/8:total_rain, 1995/1/8:total_snow, 1995/1/8:total_precip, 1995/1/8:snow_on_grnd, 1995/1/9:max_temp, 1995/1/9:min_temp, 1995/1/9:mean_temp, 1995/1/9:total_rain, 1995/1/9:total_snow, 1995/1/9:total_precip, 1995/1/9:snow_on_grnd, 1995/1/10:max_temp, 1995/1/10:min_temp, 1995/1/10:mean_temp, 1995/1/10:total_rain, 1995/1/10:total_snow, 1995/1/10:total_precip, 1995/1/10:snow_on_grnd, 1995/1/11:max_temp, 1995/1/11:min_temp, 1995/1/11:mean_temp, 1995/1/11:total_rain, 1995/1/11:total_snow, 1995/1/11:total_precip, 1995/1/11:snow_on_grnd, 1995/1/12:max_temp, 1995/1/12:min_temp, 1995/1/12:mean_temp, 1995/1/12:total_rain, 1995/1/12:total_snow, 1995/1/12:total_precip, 1995/1/12:snow_on_grnd, 1995/1/13:max_temp, 1995/1/13:min_temp, 1995/1/13:mean_temp, 1995/1/13:total_rain, 1995/1/13:total_snow, 1995/1/13:total_precip, 1995/1/13:snow_on_grnd, 1995/1/14:max_temp, 1995/1/14:min_temp, 1995/1/14:mean_temp, 1995/1/14:total_rain, 1995/1/14:total_snow, 1995/1/14:total_precip, 1995/1/14:snow_on_grnd, ...]\n",
       "Index: []\n",
       "\n",
       "[0 rows x 74146 columns]"
      ]
     },
     "execution_count": 10,
     "metadata": {},
     "output_type": "execute_result"
    }
   ],
   "source": [
    "df"
   ]
  },
  {
   "cell_type": "code",
   "execution_count": 39,
   "metadata": {},
   "outputs": [],
   "source": [
    "idQuery = sq.text(\"SELECT car_uid FROM public.census_ag_regions\")\n",
    "uids = pd.read_sql_query(idQuery, conn)"
   ]
  },
  {
   "cell_type": "code",
   "execution_count": 40,
   "metadata": {},
   "outputs": [],
   "source": [
    "mbIDs = [uid for uid in uids['car_uid'] if uid < 4700]\n",
    "skIDs = [uid for uid in uids['car_uid'] if uid >= 4700 and uid < 4800]\n",
    "abIDs = [uid for uid in uids['car_uid'] if uid >= 4800]"
   ]
  },
  {
   "cell_type": "code",
   "execution_count": null,
   "metadata": {},
   "outputs": [],
   "source": [
    "for year in years:\n",
    "    # query all districts for mb\n",
    "        # query for each day\n",
    "    # query all districts for sk\n",
    "        # query for each day\n",
    "    # query all districts for ab\n",
    "        # query for each day\n",
    "\n",
    "    # merge all of these into the dataframe"
   ]
  }
 ],
 "metadata": {
  "kernelspec": {
   "display_name": "env",
   "language": "python",
   "name": "python3"
  },
  "language_info": {
   "codemirror_mode": {
    "name": "ipython",
    "version": 3
   },
   "file_extension": ".py",
   "mimetype": "text/x-python",
   "name": "python",
   "nbconvert_exporter": "python",
   "pygments_lexer": "ipython3",
   "version": "3.8.0"
  },
  "orig_nbformat": 4
 },
 "nbformat": 4,
 "nbformat_minor": 2
}
