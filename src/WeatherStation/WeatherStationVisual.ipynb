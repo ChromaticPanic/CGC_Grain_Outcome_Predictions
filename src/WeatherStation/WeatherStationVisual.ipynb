{
 "cells": [
  {
   "attachments": {},
   "cell_type": "markdown",
   "metadata": {},
   "source": [
    "## import data from database"
   ]
  },
  {
   "cell_type": "code",
   "execution_count": null,
   "metadata": {},
   "outputs": [],
   "source": [
    "import os\n",
    "import xarray as xr\n",
    "import geopandas as gpd  # type: ignore\n",
    "\n",
    "from dotenv import load_dotenv\n",
    "import sqlalchemy as sq\n",
    "import sys\n",
    "import pandas as pd\n",
    "import matplotlib.pyplot as plt  # type: ignore\n",
    "\n",
    "sys.path.append(\"../Shared/\")\n",
    "from DataService import DataService  # type: ignore"
   ]
  },
  {
   "cell_type": "code",
   "execution_count": null,
   "metadata": {},
   "outputs": [],
   "source": [
    "load_dotenv()\n",
    "PG_USER = os.getenv(\"POSTGRES_USER\")\n",
    "PG_PW = os.getenv(\"POSTGRES_PW\")\n",
    "PG_DB = os.getenv(\"POSTGRES_DB\")\n",
    "PG_ADDR = os.getenv(\"POSTGRES_ADDR\")\n",
    "PG_PORT = os.getenv(\"POSTGRES_PORT\")"
   ]
  },
  {
   "cell_type": "code",
   "execution_count": null,
   "metadata": {},
   "outputs": [],
   "source": [
    "# connicting to database\n",
    "db = DataService(PG_DB, PG_ADDR, PG_PORT, PG_USER, PG_PW)\n",
    "conn = db.connect()"
   ]
  },
  {
   "cell_type": "code",
   "execution_count": null,
   "metadata": {},
   "outputs": [],
   "source": [
    "query = sq.text(\"select * FROM public.ab_station_data\")\n",
    "ab_df = pd.read_sql(query, conn)"
   ]
  },
  {
   "cell_type": "code",
   "execution_count": null,
   "metadata": {},
   "outputs": [],
   "source": [
    "query = sq.text(\"select * FROM public.mb_station_data\")\n",
    "mb_df = pd.read_sql(query, conn)"
   ]
  },
  {
   "cell_type": "code",
   "execution_count": null,
   "metadata": {},
   "outputs": [],
   "source": [
    "query = sq.text(\"select * FROM public.sk_station_data\")\n",
    "sk_df = pd.read_sql(query, conn)"
   ]
  },
  {
   "cell_type": "code",
   "execution_count": null,
   "metadata": {},
   "outputs": [],
   "source": [
    "ab_df.head()"
   ]
  },
  {
   "cell_type": "code",
   "execution_count": null,
   "metadata": {},
   "outputs": [],
   "source": [
    "mb_df.head()"
   ]
  },
  {
   "cell_type": "code",
   "execution_count": null,
   "metadata": {},
   "outputs": [],
   "source": [
    "sk_df.head()"
   ]
  },
  {
   "cell_type": "code",
   "execution_count": null,
   "metadata": {},
   "outputs": [],
   "source": [
    "ab_df.info()"
   ]
  },
  {
   "cell_type": "code",
   "execution_count": null,
   "metadata": {},
   "outputs": [],
   "source": [
    "mb_df.info()"
   ]
  },
  {
   "cell_type": "code",
   "execution_count": null,
   "metadata": {},
   "outputs": [],
   "source": [
    "sk_df.info()"
   ]
  },
  {
   "cell_type": "code",
   "execution_count": null,
   "metadata": {},
   "outputs": [],
   "source": [
    "ab_df.describe()"
   ]
  },
  {
   "cell_type": "code",
   "execution_count": null,
   "metadata": {},
   "outputs": [],
   "source": [
    "mb_df.describe()"
   ]
  },
  {
   "cell_type": "code",
   "execution_count": null,
   "metadata": {},
   "outputs": [],
   "source": [
    "sk_df.describe()"
   ]
  },
  {
   "cell_type": "code",
   "execution_count": null,
   "metadata": {},
   "outputs": [],
   "source": [
    "plt.hist(ab_df['mean_temp'], alpha=0.5, label=\"ab\")\n",
    "plt.hist(mb_df['mean_temp'], alpha=0.5, label=\"mb\")\n",
    "plt.hist(sk_df['mean_temp'], alpha=0.5, label=\"sk\")\n",
    "plt.legend(loc=\"upper right\")\n",
    "plt.show()"
   ]
  },
  {
   "cell_type": "code",
   "execution_count": null,
   "metadata": {},
   "outputs": [],
   "source": [
    "plt.scatter( ab_df['mean_temp'], ab_df['total_rain'], alpha=0.5, label=\"ab\")\n",
    "plt.scatter( mb_df['mean_temp'], mb_df['total_rain'], alpha=0.5, label=\"mb\")\n",
    "plt.scatter( sk_df['mean_temp'], sk_df['total_rain'], alpha=0.5, label=\"sk\")\n",
    "plt.legend(loc=\"upper right\")\n",
    "plt.show()"
   ]
  },
  {
   "cell_type": "code",
   "execution_count": null,
   "metadata": {},
   "outputs": [],
   "source": [
    "plt.scatter( ab_df['mean_temp'], ab_df['total_snow'], alpha=0.5, label=\"ab\")\n",
    "plt.scatter( mb_df['mean_temp'], mb_df['total_snow'], alpha=0.5, label=\"mb\")\n",
    "plt.scatter( sk_df['mean_temp'], sk_df['total_snow'], alpha=0.5, label=\"sk\")\n",
    "plt.legend(loc=\"upper right\")\n",
    "plt.show()"
   ]
  },
  {
   "cell_type": "code",
   "execution_count": null,
   "metadata": {},
   "outputs": [],
   "source": [
    "plt.scatter( ab_df['mean_temp'], ab_df['total_precip'], alpha=0.5, label=\"ab\")\n",
    "plt.scatter( mb_df['mean_temp'], mb_df['total_precip'], alpha=0.5, label=\"mb\")\n",
    "plt.scatter( sk_df['mean_temp'], sk_df['total_precip'], alpha=0.5, label=\"sk\")\n",
    "plt.legend(loc=\"upper right\")\n",
    "plt.show()"
   ]
  },
  {
   "cell_type": "code",
   "execution_count": null,
   "metadata": {},
   "outputs": [],
   "source": [
    "plt.scatter(ab_df['date'], ab_df['mean_temp'])\n",
    "plt.show()"
   ]
  },
  {
   "cell_type": "code",
   "execution_count": null,
   "metadata": {},
   "outputs": [],
   "source": [
    "temp = ab_df[[\"mean_temp\", \"total_rain\", \"total_snow\", \"total_precip\", \"snow_on_grnd\"]]\n",
    "temp.corr()"
   ]
  },
  {
   "cell_type": "code",
   "execution_count": null,
   "metadata": {},
   "outputs": [],
   "source": [
    "temp = mb_df[[\"mean_temp\", \"total_rain\", \"total_snow\", \"total_precip\", \"snow_on_grnd\"]]\n",
    "temp.corr()"
   ]
  },
  {
   "cell_type": "code",
   "execution_count": null,
   "metadata": {},
   "outputs": [],
   "source": [
    "temp = sk_df[[\"mean_temp\", \"total_rain\", \"total_snow\", \"total_precip\", \"snow_on_grnd\"]]\n",
    "temp.corr()"
   ]
  },
  {
   "attachments": {},
   "cell_type": "markdown",
   "metadata": {},
   "source": [
    "# Visualization of the weather station"
   ]
  },
  {
   "cell_type": "code",
   "execution_count": 30,
   "metadata": {},
   "outputs": [],
   "source": [
    "# connicting to database\n",
    "db = DataService(PG_DB, PG_ADDR, PG_PORT, PG_USER, PG_PW)\n",
    "conn = db.connect()"
   ]
  },
  {
   "cell_type": "code",
   "execution_count": 31,
   "metadata": {},
   "outputs": [],
   "source": [
    "# import weather statioin data\n",
    "query = sq.text(\"select * FROM public.stations_dly\")\n",
    "station_df = pd.read_sql(query, conn)"
   ]
  },
  {
   "cell_type": "code",
   "execution_count": 32,
   "metadata": {},
   "outputs": [
    {
     "data": {
      "text/html": [
       "<div>\n",
       "<style scoped>\n",
       "    .dataframe tbody tr th:only-of-type {\n",
       "        vertical-align: middle;\n",
       "    }\n",
       "\n",
       "    .dataframe tbody tr th {\n",
       "        vertical-align: top;\n",
       "    }\n",
       "\n",
       "    .dataframe thead th {\n",
       "        text-align: right;\n",
       "    }\n",
       "</style>\n",
       "<table border=\"1\" class=\"dataframe\">\n",
       "  <thead>\n",
       "    <tr style=\"text-align: right;\">\n",
       "      <th></th>\n",
       "      <th>station_name</th>\n",
       "      <th>province</th>\n",
       "      <th>latitude</th>\n",
       "      <th>longitude</th>\n",
       "      <th>elevation</th>\n",
       "      <th>station_id</th>\n",
       "      <th>wmo_identifier</th>\n",
       "      <th>tc_identifier</th>\n",
       "      <th>first_year</th>\n",
       "      <th>last_year</th>\n",
       "      <th>hly_first_year</th>\n",
       "      <th>hly_last_year</th>\n",
       "      <th>dly_first_year</th>\n",
       "      <th>dly_last_year</th>\n",
       "      <th>mly_first_year</th>\n",
       "      <th>mly_last_year</th>\n",
       "      <th>geometry</th>\n",
       "      <th>district</th>\n",
       "      <th>cr_num</th>\n",
       "      <th>scraped</th>\n",
       "    </tr>\n",
       "  </thead>\n",
       "  <tbody>\n",
       "    <tr>\n",
       "      <th>0</th>\n",
       "      <td>ABEE AGDM</td>\n",
       "      <td>AB</td>\n",
       "      <td>54.28</td>\n",
       "      <td>-112.97</td>\n",
       "      <td>664.0</td>\n",
       "      <td>3010010</td>\n",
       "      <td>71285.0</td>\n",
       "      <td>XAF</td>\n",
       "      <td>1990</td>\n",
       "      <td>2022</td>\n",
       "      <td>1990.0</td>\n",
       "      <td>2022.0</td>\n",
       "      <td>2002.0</td>\n",
       "      <td>2022.0</td>\n",
       "      <td>2002.0</td>\n",
       "      <td>2007.0</td>\n",
       "      <td>0101000020130D0000FBC2F8EA629752416FABBFCAA509...</td>\n",
       "      <td>4860.0</td>\n",
       "      <td>10.0</td>\n",
       "      <td>False</td>\n",
       "    </tr>\n",
       "    <tr>\n",
       "      <th>1</th>\n",
       "      <td>ACADIA VALLEY</td>\n",
       "      <td>AB</td>\n",
       "      <td>51.07</td>\n",
       "      <td>-110.32</td>\n",
       "      <td>735.0</td>\n",
       "      <td>3020035</td>\n",
       "      <td>71048.0</td>\n",
       "      <td>PAC</td>\n",
       "      <td>2009</td>\n",
       "      <td>2022</td>\n",
       "      <td>2009.0</td>\n",
       "      <td>2022.0</td>\n",
       "      <td>2009.0</td>\n",
       "      <td>2022.0</td>\n",
       "      <td>NaN</td>\n",
       "      <td>NaN</td>\n",
       "      <td>0101000020130D00006E82DFCB90D2524193B304E93E20...</td>\n",
       "      <td>4810.0</td>\n",
       "      <td>8.0</td>\n",
       "      <td>False</td>\n",
       "    </tr>\n",
       "    <tr>\n",
       "      <th>2</th>\n",
       "      <td>ALBERT HALL AGCM</td>\n",
       "      <td>AB</td>\n",
       "      <td>53.11</td>\n",
       "      <td>-111.18</td>\n",
       "      <td>658.0</td>\n",
       "      <td>3010060</td>\n",
       "      <td>71005.0</td>\n",
       "      <td>PAH</td>\n",
       "      <td>2007</td>\n",
       "      <td>2022</td>\n",
       "      <td>2007.0</td>\n",
       "      <td>2022.0</td>\n",
       "      <td>2007.0</td>\n",
       "      <td>2022.0</td>\n",
       "      <td>2007.0</td>\n",
       "      <td>2007.0</td>\n",
       "      <td>0101000020130D000024634AAA42DC5241033C6EFD98A9...</td>\n",
       "      <td>4840.0</td>\n",
       "      <td>9.0</td>\n",
       "      <td>False</td>\n",
       "    </tr>\n",
       "    <tr>\n",
       "      <th>3</th>\n",
       "      <td>ALLIANCE AGCM</td>\n",
       "      <td>AB</td>\n",
       "      <td>52.32</td>\n",
       "      <td>-111.78</td>\n",
       "      <td>737.0</td>\n",
       "      <td>3010162</td>\n",
       "      <td>71006.0</td>\n",
       "      <td>PAA</td>\n",
       "      <td>2007</td>\n",
       "      <td>2022</td>\n",
       "      <td>2007.0</td>\n",
       "      <td>2022.0</td>\n",
       "      <td>2007.0</td>\n",
       "      <td>2022.0</td>\n",
       "      <td>2007.0</td>\n",
       "      <td>2007.0</td>\n",
       "      <td>0101000020130D00003F246CE4499D52416C5C0D1A0496...</td>\n",
       "      <td>4840.0</td>\n",
       "      <td>9.0</td>\n",
       "      <td>False</td>\n",
       "    </tr>\n",
       "    <tr>\n",
       "      <th>4</th>\n",
       "      <td>ANDREW AGDM</td>\n",
       "      <td>AB</td>\n",
       "      <td>53.92</td>\n",
       "      <td>-112.28</td>\n",
       "      <td>625.0</td>\n",
       "      <td>3010237</td>\n",
       "      <td>71286.0</td>\n",
       "      <td>XAG</td>\n",
       "      <td>1998</td>\n",
       "      <td>2022</td>\n",
       "      <td>1998.0</td>\n",
       "      <td>2022.0</td>\n",
       "      <td>2002.0</td>\n",
       "      <td>2022.0</td>\n",
       "      <td>2002.0</td>\n",
       "      <td>2007.0</td>\n",
       "      <td>0101000020130D0000063649EF1BB45241B3DEDAF6F4A4...</td>\n",
       "      <td>4840.0</td>\n",
       "      <td>9.0</td>\n",
       "      <td>False</td>\n",
       "    </tr>\n",
       "    <tr>\n",
       "      <th>...</th>\n",
       "      <td>...</td>\n",
       "      <td>...</td>\n",
       "      <td>...</td>\n",
       "      <td>...</td>\n",
       "      <td>...</td>\n",
       "      <td>...</td>\n",
       "      <td>...</td>\n",
       "      <td>...</td>\n",
       "      <td>...</td>\n",
       "      <td>...</td>\n",
       "      <td>...</td>\n",
       "      <td>...</td>\n",
       "      <td>...</td>\n",
       "      <td>...</td>\n",
       "      <td>...</td>\n",
       "      <td>...</td>\n",
       "      <td>...</td>\n",
       "      <td>...</td>\n",
       "      <td>...</td>\n",
       "      <td>...</td>\n",
       "    </tr>\n",
       "    <tr>\n",
       "      <th>467</th>\n",
       "      <td>YORKTON</td>\n",
       "      <td>SK</td>\n",
       "      <td>51.26</td>\n",
       "      <td>-102.46</td>\n",
       "      <td>498.3</td>\n",
       "      <td>4019075</td>\n",
       "      <td>71292.0</td>\n",
       "      <td>YQV</td>\n",
       "      <td>2011</td>\n",
       "      <td>2022</td>\n",
       "      <td>2011.0</td>\n",
       "      <td>2022.0</td>\n",
       "      <td>2011.0</td>\n",
       "      <td>2022.0</td>\n",
       "      <td>NaN</td>\n",
       "      <td>NaN</td>\n",
       "      <td>0101000020130D0000209C5B32BEDD5441AA72D09DE08D...</td>\n",
       "      <td>4750.0</td>\n",
       "      <td>6.0</td>\n",
       "      <td>False</td>\n",
       "    </tr>\n",
       "    <tr>\n",
       "      <th>468</th>\n",
       "      <td>YORKTON</td>\n",
       "      <td>SK</td>\n",
       "      <td>51.26</td>\n",
       "      <td>-102.46</td>\n",
       "      <td>498.4</td>\n",
       "      <td>4019073</td>\n",
       "      <td>71886.0</td>\n",
       "      <td>PRJ</td>\n",
       "      <td>2011</td>\n",
       "      <td>2022</td>\n",
       "      <td>2011.0</td>\n",
       "      <td>2022.0</td>\n",
       "      <td>2011.0</td>\n",
       "      <td>2022.0</td>\n",
       "      <td>NaN</td>\n",
       "      <td>NaN</td>\n",
       "      <td>0101000020130D0000209C5B32BEDD5441AA72D09DE08D...</td>\n",
       "      <td>4750.0</td>\n",
       "      <td>6.0</td>\n",
       "      <td>False</td>\n",
       "    </tr>\n",
       "    <tr>\n",
       "      <th>469</th>\n",
       "      <td>YORKTON</td>\n",
       "      <td>SK</td>\n",
       "      <td>51.26</td>\n",
       "      <td>-102.46</td>\n",
       "      <td>498.3</td>\n",
       "      <td>4019085</td>\n",
       "      <td>71138.0</td>\n",
       "      <td>YQV</td>\n",
       "      <td>2005</td>\n",
       "      <td>2011</td>\n",
       "      <td>2005.0</td>\n",
       "      <td>2011.0</td>\n",
       "      <td>2005.0</td>\n",
       "      <td>2011.0</td>\n",
       "      <td>2005.0</td>\n",
       "      <td>2007.0</td>\n",
       "      <td>0101000020130D0000209C5B32BEDD5441AA72D09DE08D...</td>\n",
       "      <td>4750.0</td>\n",
       "      <td>6.0</td>\n",
       "      <td>False</td>\n",
       "    </tr>\n",
       "    <tr>\n",
       "      <th>470</th>\n",
       "      <td>YORKTON A</td>\n",
       "      <td>SK</td>\n",
       "      <td>51.27</td>\n",
       "      <td>-102.47</td>\n",
       "      <td>498.3</td>\n",
       "      <td>4019080</td>\n",
       "      <td>71138.0</td>\n",
       "      <td>YQV</td>\n",
       "      <td>1941</td>\n",
       "      <td>2005</td>\n",
       "      <td>1953.0</td>\n",
       "      <td>2005.0</td>\n",
       "      <td>1941.0</td>\n",
       "      <td>2005.0</td>\n",
       "      <td>1941.0</td>\n",
       "      <td>2005.0</td>\n",
       "      <td>0101000020130D0000CFC33C4741DD5441E868CA9A9392...</td>\n",
       "      <td>4750.0</td>\n",
       "      <td>6.0</td>\n",
       "      <td>False</td>\n",
       "    </tr>\n",
       "    <tr>\n",
       "      <th>471</th>\n",
       "      <td>YOUNGSTOWN AGCM</td>\n",
       "      <td>AB</td>\n",
       "      <td>51.49</td>\n",
       "      <td>-111.22</td>\n",
       "      <td>800.0</td>\n",
       "      <td>3017705</td>\n",
       "      <td>NaN</td>\n",
       "      <td>PYT</td>\n",
       "      <td>2012</td>\n",
       "      <td>2022</td>\n",
       "      <td>2012.0</td>\n",
       "      <td>2022.0</td>\n",
       "      <td>2018.0</td>\n",
       "      <td>2022.0</td>\n",
       "      <td>NaN</td>\n",
       "      <td>NaN</td>\n",
       "      <td>0101000020130D0000F89CF7CDA9A5524161E14B5B9314...</td>\n",
       "      <td>4810.0</td>\n",
       "      <td>8.0</td>\n",
       "      <td>False</td>\n",
       "    </tr>\n",
       "  </tbody>\n",
       "</table>\n",
       "<p>472 rows × 20 columns</p>\n",
       "</div>"
      ],
      "text/plain": [
       "         station_name province  latitude  longitude  elevation station_id  \\\n",
       "0           ABEE AGDM       AB     54.28    -112.97      664.0    3010010   \n",
       "1       ACADIA VALLEY       AB     51.07    -110.32      735.0    3020035   \n",
       "2    ALBERT HALL AGCM       AB     53.11    -111.18      658.0    3010060   \n",
       "3       ALLIANCE AGCM       AB     52.32    -111.78      737.0    3010162   \n",
       "4         ANDREW AGDM       AB     53.92    -112.28      625.0    3010237   \n",
       "..                ...      ...       ...        ...        ...        ...   \n",
       "467           YORKTON       SK     51.26    -102.46      498.3    4019075   \n",
       "468           YORKTON       SK     51.26    -102.46      498.4    4019073   \n",
       "469           YORKTON       SK     51.26    -102.46      498.3    4019085   \n",
       "470         YORKTON A       SK     51.27    -102.47      498.3    4019080   \n",
       "471   YOUNGSTOWN AGCM       AB     51.49    -111.22      800.0    3017705   \n",
       "\n",
       "     wmo_identifier tc_identifier  first_year  last_year  hly_first_year  \\\n",
       "0           71285.0           XAF        1990       2022          1990.0   \n",
       "1           71048.0           PAC        2009       2022          2009.0   \n",
       "2           71005.0           PAH        2007       2022          2007.0   \n",
       "3           71006.0           PAA        2007       2022          2007.0   \n",
       "4           71286.0           XAG        1998       2022          1998.0   \n",
       "..              ...           ...         ...        ...             ...   \n",
       "467         71292.0           YQV        2011       2022          2011.0   \n",
       "468         71886.0           PRJ        2011       2022          2011.0   \n",
       "469         71138.0           YQV        2005       2011          2005.0   \n",
       "470         71138.0           YQV        1941       2005          1953.0   \n",
       "471             NaN           PYT        2012       2022          2012.0   \n",
       "\n",
       "     hly_last_year  dly_first_year  dly_last_year  mly_first_year  \\\n",
       "0           2022.0          2002.0         2022.0          2002.0   \n",
       "1           2022.0          2009.0         2022.0             NaN   \n",
       "2           2022.0          2007.0         2022.0          2007.0   \n",
       "3           2022.0          2007.0         2022.0          2007.0   \n",
       "4           2022.0          2002.0         2022.0          2002.0   \n",
       "..             ...             ...            ...             ...   \n",
       "467         2022.0          2011.0         2022.0             NaN   \n",
       "468         2022.0          2011.0         2022.0             NaN   \n",
       "469         2011.0          2005.0         2011.0          2005.0   \n",
       "470         2005.0          1941.0         2005.0          1941.0   \n",
       "471         2022.0          2018.0         2022.0             NaN   \n",
       "\n",
       "     mly_last_year                                           geometry  \\\n",
       "0           2007.0  0101000020130D0000FBC2F8EA629752416FABBFCAA509...   \n",
       "1              NaN  0101000020130D00006E82DFCB90D2524193B304E93E20...   \n",
       "2           2007.0  0101000020130D000024634AAA42DC5241033C6EFD98A9...   \n",
       "3           2007.0  0101000020130D00003F246CE4499D52416C5C0D1A0496...   \n",
       "4           2007.0  0101000020130D0000063649EF1BB45241B3DEDAF6F4A4...   \n",
       "..             ...                                                ...   \n",
       "467            NaN  0101000020130D0000209C5B32BEDD5441AA72D09DE08D...   \n",
       "468            NaN  0101000020130D0000209C5B32BEDD5441AA72D09DE08D...   \n",
       "469         2007.0  0101000020130D0000209C5B32BEDD5441AA72D09DE08D...   \n",
       "470         2005.0  0101000020130D0000CFC33C4741DD5441E868CA9A9392...   \n",
       "471            NaN  0101000020130D0000F89CF7CDA9A5524161E14B5B9314...   \n",
       "\n",
       "     district  cr_num  scraped  \n",
       "0      4860.0    10.0    False  \n",
       "1      4810.0     8.0    False  \n",
       "2      4840.0     9.0    False  \n",
       "3      4840.0     9.0    False  \n",
       "4      4840.0     9.0    False  \n",
       "..        ...     ...      ...  \n",
       "467    4750.0     6.0    False  \n",
       "468    4750.0     6.0    False  \n",
       "469    4750.0     6.0    False  \n",
       "470    4750.0     6.0    False  \n",
       "471    4810.0     8.0    False  \n",
       "\n",
       "[472 rows x 20 columns]"
      ]
     },
     "execution_count": 32,
     "metadata": {},
     "output_type": "execute_result"
    }
   ],
   "source": [
    "station_df"
   ]
  },
  {
   "cell_type": "code",
   "execution_count": 36,
   "metadata": {},
   "outputs": [],
   "source": [
    "from shapely import wkb"
   ]
  },
  {
   "cell_type": "code",
   "execution_count": 37,
   "metadata": {},
   "outputs": [],
   "source": [
    "station_df['geometry'] = station_df['geometry'].apply(lambda x: wkb.loads(bytes.fromhex(x)))"
   ]
  },
  {
   "cell_type": "code",
   "execution_count": 39,
   "metadata": {},
   "outputs": [],
   "source": [
    "station_gdf = gpd.GeoDataFrame(station_df, geometry='geometry')"
   ]
  },
  {
   "cell_type": "code",
   "execution_count": null,
   "metadata": {},
   "outputs": [],
   "source": []
  }
 ],
 "metadata": {
  "kernelspec": {
   "display_name": "Python 3",
   "language": "python",
   "name": "python3"
  },
  "language_info": {
   "codemirror_mode": {
    "name": "ipython",
    "version": 3
   },
   "file_extension": ".py",
   "mimetype": "text/x-python",
   "name": "python",
   "nbconvert_exporter": "python",
   "pygments_lexer": "ipython3",
   "version": "3.10.6"
  },
  "orig_nbformat": 4
 },
 "nbformat": 4,
 "nbformat_minor": 2
}
