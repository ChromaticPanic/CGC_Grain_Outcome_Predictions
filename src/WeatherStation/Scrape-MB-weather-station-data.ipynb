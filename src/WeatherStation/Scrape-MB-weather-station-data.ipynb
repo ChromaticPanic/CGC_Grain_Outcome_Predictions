{
 "cells": [
  {
   "cell_type": "code",
   "execution_count": 1,
   "metadata": {},
   "outputs": [
    {
     "name": "stderr",
     "output_type": "stream",
     "text": [
      "/usr/local/lib/python3.8/dist-packages/geopandas/_compat.py:124: UserWarning: The Shapely GEOS version (3.11.1-CAPI-1.17.1) is incompatible with the GEOS version PyGEOS was compiled with (3.10.4-CAPI-1.16.2). Conversions between both will be slow.\n",
      "  warnings.warn(\n",
      "/tmp/ipykernel_31254/1399629943.py:6: DeprecationWarning: Shapely 2.0 is installed, but because PyGEOS is also installed, GeoPandas still uses PyGEOS by default. However, starting with version 0.14, the default will switch to Shapely. To force to use Shapely 2.0 now, you can either uninstall PyGEOS or set the environment variable USE_PYGEOS=0. You can do this before starting the Python process, or in your code before importing geopandas:\n",
      "\n",
      "import os\n",
      "os.environ['USE_PYGEOS'] = '0'\n",
      "import geopandas\n",
      "\n",
      "In the next release, GeoPandas will switch to using Shapely by default, even if PyGEOS is installed. If you only have PyGEOS installed to get speed-ups, this switch should be smooth. However, if you are using PyGEOS directly (calling PyGEOS functions on geometries from GeoPandas), this will then stop working and you are encouraged to migrate from PyGEOS to Shapely 2.0 (https://shapely.readthedocs.io/en/latest/migration_pygeos.html).\n",
      "  import geopandas as gpd\n"
     ]
    }
   ],
   "source": [
    "#@title Import relevant modules\n",
    "import os\n",
    "import pandas as pd\n",
    "import numpy as np\n",
    "import geopandas as gpd\n",
    "import sqlalchemy as sq\n",
    "from matplotlib import pyplot as plt\n",
    "from IPython.display import clear_output\n",
    "from dotenv import load_dotenv\n",
    "from DataService import DataService\n",
    "from ClimateDataRequester import ClimateDataRequester as cdr\n",
    "from utils import *"
   ]
  },
  {
   "cell_type": "code",
   "execution_count": 3,
   "metadata": {},
   "outputs": [],
   "source": [
    "# The following lines adjust the granularity of reporting.\n",
    "pd.options.display.max_rows = 100\n",
    "pd.options.display.float_format = \"{:.1f}\".format\n",
    "pd.set_option('display.max_columns', None)\n"
   ]
  },
  {
   "cell_type": "code",
   "execution_count": 5,
   "metadata": {},
   "outputs": [],
   "source": [
    "def push_data(df: pd.DataFrame) -> None:\n",
    "    dataService = DataService(PGDB, PGUSER, PGPW)\n",
    "    db_con = dataService.connect()\n",
    "    df.to_sql(\"WeatherData\", db_con, if_exists=\"append\", index=False)\n",
    "    dataService.cleanup()\n"
   ]
  },
  {
   "cell_type": "code",
   "execution_count": 6,
   "metadata": {},
   "outputs": [],
   "source": [
    "def dataProcessA(df: pd.DataFrame, stationID: str) -> None:\n",
    "    dataService = DataService(PGDB, PGUSER, PGPW)\n",
    "    db_con = dataService.connect()\n",
    "    try:\n",
    "        df.drop(columns=['Data Quality', 'Max Temp Flag', 'Mean Temp Flag', 'Min Temp Flag', 'Heat Deg Days Flag', 'Cool Deg Days Flag', 'Spd of Max Gust (km/h)',\n",
    "                         'Total Rain Flag', 'Total Snow Flag', 'Total Precip Flag', 'Snow on Grnd Flag', 'Dir of Max Gust Flag', 'Spd of Max Gust Flag',\n",
    "                         'Heat Deg Days (°C)', 'Cool Deg Days (°C)', 'Longitude (x)', 'Latitude (y)', 'Station Name', 'Dir of Max Gust (10s deg)'], inplace=True)\n",
    "    except:\n",
    "        df.to_csv(\"data/failed/\" + str(df.iloc[0, 0]) + \"_unexpected_column_names.csv\", index=False)\n",
    "\n",
    "    # Climate ID\tDate/Time\tYear\tMonth\tDay\tMax Temp (Â°C)\tMin Temp (Â°C)\tMean Temp (Â°C)\tTotal Rain (mm)\tTotal Snow (cm)\tTotal Precip (mm)\tSnow on Grnd (cm)\tDir of Max Gust (10s deg)\tSpd of Max Gust (km/h)\n",
    "    # ClimateID Date Year Month Day MaxTemp MinTemp MeanTemp TotalRain TotalSnow TotalPrecip SnowOnGrnd DirOfMaxGust SpdOfMaxGust\n",
    "    df.rename(columns={df.columns[0]: \"ClimateID\"}, inplace=True)\n",
    "    df.rename(columns={df.columns[1]: \"Date\"}, inplace=True)\n",
    "    df.rename(columns={df.columns[2]: \"Year\"}, inplace=True)\n",
    "    df.rename(columns={df.columns[3]: \"Month\"}, inplace=True)\n",
    "    df.rename(columns={df.columns[4]: \"Day\"}, inplace=True)\n",
    "    df.rename(columns={df.columns[5]: \"MaxTemp\"}, inplace=True)\n",
    "    df.rename(columns={df.columns[6]: \"MinTemp\"}, inplace=True)\n",
    "    df.rename(columns={df.columns[7]: \"MeanTemp\"}, inplace=True)\n",
    "    df.rename(columns={df.columns[8]: \"TotalRain\"}, inplace=True)\n",
    "    df.rename(columns={df.columns[9]: \"TotalSnow\"}, inplace=True)\n",
    "    df.rename(columns={df.columns[10]: \"TotalPrecip\"}, inplace=True)\n",
    "    df.rename(columns={df.columns[11]: \"SnowOnGrnd\"}, inplace=True)\n",
    "\n",
    "    df.dropna(subset=['MeanTemp'], inplace=True)\n",
    "    df.loc[df['SnowOnGrnd'].isnull(), 'SnowOnGrnd'] = 0\n",
    "    df.loc[df['TotalRain'].isnull(), 'TotalRain'] = 0\n",
    "    df.loc[df['TotalSnow'].isnull(), 'TotalSnow'] = 0\n",
    "    df.loc[df['TotalPrecip'].isnull(), 'TotalPrecip'] = 0\n",
    "    df['MaxTemp'] = np.where(df['MaxTemp'].isnull(),\n",
    "                             df['MeanTemp'], df['MaxTemp'])\n",
    "    df['MinTemp'] = np.where(df['MinTemp'].isnull(),\n",
    "                             df['MeanTemp'], df['MinTemp'])\n",
    "\n",
    "    df[['ClimateID', 'Date']] = df[['ClimateID', 'Date']].astype(str)\n",
    "    df[['Year', 'Month', 'Day']] = df[['Year', 'Month', 'Day']].astype(int)\n",
    "    df[['MaxTemp', 'MinTemp', 'MeanTemp', 'TotalRain', 'TotalSnow', 'TotalPrecip', 'SnowOnGrnd']] = df[[\n",
    "        'MaxTemp', 'MinTemp', 'MeanTemp', 'TotalRain', 'TotalSnow', 'TotalPrecip', 'SnowOnGrnd']].astype(float)\n",
    "\n",
    "    # we try a db push, but if it fails, we place the data in a csv file\n",
    "    # try:\n",
    "    push_data(df)\n",
    "    query = sq.text(\"UPDATE public.\\\"StationsDly\\\" SET \\\"scraped\\\" = True WHERE \\\"Climate ID\\\" like CAST(\\'{}\\' AS TEXT);\".format(stationID))\n",
    "    db_con.execute(query)\n",
    "    # except:\n",
    "    #     df.to_csv(\"Failed/\" + str(df.iloc[0, 0]) +\n",
    "    #             \"_data_failed_dbpush.csv\", index=False)\n",
    "    dataService.cleanup()\n"
   ]
  },
  {
   "cell_type": "code",
   "execution_count": 7,
   "metadata": {},
   "outputs": [],
   "source": [
    "tableName = \"public.\\\"StationsDly\\\"\"\n",
    "query = \"SELECT * FROM \" + tableName + \";\"\n",
    "\n",
    "\n",
    "dataService = DataService(PGDB, PGUSER, PGPW)\n",
    "db_con = dataService.connect()\n",
    "dfStations = gpd.GeoDataFrame.from_postgis(query, db_con, geom_col='geometry')\n"
   ]
  },
  {
   "cell_type": "code",
   "execution_count": 8,
   "metadata": {},
   "outputs": [],
   "source": [
    "# get list of MANITOBA stations\n",
    "mbStations = dfStations.loc[dfStations['Province'] == 'MANITOBA']\n",
    "\n",
    "# remove stations with NaN DLY First Year\n",
    "mbStations = mbStations.loc[mbStations['DLY First Year'].notnull()]\n",
    "\n",
    "# reindex \n",
    "mbStations.reset_index(drop=True, inplace=True)"
   ]
  },
  {
   "cell_type": "code",
   "execution_count": 9,
   "metadata": {},
   "outputs": [],
   "source": [
    "# try first 2 stations\n",
    "# mbStations = mbStations.iloc[0:3, :]"
   ]
  },
  {
   "cell_type": "code",
   "execution_count": 10,
   "metadata": {},
   "outputs": [
    {
     "data": {
      "text/plain": [
       "Station Name      80\n",
       "Province          80\n",
       "Latitude          80\n",
       "Longitude         80\n",
       "Elevation         80\n",
       "Climate ID        80\n",
       "WMO Identifier    61\n",
       "TC Identifier     75\n",
       "First Year        80\n",
       "Last Year         80\n",
       "HLY First Year    80\n",
       "HLY Last Year     80\n",
       "DLY First Year    80\n",
       "DLY Last Year     80\n",
       "MLY First Year    54\n",
       "MLY Last Year     54\n",
       "geometry          80\n",
       "CRnum             80\n",
       "scraped           80\n",
       "dtype: int64"
      ]
     },
     "execution_count": 10,
     "metadata": {},
     "output_type": "execute_result"
    }
   ],
   "source": [
    "mbStations.count()"
   ]
  },
  {
   "cell_type": "code",
   "execution_count": 11,
   "metadata": {},
   "outputs": [
    {
     "name": "stdout",
     "output_type": "stream",
     "text": [
      "   Longitude (x)  Latitude (y)        Station Name  Climate ID   Date/Time   \n",
      "0          -97.1          49.9  WINNIPEG THE FORKS     5023262  2022-12-01  \\\n",
      "1          -97.1          49.9  WINNIPEG THE FORKS     5023262  2022-12-02   \n",
      "2          -97.1          49.9  WINNIPEG THE FORKS     5023262  2022-12-03   \n",
      "3          -97.1          49.9  WINNIPEG THE FORKS     5023262  2022-12-04   \n",
      "4          -97.1          49.9  WINNIPEG THE FORKS     5023262  2022-12-05   \n",
      "\n",
      "   Year  Month  Day  Data Quality  Max Temp (°C) Max Temp Flag  Min Temp (°C)   \n",
      "0  2022     12    1           NaN           -6.9           NaN          -16.2  \\\n",
      "1  2022     12    2           NaN           -7.1           NaN          -19.5   \n",
      "2  2022     12    3           NaN          -13.4           NaN          -21.1   \n",
      "3  2022     12    4           NaN           -3.4           NaN          -15.4   \n",
      "4  2022     12    5           NaN           -5.4           NaN          -23.9   \n",
      "\n",
      "  Min Temp Flag  Mean Temp (°C) Mean Temp Flag  Heat Deg Days (°C)   \n",
      "0           NaN           -11.6            NaN                29.6  \\\n",
      "1           NaN           -13.3            NaN                31.3   \n",
      "2           NaN           -17.2            NaN                35.2   \n",
      "3           NaN            -9.4            NaN                27.4   \n",
      "4           NaN           -14.6            NaN                32.6   \n",
      "\n",
      "  Heat Deg Days Flag  Cool Deg Days (°C) Cool Deg Days Flag  Total Rain (mm)   \n",
      "0                NaN                 0.0                NaN              NaN  \\\n",
      "1                NaN                 0.0                NaN              NaN   \n",
      "2                NaN                 0.0                NaN              NaN   \n",
      "3                NaN                 0.0                NaN              NaN   \n",
      "4                NaN                 0.0                NaN              NaN   \n",
      "\n",
      "  Total Rain Flag  Total Snow (cm) Total Snow Flag  Total Precip (mm)   \n",
      "0             NaN              NaN             NaN                0.0  \\\n",
      "1             NaN              NaN             NaN                0.0   \n",
      "2             NaN              NaN             NaN                0.6   \n",
      "3             NaN              NaN             NaN                3.2   \n",
      "4             NaN              NaN             NaN                1.6   \n",
      "\n",
      "  Total Precip Flag  Snow on Grnd (cm) Snow on Grnd Flag   \n",
      "0               NaN                NaN               NaN  \\\n",
      "1               NaN                NaN               NaN   \n",
      "2               NaN                NaN               NaN   \n",
      "3               NaN                NaN               NaN   \n",
      "4               NaN                NaN               NaN   \n",
      "\n",
      "   Dir of Max Gust (10s deg) Dir of Max Gust Flag Spd of Max Gust (km/h)   \n",
      "0                        NaN                  NaN                    NaN  \\\n",
      "1                       33.0                  NaN                   38.0   \n",
      "2                        NaN                  NaN                    NaN   \n",
      "3                        NaN                  NaN                    NaN   \n",
      "4                        NaN                  NaN                    NaN   \n",
      "\n",
      "  Spd of Max Gust Flag  \n",
      "0                  NaN  \n",
      "1                  NaN  \n",
      "2                  NaN  \n",
      "3                  NaN  \n",
      "4                  NaN  \n",
      "Processed row 80 of 80\n"
     ]
    }
   ],
   "source": [
    "requester = cdr()\n",
    "df = pd.DataFrame()\n",
    "\n",
    "for index, row in mbStations.iterrows():\n",
    "                \n",
    "    stationID = str(row['Climate ID'])\n",
    "    errQuery = sq.text(\"UPDATE public.\\\"StationsDly\\\" SET \\\"scraped\\\" = False WHERE \\\"Climate ID\\\" like CAST(\\'{}\\' AS TEXT);\".format(stationID))\n",
    "    if row['scraped'] == False or row['scraped'] == None:\n",
    "        try:\n",
    "            startYr = 1995\n",
    "            endYr = 2022\n",
    "            if row['DLY First Year'] != np.NAN or row['DLY Last Year'] != np.NAN or row['DLY Last Year'] > 1995:\n",
    "                if row['DLY First Year'] > 1995:\n",
    "                    startYr = row['DLY First Year']\n",
    "                if row['DLY Last Year'] > 1995:\n",
    "                    endYr = row['DLY Last Year']\n",
    "                df = requester.get_data(\"MB\", stationID, startYr, endYr)\n",
    "                clear_output(wait=False)\n",
    "\n",
    "                print(df.head())\n",
    "                \n",
    "                if not df.empty:\n",
    "                    dataProcessA(df, stationID)\n",
    "                else:\n",
    "                    db_con.execute(errQuery)\n",
    "        except Exception as e:\n",
    "            print(\"Failed to scrape \" + stationID)\n",
    "            print(e)\n",
    "            db_con.execute(errQuery)\n",
    "    else:\n",
    "        print(\"Data for station \" + str(stationID) + \" already exists.\")\n",
    "\n",
    "    print(\"Processed row \" + str(index + 1) + \" of \" + str(len(mbStations)))\n"
   ]
  },
  {
   "cell_type": "code",
   "execution_count": 12,
   "metadata": {},
   "outputs": [],
   "source": [
    "\n",
    "dataService.cleanup()"
   ]
  }
 ],
 "metadata": {
  "kernelspec": {
   "display_name": "Python 3 (ipykernel)",
   "language": "python",
   "name": "python3"
  },
  "language_info": {
   "codemirror_mode": {
    "name": "ipython",
    "version": 3
   },
   "file_extension": ".py",
   "mimetype": "text/x-python",
   "name": "python",
   "nbconvert_exporter": "python",
   "pygments_lexer": "ipython3",
   "version": "3.8.10"
  },
  "orig_nbformat": 4,
  "vscode": {
   "interpreter": {
    "hash": "5b3ded1ccb95c1d9bd405e7b823d9e85424cde40fbb5985eb47e999ef50e15b4"
   }
  }
 },
 "nbformat": 4,
 "nbformat_minor": 2
}
