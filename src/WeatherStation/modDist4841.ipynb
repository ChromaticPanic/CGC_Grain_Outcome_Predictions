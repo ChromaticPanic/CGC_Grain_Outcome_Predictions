{
 "cells": [
  {
   "attachments": {},
   "cell_type": "markdown",
   "metadata": {},
   "source": [
    "Since we originally started with district 4841 some of our code is labeled with this label. District 4841 and 4840 should really be merged together to form all of district 4840.\n",
    "The purpose of this script is to repurpose any 4841 label to 4840"
   ]
  },
  {
   "cell_type": "code",
   "execution_count": null,
   "metadata": {},
   "outputs": [],
   "source": [
    "from dotenv import load_dotenv\n",
    "import sqlalchemy as sq\n",
    "import geopandas as gpd  # type: ignore\n",
    "import pandas as pd\n",
    "import os, sys\n",
    "\n",
    "sys.path.append(\"../\")\n",
    "from Shared.DataService import DataService\n",
    "from Shared.GenericQueryBuilder import GenericQueryBuilder"
   ]
  },
  {
   "cell_type": "code",
   "execution_count": null,
   "metadata": {},
   "outputs": [],
   "source": [
    "AG_REGIONS_TABLENAME = \"census_ag_regions\"\n",
    "\n",
    "load_dotenv()\n",
    "PG_DB = os.getenv(\"POSTGRES_DB\")\n",
    "PG_ADDR = os.getenv(\"POSTGRES_ADDR\")\n",
    "PG_PORT = os.getenv(\"POSTGRES_PORT\")\n",
    "PG_USER = os.getenv(\"POSTGRES_USER\")\n",
    "PG_PW = os.getenv(\"POSTGRES_PW\")"
   ]
  },
  {
   "cell_type": "code",
   "execution_count": null,
   "metadata": {},
   "outputs": [],
   "source": [
    "def getTables(conn: sq.engine.Connection) -> pd.DataFrame:\n",
    "    tableQuery = sq.text(\n",
    "        \"\"\"\n",
    "        SELECT table_name FROM information_schema.tables\n",
    "        WHERE table_schema='public';\n",
    "        \"\"\"\n",
    "    )\n",
    "\n",
    "    return pd.read_sql_query(tableQuery, conn)"
   ]
  },
  {
   "cell_type": "code",
   "execution_count": null,
   "metadata": {},
   "outputs": [],
   "source": [
    "def getColumns(table, conn: sq.engine.Connection) -> pd.DataFrame:\n",
    "    columnQuery = sq.text(\n",
    "        f\"\"\"\n",
    "        SELECT column_name FROM information_schema.columns\n",
    "        WHERE table_schema = 'public'\n",
    "        AND table_name = '{table}';\n",
    "        \"\"\"\n",
    "    )\n",
    "\n",
    "    return pd.read_sql_query(columnQuery, conn)"
   ]
  },
  {
   "cell_type": "code",
   "execution_count": null,
   "metadata": {},
   "outputs": [],
   "source": [
    "def updateColumnName(table: str, oldName: str, newName: str, db: DataService):\n",
    "    updateColNameQuery = sq.text(\n",
    "        f\"\"\"\n",
    "        ALTER TABLE public.{table}\n",
    "        RENAME COLUMN {oldName} to {newName};\n",
    "        COMMIT;\n",
    "        \"\"\"\n",
    "    )\n",
    "\n",
    "    db.execute(updateColNameQuery)"
   ]
  },
  {
   "cell_type": "code",
   "execution_count": null,
   "metadata": {},
   "outputs": [],
   "source": [
    "def updateAllValues(\n",
    "    table: str, colName: str, oldVal: int, newVal: int, db: DataService\n",
    "):\n",
    "    updateAllValuesQuery = sq.text(\n",
    "        f\"\"\"\n",
    "        UPDATE public.{table}\n",
    "        SET {colName} = {newVal}\n",
    "        WHERE {colName} = {oldVal};\n",
    "        COMMIT;\n",
    "        \"\"\"\n",
    "    )\n",
    "\n",
    "    db.execute(updateAllValuesQuery)"
   ]
  },
  {
   "cell_type": "code",
   "execution_count": null,
   "metadata": {},
   "outputs": [],
   "source": [
    "def correctRegions(conn: sq.engine.Connection, db: DataService):\n",
    "    regionQuery = sq.text(\"select * FROM public.census_ag_regions\")\n",
    "    agRegions = gpd.GeoDataFrame.from_postgis(\n",
    "        regionQuery, conn, crs=\"EPSG:3347\", geom_col=\"geometry\"\n",
    "    )\n",
    "\n",
    "    # get both rows corresponding to district 4840 and 4841 respectively\n",
    "    districts4841And4840 = agRegions.loc[\n",
    "        (agRegions[\"car_uid\"] == 4840) | (agRegions[\"car_uid\"] == 4841)\n",
    "    ]\n",
    "\n",
    "    # merge their geometries into the row with district 4840\n",
    "    agRegions.loc[\n",
    "        agRegions[\"car_uid\"] == 4840, \"geometry\"\n",
    "    ] = districts4841And4840.unary_union\n",
    "\n",
    "    # update the name to reflect the entirety of the district\n",
    "    agRegions.loc[\n",
    "        agRegions[\"car_uid\"] == 4840, \"car_name\"\n",
    "    ] = \"Census Agricultural Region 4\"\n",
    "\n",
    "    # delete district 4841 which is now apart of 4840\n",
    "    agRegions.drop(agRegions.loc[agRegions[\"car_uid\"] == 4841].index)\n",
    "\n",
    "    # rename the car_uid column to district\n",
    "    agRegions.rename(columns={\"car_uid\": \"district\"}, inplace=True)\n",
    "\n",
    "    dropRegionsQuery = sq.text(\"DROP TABLE public.census_ag_regions;\")\n",
    "    db.execute(dropRegionsQuery)\n",
    "    agRegions.to_postgis(AG_REGIONS_TABLENAME, conn, index=False, if_exists=\"replace\")"
   ]
  },
  {
   "cell_type": "code",
   "execution_count": null,
   "metadata": {},
   "outputs": [],
   "source": [
    "def main():\n",
    "    if (\n",
    "        PG_DB is None\n",
    "        or PG_ADDR is None\n",
    "        or PG_PORT is None\n",
    "        or PG_USER is None\n",
    "        or PG_PW is None\n",
    "    ):\n",
    "        raise ValueError(\"Environment variables not set\")\n",
    "\n",
    "    db = DataService(PG_DB, PG_ADDR, int(PG_PORT), PG_USER, PG_PW)\n",
    "    conn = db.connect()\n",
    "\n",
    "    tables = getTables(conn)\n",
    "    for index, row in tables.iterrows():  # for each table, check their columns\n",
    "        columns = getColumns(row[\"table_name\"], conn)\n",
    "\n",
    "        # creates a list out of the columns pulled from the table\n",
    "        columnList = columns[\"column_name\"].tolist()\n",
    "\n",
    "        try:\n",
    "            # if the current table has a column named car_uid or district, check it out\n",
    "            if \"car_uid\" in columnList:\n",
    "                if row[\"table_name\"] == AG_REGIONS_TABLENAME:\n",
    "                    correctRegions(conn, db)\n",
    "                else:\n",
    "                    updateColumnName(row[\"table_name\"], \"car_uid\", \"district\", db)\n",
    "                    updateAllValues(row[\"table_name\"], \"district\", 4841, 4840, db)\n",
    "\n",
    "            elif \"district\" in columnList:\n",
    "                updateAllValues(row[\"table_name\"], \"district\", 4841, 4840, db)\n",
    "\n",
    "            print(f'[{index + 1}/{len(tables)}] Finished updating {row[\"table_name\"]}')\n",
    "        except Exception as e:\n",
    "            print(\n",
    "                f'[{index + 1}/{len(tables)}] ERROR - could not update {row[\"table_name\"]}'\n",
    "            )\n",
    "            print(e)\n",
    "\n",
    "    db.cleanup()"
   ]
  },
  {
   "cell_type": "code",
   "execution_count": null,
   "metadata": {},
   "outputs": [],
   "source": [
    "if __name__ == \"__main__\":\n",
    "    main()"
   ]
  }
 ],
 "metadata": {
  "kernelspec": {
   "display_name": "env",
   "language": "python",
   "name": "python3"
  },
  "language_info": {
   "codemirror_mode": {
    "name": "ipython",
    "version": 3
   },
   "file_extension": ".py",
   "mimetype": "text/x-python",
   "name": "python",
   "nbconvert_exporter": "python",
   "pygments_lexer": "ipython3",
   "version": "3.8.0"
  },
  "orig_nbformat": 4
 },
 "nbformat": 4,
 "nbformat_minor": 2
}
