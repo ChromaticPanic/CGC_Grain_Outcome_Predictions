{
 "cells": [
  {
   "attachments": {},
   "cell_type": "markdown",
   "metadata": {},
   "source": [
    "Since we originally started with district 4841 some of our code is labeled with this label. District 4841 and 4840 should really be merged together to form all of district 4840.\n",
    "The purpose of this script is to repurpose any 4841 label to 4840"
   ]
  },
  {
   "cell_type": "code",
   "execution_count": null,
   "metadata": {},
   "outputs": [],
   "source": [
    "# agg_ergot_sample - car_uid\n",
    "# soil_moisture - car_uid\n",
    "# agg_soil_moisture - district\n",
    "# census_ag_regions - car_uid also need to change name for the one to \"Census Agricultural Region 4\" also need to merge geometry - union\n",
    "# agg_day_copernicus_satellite_data - car_uid\n",
    "# labeled_soil - car_uid\n",
    "# stations_dly - district\n",
    "# stations_hly - district"
   ]
  }
 ],
 "metadata": {
  "language_info": {
   "name": "python"
  },
  "orig_nbformat": 4
 },
 "nbformat": 4,
 "nbformat_minor": 2
}
