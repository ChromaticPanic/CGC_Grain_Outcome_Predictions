{
 "cells": [
  {
   "attachments": {},
   "cell_type": "markdown",
   "id": "cf8e8455-a89d-418f-8ffe-4c93fadbcef0",
   "metadata": {},
   "source": [
    "# importBoundariesAndStations.ipynb\n",
    "The following script can be used to import the agriculture regions and their associated weather stations into the database\n",
    "\n",
    "##### Required files:\n",
    "- [REGIONS_FILE](https://www150.statcan.gc.ca/n1/fr/pub/92-174-x/2007000/carboundary/gcar000b07a_e.zip?st=uOKRCq3u)\n",
    "- [STATIONS_FILE](https://dd.weather.gc.ca/climate/observations/climate_station_list.csv)\n",
    "\n",
    "##### Output:\n",
    "- [census_ag_regions](https://github.com/ChromaticPanic/CGC_Grain_Outcome_Predictions#census_ag_regions)\n",
    "- [stations_dly](https://github.com/ChromaticPanic/CGC_Grain_Outcome_Predictions#stations_dly)\n",
    "- [stations_hly](https://github.com/ChromaticPanic/CGC_Grain_Outcome_Predictions#stations_hly)"
   ]
  },
  {
   "cell_type": "code",
   "execution_count": null,
   "id": "fb7c6eba-2357-4ab1-8ecb-1870367fa315",
   "metadata": {
    "cellView": "form",
    "id": "9n9_cTveKmse"
   },
   "outputs": [],
   "source": [
    "from matplotlib import pyplot as plt  # type: ignore\n",
    "from dotenv import load_dotenv\n",
    "import geopandas as gpd  # type: ignore\n",
    "import pandas as pd\n",
    "import os, sys\n",
    "\n",
    "sys.path.append(\"../\")\n",
    "from Shared.DataService import DataService"
   ]
  },
  {
   "cell_type": "code",
   "execution_count": null,
   "id": "f60d3f06",
   "metadata": {},
   "outputs": [],
   "source": [
    "REGIONS_FILE = (\n",
    "    \"data/2006CensusAgRegions/gcar000b07a_e.shp\"  # The name of the regions file\n",
    ")\n",
    "STATIONS_FILE = \"data/climate_station_list.csv\"  # The name of the stations file\n",
    "\n",
    "REGIONS_TABLE = \"census_ag_regions\"  # The name of the agriculture regions table\n",
    "DLY_STATIONS_TABLE = \"stations_dly\"  # The name of the daily stations table\n",
    "HLY_STATIONS_TABLE = \"stations_hly\"  # The name of the hourly stations table\n",
    "\n",
    "# Adjust the granularity of reporting\n",
    "pd.options.display.max_rows = 100\n",
    "pd.options.display.float_format = \"{:.1f}\".format\n",
    "pd.set_option(\"display.max_columns\", None)\n",
    "\n",
    "\n",
    "# Load the database connection environment variables located in the docker folder\n",
    "load_dotenv(\"../docker/.env\")\n",
    "PG_USER = os.getenv(\"POSTGRES_USER\")\n",
    "PG_PW = os.getenv(\"POSTGRES_PW\")\n",
    "PG_DB = os.getenv(\"POSTGRES_DB\")\n",
    "PG_ADDR = os.getenv(\"POSTGRES_ADDR\")\n",
    "PG_PORT = os.getenv(\"POSTGRES_PORT\")"
   ]
  },
  {
   "cell_type": "markdown",
   "id": "69676944",
   "metadata": {},
   "source": [
    "Purpose:  \n",
    "Loads the regions and stations from their respective files directly into [DataFrames](https://pandas.pydata.org/docs/reference/api/pandas.read_csv.html)/[GeoDataFrames](https://geopandas.org/en/stable/docs/reference/api/geopandas.read_file.html)"
   ]
  },
  {
   "cell_type": "code",
   "execution_count": null,
   "id": "234bc8fe",
   "metadata": {},
   "outputs": [],
   "source": [
    "regions = gpd.read_file(REGIONS_FILE, encoding=\"utf-8\")\n",
    "stations = pd.read_csv(STATIONS_FILE)"
   ]
  },
  {
   "cell_type": "markdown",
   "id": "5f5a6664",
   "metadata": {},
   "source": [
    "Purpose:  \n",
    "Recreates the GeoDataFrame creating geometry from the provided longitude/latitude\n",
    "\n",
    "Pseudocode:  \n",
    "- Recreate the GeoDataFrames using the provided [longitude/latitude as the geometry points](https://geopandas.org/en/stable/docs/reference/api/geopandas.points_from_xy.html)\n",
    "- Drop daily stations without data after 1995 (based on the attribute DLY Last Year)\n",
    "- Drop hourly stations without data after 1995 (based on the attribute HLY Last Year)"
   ]
  },
  {
   "cell_type": "code",
   "execution_count": null,
   "id": "38863e75",
   "metadata": {},
   "outputs": [],
   "source": [
    "stationsDly = gpd.GeoDataFrame(\n",
    "    stations, geometry=gpd.points_from_xy(stations.Longitude, stations.Latitude)\n",
    ")\n",
    "\n",
    "stationsHly = gpd.GeoDataFrame(\n",
    "    stations, geometry=gpd.points_from_xy(stations.Longitude, stations.Latitude)\n",
    ")\n",
    "\n",
    "stationsDly = stationsDly.loc[stations[\"DLY Last Year\"] > 1995]\n",
    "stationsHly = stationsHly.loc[stations[\"HLY Last Year\"] > 1995]"
   ]
  },
  {
   "cell_type": "markdown",
   "id": "ef92fc34",
   "metadata": {},
   "source": [
    "Purpose:  \n",
    "Puts all sets of geometries (regions and stations) onto the same coordinate system\n",
    "\n",
    "Psuedocode:  \n",
    "- [Set the region and corrdinate system](https://geopandas.org/en/stable/docs/reference/api/geopandas.GeoDataFrame.set_crs.html) as EPSG:4326 (default from data sources)\n",
    "- [Change their coordinate system](https://geopandas.org/en/stable/docs/reference/api/geopandas.GeoDataFrame.to_crs.html) to EPSG:3347 (desired coordinate system)\n",
    "\n",
    "Remarks: EPSG:4326 is the coordinate system we often use day to day (i.e GPS)"
   ]
  },
  {
   "cell_type": "code",
   "execution_count": null,
   "id": "b3786f87",
   "metadata": {},
   "outputs": [],
   "source": [
    "regions = regions.set_crs(\"EPSG:4326\", allow_override=True)\n",
    "stationsDly = stationsDly.set_crs(\"EPSG:4326\", allow_override=True)\n",
    "stationsHly = stationsHly.set_crs(\"EPSG:4326\", allow_override=True)\n",
    "\n",
    "regions = regions.to_crs(crs=\"EPSG:3347\")\n",
    "stationsDly = stationsDly.to_crs(crs=\"EPSG:3347\")\n",
    "stationsHly = stationsHly.to_crs(crs=\"EPSG:3347\")"
   ]
  },
  {
   "cell_type": "markdown",
   "id": "a87b2eba",
   "metadata": {},
   "source": [
    "Purpose:  \n",
    "Creates a region plot for the agriculture regions and the hourly weather stations\n",
    "\n",
    "Psuedocode:  \n",
    "- [Generate the minimum and maximum bounds of the geography](https://geopandas.org/en/stable/docs/reference/api/geopandas.GeoSeries.total_bounds.html)\n",
    "- [Create a subplot](https://matplotlib.org/stable/api/_as_gen/matplotlib.pyplot.subplots.html)\n",
    "- [Assign the vertical view limit](https://matplotlib.org/stable/api/_as_gen/matplotlib.axes.Axes.set_ylim.html)\n",
    "- [Assign the hoirzontal view limit](https://matplotlib.org/stable/api/_as_gen/matplotlib.axes.Axes.set_xlim.html)\n",
    "- [Assign a title](https://matplotlib.org/stable/api/_as_gen/matplotlib.axes.Axes.set_title.html)\n",
    "- [Plot the geometry/districts](https://geopandas.org/en/stable/docs/reference/api/geopandas.GeoDataFrame.plot.html#geopandas.GeoDataFrame.plot)\n",
    "- [Plot the weather stations](https://geopandas.org/en/stable/docs/reference/api/geopandas.GeoDataFrame.plot.html#geopandas.GeoDataFrame.plot)"
   ]
  },
  {
   "cell_type": "code",
   "execution_count": null,
   "id": "2a5e2efa",
   "metadata": {},
   "outputs": [],
   "source": [
    "minx, miny, maxx, maxy = regions.total_bounds\n",
    "fig, ax = plt.subplots(figsize=(20, 20))\n",
    "ax.set_ylim(miny, maxy)\n",
    "ax.set_xlim(minx, maxx)\n",
    "ax.set_title(\"All Hourly Stations\")\n",
    "regions.plot(ax=ax, cmap=\"Pastel1\", edgecolor=\"black\")\n",
    "stationsHly.plot(ax=ax, color=\"red\", markersize=0.4)\n",
    "plt.show()"
   ]
  },
  {
   "cell_type": "markdown",
   "id": "d8773d50",
   "metadata": {},
   "source": [
    "Purpose:  \n",
    "Creates a region plot for the agriculture regions and the daily weather stations\n",
    "\n",
    "Psuedocode:  \n",
    "- [Generate the minimum and maximum bounds of the geography](https://geopandas.org/en/stable/docs/reference/api/geopandas.GeoSeries.total_bounds.html)\n",
    "- [Create a subplot](https://matplotlib.org/stable/api/_as_gen/matplotlib.pyplot.subplots.html)\n",
    "- [Assign the vertical view limit](https://matplotlib.org/stable/api/_as_gen/matplotlib.axes.Axes.set_ylim.html)\n",
    "- [Assign the hoirzontal view limit](https://matplotlib.org/stable/api/_as_gen/matplotlib.axes.Axes.set_xlim.html)\n",
    "- [Assign a title](https://matplotlib.org/stable/api/_as_gen/matplotlib.axes.Axes.set_title.html)\n",
    "- [Plot the geometry/districts](https://geopandas.org/en/stable/docs/reference/api/geopandas.GeoDataFrame.plot.html#geopandas.GeoDataFrame.plot)\n",
    "- [Plot the weather stations](https://geopandas.org/en/stable/docs/reference/api/geopandas.GeoDataFrame.plot.html#geopandas.GeoDataFrame.plot)"
   ]
  },
  {
   "cell_type": "code",
   "execution_count": null,
   "id": "5efd1437",
   "metadata": {},
   "outputs": [],
   "source": [
    "minx, miny, maxx, maxy = regions.total_bounds\n",
    "fig, ax = plt.subplots(figsize=(20, 20))\n",
    "ax.set_ylim(miny, maxy)\n",
    "ax.set_xlim(minx, maxx)\n",
    "ax.set_title(\"All Daily Stations\")\n",
    "regions.plot(ax=ax, cmap=\"Pastel1\", edgecolor=\"black\")\n",
    "stationsDly.plot(ax=ax, color=\"red\", markersize=0.4)"
   ]
  },
  {
   "cell_type": "markdown",
   "id": "67987626",
   "metadata": {},
   "source": [
    "Purpose:  \n",
    "Create a seperate GeoDataFrame to contain only the areas of interest\n",
    "\n",
    "Pseudocode:  \n",
    "- Create a deep copy of the original regions\n",
    "- [Cast PRuid into an integer](https://pandas.pydata.org/docs/reference/api/pandas.DataFrame.astype.html)\n",
    "- [Drop rows that have a PRuid other than 46, 47, 48](https://pandas.pydata.org/docs/reference/api/pandas.DataFrame.loc.html)"
   ]
  },
  {
   "cell_type": "code",
   "execution_count": null,
   "id": "729e8851",
   "metadata": {},
   "outputs": [],
   "source": [
    "prunedRegions = regions.copy(deep=True)\n",
    "prunedRegions[\"PRuid\"] = prunedRegions[\"PRuid\"].astype(int)\n",
    "prunedRegions = prunedRegions.loc[prunedRegions[\"PRuid\"].isin([46, 47, 48])]"
   ]
  },
  {
   "cell_type": "markdown",
   "id": "b748ebdb",
   "metadata": {},
   "source": [
    "Purpose:  \n",
    "Creates a region plot for the pruned agriculture regions (only shows Alberta, Manitoba and Saskatchewan)\n",
    "\n",
    "Psuedocode:  \n",
    "- [Generate the minimum and maximum bounds of the geography](https://geopandas.org/en/stable/docs/reference/api/geopandas.GeoSeries.total_bounds.html)\n",
    "- [Create a subplot](https://matplotlib.org/stable/api/_as_gen/matplotlib.pyplot.subplots.html)\n",
    "- [Assign the vertical view limit](https://matplotlib.org/stable/api/_as_gen/matplotlib.axes.Axes.set_ylim.html)\n",
    "- [Assign the hoirzontal view limit](https://matplotlib.org/stable/api/_as_gen/matplotlib.axes.Axes.set_xlim.html)\n",
    "- [Assign a title](https://matplotlib.org/stable/api/_as_gen/matplotlib.axes.Axes.set_title.html)\n",
    "- [Plot the geometry/districts](https://geopandas.org/en/stable/docs/reference/api/geopandas.GeoDataFrame.plot.html#geopandas.GeoDataFrame.plot)\n",
    "- [Plot the weather stations](https://geopandas.org/en/stable/docs/reference/api/geopandas.GeoDataFrame.plot.html#geopandas.GeoDataFrame.plot)"
   ]
  },
  {
   "cell_type": "code",
   "execution_count": null,
   "id": "c2c9394a",
   "metadata": {},
   "outputs": [],
   "source": [
    "minx, miny, maxx, maxy = prunedRegions.total_bounds\n",
    "fig, ax = plt.subplots(figsize=(20, 20))\n",
    "ax.set_ylim(miny, maxy)\n",
    "ax.set_xlim(minx, maxx)\n",
    "ax.set_title(\"All Hourly Stations in our Area of Interest\")\n",
    "prunedRegions.plot(ax=ax, cmap=\"Pastel1\", edgecolor=\"black\")\n",
    "stationsHly.plot(ax=ax, color=\"red\", markersize=1)"
   ]
  },
  {
   "cell_type": "markdown",
   "id": "549702cc",
   "metadata": {},
   "source": [
    "Purpose:  \n",
    "Creates a region plot for the pruned agriculture regions (only shows Alberta, Manitoba and Saskatchewan)\n",
    "\n",
    "Psuedocode:  \n",
    "- [Generate the minimum and maximum bounds of the geography](https://geopandas.org/en/stable/docs/reference/api/geopandas.GeoSeries.total_bounds.html)\n",
    "- [Create a subplot](https://matplotlib.org/stable/api/_as_gen/matplotlib.pyplot.subplots.html)\n",
    "- [Assign the vertical view limit](https://matplotlib.org/stable/api/_as_gen/matplotlib.axes.Axes.set_ylim.html)\n",
    "- [Assign the hoirzontal view limit](https://matplotlib.org/stable/api/_as_gen/matplotlib.axes.Axes.set_xlim.html)\n",
    "- [Assign a title](https://matplotlib.org/stable/api/_as_gen/matplotlib.axes.Axes.set_title.html)\n",
    "- [Plot the geometry/districts](https://geopandas.org/en/stable/docs/reference/api/geopandas.GeoDataFrame.plot.html#geopandas.GeoDataFrame.plot)\n",
    "- [Plot the weather stations](https://geopandas.org/en/stable/docs/reference/api/geopandas.GeoDataFrame.plot.html#geopandas.GeoDataFrame.plot)"
   ]
  },
  {
   "cell_type": "code",
   "execution_count": null,
   "id": "be08fc4e",
   "metadata": {},
   "outputs": [],
   "source": [
    "minx, miny, maxx, maxy = prunedRegions.total_bounds\n",
    "fig, ax = plt.subplots(figsize=(20, 20))\n",
    "ax.set_ylim(miny, maxy)\n",
    "ax.set_xlim(minx, maxx)\n",
    "ax.set_title(\"All Daily Stations in our Area of Interest\")\n",
    "prunedRegions.plot(ax=ax, cmap=\"Pastel1\", edgecolor=\"black\")\n",
    "stationsDly.plot(ax=ax, color=\"red\", markersize=1)"
   ]
  },
  {
   "cell_type": "markdown",
   "id": "2ca0b89a",
   "metadata": {},
   "source": [
    "Purpose:  \n",
    "Preprocessing before colors are associated with the agriculture regions\n",
    "\n",
    "Pseudocode:  \n",
    "- Define a list of colors to be used\n",
    "- Assign the default color as grey (#808080)\n",
    "- Assign the defaykt related districts group (0)\n",
    "- [Cast CARuid into an integer](https://pandas.pydata.org/docs/reference/api/pandas.DataFrame.astype.html)"
   ]
  },
  {
   "cell_type": "code",
   "execution_count": null,
   "id": "d42c1e9e",
   "metadata": {},
   "outputs": [],
   "source": [
    "colors = [\n",
    "    \"#d3d3d3\",  # light grey\n",
    "    \"#556b2f\",  # dark green\n",
    "    \"#008080\",  # teal\n",
    "    \"#6495ed\",  # light blue\n",
    "    \"#00ff7f\",  # bright green\n",
    "    \"#db7093\",  # pink\n",
    "    \"#f0e68c\",  # yellow\n",
    "    \"#ffa07a\",  # salmon\n",
    "    \"#ee82ee\",  # violet\n",
    "    \"#1e90ff\",  # intense blue\n",
    "    \"#eee8aa\",  # pale\n",
    "]\n",
    "\n",
    "# create a new column to store a color for the region, default is gray\n",
    "prunedRegions[\"color\"] = \"#808080\"\n",
    "\n",
    "prunedRegions[\"CRnum\"] = 0  # create a new column that groups related districts\n",
    "prunedRegions[\"CARuid\"] = prunedRegions[\"CARuid\"].astype(int)"
   ]
  },
  {
   "cell_type": "markdown",
   "id": "f63ad8db",
   "metadata": {},
   "source": [
    "Purpose:  \n",
    "Assigns each of the districts in Manitoba a district group and color\n",
    "\n",
    "Pseudocode:  \n",
    "- [Assign districts 4612, 4601, 4602, 4603, 4608 a CRnum of 3](https://pandas.pydata.org/docs/reference/api/pandas.DataFrame.loc.html)\n",
    "- [Assign districts 4604, 4605, 4606 a CRnum of 2](https://pandas.pydata.org/docs/reference/api/pandas.DataFrame.loc.html)\n",
    "- [Assign districts 4607, 4609, 4610, 4611 a CRnum of 1](https://pandas.pydata.org/docs/reference/api/pandas.DataFrame.loc.html)\n",
    "- [Assign CRnum 3 to light grey](https://pandas.pydata.org/docs/reference/api/pandas.DataFrame.loc.html)\n",
    "- [Assign CRnum 2 to dark green](https://pandas.pydata.org/docs/reference/api/pandas.DataFrame.loc.html)\n",
    "- [Assign CRnum 1 to teal](https://pandas.pydata.org/docs/reference/api/pandas.DataFrame.loc.html)"
   ]
  },
  {
   "cell_type": "code",
   "execution_count": null,
   "id": "47c53076",
   "metadata": {},
   "outputs": [],
   "source": [
    "prunedRegions.loc[\n",
    "    prunedRegions[\"CARuid\"].isin([4612, 4601, 4602, 4603, 4608]), \"CRnum\"\n",
    "] = 3\n",
    "\n",
    "prunedRegions.loc[prunedRegions[\"CARuid\"].isin([4604, 4605, 4606]), \"CRnum\"] = 2\n",
    "prunedRegions.loc[prunedRegions[\"CARuid\"].isin([4607, 4609, 4610, 4611]), \"CRnum\"] = 1\n",
    "\n",
    "prunedRegions.loc[prunedRegions[\"CRnum\"] == 3, \"color\"] = colors[0]\n",
    "prunedRegions.loc[prunedRegions[\"CRnum\"] == 2, \"color\"] = colors[1]\n",
    "prunedRegions.loc[prunedRegions[\"CRnum\"] == 1, \"color\"] = colors[2]"
   ]
  },
  {
   "cell_type": "markdown",
   "id": "e8d471c7",
   "metadata": {},
   "source": [
    "Purpose:  \n",
    "Assigns each of the districts in Alberta a district group and color\n",
    "\n",
    "Pseudocode:  \n",
    "- [Assign districts 4810, 4820, 4830 a CRnum of 8](https://pandas.pydata.org/docs/reference/api/pandas.DataFrame.loc.html)\n",
    "- [Assign districts 4840, 4841, 4850 a CRnum of 9](https://pandas.pydata.org/docs/reference/api/pandas.DataFrame.loc.html)\n",
    "- [Assign districts 4860, 4870 a CRnum of 10](https://pandas.pydata.org/docs/reference/api/pandas.DataFrame.loc.html)\n",
    "- [Assign CRnum 8 to light blue](https://pandas.pydata.org/docs/reference/api/pandas.DataFrame.loc.html)\n",
    "- [Assign CRnum 9 to bright green](https://pandas.pydata.org/docs/reference/api/pandas.DataFrame.loc.html)\n",
    "- [Assign CRnum 10 to intense blue](https://pandas.pydata.org/docs/reference/api/pandas.DataFrame.loc.html)"
   ]
  },
  {
   "cell_type": "code",
   "execution_count": null,
   "id": "b137aa31",
   "metadata": {},
   "outputs": [],
   "source": [
    "prunedRegions.loc[prunedRegions[\"CARuid\"].isin([4810, 4820, 4830]), \"CRnum\"] = 8\n",
    "prunedRegions.loc[prunedRegions[\"CARuid\"].isin([4840, 4841, 4850]), \"CRnum\"] = 9\n",
    "prunedRegions.loc[prunedRegions[\"CARuid\"].isin([4860, 4870]), \"CRnum\"] = 10\n",
    "\n",
    "prunedRegions.loc[prunedRegions[\"CRnum\"] == 8, \"color\"] = colors[3]\n",
    "prunedRegions.loc[prunedRegions[\"CRnum\"] == 9, \"color\"] = colors[4]\n",
    "prunedRegions.loc[prunedRegions[\"CRnum\"] == 10, \"color\"] = colors[10]"
   ]
  },
  {
   "cell_type": "markdown",
   "id": "e093a7e4",
   "metadata": {},
   "source": [
    "Purpose:  \n",
    "Assigns each of the districts in Saskatchewan a district group and color\n",
    "\n",
    "Pseudocode:  \n",
    "- [Assign districts 4710, 4711, 4720, 4721, 4731 a CRnum of 4](https://pandas.pydata.org/docs/reference/api/pandas.DataFrame.loc.html)\n",
    "- [Assign districts 4730, 4732, 4733, 4740, 4741 a CRnum of 5](https://pandas.pydata.org/docs/reference/api/pandas.DataFrame.loc.html)\n",
    "- [Assign districts 4750, 4751, 4760, 4780, 4781 a CRnum of 6](https://pandas.pydata.org/docs/reference/api/pandas.DataFrame.loc.html)\n",
    "- [Assign districts 4761, 4770, 4771, 4790, 4791 a CRnum of 7](https://pandas.pydata.org/docs/reference/api/pandas.DataFrame.loc.html)\n",
    "- [Assign CRnum 4 to pink](https://pandas.pydata.org/docs/reference/api/pandas.DataFrame.loc.html)\n",
    "- [Assign CRnum 5 to salmon](https://pandas.pydata.org/docs/reference/api/pandas.DataFrame.loc.html)\n",
    "- [Assign CRnum 6 to yellow](https://pandas.pydata.org/docs/reference/api/pandas.DataFrame.loc.html)\n",
    "- [Assign CRnum 7 to violet](https://pandas.pydata.org/docs/reference/api/pandas.DataFrame.loc.html)"
   ]
  },
  {
   "cell_type": "code",
   "execution_count": null,
   "id": "c3052395",
   "metadata": {},
   "outputs": [],
   "source": [
    "prunedRegions.loc[\n",
    "    prunedRegions[\"CARuid\"].isin([4710, 4711, 4720, 4721, 4731]), \"CRnum\"\n",
    "] = 4\n",
    "prunedRegions.loc[\n",
    "    prunedRegions[\"CARuid\"].isin([4730, 4732, 4733, 4740, 4741]), \"CRnum\"\n",
    "] = 5\n",
    "prunedRegions.loc[\n",
    "    prunedRegions[\"CARuid\"].isin([4750, 4751, 4760, 4780, 4781]), \"CRnum\"\n",
    "] = 6\n",
    "prunedRegions.loc[\n",
    "    prunedRegions[\"CARuid\"].isin([4761, 4770, 4771, 4790, 4791]), \"CRnum\"\n",
    "] = 7\n",
    "\n",
    "prunedRegions.loc[prunedRegions[\"CRnum\"] == 4, \"color\"] = colors[5]\n",
    "prunedRegions.loc[prunedRegions[\"CRnum\"] == 5, \"color\"] = colors[7]\n",
    "prunedRegions.loc[prunedRegions[\"CRnum\"] == 6, \"color\"] = colors[6]\n",
    "prunedRegions.loc[prunedRegions[\"CRnum\"] == 7, \"color\"] = colors[8]"
   ]
  },
  {
   "cell_type": "markdown",
   "id": "c3b5d9f6",
   "metadata": {},
   "source": [
    "Purpose:  \n",
    "Creates a region plot for the pruned agriculture regions (only shows Alberta, Manitoba and Saskatchewan) colored by their groupings\n",
    "\n",
    "Psuedocode:  \n",
    "- [Generate the minimum and maximum bounds of the geography](https://geopandas.org/en/stable/docs/reference/api/geopandas.GeoSeries.total_bounds.html)\n",
    "- [Create a subplot](https://matplotlib.org/stable/api/_as_gen/matplotlib.pyplot.subplots.html)\n",
    "- [Assign the vertical view limit](https://matplotlib.org/stable/api/_as_gen/matplotlib.axes.Axes.set_ylim.html)\n",
    "- [Assign the hoirzontal view limit](https://matplotlib.org/stable/api/_as_gen/matplotlib.axes.Axes.set_xlim.html)\n",
    "- [Assign a title](https://matplotlib.org/stable/api/_as_gen/matplotlib.axes.Axes.set_title.html)\n",
    "- [Plot the geometry/districts](https://geopandas.org/en/stable/docs/reference/api/geopandas.GeoDataFrame.plot.html#geopandas.GeoDataFrame.plot)"
   ]
  },
  {
   "cell_type": "code",
   "execution_count": null,
   "id": "61691589",
   "metadata": {},
   "outputs": [],
   "source": [
    "minx, miny, maxx, maxy = prunedRegions.total_bounds\n",
    "fig, ax = plt.subplots(figsize=(20, 20))\n",
    "ax.set_ylim(miny, maxy)\n",
    "ax.set_xlim(minx, maxx)\n",
    "ax.set_title(\"The Area of Interest colored by their groupings\")\n",
    "prunedRegions.plot(ax=ax, color=prunedRegions[\"color\"], edgecolor=\"black\")"
   ]
  },
  {
   "cell_type": "markdown",
   "id": "31edaa02",
   "metadata": {},
   "source": [
    "Purpose:  \n",
    "Joins the station and region data together (stations that fall outside the area of interest are removed)\n",
    "\n",
    "Psuedocode:  \n",
    "- [Join](https://geopandas.org/en/stable/docs/reference/api/geopandas.sjoin.html) the stations and the prunedRegions together\n",
    "    - how=inner specifies that all stations that do not fall within one of the pruned regions are removed\n",
    "    - predicate=within specifies that all stations should fall within a pruned region\n",
    "- [Drop irrelevant columns](https://pandas.pydata.org/docs/reference/api/pandas.DataFrame.drop.html)"
   ]
  },
  {
   "cell_type": "code",
   "execution_count": null,
   "id": "00a89a33",
   "metadata": {},
   "outputs": [],
   "source": [
    "prunedStationsDly = stationsDly.sjoin(prunedRegions, how=\"inner\", predicate=\"within\")\n",
    "prunedStationsHly = stationsHly.sjoin(prunedRegions, how=\"inner\", predicate=\"within\")\n",
    "\n",
    "prunedStationsHly.drop(\n",
    "    columns=[\"index_right\", \"CARname\", \"PRuid\", \"AGuid\", \"color\"], inplace=True\n",
    ")\n",
    "\n",
    "prunedStationsDly.drop(\n",
    "    columns=[\"index_right\", \"CARname\", \"PRuid\", \"AGuid\", \"color\"], inplace=True\n",
    ")"
   ]
  },
  {
   "cell_type": "markdown",
   "id": "12597915",
   "metadata": {},
   "source": [
    "Purpose:  \n",
    "Add a scraped attribute to the stations\n",
    "\n",
    "Remark: This attribute was never used"
   ]
  },
  {
   "cell_type": "code",
   "execution_count": null,
   "id": "b794221e",
   "metadata": {},
   "outputs": [],
   "source": [
    "prunedStationsDly[\"scraped\"] = False\n",
    "prunedStationsHly[\"scraped\"] = False"
   ]
  },
  {
   "cell_type": "markdown",
   "id": "d3d40a83",
   "metadata": {},
   "source": [
    "Purpose:  \n",
    "For each station, assign the provinces abbreviation rather then the full name\n",
    "\n",
    "Pseudocode:  \n",
    "- [Assign province](https://pandas.pydata.org/docs/reference/api/pandas.DataFrame.loc.html) for stations within Alberta as AB\n",
    "- [Assign province](https://pandas.pydata.org/docs/reference/api/pandas.DataFrame.loc.html) for stations within Manitoba as MB\n",
    "- [Assign province](https://pandas.pydata.org/docs/reference/api/pandas.DataFrame.loc.html) for stations within Saskatchewan as SK"
   ]
  },
  {
   "cell_type": "code",
   "execution_count": null,
   "id": "290ee9c3",
   "metadata": {},
   "outputs": [],
   "source": [
    "prunedStationsDly.loc[prunedStationsDly[\"Province\"] == \"ALBERTA\", \"province\"] = \"AB\"\n",
    "prunedStationsHly.loc[prunedStationsHly[\"Province\"] == \"ALBERTA\", \"province\"] = \"AB\"\n",
    "\n",
    "prunedStationsDly.loc[prunedStationsDly[\"Province\"] == \"MANITOBA\", \"province\"] = \"MB\"\n",
    "prunedStationsHly.loc[prunedStationsHly[\"Province\"] == \"MANITOBA\", \"province\"] = \"MB\"\n",
    "\n",
    "prunedStationsDly.loc[\n",
    "    prunedStationsDly[\"Province\"] == \"SASKATCHEWAN\", \"province\"\n",
    "] = \"SK\"\n",
    "prunedStationsHly.loc[\n",
    "    prunedStationsHly[\"Province\"] == \"SASKATCHEWAN\", \"province\"\n",
    "] = \"SK\""
   ]
  },
  {
   "cell_type": "markdown",
   "id": "eaafa48b",
   "metadata": {},
   "source": [
    "Purpose:  \n",
    "[Renames the columns](https://pandas.pydata.org/docs/reference/api/pandas.DataFrame.rename.html) for prunedRegions, prunedStationsDly and prunedStationsHly"
   ]
  },
  {
   "cell_type": "code",
   "execution_count": null,
   "id": "16528402",
   "metadata": {},
   "outputs": [],
   "source": [
    "prunedRegions.rename(columns={\"CARuid\": \"district\"}, inplace=True)\n",
    "prunedRegions.rename(columns={\"CARname\": \"car_name\"}, inplace=True)\n",
    "prunedRegions.rename(columns={\"PRuid\": \"pr_uid\"}, inplace=True)\n",
    "prunedRegions.rename(columns={\"AGuid\": \"ag_uid\"}, inplace=True)\n",
    "prunedRegions.rename(columns={\"CRnum\": \"cr_num\"}, inplace=True)\n",
    "\n",
    "# daily stations\n",
    "prunedStationsDly.rename(columns={\"Station Name\": \"station_name\"}, inplace=True)\n",
    "prunedStationsDly.rename(columns={\"CARuid\": \"district\"}, inplace=True)\n",
    "prunedStationsDly.rename(columns={\"Province\": \"province\"}, inplace=True)\n",
    "prunedStationsDly.rename(columns={\"Latitude\": \"latitude\"}, inplace=True)\n",
    "prunedStationsDly.rename(columns={\"Longitude\": \"longitude\"}, inplace=True)\n",
    "prunedStationsDly.rename(columns={\"Elevation\": \"elevation\"}, inplace=True)\n",
    "prunedStationsDly.rename(columns={\"Climate ID\": \"station_id\"}, inplace=True)\n",
    "prunedStationsDly.rename(columns={\"WMO Identifier\": \"wmo_identifier\"}, inplace=True)\n",
    "prunedStationsDly.rename(columns={\"TC Identifier\": \"tc_identifier\"}, inplace=True)\n",
    "prunedStationsDly.rename(columns={\"First Year\": \"first_year\"}, inplace=True)\n",
    "prunedStationsDly.rename(columns={\"Last Year\": \"last_year\"}, inplace=True)\n",
    "prunedStationsDly.rename(columns={\"HLY First Year\": \"hly_first_year\"}, inplace=True)\n",
    "prunedStationsDly.rename(columns={\"HLY Last Year\": \"hly_last_year\"}, inplace=True)\n",
    "prunedStationsDly.rename(columns={\"DLY First Year\": \"dly_first_year\"}, inplace=True)\n",
    "prunedStationsDly.rename(columns={\"DLY Last Year\": \"dly_last_year\"}, inplace=True)\n",
    "prunedStationsDly.rename(columns={\"MLY First Year\": \"mly_first_year\"}, inplace=True)\n",
    "prunedStationsDly.rename(columns={\"MLY Last Year\": \"mly_last_year\"}, inplace=True)\n",
    "prunedStationsDly.rename(columns={\"CRnum\": \"cr_num\"}, inplace=True)\n",
    "\n",
    "# hourly stations\n",
    "prunedStationsHly.rename(columns={\"Station Name\": \"station_name\"}, inplace=True)\n",
    "prunedStationsHly.rename(columns={\"CARuid\": \"district\"}, inplace=True)\n",
    "prunedStationsHly.rename(columns={\"Province\": \"province\"}, inplace=True)\n",
    "prunedStationsHly.rename(columns={\"Latitude\": \"latitude\"}, inplace=True)\n",
    "prunedStationsHly.rename(columns={\"Longitude\": \"longitude\"}, inplace=True)\n",
    "prunedStationsHly.rename(columns={\"Elevation\": \"elevation\"}, inplace=True)\n",
    "prunedStationsHly.rename(columns={\"Climate ID\": \"station_id\"}, inplace=True)\n",
    "prunedStationsHly.rename(columns={\"WMO Identifier\": \"wmo_identifier\"}, inplace=True)\n",
    "prunedStationsHly.rename(columns={\"TC Identifier\": \"tc_identifier\"}, inplace=True)\n",
    "prunedStationsHly.rename(columns={\"First Year\": \"first_year\"}, inplace=True)\n",
    "prunedStationsHly.rename(columns={\"Last Year\": \"last_year\"}, inplace=True)\n",
    "prunedStationsHly.rename(columns={\"HLY First Year\": \"hly_first_year\"}, inplace=True)\n",
    "prunedStationsHly.rename(columns={\"HLY Last Year\": \"hly_last_year\"}, inplace=True)\n",
    "prunedStationsHly.rename(columns={\"DLY First Year\": \"dly_first_year\"}, inplace=True)\n",
    "prunedStationsHly.rename(columns={\"DLY Last Year\": \"dly_last_year\"}, inplace=True)\n",
    "prunedStationsHly.rename(columns={\"MLY First Year\": \"mly_first_year\"}, inplace=True)\n",
    "prunedStationsHly.rename(columns={\"MLY Last Year\": \"mly_last_year\"}, inplace=True)\n",
    "prunedStationsHly.rename(columns={\"CRnum\": \"cr_num\"}, inplace=True)"
   ]
  },
  {
   "cell_type": "markdown",
   "id": "822f12b3",
   "metadata": {},
   "source": [
    "Purpose:  \n",
    "Combines districts 4840 and 4841 into a single district (4840)\n",
    "\n",
    "Pseudocode:  \n",
    "- [Fetch regions 4840 and 4841](https://pandas.pydata.org/docs/reference/api/pandas.DataFrame.loc.html)\n",
    "- [Merge their regions into a single geometry](https://geopandas.org/en/stable/docs/reference/api/geopandas.GeoSeries.unary_union.html)\n",
    "- [Update the name of region 4840 to reflect the entirety of the district](https://pandas.pydata.org/docs/reference/api/pandas.DataFrame.loc.html)\n",
    "- [Update the stations with district number 4841](https://pandas.pydata.org/docs/reference/api/pandas.DataFrame.loc.html)\n",
    "- [Delete district 4841 from regions](https://pandas.pydata.org/docs/reference/api/pandas.DataFrame.drop.html) (its been absorbed into 4840)\n",
    "\n",
    "Remarks: if the data was loaded before this change was added, there is a script to easily modify the database found [here]()"
   ]
  },
  {
   "cell_type": "code",
   "execution_count": null,
   "id": "a911830b",
   "metadata": {},
   "outputs": [],
   "source": [
    "# get both rows corresponding to district 4840 and 4841 respectively\n",
    "districts4841And4840 = prunedRegions.loc[\n",
    "    (prunedRegions[\"district\"] == 4840) | (prunedRegions[\"district\"] == 4841)\n",
    "]\n",
    "\n",
    "# merge their geometries into the row with district 4840\n",
    "prunedRegions.loc[\n",
    "    prunedRegions[\"district\"] == 4840, \"geometry\"\n",
    "] = districts4841And4840.unary_union\n",
    "\n",
    "# update the name to reflect the entirety of the district\n",
    "prunedRegions.loc[\n",
    "    prunedRegions[\"district\"] == 4840, \"car_name\"\n",
    "] = \"Census Agricultural Region 4\"\n",
    "\n",
    "# updates the stations with district number 4841\n",
    "prunedStationsDly.loc[prunedStationsDly[\"district\"] == 4841, \"district\"] = 4840\n",
    "prunedStationsHly.loc[prunedStationsDly[\"district\"] == 4841, \"district\"] = 4840\n",
    "\n",
    "# delete district 4841 which is now apart of 4840\n",
    "prunedRegions.drop(\n",
    "    prunedRegions.loc[prunedRegions[\"district\"] == 4841].index, inplace=True\n",
    ")"
   ]
  },
  {
   "cell_type": "markdown",
   "id": "ccf1c821",
   "metadata": {},
   "source": [
    "Purpose:  \n",
    "Loads the regions and stations into the database\n",
    "\n",
    "Tables:  \n",
    "- [census_ag_regions](https://github.com/ChromaticPanic/CGC_Grain_Outcome_Predictions#census_ag_regions)\n",
    "- [stations_dly](https://github.com/ChromaticPanic/CGC_Grain_Outcome_Predictions#stations_dly)\n",
    "- [stations_hly](https://github.com/ChromaticPanic/CGC_Grain_Outcome_Predictions#stations_hly)\n",
    "\n",
    "Pseudocode:  \n",
    "- Connect to the database\n",
    "- [Load the regions into the database](https://geopandas.org/en/stable/docs/reference/api/geopandas.GeoDataFrame.to_postgis.html)\n",
    "- [Load the daily stations into the database](https://geopandas.org/en/stable/docs/reference/api/geopandas.GeoDataFrame.to_postgis.html)\n",
    "- [Load the hourly stations into the database](https://geopandas.org/en/stable/docs/reference/api/geopandas.GeoDataFrame.to_postgis.html)\n",
    "- Disconnect from the database"
   ]
  },
  {
   "cell_type": "code",
   "execution_count": null,
   "id": "8f7f068d",
   "metadata": {},
   "outputs": [],
   "source": [
    "if (\n",
    "    PG_DB is None\n",
    "    or PG_ADDR is None\n",
    "    or PG_PORT is None\n",
    "    or PG_USER is None\n",
    "    or PG_PW is None\n",
    "):\n",
    "    raise ValueError(\"Environment variables not set\")\n",
    "\n",
    "db = DataService(PG_DB, PG_ADDR, int(PG_PORT), PG_USER, PG_PW)\n",
    "conn = db.connect()\n",
    "\n",
    "prunedRegions.to_postgis(REGIONS_TABLE, conn, index=False, if_exists=\"replace\")\n",
    "prunedStationsDly.to_postgis(DLY_STATIONS_TABLE, conn, index=False, if_exists=\"replace\")\n",
    "prunedStationsHly.to_postgis(HLY_STATIONS_TABLE, conn, index=False, if_exists=\"replace\")\n",
    "\n",
    "db.cleanup()"
   ]
  }
 ],
 "metadata": {
  "kernelspec": {
   "display_name": "Python 3",
   "language": "python",
   "name": "python3"
  },
  "language_info": {
   "codemirror_mode": {
    "name": "ipython",
    "version": 3
   },
   "file_extension": ".py",
   "mimetype": "text/x-python",
   "name": "python",
   "nbconvert_exporter": "python",
   "pygments_lexer": "ipython3",
   "version": "3.8.0"
  },
  "vscode": {
   "interpreter": {
    "hash": "e7370f93d1d0cde622a1f8e1c04877d8463912d04d973331ad4851f04de6915a"
   }
  }
 },
 "nbformat": 4,
 "nbformat_minor": 5
}
