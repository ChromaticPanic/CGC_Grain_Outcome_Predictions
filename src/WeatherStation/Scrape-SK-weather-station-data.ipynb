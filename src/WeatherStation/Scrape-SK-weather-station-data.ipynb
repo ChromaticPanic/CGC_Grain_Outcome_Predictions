{
 "cells": [
  {
   "cell_type": "code",
   "execution_count": null,
   "metadata": {},
   "outputs": [],
   "source": [
    "import pandas as pd\n",
    "import sqlalchemy as sq\n",
    "import geopandas as gpd\n",
    "from matplotlib import pyplot as plt\n",
    "from IPython.display import clear_output\n",
    "from dotenv import load_dotenv\n",
    "from DataService import DataService\n",
    "from utils import *\n"
   ]
  },
  {
   "cell_type": "code",
   "execution_count": 6,
   "metadata": {},
   "outputs": [],
   "source": [
    "# The following lines adjust the granularity of reporting.\n",
    "pd.options.display.max_rows = 100\n",
    "pd.options.display.float_format = \"{:.1f}\".format\n",
    "pd.set_option('display.max_columns', None)"
   ]
  },
  {
   "cell_type": "code",
   "execution_count": 11,
   "metadata": {},
   "outputs": [],
   "source": [
    "tableName = \"public.\\\"StationsDly\\\"\"\n",
    "query = \"SELECT * FROM \" + tableName + \";\"\n",
    "\n",
    "\n",
    "dataService = DataService(PGDB, PGUSER, PGPW)\n",
    "db_con = dataService.connect()\n",
    "dfStations = gpd.GeoDataFrame.from_postgis(query, db_con, geom_col='geometry')"
   ]
  },
  {
   "cell_type": "code",
   "execution_count": 12,
   "metadata": {},
   "outputs": [
    {
     "data": {
      "text/plain": [
       "Station Name      91\n",
       "Province          91\n",
       "Latitude          91\n",
       "Longitude         91\n",
       "Elevation         91\n",
       "Climate ID        91\n",
       "WMO Identifier    71\n",
       "TC Identifier     81\n",
       "First Year        91\n",
       "Last Year         91\n",
       "HLY First Year    91\n",
       "HLY Last Year     91\n",
       "DLY First Year    91\n",
       "DLY Last Year     91\n",
       "MLY First Year    63\n",
       "MLY Last Year     63\n",
       "geometry          91\n",
       "CRnum             91\n",
       "scraped           91\n",
       "dtype: int64"
      ]
     },
     "execution_count": 12,
     "metadata": {},
     "output_type": "execute_result"
    }
   ],
   "source": [
    "# get list of SASKATCHEWAN stations\n",
    "skStations = dfStations.loc[dfStations['Province'] == 'SASKATCHEWAN']\n",
    "\n",
    "# remove stations with NaN DLY First Year\n",
    "skStations = skStations.loc[skStations['DLY First Year'].notnull()]\n",
    "\n",
    "# reindex \n",
    "skStations.reset_index(drop=True, inplace=True)\n",
    "\n",
    "skStations.count()"
   ]
  },
  {
   "cell_type": "code",
   "execution_count": 9,
   "metadata": {},
   "outputs": [
    {
     "name": "stdout",
     "output_type": "stream",
     "text": [
      "   Longitude (x)  Latitude (y) Station Name  Climate ID   Date/Time  Year   \n",
      "0         -102.5          51.3    YORKTON A     4019080  2005-10-01  2005  \\\n",
      "1         -102.5          51.3    YORKTON A     4019080  2005-10-02  2005   \n",
      "2         -102.5          51.3    YORKTON A     4019080  2005-10-03  2005   \n",
      "3         -102.5          51.3    YORKTON A     4019080  2005-10-04  2005   \n",
      "4         -102.5          51.3    YORKTON A     4019080  2005-10-05  2005   \n",
      "\n",
      "   Month  Day  Data Quality  Max Temp (°C) Max Temp Flag  Min Temp (°C)   \n",
      "0     10    1           NaN           14.7           NaN            6.2  \\\n",
      "1     10    2           NaN            9.8           NaN            0.6   \n",
      "2     10    3           NaN            4.2           NaN           -3.4   \n",
      "3     10    4           NaN            7.5           NaN           -5.6   \n",
      "4     10    5           NaN            NaN             M            NaN   \n",
      "\n",
      "  Min Temp Flag  Mean Temp (°C) Mean Temp Flag  Heat Deg Days (°C)   \n",
      "0           NaN            10.5            NaN                 7.5  \\\n",
      "1           NaN             5.2            NaN                12.8   \n",
      "2           NaN             0.4            NaN                17.6   \n",
      "3           NaN             1.0            NaN                17.0   \n",
      "4             Y             NaN              M                 NaN   \n",
      "\n",
      "  Heat Deg Days Flag  Cool Deg Days (°C) Cool Deg Days Flag  Total Rain (mm)   \n",
      "0                NaN                 0.0                NaN              0.0  \\\n",
      "1                NaN                 0.0                NaN              1.0   \n",
      "2                NaN                 0.0                NaN              1.0   \n",
      "3                NaN                 0.0                NaN              0.0   \n",
      "4                  M                 NaN                  M              NaN   \n",
      "\n",
      "  Total Rain Flag  Total Snow (cm) Total Snow Flag  Total Precip (mm)   \n",
      "0             NaN              0.0             NaN                0.0  \\\n",
      "1             NaN              0.0             NaN                1.0   \n",
      "2             NaN              0.0             NaN                1.0   \n",
      "3             NaN              0.0             NaN                0.0   \n",
      "4               M              0.0             NaN                NaN   \n",
      "\n",
      "  Total Precip Flag  Snow on Grnd (cm) Snow on Grnd Flag   \n",
      "0               NaN                0.0               NaN  \\\n",
      "1               NaN                0.0               NaN   \n",
      "2               NaN                0.0               NaN   \n",
      "3               NaN                0.0               NaN   \n",
      "4                 M                0.0               NaN   \n",
      "\n",
      "   Dir of Max Gust (10s deg) Dir of Max Gust Flag Spd of Max Gust (km/h)   \n",
      "0                        NaN                  NaN                    NaN  \\\n",
      "1                        NaN                  NaN                    NaN   \n",
      "2                        NaN                  NaN                    NaN   \n",
      "3                        NaN                  NaN                    NaN   \n",
      "4                        NaN                  NaN                    NaN   \n",
      "\n",
      "  Spd of Max Gust Flag  \n",
      "0                  NaN  \n",
      "1                  NaN  \n",
      "2                  NaN  \n",
      "3                  NaN  \n",
      "4                  NaN  \n",
      "Processed row 91 of 91\n"
     ]
    }
   ],
   "source": [
    "requester = cdr()\n",
    "df = pd.DataFrame()\n",
    "\n",
    "for index, row in skStations.iterrows():\n",
    "                \n",
    "    stationID = str(row['Climate ID'])\n",
    "    errQuery = sq.text(\"UPDATE public.\\\"StationsDly\\\" SET \\\"scraped\\\" = False WHERE \\\"Climate ID\\\" like CAST(\\'{}\\' AS TEXT);\".format(stationID))\n",
    "    if row['scraped'] == False or row['scraped'] == None:\n",
    "        try:\n",
    "            startYr = 1995\n",
    "            endYr = 2022\n",
    "            if row['DLY First Year'] != np.NAN or row['DLY Last Year'] != np.NAN or row['DLY Last Year'] > 1995:\n",
    "                if row['DLY First Year'] > 1995:\n",
    "                    startYr = row['DLY First Year']\n",
    "                if row['DLY Last Year'] > 1995:\n",
    "                    endYr = row['DLY Last Year']\n",
    "                df = requester.get_data(\"SK\", stationID, startYr, endYr)\n",
    "                clear_output(wait=False)\n",
    "\n",
    "                print(df.head())\n",
    "                \n",
    "                if not df.empty:\n",
    "                    dataProcessA(df, stationID)\n",
    "                else:\n",
    "                    db_con.execute(errQuery)\n",
    "        except Exception as e:\n",
    "            print(\"Failed to scrape \" + stationID)\n",
    "            print(e)\n",
    "            db_con.execute(errQuery)\n",
    "    else:\n",
    "        print(\"Data for station \" + str(stationID) + \" already exists.\")\n",
    "\n",
    "    print(\"Processed row \" + str(index + 1) + \" of \" + str(len(skStations)))"
   ]
  },
  {
   "cell_type": "code",
   "execution_count": 10,
   "metadata": {},
   "outputs": [],
   "source": [
    "tableName = \"public.\\\"WeatherData\\\"\"\n",
    "query = \"SELECT * FROM \" + tableName + \";\"\n"
   ]
  },
  {
   "cell_type": "code",
   "execution_count": null,
   "metadata": {},
   "outputs": [],
   "source": [
    "dataService.cleanup()"
   ]
  }
 ],
 "metadata": {
  "kernelspec": {
   "display_name": "Python 3 (ipykernel)",
   "language": "python",
   "name": "python3"
  },
  "language_info": {
   "codemirror_mode": {
    "name": "ipython",
    "version": 3
   },
   "file_extension": ".py",
   "mimetype": "text/x-python",
   "name": "python",
   "nbconvert_exporter": "python",
   "pygments_lexer": "ipython3",
   "version": "3.8.10"
  },
  "orig_nbformat": 4,
  "vscode": {
   "interpreter": {
    "hash": "5b3ded1ccb95c1d9bd405e7b823d9e85424cde40fbb5985eb47e999ef50e15b4"
   }
  }
 },
 "nbformat": 4,
 "nbformat_minor": 2
}
