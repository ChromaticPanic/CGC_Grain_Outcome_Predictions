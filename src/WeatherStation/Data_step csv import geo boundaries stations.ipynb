{
 "cells": [
  {
   "attachments": {},
   "cell_type": "markdown",
   "id": "cf8e8455-a89d-418f-8ffe-4c93fadbcef0",
   "metadata": {},
   "source": [
    "#Group3_Data_Operations"
   ]
  },
  {
   "cell_type": "code",
   "execution_count": null,
   "id": "a7188383",
   "metadata": {},
   "outputs": [],
   "source": [
    "# %pip install jupyter-black"
   ]
  },
  {
   "cell_type": "code",
   "execution_count": null,
   "id": "fb7c6eba-2357-4ab1-8ecb-1870367fa315",
   "metadata": {
    "cellView": "form",
    "id": "9n9_cTveKmse"
   },
   "outputs": [],
   "source": [
    "# @title Import relevant modules\n",
    "import os\n",
    "import sys\n",
    "import pandas as pd\n",
    "import geopandas as gpd\n",
    "import sqlalchemy as sq\n",
    "import black\n",
    "import jupyter_black as bl\n",
    "from matplotlib import pyplot as plt\n",
    "from dotenv import load_dotenv"
   ]
  },
  {
   "cell_type": "code",
   "execution_count": null,
   "id": "0343b664",
   "metadata": {},
   "outputs": [],
   "source": [
    "# The following lines adjust the granularity of reporting.\n",
    "pd.options.display.max_rows = 100\n",
    "pd.options.display.float_format = \"{:.1f}\".format\n",
    "pd.set_option(\"display.max_columns\", None)"
   ]
  },
  {
   "cell_type": "code",
   "execution_count": null,
   "id": "f60d3f06",
   "metadata": {},
   "outputs": [],
   "source": [
    "os.chdir(\"../../src\")\n",
    "bl.load()\n",
    "load_dotenv(\"docker/.env\")\n",
    "PG_USER = os.getenv(\"POSTGRES_USER\")\n",
    "PG_PW = os.getenv(\"POSTGRES_PW\")\n",
    "PG_DB = os.getenv(\"POSTGRES_DB\")\n",
    "PG_ADDR = os.getenv(\"POSTGRES_ADDR\")\n",
    "PG_PORT = os.getenv(\"POSTGRES_PORT\")\n",
    "\n",
    "if PG_PORT is None:\n",
    "    sys.exit(\"Error: Could not find the port for the database.\")"
   ]
  },
  {
   "cell_type": "code",
   "execution_count": null,
   "id": "234bc8fe",
   "metadata": {},
   "outputs": [],
   "source": [
    "regions = \"WeatherStation/data/2006CensusAgRegions/gcar000b07a_e.shp\"\n",
    "gdfRegions = gpd.read_file(regions, encoding=\"utf-8\")"
   ]
  },
  {
   "cell_type": "code",
   "execution_count": null,
   "id": "2e61d25e",
   "metadata": {},
   "outputs": [],
   "source": [
    "stations = \"WeatherStation/data/climate_station_list.csv\"\n",
    "dfStations = pd.read_csv(stations)"
   ]
  },
  {
   "cell_type": "code",
   "execution_count": null,
   "id": "38863e75",
   "metadata": {},
   "outputs": [],
   "source": [
    "gdfStationsHly = gpd.GeoDataFrame(\n",
    "    dfStations, geometry=gpd.points_from_xy(dfStations.Longitude, dfStations.Latitude)\n",
    ")\n",
    "gdfStationsHly = gdfStationsHly.loc[dfStations[\"HLY Last Year\"] > 1995]"
   ]
  },
  {
   "cell_type": "code",
   "execution_count": null,
   "id": "d64449ea",
   "metadata": {},
   "outputs": [],
   "source": [
    "gdfStationsDly = gpd.GeoDataFrame(\n",
    "    dfStations, geometry=gpd.points_from_xy(dfStations.Longitude, dfStations.Latitude)\n",
    ")\n",
    "gdfStationsDly = gdfStationsDly.loc[dfStations[\"HLY Last Year\"] > 1995]"
   ]
  },
  {
   "cell_type": "code",
   "execution_count": null,
   "id": "b3786f87",
   "metadata": {},
   "outputs": [],
   "source": [
    "gdfRegions = gdfRegions.to_crs(crs={\"init\": \"EPSG:3347\"})\n",
    "gdfStationsHly = gdfStationsHly.set_crs(\"EPSG:4326\", allow_override=True)\n",
    "gdfStationsHly = gdfStationsHly.to_crs(\"EPSG:3347\")\n",
    "gdfStationsDly = gdfStationsDly.set_crs(\"EPSG:4326\", allow_override=True)\n",
    "gdfStationsDly = gdfStationsDly.to_crs(\"EPSG:3347\")"
   ]
  },
  {
   "cell_type": "code",
   "execution_count": null,
   "id": "2a5e2efa",
   "metadata": {},
   "outputs": [],
   "source": [
    "minx, miny, maxx, maxy = gdfRegions.total_bounds\n",
    "# plot the both\n",
    "fig, ax = plt.subplots(figsize=(20, 20))\n",
    "ax.set_ylim(miny, maxy / 1.1)\n",
    "gdfRegions.plot(ax=ax, cmap=\"Pastel1\", edgecolor=\"black\")\n",
    "gdfStationsHly.plot(ax=ax, color=\"red\", markersize=0.4)\n",
    "plt.show()"
   ]
  },
  {
   "cell_type": "code",
   "execution_count": null,
   "id": "5efd1437",
   "metadata": {},
   "outputs": [],
   "source": [
    "minx, miny, maxx, maxy = gdfRegions.total_bounds\n",
    "# plot the both\n",
    "fig, ax = plt.subplots(figsize=(20, 20))\n",
    "ax.set_ylim(miny, maxy / 1.1)\n",
    "gdfRegions.plot(ax=ax, cmap=\"Pastel1\", edgecolor=\"black\")\n",
    "gdfStationsDly.plot(ax=ax, color=\"red\", markersize=0.4)\n",
    "plt.show()"
   ]
  },
  {
   "cell_type": "code",
   "execution_count": null,
   "id": "4480807d",
   "metadata": {},
   "outputs": [],
   "source": [
    "gdfRegions.head()"
   ]
  },
  {
   "cell_type": "code",
   "execution_count": null,
   "id": "729e8851",
   "metadata": {},
   "outputs": [],
   "source": [
    "# remove rows with nan\n",
    "gdfPruned = gdfRegions.copy(deep=True)\n",
    "# keep ab mb sk\n",
    "gdfPruned[\"PRuid\"] = gdfPruned[\"PRuid\"].astype(int)\n",
    "gdfPruned = gdfPruned.loc[gdfPruned[\"PRuid\"].isin([46, 47, 48])]"
   ]
  },
  {
   "cell_type": "code",
   "execution_count": null,
   "id": "753ff94d",
   "metadata": {},
   "outputs": [],
   "source": [
    "gdfPruned.set_crs(\"EPSG:4326\", allow_override=True)\n",
    "gdfProjected = gdfPruned.to_crs(\"EPSG:3347\")"
   ]
  },
  {
   "cell_type": "code",
   "execution_count": null,
   "id": "c2c9394a",
   "metadata": {},
   "outputs": [],
   "source": [
    "# plot stations vs projected regions\n",
    "fig, ax = plt.subplots(figsize=(20, 20))\n",
    "ax.set_ylim(miny * 2, maxy / 1.2)\n",
    "ax.set_xlim(minx * 1.15, maxx / 1.4)\n",
    "gdfProjected.plot(ax=ax, cmap=\"Pastel1\", edgecolor=\"black\")\n",
    "gdfStationsHly.plot(ax=ax, color=\"red\", markersize=1)"
   ]
  },
  {
   "cell_type": "code",
   "execution_count": null,
   "id": "be08fc4e",
   "metadata": {},
   "outputs": [],
   "source": [
    "# plot stations vs projected regions\n",
    "fig, ax = plt.subplots(figsize=(20, 20))\n",
    "ax.set_ylim(miny * 2, maxy / 1.2)\n",
    "ax.set_xlim(minx * 1.15, maxx / 1.4)\n",
    "gdfProjected.plot(ax=ax, cmap=\"Pastel1\", edgecolor=\"black\")\n",
    "gdfStationsDly.plot(ax=ax, color=\"red\", markersize=1)"
   ]
  },
  {
   "cell_type": "code",
   "execution_count": null,
   "id": "dc5d85ed",
   "metadata": {},
   "outputs": [],
   "source": [
    "gdfStationsDly.count()"
   ]
  },
  {
   "cell_type": "code",
   "execution_count": null,
   "id": "718b0a12",
   "metadata": {},
   "outputs": [],
   "source": [
    "# reindex\n",
    "gdfProjected.reset_index(inplace=True)"
   ]
  },
  {
   "cell_type": "code",
   "execution_count": null,
   "id": "c1ab0c9c",
   "metadata": {},
   "outputs": [],
   "source": [
    "gdfProjected"
   ]
  },
  {
   "cell_type": "code",
   "execution_count": null,
   "id": "d42c1e9e",
   "metadata": {},
   "outputs": [],
   "source": [
    "# gray in rgba\n",
    "gdfProjected[\"color\"] = \"#808080\""
   ]
  },
  {
   "cell_type": "code",
   "execution_count": null,
   "id": "6c500e04",
   "metadata": {},
   "outputs": [],
   "source": [
    "gdfProjected[\"CRnum\"] = 0"
   ]
  },
  {
   "cell_type": "code",
   "execution_count": null,
   "id": "4c7de4c9",
   "metadata": {},
   "outputs": [],
   "source": [
    "# list of 11 colors complimentary in rgba\n",
    "colors = [\n",
    "    \"#d3d3d3\",\n",
    "    \"#556b2f\",\n",
    "    \"#008080\",\n",
    "    \"#6495ed\",\n",
    "    \"#00ff7f\",\n",
    "    \"#db7093\",\n",
    "    \"#f0e68c\",\n",
    "    \"#ffa07a\",\n",
    "    \"#ee82ee\",\n",
    "    \"#1e90ff\",\n",
    "    \"#eee8aa\",\n",
    "]"
   ]
  },
  {
   "cell_type": "code",
   "execution_count": null,
   "id": "c2f8e707",
   "metadata": {},
   "outputs": [],
   "source": [
    "gdfProjected[\"CARuid\"] = gdfProjected[\"CARuid\"].astype(int)"
   ]
  },
  {
   "cell_type": "code",
   "execution_count": null,
   "id": "47c53076",
   "metadata": {},
   "outputs": [],
   "source": [
    "gdfProjected.loc[\n",
    "    gdfProjected[\"CARuid\"].isin([4612, 4601, 4602, 4603, 4608]), \"CRnum\"\n",
    "] = 3\n",
    "gdfProjected.loc[gdfProjected[\"CARuid\"].isin([4604, 4605, 4606]), \"CRnum\"] = 2\n",
    "gdfProjected.loc[gdfProjected[\"CARuid\"].isin([4607, 4609, 4610, 4611]), \"CRnum\"] = 1\n",
    "\n",
    "gdfProjected.loc[gdfProjected[\"CRnum\"] == 3, \"color\"] = colors[0]\n",
    "gdfProjected.loc[gdfProjected[\"CRnum\"] == 2, \"color\"] = colors[1]\n",
    "gdfProjected.loc[gdfProjected[\"CRnum\"] == 1, \"color\"] = colors[2]"
   ]
  },
  {
   "cell_type": "code",
   "execution_count": null,
   "id": "b137aa31",
   "metadata": {},
   "outputs": [],
   "source": [
    "gdfProjected.loc[gdfProjected[\"CARuid\"].isin([4810, 4820, 4830]), \"CRnum\"] = 8\n",
    "gdfProjected.loc[gdfProjected[\"CARuid\"].isin([4840, 4841, 4850]), \"CRnum\"] = 9\n",
    "gdfProjected.loc[gdfProjected[\"CARuid\"].isin([4860, 4870]), \"CRnum\"] = 10\n",
    "\n",
    "gdfProjected.loc[gdfProjected[\"CRnum\"] == 8, \"color\"] = colors[3]\n",
    "gdfProjected.loc[gdfProjected[\"CRnum\"] == 9, \"color\"] = colors[4]\n",
    "gdfProjected.loc[gdfProjected[\"CRnum\"] == 10, \"color\"] = colors[10]"
   ]
  },
  {
   "cell_type": "code",
   "execution_count": null,
   "id": "c3052395",
   "metadata": {},
   "outputs": [],
   "source": [
    "gdfProjected.loc[\n",
    "    gdfProjected[\"CARuid\"].isin([4710, 4711, 4720, 4721, 4731]), \"CRnum\"\n",
    "] = 4\n",
    "gdfProjected.loc[\n",
    "    gdfProjected[\"CARuid\"].isin([4730, 4732, 4733, 4740, 4741]), \"CRnum\"\n",
    "] = 5\n",
    "gdfProjected.loc[\n",
    "    gdfProjected[\"CARuid\"].isin([4750, 4751, 4760, 4780, 4781]), \"CRnum\"\n",
    "] = 6\n",
    "gdfProjected.loc[\n",
    "    gdfProjected[\"CARuid\"].isin([4761, 4770, 4771, 4790, 4791]), \"CRnum\"\n",
    "] = 7\n",
    "\n",
    "\n",
    "gdfProjected.loc[gdfProjected[\"CRnum\"] == 4, \"color\"] = colors[5]\n",
    "gdfProjected.loc[gdfProjected[\"CRnum\"] == 5, \"color\"] = colors[7]\n",
    "gdfProjected.loc[gdfProjected[\"CRnum\"] == 6, \"color\"] = colors[6]\n",
    "gdfProjected.loc[gdfProjected[\"CRnum\"] == 7, \"color\"] = colors[8]"
   ]
  },
  {
   "cell_type": "code",
   "execution_count": null,
   "id": "61691589",
   "metadata": {},
   "outputs": [],
   "source": [
    "# plot using color column\n",
    "fig, ax = plt.subplots(figsize=(20, 20))\n",
    "ax.set_ylim(miny * 2, maxy / 1.2)\n",
    "ax.set_xlim(minx * 1.15, maxx / 1.4)\n",
    "gdfProjected.plot(ax=ax, color=gdfProjected[\"color\"], edgecolor=\"black\")"
   ]
  },
  {
   "cell_type": "code",
   "execution_count": null,
   "id": "3c829c17",
   "metadata": {},
   "outputs": [],
   "source": [
    "# now the regions and stations are in the same projection\n",
    "# the regions dataframe has a column called 'color' that has the color for each region and the number of the CR\n",
    "# we will now add a column to the stations list for the CR number"
   ]
  },
  {
   "cell_type": "code",
   "execution_count": null,
   "id": "c7cd58fa",
   "metadata": {},
   "outputs": [],
   "source": [
    "# first we only keep ALBERTA MANITOBA SASKATCHEWAN in Province column from gdfStationsDly\n",
    "gdfStationsDly = gdfStationsDly[\n",
    "    gdfStationsDly[\"Province\"].isin([\"ALBERTA\", \"MANITOBA\", \"SASKATCHEWAN\"])\n",
    "]\n",
    "\n",
    "# then we add a column to gdfStationsDly called CRnum and set it to 0\n",
    "gdfStationsDly[\"CRnum\"] = 0\n",
    "\n",
    "# then we loop through the rows in gdfStationsDly and for each row we loop through the rows in gdfProjected\n",
    "# if the station is in the region we set the CRnum to the CRnum of the region\n",
    "for index, row in gdfStationsDly.iterrows():\n",
    "    for index2, row2 in gdfProjected.iterrows():\n",
    "        if row[\"geometry\"].within(row2[\"geometry\"]):\n",
    "            gdfStationsDly.loc[index, \"CRnum\"] = row2[\"CRnum\"]"
   ]
  },
  {
   "cell_type": "code",
   "execution_count": null,
   "id": "00a89a33",
   "metadata": {},
   "outputs": [],
   "source": [
    "# we do the same for gdfStationsHly\n",
    "gdfStationsHly = gdfStationsHly[\n",
    "    gdfStationsHly[\"Province\"].isin([\"ALBERTA\", \"MANITOBA\", \"SASKATCHEWAN\"])\n",
    "]\n",
    "gdfStationsHly[\"CRnum\"] = 0\n",
    "\n",
    "for index, row in gdfStationsHly.iterrows():\n",
    "    for index2, row2 in gdfProjected.iterrows():\n",
    "        if row[\"geometry\"].within(row2[\"geometry\"]):\n",
    "            gdfStationsHly.loc[index, \"CRnum\"] = row2[\"CRnum\"]"
   ]
  },
  {
   "cell_type": "code",
   "execution_count": null,
   "id": "e961108a",
   "metadata": {},
   "outputs": [],
   "source": [
    "gdfStationsDly.head()"
   ]
  },
  {
   "cell_type": "code",
   "execution_count": null,
   "id": "cd086a99",
   "metadata": {},
   "outputs": [],
   "source": [
    "# print unique CR numbers\n",
    "gdfProjected[\"CRnum\"].unique()"
   ]
  },
  {
   "cell_type": "code",
   "execution_count": null,
   "id": "3dcd38f4",
   "metadata": {},
   "outputs": [],
   "source": [
    "# print rows with CRnum = 0\n",
    "gdfProjected[gdfProjected[\"CRnum\"] == 0]"
   ]
  },
  {
   "cell_type": "code",
   "execution_count": null,
   "id": "290ee9c3",
   "metadata": {},
   "outputs": [],
   "source": [
    "# add column 'scraped' to gdfStationsDly and gdfStationsHly and set it to false\n",
    "gdfStationsDly[\"scraped\"] = False\n",
    "gdfStationsHly[\"scraped\"] = False"
   ]
  },
  {
   "cell_type": "code",
   "execution_count": null,
   "id": "e2360bbe",
   "metadata": {},
   "outputs": [],
   "source": [
    "# remove index column from gdfProjected\n",
    "gdfProjected = gdfProjected.drop(columns=[\"index\"])\n",
    "\n",
    "# reindex gdfProjected gdfStationsDly gdfStationsHly\n",
    "gdfProjected = gdfProjected.reset_index(drop=True)\n",
    "gdfStationsDly = gdfStationsDly.reset_index(drop=True)\n",
    "gdfStationsHly = gdfStationsHly.reset_index(drop=True)"
   ]
  },
  {
   "cell_type": "code",
   "execution_count": null,
   "id": "c685442b",
   "metadata": {},
   "outputs": [],
   "source": [
    "def pushGdfToPostGresDB(\n",
    "    tableName: str,\n",
    "    geodf: gpd.GeoDataFrame,\n",
    "    db: str,\n",
    "    addr: str,\n",
    "    port: int,\n",
    "    user: str,\n",
    "    pw: str,\n",
    ") -> None:\n",
    "    import geopandas as gpd\n",
    "\n",
    "    sys.path.append(\"../\")\n",
    "    from DataService import DataService\n",
    "\n",
    "    db_service = DataService(db, addr, port, user, pw)\n",
    "    db_con = db_service.connect()\n",
    "\n",
    "    geodf.to_postgis(tableName, db_con, index=False, if_exists=\"replace\")\n",
    "    db_service.cleanup()"
   ]
  },
  {
   "cell_type": "code",
   "execution_count": null,
   "id": "16528402",
   "metadata": {},
   "outputs": [],
   "source": [
    "gdfProjected.rename(columns={gdfProjected.columns[0]: \"car_uid\"}, inplace=True)\n",
    "gdfProjected.rename(columns={gdfProjected.columns[1]: \"car_name\"}, inplace=True)\n",
    "gdfProjected.rename(columns={gdfProjected.columns[2]: \"pr_uid\"}, inplace=True)\n",
    "gdfProjected.rename(columns={gdfProjected.columns[3]: \"ag_uid\"}, inplace=True)\n",
    "\n",
    "\n",
    "gdfStationsDly.rename(columns={gdfStationsDly.columns[0]: \"station_name\"}, inplace=True)\n",
    "gdfStationsDly.rename(columns={gdfStationsDly.columns[1]: \"province\"}, inplace=True)\n",
    "gdfStationsDly.rename(columns={gdfStationsDly.columns[2]: \"latitude\"}, inplace=True)\n",
    "gdfStationsDly.rename(columns={gdfStationsDly.columns[3]: \"longitude\"}, inplace=True)\n",
    "gdfStationsDly.rename(columns={gdfStationsDly.columns[4]: \"elevation\"}, inplace=True)\n",
    "gdfStationsDly.rename(columns={gdfStationsDly.columns[5]: \"station_id\"}, inplace=True)\n",
    "gdfStationsDly.rename(\n",
    "    columns={gdfStationsDly.columns[6]: \"wmo_identifier\"}, inplace=True\n",
    ")\n",
    "gdfStationsDly.rename(\n",
    "    columns={gdfStationsDly.columns[7]: \"tc_identifier\"}, inplace=True\n",
    ")\n",
    "gdfStationsDly.rename(columns={gdfStationsDly.columns[8]: \"first_year\"}, inplace=True)\n",
    "gdfStationsDly.rename(columns={gdfStationsDly.columns[9]: \"last_year\"}, inplace=True)\n",
    "gdfStationsDly.rename(\n",
    "    columns={gdfStationsDly.columns[10]: \"hly_first_year\"}, inplace=True\n",
    ")\n",
    "gdfStationsDly.rename(\n",
    "    columns={gdfStationsDly.columns[11]: \"hly_last_year\"}, inplace=True\n",
    ")\n",
    "gdfStationsDly.rename(\n",
    "    columns={gdfStationsDly.columns[12]: \"dly_first_year\"}, inplace=True\n",
    ")\n",
    "gdfStationsDly.rename(\n",
    "    columns={gdfStationsDly.columns[13]: \"dly_last_year\"}, inplace=True\n",
    ")\n",
    "gdfStationsDly.rename(\n",
    "    columns={gdfStationsDly.columns[14]: \"mly_first_year\"}, inplace=True\n",
    ")\n",
    "gdfStationsDly.rename(\n",
    "    columns={gdfStationsDly.columns[15]: \"mly_last_year\"}, inplace=True\n",
    ")\n",
    "gdfStationsDly.rename(columns={gdfStationsDly.columns[16]: \"geometry\"}, inplace=True)\n",
    "gdfStationsDly.rename(columns={gdfStationsDly.columns[17]: \"cr_num\"}, inplace=True)\n",
    "\n",
    "gdfStationsDly.loc[gdfStationsDly[\"province\"] == \"ALBERTA\", \"province\"] = \"AB\"\n",
    "gdfStationsDly.loc[gdfStationsDly[\"province\"] == \"MANITOBA\", \"province\"] = \"MB\"\n",
    "gdfStationsDly.loc[gdfStationsDly[\"province\"] == \"SASKATCHEWAN\", \"province\"] = \"SK\"\n",
    "\n",
    "gdfStationsHly.rename(columns={gdfStationsHly.columns[0]: \"station_name\"}, inplace=True)\n",
    "gdfStationsHly.rename(columns={gdfStationsHly.columns[1]: \"province\"}, inplace=True)\n",
    "gdfStationsHly.rename(columns={gdfStationsHly.columns[2]: \"latitude\"}, inplace=True)\n",
    "gdfStationsHly.rename(columns={gdfStationsHly.columns[3]: \"longitude\"}, inplace=True)\n",
    "gdfStationsHly.rename(columns={gdfStationsHly.columns[4]: \"elevation\"}, inplace=True)\n",
    "gdfStationsHly.rename(columns={gdfStationsHly.columns[5]: \"station_id\"}, inplace=True)\n",
    "gdfStationsHly.rename(\n",
    "    columns={gdfStationsHly.columns[6]: \"wmo_identifier\"}, inplace=True\n",
    ")\n",
    "gdfStationsHly.rename(\n",
    "    columns={gdfStationsHly.columns[7]: \"tc_identifier\"}, inplace=True\n",
    ")\n",
    "gdfStationsHly.rename(columns={gdfStationsHly.columns[8]: \"first_year\"}, inplace=True)\n",
    "gdfStationsHly.rename(columns={gdfStationsHly.columns[9]: \"last_year\"}, inplace=True)\n",
    "gdfStationsHly.rename(\n",
    "    columns={gdfStationsHly.columns[10]: \"hly_first_year\"}, inplace=True\n",
    ")\n",
    "gdfStationsHly.rename(\n",
    "    columns={gdfStationsHly.columns[11]: \"hly_last_year\"}, inplace=True\n",
    ")\n",
    "gdfStationsHly.rename(\n",
    "    columns={gdfStationsHly.columns[12]: \"dly_first_year\"}, inplace=True\n",
    ")\n",
    "gdfStationsHly.rename(\n",
    "    columns={gdfStationsHly.columns[13]: \"dly_last_year\"}, inplace=True\n",
    ")\n",
    "gdfStationsHly.rename(\n",
    "    columns={gdfStationsHly.columns[14]: \"mly_first_year\"}, inplace=True\n",
    ")\n",
    "gdfStationsHly.rename(\n",
    "    columns={gdfStationsHly.columns[15]: \"mly_last_year\"}, inplace=True\n",
    ")\n",
    "gdfStationsHly.rename(columns={gdfStationsHly.columns[16]: \"geometry\"}, inplace=True)\n",
    "gdfStationsHly.rename(columns={gdfStationsHly.columns[17]: \"cr_num\"}, inplace=True)\n",
    "\n",
    "gdfStationsHly.loc[gdfStationsHly[\"province\"] == \"ALBERTA\", \"province\"] = \"AB\"\n",
    "gdfStationsHly.loc[gdfStationsHly[\"province\"] == \"MANITOBA\", \"province\"] = \"MB\"\n",
    "gdfStationsHly.loc[gdfStationsHly[\"province\"] == \"SASKATCHEWAN\", \"province\"] = \"SK\""
   ]
  },
  {
   "attachments": {},
   "cell_type": "markdown",
   "id": "7bef9588",
   "metadata": {},
   "source": [
    "# change next cell to code to push to DB"
   ]
  },
  {
   "cell_type": "code",
   "execution_count": null,
   "id": "8f7f068d",
   "metadata": {},
   "outputs": [],
   "source": [
    "### push dataframes to postgres\n",
    "\n",
    "tblName = \"census_ag_regions\"\n",
    "pushGdfToPostGresDB(tblName, gdfProjected, PG_DB, PG_ADDR, PG_PORT, PG_USER, PG_PW)\n",
    "\n",
    "tblName = \"stations_dly\"\n",
    "pushGdfToPostGresDB(tblName, gdfStationsDly, PG_DB, PG_ADDR, PG_PORT, PG_USER, PG_PW)\n",
    "\n",
    "tblName = \"stations_hly\"\n",
    "pushGdfToPostGresDB(tblName, gdfStationsHly, PG_DB, PG_ADDR, PG_PORT, PG_USER, PG_PW)"
   ]
  },
  {
   "cell_type": "code",
   "execution_count": null,
   "id": "95dfb213",
   "metadata": {},
   "outputs": [],
   "source": []
  }
 ],
 "metadata": {
  "kernelspec": {
   "display_name": "Python 3 (ipykernel)",
   "language": "python",
   "name": "python3"
  },
  "language_info": {
   "codemirror_mode": {
    "name": "ipython",
    "version": 3
   },
   "file_extension": ".py",
   "mimetype": "text/x-python",
   "name": "python",
   "nbconvert_exporter": "python",
   "pygments_lexer": "ipython3",
   "version": "3.8.10"
  },
  "vscode": {
   "interpreter": {
    "hash": "5b3ded1ccb95c1d9bd405e7b823d9e85424cde40fbb5985eb47e999ef50e15b4"
   }
  }
 },
 "nbformat": 4,
 "nbformat_minor": 5
}
