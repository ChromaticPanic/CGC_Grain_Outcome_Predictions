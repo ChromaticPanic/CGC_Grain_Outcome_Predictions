{
 "cells": [
  {
   "cell_type": "markdown",
   "id": "cf8e8455-a89d-418f-8ffe-4c93fadbcef0",
   "metadata": {},
   "source": [
    "#Group3_Data_Operations"
   ]
  },
  {
   "cell_type": "code",
   "execution_count": 1,
   "id": "a7188383",
   "metadata": {},
   "outputs": [],
   "source": [
    "# %pip install geoalchemy2"
   ]
  },
  {
   "cell_type": "code",
   "execution_count": null,
   "id": "fb7c6eba-2357-4ab1-8ecb-1870367fa315",
   "metadata": {
    "cellView": "form",
    "id": "9n9_cTveKmse"
   },
   "outputs": [],
   "source": [
    "#@title Import relevant modules\n",
    "import os\n",
    "import sys\n",
    "import pandas as pd\n",
    "import geopandas as gpd\n",
    "import sqlalchemy as sq\n",
    "import ipyparallel as ipp\n",
    "from dotenv import load_dotenv"
   ]
  },
  {
   "cell_type": "code",
   "execution_count": 3,
   "id": "0343b664",
   "metadata": {},
   "outputs": [],
   "source": [
    "# The following lines adjust the granularity of reporting.\n",
    "pd.options.display.max_rows = 10\n",
    "pd.options.display.float_format = \"{:.1f}\".format\n",
    "pd.set_option('display.max_columns', None)\n",
    "os.chdir('/data')\n",
    "load_dotenv('docker/.env')\n",
    "PGUSER = os.getenv('POSTGRES_USER')\n",
    "PGPW = os.getenv('POSTGRES_PW')\n",
    "PGDB = os.getenv('POSTGRES_DB')"
   ]
  },
  {
   "cell_type": "code",
   "execution_count": 4,
   "id": "d2caaf18-3142-42ae-b954-7cbece859f51",
   "metadata": {},
   "outputs": [],
   "source": [
    "\n",
    "def pushToPostGresDB(tableName: str, fi: str, db: str, user: str, pw: str) -> None:\n",
    "    import geopandas as gpd\n",
    "    from DataService import DataService\n",
    "    \n",
    "    db_service = DataService(db, user, pw)\n",
    "    db_con = db_service.connect()\n",
    "\n",
    "    geodf = gpd.read_file(fi, encoding=\"utf-8\")\n",
    "    geodf = geodf.set_crs(4617, allow_override=True)\n",
    "    \n",
    "    geodf.to_postgis(tableName, db_con, index=False, if_exists='replace')\n",
    "    return fi\n",
    "            \n",
    "            "
   ]
  },
  {
   "cell_type": "code",
   "execution_count": 5,
   "id": "73a8d6ed",
   "metadata": {},
   "outputs": [
    {
     "data": {
      "text/plain": [
       "'data/2021CensusAgRegions/lcar000b21a_e.dbf'"
      ]
     },
     "execution_count": 5,
     "metadata": {},
     "output_type": "execute_result"
    }
   ],
   "source": [
    "myFile = \"data/2021CensusAgRegions/lcar000b21a_e.dbf\"\n",
    "tableName = \"RawCensusAgRegions\"\n",
    "pushToPostGresDB(tableName, myFile, PGDB, PGUSER, PGPW)"
   ]
  }
 ],
 "metadata": {
  "kernelspec": {
   "display_name": "Python 3 (ipykernel)",
   "language": "python",
   "name": "python3"
  },
  "language_info": {
   "codemirror_mode": {
    "name": "ipython",
    "version": 3
   },
   "file_extension": ".py",
   "mimetype": "text/x-python",
   "name": "python",
   "nbconvert_exporter": "python",
   "pygments_lexer": "ipython3",
   "version": "3.8.10"
  },
  "vscode": {
   "interpreter": {
    "hash": "916dbcbb3f70747c44a77c7bcd40155683ae19c65e1c03b4aa3499c5328201f1"
   }
  }
 },
 "nbformat": 4,
 "nbformat_minor": 5
}
