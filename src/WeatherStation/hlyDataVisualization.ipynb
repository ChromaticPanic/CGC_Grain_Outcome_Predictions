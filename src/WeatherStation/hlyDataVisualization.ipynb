{
 "cells": [
  {
   "cell_type": "code",
   "execution_count": null,
   "metadata": {},
   "outputs": [],
   "source": [
    "import matplotlib.pyplot as plt  # type: ignore\n",
    "from dotenv import load_dotenv\n",
    "import sqlalchemy as sq  # type: ignore\n",
    "import seaborn as sns  # type: ignore\n",
    "import pandas as pd  # type: ignore\n",
    "import numpy as np\n",
    "import os, sys\n",
    "\n",
    "sys.path.append(\"../\")\n",
    "from Shared.DataService import DataService"
   ]
  },
  {
   "cell_type": "code",
   "execution_count": null,
   "metadata": {},
   "outputs": [],
   "source": [
    "load_dotenv()\n",
    "PG_DB = os.getenv(\"POSTGRES_DB\")\n",
    "PG_ADDR = os.getenv(\"POSTGRES_ADDR\")\n",
    "PG_PORT = os.getenv(\"POSTGRES_PORT\")\n",
    "PG_USER = os.getenv(\"POSTGRES_USER\")\n",
    "PG_PW = os.getenv(\"POSTGRES_PW\")"
   ]
  },
  {
   "cell_type": "code",
   "execution_count": null,
   "metadata": {},
   "outputs": [],
   "source": [
    "if (\n",
    "    PG_DB is None\n",
    "    or PG_ADDR is None\n",
    "    or PG_PORT is None\n",
    "    or PG_USER is None\n",
    "    or PG_PW is None\n",
    "):\n",
    "    raise ValueError(\"Environment variables not set\")\n",
    "\n",
    "db = DataService(PG_DB, PG_ADDR, int(PG_PORT), PG_USER, PG_PW)\n",
    "conn = db.connect()"
   ]
  },
  {
   "cell_type": "code",
   "execution_count": null,
   "metadata": {},
   "outputs": [],
   "source": [
    "mbQuery = sq.text(\"SELECT * FROM public.mb_hly_station_data\")\n",
    "mb_df = pd.read_sql(mbQuery, conn)\n",
    "\n",
    "skQuery = sq.text(\"SELECT * FROM public.sk_hly_station_data\")\n",
    "sk_df = pd.read_sql(skQuery, conn)\n",
    "\n",
    "abQuery = sq.text(\"SELECT * FROM public.ab_hly_station_data\")\n",
    "ab_df = pd.read_sql(abQuery, conn)\n",
    "\n",
    "hlyDF = pd.concat([mb_df, sk_df, ab_df])"
   ]
  },
  {
   "cell_type": "code",
   "execution_count": null,
   "metadata": {},
   "outputs": [],
   "source": [
    "stationDataQuery = sq.text(\n",
    "    \"\"\"\n",
    "    SELECT station_id, district FROM public.stations_hly\n",
    "    WHERE district IS NOT NULL;\n",
    "    \"\"\"\n",
    ")\n",
    "\n",
    "stationData = pd.read_sql(stationDataQuery, conn)\n",
    "stationData[[\"district\"]] = stationData[[\"district\"]].astype(int)"
   ]
  },
  {
   "cell_type": "code",
   "execution_count": null,
   "metadata": {},
   "outputs": [],
   "source": [
    "hlyDF = hlyDF.merge(stationData, on=\"station_id\")"
   ]
  },
  {
   "cell_type": "code",
   "execution_count": null,
   "metadata": {},
   "outputs": [],
   "source": [
    "ergotQuery = sq.text(\"SELECT * FROM public.agg_ergot_samples\")\n",
    "\n",
    "ergotDF = pd.read_sql_query(ergotQuery, conn)"
   ]
  },
  {
   "cell_type": "code",
   "execution_count": null,
   "metadata": {},
   "outputs": [],
   "source": [
    "db.cleanup()"
   ]
  },
  {
   "cell_type": "code",
   "execution_count": null,
   "metadata": {},
   "outputs": [],
   "source": [
    "final_df = hlyDF.merge(ergotDF, on=[\"year\", \"district\"])"
   ]
  },
  {
   "cell_type": "code",
   "execution_count": null,
   "metadata": {},
   "outputs": [],
   "source": [
    "final_df.columns"
   ]
  },
  {
   "cell_type": "code",
   "execution_count": null,
   "metadata": {},
   "outputs": [],
   "source": [
    "final_df.drop(columns=[\"id\", \"station_id\", \"year\", \"month\", \"day\"], inplace=True)"
   ]
  },
  {
   "cell_type": "code",
   "execution_count": null,
   "metadata": {},
   "outputs": [],
   "source": [
    "# Compute the correlation matrix\n",
    "corr = final_df.corr()"
   ]
  },
  {
   "cell_type": "code",
   "execution_count": null,
   "metadata": {},
   "outputs": [],
   "source": [
    "corr"
   ]
  },
  {
   "cell_type": "code",
   "execution_count": null,
   "metadata": {},
   "outputs": [],
   "source": [
    "sns.set_theme(style=\"white\")\n",
    "\n",
    "# Generate a mask for the upper triangle\n",
    "mask = np.triu(np.ones_like(corr, dtype=bool))\n",
    "\n",
    "# Set up the matplotlib figure\n",
    "f, ax = plt.subplots(figsize=(11, 9))\n",
    "\n",
    "# Generate a custom diverging colormap\n",
    "cmap = sns.diverging_palette(230, 20, as_cmap=True)\n",
    "\n",
    "# Draw the heatmap with the mask and correct aspect ratio\n",
    "sns.heatmap(\n",
    "    corr,\n",
    "    mask=mask,\n",
    "    cmap=cmap,\n",
    "    vmax=0.1,\n",
    "    vmin=-0.1,\n",
    "    center=0,\n",
    "    square=True,\n",
    "    linewidths=0.5,\n",
    "    cbar_kws={\"shrink\": 0.5},\n",
    ")"
   ]
  },
  {
   "cell_type": "code",
   "execution_count": null,
   "metadata": {},
   "outputs": [],
   "source": [
    "fig, (ax1, ax2, ax3) = plt.subplots(1, 3)\n",
    "fig.suptitle(\"Temperature (°C)\")\n",
    "\n",
    "\n",
    "ax1.hist(ab_df[\"min_temp\"], alpha=0.5, label=\"ab\")\n",
    "ax1.hist(mb_df[\"min_temp\"], alpha=0.5, label=\"mb\")\n",
    "ax1.hist(sk_df[\"min_temp\"], alpha=0.5, label=\"sk\")\n",
    "ax1.title.set_text(\"min\")\n",
    "ax1.legend(loc=\"upper left\")\n",
    "\n",
    "ax2.hist(ab_df[\"mean_temp\"], alpha=0.5, label=\"ab\")\n",
    "ax2.hist(mb_df[\"mean_temp\"], alpha=0.5, label=\"mb\")\n",
    "ax2.hist(sk_df[\"mean_temp\"], alpha=0.5, label=\"sk\")\n",
    "ax2.title.set_text(\"mean\")\n",
    "ax2.legend(loc=\"upper left\")\n",
    "\n",
    "ax3.hist(ab_df[\"max_temp\"], alpha=0.5, label=\"ab\")\n",
    "ax3.hist(mb_df[\"max_temp\"], alpha=0.5, label=\"mb\")\n",
    "ax3.hist(sk_df[\"max_temp\"], alpha=0.5, label=\"sk\")\n",
    "ax3.title.set_text(\"max\")\n",
    "ax3.legend(loc=\"upper left\")"
   ]
  },
  {
   "cell_type": "code",
   "execution_count": null,
   "metadata": {},
   "outputs": [],
   "source": [
    "fig, (ax1, ax2, ax3) = plt.subplots(1, 3)\n",
    "fig.suptitle(\"Dew Point Temperature (°C)\")\n",
    "\n",
    "\n",
    "ax1.hist(ab_df[\"min_dew_point_temp\"], alpha=0.5, label=\"ab\")\n",
    "ax1.hist(mb_df[\"min_dew_point_temp\"], alpha=0.5, label=\"mb\")\n",
    "ax1.hist(sk_df[\"min_dew_point_temp\"], alpha=0.5, label=\"sk\")\n",
    "ax1.title.set_text(\"min\")\n",
    "ax1.legend(loc=\"upper left\")\n",
    "\n",
    "ax2.hist(ab_df[\"mean_dew_point_temp\"], alpha=0.5, label=\"ab\")\n",
    "ax2.hist(mb_df[\"mean_dew_point_temp\"], alpha=0.5, label=\"mb\")\n",
    "ax2.hist(sk_df[\"mean_dew_point_temp\"], alpha=0.5, label=\"sk\")\n",
    "ax2.title.set_text(\"mean\")\n",
    "ax2.legend(loc=\"upper left\")\n",
    "\n",
    "ax3.hist(ab_df[\"max_dew_point_temp\"], alpha=0.5, label=\"ab\")\n",
    "ax3.hist(mb_df[\"max_dew_point_temp\"], alpha=0.5, label=\"mb\")\n",
    "ax3.hist(sk_df[\"max_dew_point_temp\"], alpha=0.5, label=\"sk\")\n",
    "ax3.title.set_text(\"max\")\n",
    "ax3.legend(loc=\"upper left\")"
   ]
  },
  {
   "cell_type": "code",
   "execution_count": null,
   "metadata": {},
   "outputs": [],
   "source": [
    "fig, (ax1, ax2, ax3) = plt.subplots(1, 3)\n",
    "fig.suptitle(\"Humidity Index (air temperature + humidity)\")\n",
    "\n",
    "\n",
    "ax1.hist(ab_df[\"min_humidex\"], alpha=0.5, label=\"ab\")\n",
    "ax1.hist(mb_df[\"min_humidex\"], alpha=0.5, label=\"mb\")\n",
    "ax1.hist(sk_df[\"min_humidex\"], alpha=0.5, label=\"sk\")\n",
    "ax1.title.set_text(\"min\")\n",
    "ax1.legend(loc=\"upper left\")\n",
    "\n",
    "ax2.hist(ab_df[\"mean_humidex\"], alpha=0.5, label=\"ab\")\n",
    "ax2.hist(mb_df[\"mean_humidex\"], alpha=0.5, label=\"mb\")\n",
    "ax2.hist(sk_df[\"mean_humidex\"], alpha=0.5, label=\"sk\")\n",
    "ax2.title.set_text(\"mean\")\n",
    "ax2.legend(loc=\"upper left\")\n",
    "\n",
    "ax3.hist(ab_df[\"max_humidex\"], alpha=0.5, label=\"ab\")\n",
    "ax3.hist(mb_df[\"max_humidex\"], alpha=0.5, label=\"mb\")\n",
    "ax3.hist(sk_df[\"max_humidex\"], alpha=0.5, label=\"sk\")\n",
    "ax3.title.set_text(\"max\")\n",
    "ax3.legend(loc=\"upper left\")"
   ]
  },
  {
   "cell_type": "code",
   "execution_count": null,
   "metadata": {},
   "outputs": [],
   "source": [
    "plt.hist(ab_df[\"total_precip\"], alpha=0.5, label=\"ab\")\n",
    "plt.hist(mb_df[\"total_precip\"], alpha=0.5, label=\"mb\")\n",
    "plt.hist(sk_df[\"total_precip\"], alpha=0.5, label=\"sk\")\n",
    "plt.legend(loc=\"upper right\")\n",
    "plt.title(\"Total Precipitation (mm)\")\n",
    "plt.xlim(0, 2500)\n",
    "plt.show()"
   ]
  },
  {
   "cell_type": "code",
   "execution_count": null,
   "metadata": {},
   "outputs": [],
   "source": [
    "fig, (ax1, ax2, ax3) = plt.subplots(1, 3)\n",
    "fig.suptitle(\"Humidity (%)\")\n",
    "\n",
    "\n",
    "ax1.hist(ab_df[\"min_rel_humid\"], alpha=0.5, label=\"ab\")\n",
    "ax1.hist(mb_df[\"min_rel_humid\"], alpha=0.5, label=\"mb\")\n",
    "ax1.hist(sk_df[\"min_rel_humid\"], alpha=0.5, label=\"sk\")\n",
    "ax1.title.set_text(\"min\")\n",
    "ax1.legend(loc=\"upper left\")\n",
    "\n",
    "ax2.hist(ab_df[\"mean_rel_humid\"], alpha=0.5, label=\"ab\")\n",
    "ax2.hist(mb_df[\"mean_rel_humid\"], alpha=0.5, label=\"mb\")\n",
    "ax2.hist(sk_df[\"mean_rel_humid\"], alpha=0.5, label=\"sk\")\n",
    "ax2.title.set_text(\"mean\")\n",
    "ax2.legend(loc=\"upper left\")\n",
    "\n",
    "ax3.hist(ab_df[\"max_rel_humid\"], alpha=0.5, label=\"ab\")\n",
    "ax3.hist(mb_df[\"max_rel_humid\"], alpha=0.5, label=\"mb\")\n",
    "ax3.hist(sk_df[\"max_rel_humid\"], alpha=0.5, label=\"sk\")\n",
    "ax3.title.set_text(\"max\")\n",
    "ax3.legend(loc=\"upper left\")"
   ]
  },
  {
   "cell_type": "code",
   "execution_count": null,
   "metadata": {},
   "outputs": [],
   "source": [
    "fig, (ax1, ax2, ax3) = plt.subplots(1, 3)\n",
    "fig.suptitle(\"Station Pressure (kPa)\")\n",
    "\n",
    "\n",
    "ax1.hist(ab_df[\"min_stn_press\"], alpha=0.5, label=\"ab\")\n",
    "ax1.hist(mb_df[\"min_stn_press\"], alpha=0.5, label=\"mb\")\n",
    "ax1.hist(sk_df[\"min_stn_press\"], alpha=0.5, label=\"sk\")\n",
    "ax1.title.set_text(\"min\")\n",
    "ax1.legend(loc=\"upper left\")\n",
    "\n",
    "ax2.hist(ab_df[\"mean_stn_press\"], alpha=0.5, label=\"ab\")\n",
    "ax2.hist(mb_df[\"mean_stn_press\"], alpha=0.5, label=\"mb\")\n",
    "ax2.hist(sk_df[\"mean_stn_press\"], alpha=0.5, label=\"sk\")\n",
    "ax2.title.set_text(\"mean\")\n",
    "ax2.legend(loc=\"upper left\")\n",
    "\n",
    "ax3.hist(ab_df[\"max_stn_press\"], alpha=0.5, label=\"ab\")\n",
    "ax3.hist(mb_df[\"max_stn_press\"], alpha=0.5, label=\"mb\")\n",
    "ax3.hist(sk_df[\"max_stn_press\"], alpha=0.5, label=\"sk\")\n",
    "ax3.title.set_text(\"max\")\n",
    "ax3.legend(loc=\"upper left\")"
   ]
  },
  {
   "cell_type": "code",
   "execution_count": null,
   "metadata": {},
   "outputs": [],
   "source": [
    "fig, (ax1, ax2, ax3) = plt.subplots(1, 3)\n",
    "fig.suptitle(\"Visibility (km)\")\n",
    "\n",
    "\n",
    "ax1.hist(ab_df[\"min_visibility\"], alpha=0.5, label=\"ab\")\n",
    "ax1.hist(mb_df[\"min_visibility\"], alpha=0.5, label=\"mb\")\n",
    "ax1.hist(sk_df[\"min_visibility\"], alpha=0.5, label=\"sk\")\n",
    "ax1.title.set_text(\"min\")\n",
    "ax1.legend(loc=\"upper left\")\n",
    "\n",
    "ax2.hist(ab_df[\"mean_visibility\"], alpha=0.5, label=\"ab\")\n",
    "ax2.hist(mb_df[\"mean_visibility\"], alpha=0.5, label=\"mb\")\n",
    "ax2.hist(sk_df[\"mean_visibility\"], alpha=0.5, label=\"sk\")\n",
    "ax2.title.set_text(\"mean\")\n",
    "ax2.legend(loc=\"upper left\")\n",
    "\n",
    "ax3.hist(ab_df[\"max_visibility\"], alpha=0.5, label=\"ab\")\n",
    "ax3.hist(mb_df[\"max_visibility\"], alpha=0.5, label=\"mb\")\n",
    "ax3.hist(sk_df[\"max_visibility\"], alpha=0.5, label=\"sk\")\n",
    "ax3.title.set_text(\"max\")\n",
    "ax3.legend(loc=\"upper left\")"
   ]
  },
  {
   "cell_type": "code",
   "execution_count": null,
   "metadata": {},
   "outputs": [],
   "source": [
    "mb_df.drop(columns=[\"id\", \"station_id\", \"year\", \"month\", \"day\"], inplace=True)\n",
    "sk_df.drop(columns=[\"id\", \"station_id\", \"year\", \"month\", \"day\"], inplace=True)\n",
    "ab_df.drop(columns=[\"id\", \"station_id\", \"year\", \"month\", \"day\"], inplace=True)"
   ]
  },
  {
   "cell_type": "code",
   "execution_count": null,
   "metadata": {},
   "outputs": [],
   "source": [
    "mb_df.describe()"
   ]
  },
  {
   "cell_type": "code",
   "execution_count": null,
   "metadata": {},
   "outputs": [],
   "source": [
    "sk_df.describe()"
   ]
  },
  {
   "cell_type": "code",
   "execution_count": null,
   "metadata": {},
   "outputs": [],
   "source": [
    "ab_df.describe()"
   ]
  }
 ],
 "metadata": {
  "kernelspec": {
   "display_name": "env",
   "language": "python",
   "name": "python3"
  },
  "language_info": {
   "codemirror_mode": {
    "name": "ipython",
    "version": 3
   },
   "file_extension": ".py",
   "mimetype": "text/x-python",
   "name": "python",
   "nbconvert_exporter": "python",
   "pygments_lexer": "ipython3",
   "version": "3.8.0"
  },
  "orig_nbformat": 4
 },
 "nbformat": 4,
 "nbformat_minor": 2
}
