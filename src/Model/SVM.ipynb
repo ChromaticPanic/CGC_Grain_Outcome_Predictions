{
 "cells": [
  {
   "cell_type": "code",
   "execution_count": 19,
   "metadata": {},
   "outputs": [],
   "source": [
    "import sys\n",
    "import numpy as np\n",
    "\n",
    "from sklearn.model_selection import train_test_split\n",
    "from sklearn.preprocessing import StandardScaler\n",
    "from sklearn.svm import SVC\n",
    "from sklearn.metrics import accuracy_score, classification_report, confusion_matrix\n",
    "from imblearn.over_sampling import RandomOverSampler\n",
    "\n",
    "\n",
    "sys.path.append(\"../\")\n",
    "from Datasets.DataCreation import getDatasetV1, getDatasetV2"
   ]
  },
  {
   "cell_type": "code",
   "execution_count": 4,
   "metadata": {},
   "outputs": [
    {
     "name": "stdout",
     "output_type": "stream",
     "text": [
      "/home/student/anghandk/CGC_Grain_Outcome_Predictions/src/Model\n"
     ]
    }
   ],
   "source": [
    "df = getDatasetV1(None)\n",
    "df.drop(columns=['year', 'district'], inplace=True)"
   ]
  },
  {
   "cell_type": "code",
   "execution_count": 5,
   "metadata": {},
   "outputs": [],
   "source": [
    "X = df.drop(columns=[\"has_ergot\"])\n",
    "y = df['has_ergot']"
   ]
  },
  {
   "cell_type": "code",
   "execution_count": 6,
   "metadata": {},
   "outputs": [
    {
     "name": "stdout",
     "output_type": "stream",
     "text": [
      "has_ergot\n",
      "True     693\n",
      "False    158\n",
      "Name: count, dtype: int64\n",
      "has_ergot\n",
      "False    693\n",
      "True     693\n",
      "Name: count, dtype: int64\n"
     ]
    }
   ],
   "source": [
    "X_train, X_test, y_train, y_test = train_test_split(X,y, test_size=0.2, random_state=1)\n",
    "\n",
    "print(y_train.value_counts())\n",
    "\n",
    "# Oversampling\n",
    "ros = RandomOverSampler(random_state=1)\n",
    "X_train, y_train = ros.fit_resample(X_train, y_train)\n",
    "\n",
    "print(y_train.value_counts())"
   ]
  },
  {
   "cell_type": "code",
   "execution_count": 7,
   "metadata": {},
   "outputs": [],
   "source": [
    "scaler = StandardScaler()\n",
    "X_train_scaled = scaler.fit_transform(X_train)\n",
    "X_test_scaled = scaler.transform(X_test)"
   ]
  },
  {
   "cell_type": "code",
   "execution_count": 8,
   "metadata": {},
   "outputs": [
    {
     "data": {
      "text/html": [
       "<div>\n",
       "<style scoped>\n",
       "    .dataframe tbody tr th:only-of-type {\n",
       "        vertical-align: middle;\n",
       "    }\n",
       "\n",
       "    .dataframe tbody tr th {\n",
       "        vertical-align: top;\n",
       "    }\n",
       "\n",
       "    .dataframe thead th {\n",
       "        text-align: right;\n",
       "    }\n",
       "</style>\n",
       "<table border=\"1\" class=\"dataframe\">\n",
       "  <thead>\n",
       "    <tr style=\"text-align: right;\">\n",
       "      <th></th>\n",
       "      <th>mean_temp</th>\n",
       "      <th>mean_snow_on_grnd</th>\n",
       "      <th>mean_total_snow</th>\n",
       "      <th>mean_total_rain</th>\n",
       "      <th>mean_total_precip</th>\n",
       "    </tr>\n",
       "  </thead>\n",
       "  <tbody>\n",
       "    <tr>\n",
       "      <th>0</th>\n",
       "      <td>0.154795</td>\n",
       "      <td>0.000000</td>\n",
       "      <td>0.112877</td>\n",
       "      <td>1.488630</td>\n",
       "      <td>1.601507</td>\n",
       "    </tr>\n",
       "    <tr>\n",
       "      <th>1</th>\n",
       "      <td>1.638493</td>\n",
       "      <td>4.775342</td>\n",
       "      <td>0.000000</td>\n",
       "      <td>0.000000</td>\n",
       "      <td>1.018493</td>\n",
       "    </tr>\n",
       "    <tr>\n",
       "      <th>2</th>\n",
       "      <td>4.386679</td>\n",
       "      <td>0.999108</td>\n",
       "      <td>0.185128</td>\n",
       "      <td>0.691819</td>\n",
       "      <td>1.200829</td>\n",
       "    </tr>\n",
       "    <tr>\n",
       "      <th>3</th>\n",
       "      <td>3.638767</td>\n",
       "      <td>9.760731</td>\n",
       "      <td>0.000000</td>\n",
       "      <td>0.000000</td>\n",
       "      <td>0.870959</td>\n",
       "    </tr>\n",
       "    <tr>\n",
       "      <th>4</th>\n",
       "      <td>0.236393</td>\n",
       "      <td>2.337215</td>\n",
       "      <td>0.204178</td>\n",
       "      <td>0.805274</td>\n",
       "      <td>1.006849</td>\n",
       "    </tr>\n",
       "    <tr>\n",
       "      <th>...</th>\n",
       "      <td>...</td>\n",
       "      <td>...</td>\n",
       "      <td>...</td>\n",
       "      <td>...</td>\n",
       "      <td>...</td>\n",
       "    </tr>\n",
       "    <tr>\n",
       "      <th>1381</th>\n",
       "      <td>3.843562</td>\n",
       "      <td>8.360274</td>\n",
       "      <td>0.000000</td>\n",
       "      <td>0.000000</td>\n",
       "      <td>1.537991</td>\n",
       "    </tr>\n",
       "    <tr>\n",
       "      <th>1382</th>\n",
       "      <td>3.424795</td>\n",
       "      <td>0.868493</td>\n",
       "      <td>0.371096</td>\n",
       "      <td>0.872877</td>\n",
       "      <td>1.243973</td>\n",
       "    </tr>\n",
       "    <tr>\n",
       "      <th>1383</th>\n",
       "      <td>-0.067808</td>\n",
       "      <td>5.002740</td>\n",
       "      <td>0.000000</td>\n",
       "      <td>0.000000</td>\n",
       "      <td>0.933151</td>\n",
       "    </tr>\n",
       "    <tr>\n",
       "      <th>1384</th>\n",
       "      <td>3.034155</td>\n",
       "      <td>0.477626</td>\n",
       "      <td>0.090685</td>\n",
       "      <td>0.431507</td>\n",
       "      <td>1.330913</td>\n",
       "    </tr>\n",
       "    <tr>\n",
       "      <th>1385</th>\n",
       "      <td>1.626849</td>\n",
       "      <td>1.697717</td>\n",
       "      <td>0.207763</td>\n",
       "      <td>0.721050</td>\n",
       "      <td>1.089726</td>\n",
       "    </tr>\n",
       "  </tbody>\n",
       "</table>\n",
       "<p>1386 rows × 5 columns</p>\n",
       "</div>"
      ],
      "text/plain": [
       "      mean_temp  mean_snow_on_grnd  mean_total_snow  mean_total_rain  \\\n",
       "0      0.154795           0.000000         0.112877         1.488630   \n",
       "1      1.638493           4.775342         0.000000         0.000000   \n",
       "2      4.386679           0.999108         0.185128         0.691819   \n",
       "3      3.638767           9.760731         0.000000         0.000000   \n",
       "4      0.236393           2.337215         0.204178         0.805274   \n",
       "...         ...                ...              ...              ...   \n",
       "1381   3.843562           8.360274         0.000000         0.000000   \n",
       "1382   3.424795           0.868493         0.371096         0.872877   \n",
       "1383  -0.067808           5.002740         0.000000         0.000000   \n",
       "1384   3.034155           0.477626         0.090685         0.431507   \n",
       "1385   1.626849           1.697717         0.207763         0.721050   \n",
       "\n",
       "      mean_total_precip  \n",
       "0              1.601507  \n",
       "1              1.018493  \n",
       "2              1.200829  \n",
       "3              0.870959  \n",
       "4              1.006849  \n",
       "...                 ...  \n",
       "1381           1.537991  \n",
       "1382           1.243973  \n",
       "1383           0.933151  \n",
       "1384           1.330913  \n",
       "1385           1.089726  \n",
       "\n",
       "[1386 rows x 5 columns]"
      ]
     },
     "execution_count": 8,
     "metadata": {},
     "output_type": "execute_result"
    }
   ],
   "source": [
    "X_train"
   ]
  },
  {
   "cell_type": "code",
   "execution_count": 9,
   "metadata": {},
   "outputs": [],
   "source": [
    "model = SVC(kernel='rbf', C=1)"
   ]
  },
  {
   "cell_type": "code",
   "execution_count": 10,
   "metadata": {},
   "outputs": [
    {
     "data": {
      "text/html": [
       "<style>#sk-container-id-1 {color: black;background-color: white;}#sk-container-id-1 pre{padding: 0;}#sk-container-id-1 div.sk-toggleable {background-color: white;}#sk-container-id-1 label.sk-toggleable__label {cursor: pointer;display: block;width: 100%;margin-bottom: 0;padding: 0.3em;box-sizing: border-box;text-align: center;}#sk-container-id-1 label.sk-toggleable__label-arrow:before {content: \"▸\";float: left;margin-right: 0.25em;color: #696969;}#sk-container-id-1 label.sk-toggleable__label-arrow:hover:before {color: black;}#sk-container-id-1 div.sk-estimator:hover label.sk-toggleable__label-arrow:before {color: black;}#sk-container-id-1 div.sk-toggleable__content {max-height: 0;max-width: 0;overflow: hidden;text-align: left;background-color: #f0f8ff;}#sk-container-id-1 div.sk-toggleable__content pre {margin: 0.2em;color: black;border-radius: 0.25em;background-color: #f0f8ff;}#sk-container-id-1 input.sk-toggleable__control:checked~div.sk-toggleable__content {max-height: 200px;max-width: 100%;overflow: auto;}#sk-container-id-1 input.sk-toggleable__control:checked~label.sk-toggleable__label-arrow:before {content: \"▾\";}#sk-container-id-1 div.sk-estimator input.sk-toggleable__control:checked~label.sk-toggleable__label {background-color: #d4ebff;}#sk-container-id-1 div.sk-label input.sk-toggleable__control:checked~label.sk-toggleable__label {background-color: #d4ebff;}#sk-container-id-1 input.sk-hidden--visually {border: 0;clip: rect(1px 1px 1px 1px);clip: rect(1px, 1px, 1px, 1px);height: 1px;margin: -1px;overflow: hidden;padding: 0;position: absolute;width: 1px;}#sk-container-id-1 div.sk-estimator {font-family: monospace;background-color: #f0f8ff;border: 1px dotted black;border-radius: 0.25em;box-sizing: border-box;margin-bottom: 0.5em;}#sk-container-id-1 div.sk-estimator:hover {background-color: #d4ebff;}#sk-container-id-1 div.sk-parallel-item::after {content: \"\";width: 100%;border-bottom: 1px solid gray;flex-grow: 1;}#sk-container-id-1 div.sk-label:hover label.sk-toggleable__label {background-color: #d4ebff;}#sk-container-id-1 div.sk-serial::before {content: \"\";position: absolute;border-left: 1px solid gray;box-sizing: border-box;top: 0;bottom: 0;left: 50%;z-index: 0;}#sk-container-id-1 div.sk-serial {display: flex;flex-direction: column;align-items: center;background-color: white;padding-right: 0.2em;padding-left: 0.2em;position: relative;}#sk-container-id-1 div.sk-item {position: relative;z-index: 1;}#sk-container-id-1 div.sk-parallel {display: flex;align-items: stretch;justify-content: center;background-color: white;position: relative;}#sk-container-id-1 div.sk-item::before, #sk-container-id-1 div.sk-parallel-item::before {content: \"\";position: absolute;border-left: 1px solid gray;box-sizing: border-box;top: 0;bottom: 0;left: 50%;z-index: -1;}#sk-container-id-1 div.sk-parallel-item {display: flex;flex-direction: column;z-index: 1;position: relative;background-color: white;}#sk-container-id-1 div.sk-parallel-item:first-child::after {align-self: flex-end;width: 50%;}#sk-container-id-1 div.sk-parallel-item:last-child::after {align-self: flex-start;width: 50%;}#sk-container-id-1 div.sk-parallel-item:only-child::after {width: 0;}#sk-container-id-1 div.sk-dashed-wrapped {border: 1px dashed gray;margin: 0 0.4em 0.5em 0.4em;box-sizing: border-box;padding-bottom: 0.4em;background-color: white;}#sk-container-id-1 div.sk-label label {font-family: monospace;font-weight: bold;display: inline-block;line-height: 1.2em;}#sk-container-id-1 div.sk-label-container {text-align: center;}#sk-container-id-1 div.sk-container {/* jupyter's `normalize.less` sets `[hidden] { display: none; }` but bootstrap.min.css set `[hidden] { display: none !important; }` so we also need the `!important` here to be able to override the default hidden behavior on the sphinx rendered scikit-learn.org. See: https://github.com/scikit-learn/scikit-learn/issues/21755 */display: inline-block !important;position: relative;}#sk-container-id-1 div.sk-text-repr-fallback {display: none;}</style><div id=\"sk-container-id-1\" class=\"sk-top-container\"><div class=\"sk-text-repr-fallback\"><pre>SVC(C=1)</pre><b>In a Jupyter environment, please rerun this cell to show the HTML representation or trust the notebook. <br />On GitHub, the HTML representation is unable to render, please try loading this page with nbviewer.org.</b></div><div class=\"sk-container\" hidden><div class=\"sk-item\"><div class=\"sk-estimator sk-toggleable\"><input class=\"sk-toggleable__control sk-hidden--visually\" id=\"sk-estimator-id-1\" type=\"checkbox\" checked><label for=\"sk-estimator-id-1\" class=\"sk-toggleable__label sk-toggleable__label-arrow\">SVC</label><div class=\"sk-toggleable__content\"><pre>SVC(C=1)</pre></div></div></div></div></div>"
      ],
      "text/plain": [
       "SVC(C=1)"
      ]
     },
     "execution_count": 10,
     "metadata": {},
     "output_type": "execute_result"
    }
   ],
   "source": [
    "model.fit(X_train_scaled, y_train)"
   ]
  },
  {
   "cell_type": "code",
   "execution_count": 11,
   "metadata": {},
   "outputs": [],
   "source": [
    "y_pred = model.predict(X_test_scaled)"
   ]
  },
  {
   "cell_type": "code",
   "execution_count": 12,
   "metadata": {},
   "outputs": [
    {
     "data": {
      "text/plain": [
       "0.6901408450704225"
      ]
     },
     "execution_count": 12,
     "metadata": {},
     "output_type": "execute_result"
    }
   ],
   "source": [
    "accuracy_score(y_test, y_pred)"
   ]
  },
  {
   "cell_type": "code",
   "execution_count": 22,
   "metadata": {},
   "outputs": [],
   "source": [
    "def result(y_test, y_pred):\n",
    "    conf_matrix = confusion_matrix(y_test, y_pred)\n",
    "\n",
    "    accuracy = (conf_matrix[0, 0] + conf_matrix[1, 1]) / np.sum(conf_matrix)\n",
    "    print(\"Accuracy: \", accuracy)\n",
    "\n",
    "    precision = conf_matrix[1, 1] / (conf_matrix[1, 1] + conf_matrix[0, 1])\n",
    "    print(\"Precision: \", precision)\n",
    "\n",
    "    recall = conf_matrix[1, 1] / (conf_matrix[1, 1] + conf_matrix[1, 0])\n",
    "    print(\"Recall: \", recall)\n",
    "\n",
    "    f1_score = 2 * (precision * recall) / (precision + recall)\n",
    "    print(\"F1 Score: \", f1_score)"
   ]
  },
  {
   "cell_type": "code",
   "execution_count": 25,
   "metadata": {},
   "outputs": [
    {
     "name": "stdout",
     "output_type": "stream",
     "text": [
      "--------------------------------------\n",
      "Kernal = linear, C = 0.1\n",
      "Accuracy:  0.6197183098591549\n",
      "Precision:  0.8428571428571429\n",
      "Recall:  0.6666666666666666\n",
      "F1 Score:  0.7444794952681388\n",
      "--------------------------------------\n",
      "Kernal = linear, C = 1\n",
      "Accuracy:  0.6150234741784038\n",
      "Precision:  0.841726618705036\n",
      "Recall:  0.6610169491525424\n",
      "F1 Score:  0.740506329113924\n",
      "--------------------------------------\n",
      "Kernal = linear, C = 10\n",
      "Accuracy:  0.6150234741784038\n",
      "Precision:  0.841726618705036\n",
      "Recall:  0.6610169491525424\n",
      "F1 Score:  0.740506329113924\n",
      "--------------------------------------\n",
      "Kernal = linear, C = 100\n",
      "Accuracy:  0.6150234741784038\n",
      "Precision:  0.841726618705036\n",
      "Recall:  0.6610169491525424\n",
      "F1 Score:  0.740506329113924\n",
      "--------------------------------------\n",
      "Kernal = poly, C = 0.1\n",
      "Accuracy:  0.812206572769953\n",
      "Precision:  0.8784530386740331\n",
      "Recall:  0.8983050847457628\n",
      "F1 Score:  0.8882681564245811\n",
      "--------------------------------------\n",
      "Kernal = poly, C = 1\n",
      "Accuracy:  0.7887323943661971\n",
      "Precision:  0.888235294117647\n",
      "Recall:  0.8531073446327684\n",
      "F1 Score:  0.8703170028818444\n",
      "--------------------------------------\n",
      "Kernal = poly, C = 10\n",
      "Accuracy:  0.7511737089201878\n",
      "Precision:  0.8734939759036144\n",
      "Recall:  0.8192090395480226\n",
      "F1 Score:  0.8454810495626822\n",
      "--------------------------------------\n",
      "Kernal = poly, C = 100\n",
      "Accuracy:  0.7417840375586855\n",
      "Precision:  0.8765432098765432\n",
      "Recall:  0.8022598870056498\n",
      "F1 Score:  0.8377581120943953\n",
      "--------------------------------------\n",
      "Kernal = rbf, C = 0.1\n",
      "Accuracy:  0.596244131455399\n",
      "Precision:  0.8760330578512396\n",
      "Recall:  0.5988700564971752\n",
      "F1 Score:  0.7114093959731544\n",
      "--------------------------------------\n",
      "Kernal = rbf, C = 1\n",
      "Accuracy:  0.6901408450704225\n",
      "Precision:  0.8992805755395683\n",
      "Recall:  0.7062146892655368\n",
      "F1 Score:  0.7911392405063291\n",
      "--------------------------------------\n",
      "Kernal = rbf, C = 10\n",
      "Accuracy:  0.6572769953051644\n",
      "Precision:  0.8611111111111112\n",
      "Recall:  0.7005649717514124\n",
      "F1 Score:  0.7725856697819314\n",
      "--------------------------------------\n",
      "Kernal = rbf, C = 100\n",
      "Accuracy:  0.6525821596244131\n",
      "Precision:  0.8456375838926175\n",
      "Recall:  0.711864406779661\n",
      "F1 Score:  0.7730061349693252\n",
      "--------------------------------------\n",
      "Kernal = sigmoid, C = 0.1\n",
      "Accuracy:  0.568075117370892\n",
      "Precision:  0.8455284552845529\n",
      "Recall:  0.5875706214689266\n",
      "F1 Score:  0.6933333333333334\n",
      "--------------------------------------\n",
      "Kernal = sigmoid, C = 1\n",
      "Accuracy:  0.5258215962441315\n",
      "Precision:  0.8454545454545455\n",
      "Recall:  0.5254237288135594\n",
      "F1 Score:  0.6480836236933798\n",
      "--------------------------------------\n",
      "Kernal = sigmoid, C = 10\n",
      "Accuracy:  0.5352112676056338\n",
      "Precision:  0.8482142857142857\n",
      "Recall:  0.536723163841808\n",
      "F1 Score:  0.6574394463667821\n",
      "--------------------------------------\n",
      "Kernal = sigmoid, C = 100\n",
      "Accuracy:  0.5305164319248826\n",
      "Precision:  0.8468468468468469\n",
      "Recall:  0.5310734463276836\n",
      "F1 Score:  0.6527777777777778\n"
     ]
    }
   ],
   "source": [
    "kernals = [\"linear\", \"poly\", \"rbf\", \"sigmoid\"]\n",
    "c_list = [0.1, 1, 10, 100]\n",
    "\n",
    "for k in kernals:\n",
    "    for c in c_list:\n",
    "        print(\"--------------------------------------\")\n",
    "        print(f\"Kernal = {k}, C = {c}\")\n",
    "        model = SVC(kernel=k, C=c)\n",
    "        model.fit(X_train_scaled, y_train)\n",
    "        y_pred = model.predict(X_test_scaled)\n",
    "        \n",
    "        result(y_test, y_pred)\n",
    "\n",
    "        \n"
   ]
  },
  {
   "cell_type": "code",
   "execution_count": 14,
   "metadata": {},
   "outputs": [
    {
     "ename": "SyntaxError",
     "evalue": "invalid syntax (3261684659.py, line 1)",
     "output_type": "error",
     "traceback": [
      "\u001b[0;36m  Cell \u001b[0;32mIn[14], line 1\u001b[0;36m\u001b[0m\n\u001b[0;31m    precision, recaall and f1 score\u001b[0m\n\u001b[0m                              ^\u001b[0m\n\u001b[0;31mSyntaxError\u001b[0m\u001b[0;31m:\u001b[0m invalid syntax\n"
     ]
    }
   ],
   "source": []
  }
 ],
 "metadata": {
  "kernelspec": {
   "display_name": "Python 3",
   "language": "python",
   "name": "python3"
  },
  "language_info": {
   "codemirror_mode": {
    "name": "ipython",
    "version": 3
   },
   "file_extension": ".py",
   "mimetype": "text/x-python",
   "name": "python",
   "nbconvert_exporter": "python",
   "pygments_lexer": "ipython3",
   "version": "3.10.6"
  },
  "orig_nbformat": 4
 },
 "nbformat": 4,
 "nbformat_minor": 2
}
