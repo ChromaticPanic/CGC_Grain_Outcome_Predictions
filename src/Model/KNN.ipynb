{
 "cells": [
  {
   "cell_type": "code",
   "execution_count": 57,
   "metadata": {},
   "outputs": [],
   "source": [
    "import sys\n",
    "\n",
    "from sklearn.model_selection import train_test_split\n",
    "from sklearn.preprocessing import StandardScaler\n",
    "from sklearn.neighbors import KNeighborsClassifier\n",
    "from sklearn.metrics import accuracy_score, classification_report\n",
    "\n",
    "\n",
    "sys.path.append(\"../\")\n",
    "from Datasets.DataCreation import getDatasetV1, getDatasetV2"
   ]
  },
  {
   "cell_type": "code",
   "execution_count": 58,
   "metadata": {},
   "outputs": [],
   "source": [
    "df = getDatasetV1(None)\n",
    "df.drop(columns=['year', 'district'], inplace=True)"
   ]
  },
  {
   "cell_type": "code",
   "execution_count": 59,
   "metadata": {},
   "outputs": [
    {
     "data": {
      "text/html": [
       "<div>\n",
       "<style scoped>\n",
       "    .dataframe tbody tr th:only-of-type {\n",
       "        vertical-align: middle;\n",
       "    }\n",
       "\n",
       "    .dataframe tbody tr th {\n",
       "        vertical-align: top;\n",
       "    }\n",
       "\n",
       "    .dataframe thead th {\n",
       "        text-align: right;\n",
       "    }\n",
       "</style>\n",
       "<table border=\"1\" class=\"dataframe\">\n",
       "  <thead>\n",
       "    <tr style=\"text-align: right;\">\n",
       "      <th></th>\n",
       "      <th>mean_total_snow</th>\n",
       "      <th>mean_total_precip</th>\n",
       "      <th>mean_snow_on_grnd</th>\n",
       "      <th>mean_total_rain</th>\n",
       "      <th>mean_temp</th>\n",
       "      <th>has_ergot</th>\n",
       "    </tr>\n",
       "  </thead>\n",
       "  <tbody>\n",
       "    <tr>\n",
       "      <th>0</th>\n",
       "      <td>0.303979</td>\n",
       "      <td>1.189348</td>\n",
       "      <td>6.005903</td>\n",
       "      <td>0.529384</td>\n",
       "      <td>0.451735</td>\n",
       "      <td>False</td>\n",
       "    </tr>\n",
       "    <tr>\n",
       "      <th>1</th>\n",
       "      <td>0.116534</td>\n",
       "      <td>0.871078</td>\n",
       "      <td>0.860822</td>\n",
       "      <td>0.328105</td>\n",
       "      <td>4.239744</td>\n",
       "      <td>False</td>\n",
       "    </tr>\n",
       "    <tr>\n",
       "      <th>2</th>\n",
       "      <td>0.155237</td>\n",
       "      <td>0.790694</td>\n",
       "      <td>3.564932</td>\n",
       "      <td>0.250507</td>\n",
       "      <td>1.628772</td>\n",
       "      <td>True</td>\n",
       "    </tr>\n",
       "    <tr>\n",
       "      <th>3</th>\n",
       "      <td>0.135583</td>\n",
       "      <td>1.299196</td>\n",
       "      <td>1.054999</td>\n",
       "      <td>0.332711</td>\n",
       "      <td>3.060292</td>\n",
       "      <td>True</td>\n",
       "    </tr>\n",
       "    <tr>\n",
       "      <th>4</th>\n",
       "      <td>0.010502</td>\n",
       "      <td>0.908037</td>\n",
       "      <td>0.010959</td>\n",
       "      <td>0.078265</td>\n",
       "      <td>2.796575</td>\n",
       "      <td>True</td>\n",
       "    </tr>\n",
       "    <tr>\n",
       "      <th>...</th>\n",
       "      <td>...</td>\n",
       "      <td>...</td>\n",
       "      <td>...</td>\n",
       "      <td>...</td>\n",
       "      <td>...</td>\n",
       "      <td>...</td>\n",
       "    </tr>\n",
       "    <tr>\n",
       "      <th>1059</th>\n",
       "      <td>0.000000</td>\n",
       "      <td>1.151507</td>\n",
       "      <td>14.356164</td>\n",
       "      <td>0.000000</td>\n",
       "      <td>0.777808</td>\n",
       "      <td>True</td>\n",
       "    </tr>\n",
       "    <tr>\n",
       "      <th>1060</th>\n",
       "      <td>0.000000</td>\n",
       "      <td>1.097808</td>\n",
       "      <td>6.519178</td>\n",
       "      <td>0.000000</td>\n",
       "      <td>2.653288</td>\n",
       "      <td>True</td>\n",
       "    </tr>\n",
       "    <tr>\n",
       "      <th>1061</th>\n",
       "      <td>0.000000</td>\n",
       "      <td>2.099726</td>\n",
       "      <td>5.945205</td>\n",
       "      <td>0.000000</td>\n",
       "      <td>1.931507</td>\n",
       "      <td>True</td>\n",
       "    </tr>\n",
       "    <tr>\n",
       "      <th>1062</th>\n",
       "      <td>0.000000</td>\n",
       "      <td>1.102466</td>\n",
       "      <td>5.210959</td>\n",
       "      <td>0.000000</td>\n",
       "      <td>1.386849</td>\n",
       "      <td>True</td>\n",
       "    </tr>\n",
       "    <tr>\n",
       "      <th>1063</th>\n",
       "      <td>0.000000</td>\n",
       "      <td>1.163562</td>\n",
       "      <td>4.393151</td>\n",
       "      <td>0.000000</td>\n",
       "      <td>1.238356</td>\n",
       "      <td>True</td>\n",
       "    </tr>\n",
       "  </tbody>\n",
       "</table>\n",
       "<p>1064 rows × 6 columns</p>\n",
       "</div>"
      ],
      "text/plain": [
       "      mean_total_snow  mean_total_precip  mean_snow_on_grnd  mean_total_rain  \\\n",
       "0            0.303979           1.189348           6.005903         0.529384   \n",
       "1            0.116534           0.871078           0.860822         0.328105   \n",
       "2            0.155237           0.790694           3.564932         0.250507   \n",
       "3            0.135583           1.299196           1.054999         0.332711   \n",
       "4            0.010502           0.908037           0.010959         0.078265   \n",
       "...               ...                ...                ...              ...   \n",
       "1059         0.000000           1.151507          14.356164         0.000000   \n",
       "1060         0.000000           1.097808           6.519178         0.000000   \n",
       "1061         0.000000           2.099726           5.945205         0.000000   \n",
       "1062         0.000000           1.102466           5.210959         0.000000   \n",
       "1063         0.000000           1.163562           4.393151         0.000000   \n",
       "\n",
       "      mean_temp  has_ergot  \n",
       "0      0.451735      False  \n",
       "1      4.239744      False  \n",
       "2      1.628772       True  \n",
       "3      3.060292       True  \n",
       "4      2.796575       True  \n",
       "...         ...        ...  \n",
       "1059   0.777808       True  \n",
       "1060   2.653288       True  \n",
       "1061   1.931507       True  \n",
       "1062   1.386849       True  \n",
       "1063   1.238356       True  \n",
       "\n",
       "[1064 rows x 6 columns]"
      ]
     },
     "execution_count": 59,
     "metadata": {},
     "output_type": "execute_result"
    }
   ],
   "source": [
    "df"
   ]
  },
  {
   "cell_type": "code",
   "execution_count": 60,
   "metadata": {},
   "outputs": [],
   "source": [
    "X = df.drop(columns=[\"has_ergot\"])\n",
    "y = df['has_ergot']"
   ]
  },
  {
   "cell_type": "code",
   "execution_count": 61,
   "metadata": {},
   "outputs": [],
   "source": [
    "X_train, X_test, y_train, y_test = train_test_split(X,y, test_size=0.2, random_state=1)"
   ]
  },
  {
   "cell_type": "code",
   "execution_count": 62,
   "metadata": {},
   "outputs": [],
   "source": [
    "scaler = StandardScaler()\n",
    "X_train_scaled = scaler.fit_transform(X_train)\n",
    "X_test_scaled = scaler.transform(X_test)"
   ]
  },
  {
   "cell_type": "code",
   "execution_count": 63,
   "metadata": {},
   "outputs": [
    {
     "data": {
      "text/html": [
       "<div>\n",
       "<style scoped>\n",
       "    .dataframe tbody tr th:only-of-type {\n",
       "        vertical-align: middle;\n",
       "    }\n",
       "\n",
       "    .dataframe tbody tr th {\n",
       "        vertical-align: top;\n",
       "    }\n",
       "\n",
       "    .dataframe thead th {\n",
       "        text-align: right;\n",
       "    }\n",
       "</style>\n",
       "<table border=\"1\" class=\"dataframe\">\n",
       "  <thead>\n",
       "    <tr style=\"text-align: right;\">\n",
       "      <th></th>\n",
       "      <th>mean_total_snow</th>\n",
       "      <th>mean_total_precip</th>\n",
       "      <th>mean_snow_on_grnd</th>\n",
       "      <th>mean_total_rain</th>\n",
       "      <th>mean_temp</th>\n",
       "    </tr>\n",
       "  </thead>\n",
       "  <tbody>\n",
       "    <tr>\n",
       "      <th>56</th>\n",
       "      <td>0.112877</td>\n",
       "      <td>1.601507</td>\n",
       "      <td>0.000000</td>\n",
       "      <td>1.488630</td>\n",
       "      <td>0.154795</td>\n",
       "    </tr>\n",
       "    <tr>\n",
       "      <th>632</th>\n",
       "      <td>0.000000</td>\n",
       "      <td>1.018493</td>\n",
       "      <td>4.775342</td>\n",
       "      <td>0.000000</td>\n",
       "      <td>1.638493</td>\n",
       "    </tr>\n",
       "    <tr>\n",
       "      <th>345</th>\n",
       "      <td>0.185128</td>\n",
       "      <td>1.200829</td>\n",
       "      <td>0.999108</td>\n",
       "      <td>0.691819</td>\n",
       "      <td>4.386679</td>\n",
       "    </tr>\n",
       "    <tr>\n",
       "      <th>887</th>\n",
       "      <td>0.000000</td>\n",
       "      <td>0.870959</td>\n",
       "      <td>9.760731</td>\n",
       "      <td>0.000000</td>\n",
       "      <td>3.638767</td>\n",
       "    </tr>\n",
       "    <tr>\n",
       "      <th>54</th>\n",
       "      <td>0.204178</td>\n",
       "      <td>1.006849</td>\n",
       "      <td>2.337215</td>\n",
       "      <td>0.805274</td>\n",
       "      <td>0.236393</td>\n",
       "    </tr>\n",
       "    <tr>\n",
       "      <th>...</th>\n",
       "      <td>...</td>\n",
       "      <td>...</td>\n",
       "      <td>...</td>\n",
       "      <td>...</td>\n",
       "      <td>...</td>\n",
       "    </tr>\n",
       "    <tr>\n",
       "      <th>847</th>\n",
       "      <td>0.000000</td>\n",
       "      <td>0.868767</td>\n",
       "      <td>3.523288</td>\n",
       "      <td>0.000000</td>\n",
       "      <td>3.019178</td>\n",
       "    </tr>\n",
       "    <tr>\n",
       "      <th>715</th>\n",
       "      <td>0.000000</td>\n",
       "      <td>0.924110</td>\n",
       "      <td>5.712329</td>\n",
       "      <td>0.000000</td>\n",
       "      <td>0.779178</td>\n",
       "    </tr>\n",
       "    <tr>\n",
       "      <th>905</th>\n",
       "      <td>0.000000</td>\n",
       "      <td>0.705205</td>\n",
       "      <td>4.186301</td>\n",
       "      <td>0.000000</td>\n",
       "      <td>0.667397</td>\n",
       "    </tr>\n",
       "    <tr>\n",
       "      <th>235</th>\n",
       "      <td>0.131742</td>\n",
       "      <td>0.475303</td>\n",
       "      <td>0.180871</td>\n",
       "      <td>0.343601</td>\n",
       "      <td>6.008826</td>\n",
       "    </tr>\n",
       "    <tr>\n",
       "      <th>1061</th>\n",
       "      <td>0.000000</td>\n",
       "      <td>2.099726</td>\n",
       "      <td>5.945205</td>\n",
       "      <td>0.000000</td>\n",
       "      <td>1.931507</td>\n",
       "    </tr>\n",
       "  </tbody>\n",
       "</table>\n",
       "<p>851 rows × 5 columns</p>\n",
       "</div>"
      ],
      "text/plain": [
       "      mean_total_snow  mean_total_precip  mean_snow_on_grnd  mean_total_rain  \\\n",
       "56           0.112877           1.601507           0.000000         1.488630   \n",
       "632          0.000000           1.018493           4.775342         0.000000   \n",
       "345          0.185128           1.200829           0.999108         0.691819   \n",
       "887          0.000000           0.870959           9.760731         0.000000   \n",
       "54           0.204178           1.006849           2.337215         0.805274   \n",
       "...               ...                ...                ...              ...   \n",
       "847          0.000000           0.868767           3.523288         0.000000   \n",
       "715          0.000000           0.924110           5.712329         0.000000   \n",
       "905          0.000000           0.705205           4.186301         0.000000   \n",
       "235          0.131742           0.475303           0.180871         0.343601   \n",
       "1061         0.000000           2.099726           5.945205         0.000000   \n",
       "\n",
       "      mean_temp  \n",
       "56     0.154795  \n",
       "632    1.638493  \n",
       "345    4.386679  \n",
       "887    3.638767  \n",
       "54     0.236393  \n",
       "...         ...  \n",
       "847    3.019178  \n",
       "715    0.779178  \n",
       "905    0.667397  \n",
       "235    6.008826  \n",
       "1061   1.931507  \n",
       "\n",
       "[851 rows x 5 columns]"
      ]
     },
     "execution_count": 63,
     "metadata": {},
     "output_type": "execute_result"
    }
   ],
   "source": [
    "X_train"
   ]
  },
  {
   "cell_type": "code",
   "execution_count": 64,
   "metadata": {},
   "outputs": [],
   "source": [
    "model = KNeighborsClassifier(n_neighbors=1)"
   ]
  },
  {
   "cell_type": "code",
   "execution_count": 65,
   "metadata": {},
   "outputs": [
    {
     "data": {
      "text/html": [
       "<style>#sk-container-id-5 {color: black;background-color: white;}#sk-container-id-5 pre{padding: 0;}#sk-container-id-5 div.sk-toggleable {background-color: white;}#sk-container-id-5 label.sk-toggleable__label {cursor: pointer;display: block;width: 100%;margin-bottom: 0;padding: 0.3em;box-sizing: border-box;text-align: center;}#sk-container-id-5 label.sk-toggleable__label-arrow:before {content: \"▸\";float: left;margin-right: 0.25em;color: #696969;}#sk-container-id-5 label.sk-toggleable__label-arrow:hover:before {color: black;}#sk-container-id-5 div.sk-estimator:hover label.sk-toggleable__label-arrow:before {color: black;}#sk-container-id-5 div.sk-toggleable__content {max-height: 0;max-width: 0;overflow: hidden;text-align: left;background-color: #f0f8ff;}#sk-container-id-5 div.sk-toggleable__content pre {margin: 0.2em;color: black;border-radius: 0.25em;background-color: #f0f8ff;}#sk-container-id-5 input.sk-toggleable__control:checked~div.sk-toggleable__content {max-height: 200px;max-width: 100%;overflow: auto;}#sk-container-id-5 input.sk-toggleable__control:checked~label.sk-toggleable__label-arrow:before {content: \"▾\";}#sk-container-id-5 div.sk-estimator input.sk-toggleable__control:checked~label.sk-toggleable__label {background-color: #d4ebff;}#sk-container-id-5 div.sk-label input.sk-toggleable__control:checked~label.sk-toggleable__label {background-color: #d4ebff;}#sk-container-id-5 input.sk-hidden--visually {border: 0;clip: rect(1px 1px 1px 1px);clip: rect(1px, 1px, 1px, 1px);height: 1px;margin: -1px;overflow: hidden;padding: 0;position: absolute;width: 1px;}#sk-container-id-5 div.sk-estimator {font-family: monospace;background-color: #f0f8ff;border: 1px dotted black;border-radius: 0.25em;box-sizing: border-box;margin-bottom: 0.5em;}#sk-container-id-5 div.sk-estimator:hover {background-color: #d4ebff;}#sk-container-id-5 div.sk-parallel-item::after {content: \"\";width: 100%;border-bottom: 1px solid gray;flex-grow: 1;}#sk-container-id-5 div.sk-label:hover label.sk-toggleable__label {background-color: #d4ebff;}#sk-container-id-5 div.sk-serial::before {content: \"\";position: absolute;border-left: 1px solid gray;box-sizing: border-box;top: 0;bottom: 0;left: 50%;z-index: 0;}#sk-container-id-5 div.sk-serial {display: flex;flex-direction: column;align-items: center;background-color: white;padding-right: 0.2em;padding-left: 0.2em;position: relative;}#sk-container-id-5 div.sk-item {position: relative;z-index: 1;}#sk-container-id-5 div.sk-parallel {display: flex;align-items: stretch;justify-content: center;background-color: white;position: relative;}#sk-container-id-5 div.sk-item::before, #sk-container-id-5 div.sk-parallel-item::before {content: \"\";position: absolute;border-left: 1px solid gray;box-sizing: border-box;top: 0;bottom: 0;left: 50%;z-index: -1;}#sk-container-id-5 div.sk-parallel-item {display: flex;flex-direction: column;z-index: 1;position: relative;background-color: white;}#sk-container-id-5 div.sk-parallel-item:first-child::after {align-self: flex-end;width: 50%;}#sk-container-id-5 div.sk-parallel-item:last-child::after {align-self: flex-start;width: 50%;}#sk-container-id-5 div.sk-parallel-item:only-child::after {width: 0;}#sk-container-id-5 div.sk-dashed-wrapped {border: 1px dashed gray;margin: 0 0.4em 0.5em 0.4em;box-sizing: border-box;padding-bottom: 0.4em;background-color: white;}#sk-container-id-5 div.sk-label label {font-family: monospace;font-weight: bold;display: inline-block;line-height: 1.2em;}#sk-container-id-5 div.sk-label-container {text-align: center;}#sk-container-id-5 div.sk-container {/* jupyter's `normalize.less` sets `[hidden] { display: none; }` but bootstrap.min.css set `[hidden] { display: none !important; }` so we also need the `!important` here to be able to override the default hidden behavior on the sphinx rendered scikit-learn.org. See: https://github.com/scikit-learn/scikit-learn/issues/21755 */display: inline-block !important;position: relative;}#sk-container-id-5 div.sk-text-repr-fallback {display: none;}</style><div id=\"sk-container-id-5\" class=\"sk-top-container\"><div class=\"sk-text-repr-fallback\"><pre>KNeighborsClassifier(n_neighbors=1)</pre><b>In a Jupyter environment, please rerun this cell to show the HTML representation or trust the notebook. <br />On GitHub, the HTML representation is unable to render, please try loading this page with nbviewer.org.</b></div><div class=\"sk-container\" hidden><div class=\"sk-item\"><div class=\"sk-estimator sk-toggleable\"><input class=\"sk-toggleable__control sk-hidden--visually\" id=\"sk-estimator-id-5\" type=\"checkbox\" checked><label for=\"sk-estimator-id-5\" class=\"sk-toggleable__label sk-toggleable__label-arrow\">KNeighborsClassifier</label><div class=\"sk-toggleable__content\"><pre>KNeighborsClassifier(n_neighbors=1)</pre></div></div></div></div></div>"
      ],
      "text/plain": [
       "KNeighborsClassifier(n_neighbors=1)"
      ]
     },
     "execution_count": 65,
     "metadata": {},
     "output_type": "execute_result"
    }
   ],
   "source": [
    "model.fit(X_train_scaled, y_train)"
   ]
  },
  {
   "cell_type": "code",
   "execution_count": 66,
   "metadata": {},
   "outputs": [],
   "source": [
    "y_pred = model.predict(X_test_scaled)"
   ]
  },
  {
   "cell_type": "code",
   "execution_count": 67,
   "metadata": {},
   "outputs": [
    {
     "data": {
      "text/plain": [
       "0.6995305164319249"
      ]
     },
     "execution_count": 67,
     "metadata": {},
     "output_type": "execute_result"
    }
   ],
   "source": [
    "accuracy_score(y_test, y_pred)"
   ]
  },
  {
   "cell_type": "code",
   "execution_count": 68,
   "metadata": {},
   "outputs": [],
   "source": [
    "score = []\n",
    "\n",
    "for i in range(1,36):\n",
    "    knn = KNeighborsClassifier(n_neighbors=i)\n",
    "\n",
    "    knn.fit(X_train_scaled, y_train)\n",
    "\n",
    "    y_pred = knn.predict(X_test_scaled)\n",
    "\n",
    "    score.append(accuracy_score(y_test, y_pred))"
   ]
  },
  {
   "cell_type": "code",
   "execution_count": 69,
   "metadata": {},
   "outputs": [
    {
     "data": {
      "text/plain": [
       "[0.6995305164319249,\n",
       " 0.6384976525821596,\n",
       " 0.7464788732394366,\n",
       " 0.704225352112676,\n",
       " 0.7793427230046949,\n",
       " 0.7652582159624414,\n",
       " 0.8075117370892019,\n",
       " 0.7934272300469484,\n",
       " 0.8262910798122066,\n",
       " 0.8262910798122066,\n",
       " 0.8356807511737089,\n",
       " 0.8403755868544601,\n",
       " 0.8309859154929577,\n",
       " 0.8450704225352113,\n",
       " 0.8403755868544601,\n",
       " 0.8450704225352113,\n",
       " 0.8403755868544601,\n",
       " 0.8450704225352113,\n",
       " 0.8356807511737089,\n",
       " 0.8497652582159625,\n",
       " 0.8403755868544601,\n",
       " 0.8356807511737089,\n",
       " 0.8356807511737089,\n",
       " 0.8403755868544601,\n",
       " 0.8450704225352113,\n",
       " 0.8403755868544601,\n",
       " 0.8403755868544601,\n",
       " 0.8356807511737089,\n",
       " 0.8403755868544601,\n",
       " 0.8403755868544601,\n",
       " 0.8403755868544601,\n",
       " 0.8403755868544601,\n",
       " 0.8403755868544601,\n",
       " 0.8403755868544601,\n",
       " 0.8356807511737089]"
      ]
     },
     "execution_count": 69,
     "metadata": {},
     "output_type": "execute_result"
    }
   ],
   "source": [
    "score"
   ]
  },
  {
   "cell_type": "code",
   "execution_count": 70,
   "metadata": {},
   "outputs": [
    {
     "data": {
      "text/plain": [
       "[<matplotlib.lines.Line2D at 0x7ff759001720>]"
      ]
     },
     "execution_count": 70,
     "metadata": {},
     "output_type": "execute_result"
    },
    {
     "data": {
      "image/png": "[encoded data removed]",
      "text/plain": [
       "<Figure size 640x480 with 1 Axes>"
      ]
     },
     "metadata": {},
     "output_type": "display_data"
    }
   ],
   "source": [
    "import matplotlib.pyplot as plt\n",
    "\n",
    "plt.plot(range(1,36), score)"
   ]
  },
  {
   "cell_type": "code",
   "execution_count": null,
   "metadata": {},
   "outputs": [],
   "source": []
  },
  {
   "cell_type": "code",
   "execution_count": null,
   "metadata": {},
   "outputs": [],
   "source": []
  }
 ],
 "metadata": {
  "kernelspec": {
   "display_name": "Python 3",
   "language": "python",
   "name": "python3"
  },
  "language_info": {
   "codemirror_mode": {
    "name": "ipython",
    "version": 3
   },
   "file_extension": ".py",
   "mimetype": "text/x-python",
   "name": "python",
   "nbconvert_exporter": "python",
   "pygments_lexer": "ipython3",
   "version": "3.10.6"
  },
  "orig_nbformat": 4
 },
 "nbformat": 4,
 "nbformat_minor": 2
}
