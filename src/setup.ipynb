{
 "cells": [
  {
   "cell_type": "markdown",
   "metadata": {},
   "source": [
    "add data folders\n",
    "go to each folder and download source files \n",
    "download regions\n",
    "load soil data \n",
    "pull daily weather station data \n",
    "pull hourly weather station data \n",
    "pull copernicus weather data\n",
    "pull soil moisture data\n",
    "\n",
    "aggregate data ...\n",
    "(basically get it ready to run all the modeling which will be provided as steps either through markdown or by running the scripts)"
   ]
  },
  {
   "cell_type": "markdown",
   "metadata": {},
   "source": [
    "https://discourse.jupyter.org/t/how-to-work-with-pure-python-file-py/4443"
   ]
  },
  {
   "cell_type": "markdown",
   "metadata": {},
   "source": [
    "https://www.google.com/search?q=way+to+run+other+jupiter+notebook+files+from+another+jupiter+notebook&oq=way+to+run+other+jupiter+notebook+files+from+another+jupiter+notebook+&aqs=chrome..69i57.12709j0j4&sourceid=chrome&ie=UTF-8\n",
    "https://gist.github.com/jkarakas/e8f1ec281fe7b8bc92650973fd44bda4"
   ]
  }
 ],
 "metadata": {
  "language_info": {
   "name": "python"
  },
  "orig_nbformat": 4
 },
 "nbformat": 4,
 "nbformat_minor": 2
}
