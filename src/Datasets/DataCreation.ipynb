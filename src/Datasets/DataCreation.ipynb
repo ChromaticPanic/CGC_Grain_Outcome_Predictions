{
 "cells": [
  {
   "cell_type": "code",
   "execution_count": null,
   "metadata": {},
   "outputs": [],
   "source": [
    "import sys\n",
    "\n",
    "sys.path.append(\"../\")\n",
    "from Datasets.DataCreation import (\n",
    "    getDatasetV1,\n",
    "    getDatasetV2,\n",
    "    getDatasetV3,\n",
    "    getDatasetV4,\n",
    ")\n",
    "\n",
    "\n",
    "# List of months of interest\n",
    "M = [\"01\", \"02\", \"03\", \"04\"]"
   ]
  },
  {
   "cell_type": "markdown",
   "metadata": {},
   "source": [
    "Purpose:  \n",
    "Load and display Dataset1\n",
    "\n",
    "```\n",
    "    v1: contains only has_ergot as an output from ergot table and all the weather attributes as input from weather table\n",
    "        Target: \"has_ergot\" from ergot table\n",
    "\n",
    "    Problem statement: Given a district and its weather attributes -> predict if the district is gonna have ergot or not.\n",
    "\n",
    "    Parameters:\n",
    "        months: list of months for which the soil moisture data is required.\n",
    "    note : If months is None, then the function returns the soil moisture data for all months.\n",
    "\n",
    "    To-do: we currently take the mean of all months for each attribute ->\n",
    "        need to test on specific months because ergot won't grow in winter\n",
    "```"
   ]
  },
  {
   "cell_type": "code",
   "execution_count": null,
   "metadata": {},
   "outputs": [],
   "source": [
    "dataset_v1 = getDatasetV1(None)\n",
    "dataset_v1"
   ]
  },
  {
   "cell_type": "markdown",
   "metadata": {},
   "source": [
    "Purpose:  \n",
    "Load and display Dataset1\n",
    "\n",
    "```\n",
    "    v_2: contains only has_ergot as an output from ergot table and all attributes from weather, soil_moisture, soil data as input\n",
    "        Target: \"has_ergot\" from ergot table\n",
    "\n",
    "    Problem statement: Given a district and other attributes from weather, soil_moisture, soil data -> predict if the district is gonna have ergot or not.\n",
    "\n",
    "    Parameters:\n",
    "        months: list of months for which the soil moisture data is required.\n",
    "    note : If months is None, then the function returns the soil moisture data for all months.\n",
    "\n",
    "    To-do: Need to get the weather data|soil_moisture for only the month with the appearance of ergot (ergot wont grow in winter)\n",
    "```"
   ]
  },
  {
   "cell_type": "code",
   "execution_count": null,
   "metadata": {},
   "outputs": [],
   "source": [
    "dataset_v2 = getDatasetV2(M)\n",
    "dataset_v2"
   ]
  },
  {
   "cell_type": "markdown",
   "metadata": {},
   "source": [
    "Purpose:  \n",
    "Load and display Dataset1\n",
    "\n",
    "```\n",
    "    v_3: contains ergot, weather, soil_moisture, soil data\n",
    "        Target: \"incidence\" from ergot table\n",
    "\n",
    "    Problem statement: Given an ergot sample and its all given attributes -> predict if the district is gonna have ergot or not.\n",
    "\n",
    "    Parameters:\n",
    "        months: list of months for which the soil moisture data is required.\n",
    "    note : If months is None, then the function returns the soil moisture data for all months.\n",
    "\n",
    "    To-do: we currently take the mean of all months for each attribute ->\n",
    "        need to test on specific months because ergot won't grow in winter\n",
    "```"
   ]
  },
  {
   "cell_type": "code",
   "execution_count": null,
   "metadata": {},
   "outputs": [],
   "source": [
    "dataset_v3 = getDatasetV3(None)\n",
    "dataset_v3"
   ]
  },
  {
   "cell_type": "markdown",
   "metadata": {},
   "source": [
    "Purpose:  \n",
    "Load and display Dataset1\n",
    "\n",
    "```\n",
    "    v_4: contains ergot, weather, soil_moisture, soil data\n",
    "        Target: \"sellable\" from ergot table\n",
    "\n",
    "    Problem statement: Given a district and its all given attributes -> predict that if the district produced the crop which are sellable.\n",
    "\n",
    "    Parameters:\n",
    "        months: list of months for which the soil moisture data is required.\n",
    "    note : If months is None, then the function returns the soil moisture data for all months.\n",
    "\n",
    "    To-do: we currently take the mean of all months for each attribute ->\n",
    "        need to test on specific months because ergot won't grow in winter\n",
    "```"
   ]
  },
  {
   "cell_type": "code",
   "execution_count": null,
   "metadata": {},
   "outputs": [],
   "source": [
    "dataset_v4 = getDatasetV4(None)\n",
    "dataset_v4"
   ]
  }
 ],
 "metadata": {
  "kernelspec": {
   "display_name": "Python 3",
   "language": "python",
   "name": "python3"
  },
  "language_info": {
   "codemirror_mode": {
    "name": "ipython",
    "version": 3
   },
   "file_extension": ".py",
   "mimetype": "text/x-python",
   "name": "python",
   "nbconvert_exporter": "python",
   "pygments_lexer": "ipython3",
   "version": "3.10.6"
  },
  "orig_nbformat": 4,
  "vscode": {
   "interpreter": {
    "hash": "e7370f93d1d0cde622a1f8e1c04877d8463912d04d973331ad4851f04de6915a"
   }
  }
 },
 "nbformat": 4,
 "nbformat_minor": 2
}
