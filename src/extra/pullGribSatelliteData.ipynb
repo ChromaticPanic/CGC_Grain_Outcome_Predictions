{
 "cells": [
  {
   "attachments": {},
   "cell_type": "markdown",
   "metadata": {},
   "source": [
    "pip install cdsapi  \n",
    "pip install pygrib"
   ]
  },
  {
   "cell_type": "code",
   "execution_count": null,
   "metadata": {},
   "outputs": [],
   "source": [
    "import os, sys, cdsapi, pygrib, calendar\n",
    "from QueryHandler import QueryHandler\n",
    "from shapely.geometry import Point\n",
    "from dotenv import load_dotenv\n",
    "from typing import Union\n",
    "import sqlalchemy as sq \n",
    "import geopandas as gpd\n",
    "import numpy as np\n",
    "\n",
    "sys.path.append('../')\n",
    "from DataService import DataService\n",
    "\n",
    "\n",
    "load_dotenv()\n",
    "PG_DB = os.getenv('POSTGRES_DB')\n",
    "PG_ADDR = os.getenv('POSTGRES_ADDR')\n",
    "PG_PORT = os.getenv('POSTGRES_PORT')\n",
    "PG_USER = os.getenv('POSTGRES_USER')\n",
    "PG_PW = os.getenv('POSTGRES_PW')\n",
    "\n",
    "MIN_MONTH = 3\n",
    "MAX_MONTH = 12\n",
    "\n",
    "MIN_YEAR = 1995\n",
    "MAX_YEAR = 2023"
   ]
  },
  {
   "cell_type": "code",
   "execution_count": null,
   "metadata": {},
   "outputs": [],
   "source": [
    "c = cdsapi.Client()\n",
    "queryHandler = QueryHandler()\n",
    "db = DataService(PG_DB, PG_ADDR, PG_PORT, PG_USER, PG_PW)"
   ]
  },
  {
   "cell_type": "code",
   "execution_count": null,
   "metadata": {},
   "outputs": [],
   "source": [
    "# check if the copernicus table exists, if it doesnt create it\n",
    "def createTable(db: DataService):\n",
    "    query = sq.text(queryHandler.tableExistsReq('copernicus_satelite_data'))\n",
    "    tableExists = queryHandler.readTableExists(db.execute(query))\n",
    "    \n",
    "    if not tableExists:\n",
    "        query = sq.text(queryHandler.createCopernicusTableReq())\n",
    "        db.execute(query)"
   ]
  },
  {
   "cell_type": "code",
   "execution_count": null,
   "metadata": {},
   "outputs": [],
   "source": [
    "# check if the current point (lon, lat) is in any of the regions pulled from the database\n",
    "def calcAgRegion(agRegions: gpd.GeoDataFrame, point: Point) -> str:\n",
    "    area = ''   # by default it is assumed we will not find this point\n",
    "\n",
    "    for index, region in agRegions.iterrows():\n",
    "        if region['geometry'].contains(point)[0]:   # for each region, check if the point is within that areas geometry\n",
    "            area = region['car_name']               # found it, update the area with the new name\n",
    "            break\n",
    "    \n",
    "    return area"
   ]
  },
  {
   "cell_type": "code",
   "execution_count": null,
   "metadata": {},
   "outputs": [],
   "source": [
    "def storeData(db: DataService, lon: float, lat: float, year: str, month: str, day: str, hour: str, region: str, attr: str, value: Union[float, str]):\n",
    "    datetime = np.datetime64(f'{year}-{month}-{day}T{hour}')                    # creates the datetime as per np.datetime64\n",
    "    query = sq.text(queryHandler.createRowExistsInDBReq(lon, lat, datetime))    # check if the current row exists in the database\n",
    "    rowExists = queryHandler.readRowExistsInDB(db.execute(query))\n",
    "    hour = hour.split(':')[0]                                                   # get the numeric value for the current hour\n",
    "\n",
    "    if rowExists:\n",
    "        query = sq.text(queryHandler.createUpdateRowReq(lon, lat, datetime, attr, value))   # if row exists update it\n",
    "        db.execute(query)\n",
    "    else:\n",
    "        query = sq.text(queryHandler.createInsertRowReq(lon, lat, datetime, year, month, day, hour, region, attr, value))   # else create a new row\n",
    "        db.execute(query)"
   ]
  },
  {
   "cell_type": "code",
   "execution_count": null,
   "metadata": {},
   "outputs": [],
   "source": [
    "def processFile(grbs, db: DataService, agRegions: gpd.GeoDataFrame, year: str, month: str, day: str, hour: str, attr: str):\n",
    "    listOfdata, listOfLats, listOfLons = grbs[1].data() # grbs has one dimention (for the searched attr) but the variables it returns are 2D arrays\n",
    "                                                        # listOfData = data, listOfLats = lats, listOfLons = lons\n",
    "    for listIndex, list in enumerate(listOfdata):   # for each list\n",
    "        for dataIndex, data in enumerate(list):     # for each data point in the current list\n",
    "            x = listOfLons[listIndex][dataIndex]    # extract the x value\n",
    "            y = listOfLats[listIndex][dataIndex]    # extract the y value \n",
    "\n",
    "            point = Point(x, y)                             # create geometry for the current point\n",
    "            point = gpd.GeoSeries(point, crs='EPSG:4326')   # turn it into a geoseries and sets the projection to common lon, lat\n",
    "            point = point.to_crs(crs='EPSG:3347')           # changes the projection to match the agriculture regions\n",
    "            region = calcAgRegion(agRegions, point)         # check if the point belongs to an area of interest, if so return it\n",
    "\n",
    "            if region:\n",
    "                if(len(month) != 2):        # ensures the month is formatted accordingly to satisfy np.datetime64\n",
    "                    month = '0' + month\n",
    "\n",
    "                if(len(day) != 2):          # ensures the day is formatted accordingly to satisfy np.datetime64\n",
    "                    day = '0' + day\n",
    "\n",
    "                if(np.ma.is_masked(data)):  # if the data is masked/null, set it to null for database storage purposes\n",
    "                    data = 'NULL'\n",
    "\n",
    "                storeData(db, x, y, year, month, day, hour, region, attr, data)"
   ]
  },
  {
   "cell_type": "code",
   "execution_count": null,
   "metadata": {},
   "outputs": [],
   "source": [
    "# loads the agriculture regions from the datbase (projection is EPSG:3347)\n",
    "def loadGeometry(conn: sq.engine.Connection) -> gpd.GeoDataFrame:\n",
    "    query = sq.text('select car_name, geometry FROM public.census_ag_regions')\n",
    "    agRegions = gpd.GeoDataFrame.from_postgis(query, conn, crs='EPSG:3347', geom_col='geometry')\n",
    "\n",
    "    return agRegions\n",
    "    "
   ]
  },
  {
   "cell_type": "code",
   "execution_count": null,
   "metadata": {},
   "outputs": [],
   "source": [
    "years = [str(year) for year in range(MIN_YEAR, MAX_YEAR + 1)]       # the year range we want to pull data from\n",
    "months = [str(month) for month in range(MIN_MONTH, MAX_MONTH + 1)]  # the month range we want to pull data from\n",
    "\n",
    "attrs = [                                                           # the attributes we want to pull data for\n",
    "    '2m_dewpoint_temperature', '2m_temperature', 'evaporation_from_bare_soil', 'skin_reservoir_content', 'skin_temperature',\n",
    "    'snowmelt', 'soil_temperature_level_1', 'soil_temperature_level_2', 'soil_temperature_level_3', 'soil_temperature_level_4',\n",
    "    'surface_net_solar_radiation', 'surface_pressure', 'volumetric_soil_water_layer_1', 'volumetric_soil_water_layer_2', \n",
    "    'volumetric_soil_water_layer_3', 'volumetric_soil_water_layer_4'\n",
    "]\n",
    "\n",
    "hours = [                                                           # the hours we want to pull data from\n",
    "    '00:00', '01:00', '02:00', '03:00', '04:00', '05:00', '06:00', '07:00', '08:00', '09:00', '10:00', '11:00','12:00', '13:00', \n",
    "    '14:00', '15:00', '16:00', '17:00', '18:00', '19:00', '20:00', '21:00', '22:00', '23:00'\n",
    "]\n",
    "\n",
    "\n",
    "conn = db.connect()             # connect to the database\n",
    "\n",
    "createTable(db)                 # check the tables, if necessary make a new table for the data\n",
    "agRegions = loadGeometry(conn)  # load the geometry from the database\n",
    "\n",
    "for year in years:\n",
    "    print(f'Pulling data for {year} ...')\n",
    "\n",
    "    for month in months:\n",
    "        numDays = calendar.monthrange(int(year), int(month))[1]\n",
    "        days = [str(day) for day in range(1, numDays + 1)]\n",
    "\n",
    "        for day in days:\n",
    "            for hour in hours:\n",
    "                for attr in attrs:\n",
    "                    c.retrieve(                     # downloads files with modularized data: individual year, month, day, hour, attribute\n",
    "                        'reanalysis-era5-land',\n",
    "                        {\n",
    "                            'format': 'grib',\n",
    "                            'variable': [attr],\n",
    "                            'year': year,\n",
    "                            'month': month,\n",
    "                            'day': [day],\n",
    "                            'time': [hour],\n",
    "                            'area': [61, -125, 48, -88],\n",
    "                        },\n",
    "                        'download.grib'\n",
    "                    )\n",
    "\n",
    "                    if attr == '2m_dewpoint_temperature' or attr == '2m_temperature':   # since columns cannot start with numeric values, remove them\n",
    "                        attr = attr[3:]\n",
    "\n",
    "                    # read the file, process it, close it, delete it then go onto the next set of data\n",
    "                    grbs = pygrib.open('download.grib')\n",
    "                    processFile(grbs, db, agRegions, year, month, day, hour, attr)\n",
    "                    grbs.close()\n",
    "                    os.remove('download.grib')\n",
    "\n",
    "print('[SUCCESS] data pulled successfully')\n",
    "db.cleanup()"
   ]
  }
 ],
 "metadata": {
  "kernelspec": {
   "display_name": "Python 3",
   "language": "python",
   "name": "python3"
  },
  "language_info": {
   "codemirror_mode": {
    "name": "ipython",
    "version": 3
   },
   "file_extension": ".py",
   "mimetype": "text/x-python",
   "name": "python",
   "nbconvert_exporter": "python",
   "pygments_lexer": "ipython3",
   "version": "3.8.10"
  },
  "orig_nbformat": 4
 },
 "nbformat": 4,
 "nbformat_minor": 2
}