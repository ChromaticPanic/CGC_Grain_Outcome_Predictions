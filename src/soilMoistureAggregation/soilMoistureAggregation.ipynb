{
 "cells": [
  {
   "cell_type": "code",
   "execution_count": null,
   "metadata": {},
   "outputs": [],
   "source": [
    "import os\n",
    "import xarray as xr\n",
    "import geopandas as gpd  # type: ignore\n",
    "\n",
    "from QueryHandler import QueryHandler\n",
    "from dotenv import load_dotenv\n",
    "import sqlalchemy as sq\n",
    "import sys\n",
    "import pandas as pd\n",
    "import matplotlib.pyplot as plt  # type: ignore\n",
    "\n",
    "sys.path.append(\"../\")\n",
    "from Shared.DataService import DataService"
   ]
  },
  {
   "cell_type": "code",
   "execution_count": null,
   "metadata": {},
   "outputs": [],
   "source": [
    "def updateLog(fileName: str, message: str) -> None:\n",
    "    try:\n",
    "        if fileName is not None:\n",
    "            with open(fileName, \"a\") as log:\n",
    "                log.write(message + \"\\n\")\n",
    "    except Exception as e:\n",
    "        print(message)"
   ]
  },
  {
   "cell_type": "code",
   "execution_count": null,
   "metadata": {},
   "outputs": [],
   "source": [
    "LOG_FILE = \"/data/pull_moisture.log\"\n",
    "\n",
    "load_dotenv()\n",
    "PG_USER = os.getenv(\"POSTGRES_USER\")\n",
    "PG_PW = os.getenv(\"POSTGRES_PW\")\n",
    "PG_DB = os.getenv(\"POSTGRES_DB\")\n",
    "PG_ADDR = os.getenv(\"POSTGRES_ADDR\")\n",
    "PG_PORT = os.getenv(\"POSTGRES_PORT\")"
   ]
  },
  {
   "cell_type": "code",
   "execution_count": null,
   "metadata": {},
   "outputs": [],
   "source": [
    "if (\n",
    "    PG_DB is None\n",
    "    or PG_ADDR is None\n",
    "    or PG_PORT is None\n",
    "    or PG_USER is None\n",
    "    or PG_PW is None\n",
    "):\n",
    "    updateLog(LOG_FILE, \"Missing database credentials\")\n",
    "    raise ValueError(\"Environment variables are not set\")\n",
    "else:\n",
    "    # connicting to database\n",
    "    db = DataService(PG_DB, PG_ADDR, int(PG_PORT), PG_USER, PG_PW)\n",
    "    conn = db.connect()"
   ]
  },
  {
   "cell_type": "code",
   "execution_count": null,
   "metadata": {},
   "outputs": [],
   "source": [
    "query = sq.text(\"select * FROM public.soil_moisture\")\n",
    "sm_df = pd.read_sql(query, conn)"
   ]
  },
  {
   "cell_type": "code",
   "execution_count": 6,
   "metadata": {},
   "outputs": [
    {
     "data": {
      "text/html": [
       "<div>\n",
       "<style scoped>\n",
       "    .dataframe tbody tr th:only-of-type {\n",
       "        vertical-align: middle;\n",
       "    }\n",
       "\n",
       "    .dataframe tbody tr th {\n",
       "        vertical-align: top;\n",
       "    }\n",
       "\n",
       "    .dataframe thead th {\n",
       "        text-align: right;\n",
       "    }\n",
       "</style>\n",
       "<table border=\"1\" class=\"dataframe\">\n",
       "  <thead>\n",
       "    <tr style=\"text-align: right;\">\n",
       "      <th></th>\n",
       "      <th>id</th>\n",
       "      <th>lon</th>\n",
       "      <th>lat</th>\n",
       "      <th>date</th>\n",
       "      <th>cr_num</th>\n",
       "      <th>car_uid</th>\n",
       "      <th>soil_moisture</th>\n",
       "    </tr>\n",
       "  </thead>\n",
       "  <tbody>\n",
       "    <tr>\n",
       "      <th>0</th>\n",
       "      <td>1</td>\n",
       "      <td>-117.625</td>\n",
       "      <td>59.875</td>\n",
       "      <td>1999-10-29</td>\n",
       "      <td>10</td>\n",
       "      <td>4870</td>\n",
       "      <td>0.229969</td>\n",
       "    </tr>\n",
       "    <tr>\n",
       "      <th>1</th>\n",
       "      <td>2</td>\n",
       "      <td>-117.375</td>\n",
       "      <td>59.875</td>\n",
       "      <td>1999-10-29</td>\n",
       "      <td>10</td>\n",
       "      <td>4870</td>\n",
       "      <td>0.277028</td>\n",
       "    </tr>\n",
       "    <tr>\n",
       "      <th>2</th>\n",
       "      <td>3</td>\n",
       "      <td>-117.125</td>\n",
       "      <td>59.875</td>\n",
       "      <td>1999-10-29</td>\n",
       "      <td>10</td>\n",
       "      <td>4870</td>\n",
       "      <td>0.253480</td>\n",
       "    </tr>\n",
       "    <tr>\n",
       "      <th>3</th>\n",
       "      <td>4</td>\n",
       "      <td>-116.875</td>\n",
       "      <td>59.875</td>\n",
       "      <td>1999-10-29</td>\n",
       "      <td>10</td>\n",
       "      <td>4870</td>\n",
       "      <td>0.201568</td>\n",
       "    </tr>\n",
       "    <tr>\n",
       "      <th>4</th>\n",
       "      <td>5</td>\n",
       "      <td>-116.625</td>\n",
       "      <td>59.875</td>\n",
       "      <td>1999-10-29</td>\n",
       "      <td>10</td>\n",
       "      <td>4870</td>\n",
       "      <td>0.216237</td>\n",
       "    </tr>\n",
       "    <tr>\n",
       "      <th>...</th>\n",
       "      <td>...</td>\n",
       "      <td>...</td>\n",
       "      <td>...</td>\n",
       "      <td>...</td>\n",
       "      <td>...</td>\n",
       "      <td>...</td>\n",
       "      <td>...</td>\n",
       "    </tr>\n",
       "    <tr>\n",
       "      <th>5240828</th>\n",
       "      <td>5240829</td>\n",
       "      <td>-98.375</td>\n",
       "      <td>49.125</td>\n",
       "      <td>1993-07-24</td>\n",
       "      <td>3</td>\n",
       "      <td>4608</td>\n",
       "      <td>0.205054</td>\n",
       "    </tr>\n",
       "    <tr>\n",
       "      <th>5240829</th>\n",
       "      <td>5240830</td>\n",
       "      <td>-98.125</td>\n",
       "      <td>49.125</td>\n",
       "      <td>1993-07-24</td>\n",
       "      <td>3</td>\n",
       "      <td>4608</td>\n",
       "      <td>0.185292</td>\n",
       "    </tr>\n",
       "    <tr>\n",
       "      <th>5240830</th>\n",
       "      <td>5240831</td>\n",
       "      <td>-97.875</td>\n",
       "      <td>49.125</td>\n",
       "      <td>1993-07-24</td>\n",
       "      <td>3</td>\n",
       "      <td>4608</td>\n",
       "      <td>0.173992</td>\n",
       "    </tr>\n",
       "    <tr>\n",
       "      <th>5240831</th>\n",
       "      <td>5240832</td>\n",
       "      <td>-97.625</td>\n",
       "      <td>49.125</td>\n",
       "      <td>1993-07-24</td>\n",
       "      <td>3</td>\n",
       "      <td>4608</td>\n",
       "      <td>0.194576</td>\n",
       "    </tr>\n",
       "    <tr>\n",
       "      <th>5240832</th>\n",
       "      <td>5240833</td>\n",
       "      <td>-95.875</td>\n",
       "      <td>49.125</td>\n",
       "      <td>1993-07-24</td>\n",
       "      <td>1</td>\n",
       "      <td>4610</td>\n",
       "      <td>0.235239</td>\n",
       "    </tr>\n",
       "  </tbody>\n",
       "</table>\n",
       "<p>5240833 rows × 7 columns</p>\n",
       "</div>"
      ],
      "text/plain": [
       "              id      lon     lat        date  cr_num  car_uid  soil_moisture\n",
       "0              1 -117.625  59.875  1999-10-29      10     4870       0.229969\n",
       "1              2 -117.375  59.875  1999-10-29      10     4870       0.277028\n",
       "2              3 -117.125  59.875  1999-10-29      10     4870       0.253480\n",
       "3              4 -116.875  59.875  1999-10-29      10     4870       0.201568\n",
       "4              5 -116.625  59.875  1999-10-29      10     4870       0.216237\n",
       "...          ...      ...     ...         ...     ...      ...            ...\n",
       "5240828  5240829  -98.375  49.125  1993-07-24       3     4608       0.205054\n",
       "5240829  5240830  -98.125  49.125  1993-07-24       3     4608       0.185292\n",
       "5240830  5240831  -97.875  49.125  1993-07-24       3     4608       0.173992\n",
       "5240831  5240832  -97.625  49.125  1993-07-24       3     4608       0.194576\n",
       "5240832  5240833  -95.875  49.125  1993-07-24       1     4610       0.235239\n",
       "\n",
       "[5240833 rows x 7 columns]"
      ]
     },
     "execution_count": 6,
     "metadata": {},
     "output_type": "execute_result"
    }
   ],
   "source": [
    "sm_df = (\n",
    "    sm_df.groupby([\"date\", \"cr_num\", \"car_uid\"])\n",
    "    .agg({\"soil_moisture\": [\"min\", \"max\", \"mean\"]})\n",
    "    .reset_index()\n",
    ")\n",
    "sm_df.columns = [  # type: ignore\n",
    "    \"date\",\n",
    "    \"cr_num\",\n",
    "    \"district\",\n",
    "    \"soil_moisture_min\",\n",
    "    \"soil_moisture_max\",\n",
    "    \"soil_moisture_mean\",\n",
    "]"
   ]
  },
  {
   "cell_type": "code",
   "execution_count": 8,
   "metadata": {},
   "outputs": [],
   "source": [
    "sm_df[\"date\"] = pd.to_datetime(sm_df[\"date\"])\n",
    "sm_df[\"day\"] = sm_df[\"date\"].dt.day\n",
    "sm_df[\"month\"] = sm_df[\"date\"].dt.month\n",
    "sm_df[\"year\"] = sm_df[\"date\"].dt.year"
   ]
  },
  {
   "cell_type": "code",
   "execution_count": 9,
   "metadata": {},
   "outputs": [],
   "source": [
    "sm_df.drop(columns=\"date\", inplace=True)"
   ]
  },
  {
   "cell_type": "code",
   "execution_count": null,
   "metadata": {},
   "outputs": [],
   "source": [
    "sm_df = sm_df.reindex(\n",
    "    columns=[\n",
    "        \"year\",\n",
    "        \"month\",\n",
    "        \"day\",\n",
    "        \"cr_num\",\n",
    "        \"district\",\n",
    "        \"soil_moisture_min\",\n",
    "        \"soil_moisture_min\",\n",
    "        \"soil_moisture_min\",\n",
    "    ]\n",
    ")"
   ]
  },
  {
   "cell_type": "code",
   "execution_count": null,
   "metadata": {},
   "outputs": [],
   "source": [
    "sm_df[\"date\"] = pd.to_datetime(sm_df[\"date\"])\n",
    "sm_df[\"day\"] = sm_df[\"date\"].dt.day\n",
    "sm_df[\"month\"] = sm_df[\"date\"].dt.month\n",
    "sm_df[\"year\"] = sm_df[\"date\"].dt.year"
   ]
  },
  {
   "cell_type": "code",
   "execution_count": null,
   "metadata": {},
   "outputs": [],
   "source": [
    "sm_df.drop(columns=\"date\", inplace=True)"
   ]
  },
  {
   "cell_type": "code",
   "execution_count": null,
   "metadata": {},
   "outputs": [],
   "source": [
    "sm_df = sm_df.reindex(\n",
    "    columns=[\n",
    "        \"year\",\n",
    "        \"month\",\n",
    "        \"day\",\n",
    "        \"cr_num\",\n",
    "        \"district\",\n",
    "        \"soil_moisture_min\",\n",
    "        \"soil_moisture_min\",\n",
    "        \"soil_moisture_min\",\n",
    "    ]\n",
    ")"
   ]
  },
  {
   "cell_type": "code",
   "execution_count": null,
   "metadata": {},
   "outputs": [],
   "source": [
    "sm_df"
   ]
  },
  {
   "cell_type": "code",
   "execution_count": null,
   "metadata": {},
   "outputs": [],
   "source": [
    "# inserting in db\n",
    "TABLE = \"agg_soil_moisture\"\n",
    "queryHandler = QueryHandler()\n",
    "queryHandler.createAggSoilMoistureTableReq(db)"
   ]
  },
  {
   "cell_type": "code",
   "execution_count": null,
   "metadata": {},
   "outputs": [],
   "source": [
    "sm_df.to_sql(TABLE, conn, schema=\"public\", if_exists=\"replace\")"
   ]
  }
 ],
 "metadata": {
  "kernelspec": {
   "display_name": "Python 3",
   "language": "python",
   "name": "python3"
  },
  "language_info": {
   "codemirror_mode": {
    "name": "ipython",
    "version": 3
   },
   "file_extension": ".py",
   "mimetype": "text/x-python",
   "name": "python",
   "nbconvert_exporter": "python",
   "pygments_lexer": "ipython3",
   "version": "3.10.6"
  },
  "orig_nbformat": 4,
  "vscode": {
   "interpreter": {
    "hash": "e7370f93d1d0cde622a1f8e1c04877d8463912d04d973331ad4851f04de6915a"
   }
  }
 },
 "nbformat": 4,
 "nbformat_minor": 2
}
