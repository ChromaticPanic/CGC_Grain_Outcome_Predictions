{
 "cells": [
  {
   "cell_type": "code",
   "execution_count": null,
   "metadata": {},
   "outputs": [],
   "source": [
    "import os, sys\n",
    "import pandas as pd\n",
    "import geopandas as gpd\n",
    "from dotenv import load_dotenv\n",
    "\n",
    "sys.path.append('../')\n",
    "from DataService import DataService"
   ]
  },
  {
   "cell_type": "code",
   "execution_count": null,
   "metadata": {},
   "outputs": [],
   "source": [
    "SOIL_TABLE = 'soil_map'\n",
    "CMP_SOIL_TABLE = 'soil_cmp'\n",
    "CRT_SOIL_TABLE = 'soil_crt'\n",
    "EFT_SOIL_TABLE = 'soil_eft'\n",
    "LAT_SOIL_TABLE = 'soil_lat'\n",
    "LDT_SOIL_TABLE = 'soil_ldt'\n",
    "LET_SOIL_TABLE = 'soil_let'\n",
    "LST_SOIL_TABLE = 'soil_lst'\n",
    "MB_SOIL_TABLE = 'mb_soil_data'\n",
    "AB_SOIL_TABLE = 'ab_soil_data'\n",
    "SK_SOIL_TABLE = 'sk_soil_data'\n",
    "\n",
    "load_dotenv()\n",
    "PG_DB = os.getenv('POSTGRES_DB')\n",
    "PG_ADDR = os.getenv('POSTGRES_ADDR')\n",
    "PG_PORT = os.getenv('POSTGRES_PORT')\n",
    "PG_USER = os.getenv('POSTGRES_USER')\n",
    "PG_PW = os.getenv('POSTGRES_PW')"
   ]
  },
  {
   "cell_type": "code",
   "execution_count": null,
   "metadata": {},
   "outputs": [],
   "source": [
    "db = DataService(PG_DB, PG_ADDR, PG_PORT, PG_USER, PG_PW)\n",
    "conn = db.connect()"
   ]
  },
  {
   "cell_type": "code",
   "execution_count": null,
   "metadata": {},
   "outputs": [],
   "source": [
    "soilMapFile = \"data/ca_all_slc_v3r2.shp\"\n",
    "soilMap = gpd.read_file(soilMapFile, encoding='utf-8')\n",
    "soilMap = soilMap.set_crs(crs='EPSG:4326', allow_override=True)\n",
    "soilMap = soilMap.to_crs(crs='EPSG:3347')\n",
    "\n",
    "file = \"data/ca_all_slc_v3r2_cmp.dbf\"\n",
    "cmp = gpd.read_file(file, encoding='utf-8')\n",
    "cmp = pd.DataFrame(cmp.drop(columns='geometry'))\n",
    "\n",
    "file = \"data/ca_all_slc_v3r2_crt.dbf\"\n",
    "crt = gpd.read_file(file, encoding='utf-8')\n",
    "crt = pd.DataFrame(crt.drop(columns='geometry'))\n",
    "\n",
    "file = \"data/ca_all_slc_v3r2_eft.dbf\"\n",
    "eft = gpd.read_file(file, encoding='utf-8')\n",
    "eft = pd.DataFrame(eft.drop(columns='geometry'))\n",
    "\n",
    "file = \"data/ca_all_slc_v3r2_lat.dbf\"\n",
    "lat = gpd.read_file(file, encoding='utf-8')\n",
    "lat = pd.DataFrame(lat.drop(columns='geometry'))\n",
    "\n",
    "file = \"data/ca_all_slc_v3r2_ldt.dbf\"\n",
    "ldt = gpd.read_file(file, encoding='utf-8')\n",
    "ldt = pd.DataFrame(ldt.drop(columns='geometry'))\n",
    "\n",
    "file = \"data/ca_all_slc_v3r2_let.dbf\"\n",
    "let = gpd.read_file(file, encoding='utf-8')\n",
    "let = pd.DataFrame(let.drop(columns='geometry'))\n",
    "\n",
    "file = \"data/ca_all_slc_v3r2_lst.dbf\"\n",
    "lst = gpd.read_file(file, encoding='utf-8')\n",
    "lst = pd.DataFrame(lst.drop(columns='geometry'))\n",
    "\n",
    "file = \"data/soil_name_mb_v2r20130705.dbf\"\n",
    "mbSoil = gpd.read_file(file, encoding='utf-8')\n",
    "mbSoil = pd.DataFrame(mbSoil.drop(columns='geometry'))\n",
    "\n",
    "file = \"data/soil_name_ab_v2r20140529.dbf\"\n",
    "abSoil = gpd.read_file(file, encoding='utf-8')\n",
    "abSoil = pd.DataFrame(abSoil.drop(columns='geometry'))\n",
    "\n",
    "file = \"data/soil_name_sk_v2r20130705.dbf\"\n",
    "skSoil = gpd.read_file(file, encoding='utf-8')\n",
    "skSoil = pd.DataFrame(skSoil.drop(columns='geometry'))"
   ]
  },
  {
   "cell_type": "code",
   "execution_count": null,
   "metadata": {},
   "outputs": [],
   "source": [
    "soilMap.to_postgis(SOIL_TABLE, conn, index=False, if_exists='replace')\n",
    "\n",
    "cmp.to_sql(CMP_SOIL_TABLE, conn, schema='public', if_exists=\"append\", index=False)\n",
    "crt.to_sql(CRT_SOIL_TABLE, conn, schema='public', if_exists=\"append\", index=False)\n",
    "eft.to_sql(EFT_SOIL_TABLE, conn, schema='public', if_exists=\"append\", index=False)\n",
    "lat.to_sql(LAT_SOIL_TABLE, conn, schema='public', if_exists=\"append\", index=False)\n",
    "ldt.to_sql(LDT_SOIL_TABLE, conn, schema='public', if_exists=\"append\", index=False)\n",
    "let.to_sql(LET_SOIL_TABLE, conn, schema='public', if_exists=\"append\", index=False)\n",
    "lst.to_sql(LST_SOIL_TABLE, conn, schema='public', if_exists=\"append\", index=False)\n",
    "\n",
    "mbSoil.to_sql(MB_SOIL_TABLE, conn, schema='public', if_exists=\"append\", index=False)\n",
    "abSoil.to_sql(AB_SOIL_TABLE, conn, schema='public', if_exists=\"append\", index=False)\n",
    "skSoil.to_sql(SK_SOIL_TABLE, conn, schema='public', if_exists=\"append\", index=False)"
   ]
  },
  {
   "cell_type": "code",
   "execution_count": null,
   "metadata": {},
   "outputs": [],
   "source": [
    "db.cleanup()"
   ]
  }
 ],
 "metadata": {
  "kernelspec": {
   "display_name": "env",
   "language": "python",
   "name": "python3"
  },
  "language_info": {
   "codemirror_mode": {
    "name": "ipython",
    "version": 3
   },
   "file_extension": ".py",
   "mimetype": "text/x-python",
   "name": "python",
   "nbconvert_exporter": "python",
   "pygments_lexer": "ipython3",
   "version": "3.8.0"
  },
  "orig_nbformat": 4
 },
 "nbformat": 4,
 "nbformat_minor": 2
}
