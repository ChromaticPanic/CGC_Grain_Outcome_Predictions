{
 "cells": [
  {
   "cell_type": "code",
   "execution_count": null,
   "metadata": {},
   "outputs": [],
   "source": [
    "from matplotlib import pyplot as plt  # type: ignore\n",
    "from colorhash import ColorHash  # type: ignore\n",
    "import sqlalchemy as sq\n",
    "import geopandas as gpd  # type: ignore\n",
    "import pandas as pd  # type: ignore\n",
    "from dotenv import load_dotenv\n",
    "import os, sys\n",
    "\n",
    "sys.path.append(\"../\")\n",
    "from Shared.DataService import DataService  # type: ignore"
   ]
  },
  {
   "cell_type": "code",
   "execution_count": null,
   "metadata": {},
   "outputs": [],
   "source": [
    "TABLENAME = \"labeled_soil\"\n",
    "\n",
    "load_dotenv()\n",
    "PG_DB = os.getenv(\"POSTGRES_DB\")\n",
    "PG_ADDR = os.getenv(\"POSTGRES_ADDR\")\n",
    "PG_PORT = os.getenv(\"POSTGRES_PORT\")\n",
    "PG_USER = os.getenv(\"POSTGRES_USER\")\n",
    "PG_PW = os.getenv(\"POSTGRES_PW\")"
   ]
  },
  {
   "cell_type": "code",
   "execution_count": null,
   "metadata": {},
   "outputs": [],
   "source": [
    "db = DataService(PG_DB, PG_ADDR, PG_PORT, PG_USER, PG_PW)\n",
    "conn = db.connect()"
   ]
  },
  {
   "cell_type": "code",
   "execution_count": null,
   "metadata": {},
   "outputs": [],
   "source": [
    "# load the boundaries for the agriculture regions\n",
    "query = sq.text(\"select cr_num, car_uid, geometry FROM public.census_ag_regions\")  # type: ignore\n",
    "agRegions = gpd.GeoDataFrame.from_postgis(query, conn, crs=\"EPSG:3347\", geom_col=\"geometry\")  # type: ignore"
   ]
  },
  {
   "cell_type": "code",
   "execution_count": null,
   "metadata": {},
   "outputs": [],
   "source": [
    "# load the polygon components\n",
    "query = pd.read_sql_query(\"select soil_id, poly_id FROM public.soil_components\", conn)\n",
    "components = pd.DataFrame(query, columns=[\"soil_id\", \"poly_id\"])\n",
    "components = components.groupby(\"poly_id\")[\"soil_id\"].apply(set)"
   ]
  },
  {
   "cell_type": "code",
   "execution_count": null,
   "metadata": {},
   "outputs": [],
   "source": [
    "# load the boundaries for the polygons\n",
    "query = sq.text(\"select poly_id, geometry FROM public.soil_geometry\")\n",
    "soilRegions = gpd.GeoDataFrame.from_postgis(\n",
    "    query, conn, crs=\"EPSG:3347\", geom_col=\"geometry\"\n",
    ")"
   ]
  },
  {
   "cell_type": "code",
   "execution_count": null,
   "metadata": {},
   "outputs": [],
   "source": [
    "# merge the components and the soil boundaries into one\n",
    "regionsAndComponents = soilRegions.merge(components, on=\"poly_id\")"
   ]
  },
  {
   "cell_type": "code",
   "execution_count": null,
   "metadata": {},
   "outputs": [],
   "source": [
    "# join the the newly merged soil dataframe with the agriculture boundaries\n",
    "soil = gpd.sjoin(regionsAndComponents, agRegions, how=\"left\", predicate=\"intersects\")\n",
    "soil = soil[soil[\"cr_num\"].notna()]  # Take rows that are valid numbers\n",
    "soil.drop(columns=[\"index_right\"], inplace=True)\n",
    "soil = soil.reset_index()"
   ]
  },
  {
   "cell_type": "code",
   "execution_count": null,
   "metadata": {},
   "outputs": [],
   "source": [
    "soil.drop(columns=[\"index\"], inplace=True)\n",
    "soil = soil.reset_index()"
   ]
  },
  {
   "cell_type": "code",
   "execution_count": null,
   "metadata": {},
   "outputs": [],
   "source": [
    "soil.plot()"
   ]
  },
  {
   "cell_type": "code",
   "execution_count": null,
   "metadata": {},
   "outputs": [],
   "source": [
    "# reload each set as a list by ordering their contents\n",
    "listOfSoilIDs = []\n",
    "\n",
    "for index, row in soil.iterrows():\n",
    "    listOfSoilIDs.append(sorted(row[\"soil_id\"]))\n",
    "\n",
    "soil[\"soil_id\"] = listOfSoilIDs"
   ]
  },
  {
   "cell_type": "code",
   "execution_count": null,
   "metadata": {},
   "outputs": [],
   "source": [
    "# hash each set of soil to create a consistant color scheme for similar soil typings\n",
    "colors = []\n",
    "\n",
    "for index in range(len(soil.index)):\n",
    "    value = soil.iloc[index][\"poly_id\"]\n",
    "    colors.append(ColorHash(str(value)).hex)\n",
    "\n",
    "soil[\"color\"] = colors"
   ]
  },
  {
   "cell_type": "code",
   "execution_count": null,
   "metadata": {},
   "outputs": [],
   "source": [
    "minx, miny, maxx, maxy = soil.total_bounds\n",
    "fig, ax = plt.subplots(figsize=(13, 13))\n",
    "ax.set_ylim(miny, maxy)\n",
    "soil.plot(ax=ax, color=soil[\"color\"])\n",
    "agRegions.geometry.boundary.plot(color=None, edgecolor=\"k\", linewidth=2, ax=ax)\n",
    "\n",
    "plt.show()"
   ]
  },
  {
   "cell_type": "code",
   "execution_count": null,
   "metadata": {},
   "outputs": [],
   "source": [
    "# prepare the data for database storage\n",
    "labeledSoil = pd.DataFrame(soil.drop(columns=[\"geometry\", \"color\"]))\n",
    "\n",
    "labeledSoil.rename(columns={labeledSoil.columns[0]: \"id\"}, inplace=True)\n",
    "labeledSoil.rename(columns={labeledSoil.columns[2]: \"soil_ids\"}, inplace=True)"
   ]
  },
  {
   "cell_type": "code",
   "execution_count": null,
   "metadata": {},
   "outputs": [],
   "source": [
    "labeledSoil"
   ]
  },
  {
   "cell_type": "code",
   "execution_count": null,
   "metadata": {},
   "outputs": [],
   "source": [
    "labeledSoil.to_sql(TABLENAME, conn, schema=\"public\", if_exists=\"append\", index=False)"
   ]
  },
  {
   "cell_type": "code",
   "execution_count": null,
   "metadata": {},
   "outputs": [],
   "source": [
    "db.cleanup()"
   ]
  }
 ],
 "metadata": {
  "kernelspec": {
   "display_name": "env",
   "language": "python",
   "name": "python3"
  },
  "language_info": {
   "codemirror_mode": {
    "name": "ipython",
    "version": 3
   },
   "file_extension": ".py",
   "mimetype": "text/x-python",
   "name": "python",
   "nbconvert_exporter": "python",
   "pygments_lexer": "ipython3",
   "version": "3.8.0"
  },
  "orig_nbformat": 4
 },
 "nbformat": 4,
 "nbformat_minor": 2
}
