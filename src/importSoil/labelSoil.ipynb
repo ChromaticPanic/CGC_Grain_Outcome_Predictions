{
 "cells": [
  {
   "cell_type": "code",
   "execution_count": null,
   "metadata": {},
   "outputs": [],
   "source": [
    "from matplotlib import pyplot as plt\n",
    "from colorhash import ColorHash\n",
    "import sqlalchemy as sq\n",
    "import geopandas as gpd\n",
    "import pandas as pd\n",
    "from dotenv import load_dotenv\n",
    "import os, sys\n",
    "\n",
    "sys.path.append('../')\n",
    "from DataService import DataService"
   ]
  },
  {
   "cell_type": "code",
   "execution_count": null,
   "metadata": {},
   "outputs": [],
   "source": [
    "TABLENAME = 'labeled_soil'\n",
    "\n",
    "load_dotenv()\n",
    "PG_DB = os.getenv('POSTGRES_DB')\n",
    "PG_ADDR = os.getenv('POSTGRES_ADDR')\n",
    "PG_PORT = os.getenv('POSTGRES_PORT')\n",
    "PG_USER = os.getenv('POSTGRES_USER')\n",
    "PG_PW = os.getenv('POSTGRES_PW')"
   ]
  },
  {
   "cell_type": "code",
   "execution_count": null,
   "metadata": {},
   "outputs": [],
   "source": [
    "db = DataService(PG_DB, PG_ADDR, PG_PORT, PG_USER, PG_PW)\n",
    "conn = db.connect()"
   ]
  },
  {
   "cell_type": "code",
   "execution_count": null,
   "metadata": {},
   "outputs": [],
   "source": [
    "# load the boundaries for the agriculture regions\n",
    "query = sq.text('select cr_num, car_uid, geometry FROM public.census_ag_regions')\n",
    "agRegions = gpd.GeoDataFrame.from_postgis(query, conn, crs='EPSG:3347', geom_col='geometry')"
   ]
  },
  {
   "cell_type": "code",
   "execution_count": null,
   "metadata": {},
   "outputs": [],
   "source": [
    "# load the polygon components\n",
    "query = pd.read_sql_query('select \"SOIL_ID\", \"POLY_ID\" FROM public.soil_cmp', conn)\n",
    "components = pd.DataFrame(query, columns=['SOIL_ID', 'POLY_ID'])\n",
    "components = components.groupby('POLY_ID')['SOIL_ID'].apply(set)"
   ]
  },
  {
   "cell_type": "code",
   "execution_count": null,
   "metadata": {},
   "outputs": [],
   "source": [
    "# load the boundaries for the polygons\n",
    "query = sq.text('select \"POLY_ID\", geometry FROM public.soil_map')\n",
    "soilRegions = gpd.GeoDataFrame.from_postgis(query, conn, crs='EPSG:3347', geom_col='geometry')"
   ]
  },
  {
   "cell_type": "code",
   "execution_count": null,
   "metadata": {},
   "outputs": [],
   "source": [
    "# merge the components and the soil boundaries into one \n",
    "regionsAndComponents = soilRegions.merge(components, on='POLY_ID')"
   ]
  },
  {
   "cell_type": "code",
   "execution_count": null,
   "metadata": {},
   "outputs": [],
   "source": [
    "# join the the newly merged soil dataframe with the agriculture boundaries\n",
    "soil = gpd.sjoin(regionsAndComponents, agRegions, how='left', predicate='intersects')    \n",
    "soil = soil[soil['cr_num'].notna()]                                     # Take rows that are valid numbers\n",
    "soil.drop(columns=['index_right'], inplace=True)\n",
    "soil = soil.reset_index()"
   ]
  },
  {
   "cell_type": "code",
   "execution_count": null,
   "metadata": {},
   "outputs": [],
   "source": [
    "soil.drop(columns=['index'], inplace=True)\n",
    "soil = soil.reset_index()"
   ]
  },
  {
   "cell_type": "code",
   "execution_count": null,
   "metadata": {},
   "outputs": [],
   "source": [
    "soil.plot()"
   ]
  },
  {
   "cell_type": "code",
   "execution_count": null,
   "metadata": {},
   "outputs": [],
   "source": [
    "# hash each set of soil to create a consistant color scheme for similar soil typings\n",
    "colors = []\n",
    "\n",
    "for index in range(len(soil.index)):\n",
    "    value = soil.iloc[index]['SOIL_ID']\n",
    "    colors.append(ColorHash(str(value)).hex)\n",
    "\n",
    "soil['color'] = colors"
   ]
  },
  {
   "cell_type": "code",
   "execution_count": null,
   "metadata": {},
   "outputs": [],
   "source": [
    "soil"
   ]
  },
  {
   "cell_type": "code",
   "execution_count": null,
   "metadata": {},
   "outputs": [],
   "source": [
    "minx, miny, maxx, maxy = soil.total_bounds\n",
    "fig, ax = plt.subplots(figsize=(13, 13))\n",
    "ax.set_ylim(miny, maxy)\n",
    "soil.plot(ax=ax, color=soil['color'])\n",
    "agRegions.geometry.boundary.plot(color=None,edgecolor='k',linewidth = 2,ax=ax)\n",
    "\n",
    "plt.show()"
   ]
  },
  {
   "cell_type": "code",
   "execution_count": null,
   "metadata": {},
   "outputs": [],
   "source": [
    "# prepare the data for database storage\n",
    "labeledSoil = pd.DataFrame(soil.drop(columns=['geometry', 'color']))\n",
    "\n",
    "labeledSoil.rename(columns={labeledSoil.columns[0]: 'id'}, inplace=True)\n",
    "labeledSoil.rename(columns={labeledSoil.columns[1]: 'poly_id'}, inplace=True)\n",
    "labeledSoil.rename(columns={labeledSoil.columns[2]: 'soil_ids'}, inplace=True)"
   ]
  },
  {
   "cell_type": "code",
   "execution_count": null,
   "metadata": {},
   "outputs": [],
   "source": [
    "listOfSoilIDs = []\n",
    "\n",
    "for index, row in labeledSoil.iterrows():\n",
    "    listOfSoilIDs.append(list(row['soil_ids']))\n",
    "\n",
    "labeledSoil['soil_ids'] = listOfSoilIDs"
   ]
  },
  {
   "cell_type": "code",
   "execution_count": null,
   "metadata": {},
   "outputs": [],
   "source": [
    "labeledSoil.to_sql(TABLENAME, conn, schema='public', if_exists=\"append\", index=False)"
   ]
  },
  {
   "cell_type": "code",
   "execution_count": null,
   "metadata": {},
   "outputs": [],
   "source": [
    "db.cleanup()"
   ]
  }
 ],
 "metadata": {
  "kernelspec": {
   "display_name": "env",
   "language": "python",
   "name": "python3"
  },
  "language_info": {
   "codemirror_mode": {
    "name": "ipython",
    "version": 3
   },
   "file_extension": ".py",
   "mimetype": "text/x-python",
   "name": "python",
   "nbconvert_exporter": "python",
   "pygments_lexer": "ipython3",
   "version": "3.8.0"
  },
  "orig_nbformat": 4
 },
 "nbformat": 4,
 "nbformat_minor": 2
}
