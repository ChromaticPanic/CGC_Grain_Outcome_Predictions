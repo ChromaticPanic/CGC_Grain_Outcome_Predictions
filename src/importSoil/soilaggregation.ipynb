{
 "cells": [
  {
   "cell_type": "code",
   "execution_count": null,
   "metadata": {},
   "outputs": [],
   "source": [
    "import os\n",
    "import xarray as xr\n",
    "import geopandas as gpd  # type: ignore\n",
    "\n",
    "from dotenv import load_dotenv\n",
    "import sqlalchemy as sq\n",
    "import sys\n",
    "import pandas as pd\n",
    "import matplotlib.pyplot as plt  # type: ignore\n",
    "\n",
    "sys.path.append(\"../\")\n",
    "from Shared.DataService import DataService"
   ]
  },
  {
   "cell_type": "code",
   "execution_count": null,
   "metadata": {},
   "outputs": [],
   "source": [
    "SOIL_GEOM_TABLE = \"soil_geometry\"\n",
    "SOIL_COMP_TABLE = \"soil_components\"\n",
    "SOIL_SURRONDINGS_TABLE = \"soil_surronding_land\"\n",
    "SOIL_DATA_TABLE = \"soil_data\"\n",
    "\n",
    "load_dotenv()\n",
    "PG_DB = os.getenv(\"POSTGRES_DB\")\n",
    "PG_ADDR = os.getenv(\"POSTGRES_ADDR\")\n",
    "PG_PORT = os.getenv(\"POSTGRES_PORT\")\n",
    "PG_USER = os.getenv(\"POSTGRES_USER\")\n",
    "PG_PW = os.getenv(\"POSTGRES_PW\")"
   ]
  },
  {
   "cell_type": "code",
   "execution_count": null,
   "metadata": {},
   "outputs": [],
   "source": [
    "db = DataService(PG_DB, PG_ADDR, int(PG_PORT), PG_USER, PG_PW)\n",
    "conn = db.connect()"
   ]
  },
  {
   "cell_type": "code",
   "execution_count": null,
   "metadata": {},
   "outputs": [],
   "source": [
    "def pullSoilData(conn):\n",
    "    query = sq.text(\"select * FROM public.soil_data\")\n",
    "    soil_data = pd.read_sql(query, conn)\n",
    "    soil_data = soil_data[\n",
    "        [\n",
    "            \"id\",\n",
    "            \"province\",\n",
    "            \"kind\",\n",
    "            \"name\",\n",
    "            \"water_table\",\n",
    "            \"root_restrict\",\n",
    "            \"drainage\",\n",
    "            \"parent_material_texture_1\",\n",
    "            \"parent_material_chemical_1\",\n",
    "            \"mode_of_depo_1\",\n",
    "            \"percnt_coarse_frag\",\n",
    "            \"sand_texture\",\n",
    "            \"total_sand\",\n",
    "            \"total_silt\",\n",
    "            \"total_clay\",\n",
    "            \"percnt_carbon\",\n",
    "            \"calcium_ph\",\n",
    "            \"proj_ph\",\n",
    "            \"water_reten_0\",\n",
    "            \"water_reten_10\",\n",
    "            \"water_reten_33\",\n",
    "            \"water_reten_1500\",\n",
    "            \"bulk_density\",\n",
    "            \"elec_cond\",\n",
    "            \"percnt_wood\",\n",
    "        ]\n",
    "    ]\n",
    "    soil_data.rename(columns={\"id\": \"soil_id\"}, inplace=True)\n",
    "    return soil_data"
   ]
  },
  {
   "cell_type": "code",
   "execution_count": null,
   "metadata": {},
   "outputs": [],
   "source": [
    "def pullSurroundingSoil(conn):\n",
    "    query = sq.text(\"select * FROM public.soil_surronding_land\")\n",
    "    surronding_soil = pd.read_sql(query, conn)\n",
    "    surronding_soil = surronding_soil[[\"poly_id\", \"land_area\", \"water_area\"]]\n",
    "    return surronding_soil"
   ]
  },
  {
   "cell_type": "code",
   "execution_count": null,
   "metadata": {},
   "outputs": [],
   "source": [
    "def pullSoilComponents(conn):\n",
    "    query = sq.text(\"select * FROM public.soil_components\")\n",
    "    soil_components = pd.read_sql(query, conn)\n",
    "    soil_components = soil_components[\n",
    "        [\n",
    "            \"poly_id\",\n",
    "            \"cmp\",\n",
    "            \"percent\",\n",
    "            \"province\",\n",
    "            \"profile\",\n",
    "            \"soil_id\",\n",
    "            \"water_holding_cap\",\n",
    "        ]\n",
    "    ]\n",
    "    return soil_components"
   ]
  },
  {
   "cell_type": "code",
   "execution_count": null,
   "metadata": {},
   "outputs": [],
   "source": [
    "def pullSoilGeometry(conn):\n",
    "    # load the boundaries for the agriculture regions\n",
    "    query = sq.text(\"select district, geometry FROM public.census_ag_regions\")  # type: ignore\n",
    "    agRegions = gpd.GeoDataFrame.from_postgis(query, conn, crs=\"EPSG:3347\", geom_col=\"geometry\")  # type: ignore\n",
    "\n",
    "    query = sq.text(\"select * FROM public.soil_geometry\")\n",
    "    soilRegions = gpd.GeoDataFrame.from_postgis(\n",
    "        query, conn, crs=\"EPSG:3347\", geom_col=\"geometry\"\n",
    "    )\n",
    "\n",
    "    # Join to add district to df\n",
    "    soil_geometry = gpd.sjoin(soilRegions, agRegions, how=\"inner\", op=\"intersects\")\n",
    "    soil_geometry.drop(columns=[\"geometry\", \"index_right\"], inplace=True)\n",
    "    soil_geometry = pd.DataFrame(soil_geometry)\n",
    "    return soil_geometry"
   ]
  },
  {
   "cell_type": "code",
   "execution_count": null,
   "metadata": {},
   "outputs": [],
   "source": [
    "def getMergedf(soil_data, surronding_soil, soil_components, soil_geometry):\n",
    "    # Commands to join tables\n",
    "    merge_df = soil_components.merge(soil_data, on=[\"soil_id\", \"province\"], how=\"inner\")\n",
    "    merge_df = merge_df.merge(surronding_soil, on=\"poly_id\", how=\"inner\")\n",
    "    merge_df = merge_df.merge(soil_geometry, on=\"poly_id\", how=\"inner\")\n",
    "\n",
    "    #  Commands to remove duplicates\n",
    "    merge_df.duplicated().sum()\n",
    "    merge_df = merge_df.drop_duplicates()\n",
    "\n",
    "    # Commands to change attributes which are object types\n",
    "    merge_df = pd.get_dummies(\n",
    "        merge_df,\n",
    "        columns=[\n",
    "            \"profile\",\n",
    "            \"kind\",\n",
    "            \"water_table\",\n",
    "            \"root_restrict\",\n",
    "            \"drainage\",\n",
    "            \"parent_material_texture_1\",\n",
    "            \"parent_material_chemical_1\",\n",
    "            \"mode_of_depo_1\",\n",
    "            \"sand_texture\",\n",
    "        ],\n",
    "    )\n",
    "    merge_df[\"water_holding_cap\"] = pd.to_numeric(\n",
    "        merge_df[\"water_holding_cap\"], errors=\"coerce\"\n",
    "    )\n",
    "\n",
    "    # Aggregate Data\n",
    "    merge_df.groupby([\"poly_id\", \"province\", \"soil_id\", \"name\"]).agg(\n",
    "        \"mean\"\n",
    "    ).reset_index()\n",
    "    return merge_df"
   ]
  },
  {
   "cell_type": "code",
   "execution_count": null,
   "metadata": {},
   "outputs": [],
   "source": [
    "def main():\n",
    "    if (\n",
    "        PG_DB is None\n",
    "        or PG_ADDR is None\n",
    "        or PG_PORT is None\n",
    "        or PG_USER is None\n",
    "        or PG_PW is None\n",
    "    ):\n",
    "        raise ValueError(\"Environment variables not set\")\n",
    "\n",
    "    db = DataService(PG_DB, PG_ADDR, PG_PORT, PG_USER, PG_PW)\n",
    "    conn = db.connect()\n",
    "\n",
    "    # get data\n",
    "    soil_data = pullSoilData(conn)\n",
    "    surronding_soil = pullSurroundingSoil(conn)\n",
    "    soil_components = pullSoilComponents(conn)\n",
    "    soil_geometry = pullSoilGeometry(conn)\n",
    "\n",
    "    # Merge data and aggregate them\n",
    "    merge_df = getMergedf(soil_data, surronding_soil, soil_components, soil_geometry)\n",
    "    TABLENAME = \"agg_soil_data\"\n",
    "\n",
    "    # Command to add to db\n",
    "    merge_df.tosql(TABLENAME, conn, schema=\"public\", if_exists=\"replace\", index=False)"
   ]
  },
  {
   "cell_type": "code",
   "execution_count": null,
   "metadata": {},
   "outputs": [],
   "source": [
    "if __name__ == \"__main__\":\n",
    "    main()"
   ]
  }
 ],
 "metadata": {
  "kernelspec": {
   "display_name": "Python 3",
   "language": "python",
   "name": "python3"
  },
  "language_info": {
   "codemirror_mode": {
    "name": "ipython",
    "version": 3
   },
   "file_extension": ".py",
   "mimetype": "text/x-python",
   "name": "python",
   "nbconvert_exporter": "python",
   "pygments_lexer": "ipython3",
   "version": "3.10.6"
  },
  "orig_nbformat": 4
 },
 "nbformat": 4,
 "nbformat_minor": 2
}
