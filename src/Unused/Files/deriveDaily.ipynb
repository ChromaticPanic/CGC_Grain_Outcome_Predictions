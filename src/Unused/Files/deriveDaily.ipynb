{
 "cells": [
  {
   "cell_type": "code",
   "execution_count": 10,
   "metadata": {},
   "outputs": [],
   "source": [
    "import os\n",
    "import sys\n",
    "import pandas as pd\n",
    "import geopandas as gpd\n",
    "import pygeos as pg\n",
    "import numpy as np\n",
    "import calendar\n",
    "from IPython.display import clear_output\n",
    "from matplotlib import pyplot as plt"
   ]
  },
  {
   "cell_type": "code",
   "execution_count": 11,
   "metadata": {},
   "outputs": [],
   "source": [
    "# The following lines adjust the granularity of reporting.\n",
    "pd.options.display.max_rows = 10\n",
    "pd.options.display.float_format = \"{:.1f}\".format\n",
    "pd.set_option(\"display.max_columns\", None)\n",
    "NULLFLAG = -9999"
   ]
  },
  {
   "cell_type": "code",
   "execution_count": 12,
   "metadata": {},
   "outputs": [],
   "source": [
    "def summaryDaily(df: pd.DataFrame) -> pd.DataFrame:\n",
    "    \"\"\"Returns new df with min max mean for each numeric column\"\"\"\n",
    "\n",
    "    result = df.groupby(\n",
    "        [\"ClimateID\", \"ProvinceCode\", \"Year\", \"Month\", \"Day\"], as_index=False\n",
    "    ).agg(\n",
    "        {\n",
    "            \"Temp\": [(\"MeanTemp\", \"mean\"), (\"MinTemp\", \"min\"), (\"MaxTemp\", \"max\")],\n",
    "            \"DewPointTemp\": [\n",
    "                (\"MeanDewPoint\", \"mean\"),\n",
    "                (\"MinDewPoint\", \"min\"),\n",
    "                (\"MaxDewPoint\", \"max\"),\n",
    "            ],\n",
    "            \"RelativeHumidity\": [\n",
    "                (\"MeanHumidity\", \"mean\"),\n",
    "                (\"MinHumidity\", \"min\"),\n",
    "                (\"MaxHumidity\", \"max\"),\n",
    "            ],\n",
    "            \"StationPressure\": [\n",
    "                (\"MeanPressure\", \"mean\"),\n",
    "                (\"MinPressure\", \"min\"),\n",
    "                (\"MaxPressure\", \"max\"),\n",
    "            ],\n",
    "            \"WindSpeed\": [\n",
    "                (\"MeanWindSpeed\", \"mean\"),\n",
    "                (\"MinWindSpeed\", \"min\"),\n",
    "                (\"MaxWindSpeed\", \"max\"),\n",
    "            ],\n",
    "            \"WindChill\": [\n",
    "                (\"MeanWindChill\", \"mean\"),\n",
    "                (\"MinWindChill\", \"min\"),\n",
    "                (\"MaxWindChill\", \"max\"),\n",
    "            ],\n",
    "            \"PrecipAmount\": [(\"TotalPrecip\", \"sum\")],\n",
    "            \"WindDirection\": [(\"MeanWindDirection\", \"mean\")],\n",
    "        }\n",
    "    )\n",
    "    # result.drop(columns=['Hour'], inplace=True)\n",
    "    return result"
   ]
  },
  {
   "cell_type": "code",
   "execution_count": 13,
   "metadata": {},
   "outputs": [],
   "source": [
    "# def cleanup(id: str, year: int, month: int, day: int, srcTable: str, destTable: str) -> None:\n",
    "def cleanup(df: pd.DataFrame) -> pd.DataFrame:\n",
    "    df.astype(\n",
    "        {\n",
    "            \"ClimateID\": \"str\",\n",
    "            \"ProvinceCode\": \"str\",\n",
    "            \"Year\": \"int\",\n",
    "            \"Month\": \"int\",\n",
    "            \"Day\": \"int\",\n",
    "            \"Hour\": \"int\",\n",
    "            \"Temp\": \"float\",\n",
    "            \"DewPointTemp\": \"float\",\n",
    "            \"PrecipAmount\": \"float\",\n",
    "            \"RelativeHumidity\": \"float\",\n",
    "            \"StationPressure\": \"float\",\n",
    "            \"WindChill\": \"float\",\n",
    "            \"WindDirection\": \"float\",\n",
    "            \"WindSpeed\": \"float\",\n",
    "        },\n",
    "        copy=False,\n",
    "    )\n",
    "\n",
    "    # Replace NULLFLAG values with mean for each column\n",
    "    df = df.replace(NULLFLAG, np.nan)\n",
    "    df = df.fillna(df.mean())\n",
    "\n",
    "    return df"
   ]
  },
  {
   "cell_type": "code",
   "execution_count": 14,
   "metadata": {},
   "outputs": [
    {
     "name": "stderr",
     "output_type": "stream",
     "text": [
      "w:\\Excel Tips and Macros\\ML\\env\\regions\\lib\\site-packages\\IPython\\core\\interactiveshell.py:3072: DtypeWarning: Columns (0) have mixed types. Specify dtype option on import or set low_memory=False.\n",
      "  interactivity=interactivity, compiler=compiler, result=result)\n"
     ]
    }
   ],
   "source": [
    "dfWeatherHourly = pd.read_csv(\"Data/WeatherData2020_2022_headers.csv\")"
   ]
  },
  {
   "cell_type": "code",
   "execution_count": 16,
   "metadata": {},
   "outputs": [
    {
     "name": "stdout",
     "output_type": "stream",
     "text": [
      "Processing ClimateID: 4012403\n",
      "Processed ClimateID: 4012403 for 2020\n"
     ]
    },
    {
     "ename": "SystemExit",
     "evalue": "0",
     "output_type": "error",
     "traceback": [
      "An exception has occurred, use %tb to see the full traceback.\n",
      "\u001b[1;31mSystemExit\u001b[0m\u001b[1;31m:\u001b[0m 0\n"
     ]
    },
    {
     "name": "stderr",
     "output_type": "stream",
     "text": [
      "w:\\Excel Tips and Macros\\ML\\env\\regions\\lib\\site-packages\\IPython\\core\\interactiveshell.py:3351: UserWarning: To exit: use 'exit', 'quit', or Ctrl-D.\n",
      "  warn(\"To exit: use 'exit', 'quit', or Ctrl-D.\", stacklevel=1)\n"
     ]
    }
   ],
   "source": [
    "dfIDs = dfWeatherHourly[[\"ClimateID\"]].drop_duplicates()\n",
    "# Replace NULLFLAG values with mean for each column\n",
    "for id in dfIDs[\"ClimateID\"]:\n",
    "    clear_output(wait=False)\n",
    "    print(\"Processing ClimateID: {}\".format(id))\n",
    "\n",
    "    # Iterate through days from 2009 to 2022\n",
    "    year = 2010\n",
    "    month = 1\n",
    "    for year in range(2020, 2023):\n",
    "        # first we check if the db has data for the year\n",
    "        dfYear = dfWeatherHourly[\n",
    "            (dfWeatherHourly[\"ClimateID\"] == id) & (dfWeatherHourly[\"Year\"] == year)\n",
    "        ]\n",
    "        if dfYear.empty:\n",
    "            continue\n",
    "\n",
    "        monthList = dfYear[\"Month\"].unique()\n",
    "        for month in monthList:\n",
    "            dfMonth = dfYear[dfYear[\"Month\"] == month]\n",
    "\n",
    "            dayList = dfMonth[\"Day\"].unique()\n",
    "            for day in dayList:\n",
    "                dfDay = dfMonth[dfMonth[\"Day\"] == day]\n",
    "\n",
    "                dfClean = cleanup(dfDay)\n",
    "\n",
    "                # Get df with min max mean for each numeric column\n",
    "                dfSummary = summaryDaily(dfClean)\n",
    "\n",
    "                # Update the databasegapeblastersupreme\n",
    "\n",
    "                dfSummary.to_csv(\n",
    "                    \"Data/WeatherDataAggDaily.csv\", mode=\"a\", header=False, index=False\n",
    "                )\n",
    "\n",
    "                print(\"Processed ClimateID: {} for {}\".format(id, year))\n",
    "                # sys.exit(0)"
   ]
  },
  {
   "cell_type": "code",
   "execution_count": null,
   "metadata": {},
   "outputs": [],
   "source": []
  }
 ],
 "metadata": {
  "kernelspec": {
   "display_name": "Python 3",
   "language": "python",
   "name": "python3"
  },
  "language_info": {
   "codemirror_mode": {
    "name": "ipython",
    "version": 3
   },
   "file_extension": ".py",
   "mimetype": "text/x-python",
   "name": "python",
   "nbconvert_exporter": "python",
   "pygments_lexer": "ipython3",
   "version": "3.6.13 |Anaconda, Inc.| (default, Mar 16 2021, 11:37:27) [MSC v.1916 64 bit (AMD64)]"
  },
  "orig_nbformat": 4,
  "vscode": {
   "interpreter": {
    "hash": "39a489a6e931c97c24d8f8a73784e66fe6a52a6fce441173d73484de0ea6d4c6"
   }
  }
 },
 "nbformat": 4,
 "nbformat_minor": 2
}
