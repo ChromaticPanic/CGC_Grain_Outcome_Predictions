{
 "cells": [
  {
   "cell_type": "code",
   "execution_count": null,
   "metadata": {},
   "outputs": [],
   "source": [
    "import sqlalchemy as sq\n",
    "import geopandas as gpd  # type: ignore\n",
    "import pandas as pd  # type: ignore\n",
    "from dotenv import load_dotenv\n",
    "import os, sys\n",
    "\n",
    "sys.path.append(\"../\")\n",
    "from Shared.DataService import DataService"
   ]
  },
  {
   "cell_type": "code",
   "execution_count": null,
   "metadata": {},
   "outputs": [],
   "source": [
    "TABLENAME = \"agg_ergot_sample\"\n",
    "\n",
    "load_dotenv()\n",
    "PG_DB = os.getenv(\"POSTGRES_DB\")\n",
    "PG_ADDR = os.getenv(\"POSTGRES_ADDR\")\n",
    "PG_PORT = os.getenv(\"POSTGRES_PORT\")\n",
    "PG_USER = os.getenv(\"POSTGRES_USER\")\n",
    "PG_PW = os.getenv(\"POSTGRES_PW\")"
   ]
  },
  {
   "cell_type": "code",
   "execution_count": null,
   "metadata": {},
   "outputs": [],
   "source": [
    "if (\n",
    "    PG_DB is None\n",
    "    or PG_ADDR is None\n",
    "    or PG_PORT is None\n",
    "    or PG_USER is None\n",
    "    or PG_PW is None\n",
    "):\n",
    "    raise ValueError(\"Environment variables not set\")\n",
    "\n",
    "db = DataService(PG_DB, PG_ADDR, int(PG_PORT), PG_USER, PG_PW)\n",
    "conn = db.connect()"
   ]
  },
  {
   "cell_type": "code",
   "execution_count": null,
   "metadata": {},
   "outputs": [],
   "source": [
    "regionQuery = sq.text(\"select car_uid, geometry FROM public.census_ag_regions\")\n",
    "agRegions = gpd.GeoDataFrame.from_postgis(\n",
    "    regionQuery, conn, crs=\"EPSG:3347\", geom_col=\"geometry\"\n",
    ")"
   ]
  },
  {
   "cell_type": "code",
   "execution_count": null,
   "metadata": {},
   "outputs": [],
   "source": [
    "ergotQuery = sq.text(\"SELECT * FROM public.ergot_sample\")\n",
    "ergot = pd.read_sql_query(ergotQuery, conn)"
   ]
  },
  {
   "cell_type": "code",
   "execution_count": null,
   "metadata": {},
   "outputs": [],
   "source": [
    "# calculate the car_uid\n",
    "ergot.loc[ergot[\"province\"] == \"MB\", \"car_uid\"] = (\n",
    "    ergot.loc[ergot[\"province\"] == \"MB\", \"crop_district\"] + 4600\n",
    ")\n",
    "ergot.loc[ergot[\"province\"] == \"SK\", \"car_uid\"] = (\n",
    "    ergot.loc[ergot[\"province\"] == \"SK\", \"crop_district\"] - 1\n",
    ") + 4700\n",
    "ergot.loc[ergot[\"province\"] == \"AB\", \"car_uid\"] = (\n",
    "    ergot.loc[ergot[\"province\"] == \"AB\", \"crop_district\"] * 10\n",
    ") + 4800\n",
    "\n",
    "ergot[[\"car_uid\"]] = ergot[[\"car_uid\"]].astype(int)"
   ]
  },
  {
   "cell_type": "code",
   "execution_count": null,
   "metadata": {},
   "outputs": [],
   "source": [
    "touches = {}\n",
    "\n",
    "for index1, agRegion1 in agRegions.iterrows():\n",
    "    currTouches = []\n",
    "\n",
    "    for index2, agRegion2 in agRegions.iterrows():\n",
    "        if agRegion1[\"geometry\"].touches(agRegion2[\"geometry\"]):\n",
    "            currTouches.append(agRegion2[\"car_uid\"])\n",
    "\n",
    "    touches[str(agRegion1[\"car_uid\"])] = currTouches"
   ]
  },
  {
   "cell_type": "code",
   "execution_count": null,
   "metadata": {},
   "outputs": [],
   "source": [
    "ergot[\"percnt_true\"] = None\n",
    "ergot[\"has_ergot\"] = False\n",
    "ergot[\"sum_severity\"] = 0\n",
    "\n",
    "ergot[\"present_prev1\"] = False\n",
    "ergot[\"present_prev2\"] = False\n",
    "ergot[\"present_prev3\"] = False\n",
    "ergot[\"present_in_neighbor\"] = False\n",
    "\n",
    "ergot[\"severity_prev1\"] = 0\n",
    "ergot[\"severity_prev2\"] = 0\n",
    "ergot[\"severity_prev3\"] = 0\n",
    "ergot[\"severity_in_neighbor\"] = 0"
   ]
  },
  {
   "cell_type": "code",
   "execution_count": null,
   "metadata": {},
   "outputs": [],
   "source": [
    "for year in ergot[\"year\"].unique():\n",
    "    for uid in ergot[\"car_uid\"].unique():\n",
    "        currSamples = ergot.query(\n",
    "            f\"year == {year} and car_uid == {uid}\"\n",
    "        )  # load the current ag_region samples\n",
    "        neighborSamples = ergot.query(\n",
    "            f\"year == {year} and car_uid in {touches[str(uid)]}\"\n",
    "        )  # load the neighbors samples\n",
    "        prev1Year = ergot.query(\n",
    "            f\"year == {year - 1} and car_uid == {uid}\"\n",
    "        )  # load last years samples\n",
    "        prev2Year = ergot.query(\n",
    "            f\"year == {year - 2} and car_uid == {uid}\"\n",
    "        )  # load the samples from 2 years ago\n",
    "        prev3Year = ergot.query(\n",
    "            f\"year == {year - 3} and car_uid == {uid}\"\n",
    "        )  # load the samples from 3 years ago\n",
    "\n",
    "        ergot.loc[\n",
    "            (ergot[\"year\"] == year) & (ergot[\"car_uid\"] == uid), \"percnt_true\"\n",
    "        ] = currSamples[\"incidence\"].sum() / len(currSamples.index)\n",
    "        ergot.loc[(ergot[\"year\"] == year) & (ergot[\"car_uid\"] == uid), \"has_ergot\"] = (\n",
    "            currSamples[\"incidence\"].sum() > 0\n",
    "        )\n",
    "        ergot.loc[\n",
    "            (ergot[\"year\"] == year) & (ergot[\"car_uid\"] == uid), \"sum_severity\"\n",
    "        ] = currSamples[\"severity\"].sum()\n",
    "\n",
    "        ergot.loc[\n",
    "            (ergot[\"year\"] == year) & (ergot[\"car_uid\"] == uid), \"present_prev1\"\n",
    "        ] = (prev1Year[\"incidence\"].sum() > 0)\n",
    "        ergot.loc[\n",
    "            (ergot[\"year\"] == year) & (ergot[\"car_uid\"] == uid), \"present_prev2\"\n",
    "        ] = (prev2Year[\"incidence\"].sum() > 0)\n",
    "        ergot.loc[\n",
    "            (ergot[\"year\"] == year) & (ergot[\"car_uid\"] == uid), \"present_prev3\"\n",
    "        ] = (prev3Year[\"incidence\"].sum() > 0)\n",
    "        ergot.loc[\n",
    "            (ergot[\"year\"] == year) & (ergot[\"car_uid\"] == uid), \"present_in_neighbor\"\n",
    "        ] = (neighborSamples[\"incidence\"].sum() > 0)\n",
    "\n",
    "        ergot.loc[\n",
    "            (ergot[\"year\"] == year) & (ergot[\"car_uid\"] == uid), \"severity_prev1\"\n",
    "        ] = prev1Year[\"incidence\"].sum() / len(prev1Year.index)\n",
    "        ergot.loc[\n",
    "            (ergot[\"year\"] == year) & (ergot[\"car_uid\"] == uid), \"severity_prev2\"\n",
    "        ] = prev2Year[\"incidence\"].sum() / len(prev2Year.index)\n",
    "        ergot.loc[\n",
    "            (ergot[\"year\"] == year) & (ergot[\"car_uid\"] == uid), \"severity_prev3\"\n",
    "        ] = prev3Year[\"incidence\"].sum() / len(prev3Year.index)\n",
    "        ergot.loc[\n",
    "            (ergot[\"year\"] == year) & (ergot[\"car_uid\"] == uid), \"severity_in_neighbor\"\n",
    "        ] = neighborSamples[\"incidence\"].sum() / len(neighborSamples.index)"
   ]
  },
  {
   "cell_type": "code",
   "execution_count": null,
   "metadata": {},
   "outputs": [],
   "source": [
    "# set any unexpected values to 0\n",
    "ergot.loc[ergot[\"severity_prev1\"].isna(), \"severity_prev1\"] = 0\n",
    "ergot.loc[ergot[\"severity_prev2\"].isna(), \"severity_prev2\"] = 0\n",
    "ergot.loc[ergot[\"severity_prev3\"].isna(), \"severity_prev3\"] = 0\n",
    "ergot.loc[ergot[\"severity_in_neighbor\"].isna(), \"severity_in_neighbor\"] = 0"
   ]
  },
  {
   "cell_type": "code",
   "execution_count": null,
   "metadata": {},
   "outputs": [],
   "source": [
    "ergot"
   ]
  },
  {
   "cell_type": "code",
   "execution_count": null,
   "metadata": {},
   "outputs": [],
   "source": [
    "ergot.to_sql(TABLENAME, conn, schema=\"public\", if_exists=\"append\", index=False)"
   ]
  },
  {
   "cell_type": "code",
   "execution_count": null,
   "metadata": {},
   "outputs": [],
   "source": [
    "db.cleanup()"
   ]
  }
 ],
 "metadata": {
  "kernelspec": {
   "display_name": "env",
   "language": "python",
   "name": "python3"
  },
  "language_info": {
   "codemirror_mode": {
    "name": "ipython",
    "version": 3
   },
   "file_extension": ".py",
   "mimetype": "text/x-python",
   "name": "python",
   "nbconvert_exporter": "python",
   "pygments_lexer": "ipython3",
   "version": "3.8.0"
  },
  "orig_nbformat": 4
 },
 "nbformat": 4,
 "nbformat_minor": 2
}
