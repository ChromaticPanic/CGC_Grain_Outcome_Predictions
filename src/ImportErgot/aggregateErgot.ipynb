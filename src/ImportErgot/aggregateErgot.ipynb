{
 "cells": [
  {
   "attachments": {},
   "cell_type": "markdown",
   "metadata": {},
   "source": [
    "percent_true\n",
    "has_ergot indicates if there is at least one true\n",
    "sum_severity\n",
    "previous_one_has_ergot indicates if there is at least one true last year\n",
    "previous_one_severity\n",
    "previous_two_has_ergot indicates if there is at least one true two years ago\n",
    "previous_two_severity"
   ]
  },
  {
   "attachments": {},
   "cell_type": "markdown",
   "metadata": {},
   "source": [
    "we also need a car_uid column to link the prov - district in this table to the ag region boundary table\n",
    "\n",
    "the final ergot table has"
   ]
  },
  {
   "cell_type": "code",
   "execution_count": null,
   "metadata": {},
   "outputs": [],
   "source": [
    "import sqlalchemy as sq\n",
    "import geopandas as gpd  # type: ignore\n",
    "import pandas as pd  # type: ignore\n",
    "from dotenv import load_dotenv\n",
    "import os, sys\n",
    "\n",
    "sys.path.append(\"../\")\n",
    "from Shared.DataService import DataService  # type: ignore"
   ]
  },
  {
   "cell_type": "code",
   "execution_count": null,
   "metadata": {},
   "outputs": [],
   "source": [
    "load_dotenv()\n",
    "PG_DB = os.getenv(\"POSTGRES_DB\")\n",
    "PG_ADDR = os.getenv(\"POSTGRES_ADDR\")\n",
    "PG_PORT = os.getenv(\"POSTGRES_PORT\")\n",
    "PG_USER = os.getenv(\"POSTGRES_USER\")\n",
    "PG_PW = os.getenv(\"POSTGRES_PW\")"
   ]
  },
  {
   "cell_type": "code",
   "execution_count": null,
   "metadata": {},
   "outputs": [],
   "source": [
    "db = DataService(PG_DB, PG_ADDR, PG_PORT, PG_USER, PG_PW)\n",
    "conn = db.connect()"
   ]
  },
  {
   "cell_type": "code",
   "execution_count": null,
   "metadata": {},
   "outputs": [],
   "source": [
    "query = \"SELECT * FROM public.ergot_sample\"\n",
    "ergot = pd.read_sql_query(query, conn)  # type: ignore\n",
    "#components = pd.DataFrame(query, columns=[\"soil_id\", \"poly_id\"])  # type: ignore"
   ]
  },
  {
   "cell_type": "code",
   "execution_count": null,
   "metadata": {},
   "outputs": [],
   "source": [
    "ergot"
   ]
  },
  {
   "cell_type": "code",
   "execution_count": null,
   "metadata": {},
   "outputs": [],
   "source": [
    "# calculate the car_uid\n",
    "ergot.loc[ergot['province'] == 'MB', 'car_uid'] = ergot.loc[ergot['province'] == 'MB', 'crop_district'] + 4600\n",
    "ergot.loc[ergot['province'] == 'SK', 'car_uid'] = (ergot.loc[ergot['province'] == 'SK', 'crop_district'] - 1) + 4700 \n",
    "ergot.loc[ergot['province'] == 'AB', 'car_uid'] = (ergot.loc[ergot['province'] == 'AB', 'crop_district'] * 10) + 4800"
   ]
  },
  {
   "cell_type": "code",
   "execution_count": null,
   "metadata": {},
   "outputs": [],
   "source": [
    "ergot"
   ]
  },
  {
   "cell_type": "code",
   "execution_count": null,
   "metadata": {},
   "outputs": [],
   "source": [
    "ergot[['car_uid']] = ergot[['car_uid']].astype(int)"
   ]
  },
  {
   "cell_type": "code",
   "execution_count": null,
   "metadata": {},
   "outputs": [],
   "source": [
    "ergot"
   ]
  },
  {
   "cell_type": "code",
   "execution_count": null,
   "metadata": {},
   "outputs": [],
   "source": [
    "ergot['percnt_true'] = None\n",
    "ergot['has_ergot'] = False\n",
    "ergot['sumSeverity'] = 0\n",
    "ergot['present_prev1'] = False\n",
    "ergot['present_prev2'] = False\n",
    "ergot['present_prev3'] = False\n",
    "ergot['present_in_neighbor'] = None"
   ]
  },
  {
   "cell_type": "code",
   "execution_count": null,
   "metadata": {},
   "outputs": [],
   "source": [
    "for year in ergot['year'].unique():\n",
    "    for uid in ergot['car_uid'].unique():\n",
    "        relSamples = ergot.query(f'year == {year} and car_uid == {uid}')\n",
    "        \n",
    "        ergot.loc[(ergot['year'] == year) & (ergot['car_uid'] == uid), 'percnt_true'] = relSamples['incidence'].sum()/len(relSamples.index)\n",
    "        ergot.loc[(ergot['year'] == year) & (ergot['car_uid'] == uid), 'has_ergot'] = relSamples['incidence'].sum() > 0\n",
    "        ergot.loc[(ergot['year'] == year) & (ergot['car_uid'] == uid), 'sumSeverity'] = relSamples['severity'].sum()\n",
    "\n",
    "        prev1Year = ergot.query(f'year == {year - 1} and car_uid == {uid}')\n",
    "        prev2Year = ergot.query(f'year == {year - 2} and car_uid == {uid}')\n",
    "        prev3Year = ergot.query(f'year == {year - 3} and car_uid == {uid}')\n",
    "        ergot.loc[(ergot['year'] == year) & (ergot['car_uid'] == uid), 'present_prev1'] = prev1Year['incidence'].sum() > 0\n",
    "        ergot.loc[(ergot['year'] == year) & (ergot['car_uid'] == uid), 'present_prev2'] = prev2Year['incidence'].sum() > 0\n",
    "        ergot.loc[(ergot['year'] == year) & (ergot['car_uid'] == uid), 'present_prev3'] = prev3Year['incidence'].sum() > 0"
   ]
  },
  {
   "cell_type": "code",
   "execution_count": null,
   "metadata": {},
   "outputs": [],
   "source": [
    "# bordering agRegion has Ergot"
   ]
  },
  {
   "cell_type": "code",
   "execution_count": null,
   "metadata": {},
   "outputs": [],
   "source": [
    "ergot"
   ]
  },
  {
   "cell_type": "code",
   "execution_count": null,
   "metadata": {},
   "outputs": [],
   "source": [
    "db.cleanup()"
   ]
  }
 ],
 "metadata": {
  "kernelspec": {
   "display_name": "env",
   "language": "python",
   "name": "python3"
  },
  "language_info": {
   "codemirror_mode": {
    "name": "ipython",
    "version": 3
   },
   "file_extension": ".py",
   "mimetype": "text/x-python",
   "name": "python",
   "nbconvert_exporter": "python",
   "pygments_lexer": "ipython3",
   "version": "3.8.0"
  },
  "orig_nbformat": 4
 },
 "nbformat": 4,
 "nbformat_minor": 2
}
