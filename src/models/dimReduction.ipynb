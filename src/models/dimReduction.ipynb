{
 "cells": [
  {
   "cell_type": "code",
   "execution_count": null,
   "metadata": {},
   "outputs": [],
   "source": [
    "from sklearn.random_projection import GaussianRandomProjection  # type: ignore\n",
    "from sklearn.preprocessing import PolynomialFeatures  # type: ignore\n",
    "from sklearn.ensemble import RandomForestClassifier  # type: ignore\n",
    "from sklearn.feature_selection import RFECV  # type: ignore\n",
    "from sklearn.decomposition import PCA  # type: ignore\n",
    "from evaluator import ModelEvaluator\n",
    "import sys, warnings\n",
    "\n",
    "sys.path.append(\"../\")\n",
    "from datasets.setCreator import SetCreator\n",
    "from datasets.setModifier import SetModifier"
   ]
  },
  {
   "cell_type": "code",
   "execution_count": null,
   "metadata": {},
   "outputs": [],
   "source": [
    "warnings.filterwarnings(\"ignore\")\n",
    "\n",
    "setModifier = SetModifier()\n",
    "setCreator = SetCreator()\n",
    "dataset1 = setCreator.getSetList1()\n",
    "dataset2 = setCreator.getSetList2()"
   ]
  },
  {
   "cell_type": "markdown",
   "metadata": {},
   "source": [
    "PCA"
   ]
  },
  {
   "cell_type": "code",
   "execution_count": null,
   "metadata": {},
   "outputs": [],
   "source": [
    "for currData in dataset1:\n",
    "    pca = PCA()\n",
    "    pca.fit_transform(currData[\"train\"])\n",
    "\n",
    "    print(f\"[SUCCESS] identified {len(pca.components_)} relevant components\")\n",
    "    print(pca.components_)\n",
    "    print(pca.explained_variance_ratio_)"
   ]
  },
  {
   "cell_type": "markdown",
   "metadata": {},
   "source": [
    "Gaussian Projection"
   ]
  },
  {
   "cell_type": "code",
   "execution_count": null,
   "metadata": {},
   "outputs": [],
   "source": [
    "for currData in dataset2:\n",
    "    currData[\"train\"] = currData[\"train\"].fillna(0)\n",
    "    gaussian_rnd_proj = GaussianRandomProjection(random_state=0, n_components=25)\n",
    "    X_reduced = gaussian_rnd_proj.fit_transform(currData[\"train\"])\n",
    "\n",
    "    print(X_reduced)"
   ]
  },
  {
   "cell_type": "markdown",
   "metadata": {},
   "source": [
    "### From the book\n",
    "\n",
    "```\n",
    "for currData in dataset1:\n",
    "    trainningData = currData[\"train\"]\n",
    "    trainY = trainningData[\"ergot_present_in_q4\"]\n",
    "    trainX = setModifier.rmErgotPredictors(trainningData)\n",
    "\n",
    "    poly = dict()\n",
    "    X_poly = dict()\n",
    "\n",
    "    For n in [2, 3, 4, 5]:\n",
    "        poly[n] = PolynomialFeatures(n)\n",
    "        X_poly[n] = poly[n].fit_transform(trainX)\n",
    "\n",
    "        model = RandomForestClassifier(n_estimators=100,max_depth=5, n_jobs=4, random_state=2)\n",
    "        rfecv = RFECV(estimator=model, n_jobs=1) # apply feature elimination/cross-validation to model\n",
    "        best_feat = rfecv.fit(X_poly[2], trainY)\n",
    "        X_support = X_poly[2][:, best_feat.support_] # X_support now automatically holds the best subset\n",
    "\n",
    "        print(X_support.shape)  # tells you the best dimensions to use\n",
    "        print(X_support)\n",
    "```"
   ]
  },
  {
   "cell_type": "markdown",
   "metadata": {},
   "source": [
    "runs it exactly once"
   ]
  },
  {
   "cell_type": "code",
   "execution_count": null,
   "metadata": {},
   "outputs": [],
   "source": [
    "for currData in dataset1:\n",
    "    trainningData = currData[\"train\"]\n",
    "    trainY = trainningData[\"ergot_present_in_q4\"]\n",
    "    trainX = setModifier.rmErgotPredictors(trainningData)\n",
    "\n",
    "    try:\n",
    "        model = RandomForestClassifier(n_estimators=100, max_depth=5, random_state=0)\n",
    "        rfecv = RFECV(\n",
    "            estimator=model, n_jobs=1\n",
    "        )  # apply feature elimination/cross-validation to model\n",
    "        best_feat = rfecv.fit(trainX, trainY)\n",
    "        X_support = trainX.loc[\n",
    "            :, best_feat.support_\n",
    "        ]  # X_support now automatically holds the best subset\n",
    "\n",
    "        print(\"[SUCCESS]\")\n",
    "        print(X_support.shape)  # tells you the best dimensions to use\n",
    "\n",
    "        for col in X_support.columns.tolist():\n",
    "            print(col)\n",
    "    except Exception as e:\n",
    "        pass"
   ]
  },
  {
   "cell_type": "markdown",
   "metadata": {},
   "source": [
    "Run it multiple times to see when it would stop"
   ]
  },
  {
   "cell_type": "code",
   "execution_count": null,
   "metadata": {},
   "outputs": [],
   "source": [
    "for currData in dataset2:\n",
    "    trainningData = currData[\"train\"]\n",
    "    trainY = trainningData[\"ergot_present_in_q4\"]\n",
    "    trainX = setModifier.rmErgotFeatures(trainningData)\n",
    "\n",
    "    reducable = True  # controls the loop, is true by default then is determined by\n",
    "    # comparing the calculated set of features against the current set of features\n",
    "    try:\n",
    "        while reducable:\n",
    "            model = RandomForestClassifier(\n",
    "                n_estimators=100, max_depth=5, random_state=0\n",
    "            )\n",
    "            rfecv = RFECV(\n",
    "                estimator=model, n_jobs=1\n",
    "            )  # apply feature elimination/cross-validation to model\n",
    "            best_feat = rfecv.fit(trainX, trainY)\n",
    "            X_support = trainX.loc[\n",
    "                :, best_feat.support_\n",
    "            ]  # X_support now automatically holds the best subset\n",
    "\n",
    "            # reduce the set to the subset proposed by the best features if we can\n",
    "            if X_support.shape < trainX.shape:\n",
    "                trainX = trainX[X_support.columns.tolist()]\n",
    "            else:\n",
    "                reducable = False\n",
    "\n",
    "        print(f'[SUCCESS] reduced data in dataset: {currData[\"desc\"]}')\n",
    "        print(X_support.shape)  # tells you the best dimensions to use\n",
    "\n",
    "        for col in X_support.columns.tolist():\n",
    "            print(col)\n",
    "\n",
    "        print()\n",
    "    except Exception as e:\n",
    "        pass"
   ]
  }
 ],
 "metadata": {
  "kernelspec": {
   "display_name": "env",
   "language": "python",
   "name": "python3"
  },
  "language_info": {
   "codemirror_mode": {
    "name": "ipython",
    "version": 3
   },
   "file_extension": ".py",
   "mimetype": "text/x-python",
   "name": "python",
   "nbconvert_exporter": "python",
   "pygments_lexer": "ipython3",
   "version": "3.8.0"
  },
  "orig_nbformat": 4
 },
 "nbformat": 4,
 "nbformat_minor": 2
}
