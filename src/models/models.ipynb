{
 "cells": [
  {
   "cell_type": "code",
   "execution_count": null,
   "metadata": {},
   "outputs": [],
   "source": [
    "from sklearn.ensemble import RandomForestClassifier\n",
    "from evaluator import ModelEvaluator\n",
    "import sys, warnings\n",
    "\n",
    "sys.path.append('../')\n",
    "from datasets.setCreator import SetCreator\n",
    "from datasets.setModifier import SetModifier"
   ]
  },
  {
   "cell_type": "code",
   "execution_count": null,
   "metadata": {},
   "outputs": [],
   "source": [
    "warnings.filterwarnings(\"ignore\")\n",
    "\n",
    "setModifier = SetModifier()\n",
    "evaluator = ModelEvaluator()\n",
    "\n",
    "setCreator = SetCreator()\n",
    "dataset1 = setCreator.getSetList1()"
   ]
  },
  {
   "cell_type": "markdown",
   "metadata": {},
   "source": [
    "RandomForestClassifiers"
   ]
  },
  {
   "cell_type": "code",
   "execution_count": null,
   "metadata": {},
   "outputs": [],
   "source": [
    "n_estimators = [100, 200, 500]\n",
    "max_depth = [5, 7, 10, 15]"
   ]
  },
  {
   "cell_type": "code",
   "execution_count": null,
   "metadata": {},
   "outputs": [],
   "source": [
    "print('Running the Random Forest Classifier:')\n",
    "print('Predicting: ergot_present_in_q4\\n\\n')\n",
    "numExcludedSets = 0\n",
    "bestModel = {\"avg_accuracy\": 0}\n",
    "\n",
    "for currData in dataset1:\n",
    "    trainningData = currData[\"train\"]\n",
    "    trainY = trainningData[\"ergot_present_in_q4\"]\n",
    "    trainX = setModifier.rmErgotPredictors(trainningData)\n",
    "\n",
    "    testData = currData[\"test\"]\n",
    "    testY = testData[\"ergot_present_in_q4\"]\n",
    "    testX = setModifier.rmErgotPredictors(testData)\n",
    "\n",
    "    for num in n_estimators:\n",
    "        for depth in max_depth:\n",
    "            try:\n",
    "                rfc = RandomForestClassifier(random_state=5, n_estimators=num, max_depth=depth)\n",
    "                rfc.fit(trainX, trainY)\n",
    "                results = evaluator.evaluateModel(rfc, currData[\"desc\"], trainX, trainY, testX, testY)\n",
    "\n",
    "                if results[\"avg_accuracy\"] > bestModel[\"avg_accuracy\"]:\n",
    "                    bestModel = results\n",
    "                    bestModel[\"n_estimators\"] = num\n",
    "                    bestModel[\"depth\"] = depth\n",
    "\n",
    "            except Exception as e:\n",
    "                print(e)\n",
    "                numExcludedSets += 1\n",
    "\n",
    "print(f'[{len(dataset1) - numExcludedSets}/{len(dataset1)}] sets were tested on the Random Forest Classifier')\n",
    "print(f'The best model, as per loss, was:\\n {results}')"
   ]
  },
  {
   "cell_type": "code",
   "execution_count": null,
   "metadata": {},
   "outputs": [],
   "source": [
    "print('Running the Random Forest Classifier:')\n",
    "print('Predicting: ergot_present_in_q4\\n\\n')\n",
    "numExcludedSets = 0\n",
    "bestModel = {\"avg_accuracy\": 0}\n",
    "\n",
    "for currData in dataset1:\n",
    "    trainningData = currData[\"train\"]\n",
    "    trainY = trainningData[\"ergot_present_in_q4\"]\n",
    "    trainX = setModifier.rmErgotFeatures(trainningData)\n",
    "\n",
    "    testData = currData[\"test\"]\n",
    "    testY = testData[\"ergot_present_in_q4\"]\n",
    "    testX = setModifier.rmErgotFeatures(testData)\n",
    "\n",
    "    for num in n_estimators:\n",
    "        for depth in max_depth:\n",
    "            try:\n",
    "                rfc = RandomForestClassifier(random_state=5, n_estimators=num, max_depth=depth)\n",
    "                rfc.fit(trainX, trainY)\n",
    "                results = evaluator.evaluateModel(rfc, currData[\"desc\"], trainX, trainY, testX, testY)\n",
    "\n",
    "                if results[\"avg_accuracy\"] > bestModel[\"avg_accuracy\"]:\n",
    "                    bestModel = results\n",
    "                    bestModel[\"n_estimators\"] = num\n",
    "                    bestModel[\"depth\"] = depth\n",
    "\n",
    "            except Exception as e:\n",
    "                print(e)\n",
    "                numExcludedSets += 1\n",
    "\n",
    "print(f'[{len(dataset1) - numExcludedSets}/{len(dataset1)}] sets were tested on the Random Forest Classifier')\n",
    "print(f'The best model, as per loss, was:\\n {results}')"
   ]
  }
 ],
 "metadata": {
  "kernelspec": {
   "display_name": "env",
   "language": "python",
   "name": "python3"
  },
  "language_info": {
   "codemirror_mode": {
    "name": "ipython",
    "version": 3
   },
   "file_extension": ".py",
   "mimetype": "text/x-python",
   "name": "python",
   "nbconvert_exporter": "python",
   "pygments_lexer": "ipython3",
   "version": "3.8.0"
  },
  "orig_nbformat": 4
 },
 "nbformat": 4,
 "nbformat_minor": 2
}
