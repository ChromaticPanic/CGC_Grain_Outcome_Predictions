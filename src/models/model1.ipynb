{
 "cells": [
  {
   "cell_type": "code",
   "execution_count": 60,
   "metadata": {},
   "outputs": [
    {
     "name": "stdout",
     "output_type": "stream",
     "text": [
      "/home/student/dodhiajk/CGC_Grain_Outcome_Predictions/.venv/bin/python: No match.\n"
     ]
    },
    {
     "name": "stdout",
     "output_type": "stream",
     "text": [
      "Note: you may need to restart the kernel to use updated packages.\n"
     ]
    }
   ],
   "source": []
  },
  {
   "cell_type": "code",
   "execution_count": 62,
   "metadata": {},
   "outputs": [],
   "source": [
    "import sys\n",
    "import os\n",
    "from dotenv import load_dotenv\n",
    "\n",
    "import numpy as np\n",
    "import pandas as pd\n",
    "import sqlalchemy as sq\n",
    "\n",
    "from sklearn.model_selection import train_test_split\n",
    "from sklearn.preprocessing import StandardScaler\n",
    "from sklearn.metrics import accuracy_score\n",
    "\n",
    "import tensorflow\n",
    "from tensorflow import keras\n",
    "from tensorflow.keras import Sequential\n",
    "from tensorflow.keras.layers import Dense\n",
    "\n",
    "sys.path.append(\"../Shared/\")\n",
    "from DataService import DataService"
   ]
  },
  {
   "attachments": {},
   "cell_type": "markdown",
   "metadata": {},
   "source": [
    "# fetch data from db"
   ]
  },
  {
   "cell_type": "code",
   "execution_count": 3,
   "metadata": {},
   "outputs": [],
   "source": [
    "# function to update logs\n",
    "def updateLog(fileName: str, message: str) -> None:\n",
    "    try:\n",
    "        if fileName is not None:\n",
    "            with open(fileName, \"a\") as log:\n",
    "                log.write(message + \"\\n\")\n",
    "    except Exception as e:\n",
    "        print(message)"
   ]
  },
  {
   "cell_type": "code",
   "execution_count": 4,
   "metadata": {},
   "outputs": [],
   "source": [
    "LOG_FILE = \"/data/pull_moisture.log\"\n",
    "\n",
    "load_dotenv()\n",
    "PG_USER = os.getenv(\"POSTGRES_USER\")\n",
    "PG_PW = os.getenv(\"POSTGRES_PW\")\n",
    "PG_DB = os.getenv(\"POSTGRES_DB\")\n",
    "PG_ADDR = os.getenv(\"POSTGRES_ADDR\")\n",
    "PG_PORT = os.getenv(\"POSTGRES_PORT\")"
   ]
  },
  {
   "cell_type": "code",
   "execution_count": 5,
   "metadata": {},
   "outputs": [],
   "source": [
    "if (\n",
    "    PG_DB is None\n",
    "    or PG_ADDR is None\n",
    "    or PG_PORT is None\n",
    "    or PG_USER is None\n",
    "    or PG_PW is None\n",
    "):\n",
    "    updateLog(LOG_FILE, \"Missing database credentials\")\n",
    "    raise ValueError(\"Environment variables are not set\")\n",
    "else:\n",
    "    # connicting to database\n",
    "    db = DataService(PG_DB, PG_ADDR, int(PG_PORT), PG_USER, PG_PW)\n",
    "    conn = db.connect()"
   ]
  },
  {
   "cell_type": "code",
   "execution_count": 6,
   "metadata": {},
   "outputs": [],
   "source": [
    "# pulling soil moisture data\n",
    "query = sq.text(\"select * FROM public.agg_soil_moisture\")\n",
    "sm_df = pd.read_sql(query, conn)"
   ]
  },
  {
   "cell_type": "code",
   "execution_count": 45,
   "metadata": {},
   "outputs": [
    {
     "data": {
      "text/html": [
       "<div>\n",
       "<style scoped>\n",
       "    .dataframe tbody tr th:only-of-type {\n",
       "        vertical-align: middle;\n",
       "    }\n",
       "\n",
       "    .dataframe tbody tr th {\n",
       "        vertical-align: top;\n",
       "    }\n",
       "\n",
       "    .dataframe thead th {\n",
       "        text-align: right;\n",
       "    }\n",
       "</style>\n",
       "<table border=\"1\" class=\"dataframe\">\n",
       "  <thead>\n",
       "    <tr style=\"text-align: right;\">\n",
       "      <th></th>\n",
       "      <th>index</th>\n",
       "      <th>year</th>\n",
       "      <th>month</th>\n",
       "      <th>day</th>\n",
       "      <th>cr_num</th>\n",
       "      <th>district</th>\n",
       "      <th>soil_moisture_min</th>\n",
       "      <th>soil_moisture_max</th>\n",
       "      <th>soil_moisture_mean</th>\n",
       "    </tr>\n",
       "  </thead>\n",
       "  <tbody>\n",
       "    <tr>\n",
       "      <th>0</th>\n",
       "      <td>0</td>\n",
       "      <td>1978</td>\n",
       "      <td>11</td>\n",
       "      <td>1</td>\n",
       "      <td>0</td>\n",
       "      <td>4612</td>\n",
       "      <td>0.165900</td>\n",
       "      <td>0.418710</td>\n",
       "      <td>0.237053</td>\n",
       "    </tr>\n",
       "    <tr>\n",
       "      <th>1</th>\n",
       "      <td>1</td>\n",
       "      <td>1978</td>\n",
       "      <td>11</td>\n",
       "      <td>1</td>\n",
       "      <td>5</td>\n",
       "      <td>4740</td>\n",
       "      <td>0.127140</td>\n",
       "      <td>0.207248</td>\n",
       "      <td>0.163722</td>\n",
       "    </tr>\n",
       "    <tr>\n",
       "      <th>2</th>\n",
       "      <td>2</td>\n",
       "      <td>1978</td>\n",
       "      <td>11</td>\n",
       "      <td>1</td>\n",
       "      <td>5</td>\n",
       "      <td>4741</td>\n",
       "      <td>0.153398</td>\n",
       "      <td>0.215304</td>\n",
       "      <td>0.170989</td>\n",
       "    </tr>\n",
       "    <tr>\n",
       "      <th>3</th>\n",
       "      <td>3</td>\n",
       "      <td>1978</td>\n",
       "      <td>11</td>\n",
       "      <td>1</td>\n",
       "      <td>7</td>\n",
       "      <td>4770</td>\n",
       "      <td>0.140772</td>\n",
       "      <td>0.186390</td>\n",
       "      <td>0.152211</td>\n",
       "    </tr>\n",
       "    <tr>\n",
       "      <th>4</th>\n",
       "      <td>4</td>\n",
       "      <td>1978</td>\n",
       "      <td>11</td>\n",
       "      <td>1</td>\n",
       "      <td>7</td>\n",
       "      <td>4771</td>\n",
       "      <td>0.116810</td>\n",
       "      <td>0.116810</td>\n",
       "      <td>0.116810</td>\n",
       "    </tr>\n",
       "  </tbody>\n",
       "</table>\n",
       "</div>"
      ],
      "text/plain": [
       "   index  year  month  day  cr_num  district  soil_moisture_min  \\\n",
       "0      0  1978     11    1       0      4612           0.165900   \n",
       "1      1  1978     11    1       5      4740           0.127140   \n",
       "2      2  1978     11    1       5      4741           0.153398   \n",
       "3      3  1978     11    1       7      4770           0.140772   \n",
       "4      4  1978     11    1       7      4771           0.116810   \n",
       "\n",
       "   soil_moisture_max  soil_moisture_mean  \n",
       "0           0.418710            0.237053  \n",
       "1           0.207248            0.163722  \n",
       "2           0.215304            0.170989  \n",
       "3           0.186390            0.152211  \n",
       "4           0.116810            0.116810  "
      ]
     },
     "execution_count": 45,
     "metadata": {},
     "output_type": "execute_result"
    }
   ],
   "source": [
    "sm_df.head()"
   ]
  },
  {
   "cell_type": "code",
   "execution_count": 8,
   "metadata": {},
   "outputs": [],
   "source": [
    "# pull ergot data\n",
    "query = sq.text(\"select * FROM public.agg_ergot_sample\")\n",
    "ergot_df = pd.read_sql(query, conn)"
   ]
  },
  {
   "cell_type": "code",
   "execution_count": 19,
   "metadata": {},
   "outputs": [],
   "source": [
    "ergot_df.drop(columns=[\"sample_id\"], inplace=True)"
   ]
  },
  {
   "cell_type": "code",
   "execution_count": 52,
   "metadata": {},
   "outputs": [],
   "source": [
    "ergot_df = ergot_df.drop_duplicates()"
   ]
  },
  {
   "cell_type": "code",
   "execution_count": 53,
   "metadata": {},
   "outputs": [
    {
     "data": {
      "text/html": [
       "<div>\n",
       "<style scoped>\n",
       "    .dataframe tbody tr th:only-of-type {\n",
       "        vertical-align: middle;\n",
       "    }\n",
       "\n",
       "    .dataframe tbody tr th {\n",
       "        vertical-align: top;\n",
       "    }\n",
       "\n",
       "    .dataframe thead th {\n",
       "        text-align: right;\n",
       "    }\n",
       "</style>\n",
       "<table border=\"1\" class=\"dataframe\">\n",
       "  <thead>\n",
       "    <tr style=\"text-align: right;\">\n",
       "      <th></th>\n",
       "      <th>year</th>\n",
       "      <th>province</th>\n",
       "      <th>crop_district</th>\n",
       "      <th>incidence</th>\n",
       "      <th>severity</th>\n",
       "      <th>district</th>\n",
       "      <th>percnt_true</th>\n",
       "      <th>has_ergot</th>\n",
       "      <th>sum_severity</th>\n",
       "      <th>present_prev1</th>\n",
       "      <th>present_prev2</th>\n",
       "      <th>present_prev3</th>\n",
       "      <th>present_in_neighbor</th>\n",
       "      <th>severity_prev1</th>\n",
       "      <th>severity_prev2</th>\n",
       "      <th>severity_prev3</th>\n",
       "      <th>severity_in_neighbor</th>\n",
       "    </tr>\n",
       "  </thead>\n",
       "  <tbody>\n",
       "    <tr>\n",
       "      <th>0</th>\n",
       "      <td>1995</td>\n",
       "      <td>AB</td>\n",
       "      <td>1</td>\n",
       "      <td>False</td>\n",
       "      <td>0.000</td>\n",
       "      <td>4810</td>\n",
       "      <td>0.000000</td>\n",
       "      <td>False</td>\n",
       "      <td>0.000</td>\n",
       "      <td>False</td>\n",
       "      <td>False</td>\n",
       "      <td>False</td>\n",
       "      <td>False</td>\n",
       "      <td>0.000000</td>\n",
       "      <td>0.000000</td>\n",
       "      <td>0.000000</td>\n",
       "      <td>0.000000</td>\n",
       "    </tr>\n",
       "    <tr>\n",
       "      <th>48</th>\n",
       "      <td>1995</td>\n",
       "      <td>AB</td>\n",
       "      <td>2</td>\n",
       "      <td>False</td>\n",
       "      <td>0.000</td>\n",
       "      <td>4820</td>\n",
       "      <td>0.000000</td>\n",
       "      <td>False</td>\n",
       "      <td>0.000</td>\n",
       "      <td>False</td>\n",
       "      <td>False</td>\n",
       "      <td>False</td>\n",
       "      <td>True</td>\n",
       "      <td>0.000000</td>\n",
       "      <td>0.000000</td>\n",
       "      <td>0.000000</td>\n",
       "      <td>0.005747</td>\n",
       "    </tr>\n",
       "    <tr>\n",
       "      <th>190</th>\n",
       "      <td>1995</td>\n",
       "      <td>AB</td>\n",
       "      <td>3</td>\n",
       "      <td>False</td>\n",
       "      <td>0.000</td>\n",
       "      <td>4830</td>\n",
       "      <td>0.010582</td>\n",
       "      <td>True</td>\n",
       "      <td>11.000</td>\n",
       "      <td>False</td>\n",
       "      <td>False</td>\n",
       "      <td>False</td>\n",
       "      <td>True</td>\n",
       "      <td>0.000000</td>\n",
       "      <td>0.000000</td>\n",
       "      <td>0.000000</td>\n",
       "      <td>0.001817</td>\n",
       "    </tr>\n",
       "    <tr>\n",
       "      <th>230</th>\n",
       "      <td>1995</td>\n",
       "      <td>AB</td>\n",
       "      <td>4</td>\n",
       "      <td>False</td>\n",
       "      <td>0.000</td>\n",
       "      <td>4840</td>\n",
       "      <td>0.006017</td>\n",
       "      <td>True</td>\n",
       "      <td>15.000</td>\n",
       "      <td>False</td>\n",
       "      <td>False</td>\n",
       "      <td>False</td>\n",
       "      <td>False</td>\n",
       "      <td>0.000000</td>\n",
       "      <td>0.000000</td>\n",
       "      <td>0.000000</td>\n",
       "      <td>0.000000</td>\n",
       "    </tr>\n",
       "    <tr>\n",
       "      <th>280</th>\n",
       "      <td>1995</td>\n",
       "      <td>AB</td>\n",
       "      <td>4</td>\n",
       "      <td>True</td>\n",
       "      <td>1.000</td>\n",
       "      <td>4840</td>\n",
       "      <td>0.006017</td>\n",
       "      <td>True</td>\n",
       "      <td>15.000</td>\n",
       "      <td>False</td>\n",
       "      <td>False</td>\n",
       "      <td>False</td>\n",
       "      <td>False</td>\n",
       "      <td>0.000000</td>\n",
       "      <td>0.000000</td>\n",
       "      <td>0.000000</td>\n",
       "      <td>0.000000</td>\n",
       "    </tr>\n",
       "    <tr>\n",
       "      <th>...</th>\n",
       "      <td>...</td>\n",
       "      <td>...</td>\n",
       "      <td>...</td>\n",
       "      <td>...</td>\n",
       "      <td>...</td>\n",
       "      <td>...</td>\n",
       "      <td>...</td>\n",
       "      <td>...</td>\n",
       "      <td>...</td>\n",
       "      <td>...</td>\n",
       "      <td>...</td>\n",
       "      <td>...</td>\n",
       "      <td>...</td>\n",
       "      <td>...</td>\n",
       "      <td>...</td>\n",
       "      <td>...</td>\n",
       "      <td>...</td>\n",
       "    </tr>\n",
       "    <tr>\n",
       "      <th>158540</th>\n",
       "      <td>2022</td>\n",
       "      <td>AB</td>\n",
       "      <td>3</td>\n",
       "      <td>True</td>\n",
       "      <td>0.260</td>\n",
       "      <td>4830</td>\n",
       "      <td>0.419355</td>\n",
       "      <td>True</td>\n",
       "      <td>1.270</td>\n",
       "      <td>True</td>\n",
       "      <td>True</td>\n",
       "      <td>True</td>\n",
       "      <td>True</td>\n",
       "      <td>0.025641</td>\n",
       "      <td>0.513369</td>\n",
       "      <td>0.083333</td>\n",
       "      <td>0.279330</td>\n",
       "    </tr>\n",
       "    <tr>\n",
       "      <th>158636</th>\n",
       "      <td>2022</td>\n",
       "      <td>SK</td>\n",
       "      <td>72</td>\n",
       "      <td>True</td>\n",
       "      <td>0.025</td>\n",
       "      <td>4771</td>\n",
       "      <td>0.333333</td>\n",
       "      <td>True</td>\n",
       "      <td>0.726</td>\n",
       "      <td>False</td>\n",
       "      <td>True</td>\n",
       "      <td>True</td>\n",
       "      <td>True</td>\n",
       "      <td>0.000000</td>\n",
       "      <td>0.153333</td>\n",
       "      <td>0.013072</td>\n",
       "      <td>0.366292</td>\n",
       "    </tr>\n",
       "    <tr>\n",
       "      <th>158655</th>\n",
       "      <td>2022</td>\n",
       "      <td>MB</td>\n",
       "      <td>3</td>\n",
       "      <td>True</td>\n",
       "      <td>0.000</td>\n",
       "      <td>4603</td>\n",
       "      <td>0.535354</td>\n",
       "      <td>True</td>\n",
       "      <td>1.360</td>\n",
       "      <td>False</td>\n",
       "      <td>True</td>\n",
       "      <td>True</td>\n",
       "      <td>True</td>\n",
       "      <td>0.000000</td>\n",
       "      <td>0.309353</td>\n",
       "      <td>0.043165</td>\n",
       "      <td>0.487047</td>\n",
       "    </tr>\n",
       "    <tr>\n",
       "      <th>158660</th>\n",
       "      <td>2022</td>\n",
       "      <td>SK</td>\n",
       "      <td>41</td>\n",
       "      <td>True</td>\n",
       "      <td>0.010</td>\n",
       "      <td>4740</td>\n",
       "      <td>0.111111</td>\n",
       "      <td>True</td>\n",
       "      <td>0.010</td>\n",
       "      <td>False</td>\n",
       "      <td>False</td>\n",
       "      <td>False</td>\n",
       "      <td>True</td>\n",
       "      <td>0.000000</td>\n",
       "      <td>0.000000</td>\n",
       "      <td>0.000000</td>\n",
       "      <td>0.162162</td>\n",
       "    </tr>\n",
       "    <tr>\n",
       "      <th>158677</th>\n",
       "      <td>2022</td>\n",
       "      <td>SK</td>\n",
       "      <td>22</td>\n",
       "      <td>True</td>\n",
       "      <td>0.000</td>\n",
       "      <td>4721</td>\n",
       "      <td>0.554455</td>\n",
       "      <td>True</td>\n",
       "      <td>1.590</td>\n",
       "      <td>False</td>\n",
       "      <td>True</td>\n",
       "      <td>True</td>\n",
       "      <td>True</td>\n",
       "      <td>0.000000</td>\n",
       "      <td>0.259740</td>\n",
       "      <td>0.036036</td>\n",
       "      <td>0.493506</td>\n",
       "    </tr>\n",
       "  </tbody>\n",
       "</table>\n",
       "<p>5449 rows × 17 columns</p>\n",
       "</div>"
      ],
      "text/plain": [
       "        year province  crop_district  incidence  severity  district  \\\n",
       "0       1995       AB              1      False     0.000      4810   \n",
       "48      1995       AB              2      False     0.000      4820   \n",
       "190     1995       AB              3      False     0.000      4830   \n",
       "230     1995       AB              4      False     0.000      4840   \n",
       "280     1995       AB              4       True     1.000      4840   \n",
       "...      ...      ...            ...        ...       ...       ...   \n",
       "158540  2022       AB              3       True     0.260      4830   \n",
       "158636  2022       SK             72       True     0.025      4771   \n",
       "158655  2022       MB              3       True     0.000      4603   \n",
       "158660  2022       SK             41       True     0.010      4740   \n",
       "158677  2022       SK             22       True     0.000      4721   \n",
       "\n",
       "        percnt_true  has_ergot  sum_severity  present_prev1  present_prev2  \\\n",
       "0          0.000000      False         0.000          False          False   \n",
       "48         0.000000      False         0.000          False          False   \n",
       "190        0.010582       True        11.000          False          False   \n",
       "230        0.006017       True        15.000          False          False   \n",
       "280        0.006017       True        15.000          False          False   \n",
       "...             ...        ...           ...            ...            ...   \n",
       "158540     0.419355       True         1.270           True           True   \n",
       "158636     0.333333       True         0.726          False           True   \n",
       "158655     0.535354       True         1.360          False           True   \n",
       "158660     0.111111       True         0.010          False          False   \n",
       "158677     0.554455       True         1.590          False           True   \n",
       "\n",
       "        present_prev3  present_in_neighbor  severity_prev1  severity_prev2  \\\n",
       "0               False                False        0.000000        0.000000   \n",
       "48              False                 True        0.000000        0.000000   \n",
       "190             False                 True        0.000000        0.000000   \n",
       "230             False                False        0.000000        0.000000   \n",
       "280             False                False        0.000000        0.000000   \n",
       "...               ...                  ...             ...             ...   \n",
       "158540           True                 True        0.025641        0.513369   \n",
       "158636           True                 True        0.000000        0.153333   \n",
       "158655           True                 True        0.000000        0.309353   \n",
       "158660          False                 True        0.000000        0.000000   \n",
       "158677           True                 True        0.000000        0.259740   \n",
       "\n",
       "        severity_prev3  severity_in_neighbor  \n",
       "0             0.000000              0.000000  \n",
       "48            0.000000              0.005747  \n",
       "190           0.000000              0.001817  \n",
       "230           0.000000              0.000000  \n",
       "280           0.000000              0.000000  \n",
       "...                ...                   ...  \n",
       "158540        0.083333              0.279330  \n",
       "158636        0.013072              0.366292  \n",
       "158655        0.043165              0.487047  \n",
       "158660        0.000000              0.162162  \n",
       "158677        0.036036              0.493506  \n",
       "\n",
       "[5449 rows x 17 columns]"
      ]
     },
     "execution_count": 53,
     "metadata": {},
     "output_type": "execute_result"
    }
   ],
   "source": [
    "ergot_df"
   ]
  },
  {
   "cell_type": "code",
   "execution_count": 10,
   "metadata": {},
   "outputs": [],
   "source": [
    "# pull weather data"
   ]
  },
  {
   "cell_type": "code",
   "execution_count": 54,
   "metadata": {},
   "outputs": [],
   "source": [
    "# joining tables\n",
    "df = pd.merge(sm_df, ergot_df, how=\"inner\", on=[\"year\", \"district\"])\n",
    "# df = sm_df.merge(ergot_df, on=[\"year\", \"district\"], how=\"inner\")"
   ]
  },
  {
   "cell_type": "code",
   "execution_count": 55,
   "metadata": {},
   "outputs": [
    {
     "data": {
      "text/plain": [
       "(353355, 24)"
      ]
     },
     "execution_count": 55,
     "metadata": {},
     "output_type": "execute_result"
    }
   ],
   "source": [
    "df.shape"
   ]
  },
  {
   "cell_type": "code",
   "execution_count": 56,
   "metadata": {},
   "outputs": [],
   "source": [
    "df.drop_duplicates(inplace=True)"
   ]
  },
  {
   "cell_type": "code",
   "execution_count": 57,
   "metadata": {},
   "outputs": [
    {
     "data": {
      "text/plain": [
       "(353355, 24)"
      ]
     },
     "execution_count": 57,
     "metadata": {},
     "output_type": "execute_result"
    }
   ],
   "source": [
    "df.shape"
   ]
  },
  {
   "cell_type": "code",
   "execution_count": 34,
   "metadata": {},
   "outputs": [
    {
     "name": "stdout",
     "output_type": "stream",
     "text": [
      "<class 'pandas.core.frame.DataFrame'>\n",
      "Int64Index: 353355 entries, 0 to 11632418\n",
      "Data columns (total 24 columns):\n",
      " #   Column                Non-Null Count   Dtype  \n",
      "---  ------                --------------   -----  \n",
      " 0   index                 353355 non-null  int64  \n",
      " 1   year                  353355 non-null  int64  \n",
      " 2   month                 353355 non-null  int64  \n",
      " 3   day                   353355 non-null  int64  \n",
      " 4   cr_num                353355 non-null  int64  \n",
      " 5   district              353355 non-null  int64  \n",
      " 6   soil_moisture_min     353355 non-null  float64\n",
      " 7   soil_moisture_max     353355 non-null  float64\n",
      " 8   soil_moisture_mean    353355 non-null  float64\n",
      " 9   province              353355 non-null  object \n",
      " 10  crop_district         353355 non-null  int64  \n",
      " 11  incidence             353355 non-null  bool   \n",
      " 12  severity              353355 non-null  float64\n",
      " 13  percnt_true           353355 non-null  float64\n",
      " 14  has_ergot             353355 non-null  bool   \n",
      " 15  sum_severity          353355 non-null  float64\n",
      " 16  present_prev1         353355 non-null  bool   \n",
      " 17  present_prev2         353355 non-null  bool   \n",
      " 18  present_prev3         353355 non-null  bool   \n",
      " 19  present_in_neighbor   353355 non-null  bool   \n",
      " 20  severity_prev1        353355 non-null  float64\n",
      " 21  severity_prev2        353355 non-null  float64\n",
      " 22  severity_prev3        353355 non-null  float64\n",
      " 23  severity_in_neighbor  353355 non-null  float64\n",
      "dtypes: bool(6), float64(10), int64(7), object(1)\n",
      "memory usage: 53.2+ MB\n"
     ]
    }
   ],
   "source": [
    "df.info()"
   ]
  },
  {
   "cell_type": "code",
   "execution_count": null,
   "metadata": {},
   "outputs": [],
   "source": []
  },
  {
   "attachments": {},
   "cell_type": "markdown",
   "metadata": {},
   "source": [
    "# split data"
   ]
  },
  {
   "cell_type": "code",
   "execution_count": null,
   "metadata": {},
   "outputs": [],
   "source": []
  },
  {
   "cell_type": "code",
   "execution_count": null,
   "metadata": {},
   "outputs": [],
   "source": []
  },
  {
   "cell_type": "code",
   "execution_count": null,
   "metadata": {},
   "outputs": [],
   "source": []
  },
  {
   "attachments": {},
   "cell_type": "markdown",
   "metadata": {},
   "source": [
    "# creating model"
   ]
  },
  {
   "cell_type": "code",
   "execution_count": 63,
   "metadata": {},
   "outputs": [
    {
     "name": "stderr",
     "output_type": "stream",
     "text": [
      "2023-07-01 15:18:39.120466: I tensorflow/compiler/xla/stream_executor/cuda/cuda_gpu_executor.cc:996] successful NUMA node read from SysFS had negative value (-1), but there must be at least one NUMA node, so returning NUMA node zero. See more at https://github.com/torvalds/linux/blob/v6.0/Documentation/ABI/testing/sysfs-bus-pci#L344-L355\n",
      "2023-07-01 15:18:39.186643: I tensorflow/compiler/xla/stream_executor/cuda/cuda_gpu_executor.cc:996] successful NUMA node read from SysFS had negative value (-1), but there must be at least one NUMA node, so returning NUMA node zero. See more at https://github.com/torvalds/linux/blob/v6.0/Documentation/ABI/testing/sysfs-bus-pci#L344-L355\n",
      "2023-07-01 15:18:39.186943: I tensorflow/compiler/xla/stream_executor/cuda/cuda_gpu_executor.cc:996] successful NUMA node read from SysFS had negative value (-1), but there must be at least one NUMA node, so returning NUMA node zero. See more at https://github.com/torvalds/linux/blob/v6.0/Documentation/ABI/testing/sysfs-bus-pci#L344-L355\n",
      "2023-07-01 15:18:39.188608: I tensorflow/compiler/xla/stream_executor/cuda/cuda_gpu_executor.cc:996] successful NUMA node read from SysFS had negative value (-1), but there must be at least one NUMA node, so returning NUMA node zero. See more at https://github.com/torvalds/linux/blob/v6.0/Documentation/ABI/testing/sysfs-bus-pci#L344-L355\n",
      "2023-07-01 15:18:39.188856: I tensorflow/compiler/xla/stream_executor/cuda/cuda_gpu_executor.cc:996] successful NUMA node read from SysFS had negative value (-1), but there must be at least one NUMA node, so returning NUMA node zero. See more at https://github.com/torvalds/linux/blob/v6.0/Documentation/ABI/testing/sysfs-bus-pci#L344-L355\n",
      "2023-07-01 15:18:39.188990: I tensorflow/compiler/xla/stream_executor/cuda/cuda_gpu_executor.cc:996] successful NUMA node read from SysFS had negative value (-1), but there must be at least one NUMA node, so returning NUMA node zero. See more at https://github.com/torvalds/linux/blob/v6.0/Documentation/ABI/testing/sysfs-bus-pci#L344-L355\n",
      "2023-07-01 15:18:39.698651: I tensorflow/compiler/xla/stream_executor/cuda/cuda_gpu_executor.cc:996] successful NUMA node read from SysFS had negative value (-1), but there must be at least one NUMA node, so returning NUMA node zero. See more at https://github.com/torvalds/linux/blob/v6.0/Documentation/ABI/testing/sysfs-bus-pci#L344-L355\n",
      "2023-07-01 15:18:39.698836: I tensorflow/compiler/xla/stream_executor/cuda/cuda_gpu_executor.cc:996] successful NUMA node read from SysFS had negative value (-1), but there must be at least one NUMA node, so returning NUMA node zero. See more at https://github.com/torvalds/linux/blob/v6.0/Documentation/ABI/testing/sysfs-bus-pci#L344-L355\n",
      "2023-07-01 15:18:39.698966: I tensorflow/compiler/xla/stream_executor/cuda/cuda_gpu_executor.cc:996] successful NUMA node read from SysFS had negative value (-1), but there must be at least one NUMA node, so returning NUMA node zero. See more at https://github.com/torvalds/linux/blob/v6.0/Documentation/ABI/testing/sysfs-bus-pci#L344-L355\n",
      "2023-07-01 15:18:39.699069: I tensorflow/core/common_runtime/gpu/gpu_device.cc:1635] Created device /job:localhost/replica:0/task:0/device:GPU:0 with 7336 MB memory:  -> device: 0, name: NVIDIA GeForce GTX 1080, pci bus id: 0000:01:00.0, compute capability: 6.1\n"
     ]
    }
   ],
   "source": [
    "model = Sequential()\n",
    "\n",
    "model.add(Dense(11, activation=\"relu\", input_dim = 11))\n",
    "model.add(Dense(11, activation=\"relu\"))\n",
    "model.add(Dense(1, activation=\"sigmoid\"))"
   ]
  },
  {
   "cell_type": "code",
   "execution_count": 64,
   "metadata": {},
   "outputs": [
    {
     "name": "stdout",
     "output_type": "stream",
     "text": [
      "Model: \"sequential\"\n",
      "_________________________________________________________________\n",
      " Layer (type)                Output Shape              Param #   \n",
      "=================================================================\n",
      " dense (Dense)               (None, 11)                132       \n",
      "                                                                 \n",
      " dense_1 (Dense)             (None, 11)                132       \n",
      "                                                                 \n",
      " dense_2 (Dense)             (None, 1)                 12        \n",
      "                                                                 \n",
      "=================================================================\n",
      "Total params: 276\n",
      "Trainable params: 276\n",
      "Non-trainable params: 0\n",
      "_________________________________________________________________\n"
     ]
    }
   ],
   "source": [
    "model.summary()"
   ]
  },
  {
   "cell_type": "code",
   "execution_count": null,
   "metadata": {},
   "outputs": [],
   "source": [
    "# compile model\n",
    "model.compile(loss=\"binary_crossentropy\", optimizer=\"Adam\", metrics=[\"accuracy\"])"
   ]
  },
  {
   "cell_type": "code",
   "execution_count": null,
   "metadata": {},
   "outputs": [],
   "source": []
  }
 ],
 "metadata": {
  "kernelspec": {
   "display_name": ".venv",
   "language": "python",
   "name": "python3"
  },
  "language_info": {
   "codemirror_mode": {
    "name": "ipython",
    "version": 3
   },
   "file_extension": ".py",
   "mimetype": "text/x-python",
   "name": "python",
   "nbconvert_exporter": "python",
   "pygments_lexer": "ipython3",
   "version": "3.10.6"
  },
  "orig_nbformat": 4
 },
 "nbformat": 4,
 "nbformat_minor": 2
}
