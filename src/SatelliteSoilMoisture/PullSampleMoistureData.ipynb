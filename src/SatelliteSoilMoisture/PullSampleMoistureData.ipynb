{
 "cells": [
  {
   "cell_type": "code",
   "execution_count": null,
   "metadata": {},
   "outputs": [],
   "source": [
    "import os\n",
    "import xarray as xr\n",
    "import geopandas as gpd  # type: ignore\n",
    "from SoilMoistureQueryHandler import SoilMoistureQueryHandler\n",
    "from dotenv import load_dotenv\n",
    "import sqlalchemy as sq\n",
    "import sys\n",
    "\n",
    "sys.path.append(\"../\")\n",
    "from DataService import DataService  # type: ignore"
   ]
  },
  {
   "cell_type": "code",
   "execution_count": null,
   "metadata": {},
   "outputs": [],
   "source": [
    "TABLE = \"soil_moisture\""
   ]
  },
  {
   "cell_type": "code",
   "execution_count": null,
   "metadata": {},
   "outputs": [],
   "source": [
    "load_dotenv()\n",
    "PG_USER = os.getenv(\"POSTGRES_USER\", \"\")\n",
    "PG_PW = os.getenv(\"POSTGRES_PW\", \"\")\n",
    "PG_DB = os.getenv(\"POSTGRES_DB\", \"\")\n",
    "PG_ADDR = os.getenv(\"POSTGRES_ADDR\", \"\")\n",
    "PG_PORT = os.getenv(\"POSTGRES_PORT\", 5432)"
   ]
  },
  {
   "cell_type": "code",
   "execution_count": null,
   "metadata": {},
   "outputs": [],
   "source": [
    "netcdf_file_path = \"/data/common/Images/2004/ESACCI-SOILMOISTURE-L3S-SSMV-COMBINED-20040605000000-fv07.1.nc\"\n",
    "queryHandler = SoilMoistureQueryHandler()\n",
    "\n",
    "db = DataService(PG_DB, PG_ADDR, int(PG_PORT), PG_USER, PG_PW)\n",
    "conn = db.connect()\n",
    "\n",
    "queryHandler.createSoilMoistureTableReq(db)"
   ]
  },
  {
   "cell_type": "code",
   "execution_count": null,
   "metadata": {},
   "outputs": [],
   "source": [
    "query = sq.text(\"select cr_num, car_uid, geometry FROM public.census_ag_regions\")\n",
    "agRegions = gpd.GeoDataFrame.from_postgis(\n",
    "    query, conn, crs=\"EPSG:3347\", geom_col=\"geometry\"\n",
    ")"
   ]
  },
  {
   "cell_type": "code",
   "execution_count": null,
   "metadata": {},
   "outputs": [],
   "source": [
    "dataset = xr.open_dataset(netcdf_file_path)\n",
    "df = (\n",
    "    dataset.to_dataframe().reset_index()\n",
    ")  # Converts the contents into a dataframe and corrects indexes\n",
    "\n",
    "dataset.close()"
   ]
  },
  {
   "cell_type": "code",
   "execution_count": null,
   "metadata": {},
   "outputs": [],
   "source": [
    "df.drop(columns=[\"flag\", \"freqbandID\", \"dnflag\", \"mode\", \"sensor\", \"t0\"], inplace=True)\n",
    "df.rename(columns={df.columns[0]: \"date\"}, inplace=True)\n",
    "df.rename(columns={df.columns[3]: \"soil_moisture\"}, inplace=True)\n",
    "df = df[df[\"soil_moisture\"].notna()]"
   ]
  },
  {
   "cell_type": "code",
   "execution_count": null,
   "metadata": {},
   "outputs": [],
   "source": [
    "df = gpd.GeoDataFrame(\n",
    "    df, crs=\"EPSG:4326\", geometry=gpd.points_from_xy(df.lon, df.lat)\n",
    ")  # Creates geometry from df using lon and lat as cords to create points (points being geometry)\n",
    "df = df.to_crs(  # type: ignore\n",
    "    crs=\"EPSG:3347\"\n",
    ")  # Changes the points projection to match the agriculture regions of EPSG:3347\n",
    "df = gpd.sjoin(\n",
    "    df, agRegions, how=\"left\", predicate=\"within\"\n",
    ")  # Join the two dataframes based on which points fit within what agriculture regions"
   ]
  },
  {
   "cell_type": "code",
   "execution_count": null,
   "metadata": {},
   "outputs": [],
   "source": [
    "df.drop(columns=[\"index_right\", \"geometry\"], inplace=True)\n",
    "df = df[df[\"cr_num\"].notna()]  # Take rows that are valid numbers\n",
    "df[[\"cr_num\"]] = df[[\"cr_num\"]].astype(int)"
   ]
  },
  {
   "cell_type": "code",
   "execution_count": null,
   "metadata": {},
   "outputs": [],
   "source": [
    "df = df.reset_index()"
   ]
  },
  {
   "cell_type": "code",
   "execution_count": null,
   "metadata": {},
   "outputs": [],
   "source": [
    "df.drop(columns=[\"index\"], inplace=True)\n",
    "df.drop(columns=[\"sm_uncertainty\"], inplace=True)"
   ]
  },
  {
   "cell_type": "code",
   "execution_count": null,
   "metadata": {},
   "outputs": [],
   "source": [
    "df.to_sql(TABLE, conn, schema=\"public\", if_exists=\"append\", index=False)"
   ]
  }
 ],
 "metadata": {
  "kernelspec": {
   "display_name": "Python 3",
   "language": "python",
   "name": "python3"
  },
  "language_info": {
   "codemirror_mode": {
    "name": "ipython",
    "version": 3
   },
   "file_extension": ".py",
   "mimetype": "text/x-python",
   "name": "python",
   "nbconvert_exporter": "python",
   "pygments_lexer": "ipython3",
   "version": "3.10.6"
  },
  "orig_nbformat": 4
 },
 "nbformat": 4,
 "nbformat_minor": 2
}
