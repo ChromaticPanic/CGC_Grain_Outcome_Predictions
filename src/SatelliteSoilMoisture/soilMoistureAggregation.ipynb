{
 "cells": [
  {
   "cell_type": "markdown",
   "metadata": {},
   "source": [
    "# soilMoistureAggregation.ipynb\n",
    "After loading the [soil moisture data](https://github.com/ChromaticPanic/CGC_Grain_Outcome_Predictions/blob/main/src/SatelliteSoilMoisture/PullMoistureData.ipynb), this script can be used to calculate the minimum, mean and maximum of all attributes per district and date\n",
    "\n",
    "##### Output:\n",
    "- [agg_soil_moisture](https://github.com/ChromaticPanic/CGC_Grain_Outcome_Predictions#agg_soil_moisture)"
   ]
  },
  {
   "cell_type": "code",
   "execution_count": null,
   "metadata": {},
   "outputs": [],
   "source": [
    "from SoilMoistureQueryHandler import SoilMoistureQueryHandler  # type: ignore\n",
    "import matplotlib.pyplot as plt  # type: ignore\n",
    "from dotenv import load_dotenv\n",
    "import geopandas as gpd  # type: ignore\n",
    "import sqlalchemy as sq\n",
    "import pandas as pd\n",
    "import xarray as xr\n",
    "import os, sys\n",
    "\n",
    "sys.path.append(\"../\")\n",
    "from Shared.DataService import DataService"
   ]
  },
  {
   "cell_type": "code",
   "execution_count": null,
   "metadata": {},
   "outputs": [],
   "source": [
    "LOG_FILE = \"/data/pull_moisture.log\"  # The file used to store progress information\n",
    "\n",
    "# The table that will store the aggregated soil moisture data\n",
    "TABLE = \"agg_soil_moisture\"\n",
    "SOIL_MOISTURE_TABLE = \"soil_moisture\"  # The table that stores the soil moisture data\n",
    "\n",
    "\n",
    "# Load the database connection environment variables located in the docker folder\n",
    "load_dotenv(\"../docker/.env\")\n",
    "PG_USER = os.getenv(\"POSTGRES_USER\")\n",
    "PG_PW = os.getenv(\"POSTGRES_PW\")\n",
    "PG_DB = os.getenv(\"POSTGRES_DB\")\n",
    "PG_ADDR = os.getenv(\"POSTGRES_ADDR\")\n",
    "PG_PORT = os.getenv(\"POSTGRES_PORT\")"
   ]
  },
  {
   "cell_type": "markdown",
   "metadata": {},
   "source": [
    "Purpose:  \n",
    "Outputs progress updates to log files/to the console if no filename is provided\n",
    "\n",
    "Pseudocode:  \n",
    "- Check if a filename is provided\n",
    "- Sets the current directory to the files directory if it is\n",
    "- Opens the file and adds the progress message\n",
    "- Otherwise, print the message"
   ]
  },
  {
   "cell_type": "code",
   "execution_count": null,
   "metadata": {},
   "outputs": [],
   "source": [
    "def updateLog(fileName: str, message: str) -> None:\n",
    "    try:\n",
    "        if fileName is not None:\n",
    "            with open(fileName, \"a\") as log:\n",
    "                log.write(message + \"\\n\")\n",
    "    except Exception as e:\n",
    "        print(message)"
   ]
  },
  {
   "cell_type": "markdown",
   "metadata": {},
   "source": [
    "Purpose:  \n",
    "Connect to the database"
   ]
  },
  {
   "cell_type": "code",
   "execution_count": null,
   "metadata": {},
   "outputs": [],
   "source": [
    "if (\n",
    "    PG_DB is None\n",
    "    or PG_ADDR is None\n",
    "    or PG_PORT is None\n",
    "    or PG_USER is None\n",
    "    or PG_PW is None\n",
    "):\n",
    "    updateLog(LOG_FILE, \"Missing database credentials\")\n",
    "    raise ValueError(\"Environment variables are not set\")\n",
    "\n",
    "db = DataService(PG_DB, PG_ADDR, int(PG_PORT), PG_USER, PG_PW)\n",
    "conn = db.connect()"
   ]
  },
  {
   "cell_type": "markdown",
   "metadata": {},
   "source": [
    "Purpose:  \n",
    "Loads the soil moisture data from the soil moisture table\n",
    "\n",
    "Tables:  \n",
    "- [soil_moisture](https://github.com/ChromaticPanic/CGC_Grain_Outcome_Predictions#soil_moisture)\n",
    "\n",
    "Psuedocode:  \n",
    "- Create the soil moisture SQL query\n",
    "- [Load the data from the database directly into a DataFrame](https://pandas.pydata.org/docs/reference/api/pandas.read_sql.html)"
   ]
  },
  {
   "cell_type": "code",
   "execution_count": null,
   "metadata": {},
   "outputs": [],
   "source": [
    "query = sq.text(\"select * FROM public.{SOIL_MOISTURE_TABLE}\")\n",
    "sm_df = pd.read_sql(query, conn)"
   ]
  },
  {
   "cell_type": "markdown",
   "metadata": {},
   "source": [
    "Purpose:  \n",
    "Extract the individual date components (to replace the datetime64 date column)\n",
    "\n",
    "Pseudocode:  \n",
    "- [Convert the date column into type datetime](https://pandas.pydata.org/docs/reference/api/pandas.to_datetime.html)\n",
    "- Extract the year, month and day\n",
    "- [Delete](https://pandas.pydata.org/docs/reference/api/pandas.DataFrame.drop.html) the original date column"
   ]
  },
  {
   "cell_type": "code",
   "execution_count": null,
   "metadata": {},
   "outputs": [],
   "source": [
    "sm_df[\"date\"] = pd.to_datetime(sm_df[\"date\"])\n",
    "sm_df[\"year\"] = sm_df[\"date\"].dt.year\n",
    "sm_df[\"month\"] = sm_df[\"date\"].dt.month\n",
    "sm_df[\"day\"] = sm_df[\"date\"].dt.day\n",
    "\n",
    "sm_df.drop(columns=\"date\", inplace=True)"
   ]
  },
  {
   "cell_type": "markdown",
   "metadata": {},
   "source": [
    "Purpose:  \n",
    "Aggregate the soil moisture data by year, month, day, cr_num and district\n",
    "\n",
    "Psuedocode:  \n",
    "- [Aggregate](https://pandas.pydata.org/docs/reference/api/pandas.DataFrame.agg.html) the columns [by year, month, day, cr_num and district](https://pandas.pydata.org/docs/reference/api/pandas.DataFrame.groupby.html)\n",
    "- Name the columns into the final DataFrame"
   ]
  },
  {
   "cell_type": "code",
   "execution_count": null,
   "metadata": {},
   "outputs": [],
   "source": [
    "sm_df = (\n",
    "    sm_df.groupby([\"year\", \"month\", \"day\", \"cr_num\", \"district\"])\n",
    "    .agg({\"soil_moisture\": [\"min\", \"max\", \"mean\"]})\n",
    "    .reset_index()\n",
    ")\n",
    "\n",
    "sm_df.columns = [  # type: ignore\n",
    "    \"year\",\n",
    "    \"month\",\n",
    "    \"day\",\n",
    "    \"cr_num\",\n",
    "    \"district\",\n",
    "    \"soil_moisture_min\",\n",
    "    \"soil_moisture_min\",\n",
    "    \"soil_moisture_min\",\n",
    "]"
   ]
  },
  {
   "cell_type": "markdown",
   "metadata": {},
   "source": [
    "Purpose:  \n",
    "Push the soil moisture to the database then close the connection"
   ]
  },
  {
   "cell_type": "code",
   "execution_count": null,
   "metadata": {},
   "outputs": [],
   "source": [
    "sm_df.to_sql(TABLE, conn, schema=\"public\", if_exists=\"replace\")\n",
    "db.cleanup()"
   ]
  }
 ],
 "metadata": {
  "kernelspec": {
   "display_name": "Python 3",
   "language": "python",
   "name": "python3"
  },
  "language_info": {
   "codemirror_mode": {
    "name": "ipython",
    "version": 3
   },
   "file_extension": ".py",
   "mimetype": "text/x-python",
   "name": "python",
   "nbconvert_exporter": "python",
   "pygments_lexer": "ipython3",
   "version": "3.8.0"
  },
  "orig_nbformat": 4,
  "vscode": {
   "interpreter": {
    "hash": "e7370f93d1d0cde622a1f8e1c04877d8463912d04d973331ad4851f04de6915a"
   }
  }
 },
 "nbformat": 4,
 "nbformat_minor": 2
}
