{
 "cells": [
  {
   "cell_type": "code",
   "execution_count": null,
   "metadata": {},
   "outputs": [],
   "source": [
    "import matplotlib.pyplot as plt  # type: ignore\n",
    "from dotenv import load_dotenv\n",
    "import sqlalchemy as sq\n",
    "import seaborn as sns  # type: ignore\n",
    "import pandas as pd  # type: ignore\n",
    "import numpy as np\n",
    "import os, sys\n",
    "\n",
    "sys.path.append(\"../\")\n",
    "from Shared.DataService import DataService"
   ]
  },
  {
   "cell_type": "code",
   "execution_count": null,
   "metadata": {},
   "outputs": [],
   "source": [
    "load_dotenv()\n",
    "PG_DB = os.getenv(\"POSTGRES_DB\")\n",
    "PG_ADDR = os.getenv(\"POSTGRES_ADDR\")\n",
    "PG_PORT = os.getenv(\"POSTGRES_PORT\")\n",
    "PG_USER = os.getenv(\"POSTGRES_USER\")\n",
    "PG_PW = os.getenv(\"POSTGRES_PW\")"
   ]
  },
  {
   "cell_type": "code",
   "execution_count": null,
   "metadata": {},
   "outputs": [],
   "source": [
    "if (\n",
    "    PG_DB is None\n",
    "    or PG_ADDR is None\n",
    "    or PG_PORT is None\n",
    "    or PG_USER is None\n",
    "    or PG_PW is None\n",
    "):\n",
    "    raise ValueError(\"Environment variables not set\")\n",
    "\n",
    "db = DataService(PG_DB, PG_ADDR, int(PG_PORT), PG_USER, PG_PW)\n",
    "conn = db.connect()"
   ]
  },
  {
   "cell_type": "code",
   "execution_count": null,
   "metadata": {},
   "outputs": [],
   "source": [
    "ergotQuery = sq.text(\"SELECT * FROM agg_ergot_samples;\")\n",
    "\n",
    "ergotDF = pd.read_sql_query(ergotQuery, conn)"
   ]
  },
  {
   "cell_type": "code",
   "execution_count": null,
   "metadata": {},
   "outputs": [],
   "source": [
    "moistureQuery = sq.text(\n",
    "    \"SELECT soil_moisture_min, soil_moisture_max, soil_moisture_mean, year, district FROM agg_soil_moisture;\"\n",
    ")\n",
    "\n",
    "moistureDF = pd.read_sql_query(moistureQuery, conn)"
   ]
  },
  {
   "cell_type": "code",
   "execution_count": null,
   "metadata": {},
   "outputs": [],
   "source": [
    "ab_df = moistureDF.loc[moistureDF[\"district\"] >= 4800]\n",
    "sk_df = moistureDF.loc[\n",
    "    (moistureDF[\"district\"] >= 4700) | (moistureDF[\"district\"] < 4800)\n",
    "]\n",
    "mb_df = moistureDF.loc[moistureDF[\"district\"] < 4700]"
   ]
  },
  {
   "cell_type": "code",
   "execution_count": null,
   "metadata": {},
   "outputs": [],
   "source": [
    "db.cleanup()"
   ]
  },
  {
   "cell_type": "code",
   "execution_count": null,
   "metadata": {},
   "outputs": [],
   "source": [
    "final_df = moistureDF.merge(ergotDF, on=[\"year\", \"district\"])"
   ]
  },
  {
   "cell_type": "code",
   "execution_count": null,
   "metadata": {},
   "outputs": [],
   "source": [
    "final_df.drop(columns=[\"district\", \"year\"], inplace=True)"
   ]
  },
  {
   "cell_type": "code",
   "execution_count": null,
   "metadata": {},
   "outputs": [],
   "source": [
    "# Compute the correlation matrix\n",
    "corr = final_df.corr()"
   ]
  },
  {
   "cell_type": "code",
   "execution_count": null,
   "metadata": {},
   "outputs": [],
   "source": [
    "corr"
   ]
  },
  {
   "cell_type": "code",
   "execution_count": null,
   "metadata": {},
   "outputs": [],
   "source": [
    "sns.set_theme(style=\"white\")\n",
    "\n",
    "# Generate a mask for the upper triangle\n",
    "mask = np.triu(np.ones_like(corr, dtype=bool))\n",
    "\n",
    "# Set up the matplotlib figure\n",
    "f, ax = plt.subplots(figsize=(11, 9))\n",
    "\n",
    "# Generate a custom diverging colormap\n",
    "cmap = sns.diverging_palette(230, 20, as_cmap=True)\n",
    "\n",
    "# Draw the heatmap with the mask and correct aspect ratio\n",
    "sns.heatmap(\n",
    "    corr,\n",
    "    mask=mask,\n",
    "    cmap=cmap,\n",
    "    vmax=0.5,\n",
    "    vmin=-0.5,\n",
    "    center=0,\n",
    "    square=True,\n",
    "    linewidths=0.5,\n",
    "    cbar_kws={\"shrink\": 0.5},\n",
    ")"
   ]
  },
  {
   "cell_type": "code",
   "execution_count": null,
   "metadata": {},
   "outputs": [],
   "source": [
    "sns.pairplot(final_df)\n",
    "plt.show()"
   ]
  },
  {
   "cell_type": "code",
   "execution_count": null,
   "metadata": {},
   "outputs": [],
   "source": [
    "fig, (ax1, ax2, ax3) = plt.subplots(1, 3)\n",
    "fig.suptitle(\"Soil Moisture (m^3/m^3)\")\n",
    "\n",
    "\n",
    "ax1.hist(sk_df[\"soil_moisture_min\"], alpha=0.5, label=\"sk\")\n",
    "ax1.hist(ab_df[\"soil_moisture_min\"], alpha=0.5, label=\"ab\")\n",
    "ax1.hist(mb_df[\"soil_moisture_min\"], alpha=0.5, label=\"mb\")\n",
    "ax1.title.set_text(\"min\")\n",
    "ax1.legend(loc=\"upper left\")\n",
    "\n",
    "ax2.hist(sk_df[\"soil_moisture_mean\"], alpha=0.5, label=\"sk\")\n",
    "ax2.hist(ab_df[\"soil_moisture_mean\"], alpha=0.5, label=\"ab\")\n",
    "ax2.hist(mb_df[\"soil_moisture_mean\"], alpha=0.5, label=\"mb\")\n",
    "ax2.title.set_text(\"mean\")\n",
    "ax2.legend(loc=\"upper left\")\n",
    "\n",
    "ax3.hist(sk_df[\"soil_moisture_max\"], alpha=0.5, label=\"sk\")\n",
    "ax3.hist(ab_df[\"soil_moisture_max\"], alpha=0.5, label=\"ab\")\n",
    "ax3.hist(mb_df[\"soil_moisture_max\"], alpha=0.5, label=\"mb\")\n",
    "ax3.title.set_text(\"max\")\n",
    "ax3.legend(loc=\"upper left\")"
   ]
  }
 ],
 "metadata": {
  "kernelspec": {
   "display_name": "env",
   "language": "python",
   "name": "python3"
  },
  "language_info": {
   "codemirror_mode": {
    "name": "ipython",
    "version": 3
   },
   "file_extension": ".py",
   "mimetype": "text/x-python",
   "name": "python",
   "nbconvert_exporter": "python",
   "pygments_lexer": "ipython3",
   "version": "3.8.0"
  },
  "orig_nbformat": 4
 },
 "nbformat": 4,
 "nbformat_minor": 2
}
