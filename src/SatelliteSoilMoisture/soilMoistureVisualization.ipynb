{
 "cells": [
  {
   "cell_type": "markdown",
   "metadata": {},
   "source": [
    "# soilMoistureVisualization.ipynb\n",
    "After [aggregating the soil moisture data]() the following script can be used to visualize the data\n",
    "\n",
    "##### Output graphs:\n",
    "- Correlation plot\n",
    "- Pair plot\n",
    "- Histograms"
   ]
  },
  {
   "cell_type": "code",
   "execution_count": null,
   "metadata": {},
   "outputs": [],
   "source": [
    "import matplotlib.pyplot as plt  # type: ignore\n",
    "from dotenv import load_dotenv\n",
    "import sqlalchemy as sq\n",
    "import seaborn as sns  # type: ignore\n",
    "import pandas as pd\n",
    "import numpy as np\n",
    "import os, sys\n",
    "\n",
    "sys.path.append(\"../\")\n",
    "from Shared.DataService import DataService"
   ]
  },
  {
   "cell_type": "code",
   "execution_count": null,
   "metadata": {},
   "outputs": [],
   "source": [
    "# table that holds the aggregated soil moisture data\n",
    "MOISTURE_TABLE = \"agg_soil_moisture\"\n",
    "ERGOT_TABLE = \"agg_ergot_sample\"  # table that holds the aggregated ergot data\n",
    "\n",
    "\n",
    "# Load the database connection environment variables located in the docker folder\n",
    "load_dotenv(\"../docker/.env\")\n",
    "PG_DB = os.getenv(\"POSTGRES_DB\")\n",
    "PG_ADDR = os.getenv(\"POSTGRES_ADDR\")\n",
    "PG_PORT = os.getenv(\"POSTGRES_PORT\")\n",
    "PG_USER = os.getenv(\"POSTGRES_USER\")\n",
    "PG_PW = os.getenv(\"POSTGRES_PW\")"
   ]
  },
  {
   "cell_type": "markdown",
   "metadata": {},
   "source": [
    "Purpose:  \n",
    "Connect to the database"
   ]
  },
  {
   "cell_type": "code",
   "execution_count": null,
   "metadata": {},
   "outputs": [],
   "source": [
    "if (\n",
    "    PG_DB is None\n",
    "    or PG_ADDR is None\n",
    "    or PG_PORT is None\n",
    "    or PG_USER is None\n",
    "    or PG_PW is None\n",
    "):\n",
    "    raise ValueError(\"Environment variables not set\")\n",
    "\n",
    "db = DataService(PG_DB, PG_ADDR, int(PG_PORT), PG_USER, PG_PW)\n",
    "conn = db.connect()"
   ]
  },
  {
   "cell_type": "markdown",
   "metadata": {},
   "source": [
    "Purpose:  \n",
    "Load the ergot and soil moisture data from the database\n",
    "\n",
    "Pseudocode:  \n",
    "- Create the ergot SQL query\n",
    "- Create the soil moisture SQL query\n",
    "- [Load both from the database directly into a DataFrame](https://pandas.pydata.org/docs/reference/api/pandas.read_sql.html)\n",
    "- Close the connection to the database"
   ]
  },
  {
   "cell_type": "code",
   "execution_count": null,
   "metadata": {},
   "outputs": [],
   "source": [
    "ergotQuery = sq.text(f\"SELECT * FROM {ERGOT_TABLE};\")\n",
    "moistureQuery = sq.text(\n",
    "    f\"SELECT soil_moisture_min, soil_moisture_max, soil_moisture_mean, year, district FROM {MOISTURE_TABLE};\"\n",
    ")\n",
    "\n",
    "ergotDF = pd.read_sql_query(ergotQuery, conn)\n",
    "moistureDF = pd.read_sql_query(moistureQuery, conn)\n",
    "\n",
    "db.cleanup()"
   ]
  },
  {
   "cell_type": "markdown",
   "metadata": {},
   "source": [
    "Purpose:  \n",
    "Create individual copies of the soil moisture dataframe for each province\n",
    "\n",
    "Pseudocode:  \n",
    "- [Create the Alberta soil moisture DataFrame](https://pandas.pydata.org/docs/reference/api/pandas.DataFrame.loc.html)\n",
    "- [Create the Manitoba soil moisture DataFrame](https://pandas.pydata.org/docs/reference/api/pandas.DataFrame.loc.html)\n",
    "- [Create the Saskatchewan soil moisture DataFrame](https://pandas.pydata.org/docs/reference/api/pandas.DataFrame.loc.html)"
   ]
  },
  {
   "cell_type": "code",
   "execution_count": null,
   "metadata": {},
   "outputs": [],
   "source": [
    "ab_df = moistureDF.loc[moistureDF[\"district\"] >= 4800]\n",
    "mb_df = moistureDF.loc[moistureDF[\"district\"] < 4700]\n",
    "\n",
    "sk_df = moistureDF.loc[\n",
    "    (moistureDF[\"district\"] >= 4700) | (moistureDF[\"district\"] < 4800)\n",
    "]"
   ]
  },
  {
   "cell_type": "markdown",
   "metadata": {},
   "source": [
    "Purpose:  \n",
    "Joins the ergot and moisture data into a single DataFrame\n",
    "\n",
    "Pseudocode:  \n",
    "- [Joins the ergot and moisture data into a single DataFrame](https://pandas.pydata.org/docs/reference/api/pandas.DataFrame.merge.html) (based on year and district)\n",
    "- [Drop irrelevant columns](https://pandas.pydata.org/docs/reference/api/pandas.DataFrame.drop.html)\n"
   ]
  },
  {
   "cell_type": "code",
   "execution_count": null,
   "metadata": {},
   "outputs": [],
   "source": [
    "final_df = moistureDF.merge(ergotDF, on=[\"year\", \"district\"])\n",
    "final_df.drop(columns=[\"year\", \"district\"], inplace=True)"
   ]
  },
  {
   "cell_type": "markdown",
   "metadata": {},
   "source": [
    "Purpose:  \n",
    "Create the correlation matrix between attributes\n",
    "\n",
    "Psuedocode:  \n",
    "- [Create the correlation matrix between attributes](https://pandas.pydata.org/docs/reference/api/pandas.DataFrame.corr.html)"
   ]
  },
  {
   "cell_type": "code",
   "execution_count": null,
   "metadata": {},
   "outputs": [],
   "source": [
    "corr = final_df.corr()"
   ]
  },
  {
   "cell_type": "markdown",
   "metadata": {},
   "source": [
    "Purpose:  \n",
    "Create a correlation plot between houly weather station data and ergot\n",
    "\n",
    "Note: this code is boilerplate, therefore additional information can be found [here](https://seaborn.pydata.org/examples/many_pairwise_correlations.html)"
   ]
  },
  {
   "cell_type": "code",
   "execution_count": null,
   "metadata": {},
   "outputs": [],
   "source": [
    "sns.set_theme(style=\"white\")\n",
    "\n",
    "# Generate a mask for the upper triangle\n",
    "mask = np.triu(np.ones_like(corr, dtype=bool))\n",
    "\n",
    "# Set up the matplotlib figure\n",
    "f, ax = plt.subplots(figsize=(11, 9))\n",
    "\n",
    "# Generate a custom diverging colormap\n",
    "cmap = sns.diverging_palette(230, 20, as_cmap=True)\n",
    "\n",
    "# Draw the heatmap with the mask and correct aspect ratio\n",
    "sns.heatmap(\n",
    "    corr,\n",
    "    mask=mask,\n",
    "    cmap=cmap,\n",
    "    vmax=0.5,\n",
    "    vmin=-0.5,\n",
    "    center=0,\n",
    "    square=True,\n",
    "    linewidths=0.5,\n",
    "    cbar_kws={\"shrink\": 0.5},\n",
    ")"
   ]
  },
  {
   "cell_type": "markdown",
   "metadata": {},
   "source": [
    "Purpose:  \n",
    "Create pairplots between the more interesting relationships between soil and ergot\n",
    "\n",
    "Psuedocode:  \n",
    "- [Create the pairplots](https://seaborn.pydata.org/generated/seaborn.pairplot.html) (attributes of interest are selected from the DataFrame as a list)\n",
    "- [Generate the pairplots](https://seaborn.pydata.org/generated/seaborn.objects.Plot.show.html)"
   ]
  },
  {
   "cell_type": "code",
   "execution_count": null,
   "metadata": {},
   "outputs": [],
   "source": [
    "sns.pairplot(final_df)\n",
    "plt.show()"
   ]
  },
  {
   "cell_type": "markdown",
   "metadata": {},
   "source": [
    "Purpose:  \n",
    "Create side by side histograms containing the minimum, mean and maximum values\n",
    "\n",
    "Pseudocode:  \n",
    "- [Create 3 subplot](https://matplotlib.org/stable/api/_as_gen/matplotlib.pyplot.subplots.html)\n",
    "- [Assign a figure title](https://matplotlib.org/stable/api/_as_gen/matplotlib.pyplot.suptitle.html)\n",
    "- [Plot groups of histograms](https://matplotlib.org/stable/api/_as_gen/matplotlib.pyplot.hist.html) (minimum, mean and maximum values) for all provinces of interest\n",
    "- [Add a legend](https://matplotlib.org/stable/api/_as_gen/matplotlib.pyplot.legend.html)"
   ]
  },
  {
   "cell_type": "code",
   "execution_count": null,
   "metadata": {},
   "outputs": [],
   "source": [
    "fig, (ax1, ax2, ax3) = plt.subplots(1, 3)\n",
    "fig.suptitle(\"Soil Moisture (<2cm thickness in %)\")\n",
    "\n",
    "\n",
    "ax1.hist(sk_df[\"soil_moisture_min\"], alpha=0.5, label=\"sk\")\n",
    "ax1.hist(ab_df[\"soil_moisture_min\"], alpha=0.5, label=\"ab\")\n",
    "ax1.hist(mb_df[\"soil_moisture_min\"], alpha=0.5, label=\"mb\")\n",
    "ax1.title.set_text(\"min\")\n",
    "ax1.legend(loc=\"upper left\")\n",
    "\n",
    "ax2.hist(sk_df[\"soil_moisture_mean\"], alpha=0.5, label=\"sk\")\n",
    "ax2.hist(ab_df[\"soil_moisture_mean\"], alpha=0.5, label=\"ab\")\n",
    "ax2.hist(mb_df[\"soil_moisture_mean\"], alpha=0.5, label=\"mb\")\n",
    "ax2.title.set_text(\"mean\")\n",
    "ax2.legend(loc=\"upper left\")\n",
    "\n",
    "ax3.hist(sk_df[\"soil_moisture_max\"], alpha=0.5, label=\"sk\")\n",
    "ax3.hist(ab_df[\"soil_moisture_max\"], alpha=0.5, label=\"ab\")\n",
    "ax3.hist(mb_df[\"soil_moisture_max\"], alpha=0.5, label=\"mb\")\n",
    "ax3.title.set_text(\"max\")\n",
    "ax3.legend(loc=\"upper left\")"
   ]
  }
 ],
 "metadata": {
  "kernelspec": {
   "display_name": "env",
   "language": "python",
   "name": "python3"
  },
  "language_info": {
   "codemirror_mode": {
    "name": "ipython",
    "version": 3
   },
   "file_extension": ".py",
   "mimetype": "text/x-python",
   "name": "python",
   "nbconvert_exporter": "python",
   "pygments_lexer": "ipython3",
   "version": "3.8.0"
  },
  "orig_nbformat": 4
 },
 "nbformat": 4,
 "nbformat_minor": 2
}
