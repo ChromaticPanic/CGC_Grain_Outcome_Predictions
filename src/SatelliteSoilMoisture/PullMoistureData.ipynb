{
 "cells": [
  {
   "cell_type": "code",
   "execution_count": null,
   "metadata": {},
   "outputs": [],
   "source": [
    "import os\n",
    "import xarray as xr  # type: ignore\n",
    "import geopandas as gpd  # type: ignore\n",
    "from dotenv import load_dotenv\n",
    "import sqlalchemy as sq  # type: ignore\n",
    "import sys\n",
    "\n",
    "\n",
    "sys.path.append(\"../\")\n",
    "from SoilMoistureQueryHandler import SoilMoistureQueryHandler\n",
    "from Shared.DataService import DataService"
   ]
  },
  {
   "cell_type": "code",
   "execution_count": null,
   "metadata": {},
   "outputs": [],
   "source": [
    "def updateLog(fileName: str, message: str) -> None:\n",
    "    try:\n",
    "        if fileName is not None:\n",
    "            with open(fileName, \"a\") as log:\n",
    "                log.write(message + \"\\n\")\n",
    "    except Exception as e:\n",
    "        print(message)"
   ]
  },
  {
   "cell_type": "code",
   "execution_count": null,
   "metadata": {},
   "outputs": [],
   "source": [
    "def get_nc_file_list(folder_path):\n",
    "    # Get a list of all files in the folder\n",
    "    file_list = os.listdir(folder_path)\n",
    "    # Filter the file list to include only NetCDF files\n",
    "    nc_file_list = [filename for filename in file_list if filename.endswith(\".nc\")]\n",
    "    return nc_file_list"
   ]
  },
  {
   "cell_type": "code",
   "execution_count": null,
   "metadata": {},
   "outputs": [],
   "source": [
    "def get_agriculture_regions(conn):\n",
    "    query = sq.text(\"select cr_num, district, geometry FROM public.census_ag_regions\")\n",
    "    agRegions = gpd.GeoDataFrame.from_postgis(\n",
    "        query, conn, crs=\"EPSG:3347\", geom_col=\"geometry\"\n",
    "    )\n",
    "    return agRegions"
   ]
  },
  {
   "cell_type": "code",
   "execution_count": null,
   "metadata": {},
   "outputs": [],
   "source": [
    "def process_netcdf_file(netcdf_file_path, conn, agRegions, TABLE):\n",
    "    dataset = xr.open_dataset(netcdf_file_path)\n",
    "    df = (\n",
    "        dataset.to_dataframe().reset_index()\n",
    "    )  # Converts the contents into a dataframe and corrects indexes\n",
    "    dataset.close()\n",
    "\n",
    "    df.drop(\n",
    "        columns=[\n",
    "            \"flag\",\n",
    "            \"freqbandID\",\n",
    "            \"dnflag\",\n",
    "            \"mode\",\n",
    "            \"sensor\",\n",
    "            \"t0\",\n",
    "            \"sm_uncertainty\",\n",
    "        ],\n",
    "        inplace=True,\n",
    "    )\n",
    "    df.rename(columns={df.columns[0]: \"date\"}, inplace=True)\n",
    "    df.rename(columns={df.columns[3]: \"soil_moisture\"}, inplace=True)\n",
    "    df = df[df[\"soil_moisture\"].notna()]\n",
    "\n",
    "    df = gpd.GeoDataFrame(\n",
    "        df, crs=\"EPSG:4326\", geometry=gpd.points_from_xy(df.lon, df.lat)\n",
    "    )  # Creates geometry from df using lon and lat as cords to create points (points being geometry)\n",
    "\n",
    "    df = df.to_crs(  # type: ignore\n",
    "        crs=\"EPSG:3347\"\n",
    "    )  # Changes the points projection to match the agriculture regions of EPSG:3347\n",
    "\n",
    "    df = gpd.sjoin(\n",
    "        df, agRegions, how=\"left\", predicate=\"within\"\n",
    "    )  # Join the two dataframes based on which points fit within what agriculture regions\n",
    "\n",
    "    df.drop(columns=[\"index_right\", \"geometry\"], inplace=True)\n",
    "\n",
    "    df = df[df[\"cr_num\"].notna()]  # Take rows that are valid numbers\n",
    "\n",
    "    df[[\"cr_num\"]] = df[[\"cr_num\"]].astype(int)\n",
    "    df = df.reset_index()\n",
    "\n",
    "    df.drop(columns=[\"index\"], inplace=True)\n",
    "\n",
    "    df.to_sql(TABLE, conn, schema=\"public\", if_exists=\"append\", index=False)"
   ]
  },
  {
   "cell_type": "code",
   "execution_count": null,
   "metadata": {},
   "outputs": [],
   "source": [
    "def main():\n",
    "    # path to soil moister data\n",
    "    MAIN_FOLDER_PATH = \"/data/common/Images/\"\n",
    "    LOG_FILE = \"/data/pull_moisture.log\"\n",
    "    ERROR_FILE = \"/data/pull_moisture.err\"\n",
    "\n",
    "    # loading environment variables\n",
    "    load_dotenv()\n",
    "    PG_USER = os.getenv(\"POSTGRES_USER\")\n",
    "    PG_PW = os.getenv(\"POSTGRES_PW\")\n",
    "    PG_DB = os.getenv(\"POSTGRES_DB\")\n",
    "    PG_ADDR = os.getenv(\"POSTGRES_ADDR\")\n",
    "    PG_PORT = os.getenv(\"POSTGRES_PORT\")\n",
    "\n",
    "    if (\n",
    "        PG_DB is None\n",
    "        or PG_ADDR is None\n",
    "        or PG_PORT is None\n",
    "        or PG_USER is None\n",
    "        or PG_PW is None\n",
    "    ):\n",
    "        updateLog(LOG_FILE, \"Missing database credentials\")\n",
    "        raise ValueError(\"Environment variables not set\")\n",
    "\n",
    "    TABLE = \"soil_moisture\"\n",
    "\n",
    "    queryHandler = SoilMoistureQueryHandler()\n",
    "\n",
    "    db = DataService(PG_DB, PG_ADDR, int(PG_PORT), PG_USER, PG_PW)\n",
    "    conn = db.connect()\n",
    "\n",
    "    queryHandler.createSoilMoistureTableReq(db)\n",
    "\n",
    "    agRegions = get_agriculture_regions(conn)\n",
    "\n",
    "    try:\n",
    "        folder_names = os.listdir(MAIN_FOLDER_PATH)\n",
    "    except OSError as e:\n",
    "        updateLog(\n",
    "            ERROR_FILE,\n",
    "            f\"\\t\\tError occurred while listing files in the main folder path: {MAIN_FOLDER_PATH}\",\n",
    "        )\n",
    "        updateLog(ERROR_FILE, str(e))\n",
    "        return\n",
    "\n",
    "    for folder_name in folder_names:\n",
    "        print(\"started : \" + folder_name)\n",
    "        updateLog(LOG_FILE, f\"Started Updating data for {folder_name} in {TABLE} ...\")\n",
    "        folder_path = os.path.join(MAIN_FOLDER_PATH, folder_name)\n",
    "\n",
    "        nc_file_list = get_nc_file_list(folder_path)\n",
    "\n",
    "        try:\n",
    "            for nc_file in nc_file_list:\n",
    "                # Construct the full file path\n",
    "                netcdf_file_path = os.path.join(folder_path, nc_file)\n",
    "                process_netcdf_file(netcdf_file_path, conn, agRegions, TABLE)\n",
    "\n",
    "        except FileNotFoundError as e:\n",
    "            updateLog(\n",
    "                ERROR_FILE,\n",
    "                f\"\\t\\tError occurred while listing files in the NC files: {nc_file}\",\n",
    "            )\n",
    "            updateLog(ERROR_FILE, f\"\\t\\t{e}\")\n",
    "\n",
    "        updateLog(LOG_FILE, f\"Ended Updating data for {folder_name} in {TABLE} ...\")"
   ]
  },
  {
   "cell_type": "code",
   "execution_count": null,
   "metadata": {},
   "outputs": [],
   "source": [
    "main()"
   ]
  },
  {
   "cell_type": "code",
   "execution_count": null,
   "metadata": {},
   "outputs": [],
   "source": []
  }
 ],
 "metadata": {
  "kernelspec": {
   "display_name": "Python 3",
   "language": "python",
   "name": "python3"
  },
  "language_info": {
   "codemirror_mode": {
    "name": "ipython",
    "version": 3
   },
   "file_extension": ".py",
   "mimetype": "text/x-python",
   "name": "python",
   "nbconvert_exporter": "python",
   "pygments_lexer": "ipython3",
   "version": "3.10.6"
  },
  "orig_nbformat": 4,
  "vscode": {
   "interpreter": {
    "hash": "e7370f93d1d0cde622a1f8e1c04877d8463912d04d973331ad4851f04de6915a"
   }
  }
 },
 "nbformat": 4,
 "nbformat_minor": 2
}
