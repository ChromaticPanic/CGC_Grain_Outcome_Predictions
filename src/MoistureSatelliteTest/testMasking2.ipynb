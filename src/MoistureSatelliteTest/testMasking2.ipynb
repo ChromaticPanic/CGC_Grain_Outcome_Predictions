{
 "cells": [
  {
   "cell_type": "code",
   "execution_count": 1,
   "metadata": {
    "collapsed": true
   },
   "outputs": [],
   "source": [
    "# importing libraries\n",
    "import xarray as xr\n",
    "import geopandas as gpd\n",
    "import numpy as np\n",
    "import regionmask\n",
    "from pyproj import CRS\n"
   ]
  },
  {
   "cell_type": "code",
   "execution_count": 2,
   "outputs": [],
   "source": [
    "# specifying paths\n",
    "shapefile_path = \"C:\\jay projects\\school\\COMP 4560\\CGC_Grain_Outcome_Predictions\\src\\MoistureSatelliteTest\\lpr_000b16a_e.shp\"\n",
    "netcdf_file_path = \"C:\\jay projects\\school\\COMP 4560\\CGC_Grain_Outcome_Predictions\\src\\MoistureSatelliteTest\\perfectDemo.nc\""
   ],
   "metadata": {
    "collapsed": false
   }
  },
  {
   "cell_type": "code",
   "execution_count": 3,
   "outputs": [],
   "source": [
    "# reading shape file\n",
    "shapefile = gpd.read_file(shapefile_path)"
   ],
   "metadata": {
    "collapsed": false
   }
  },
  {
   "cell_type": "code",
   "execution_count": 29,
   "outputs": [
    {
     "data": {
      "text/plain": "   PRUID                                             PRNAME  \\\n0     10  Newfoundland and Labrador / Terre-Neuve-et-Lab...   \n1     11       Prince Edward Island / Île-du-Prince-Édouard   \n2     12                      Nova Scotia / Nouvelle-Écosse   \n3     13                  New Brunswick / Nouveau-Brunswick   \n4     24                                    Quebec / Québec   \n5     35                                            Ontario   \n6     46                                           Manitoba   \n7     47                                       Saskatchewan   \n8     48                                            Alberta   \n9     59            British Columbia / Colombie-Britannique   \n10    60                                              Yukon   \n11    61  Northwest Territories / Territoires du Nord-Ouest   \n12    62                                            Nunavut   \n\n                      PRENAME                    PRFNAME PREABBR   PRFABBR  \\\n0   Newfoundland and Labrador    Terre-Neuve-et-Labrador    N.L.  T.-N.-L.   \n1        Prince Edward Island      Île-du-Prince-Édouard  P.E.I.  Î.-P.-É.   \n2                 Nova Scotia            Nouvelle-Écosse    N.S.     N.-É.   \n3               New Brunswick          Nouveau-Brunswick    N.B.     N.-B.   \n4                      Quebec                     Québec    Que.        Qc   \n5                     Ontario                    Ontario    Ont.      Ont.   \n6                    Manitoba                   Manitoba    Man.      Man.   \n7                Saskatchewan               Saskatchewan   Sask.     Sask.   \n8                     Alberta                    Alberta   Alta.      Alb.   \n9            British Columbia       Colombie-Britannique    B.C.     C.-B.   \n10                      Yukon                      Yukon    Y.T.        Yn   \n11      Northwest Territories  Territoires du Nord-Ouest  N.W.T.   T.N.-O.   \n12                    Nunavut                    Nunavut    Nvt.        Nt   \n\n                                             geometry  \n0   MULTIPOLYGON (((8307365.589 2582136.711, 83083...  \n1   MULTIPOLYGON (((8435711.754 1679935.966, 84358...  \n2   MULTIPOLYGON (((8470851.646 1624745.011, 84710...  \n3   MULTIPOLYGON (((8176224.537 1722553.460, 81762...  \n4   MULTIPOLYGON (((8399709.494 2261445.703, 84005...  \n5   MULTIPOLYGON (((6378815.614 2295412.440, 63787...  \n6   MULTIPOLYGON (((6039656.509 2636304.343, 60396...  \n7   POLYGON ((5248633.914 2767057.263, 5249285.640...  \n8   POLYGON ((5228304.177 2767597.891, 5228098.463...  \n9   MULTIPOLYGON (((4018904.414 3410247.271, 40194...  \n10  MULTIPOLYGON (((4593284.320 4180399.606, 45933...  \n11  MULTIPOLYGON (((4709778.780 4202808.109, 47096...  \n12  MULTIPOLYGON (((6105932.626 3935743.411, 61062...  ",
      "text/html": "<div>\n<style scoped>\n    .dataframe tbody tr th:only-of-type {\n        vertical-align: middle;\n    }\n\n    .dataframe tbody tr th {\n        vertical-align: top;\n    }\n\n    .dataframe thead th {\n        text-align: right;\n    }\n</style>\n<table border=\"1\" class=\"dataframe\">\n  <thead>\n    <tr style=\"text-align: right;\">\n      <th></th>\n      <th>PRUID</th>\n      <th>PRNAME</th>\n      <th>PRENAME</th>\n      <th>PRFNAME</th>\n      <th>PREABBR</th>\n      <th>PRFABBR</th>\n      <th>geometry</th>\n    </tr>\n  </thead>\n  <tbody>\n    <tr>\n      <th>0</th>\n      <td>10</td>\n      <td>Newfoundland and Labrador / Terre-Neuve-et-Lab...</td>\n      <td>Newfoundland and Labrador</td>\n      <td>Terre-Neuve-et-Labrador</td>\n      <td>N.L.</td>\n      <td>T.-N.-L.</td>\n      <td>MULTIPOLYGON (((8307365.589 2582136.711, 83083...</td>\n    </tr>\n    <tr>\n      <th>1</th>\n      <td>11</td>\n      <td>Prince Edward Island / Île-du-Prince-Édouard</td>\n      <td>Prince Edward Island</td>\n      <td>Île-du-Prince-Édouard</td>\n      <td>P.E.I.</td>\n      <td>Î.-P.-É.</td>\n      <td>MULTIPOLYGON (((8435711.754 1679935.966, 84358...</td>\n    </tr>\n    <tr>\n      <th>2</th>\n      <td>12</td>\n      <td>Nova Scotia / Nouvelle-Écosse</td>\n      <td>Nova Scotia</td>\n      <td>Nouvelle-Écosse</td>\n      <td>N.S.</td>\n      <td>N.-É.</td>\n      <td>MULTIPOLYGON (((8470851.646 1624745.011, 84710...</td>\n    </tr>\n    <tr>\n      <th>3</th>\n      <td>13</td>\n      <td>New Brunswick / Nouveau-Brunswick</td>\n      <td>New Brunswick</td>\n      <td>Nouveau-Brunswick</td>\n      <td>N.B.</td>\n      <td>N.-B.</td>\n      <td>MULTIPOLYGON (((8176224.537 1722553.460, 81762...</td>\n    </tr>\n    <tr>\n      <th>4</th>\n      <td>24</td>\n      <td>Quebec / Québec</td>\n      <td>Quebec</td>\n      <td>Québec</td>\n      <td>Que.</td>\n      <td>Qc</td>\n      <td>MULTIPOLYGON (((8399709.494 2261445.703, 84005...</td>\n    </tr>\n    <tr>\n      <th>5</th>\n      <td>35</td>\n      <td>Ontario</td>\n      <td>Ontario</td>\n      <td>Ontario</td>\n      <td>Ont.</td>\n      <td>Ont.</td>\n      <td>MULTIPOLYGON (((6378815.614 2295412.440, 63787...</td>\n    </tr>\n    <tr>\n      <th>6</th>\n      <td>46</td>\n      <td>Manitoba</td>\n      <td>Manitoba</td>\n      <td>Manitoba</td>\n      <td>Man.</td>\n      <td>Man.</td>\n      <td>MULTIPOLYGON (((6039656.509 2636304.343, 60396...</td>\n    </tr>\n    <tr>\n      <th>7</th>\n      <td>47</td>\n      <td>Saskatchewan</td>\n      <td>Saskatchewan</td>\n      <td>Saskatchewan</td>\n      <td>Sask.</td>\n      <td>Sask.</td>\n      <td>POLYGON ((5248633.914 2767057.263, 5249285.640...</td>\n    </tr>\n    <tr>\n      <th>8</th>\n      <td>48</td>\n      <td>Alberta</td>\n      <td>Alberta</td>\n      <td>Alberta</td>\n      <td>Alta.</td>\n      <td>Alb.</td>\n      <td>POLYGON ((5228304.177 2767597.891, 5228098.463...</td>\n    </tr>\n    <tr>\n      <th>9</th>\n      <td>59</td>\n      <td>British Columbia / Colombie-Britannique</td>\n      <td>British Columbia</td>\n      <td>Colombie-Britannique</td>\n      <td>B.C.</td>\n      <td>C.-B.</td>\n      <td>MULTIPOLYGON (((4018904.414 3410247.271, 40194...</td>\n    </tr>\n    <tr>\n      <th>10</th>\n      <td>60</td>\n      <td>Yukon</td>\n      <td>Yukon</td>\n      <td>Yukon</td>\n      <td>Y.T.</td>\n      <td>Yn</td>\n      <td>MULTIPOLYGON (((4593284.320 4180399.606, 45933...</td>\n    </tr>\n    <tr>\n      <th>11</th>\n      <td>61</td>\n      <td>Northwest Territories / Territoires du Nord-Ouest</td>\n      <td>Northwest Territories</td>\n      <td>Territoires du Nord-Ouest</td>\n      <td>N.W.T.</td>\n      <td>T.N.-O.</td>\n      <td>MULTIPOLYGON (((4709778.780 4202808.109, 47096...</td>\n    </tr>\n    <tr>\n      <th>12</th>\n      <td>62</td>\n      <td>Nunavut</td>\n      <td>Nunavut</td>\n      <td>Nunavut</td>\n      <td>Nvt.</td>\n      <td>Nt</td>\n      <td>MULTIPOLYGON (((6105932.626 3935743.411, 61062...</td>\n    </tr>\n  </tbody>\n</table>\n</div>"
     },
     "execution_count": 29,
     "metadata": {},
     "output_type": "execute_result"
    }
   ],
   "source": [
    "shapefile"
   ],
   "metadata": {
    "collapsed": false
   }
  },
  {
   "cell_type": "code",
   "execution_count": 4,
   "outputs": [],
   "source": [
    "# Match the netCDF CRS (EPSG:4326)\n",
    "netcdf_crs = CRS.from_epsg(4326)"
   ],
   "metadata": {
    "collapsed": false
   }
  },
  {
   "cell_type": "code",
   "execution_count": 81,
   "outputs": [
    {
     "name": "stderr",
     "output_type": "stream",
     "text": [
      "C:\\Users\\jaydo\\AppData\\Local\\Programs\\Python\\Python311\\Lib\\site-packages\\xarray\\coding\\times.py:254: RuntimeWarning: invalid value encountered in cast\n",
      "  flat_num_dates_ns_int = (flat_num_dates * _NS_PER_TIME_DELTA[delta]).astype(\n"
     ]
    }
   ],
   "source": [
    "# Load the netCDF dataset\n",
    "dataset = xr.open_dataset(netcdf_file_path)\n",
    "lon = dataset['lon']\n",
    "lat = dataset['lat']"
   ],
   "metadata": {
    "collapsed": false
   }
  },
  {
   "cell_type": "code",
   "execution_count": 6,
   "outputs": [],
   "source": [
    "# Reproject the shapefile to match the netCDF CRS\n",
    "shapefile_reprojected = shapefile.to_crs(netcdf_crs)"
   ],
   "metadata": {
    "collapsed": false
   }
  },
  {
   "cell_type": "code",
   "execution_count": 71,
   "outputs": [
    {
     "data": {
      "text/plain": "<xarray.Dataset>\nDimensions:     (time: 1, lat: 720, lon: 1440)\nCoordinates:\n  * time        (time) datetime64[ns] 2004-06-05\n  * lat         (lat) float64 89.88 89.62 89.38 89.12 ... -89.38 -89.62 -89.88\n  * lon         (lon) float64 -179.9 -179.6 -179.4 -179.1 ... 179.4 179.6 179.9\nData variables:\n    sm          (time, lat, lon) float32 ...\n    flag        (time, lat, lon) float32 ...\n    freqbandID  (time, lat, lon) float32 ...\n    dnflag      (time, lat, lon) float32 ...\n    mode        (time, lat, lon) float32 ...\n    sensor      (time, lat, lon) float64 ...\n    t0          (time, lat, lon) datetime64[ns] ...\nAttributes: (12/44)\n    title:                        ESA CCI Surface Soil Moisture COMBINED acti...\n    institution:                  TU Wien (AUT); VanderSat B.V. (NL)\n    contact:                      cci_sm_contact@eodc.eu\n    source:                       WARP 5.5R1.1/AMI-WS/ERS12 Level 2 Soil Mois...\n    platform:                     Nimbus 7, DMSP, TRMM, AQUA, Coriolis, GCOM-...\n    processing_level:             Quality-controlled, super-collocated (L3S) ...\n    ...                           ...\n    geospatial_lon_units:         degrees_east\n    geospatial_lat_resolution:    0.25 degree\n    geospatial_lon_resolution:    0.25 degree\n    spatial_resolution:           25km\n    time_coverage_start:          20040605T000000Z\n    time_coverage_end:            20040605T235959Z",
      "text/html": "<div><svg style=\"position: absolute; width: 0; height: 0; overflow: hidden\">\n<defs>\n<symbol id=\"icon-database\" viewBox=\"0 0 32 32\">\n<path d=\"M16 0c-8.837 0-16 2.239-16 5v4c0 2.761 7.163 5 16 5s16-2.239 16-5v-4c0-2.761-7.163-5-16-5z\"></path>\n<path d=\"M16 17c-8.837 0-16-2.239-16-5v6c0 2.761 7.163 5 16 5s16-2.239 16-5v-6c0 2.761-7.163 5-16 5z\"></path>\n<path d=\"M16 26c-8.837 0-16-2.239-16-5v6c0 2.761 7.163 5 16 5s16-2.239 16-5v-6c0 2.761-7.163 5-16 5z\"></path>\n</symbol>\n<symbol id=\"icon-file-text2\" viewBox=\"0 0 32 32\">\n<path d=\"M28.681 7.159c-0.694-0.947-1.662-2.053-2.724-3.116s-2.169-2.030-3.116-2.724c-1.612-1.182-2.393-1.319-2.841-1.319h-15.5c-1.378 0-2.5 1.121-2.5 2.5v27c0 1.378 1.122 2.5 2.5 2.5h23c1.378 0 2.5-1.122 2.5-2.5v-19.5c0-0.448-0.137-1.23-1.319-2.841zM24.543 5.457c0.959 0.959 1.712 1.825 2.268 2.543h-4.811v-4.811c0.718 0.556 1.584 1.309 2.543 2.268zM28 29.5c0 0.271-0.229 0.5-0.5 0.5h-23c-0.271 0-0.5-0.229-0.5-0.5v-27c0-0.271 0.229-0.5 0.5-0.5 0 0 15.499-0 15.5 0v7c0 0.552 0.448 1 1 1h7v19.5z\"></path>\n<path d=\"M23 26h-14c-0.552 0-1-0.448-1-1s0.448-1 1-1h14c0.552 0 1 0.448 1 1s-0.448 1-1 1z\"></path>\n<path d=\"M23 22h-14c-0.552 0-1-0.448-1-1s0.448-1 1-1h14c0.552 0 1 0.448 1 1s-0.448 1-1 1z\"></path>\n<path d=\"M23 18h-14c-0.552 0-1-0.448-1-1s0.448-1 1-1h14c0.552 0 1 0.448 1 1s-0.448 1-1 1z\"></path>\n</symbol>\n</defs>\n</svg>\n<style>/* CSS stylesheet for displaying xarray objects in jupyterlab.\n *\n */\n\n:root {\n  --xr-font-color0: var(--jp-content-font-color0, rgba(0, 0, 0, 1));\n  --xr-font-color2: var(--jp-content-font-color2, rgba(0, 0, 0, 0.54));\n  --xr-font-color3: var(--jp-content-font-color3, rgba(0, 0, 0, 0.38));\n  --xr-border-color: var(--jp-border-color2, #e0e0e0);\n  --xr-disabled-color: var(--jp-layout-color3, #bdbdbd);\n  --xr-background-color: var(--jp-layout-color0, white);\n  --xr-background-color-row-even: var(--jp-layout-color1, white);\n  --xr-background-color-row-odd: var(--jp-layout-color2, #eeeeee);\n}\n\nhtml[theme=dark],\nbody[data-theme=dark],\nbody.vscode-dark {\n  --xr-font-color0: rgba(255, 255, 255, 1);\n  --xr-font-color2: rgba(255, 255, 255, 0.54);\n  --xr-font-color3: rgba(255, 255, 255, 0.38);\n  --xr-border-color: #1F1F1F;\n  --xr-disabled-color: #515151;\n  --xr-background-color: #111111;\n  --xr-background-color-row-even: #111111;\n  --xr-background-color-row-odd: #313131;\n}\n\n.xr-wrap {\n  display: block !important;\n  min-width: 300px;\n  max-width: 700px;\n}\n\n.xr-text-repr-fallback {\n  /* fallback to plain text repr when CSS is not injected (untrusted notebook) */\n  display: none;\n}\n\n.xr-header {\n  padding-top: 6px;\n  padding-bottom: 6px;\n  margin-bottom: 4px;\n  border-bottom: solid 1px var(--xr-border-color);\n}\n\n.xr-header > div,\n.xr-header > ul {\n  display: inline;\n  margin-top: 0;\n  margin-bottom: 0;\n}\n\n.xr-obj-type,\n.xr-array-name {\n  margin-left: 2px;\n  margin-right: 10px;\n}\n\n.xr-obj-type {\n  color: var(--xr-font-color2);\n}\n\n.xr-sections {\n  padding-left: 0 !important;\n  display: grid;\n  grid-template-columns: 150px auto auto 1fr 20px 20px;\n}\n\n.xr-section-item {\n  display: contents;\n}\n\n.xr-section-item input {\n  display: none;\n}\n\n.xr-section-item input + label {\n  color: var(--xr-disabled-color);\n}\n\n.xr-section-item input:enabled + label {\n  cursor: pointer;\n  color: var(--xr-font-color2);\n}\n\n.xr-section-item input:enabled + label:hover {\n  color: var(--xr-font-color0);\n}\n\n.xr-section-summary {\n  grid-column: 1;\n  color: var(--xr-font-color2);\n  font-weight: 500;\n}\n\n.xr-section-summary > span {\n  display: inline-block;\n  padding-left: 0.5em;\n}\n\n.xr-section-summary-in:disabled + label {\n  color: var(--xr-font-color2);\n}\n\n.xr-section-summary-in + label:before {\n  display: inline-block;\n  content: '►';\n  font-size: 11px;\n  width: 15px;\n  text-align: center;\n}\n\n.xr-section-summary-in:disabled + label:before {\n  color: var(--xr-disabled-color);\n}\n\n.xr-section-summary-in:checked + label:before {\n  content: '▼';\n}\n\n.xr-section-summary-in:checked + label > span {\n  display: none;\n}\n\n.xr-section-summary,\n.xr-section-inline-details {\n  padding-top: 4px;\n  padding-bottom: 4px;\n}\n\n.xr-section-inline-details {\n  grid-column: 2 / -1;\n}\n\n.xr-section-details {\n  display: none;\n  grid-column: 1 / -1;\n  margin-bottom: 5px;\n}\n\n.xr-section-summary-in:checked ~ .xr-section-details {\n  display: contents;\n}\n\n.xr-array-wrap {\n  grid-column: 1 / -1;\n  display: grid;\n  grid-template-columns: 20px auto;\n}\n\n.xr-array-wrap > label {\n  grid-column: 1;\n  vertical-align: top;\n}\n\n.xr-preview {\n  color: var(--xr-font-color3);\n}\n\n.xr-array-preview,\n.xr-array-data {\n  padding: 0 5px !important;\n  grid-column: 2;\n}\n\n.xr-array-data,\n.xr-array-in:checked ~ .xr-array-preview {\n  display: none;\n}\n\n.xr-array-in:checked ~ .xr-array-data,\n.xr-array-preview {\n  display: inline-block;\n}\n\n.xr-dim-list {\n  display: inline-block !important;\n  list-style: none;\n  padding: 0 !important;\n  margin: 0;\n}\n\n.xr-dim-list li {\n  display: inline-block;\n  padding: 0;\n  margin: 0;\n}\n\n.xr-dim-list:before {\n  content: '(';\n}\n\n.xr-dim-list:after {\n  content: ')';\n}\n\n.xr-dim-list li:not(:last-child):after {\n  content: ',';\n  padding-right: 5px;\n}\n\n.xr-has-index {\n  font-weight: bold;\n}\n\n.xr-var-list,\n.xr-var-item {\n  display: contents;\n}\n\n.xr-var-item > div,\n.xr-var-item label,\n.xr-var-item > .xr-var-name span {\n  background-color: var(--xr-background-color-row-even);\n  margin-bottom: 0;\n}\n\n.xr-var-item > .xr-var-name:hover span {\n  padding-right: 5px;\n}\n\n.xr-var-list > li:nth-child(odd) > div,\n.xr-var-list > li:nth-child(odd) > label,\n.xr-var-list > li:nth-child(odd) > .xr-var-name span {\n  background-color: var(--xr-background-color-row-odd);\n}\n\n.xr-var-name {\n  grid-column: 1;\n}\n\n.xr-var-dims {\n  grid-column: 2;\n}\n\n.xr-var-dtype {\n  grid-column: 3;\n  text-align: right;\n  color: var(--xr-font-color2);\n}\n\n.xr-var-preview {\n  grid-column: 4;\n}\n\n.xr-index-preview {\n  grid-column: 2 / 5;\n  color: var(--xr-font-color2);\n}\n\n.xr-var-name,\n.xr-var-dims,\n.xr-var-dtype,\n.xr-preview,\n.xr-attrs dt {\n  white-space: nowrap;\n  overflow: hidden;\n  text-overflow: ellipsis;\n  padding-right: 10px;\n}\n\n.xr-var-name:hover,\n.xr-var-dims:hover,\n.xr-var-dtype:hover,\n.xr-attrs dt:hover {\n  overflow: visible;\n  width: auto;\n  z-index: 1;\n}\n\n.xr-var-attrs,\n.xr-var-data,\n.xr-index-data {\n  display: none;\n  background-color: var(--xr-background-color) !important;\n  padding-bottom: 5px !important;\n}\n\n.xr-var-attrs-in:checked ~ .xr-var-attrs,\n.xr-var-data-in:checked ~ .xr-var-data,\n.xr-index-data-in:checked ~ .xr-index-data {\n  display: block;\n}\n\n.xr-var-data > table {\n  float: right;\n}\n\n.xr-var-name span,\n.xr-var-data,\n.xr-index-name div,\n.xr-index-data,\n.xr-attrs {\n  padding-left: 25px !important;\n}\n\n.xr-attrs,\n.xr-var-attrs,\n.xr-var-data,\n.xr-index-data {\n  grid-column: 1 / -1;\n}\n\ndl.xr-attrs {\n  padding: 0;\n  margin: 0;\n  display: grid;\n  grid-template-columns: 125px auto;\n}\n\n.xr-attrs dt,\n.xr-attrs dd {\n  padding: 0;\n  margin: 0;\n  float: left;\n  padding-right: 10px;\n  width: auto;\n}\n\n.xr-attrs dt {\n  font-weight: normal;\n  grid-column: 1;\n}\n\n.xr-attrs dt:hover span {\n  display: inline-block;\n  background: var(--xr-background-color);\n  padding-right: 10px;\n}\n\n.xr-attrs dd {\n  grid-column: 2;\n  white-space: pre-wrap;\n  word-break: break-all;\n}\n\n.xr-icon-database,\n.xr-icon-file-text2,\n.xr-no-icon {\n  display: inline-block;\n  vertical-align: middle;\n  width: 1em;\n  height: 1.5em !important;\n  stroke-width: 0;\n  stroke: currentColor;\n  fill: currentColor;\n}\n</style><pre class='xr-text-repr-fallback'>&lt;xarray.Dataset&gt;\nDimensions:     (time: 1, lat: 720, lon: 1440)\nCoordinates:\n  * time        (time) datetime64[ns] 2004-06-05\n  * lat         (lat) float64 89.88 89.62 89.38 89.12 ... -89.38 -89.62 -89.88\n  * lon         (lon) float64 -179.9 -179.6 -179.4 -179.1 ... 179.4 179.6 179.9\nData variables:\n    sm          (time, lat, lon) float32 ...\n    flag        (time, lat, lon) float32 ...\n    freqbandID  (time, lat, lon) float32 ...\n    dnflag      (time, lat, lon) float32 ...\n    mode        (time, lat, lon) float32 ...\n    sensor      (time, lat, lon) float64 ...\n    t0          (time, lat, lon) datetime64[ns] ...\nAttributes: (12/44)\n    title:                        ESA CCI Surface Soil Moisture COMBINED acti...\n    institution:                  TU Wien (AUT); VanderSat B.V. (NL)\n    contact:                      cci_sm_contact@eodc.eu\n    source:                       WARP 5.5R1.1/AMI-WS/ERS12 Level 2 Soil Mois...\n    platform:                     Nimbus 7, DMSP, TRMM, AQUA, Coriolis, GCOM-...\n    processing_level:             Quality-controlled, super-collocated (L3S) ...\n    ...                           ...\n    geospatial_lon_units:         degrees_east\n    geospatial_lat_resolution:    0.25 degree\n    geospatial_lon_resolution:    0.25 degree\n    spatial_resolution:           25km\n    time_coverage_start:          20040605T000000Z\n    time_coverage_end:            20040605T235959Z</pre><div class='xr-wrap' style='display:none'><div class='xr-header'><div class='xr-obj-type'>xarray.Dataset</div></div><ul class='xr-sections'><li class='xr-section-item'><input id='section-ada14a4e-31d7-4931-b1b6-149ffe90cb17' class='xr-section-summary-in' type='checkbox' disabled ><label for='section-ada14a4e-31d7-4931-b1b6-149ffe90cb17' class='xr-section-summary'  title='Expand/collapse section'>Dimensions:</label><div class='xr-section-inline-details'><ul class='xr-dim-list'><li><span class='xr-has-index'>time</span>: 1</li><li><span class='xr-has-index'>lat</span>: 720</li><li><span class='xr-has-index'>lon</span>: 1440</li></ul></div><div class='xr-section-details'></div></li><li class='xr-section-item'><input id='section-4a61f857-6bd7-4e1d-bb0d-379a46f7723c' class='xr-section-summary-in' type='checkbox'  checked><label for='section-4a61f857-6bd7-4e1d-bb0d-379a46f7723c' class='xr-section-summary' >Coordinates: <span>(3)</span></label><div class='xr-section-inline-details'></div><div class='xr-section-details'><ul class='xr-var-list'><li class='xr-var-item'><div class='xr-var-name'><span class='xr-has-index'>time</span></div><div class='xr-var-dims'>(time)</div><div class='xr-var-dtype'>datetime64[ns]</div><div class='xr-var-preview xr-preview'>2004-06-05</div><input id='attrs-2f98baf0-6d83-4ed9-b600-9b6c670c324b' class='xr-var-attrs-in' type='checkbox' disabled><label for='attrs-2f98baf0-6d83-4ed9-b600-9b6c670c324b' title='Show/Hide attributes'><svg class='icon xr-icon-file-text2'><use xlink:href='#icon-file-text2'></use></svg></label><input id='data-921a6501-d9b6-4da0-91e1-9ed8e69f5e6c' class='xr-var-data-in' type='checkbox'><label for='data-921a6501-d9b6-4da0-91e1-9ed8e69f5e6c' title='Show/Hide data repr'><svg class='icon xr-icon-database'><use xlink:href='#icon-database'></use></svg></label><div class='xr-var-attrs'><dl class='xr-attrs'></dl></div><div class='xr-var-data'><pre>array([&#x27;2004-06-05T00:00:00.000000000&#x27;], dtype=&#x27;datetime64[ns]&#x27;)</pre></div></li><li class='xr-var-item'><div class='xr-var-name'><span class='xr-has-index'>lat</span></div><div class='xr-var-dims'>(lat)</div><div class='xr-var-dtype'>float64</div><div class='xr-var-preview xr-preview'>89.88 89.62 89.38 ... -89.62 -89.88</div><input id='attrs-6a596c44-596c-4656-ab5e-cac7d316ef12' class='xr-var-attrs-in' type='checkbox' ><label for='attrs-6a596c44-596c-4656-ab5e-cac7d316ef12' title='Show/Hide attributes'><svg class='icon xr-icon-file-text2'><use xlink:href='#icon-file-text2'></use></svg></label><input id='data-1f09f794-52ae-44a7-8c16-2b94f7f8473c' class='xr-var-data-in' type='checkbox'><label for='data-1f09f794-52ae-44a7-8c16-2b94f7f8473c' title='Show/Hide data repr'><svg class='icon xr-icon-database'><use xlink:href='#icon-database'></use></svg></label><div class='xr-var-attrs'><dl class='xr-attrs'><dt><span>standard_name :</span></dt><dd>latitude</dd><dt><span>units :</span></dt><dd>degrees_north</dd><dt><span>valid_range :</span></dt><dd>[-90.  90.]</dd><dt><span>_CoordinateAxisType :</span></dt><dd>Lat</dd></dl></div><div class='xr-var-data'><pre>array([ 89.875,  89.625,  89.375, ..., -89.375, -89.625, -89.875])</pre></div></li><li class='xr-var-item'><div class='xr-var-name'><span class='xr-has-index'>lon</span></div><div class='xr-var-dims'>(lon)</div><div class='xr-var-dtype'>float64</div><div class='xr-var-preview xr-preview'>-179.9 -179.6 ... 179.6 179.9</div><input id='attrs-2fb8d1d7-8bc1-4cc4-bf27-c4aa3030f8ac' class='xr-var-attrs-in' type='checkbox' ><label for='attrs-2fb8d1d7-8bc1-4cc4-bf27-c4aa3030f8ac' title='Show/Hide attributes'><svg class='icon xr-icon-file-text2'><use xlink:href='#icon-file-text2'></use></svg></label><input id='data-afd2dfe0-7f8a-43b2-98f2-5ae01899cbaa' class='xr-var-data-in' type='checkbox'><label for='data-afd2dfe0-7f8a-43b2-98f2-5ae01899cbaa' title='Show/Hide data repr'><svg class='icon xr-icon-database'><use xlink:href='#icon-database'></use></svg></label><div class='xr-var-attrs'><dl class='xr-attrs'><dt><span>standard_name :</span></dt><dd>longitude</dd><dt><span>units :</span></dt><dd>degrees_east</dd><dt><span>valid_range :</span></dt><dd>[-180.  180.]</dd><dt><span>_CoordinateAxisType :</span></dt><dd>Lon</dd></dl></div><div class='xr-var-data'><pre>array([-179.875, -179.625, -179.375, ...,  179.375,  179.625,  179.875])</pre></div></li></ul></div></li><li class='xr-section-item'><input id='section-77c120a0-d982-46a3-8a98-6703aad61ab7' class='xr-section-summary-in' type='checkbox'  checked><label for='section-77c120a0-d982-46a3-8a98-6703aad61ab7' class='xr-section-summary' >Data variables: <span>(7)</span></label><div class='xr-section-inline-details'></div><div class='xr-section-details'><ul class='xr-var-list'><li class='xr-var-item'><div class='xr-var-name'><span>sm</span></div><div class='xr-var-dims'>(time, lat, lon)</div><div class='xr-var-dtype'>float32</div><div class='xr-var-preview xr-preview'>...</div><input id='attrs-ca73a850-d6d2-4fd3-8900-eddf36d71e30' class='xr-var-attrs-in' type='checkbox' ><label for='attrs-ca73a850-d6d2-4fd3-8900-eddf36d71e30' title='Show/Hide attributes'><svg class='icon xr-icon-file-text2'><use xlink:href='#icon-file-text2'></use></svg></label><input id='data-7734936f-2691-4a65-a17c-dbff5aa57500' class='xr-var-data-in' type='checkbox'><label for='data-7734936f-2691-4a65-a17c-dbff5aa57500' title='Show/Hide data repr'><svg class='icon xr-icon-database'><use xlink:href='#icon-database'></use></svg></label><div class='xr-var-attrs'><dl class='xr-attrs'><dt><span>dtype :</span></dt><dd>float32</dd><dt><span>units :</span></dt><dd>m3 m-3</dd><dt><span>valid_range :</span></dt><dd>[0. 1.]</dd><dt><span>long_name :</span></dt><dd>Volumetric Soil Moisture Adjusted (Quantile Matching)</dd><dt><span>standard_name :</span></dt><dd>soil_moisture_content</dd><dt><span>ancillary_variables :</span></dt><dd>flag t0</dd><dt><span>_CoordinateAxes :</span></dt><dd>time lat lon</dd></dl></div><div class='xr-var-data'><pre>[1036800 values with dtype=float32]</pre></div></li><li class='xr-var-item'><div class='xr-var-name'><span>flag</span></div><div class='xr-var-dims'>(time, lat, lon)</div><div class='xr-var-dtype'>float32</div><div class='xr-var-preview xr-preview'>...</div><input id='attrs-21c993f5-aafc-47de-958d-4f4f51cd824e' class='xr-var-attrs-in' type='checkbox' ><label for='attrs-21c993f5-aafc-47de-958d-4f4f51cd824e' title='Show/Hide attributes'><svg class='icon xr-icon-file-text2'><use xlink:href='#icon-file-text2'></use></svg></label><input id='data-179ad748-c540-4d7a-8b0a-0dc2de99b059' class='xr-var-data-in' type='checkbox'><label for='data-179ad748-c540-4d7a-8b0a-0dc2de99b059' title='Show/Hide data repr'><svg class='icon xr-icon-database'><use xlink:href='#icon-database'></use></svg></label><div class='xr-var-attrs'><dl class='xr-attrs'><dt><span>dtype :</span></dt><dd>int16</dd><dt><span>long_name :</span></dt><dd>Flag</dd><dt><span>standard_name :</span></dt><dd>soil_moisture_content status_flag</dd><dt><span>_CoordinateAxes :</span></dt><dd>time lat lon</dd><dt><span>flag_values :</span></dt><dd>[  0   1   2   3   8   9  10  11  16  17  18  19  24  25  26  64  65  66\n  67  72  73  74  80  81  82  83  88  89  90 127]</dd><dt><span>flag_meanings :</span></dt><dd>[&#x27;no_data_inconsistency_detected&#x27;, &#x27;snow_coverage_or_temperature_below_zero&#x27;, &#x27;dense_vegetation&#x27;, &#x27;combination_of_flag_values_1_and_2&#x27;, &#x27;soil_moisture_value_exceeds_physical_boundary&#x27;, &#x27;combination_of_flag_values_1_and_8&#x27;, &#x27;combination_of_flag_values_2_and_8&#x27;, &#x27;combination_of_flag_values_1_and_2_and_8&#x27;, &#x27;weight_of_measurement_below_threshold&#x27;, &#x27;combination_of_flag_values_1_and_16&#x27;, &#x27;combination_of_flag_values_2_and_16&#x27;, &#x27;combination_of_flag_values_1_and_2_and_16&#x27;, &#x27;combination_of_flag_values_8_and_16&#x27;, &#x27;combination_of_flag_values_1_and_8_and_16&#x27;, &#x27;combination_of_flag_values_2_and_8_and_16&#x27;, &#x27;barren_ground_advisory_flag&#x27;, &#x27;combination_of_flag_values_1_and_64&#x27;, &#x27;combination_of_flag_values_2_and_64&#x27;, &#x27;combination_of_flag_values_1_and_2_and_64&#x27;, &#x27;combination_of_flag_values_8_and_64&#x27;, &#x27;combination_of_flag_values_1_and_8_and_64&#x27;, &#x27;combination_of_flag_values_2_and_8_and_64&#x27;, &#x27;combination_of_flag_values_16_and_64&#x27;, &#x27;combination_of_flag_values_1_and_16_and_64&#x27;, &#x27;combination_of_flag_values_2_and_16_and_64&#x27;, &#x27;combination_of_flag_values_1_and_2_and_16_and_64&#x27;, &#x27;combination_of_flag_values_8_and_16_and_64&#x27;, &#x27;combination_of_flag_values_1_and_8_and_16_and_64&#x27;, &#x27;combination_of_flag_values_2_and_8_and_16_and_64&#x27;, &#x27;combination_of_flag_values_1_and_2_and_4_and_8_and_16_and_32_and_64&#x27;]</dd><dt><span>bits :</span></dt><dd>[&#x27;0b0&#x27;, &#x27;0b1&#x27;, &#x27;0b10&#x27;, &#x27;0b100&#x27;, &#x27;0b1000&#x27;, &#x27;0b10000&#x27;, &#x27;0b100000&#x27;, &#x27;0b1000000&#x27;, &#x27;0b10000000&#x27;]</dd><dt><span>bit_meanings :</span></dt><dd>[&#x27;no_data_inconsistency_detected&#x27;, &#x27;snow_coverage_or_temperature_below_zero&#x27;, &#x27;dense_vegetation&#x27;, &#x27;others_no_convergence_in_the_model_thus_no_valid_sm_estimates&#x27;, &#x27;soil_moisture_value_exceeds_physical_boundary&#x27;, &#x27;weight_of_measurement_below_threshold&#x27;, &#x27;all_datasets_deemed_unreliable&#x27;, &#x27;barren_ground_advisory_flag&#x27;, &#x27;NaN&#x27;]</dd><dt><span>valid_range :</span></dt><dd>[  0 255]</dd></dl></div><div class='xr-var-data'><pre>[1036800 values with dtype=float32]</pre></div></li><li class='xr-var-item'><div class='xr-var-name'><span>freqbandID</span></div><div class='xr-var-dims'>(time, lat, lon)</div><div class='xr-var-dtype'>float32</div><div class='xr-var-preview xr-preview'>...</div><input id='attrs-e2401a85-a8e5-4644-a6a8-5a97092cdcb4' class='xr-var-attrs-in' type='checkbox' ><label for='attrs-e2401a85-a8e5-4644-a6a8-5a97092cdcb4' title='Show/Hide attributes'><svg class='icon xr-icon-file-text2'><use xlink:href='#icon-file-text2'></use></svg></label><input id='data-39c45900-2366-4195-8289-0d3cfef7094a' class='xr-var-data-in' type='checkbox'><label for='data-39c45900-2366-4195-8289-0d3cfef7094a' title='Show/Hide data repr'><svg class='icon xr-icon-database'><use xlink:href='#icon-database'></use></svg></label><div class='xr-var-attrs'><dl class='xr-attrs'><dt><span>dtype :</span></dt><dd>int16</dd><dt><span>long_name :</span></dt><dd>Frequency Band Identification</dd><dt><span>_CoordinateAxes :</span></dt><dd>time lat lon</dd><dt><span>flag_values :</span></dt><dd>[ 0  2 16 18 64 66 80 82]</dd><dt><span>flag_meanings :</span></dt><dd>[&#x27;NaN&#x27;, &#x27;C53&#x27;, &#x27;C69&#x27;, &#x27;C53+C69&#x27;, &#x27;X107&#x27;, &#x27;C53+X107&#x27;, &#x27;C69+X107&#x27;, &#x27;C53+C69+X107&#x27;]</dd><dt><span>valid_range :</span></dt><dd>[  0 511]</dd><dt><span>bits :</span></dt><dd>[&#x27;0b0&#x27;, &#x27;0b1&#x27;, &#x27;0b10&#x27;, &#x27;0b100&#x27;, &#x27;0b1000&#x27;, &#x27;0b10000&#x27;, &#x27;0b100000&#x27;, &#x27;0b1000000&#x27;, &#x27;0b10000000&#x27;, &#x27;0b100000000&#x27;]</dd><dt><span>bit_meanings :</span></dt><dd>[&#x27;NaN&#x27;, &#x27;L14&#x27;, &#x27;C53&#x27;, &#x27;C66&#x27;, &#x27;C68&#x27;, &#x27;C69&#x27;, &#x27;C73&#x27;, &#x27;X107&#x27;, &#x27;K194&#x27;, &#x27;MODEL&#x27;]</dd></dl></div><div class='xr-var-data'><pre>[1036800 values with dtype=float32]</pre></div></li><li class='xr-var-item'><div class='xr-var-name'><span>dnflag</span></div><div class='xr-var-dims'>(time, lat, lon)</div><div class='xr-var-dtype'>float32</div><div class='xr-var-preview xr-preview'>...</div><input id='attrs-ab0f5f5a-fe92-4bca-b46c-188a4d85627d' class='xr-var-attrs-in' type='checkbox' ><label for='attrs-ab0f5f5a-fe92-4bca-b46c-188a4d85627d' title='Show/Hide attributes'><svg class='icon xr-icon-file-text2'><use xlink:href='#icon-file-text2'></use></svg></label><input id='data-a1b1f25a-8c85-4442-b26b-d144ec90ea63' class='xr-var-data-in' type='checkbox'><label for='data-a1b1f25a-8c85-4442-b26b-d144ec90ea63' title='Show/Hide data repr'><svg class='icon xr-icon-database'><use xlink:href='#icon-database'></use></svg></label><div class='xr-var-attrs'><dl class='xr-attrs'><dt><span>dtype :</span></dt><dd>int8</dd><dt><span>long_name :</span></dt><dd>Day / Night Flag</dd><dt><span>_CoordinateAxes :</span></dt><dd>time lat lon</dd><dt><span>flag_values :</span></dt><dd>[0 1 2 3]</dd><dt><span>flag_meanings :</span></dt><dd>[&#x27;NaN&#x27;, &#x27;day&#x27;, &#x27;night&#x27;, &#x27;day_night_combination&#x27;]</dd><dt><span>bits :</span></dt><dd>[&#x27;0b0&#x27;, &#x27;0b1&#x27;, &#x27;0b10&#x27;]</dd><dt><span>bit_meanings :</span></dt><dd>[&#x27;NaN&#x27;, &#x27;day&#x27;, &#x27;night&#x27;]</dd><dt><span>valid_range :</span></dt><dd>[0 3]</dd></dl></div><div class='xr-var-data'><pre>[1036800 values with dtype=float32]</pre></div></li><li class='xr-var-item'><div class='xr-var-name'><span>mode</span></div><div class='xr-var-dims'>(time, lat, lon)</div><div class='xr-var-dtype'>float32</div><div class='xr-var-preview xr-preview'>...</div><input id='attrs-ce7d03f1-b9e2-4d36-a4b7-32427883a9bb' class='xr-var-attrs-in' type='checkbox' ><label for='attrs-ce7d03f1-b9e2-4d36-a4b7-32427883a9bb' title='Show/Hide attributes'><svg class='icon xr-icon-file-text2'><use xlink:href='#icon-file-text2'></use></svg></label><input id='data-4a018876-8e9a-4673-a773-88d2af0f8df7' class='xr-var-data-in' type='checkbox'><label for='data-4a018876-8e9a-4673-a773-88d2af0f8df7' title='Show/Hide data repr'><svg class='icon xr-icon-database'><use xlink:href='#icon-database'></use></svg></label><div class='xr-var-attrs'><dl class='xr-attrs'><dt><span>dtype :</span></dt><dd>int8</dd><dt><span>long_name :</span></dt><dd>Satellite Mode</dd><dt><span>_CoordinateAxes :</span></dt><dd>time lat lon</dd><dt><span>flag_values :</span></dt><dd>[0 1 2 3]</dd><dt><span>flag_meanings :</span></dt><dd>[&#x27;NaN&#x27;, &#x27;ascending&#x27;, &#x27;descending&#x27;, &#x27;ascending_descending_combination&#x27;]</dd><dt><span>bits :</span></dt><dd>[&#x27;0b0&#x27;, &#x27;0b1&#x27;, &#x27;0b10&#x27;]</dd><dt><span>bit_meanings :</span></dt><dd>[&#x27;NaN&#x27;, &#x27;ascending&#x27;, &#x27;descending&#x27;]</dd><dt><span>valid_range :</span></dt><dd>[0 3]</dd></dl></div><div class='xr-var-data'><pre>[1036800 values with dtype=float32]</pre></div></li><li class='xr-var-item'><div class='xr-var-name'><span>sensor</span></div><div class='xr-var-dims'>(time, lat, lon)</div><div class='xr-var-dtype'>float64</div><div class='xr-var-preview xr-preview'>...</div><input id='attrs-88710c99-487f-46bb-bf7b-1de19cbc7f8b' class='xr-var-attrs-in' type='checkbox' ><label for='attrs-88710c99-487f-46bb-bf7b-1de19cbc7f8b' title='Show/Hide attributes'><svg class='icon xr-icon-file-text2'><use xlink:href='#icon-file-text2'></use></svg></label><input id='data-c7a4be81-1daf-4064-840e-d6555a15c997' class='xr-var-data-in' type='checkbox'><label for='data-c7a4be81-1daf-4064-840e-d6555a15c997' title='Show/Hide data repr'><svg class='icon xr-icon-database'><use xlink:href='#icon-database'></use></svg></label><div class='xr-var-attrs'><dl class='xr-attrs'><dt><span>dtype :</span></dt><dd>int32</dd><dt><span>long_name :</span></dt><dd>Sensor</dd><dt><span>_CoordinateAxes :</span></dt><dd>time lat lon</dd><dt><span>flag_values :</span></dt><dd>[  0   4   8  12 128 132 136 140]</dd><dt><span>flag_meanings :</span></dt><dd>[&#x27;NaN&#x27;, &#x27;TMI&#x27;, &#x27;AMSRE&#x27;, &#x27;TMI+AMSRE&#x27;, &#x27;AMIWS&#x27;, &#x27;TMI+AMIWS&#x27;, &#x27;AMSRE+AMIWS&#x27;, &#x27;TMI+AMSRE+AMIWS&#x27;]</dd><dt><span>valid_range :</span></dt><dd>[     0 131071]</dd><dt><span>bits :</span></dt><dd>[&#x27;0b0&#x27;, &#x27;0b1&#x27;, &#x27;0b10&#x27;, &#x27;0b100&#x27;, &#x27;0b1000&#x27;, &#x27;0b10000&#x27;, &#x27;0b100000&#x27;, &#x27;0b1000000&#x27;, &#x27;0b10000000&#x27;, &#x27;0b100000000&#x27;, &#x27;0b1000000000&#x27;, &#x27;0b10000000000&#x27;, &#x27;0b100000000000&#x27;, &#x27;0b1000000000000&#x27;, &#x27;0b10000000000000&#x27;, &#x27;0b100000000000000&#x27;, &#x27;0b1000000000000000&#x27;, &#x27;0b10000000000000000&#x27;]</dd><dt><span>bit_meanings :</span></dt><dd>[&#x27;NaN&#x27;, &#x27;SMMR&#x27;, &#x27;SSMI&#x27;, &#x27;TMI&#x27;, &#x27;AMSRE&#x27;, &#x27;WindSat&#x27;, &#x27;AMSR2&#x27;, &#x27;SMOS&#x27;, &#x27;AMIWS&#x27;, &#x27;ASCATA&#x27;, &#x27;ASCATB&#x27;, &#x27;SMAP&#x27;, &#x27;MODEL&#x27;, &#x27;GPM&#x27;, &#x27;FY3B&#x27;, &#x27;FY3D&#x27;, &#x27;ASCATC&#x27;, &#x27;FY3C&#x27;]</dd></dl></div><div class='xr-var-data'><pre>[1036800 values with dtype=float64]</pre></div></li><li class='xr-var-item'><div class='xr-var-name'><span>t0</span></div><div class='xr-var-dims'>(time, lat, lon)</div><div class='xr-var-dtype'>datetime64[ns]</div><div class='xr-var-preview xr-preview'>...</div><input id='attrs-528cc630-3743-479f-8a2b-75026208d4ca' class='xr-var-attrs-in' type='checkbox' ><label for='attrs-528cc630-3743-479f-8a2b-75026208d4ca' title='Show/Hide attributes'><svg class='icon xr-icon-file-text2'><use xlink:href='#icon-file-text2'></use></svg></label><input id='data-350c0a38-4730-4c6b-a7a7-52be6c299471' class='xr-var-data-in' type='checkbox'><label for='data-350c0a38-4730-4c6b-a7a7-52be6c299471' title='Show/Hide data repr'><svg class='icon xr-icon-database'><use xlink:href='#icon-database'></use></svg></label><div class='xr-var-attrs'><dl class='xr-attrs'><dt><span>dtype :</span></dt><dd>float64</dd><dt><span>long_name :</span></dt><dd>Observation Timestamp</dd><dt><span>_CoordinateAxes :</span></dt><dd>time lat lon</dd><dt><span>valid_range :</span></dt><dd>[12573. 12575.]</dd></dl></div><div class='xr-var-data'><pre>[1036800 values with dtype=datetime64[ns]]</pre></div></li></ul></div></li><li class='xr-section-item'><input id='section-6183aba9-9adc-42f2-a5cc-11296daa2f27' class='xr-section-summary-in' type='checkbox'  ><label for='section-6183aba9-9adc-42f2-a5cc-11296daa2f27' class='xr-section-summary' >Indexes: <span>(3)</span></label><div class='xr-section-inline-details'></div><div class='xr-section-details'><ul class='xr-var-list'><li class='xr-var-item'><div class='xr-index-name'><div>time</div></div><div class='xr-index-preview'>PandasIndex</div><div></div><input id='index-2866c665-383b-4ff8-98f9-d37228600b12' class='xr-index-data-in' type='checkbox'/><label for='index-2866c665-383b-4ff8-98f9-d37228600b12' title='Show/Hide index repr'><svg class='icon xr-icon-database'><use xlink:href='#icon-database'></use></svg></label><div class='xr-index-data'><pre>PandasIndex(DatetimeIndex([&#x27;2004-06-05&#x27;], dtype=&#x27;datetime64[ns]&#x27;, name=&#x27;time&#x27;, freq=None))</pre></div></li><li class='xr-var-item'><div class='xr-index-name'><div>lat</div></div><div class='xr-index-preview'>PandasIndex</div><div></div><input id='index-9c1b3182-edf5-4f25-b7c7-9a15fcc54d16' class='xr-index-data-in' type='checkbox'/><label for='index-9c1b3182-edf5-4f25-b7c7-9a15fcc54d16' title='Show/Hide index repr'><svg class='icon xr-icon-database'><use xlink:href='#icon-database'></use></svg></label><div class='xr-index-data'><pre>PandasIndex(Float64Index([ 89.875,  89.625,  89.375,  89.125,  88.875,  88.625,  88.375,\n               88.125,  87.875,  87.625,\n              ...\n              -87.625, -87.875, -88.125, -88.375, -88.625, -88.875, -89.125,\n              -89.375, -89.625, -89.875],\n             dtype=&#x27;float64&#x27;, name=&#x27;lat&#x27;, length=720))</pre></div></li><li class='xr-var-item'><div class='xr-index-name'><div>lon</div></div><div class='xr-index-preview'>PandasIndex</div><div></div><input id='index-c5082cee-61f8-4e9c-a20d-f243527063f2' class='xr-index-data-in' type='checkbox'/><label for='index-c5082cee-61f8-4e9c-a20d-f243527063f2' title='Show/Hide index repr'><svg class='icon xr-icon-database'><use xlink:href='#icon-database'></use></svg></label><div class='xr-index-data'><pre>PandasIndex(Float64Index([-179.875, -179.625, -179.375, -179.125, -178.875, -178.625,\n              -178.375, -178.125, -177.875, -177.625,\n              ...\n               177.625,  177.875,  178.125,  178.375,  178.625,  178.875,\n               179.125,  179.375,  179.625,  179.875],\n             dtype=&#x27;float64&#x27;, name=&#x27;lon&#x27;, length=1440))</pre></div></li></ul></div></li><li class='xr-section-item'><input id='section-3293e06b-6514-4187-bc55-eb41edbd1930' class='xr-section-summary-in' type='checkbox'  ><label for='section-3293e06b-6514-4187-bc55-eb41edbd1930' class='xr-section-summary' >Attributes: <span>(44)</span></label><div class='xr-section-inline-details'></div><div class='xr-section-details'><dl class='xr-attrs'><dt><span>title :</span></dt><dd>ESA CCI Surface Soil Moisture COMBINED active+passive BREAK ADJUSTED Product</dd><dt><span>institution :</span></dt><dd>TU Wien (AUT); VanderSat B.V. (NL)</dd><dt><span>contact :</span></dt><dd>cci_sm_contact@eodc.eu</dd><dt><span>source :</span></dt><dd>WARP 5.5R1.1/AMI-WS/ERS12 Level 2 Soil Moisture; WARP 5.4R1.0/AMI-WS/ERS2 Level 2 Soil Moisture; H115: Metop ASCAT Surface Soil Moisture Climate Data Record v5 12.5 km sampling, DOI: 10.15770/EUM_SAF_H_0006; H116: Metop ASCAT Surface Soil Moisture Climate Data Record v5 Extension 12.5 km sampling; H115: Metop ASCAT Surface Soil Moisture Climate Data Record v5 12.5 km sampling, DOI: 10.15770/EUM_SAF_H_0006; H116: Metop ASCAT Surface Soil Moisture Climate Data Record v5 Extension 12.5 km sampling; H115: Metop ASCAT Surface Soil Moisture Climate Data Record v5 12.5 km sampling, DOI: 10.15770/EUM_SAF_H_0006; H116: Metop ASCAT Surface Soil Moisture Climate Data Record v5 Extension 12.5 km sampling;; LPRMv7/SMMR/Nimbus 7 L3 Surface Soil Moisture, Ancillary Params, and quality flags; LPRMv7/SSMI/F08, F11, F13 DMSP L3 Surface Soil Moisture, Ancillary Params, and quality flags; LPRMv7/TMI/TRMM L2 Surface Soil Moisture, Ancillary Params, and QC; LPRMv7/AMSR-E/Aqua L2B Surface Soil Moisture, Ancillary Params, and QC; LPRMv7/WINDSAT/CORIOLIS L2 Surface Soil Moisture, Ancillary Params, and QC; LPRMv7/AMSR2/GCOM-W1 L3 Surface Soil Moisture, Ancillary Params; LPRMv7/SMOS/MIRAS L3 Surface Soil Moisture, CATDS Level 3 Brightness Temperatures (L3TB) version 300 RE03 &amp; RE04; LPRMv7/SMAP_radiometer/SMAP L2 Surface Soil Moisture, Ancillary Params, and QC; LPRMv7/GMI/GPM L3 Surface Soil Moisture, Ancillary Params, and quality flags; LPRMv7/VIRR/FengYun-3B L3 Surface Soil Moisture, Ancillary Params, and quality flags; LPRMv7/VIRR/FengYun-3C L3 Surface Soil Moisture, Ancillary Params, and quality flags; LPRMv7/VIRR/FengYun-3D L3 Surface Soil Moisture, Ancillary Params, and quality flags;;</dd><dt><span>platform :</span></dt><dd>Nimbus 7, DMSP, TRMM, AQUA, Coriolis, GCOM-W1, MIRAS, SMAP, GPM, FengYun-3B, FengYun-3C, FengYun-3D; ERS-1, ERS-2, METOP-A, METOP-B</dd><dt><span>processing_level :</span></dt><dd>Quality-controlled, super-collocated (L3S) Satellite Soil Moisture (SM) data from multiple sensors</dd><dt><span>sensor :</span></dt><dd>SMMR, SSM/I, TMI, AMSR-E, WindSat, AMSR2, SMOS, SMAP_radiometer, GMI, VIRR-3B, VIRR-3C, VIRR-3D; AMI-WS, ASCAT-A, ASCAT-B, ASCAT-C</dd><dt><span>references :</span></dt><dd>http://www.esa-soilmoisture-cci.org; Dorigo, W.A., Wagner, W., Albergel, C., Albrecht, F.,  Balsamo, G., Brocca, L., Chung, D., Ertl, M., Forkel, M., Gruber, A., Haas, E., Hamer, D. P. Hirschi, M., Ikonen, J., De Jeu, R. Kidd, R. Lahoz, W., Liu, Y.Y., Miralles, D., Lecomte, P. (2017) ESA CCI Soil Moisture for improved Earth system understanding: State-of-the art and future directions. In Remote Sensing of Environment, 2017, ISSN 0034-4257, https://doi.org/10.1016/j.rse.2017.07.001; Gruber, A., Scanlon, T., van der Schalie, R., Wagner, W., Dorigo, W. (2019) Evolution of the ESA CCI Soil Moisture Climate Data Records and their underlying merging methodology. Earth System Science Data 11, 717-739, https://doi.org/10.5194/essd-11-717-2019; Gruber, A., Dorigo, W. A., Crow, W., Wagner W. (2017). Triple Collocation-Based Merging of Satellite Soil Moisture Retrievals. IEEE Transactions on Geoscience and Remote Sensing. PP. 1-13. https://doi.org/10.1109/TGRS.2017.2734070</dd><dt><span>product_version :</span></dt><dd>v07.1</dd><dt><span>id :</span></dt><dd>ESACCI-SOILMOISTURE-L3S-SSMV-COMBINED_ADJUSTED-20040605000000-fv07.1.nc</dd><dt><span>tracking_id :</span></dt><dd>0eb7a931-e162-4b75-9594-f2817a8080b5</dd><dt><span>Conventions :</span></dt><dd>CF-1.9</dd><dt><span>standard_name_vocabulary :</span></dt><dd>CF Standard Name Table v77</dd><dt><span>summary :</span></dt><dd>This dataset was produced with funding of the ESA CCI+ Soil Moisture project; ESRIN Contract No: 4000126684/19/I-NB</dd><dt><span>keywords :</span></dt><dd>soil moisture, soil water content, microwave remote sensing, active, passive, combined, climate data record</dd><dt><span>naming_authority :</span></dt><dd>TU Wien</dd><dt><span>keywords_vocabulary :</span></dt><dd>NASA Global Change Master Directory (GCMD) Science Keywords</dd><dt><span>cdm_data_type :</span></dt><dd>Grid</dd><dt><span>comment :</span></dt><dd>This dataset was produced with funding of the ESA CCI+ Soil Moisture project; ESRIN Contract No: 4000126684/19/I-NB</dd><dt><span>history :</span></dt><dd>2022-04-22 02:53:43 - product produced</dd><dt><span>date_created :</span></dt><dd>File created: 2022-04-22 02:54:48.892574</dd><dt><span>creator_name :</span></dt><dd>Department of Geodesy and Geoinformation, Vienna University of Technology</dd><dt><span>creator_url :</span></dt><dd>https://climers.geo.tuwien.ac.at/</dd><dt><span>creator_email :</span></dt><dd>cci_sm_developer@eodc.eu</dd><dt><span>project :</span></dt><dd>Climate Change Initiative - European Space Agency</dd><dt><span>license :</span></dt><dd>Data use is free and open for all registered users.</dd><dt><span>time_coverage_start_product :</span></dt><dd>19781101T000000Z</dd><dt><span>time_coverage_end_product :</span></dt><dd>20211231T235959Z</dd><dt><span>time_coverage_duration :</span></dt><dd>P43Y</dd><dt><span>key_variables :</span></dt><dd>sm</dd><dt><span>time_coverage_resolution :</span></dt><dd>P1D</dd><dt><span>geospatial_lat_min :</span></dt><dd>-90.0</dd><dt><span>geospatial_lat_max :</span></dt><dd>90.0</dd><dt><span>geospatial_lon_min :</span></dt><dd>-180.0</dd><dt><span>geospatial_lon_max :</span></dt><dd>180.0</dd><dt><span>geospatial_vertical_min :</span></dt><dd>0.0</dd><dt><span>geospatial_vertical_max :</span></dt><dd>0.0</dd><dt><span>geospatial_lat_units :</span></dt><dd>degrees_north</dd><dt><span>geospatial_lon_units :</span></dt><dd>degrees_east</dd><dt><span>geospatial_lat_resolution :</span></dt><dd>0.25 degree</dd><dt><span>geospatial_lon_resolution :</span></dt><dd>0.25 degree</dd><dt><span>spatial_resolution :</span></dt><dd>25km</dd><dt><span>time_coverage_start :</span></dt><dd>20040605T000000Z</dd><dt><span>time_coverage_end :</span></dt><dd>20040605T235959Z</dd></dl></div></li></ul></div></div>"
     },
     "execution_count": 71,
     "metadata": {},
     "output_type": "execute_result"
    }
   ],
   "source": [
    "# checking for crs in shape file and netCDF file\n",
    "shapefile_reprojected.crs\n",
    "dataset"
   ],
   "metadata": {
    "collapsed": false
   }
  },
  {
   "cell_type": "code",
   "execution_count": 7,
   "outputs": [],
   "source": [
    "# Create a mask for the shapefile\n",
    "mask = regionmask.mask_geopandas(shapefile_reprojected, dataset.lon, dataset.lat)"
   ],
   "metadata": {
    "collapsed": false
   }
  },
  {
   "cell_type": "code",
   "execution_count": 8,
   "outputs": [
    {
     "name": "stderr",
     "output_type": "stream",
     "text": [
      "C:\\Users\\jaydo\\AppData\\Local\\Programs\\Python\\Python311\\Lib\\site-packages\\xarray\\coding\\times.py:254: RuntimeWarning: invalid value encountered in cast\n",
      "  flat_num_dates_ns_int = (flat_num_dates * _NS_PER_TIME_DELTA[delta]).astype(\n"
     ]
    }
   ],
   "source": [
    "# Apply the mask to the dataset\n",
    "masked_data = dataset.where(mask)"
   ],
   "metadata": {
    "collapsed": false
   }
  },
  {
   "cell_type": "code",
   "execution_count": 9,
   "outputs": [],
   "source": [
    "# Convert the masked data to a GeoPandas DataFrame\n",
    "masked_gdf = masked_data.to_dataframe().reset_index()"
   ],
   "metadata": {
    "collapsed": false
   }
  },
  {
   "cell_type": "code",
   "execution_count": 10,
   "outputs": [
    {
     "data": {
      "text/plain": "              time     lat      lon  sm  flag  freqbandID  dnflag  mode  \\\n0       2004-06-05  89.875 -179.875 NaN   NaN         NaN     NaN   NaN   \n1       2004-06-05  89.875 -179.625 NaN   NaN         NaN     NaN   NaN   \n2       2004-06-05  89.875 -179.375 NaN   NaN         NaN     NaN   NaN   \n3       2004-06-05  89.875 -179.125 NaN   NaN         NaN     NaN   NaN   \n4       2004-06-05  89.875 -178.875 NaN   NaN         NaN     NaN   NaN   \n...            ...     ...      ...  ..   ...         ...     ...   ...   \n1036795 2004-06-05 -89.875  178.875 NaN   NaN         NaN     NaN   NaN   \n1036796 2004-06-05 -89.875  179.125 NaN   NaN         NaN     NaN   NaN   \n1036797 2004-06-05 -89.875  179.375 NaN   NaN         NaN     NaN   NaN   \n1036798 2004-06-05 -89.875  179.625 NaN   NaN         NaN     NaN   NaN   \n1036799 2004-06-05 -89.875  179.875 NaN   NaN         NaN     NaN   NaN   \n\n         sensor  t0  \n0           NaN NaT  \n1           NaN NaT  \n2           NaN NaT  \n3           NaN NaT  \n4           NaN NaT  \n...         ...  ..  \n1036795     NaN NaT  \n1036796     NaN NaT  \n1036797     NaN NaT  \n1036798     NaN NaT  \n1036799     NaN NaT  \n\n[1036800 rows x 10 columns]",
      "text/html": "<div>\n<style scoped>\n    .dataframe tbody tr th:only-of-type {\n        vertical-align: middle;\n    }\n\n    .dataframe tbody tr th {\n        vertical-align: top;\n    }\n\n    .dataframe thead th {\n        text-align: right;\n    }\n</style>\n<table border=\"1\" class=\"dataframe\">\n  <thead>\n    <tr style=\"text-align: right;\">\n      <th></th>\n      <th>time</th>\n      <th>lat</th>\n      <th>lon</th>\n      <th>sm</th>\n      <th>flag</th>\n      <th>freqbandID</th>\n      <th>dnflag</th>\n      <th>mode</th>\n      <th>sensor</th>\n      <th>t0</th>\n    </tr>\n  </thead>\n  <tbody>\n    <tr>\n      <th>0</th>\n      <td>2004-06-05</td>\n      <td>89.875</td>\n      <td>-179.875</td>\n      <td>NaN</td>\n      <td>NaN</td>\n      <td>NaN</td>\n      <td>NaN</td>\n      <td>NaN</td>\n      <td>NaN</td>\n      <td>NaT</td>\n    </tr>\n    <tr>\n      <th>1</th>\n      <td>2004-06-05</td>\n      <td>89.875</td>\n      <td>-179.625</td>\n      <td>NaN</td>\n      <td>NaN</td>\n      <td>NaN</td>\n      <td>NaN</td>\n      <td>NaN</td>\n      <td>NaN</td>\n      <td>NaT</td>\n    </tr>\n    <tr>\n      <th>2</th>\n      <td>2004-06-05</td>\n      <td>89.875</td>\n      <td>-179.375</td>\n      <td>NaN</td>\n      <td>NaN</td>\n      <td>NaN</td>\n      <td>NaN</td>\n      <td>NaN</td>\n      <td>NaN</td>\n      <td>NaT</td>\n    </tr>\n    <tr>\n      <th>3</th>\n      <td>2004-06-05</td>\n      <td>89.875</td>\n      <td>-179.125</td>\n      <td>NaN</td>\n      <td>NaN</td>\n      <td>NaN</td>\n      <td>NaN</td>\n      <td>NaN</td>\n      <td>NaN</td>\n      <td>NaT</td>\n    </tr>\n    <tr>\n      <th>4</th>\n      <td>2004-06-05</td>\n      <td>89.875</td>\n      <td>-178.875</td>\n      <td>NaN</td>\n      <td>NaN</td>\n      <td>NaN</td>\n      <td>NaN</td>\n      <td>NaN</td>\n      <td>NaN</td>\n      <td>NaT</td>\n    </tr>\n    <tr>\n      <th>...</th>\n      <td>...</td>\n      <td>...</td>\n      <td>...</td>\n      <td>...</td>\n      <td>...</td>\n      <td>...</td>\n      <td>...</td>\n      <td>...</td>\n      <td>...</td>\n      <td>...</td>\n    </tr>\n    <tr>\n      <th>1036795</th>\n      <td>2004-06-05</td>\n      <td>-89.875</td>\n      <td>178.875</td>\n      <td>NaN</td>\n      <td>NaN</td>\n      <td>NaN</td>\n      <td>NaN</td>\n      <td>NaN</td>\n      <td>NaN</td>\n      <td>NaT</td>\n    </tr>\n    <tr>\n      <th>1036796</th>\n      <td>2004-06-05</td>\n      <td>-89.875</td>\n      <td>179.125</td>\n      <td>NaN</td>\n      <td>NaN</td>\n      <td>NaN</td>\n      <td>NaN</td>\n      <td>NaN</td>\n      <td>NaN</td>\n      <td>NaT</td>\n    </tr>\n    <tr>\n      <th>1036797</th>\n      <td>2004-06-05</td>\n      <td>-89.875</td>\n      <td>179.375</td>\n      <td>NaN</td>\n      <td>NaN</td>\n      <td>NaN</td>\n      <td>NaN</td>\n      <td>NaN</td>\n      <td>NaN</td>\n      <td>NaT</td>\n    </tr>\n    <tr>\n      <th>1036798</th>\n      <td>2004-06-05</td>\n      <td>-89.875</td>\n      <td>179.625</td>\n      <td>NaN</td>\n      <td>NaN</td>\n      <td>NaN</td>\n      <td>NaN</td>\n      <td>NaN</td>\n      <td>NaN</td>\n      <td>NaT</td>\n    </tr>\n    <tr>\n      <th>1036799</th>\n      <td>2004-06-05</td>\n      <td>-89.875</td>\n      <td>179.875</td>\n      <td>NaN</td>\n      <td>NaN</td>\n      <td>NaN</td>\n      <td>NaN</td>\n      <td>NaN</td>\n      <td>NaN</td>\n      <td>NaT</td>\n    </tr>\n  </tbody>\n</table>\n<p>1036800 rows × 10 columns</p>\n</div>"
     },
     "execution_count": 10,
     "metadata": {},
     "output_type": "execute_result"
    }
   ],
   "source": [
    "masked_gdf"
   ],
   "metadata": {
    "collapsed": false
   }
  },
  {
   "cell_type": "code",
   "execution_count": 11,
   "outputs": [
    {
     "name": "stdout",
     "output_type": "stream",
     "text": [
      "137315\n"
     ]
    }
   ],
   "source": [
    "# Print the GeoPandas DataFrame\n",
    "print(masked_gdf['sm'].count())"
   ],
   "metadata": {
    "collapsed": false
   }
  },
  {
   "cell_type": "code",
   "execution_count": 12,
   "outputs": [
    {
     "data": {
      "text/plain": "0         NaN\n1         NaN\n2         NaN\n3         NaN\n4         NaN\n           ..\n1036795   NaN\n1036796   NaN\n1036797   NaN\n1036798   NaN\n1036799   NaN\nName: sm, Length: 1036800, dtype: float32"
     },
     "execution_count": 12,
     "metadata": {},
     "output_type": "execute_result"
    }
   ],
   "source": [
    "masked_gdf['sm']"
   ],
   "metadata": {
    "collapsed": false
   }
  },
  {
   "cell_type": "code",
   "execution_count": 13,
   "outputs": [],
   "source": [
    "manitoba = shapefile[shapefile['PRNAME'] == \"Manitoba\"]"
   ],
   "metadata": {
    "collapsed": false
   }
  },
  {
   "cell_type": "code",
   "execution_count": 14,
   "outputs": [
    {
     "data": {
      "text/plain": "  PRUID    PRNAME   PRENAME   PRFNAME PREABBR PRFABBR  \\\n6    46  Manitoba  Manitoba  Manitoba    Man.    Man.   \n\n                                            geometry  \n6  MULTIPOLYGON (((6039656.509 2636304.343, 60396...  ",
      "text/html": "<div>\n<style scoped>\n    .dataframe tbody tr th:only-of-type {\n        vertical-align: middle;\n    }\n\n    .dataframe tbody tr th {\n        vertical-align: top;\n    }\n\n    .dataframe thead th {\n        text-align: right;\n    }\n</style>\n<table border=\"1\" class=\"dataframe\">\n  <thead>\n    <tr style=\"text-align: right;\">\n      <th></th>\n      <th>PRUID</th>\n      <th>PRNAME</th>\n      <th>PRENAME</th>\n      <th>PRFNAME</th>\n      <th>PREABBR</th>\n      <th>PRFABBR</th>\n      <th>geometry</th>\n    </tr>\n  </thead>\n  <tbody>\n    <tr>\n      <th>6</th>\n      <td>46</td>\n      <td>Manitoba</td>\n      <td>Manitoba</td>\n      <td>Manitoba</td>\n      <td>Man.</td>\n      <td>Man.</td>\n      <td>MULTIPOLYGON (((6039656.509 2636304.343, 60396...</td>\n    </tr>\n  </tbody>\n</table>\n</div>"
     },
     "execution_count": 14,
     "metadata": {},
     "output_type": "execute_result"
    }
   ],
   "source": [
    "manitoba"
   ],
   "metadata": {
    "collapsed": false
   }
  },
  {
   "cell_type": "code",
   "execution_count": 15,
   "outputs": [],
   "source": [
    "manitoba_reprojected = manitoba.to_crs(netcdf_crs)"
   ],
   "metadata": {
    "collapsed": false
   }
  },
  {
   "cell_type": "code",
   "execution_count": 16,
   "outputs": [
    {
     "data": {
      "text/plain": "  PRUID    PRNAME   PRENAME   PRFNAME PREABBR PRFABBR  \\\n6    46  Manitoba  Manitoba  Manitoba    Man.    Man.   \n\n                                            geometry  \n6  MULTIPOLYGON (((-94.82341 59.99352, -94.82398 ...  ",
      "text/html": "<div>\n<style scoped>\n    .dataframe tbody tr th:only-of-type {\n        vertical-align: middle;\n    }\n\n    .dataframe tbody tr th {\n        vertical-align: top;\n    }\n\n    .dataframe thead th {\n        text-align: right;\n    }\n</style>\n<table border=\"1\" class=\"dataframe\">\n  <thead>\n    <tr style=\"text-align: right;\">\n      <th></th>\n      <th>PRUID</th>\n      <th>PRNAME</th>\n      <th>PRENAME</th>\n      <th>PRFNAME</th>\n      <th>PREABBR</th>\n      <th>PRFABBR</th>\n      <th>geometry</th>\n    </tr>\n  </thead>\n  <tbody>\n    <tr>\n      <th>6</th>\n      <td>46</td>\n      <td>Manitoba</td>\n      <td>Manitoba</td>\n      <td>Manitoba</td>\n      <td>Man.</td>\n      <td>Man.</td>\n      <td>MULTIPOLYGON (((-94.82341 59.99352, -94.82398 ...</td>\n    </tr>\n  </tbody>\n</table>\n</div>"
     },
     "execution_count": 16,
     "metadata": {},
     "output_type": "execute_result"
    }
   ],
   "source": [
    "manitoba_reprojected"
   ],
   "metadata": {
    "collapsed": false
   }
  },
  {
   "cell_type": "code",
   "execution_count": 17,
   "outputs": [],
   "source": [
    "# Create a mask for the shapefile\n",
    "mask_manitoba = regionmask.mask_geopandas(manitoba_reprojected, dataset.lon, dataset.lat)"
   ],
   "metadata": {
    "collapsed": false
   }
  },
  {
   "cell_type": "code",
   "execution_count": 18,
   "outputs": [
    {
     "name": "stderr",
     "output_type": "stream",
     "text": [
      "C:\\Users\\jaydo\\AppData\\Local\\Programs\\Python\\Python311\\Lib\\site-packages\\xarray\\coding\\times.py:254: RuntimeWarning: invalid value encountered in cast\n",
      "  flat_num_dates_ns_int = (flat_num_dates * _NS_PER_TIME_DELTA[delta]).astype(\n"
     ]
    }
   ],
   "source": [
    "# Apply the mask to the dataset\n",
    "masked_data_manitoba = dataset.where(mask_manitoba)"
   ],
   "metadata": {
    "collapsed": false
   }
  },
  {
   "cell_type": "code",
   "execution_count": 19,
   "outputs": [],
   "source": [
    "# Convert the masked data to a GeoPandas DataFrame\n",
    "masked_gdf_manitoba = masked_data_manitoba.to_dataframe().reset_index()"
   ],
   "metadata": {
    "collapsed": false
   }
  },
  {
   "cell_type": "code",
   "execution_count": 20,
   "outputs": [
    {
     "data": {
      "text/plain": "0         NaN\n1         NaN\n2         NaN\n3         NaN\n4         NaN\n           ..\n1036795   NaN\n1036796   NaN\n1036797   NaN\n1036798   NaN\n1036799   NaN\nName: sm, Length: 1036800, dtype: float32"
     },
     "execution_count": 20,
     "metadata": {},
     "output_type": "execute_result"
    }
   ],
   "source": [
    "masked_gdf_manitoba['sm']"
   ],
   "metadata": {
    "collapsed": false
   }
  },
  {
   "cell_type": "code",
   "execution_count": 21,
   "outputs": [
    {
     "data": {
      "text/plain": "137713"
     },
     "execution_count": 21,
     "metadata": {},
     "output_type": "execute_result"
    }
   ],
   "source": [
    "masked_gdf_manitoba['sm'].count()"
   ],
   "metadata": {
    "collapsed": false
   }
  },
  {
   "cell_type": "code",
   "execution_count": 22,
   "outputs": [],
   "source": [
    "alberta = shapefile_reprojected[shapefile_reprojected['PRNAME'] == \"Alberta\"]"
   ],
   "metadata": {
    "collapsed": false
   }
  },
  {
   "cell_type": "code",
   "execution_count": 23,
   "outputs": [
    {
     "data": {
      "text/plain": "  PRUID   PRNAME  PRENAME  PRFNAME PREABBR PRFABBR  \\\n8    48  Alberta  Alberta  Alberta   Alta.    Alb.   \n\n                                            geometry  \n8  POLYGON ((-110.00000 59.95257, -110.00000 59.9...  ",
      "text/html": "<div>\n<style scoped>\n    .dataframe tbody tr th:only-of-type {\n        vertical-align: middle;\n    }\n\n    .dataframe tbody tr th {\n        vertical-align: top;\n    }\n\n    .dataframe thead th {\n        text-align: right;\n    }\n</style>\n<table border=\"1\" class=\"dataframe\">\n  <thead>\n    <tr style=\"text-align: right;\">\n      <th></th>\n      <th>PRUID</th>\n      <th>PRNAME</th>\n      <th>PRENAME</th>\n      <th>PRFNAME</th>\n      <th>PREABBR</th>\n      <th>PRFABBR</th>\n      <th>geometry</th>\n    </tr>\n  </thead>\n  <tbody>\n    <tr>\n      <th>8</th>\n      <td>48</td>\n      <td>Alberta</td>\n      <td>Alberta</td>\n      <td>Alberta</td>\n      <td>Alta.</td>\n      <td>Alb.</td>\n      <td>POLYGON ((-110.00000 59.95257, -110.00000 59.9...</td>\n    </tr>\n  </tbody>\n</table>\n</div>"
     },
     "execution_count": 23,
     "metadata": {},
     "output_type": "execute_result"
    }
   ],
   "source": [
    "alberta"
   ],
   "metadata": {
    "collapsed": false
   }
  },
  {
   "cell_type": "code",
   "execution_count": 83,
   "outputs": [],
   "source": [
    "mask_alberta = regionmask.mask_geopandas(alberta, lon, lat)"
   ],
   "metadata": {
    "collapsed": false
   }
  },
  {
   "cell_type": "code",
   "execution_count": 84,
   "outputs": [
    {
     "data": {
      "text/plain": "<xarray.DataArray 'mask' (lat: 720, lon: 1440)>\narray([[nan, nan, nan, ..., nan, nan, nan],\n       [nan, nan, nan, ..., nan, nan, nan],\n       [nan, nan, nan, ..., nan, nan, nan],\n       ...,\n       [nan, nan, nan, ..., nan, nan, nan],\n       [nan, nan, nan, ..., nan, nan, nan],\n       [nan, nan, nan, ..., nan, nan, nan]])\nCoordinates:\n  * lat      (lat) float64 89.88 89.62 89.38 89.12 ... -89.38 -89.62 -89.88\n  * lon      (lon) float64 -179.9 -179.6 -179.4 -179.1 ... 179.4 179.6 179.9\nAttributes:\n    standard_name:  region",
      "text/html": "<div><svg style=\"position: absolute; width: 0; height: 0; overflow: hidden\">\n<defs>\n<symbol id=\"icon-database\" viewBox=\"0 0 32 32\">\n<path d=\"M16 0c-8.837 0-16 2.239-16 5v4c0 2.761 7.163 5 16 5s16-2.239 16-5v-4c0-2.761-7.163-5-16-5z\"></path>\n<path d=\"M16 17c-8.837 0-16-2.239-16-5v6c0 2.761 7.163 5 16 5s16-2.239 16-5v-6c0 2.761-7.163 5-16 5z\"></path>\n<path d=\"M16 26c-8.837 0-16-2.239-16-5v6c0 2.761 7.163 5 16 5s16-2.239 16-5v-6c0 2.761-7.163 5-16 5z\"></path>\n</symbol>\n<symbol id=\"icon-file-text2\" viewBox=\"0 0 32 32\">\n<path d=\"M28.681 7.159c-0.694-0.947-1.662-2.053-2.724-3.116s-2.169-2.030-3.116-2.724c-1.612-1.182-2.393-1.319-2.841-1.319h-15.5c-1.378 0-2.5 1.121-2.5 2.5v27c0 1.378 1.122 2.5 2.5 2.5h23c1.378 0 2.5-1.122 2.5-2.5v-19.5c0-0.448-0.137-1.23-1.319-2.841zM24.543 5.457c0.959 0.959 1.712 1.825 2.268 2.543h-4.811v-4.811c0.718 0.556 1.584 1.309 2.543 2.268zM28 29.5c0 0.271-0.229 0.5-0.5 0.5h-23c-0.271 0-0.5-0.229-0.5-0.5v-27c0-0.271 0.229-0.5 0.5-0.5 0 0 15.499-0 15.5 0v7c0 0.552 0.448 1 1 1h7v19.5z\"></path>\n<path d=\"M23 26h-14c-0.552 0-1-0.448-1-1s0.448-1 1-1h14c0.552 0 1 0.448 1 1s-0.448 1-1 1z\"></path>\n<path d=\"M23 22h-14c-0.552 0-1-0.448-1-1s0.448-1 1-1h14c0.552 0 1 0.448 1 1s-0.448 1-1 1z\"></path>\n<path d=\"M23 18h-14c-0.552 0-1-0.448-1-1s0.448-1 1-1h14c0.552 0 1 0.448 1 1s-0.448 1-1 1z\"></path>\n</symbol>\n</defs>\n</svg>\n<style>/* CSS stylesheet for displaying xarray objects in jupyterlab.\n *\n */\n\n:root {\n  --xr-font-color0: var(--jp-content-font-color0, rgba(0, 0, 0, 1));\n  --xr-font-color2: var(--jp-content-font-color2, rgba(0, 0, 0, 0.54));\n  --xr-font-color3: var(--jp-content-font-color3, rgba(0, 0, 0, 0.38));\n  --xr-border-color: var(--jp-border-color2, #e0e0e0);\n  --xr-disabled-color: var(--jp-layout-color3, #bdbdbd);\n  --xr-background-color: var(--jp-layout-color0, white);\n  --xr-background-color-row-even: var(--jp-layout-color1, white);\n  --xr-background-color-row-odd: var(--jp-layout-color2, #eeeeee);\n}\n\nhtml[theme=dark],\nbody[data-theme=dark],\nbody.vscode-dark {\n  --xr-font-color0: rgba(255, 255, 255, 1);\n  --xr-font-color2: rgba(255, 255, 255, 0.54);\n  --xr-font-color3: rgba(255, 255, 255, 0.38);\n  --xr-border-color: #1F1F1F;\n  --xr-disabled-color: #515151;\n  --xr-background-color: #111111;\n  --xr-background-color-row-even: #111111;\n  --xr-background-color-row-odd: #313131;\n}\n\n.xr-wrap {\n  display: block !important;\n  min-width: 300px;\n  max-width: 700px;\n}\n\n.xr-text-repr-fallback {\n  /* fallback to plain text repr when CSS is not injected (untrusted notebook) */\n  display: none;\n}\n\n.xr-header {\n  padding-top: 6px;\n  padding-bottom: 6px;\n  margin-bottom: 4px;\n  border-bottom: solid 1px var(--xr-border-color);\n}\n\n.xr-header > div,\n.xr-header > ul {\n  display: inline;\n  margin-top: 0;\n  margin-bottom: 0;\n}\n\n.xr-obj-type,\n.xr-array-name {\n  margin-left: 2px;\n  margin-right: 10px;\n}\n\n.xr-obj-type {\n  color: var(--xr-font-color2);\n}\n\n.xr-sections {\n  padding-left: 0 !important;\n  display: grid;\n  grid-template-columns: 150px auto auto 1fr 20px 20px;\n}\n\n.xr-section-item {\n  display: contents;\n}\n\n.xr-section-item input {\n  display: none;\n}\n\n.xr-section-item input + label {\n  color: var(--xr-disabled-color);\n}\n\n.xr-section-item input:enabled + label {\n  cursor: pointer;\n  color: var(--xr-font-color2);\n}\n\n.xr-section-item input:enabled + label:hover {\n  color: var(--xr-font-color0);\n}\n\n.xr-section-summary {\n  grid-column: 1;\n  color: var(--xr-font-color2);\n  font-weight: 500;\n}\n\n.xr-section-summary > span {\n  display: inline-block;\n  padding-left: 0.5em;\n}\n\n.xr-section-summary-in:disabled + label {\n  color: var(--xr-font-color2);\n}\n\n.xr-section-summary-in + label:before {\n  display: inline-block;\n  content: '►';\n  font-size: 11px;\n  width: 15px;\n  text-align: center;\n}\n\n.xr-section-summary-in:disabled + label:before {\n  color: var(--xr-disabled-color);\n}\n\n.xr-section-summary-in:checked + label:before {\n  content: '▼';\n}\n\n.xr-section-summary-in:checked + label > span {\n  display: none;\n}\n\n.xr-section-summary,\n.xr-section-inline-details {\n  padding-top: 4px;\n  padding-bottom: 4px;\n}\n\n.xr-section-inline-details {\n  grid-column: 2 / -1;\n}\n\n.xr-section-details {\n  display: none;\n  grid-column: 1 / -1;\n  margin-bottom: 5px;\n}\n\n.xr-section-summary-in:checked ~ .xr-section-details {\n  display: contents;\n}\n\n.xr-array-wrap {\n  grid-column: 1 / -1;\n  display: grid;\n  grid-template-columns: 20px auto;\n}\n\n.xr-array-wrap > label {\n  grid-column: 1;\n  vertical-align: top;\n}\n\n.xr-preview {\n  color: var(--xr-font-color3);\n}\n\n.xr-array-preview,\n.xr-array-data {\n  padding: 0 5px !important;\n  grid-column: 2;\n}\n\n.xr-array-data,\n.xr-array-in:checked ~ .xr-array-preview {\n  display: none;\n}\n\n.xr-array-in:checked ~ .xr-array-data,\n.xr-array-preview {\n  display: inline-block;\n}\n\n.xr-dim-list {\n  display: inline-block !important;\n  list-style: none;\n  padding: 0 !important;\n  margin: 0;\n}\n\n.xr-dim-list li {\n  display: inline-block;\n  padding: 0;\n  margin: 0;\n}\n\n.xr-dim-list:before {\n  content: '(';\n}\n\n.xr-dim-list:after {\n  content: ')';\n}\n\n.xr-dim-list li:not(:last-child):after {\n  content: ',';\n  padding-right: 5px;\n}\n\n.xr-has-index {\n  font-weight: bold;\n}\n\n.xr-var-list,\n.xr-var-item {\n  display: contents;\n}\n\n.xr-var-item > div,\n.xr-var-item label,\n.xr-var-item > .xr-var-name span {\n  background-color: var(--xr-background-color-row-even);\n  margin-bottom: 0;\n}\n\n.xr-var-item > .xr-var-name:hover span {\n  padding-right: 5px;\n}\n\n.xr-var-list > li:nth-child(odd) > div,\n.xr-var-list > li:nth-child(odd) > label,\n.xr-var-list > li:nth-child(odd) > .xr-var-name span {\n  background-color: var(--xr-background-color-row-odd);\n}\n\n.xr-var-name {\n  grid-column: 1;\n}\n\n.xr-var-dims {\n  grid-column: 2;\n}\n\n.xr-var-dtype {\n  grid-column: 3;\n  text-align: right;\n  color: var(--xr-font-color2);\n}\n\n.xr-var-preview {\n  grid-column: 4;\n}\n\n.xr-index-preview {\n  grid-column: 2 / 5;\n  color: var(--xr-font-color2);\n}\n\n.xr-var-name,\n.xr-var-dims,\n.xr-var-dtype,\n.xr-preview,\n.xr-attrs dt {\n  white-space: nowrap;\n  overflow: hidden;\n  text-overflow: ellipsis;\n  padding-right: 10px;\n}\n\n.xr-var-name:hover,\n.xr-var-dims:hover,\n.xr-var-dtype:hover,\n.xr-attrs dt:hover {\n  overflow: visible;\n  width: auto;\n  z-index: 1;\n}\n\n.xr-var-attrs,\n.xr-var-data,\n.xr-index-data {\n  display: none;\n  background-color: var(--xr-background-color) !important;\n  padding-bottom: 5px !important;\n}\n\n.xr-var-attrs-in:checked ~ .xr-var-attrs,\n.xr-var-data-in:checked ~ .xr-var-data,\n.xr-index-data-in:checked ~ .xr-index-data {\n  display: block;\n}\n\n.xr-var-data > table {\n  float: right;\n}\n\n.xr-var-name span,\n.xr-var-data,\n.xr-index-name div,\n.xr-index-data,\n.xr-attrs {\n  padding-left: 25px !important;\n}\n\n.xr-attrs,\n.xr-var-attrs,\n.xr-var-data,\n.xr-index-data {\n  grid-column: 1 / -1;\n}\n\ndl.xr-attrs {\n  padding: 0;\n  margin: 0;\n  display: grid;\n  grid-template-columns: 125px auto;\n}\n\n.xr-attrs dt,\n.xr-attrs dd {\n  padding: 0;\n  margin: 0;\n  float: left;\n  padding-right: 10px;\n  width: auto;\n}\n\n.xr-attrs dt {\n  font-weight: normal;\n  grid-column: 1;\n}\n\n.xr-attrs dt:hover span {\n  display: inline-block;\n  background: var(--xr-background-color);\n  padding-right: 10px;\n}\n\n.xr-attrs dd {\n  grid-column: 2;\n  white-space: pre-wrap;\n  word-break: break-all;\n}\n\n.xr-icon-database,\n.xr-icon-file-text2,\n.xr-no-icon {\n  display: inline-block;\n  vertical-align: middle;\n  width: 1em;\n  height: 1.5em !important;\n  stroke-width: 0;\n  stroke: currentColor;\n  fill: currentColor;\n}\n</style><pre class='xr-text-repr-fallback'>&lt;xarray.DataArray &#x27;mask&#x27; (lat: 720, lon: 1440)&gt;\narray([[nan, nan, nan, ..., nan, nan, nan],\n       [nan, nan, nan, ..., nan, nan, nan],\n       [nan, nan, nan, ..., nan, nan, nan],\n       ...,\n       [nan, nan, nan, ..., nan, nan, nan],\n       [nan, nan, nan, ..., nan, nan, nan],\n       [nan, nan, nan, ..., nan, nan, nan]])\nCoordinates:\n  * lat      (lat) float64 89.88 89.62 89.38 89.12 ... -89.38 -89.62 -89.88\n  * lon      (lon) float64 -179.9 -179.6 -179.4 -179.1 ... 179.4 179.6 179.9\nAttributes:\n    standard_name:  region</pre><div class='xr-wrap' style='display:none'><div class='xr-header'><div class='xr-obj-type'>xarray.DataArray</div><div class='xr-array-name'>'mask'</div><ul class='xr-dim-list'><li><span class='xr-has-index'>lat</span>: 720</li><li><span class='xr-has-index'>lon</span>: 1440</li></ul></div><ul class='xr-sections'><li class='xr-section-item'><div class='xr-array-wrap'><input id='section-56622fe8-9119-412f-8fd2-e15c93ecb640' class='xr-array-in' type='checkbox' checked><label for='section-56622fe8-9119-412f-8fd2-e15c93ecb640' title='Show/hide data repr'><svg class='icon xr-icon-database'><use xlink:href='#icon-database'></use></svg></label><div class='xr-array-preview xr-preview'><span>nan nan nan nan nan nan nan nan ... nan nan nan nan nan nan nan nan</span></div><div class='xr-array-data'><pre>array([[nan, nan, nan, ..., nan, nan, nan],\n       [nan, nan, nan, ..., nan, nan, nan],\n       [nan, nan, nan, ..., nan, nan, nan],\n       ...,\n       [nan, nan, nan, ..., nan, nan, nan],\n       [nan, nan, nan, ..., nan, nan, nan],\n       [nan, nan, nan, ..., nan, nan, nan]])</pre></div></div></li><li class='xr-section-item'><input id='section-bcdbd9c4-b4f5-47c5-bc18-05ea1d757790' class='xr-section-summary-in' type='checkbox'  checked><label for='section-bcdbd9c4-b4f5-47c5-bc18-05ea1d757790' class='xr-section-summary' >Coordinates: <span>(2)</span></label><div class='xr-section-inline-details'></div><div class='xr-section-details'><ul class='xr-var-list'><li class='xr-var-item'><div class='xr-var-name'><span class='xr-has-index'>lat</span></div><div class='xr-var-dims'>(lat)</div><div class='xr-var-dtype'>float64</div><div class='xr-var-preview xr-preview'>89.88 89.62 89.38 ... -89.62 -89.88</div><input id='attrs-b78ec2cc-87dc-42ca-b433-d46a82fc97c8' class='xr-var-attrs-in' type='checkbox' ><label for='attrs-b78ec2cc-87dc-42ca-b433-d46a82fc97c8' title='Show/Hide attributes'><svg class='icon xr-icon-file-text2'><use xlink:href='#icon-file-text2'></use></svg></label><input id='data-276daa25-ec75-42bf-b973-a7a14bc905a1' class='xr-var-data-in' type='checkbox'><label for='data-276daa25-ec75-42bf-b973-a7a14bc905a1' title='Show/Hide data repr'><svg class='icon xr-icon-database'><use xlink:href='#icon-database'></use></svg></label><div class='xr-var-attrs'><dl class='xr-attrs'><dt><span>standard_name :</span></dt><dd>latitude</dd><dt><span>units :</span></dt><dd>degrees_north</dd><dt><span>valid_range :</span></dt><dd>[-90.  90.]</dd><dt><span>_CoordinateAxisType :</span></dt><dd>Lat</dd></dl></div><div class='xr-var-data'><pre>array([ 89.875,  89.625,  89.375, ..., -89.375, -89.625, -89.875])</pre></div></li><li class='xr-var-item'><div class='xr-var-name'><span class='xr-has-index'>lon</span></div><div class='xr-var-dims'>(lon)</div><div class='xr-var-dtype'>float64</div><div class='xr-var-preview xr-preview'>-179.9 -179.6 ... 179.6 179.9</div><input id='attrs-700f4986-1597-424f-87cc-0f9a76fbd3e6' class='xr-var-attrs-in' type='checkbox' ><label for='attrs-700f4986-1597-424f-87cc-0f9a76fbd3e6' title='Show/Hide attributes'><svg class='icon xr-icon-file-text2'><use xlink:href='#icon-file-text2'></use></svg></label><input id='data-04efd897-e800-4d40-b33a-bf01623e895a' class='xr-var-data-in' type='checkbox'><label for='data-04efd897-e800-4d40-b33a-bf01623e895a' title='Show/Hide data repr'><svg class='icon xr-icon-database'><use xlink:href='#icon-database'></use></svg></label><div class='xr-var-attrs'><dl class='xr-attrs'><dt><span>standard_name :</span></dt><dd>longitude</dd><dt><span>units :</span></dt><dd>degrees_east</dd><dt><span>valid_range :</span></dt><dd>[-180.  180.]</dd><dt><span>_CoordinateAxisType :</span></dt><dd>Lon</dd></dl></div><div class='xr-var-data'><pre>array([-179.875, -179.625, -179.375, ...,  179.375,  179.625,  179.875])</pre></div></li></ul></div></li><li class='xr-section-item'><input id='section-22870fc3-50e1-498e-9e70-a621c73ccc24' class='xr-section-summary-in' type='checkbox'  ><label for='section-22870fc3-50e1-498e-9e70-a621c73ccc24' class='xr-section-summary' >Indexes: <span>(2)</span></label><div class='xr-section-inline-details'></div><div class='xr-section-details'><ul class='xr-var-list'><li class='xr-var-item'><div class='xr-index-name'><div>lat</div></div><div class='xr-index-preview'>PandasIndex</div><div></div><input id='index-c4b1a259-3cd4-4bd1-a3b5-801af196bc40' class='xr-index-data-in' type='checkbox'/><label for='index-c4b1a259-3cd4-4bd1-a3b5-801af196bc40' title='Show/Hide index repr'><svg class='icon xr-icon-database'><use xlink:href='#icon-database'></use></svg></label><div class='xr-index-data'><pre>PandasIndex(Float64Index([ 89.875,  89.625,  89.375,  89.125,  88.875,  88.625,  88.375,\n               88.125,  87.875,  87.625,\n              ...\n              -87.625, -87.875, -88.125, -88.375, -88.625, -88.875, -89.125,\n              -89.375, -89.625, -89.875],\n             dtype=&#x27;float64&#x27;, name=&#x27;lat&#x27;, length=720))</pre></div></li><li class='xr-var-item'><div class='xr-index-name'><div>lon</div></div><div class='xr-index-preview'>PandasIndex</div><div></div><input id='index-45b9381d-8121-4d74-92d1-ac029f8a313c' class='xr-index-data-in' type='checkbox'/><label for='index-45b9381d-8121-4d74-92d1-ac029f8a313c' title='Show/Hide index repr'><svg class='icon xr-icon-database'><use xlink:href='#icon-database'></use></svg></label><div class='xr-index-data'><pre>PandasIndex(Float64Index([-179.875, -179.625, -179.375, -179.125, -178.875, -178.625,\n              -178.375, -178.125, -177.875, -177.625,\n              ...\n               177.625,  177.875,  178.125,  178.375,  178.625,  178.875,\n               179.125,  179.375,  179.625,  179.875],\n             dtype=&#x27;float64&#x27;, name=&#x27;lon&#x27;, length=1440))</pre></div></li></ul></div></li><li class='xr-section-item'><input id='section-bc8c71d5-45d3-4958-b4e8-6990db1dc623' class='xr-section-summary-in' type='checkbox'  checked><label for='section-bc8c71d5-45d3-4958-b4e8-6990db1dc623' class='xr-section-summary' >Attributes: <span>(1)</span></label><div class='xr-section-inline-details'></div><div class='xr-section-details'><dl class='xr-attrs'><dt><span>standard_name :</span></dt><dd>region</dd></dl></div></li></ul></div></div>"
     },
     "execution_count": 84,
     "metadata": {},
     "output_type": "execute_result"
    }
   ],
   "source": [
    "mask_alberta"
   ],
   "metadata": {
    "collapsed": false
   }
  },
  {
   "cell_type": "code",
   "execution_count": 85,
   "outputs": [
    {
     "name": "stderr",
     "output_type": "stream",
     "text": [
      "C:\\Users\\jaydo\\AppData\\Local\\Programs\\Python\\Python311\\Lib\\site-packages\\xarray\\coding\\times.py:254: RuntimeWarning: invalid value encountered in cast\n",
      "  flat_num_dates_ns_int = (flat_num_dates * _NS_PER_TIME_DELTA[delta]).astype(\n"
     ]
    }
   ],
   "source": [
    "masked_data_alberta = dataset.where(mask_alberta)"
   ],
   "metadata": {
    "collapsed": false
   }
  },
  {
   "cell_type": "code",
   "execution_count": 86,
   "outputs": [],
   "source": [
    "masked_gdf_alberta = masked_data_alberta.to_dataframe().reset_index()"
   ],
   "metadata": {
    "collapsed": false
   }
  },
  {
   "cell_type": "code",
   "execution_count": 87,
   "outputs": [
    {
     "data": {
      "text/plain": "137713"
     },
     "execution_count": 87,
     "metadata": {},
     "output_type": "execute_result"
    }
   ],
   "source": [
    "masked_gdf_alberta['sm'].count()"
   ],
   "metadata": {
    "collapsed": false
   }
  },
  {
   "cell_type": "code",
   "execution_count": 28,
   "outputs": [
    {
     "data": {
      "text/plain": "<xarray.DataArray 'lon' ()>\narray(-179.875)\nCoordinates:\n    lon      float64 -179.9\nAttributes:\n    standard_name:        longitude\n    units:                degrees_east\n    valid_range:          [-180.  180.]\n    _CoordinateAxisType:  Lon",
      "text/html": "<div><svg style=\"position: absolute; width: 0; height: 0; overflow: hidden\">\n<defs>\n<symbol id=\"icon-database\" viewBox=\"0 0 32 32\">\n<path d=\"M16 0c-8.837 0-16 2.239-16 5v4c0 2.761 7.163 5 16 5s16-2.239 16-5v-4c0-2.761-7.163-5-16-5z\"></path>\n<path d=\"M16 17c-8.837 0-16-2.239-16-5v6c0 2.761 7.163 5 16 5s16-2.239 16-5v-6c0 2.761-7.163 5-16 5z\"></path>\n<path d=\"M16 26c-8.837 0-16-2.239-16-5v6c0 2.761 7.163 5 16 5s16-2.239 16-5v-6c0 2.761-7.163 5-16 5z\"></path>\n</symbol>\n<symbol id=\"icon-file-text2\" viewBox=\"0 0 32 32\">\n<path d=\"M28.681 7.159c-0.694-0.947-1.662-2.053-2.724-3.116s-2.169-2.030-3.116-2.724c-1.612-1.182-2.393-1.319-2.841-1.319h-15.5c-1.378 0-2.5 1.121-2.5 2.5v27c0 1.378 1.122 2.5 2.5 2.5h23c1.378 0 2.5-1.122 2.5-2.5v-19.5c0-0.448-0.137-1.23-1.319-2.841zM24.543 5.457c0.959 0.959 1.712 1.825 2.268 2.543h-4.811v-4.811c0.718 0.556 1.584 1.309 2.543 2.268zM28 29.5c0 0.271-0.229 0.5-0.5 0.5h-23c-0.271 0-0.5-0.229-0.5-0.5v-27c0-0.271 0.229-0.5 0.5-0.5 0 0 15.499-0 15.5 0v7c0 0.552 0.448 1 1 1h7v19.5z\"></path>\n<path d=\"M23 26h-14c-0.552 0-1-0.448-1-1s0.448-1 1-1h14c0.552 0 1 0.448 1 1s-0.448 1-1 1z\"></path>\n<path d=\"M23 22h-14c-0.552 0-1-0.448-1-1s0.448-1 1-1h14c0.552 0 1 0.448 1 1s-0.448 1-1 1z\"></path>\n<path d=\"M23 18h-14c-0.552 0-1-0.448-1-1s0.448-1 1-1h14c0.552 0 1 0.448 1 1s-0.448 1-1 1z\"></path>\n</symbol>\n</defs>\n</svg>\n<style>/* CSS stylesheet for displaying xarray objects in jupyterlab.\n *\n */\n\n:root {\n  --xr-font-color0: var(--jp-content-font-color0, rgba(0, 0, 0, 1));\n  --xr-font-color2: var(--jp-content-font-color2, rgba(0, 0, 0, 0.54));\n  --xr-font-color3: var(--jp-content-font-color3, rgba(0, 0, 0, 0.38));\n  --xr-border-color: var(--jp-border-color2, #e0e0e0);\n  --xr-disabled-color: var(--jp-layout-color3, #bdbdbd);\n  --xr-background-color: var(--jp-layout-color0, white);\n  --xr-background-color-row-even: var(--jp-layout-color1, white);\n  --xr-background-color-row-odd: var(--jp-layout-color2, #eeeeee);\n}\n\nhtml[theme=dark],\nbody[data-theme=dark],\nbody.vscode-dark {\n  --xr-font-color0: rgba(255, 255, 255, 1);\n  --xr-font-color2: rgba(255, 255, 255, 0.54);\n  --xr-font-color3: rgba(255, 255, 255, 0.38);\n  --xr-border-color: #1F1F1F;\n  --xr-disabled-color: #515151;\n  --xr-background-color: #111111;\n  --xr-background-color-row-even: #111111;\n  --xr-background-color-row-odd: #313131;\n}\n\n.xr-wrap {\n  display: block !important;\n  min-width: 300px;\n  max-width: 700px;\n}\n\n.xr-text-repr-fallback {\n  /* fallback to plain text repr when CSS is not injected (untrusted notebook) */\n  display: none;\n}\n\n.xr-header {\n  padding-top: 6px;\n  padding-bottom: 6px;\n  margin-bottom: 4px;\n  border-bottom: solid 1px var(--xr-border-color);\n}\n\n.xr-header > div,\n.xr-header > ul {\n  display: inline;\n  margin-top: 0;\n  margin-bottom: 0;\n}\n\n.xr-obj-type,\n.xr-array-name {\n  margin-left: 2px;\n  margin-right: 10px;\n}\n\n.xr-obj-type {\n  color: var(--xr-font-color2);\n}\n\n.xr-sections {\n  padding-left: 0 !important;\n  display: grid;\n  grid-template-columns: 150px auto auto 1fr 20px 20px;\n}\n\n.xr-section-item {\n  display: contents;\n}\n\n.xr-section-item input {\n  display: none;\n}\n\n.xr-section-item input + label {\n  color: var(--xr-disabled-color);\n}\n\n.xr-section-item input:enabled + label {\n  cursor: pointer;\n  color: var(--xr-font-color2);\n}\n\n.xr-section-item input:enabled + label:hover {\n  color: var(--xr-font-color0);\n}\n\n.xr-section-summary {\n  grid-column: 1;\n  color: var(--xr-font-color2);\n  font-weight: 500;\n}\n\n.xr-section-summary > span {\n  display: inline-block;\n  padding-left: 0.5em;\n}\n\n.xr-section-summary-in:disabled + label {\n  color: var(--xr-font-color2);\n}\n\n.xr-section-summary-in + label:before {\n  display: inline-block;\n  content: '►';\n  font-size: 11px;\n  width: 15px;\n  text-align: center;\n}\n\n.xr-section-summary-in:disabled + label:before {\n  color: var(--xr-disabled-color);\n}\n\n.xr-section-summary-in:checked + label:before {\n  content: '▼';\n}\n\n.xr-section-summary-in:checked + label > span {\n  display: none;\n}\n\n.xr-section-summary,\n.xr-section-inline-details {\n  padding-top: 4px;\n  padding-bottom: 4px;\n}\n\n.xr-section-inline-details {\n  grid-column: 2 / -1;\n}\n\n.xr-section-details {\n  display: none;\n  grid-column: 1 / -1;\n  margin-bottom: 5px;\n}\n\n.xr-section-summary-in:checked ~ .xr-section-details {\n  display: contents;\n}\n\n.xr-array-wrap {\n  grid-column: 1 / -1;\n  display: grid;\n  grid-template-columns: 20px auto;\n}\n\n.xr-array-wrap > label {\n  grid-column: 1;\n  vertical-align: top;\n}\n\n.xr-preview {\n  color: var(--xr-font-color3);\n}\n\n.xr-array-preview,\n.xr-array-data {\n  padding: 0 5px !important;\n  grid-column: 2;\n}\n\n.xr-array-data,\n.xr-array-in:checked ~ .xr-array-preview {\n  display: none;\n}\n\n.xr-array-in:checked ~ .xr-array-data,\n.xr-array-preview {\n  display: inline-block;\n}\n\n.xr-dim-list {\n  display: inline-block !important;\n  list-style: none;\n  padding: 0 !important;\n  margin: 0;\n}\n\n.xr-dim-list li {\n  display: inline-block;\n  padding: 0;\n  margin: 0;\n}\n\n.xr-dim-list:before {\n  content: '(';\n}\n\n.xr-dim-list:after {\n  content: ')';\n}\n\n.xr-dim-list li:not(:last-child):after {\n  content: ',';\n  padding-right: 5px;\n}\n\n.xr-has-index {\n  font-weight: bold;\n}\n\n.xr-var-list,\n.xr-var-item {\n  display: contents;\n}\n\n.xr-var-item > div,\n.xr-var-item label,\n.xr-var-item > .xr-var-name span {\n  background-color: var(--xr-background-color-row-even);\n  margin-bottom: 0;\n}\n\n.xr-var-item > .xr-var-name:hover span {\n  padding-right: 5px;\n}\n\n.xr-var-list > li:nth-child(odd) > div,\n.xr-var-list > li:nth-child(odd) > label,\n.xr-var-list > li:nth-child(odd) > .xr-var-name span {\n  background-color: var(--xr-background-color-row-odd);\n}\n\n.xr-var-name {\n  grid-column: 1;\n}\n\n.xr-var-dims {\n  grid-column: 2;\n}\n\n.xr-var-dtype {\n  grid-column: 3;\n  text-align: right;\n  color: var(--xr-font-color2);\n}\n\n.xr-var-preview {\n  grid-column: 4;\n}\n\n.xr-index-preview {\n  grid-column: 2 / 5;\n  color: var(--xr-font-color2);\n}\n\n.xr-var-name,\n.xr-var-dims,\n.xr-var-dtype,\n.xr-preview,\n.xr-attrs dt {\n  white-space: nowrap;\n  overflow: hidden;\n  text-overflow: ellipsis;\n  padding-right: 10px;\n}\n\n.xr-var-name:hover,\n.xr-var-dims:hover,\n.xr-var-dtype:hover,\n.xr-attrs dt:hover {\n  overflow: visible;\n  width: auto;\n  z-index: 1;\n}\n\n.xr-var-attrs,\n.xr-var-data,\n.xr-index-data {\n  display: none;\n  background-color: var(--xr-background-color) !important;\n  padding-bottom: 5px !important;\n}\n\n.xr-var-attrs-in:checked ~ .xr-var-attrs,\n.xr-var-data-in:checked ~ .xr-var-data,\n.xr-index-data-in:checked ~ .xr-index-data {\n  display: block;\n}\n\n.xr-var-data > table {\n  float: right;\n}\n\n.xr-var-name span,\n.xr-var-data,\n.xr-index-name div,\n.xr-index-data,\n.xr-attrs {\n  padding-left: 25px !important;\n}\n\n.xr-attrs,\n.xr-var-attrs,\n.xr-var-data,\n.xr-index-data {\n  grid-column: 1 / -1;\n}\n\ndl.xr-attrs {\n  padding: 0;\n  margin: 0;\n  display: grid;\n  grid-template-columns: 125px auto;\n}\n\n.xr-attrs dt,\n.xr-attrs dd {\n  padding: 0;\n  margin: 0;\n  float: left;\n  padding-right: 10px;\n  width: auto;\n}\n\n.xr-attrs dt {\n  font-weight: normal;\n  grid-column: 1;\n}\n\n.xr-attrs dt:hover span {\n  display: inline-block;\n  background: var(--xr-background-color);\n  padding-right: 10px;\n}\n\n.xr-attrs dd {\n  grid-column: 2;\n  white-space: pre-wrap;\n  word-break: break-all;\n}\n\n.xr-icon-database,\n.xr-icon-file-text2,\n.xr-no-icon {\n  display: inline-block;\n  vertical-align: middle;\n  width: 1em;\n  height: 1.5em !important;\n  stroke-width: 0;\n  stroke: currentColor;\n  fill: currentColor;\n}\n</style><pre class='xr-text-repr-fallback'>&lt;xarray.DataArray &#x27;lon&#x27; ()&gt;\narray(-179.875)\nCoordinates:\n    lon      float64 -179.9\nAttributes:\n    standard_name:        longitude\n    units:                degrees_east\n    valid_range:          [-180.  180.]\n    _CoordinateAxisType:  Lon</pre><div class='xr-wrap' style='display:none'><div class='xr-header'><div class='xr-obj-type'>xarray.DataArray</div><div class='xr-array-name'>'lon'</div></div><ul class='xr-sections'><li class='xr-section-item'><div class='xr-array-wrap'><input id='section-6ac94b45-74ee-4c2c-af15-acd3be4bb6b0' class='xr-array-in' type='checkbox' checked><label for='section-6ac94b45-74ee-4c2c-af15-acd3be4bb6b0' title='Show/hide data repr'><svg class='icon xr-icon-database'><use xlink:href='#icon-database'></use></svg></label><div class='xr-array-preview xr-preview'><span>-179.9</span></div><div class='xr-array-data'><pre>array(-179.875)</pre></div></div></li><li class='xr-section-item'><input id='section-1ec8d8a3-9bc7-40f2-b0f7-4fd84058363f' class='xr-section-summary-in' type='checkbox'  checked><label for='section-1ec8d8a3-9bc7-40f2-b0f7-4fd84058363f' class='xr-section-summary' >Coordinates: <span>(1)</span></label><div class='xr-section-inline-details'></div><div class='xr-section-details'><ul class='xr-var-list'><li class='xr-var-item'><div class='xr-var-name'><span>lon</span></div><div class='xr-var-dims'>()</div><div class='xr-var-dtype'>float64</div><div class='xr-var-preview xr-preview'>-179.9</div><input id='attrs-241fc830-20be-4ac5-85ef-006a72804727' class='xr-var-attrs-in' type='checkbox' ><label for='attrs-241fc830-20be-4ac5-85ef-006a72804727' title='Show/Hide attributes'><svg class='icon xr-icon-file-text2'><use xlink:href='#icon-file-text2'></use></svg></label><input id='data-dd161a6a-3a9a-4d56-8e28-5e6d49518737' class='xr-var-data-in' type='checkbox'><label for='data-dd161a6a-3a9a-4d56-8e28-5e6d49518737' title='Show/Hide data repr'><svg class='icon xr-icon-database'><use xlink:href='#icon-database'></use></svg></label><div class='xr-var-attrs'><dl class='xr-attrs'><dt><span>standard_name :</span></dt><dd>longitude</dd><dt><span>units :</span></dt><dd>degrees_east</dd><dt><span>valid_range :</span></dt><dd>[-180.  180.]</dd><dt><span>_CoordinateAxisType :</span></dt><dd>Lon</dd></dl></div><div class='xr-var-data'><pre>array(-179.875)</pre></div></li></ul></div></li><li class='xr-section-item'><input id='section-de17dfb1-e3f7-4387-bf98-098cde622c14' class='xr-section-summary-in' type='checkbox' disabled ><label for='section-de17dfb1-e3f7-4387-bf98-098cde622c14' class='xr-section-summary'  title='Expand/collapse section'>Indexes: <span>(0)</span></label><div class='xr-section-inline-details'></div><div class='xr-section-details'><ul class='xr-var-list'></ul></div></li><li class='xr-section-item'><input id='section-7d6718fc-14a1-43c5-b269-60663e53dd1a' class='xr-section-summary-in' type='checkbox'  checked><label for='section-7d6718fc-14a1-43c5-b269-60663e53dd1a' class='xr-section-summary' >Attributes: <span>(4)</span></label><div class='xr-section-inline-details'></div><div class='xr-section-details'><dl class='xr-attrs'><dt><span>standard_name :</span></dt><dd>longitude</dd><dt><span>units :</span></dt><dd>degrees_east</dd><dt><span>valid_range :</span></dt><dd>[-180.  180.]</dd><dt><span>_CoordinateAxisType :</span></dt><dd>Lon</dd></dl></div></li></ul></div></div>"
     },
     "execution_count": 28,
     "metadata": {},
     "output_type": "execute_result"
    }
   ],
   "source": [
    "dataset.lon[0]"
   ],
   "metadata": {
    "collapsed": false
   }
  },
  {
   "cell_type": "code",
   "execution_count": 78,
   "outputs": [
    {
     "data": {
      "text/plain": "False"
     },
     "execution_count": 78,
     "metadata": {},
     "output_type": "execute_result"
    }
   ],
   "source": [
    "np.array_equal(masked_gdf_manitoba, masked_gdf_alberta)"
   ],
   "metadata": {
    "collapsed": false
   }
  },
  {
   "cell_type": "code",
   "execution_count": 80,
   "outputs": [
    {
     "data": {
      "text/plain": "            lon     lat        sm\n109277  139.375  71.125  0.020541\n110259   24.875  70.875  0.239877\n110260   25.125  70.875  0.239723\n110261   25.375  70.875  0.234124\n110262   25.625  70.875  0.241177\n...         ...     ...       ...\n816918  -70.375 -51.875  0.232667\n816919  -70.125 -51.875  0.237066\n816920  -69.875 -51.875  0.234583\n816921  -69.625 -51.875  0.220140\n816922  -69.375 -51.875  0.229484\n\n[137713 rows x 3 columns]",
      "text/html": "<div>\n<style scoped>\n    .dataframe tbody tr th:only-of-type {\n        vertical-align: middle;\n    }\n\n    .dataframe tbody tr th {\n        vertical-align: top;\n    }\n\n    .dataframe thead th {\n        text-align: right;\n    }\n</style>\n<table border=\"1\" class=\"dataframe\">\n  <thead>\n    <tr style=\"text-align: right;\">\n      <th></th>\n      <th>lon</th>\n      <th>lat</th>\n      <th>sm</th>\n    </tr>\n  </thead>\n  <tbody>\n    <tr>\n      <th>109277</th>\n      <td>139.375</td>\n      <td>71.125</td>\n      <td>0.020541</td>\n    </tr>\n    <tr>\n      <th>110259</th>\n      <td>24.875</td>\n      <td>70.875</td>\n      <td>0.239877</td>\n    </tr>\n    <tr>\n      <th>110260</th>\n      <td>25.125</td>\n      <td>70.875</td>\n      <td>0.239723</td>\n    </tr>\n    <tr>\n      <th>110261</th>\n      <td>25.375</td>\n      <td>70.875</td>\n      <td>0.234124</td>\n    </tr>\n    <tr>\n      <th>110262</th>\n      <td>25.625</td>\n      <td>70.875</td>\n      <td>0.241177</td>\n    </tr>\n    <tr>\n      <th>...</th>\n      <td>...</td>\n      <td>...</td>\n      <td>...</td>\n    </tr>\n    <tr>\n      <th>816918</th>\n      <td>-70.375</td>\n      <td>-51.875</td>\n      <td>0.232667</td>\n    </tr>\n    <tr>\n      <th>816919</th>\n      <td>-70.125</td>\n      <td>-51.875</td>\n      <td>0.237066</td>\n    </tr>\n    <tr>\n      <th>816920</th>\n      <td>-69.875</td>\n      <td>-51.875</td>\n      <td>0.234583</td>\n    </tr>\n    <tr>\n      <th>816921</th>\n      <td>-69.625</td>\n      <td>-51.875</td>\n      <td>0.220140</td>\n    </tr>\n    <tr>\n      <th>816922</th>\n      <td>-69.375</td>\n      <td>-51.875</td>\n      <td>0.229484</td>\n    </tr>\n  </tbody>\n</table>\n<p>137713 rows × 3 columns</p>\n</div>"
     },
     "execution_count": 80,
     "metadata": {},
     "output_type": "execute_result"
    }
   ],
   "source": [
    "test = masked_gdf_alberta.copy()\n",
    "test_sm = test[['lon','lat','sm']]\n",
    "test_sm = test_sm.dropna()\n",
    "test_sm"
   ],
   "metadata": {
    "collapsed": false
   }
  },
  {
   "cell_type": "code",
   "execution_count": 79,
   "outputs": [
    {
     "data": {
      "text/plain": "109277    0.020541\n110259    0.239877\n110260    0.239723\n110261    0.234124\n110262    0.241177\n            ...   \n816918    0.232667\n816919    0.237066\n816920    0.234583\n816921    0.220140\n816922    0.229484\nName: sm, Length: 137713, dtype: float32"
     },
     "execution_count": 79,
     "metadata": {},
     "output_type": "execute_result"
    }
   ],
   "source": [
    "test2 = masked_gdf_manitoba.copy()\n",
    "test2_sm = test2['sm']\n",
    "test2_sm = test2_sm.dropna()\n",
    "test2_sm"
   ],
   "metadata": {
    "collapsed": false
   }
  },
  {
   "cell_type": "code",
   "execution_count": 61,
   "outputs": [
    {
     "data": {
      "text/plain": "109277    0.020541\n110259    0.239877\n110260    0.239723\n110261    0.234124\n110262    0.241177\n            ...   \n816918    0.232667\n816919    0.237066\n816920    0.234583\n816921    0.220140\n816922    0.229484\nName: sm, Length: 137315, dtype: float32"
     },
     "execution_count": 61,
     "metadata": {},
     "output_type": "execute_result"
    }
   ],
   "source": [
    "test3 = masked_gdf.copy()\n",
    "test3_sm = test3['sm']\n",
    "test3_sm = test3_sm.dropna()\n",
    "test3_sm"
   ],
   "metadata": {
    "collapsed": false
   }
  },
  {
   "cell_type": "code",
   "execution_count": 82,
   "outputs": [
    {
     "data": {
      "text/plain": "<xarray.DataArray 'lon' (lon: 1440)>\narray([-179.875, -179.625, -179.375, ...,  179.375,  179.625,  179.875])\nCoordinates:\n  * lon      (lon) float64 -179.9 -179.6 -179.4 -179.1 ... 179.4 179.6 179.9\nAttributes:\n    standard_name:        longitude\n    units:                degrees_east\n    valid_range:          [-180.  180.]\n    _CoordinateAxisType:  Lon",
      "text/html": "<div><svg style=\"position: absolute; width: 0; height: 0; overflow: hidden\">\n<defs>\n<symbol id=\"icon-database\" viewBox=\"0 0 32 32\">\n<path d=\"M16 0c-8.837 0-16 2.239-16 5v4c0 2.761 7.163 5 16 5s16-2.239 16-5v-4c0-2.761-7.163-5-16-5z\"></path>\n<path d=\"M16 17c-8.837 0-16-2.239-16-5v6c0 2.761 7.163 5 16 5s16-2.239 16-5v-6c0 2.761-7.163 5-16 5z\"></path>\n<path d=\"M16 26c-8.837 0-16-2.239-16-5v6c0 2.761 7.163 5 16 5s16-2.239 16-5v-6c0 2.761-7.163 5-16 5z\"></path>\n</symbol>\n<symbol id=\"icon-file-text2\" viewBox=\"0 0 32 32\">\n<path d=\"M28.681 7.159c-0.694-0.947-1.662-2.053-2.724-3.116s-2.169-2.030-3.116-2.724c-1.612-1.182-2.393-1.319-2.841-1.319h-15.5c-1.378 0-2.5 1.121-2.5 2.5v27c0 1.378 1.122 2.5 2.5 2.5h23c1.378 0 2.5-1.122 2.5-2.5v-19.5c0-0.448-0.137-1.23-1.319-2.841zM24.543 5.457c0.959 0.959 1.712 1.825 2.268 2.543h-4.811v-4.811c0.718 0.556 1.584 1.309 2.543 2.268zM28 29.5c0 0.271-0.229 0.5-0.5 0.5h-23c-0.271 0-0.5-0.229-0.5-0.5v-27c0-0.271 0.229-0.5 0.5-0.5 0 0 15.499-0 15.5 0v7c0 0.552 0.448 1 1 1h7v19.5z\"></path>\n<path d=\"M23 26h-14c-0.552 0-1-0.448-1-1s0.448-1 1-1h14c0.552 0 1 0.448 1 1s-0.448 1-1 1z\"></path>\n<path d=\"M23 22h-14c-0.552 0-1-0.448-1-1s0.448-1 1-1h14c0.552 0 1 0.448 1 1s-0.448 1-1 1z\"></path>\n<path d=\"M23 18h-14c-0.552 0-1-0.448-1-1s0.448-1 1-1h14c0.552 0 1 0.448 1 1s-0.448 1-1 1z\"></path>\n</symbol>\n</defs>\n</svg>\n<style>/* CSS stylesheet for displaying xarray objects in jupyterlab.\n *\n */\n\n:root {\n  --xr-font-color0: var(--jp-content-font-color0, rgba(0, 0, 0, 1));\n  --xr-font-color2: var(--jp-content-font-color2, rgba(0, 0, 0, 0.54));\n  --xr-font-color3: var(--jp-content-font-color3, rgba(0, 0, 0, 0.38));\n  --xr-border-color: var(--jp-border-color2, #e0e0e0);\n  --xr-disabled-color: var(--jp-layout-color3, #bdbdbd);\n  --xr-background-color: var(--jp-layout-color0, white);\n  --xr-background-color-row-even: var(--jp-layout-color1, white);\n  --xr-background-color-row-odd: var(--jp-layout-color2, #eeeeee);\n}\n\nhtml[theme=dark],\nbody[data-theme=dark],\nbody.vscode-dark {\n  --xr-font-color0: rgba(255, 255, 255, 1);\n  --xr-font-color2: rgba(255, 255, 255, 0.54);\n  --xr-font-color3: rgba(255, 255, 255, 0.38);\n  --xr-border-color: #1F1F1F;\n  --xr-disabled-color: #515151;\n  --xr-background-color: #111111;\n  --xr-background-color-row-even: #111111;\n  --xr-background-color-row-odd: #313131;\n}\n\n.xr-wrap {\n  display: block !important;\n  min-width: 300px;\n  max-width: 700px;\n}\n\n.xr-text-repr-fallback {\n  /* fallback to plain text repr when CSS is not injected (untrusted notebook) */\n  display: none;\n}\n\n.xr-header {\n  padding-top: 6px;\n  padding-bottom: 6px;\n  margin-bottom: 4px;\n  border-bottom: solid 1px var(--xr-border-color);\n}\n\n.xr-header > div,\n.xr-header > ul {\n  display: inline;\n  margin-top: 0;\n  margin-bottom: 0;\n}\n\n.xr-obj-type,\n.xr-array-name {\n  margin-left: 2px;\n  margin-right: 10px;\n}\n\n.xr-obj-type {\n  color: var(--xr-font-color2);\n}\n\n.xr-sections {\n  padding-left: 0 !important;\n  display: grid;\n  grid-template-columns: 150px auto auto 1fr 20px 20px;\n}\n\n.xr-section-item {\n  display: contents;\n}\n\n.xr-section-item input {\n  display: none;\n}\n\n.xr-section-item input + label {\n  color: var(--xr-disabled-color);\n}\n\n.xr-section-item input:enabled + label {\n  cursor: pointer;\n  color: var(--xr-font-color2);\n}\n\n.xr-section-item input:enabled + label:hover {\n  color: var(--xr-font-color0);\n}\n\n.xr-section-summary {\n  grid-column: 1;\n  color: var(--xr-font-color2);\n  font-weight: 500;\n}\n\n.xr-section-summary > span {\n  display: inline-block;\n  padding-left: 0.5em;\n}\n\n.xr-section-summary-in:disabled + label {\n  color: var(--xr-font-color2);\n}\n\n.xr-section-summary-in + label:before {\n  display: inline-block;\n  content: '►';\n  font-size: 11px;\n  width: 15px;\n  text-align: center;\n}\n\n.xr-section-summary-in:disabled + label:before {\n  color: var(--xr-disabled-color);\n}\n\n.xr-section-summary-in:checked + label:before {\n  content: '▼';\n}\n\n.xr-section-summary-in:checked + label > span {\n  display: none;\n}\n\n.xr-section-summary,\n.xr-section-inline-details {\n  padding-top: 4px;\n  padding-bottom: 4px;\n}\n\n.xr-section-inline-details {\n  grid-column: 2 / -1;\n}\n\n.xr-section-details {\n  display: none;\n  grid-column: 1 / -1;\n  margin-bottom: 5px;\n}\n\n.xr-section-summary-in:checked ~ .xr-section-details {\n  display: contents;\n}\n\n.xr-array-wrap {\n  grid-column: 1 / -1;\n  display: grid;\n  grid-template-columns: 20px auto;\n}\n\n.xr-array-wrap > label {\n  grid-column: 1;\n  vertical-align: top;\n}\n\n.xr-preview {\n  color: var(--xr-font-color3);\n}\n\n.xr-array-preview,\n.xr-array-data {\n  padding: 0 5px !important;\n  grid-column: 2;\n}\n\n.xr-array-data,\n.xr-array-in:checked ~ .xr-array-preview {\n  display: none;\n}\n\n.xr-array-in:checked ~ .xr-array-data,\n.xr-array-preview {\n  display: inline-block;\n}\n\n.xr-dim-list {\n  display: inline-block !important;\n  list-style: none;\n  padding: 0 !important;\n  margin: 0;\n}\n\n.xr-dim-list li {\n  display: inline-block;\n  padding: 0;\n  margin: 0;\n}\n\n.xr-dim-list:before {\n  content: '(';\n}\n\n.xr-dim-list:after {\n  content: ')';\n}\n\n.xr-dim-list li:not(:last-child):after {\n  content: ',';\n  padding-right: 5px;\n}\n\n.xr-has-index {\n  font-weight: bold;\n}\n\n.xr-var-list,\n.xr-var-item {\n  display: contents;\n}\n\n.xr-var-item > div,\n.xr-var-item label,\n.xr-var-item > .xr-var-name span {\n  background-color: var(--xr-background-color-row-even);\n  margin-bottom: 0;\n}\n\n.xr-var-item > .xr-var-name:hover span {\n  padding-right: 5px;\n}\n\n.xr-var-list > li:nth-child(odd) > div,\n.xr-var-list > li:nth-child(odd) > label,\n.xr-var-list > li:nth-child(odd) > .xr-var-name span {\n  background-color: var(--xr-background-color-row-odd);\n}\n\n.xr-var-name {\n  grid-column: 1;\n}\n\n.xr-var-dims {\n  grid-column: 2;\n}\n\n.xr-var-dtype {\n  grid-column: 3;\n  text-align: right;\n  color: var(--xr-font-color2);\n}\n\n.xr-var-preview {\n  grid-column: 4;\n}\n\n.xr-index-preview {\n  grid-column: 2 / 5;\n  color: var(--xr-font-color2);\n}\n\n.xr-var-name,\n.xr-var-dims,\n.xr-var-dtype,\n.xr-preview,\n.xr-attrs dt {\n  white-space: nowrap;\n  overflow: hidden;\n  text-overflow: ellipsis;\n  padding-right: 10px;\n}\n\n.xr-var-name:hover,\n.xr-var-dims:hover,\n.xr-var-dtype:hover,\n.xr-attrs dt:hover {\n  overflow: visible;\n  width: auto;\n  z-index: 1;\n}\n\n.xr-var-attrs,\n.xr-var-data,\n.xr-index-data {\n  display: none;\n  background-color: var(--xr-background-color) !important;\n  padding-bottom: 5px !important;\n}\n\n.xr-var-attrs-in:checked ~ .xr-var-attrs,\n.xr-var-data-in:checked ~ .xr-var-data,\n.xr-index-data-in:checked ~ .xr-index-data {\n  display: block;\n}\n\n.xr-var-data > table {\n  float: right;\n}\n\n.xr-var-name span,\n.xr-var-data,\n.xr-index-name div,\n.xr-index-data,\n.xr-attrs {\n  padding-left: 25px !important;\n}\n\n.xr-attrs,\n.xr-var-attrs,\n.xr-var-data,\n.xr-index-data {\n  grid-column: 1 / -1;\n}\n\ndl.xr-attrs {\n  padding: 0;\n  margin: 0;\n  display: grid;\n  grid-template-columns: 125px auto;\n}\n\n.xr-attrs dt,\n.xr-attrs dd {\n  padding: 0;\n  margin: 0;\n  float: left;\n  padding-right: 10px;\n  width: auto;\n}\n\n.xr-attrs dt {\n  font-weight: normal;\n  grid-column: 1;\n}\n\n.xr-attrs dt:hover span {\n  display: inline-block;\n  background: var(--xr-background-color);\n  padding-right: 10px;\n}\n\n.xr-attrs dd {\n  grid-column: 2;\n  white-space: pre-wrap;\n  word-break: break-all;\n}\n\n.xr-icon-database,\n.xr-icon-file-text2,\n.xr-no-icon {\n  display: inline-block;\n  vertical-align: middle;\n  width: 1em;\n  height: 1.5em !important;\n  stroke-width: 0;\n  stroke: currentColor;\n  fill: currentColor;\n}\n</style><pre class='xr-text-repr-fallback'>&lt;xarray.DataArray &#x27;lon&#x27; (lon: 1440)&gt;\narray([-179.875, -179.625, -179.375, ...,  179.375,  179.625,  179.875])\nCoordinates:\n  * lon      (lon) float64 -179.9 -179.6 -179.4 -179.1 ... 179.4 179.6 179.9\nAttributes:\n    standard_name:        longitude\n    units:                degrees_east\n    valid_range:          [-180.  180.]\n    _CoordinateAxisType:  Lon</pre><div class='xr-wrap' style='display:none'><div class='xr-header'><div class='xr-obj-type'>xarray.DataArray</div><div class='xr-array-name'>'lon'</div><ul class='xr-dim-list'><li><span class='xr-has-index'>lon</span>: 1440</li></ul></div><ul class='xr-sections'><li class='xr-section-item'><div class='xr-array-wrap'><input id='section-3aef7349-f8a3-46ed-8fe1-16d27acc4fb7' class='xr-array-in' type='checkbox' checked><label for='section-3aef7349-f8a3-46ed-8fe1-16d27acc4fb7' title='Show/hide data repr'><svg class='icon xr-icon-database'><use xlink:href='#icon-database'></use></svg></label><div class='xr-array-preview xr-preview'><span>-179.9 -179.6 -179.4 -179.1 -178.9 ... 178.9 179.1 179.4 179.6 179.9</span></div><div class='xr-array-data'><pre>array([-179.875, -179.625, -179.375, ...,  179.375,  179.625,  179.875])</pre></div></div></li><li class='xr-section-item'><input id='section-59432ed6-7043-4eaf-8994-dc49a927a531' class='xr-section-summary-in' type='checkbox'  checked><label for='section-59432ed6-7043-4eaf-8994-dc49a927a531' class='xr-section-summary' >Coordinates: <span>(1)</span></label><div class='xr-section-inline-details'></div><div class='xr-section-details'><ul class='xr-var-list'><li class='xr-var-item'><div class='xr-var-name'><span class='xr-has-index'>lon</span></div><div class='xr-var-dims'>(lon)</div><div class='xr-var-dtype'>float64</div><div class='xr-var-preview xr-preview'>-179.9 -179.6 ... 179.6 179.9</div><input id='attrs-58205e79-d3cf-4e3f-8797-16226e9ef743' class='xr-var-attrs-in' type='checkbox' ><label for='attrs-58205e79-d3cf-4e3f-8797-16226e9ef743' title='Show/Hide attributes'><svg class='icon xr-icon-file-text2'><use xlink:href='#icon-file-text2'></use></svg></label><input id='data-54207877-69f4-4363-80a2-882619b1ac90' class='xr-var-data-in' type='checkbox'><label for='data-54207877-69f4-4363-80a2-882619b1ac90' title='Show/Hide data repr'><svg class='icon xr-icon-database'><use xlink:href='#icon-database'></use></svg></label><div class='xr-var-attrs'><dl class='xr-attrs'><dt><span>standard_name :</span></dt><dd>longitude</dd><dt><span>units :</span></dt><dd>degrees_east</dd><dt><span>valid_range :</span></dt><dd>[-180.  180.]</dd><dt><span>_CoordinateAxisType :</span></dt><dd>Lon</dd></dl></div><div class='xr-var-data'><pre>array([-179.875, -179.625, -179.375, ...,  179.375,  179.625,  179.875])</pre></div></li></ul></div></li><li class='xr-section-item'><input id='section-b7002958-70e2-43f8-9fd6-81067c640539' class='xr-section-summary-in' type='checkbox'  ><label for='section-b7002958-70e2-43f8-9fd6-81067c640539' class='xr-section-summary' >Indexes: <span>(1)</span></label><div class='xr-section-inline-details'></div><div class='xr-section-details'><ul class='xr-var-list'><li class='xr-var-item'><div class='xr-index-name'><div>lon</div></div><div class='xr-index-preview'>PandasIndex</div><div></div><input id='index-916e8751-212d-4e1a-a277-27313609f600' class='xr-index-data-in' type='checkbox'/><label for='index-916e8751-212d-4e1a-a277-27313609f600' title='Show/Hide index repr'><svg class='icon xr-icon-database'><use xlink:href='#icon-database'></use></svg></label><div class='xr-index-data'><pre>PandasIndex(Float64Index([-179.875, -179.625, -179.375, -179.125, -178.875, -178.625,\n              -178.375, -178.125, -177.875, -177.625,\n              ...\n               177.625,  177.875,  178.125,  178.375,  178.625,  178.875,\n               179.125,  179.375,  179.625,  179.875],\n             dtype=&#x27;float64&#x27;, name=&#x27;lon&#x27;, length=1440))</pre></div></li></ul></div></li><li class='xr-section-item'><input id='section-10067817-2769-466a-8e50-39c5a532a803' class='xr-section-summary-in' type='checkbox'  checked><label for='section-10067817-2769-466a-8e50-39c5a532a803' class='xr-section-summary' >Attributes: <span>(4)</span></label><div class='xr-section-inline-details'></div><div class='xr-section-details'><dl class='xr-attrs'><dt><span>standard_name :</span></dt><dd>longitude</dd><dt><span>units :</span></dt><dd>degrees_east</dd><dt><span>valid_range :</span></dt><dd>[-180.  180.]</dd><dt><span>_CoordinateAxisType :</span></dt><dd>Lon</dd></dl></div></li></ul></div></div>"
     },
     "execution_count": 82,
     "metadata": {},
     "output_type": "execute_result"
    }
   ],
   "source": [],
   "metadata": {
    "collapsed": false
   }
  },
  {
   "cell_type": "code",
   "execution_count": null,
   "outputs": [],
   "source": [],
   "metadata": {
    "collapsed": false
   }
  }
 ],
 "metadata": {
  "kernelspec": {
   "display_name": "Python 3",
   "language": "python",
   "name": "python3"
  },
  "language_info": {
   "codemirror_mode": {
    "name": "ipython",
    "version": 2
   },
   "file_extension": ".py",
   "mimetype": "text/x-python",
   "name": "python",
   "nbconvert_exporter": "python",
   "pygments_lexer": "ipython2",
   "version": "2.7.6"
  }
 },
 "nbformat": 4,
 "nbformat_minor": 0
}
