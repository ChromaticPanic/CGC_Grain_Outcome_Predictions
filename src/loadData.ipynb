{
 "cells": [
  {
   "cell_type": "markdown",
   "metadata": {},
   "source": [
    "need to download ergot yet\n",
    "\n",
    "Adding other data...  \n",
    "download/aggregate soil moisture data?"
   ]
  },
  {
   "cell_type": "code",
   "execution_count": null,
   "metadata": {},
   "outputs": [],
   "source": [
    "from Datasets.setCreator import SetCreator  # ignore: type\n",
    "import urllib.request\n",
    "import zipfile\n",
    "import os"
   ]
  },
  {
   "cell_type": "code",
   "execution_count": null,
   "metadata": {},
   "outputs": [],
   "source": [
    "srcDir = os.getcwd()\n",
    "\n",
    "datasetsData = os.path.join(srcDir, \"Datasets/data\")\n",
    "ergotData = os.path.join(srcDir, \"Edgot/data\")\n",
    "modelsData = os.path.join(srcDir, \"Models/data\")\n",
    "copernicusData = os.path.join(srcDir, \"SatelliteCopernicus/data\")\n",
    "moistureData = os.path.join(srcDir, \"SatelliteMoisture/data\")\n",
    "sharedData = os.path.join(srcDir, \"Shared/data\")\n",
    "soilData = os.path.join(srcDir, \"Soil/data\")\n",
    "stationData = os.path.join(srcDir, \"WeatherStation/data\")\n",
    "\n",
    "if not os.path.exists(datasetsData):\n",
    "    os.makedirs(datasetsData)\n",
    "\n",
    "if not os.path.exists(ergotData):\n",
    "    os.makedirs(ergotData)\n",
    "\n",
    "if not os.path.exists(modelsData):\n",
    "    os.makedirs(modelsData)\n",
    "\n",
    "if not os.path.exists(copernicusData):\n",
    "    os.makedirs(copernicusData)\n",
    "\n",
    "if not os.path.exists(moistureData):\n",
    "    os.makedirs(moistureData)\n",
    "\n",
    "if not os.path.exists(sharedData):\n",
    "    os.makedirs(sharedData)\n",
    "\n",
    "if not os.path.exists(soilData):\n",
    "    os.makedirs(soilData)\n",
    "\n",
    "if not os.path.exists(stationData):\n",
    "    os.makedirs(stationData)"
   ]
  },
  {
   "cell_type": "code",
   "execution_count": null,
   "metadata": {},
   "outputs": [],
   "source": [
    "os.chdir(stationData)\n",
    "print(os.getcwd())\n",
    "\n",
    "urllib.request.urlretrieve(\n",
    "    url=\"https://www150.statcan.gc.ca/n1/pub/92-174-x/2007000/carboundary/gcar000b07a_e.zip\",\n",
    "    filename=\"gcar000b07a_e.zip\",\n",
    ")\n",
    "\n",
    "with zipfile.ZipFile(f\"{os.getcwd()}/gcar000b07a_e.zip\", \"r\") as zip_ref:\n",
    "    zip_ref.extractall(os.getcwd())\n",
    "\n",
    "os.chdir(f\"{stationData}/../..\")\n",
    "print(os.getcwd())"
   ]
  },
  {
   "cell_type": "code",
   "execution_count": null,
   "metadata": {},
   "outputs": [],
   "source": [
    "os.chdir(stationData)\n",
    "print(os.getcwd())\n",
    "\n",
    "urllib.request.urlretrieve(\n",
    "    url=\"https://dd.weather.gc.ca/climate/observations/climate_station_list.csv\",\n",
    "    filename=\"climate_station_list.csv\",\n",
    ")\n",
    "\n",
    "os.chdir(f\"{stationData}/../..\")\n",
    "print(os.getcwd())"
   ]
  },
  {
   "cell_type": "code",
   "execution_count": null,
   "metadata": {},
   "outputs": [],
   "source": [
    "os.chdir(soilData)\n",
    "print(os.getcwd())\n",
    "\n",
    "urllib.request.urlretrieve(\n",
    "    url=\"https://sis.agr.gc.ca/nsdb/ca/cac003/cac003.20110308.v3.2/ca_all_slc_v3r2.zip\",\n",
    "    filename=\"ca_all_slc_v3r2.zip\",\n",
    ")\n",
    "with zipfile.ZipFile(f\"{os.getcwd()}/ca_all_slc_v3r2.zip\", \"r\") as zip_ref:\n",
    "    zip_ref.extractall(os.getcwd())\n",
    "\n",
    "urllib.request.urlretrieve(\n",
    "    url=\"https://sis.agr.gc.ca/soildata/mb/soil_name_mb_v2r20130705.dbf\",\n",
    "    filename=\"soil_name_mb_v2r20130705.dbf\",\n",
    ")\n",
    "urllib.request.urlretrieve(\n",
    "    url=\"https://sis.agr.gc.ca/soildata/mb/soil_layer_mb_v2r20130705.dbf\",\n",
    "    filename=\"soil_layer_mb_v2r20130705.dbf\",\n",
    ")\n",
    "\n",
    "urllib.request.urlretrieve(\n",
    "    url=\"https://sis.agr.gc.ca/soildata/ab/soil_name_ab_v2r20140529.dbf\",\n",
    "    filename=\"soil_name_ab_v2r20140529.dbf\",\n",
    ")\n",
    "urllib.request.urlretrieve(\n",
    "    url=\"https://sis.agr.gc.ca/soildata/ab/soil_layer_ab_v2r20140529.dbf\",\n",
    "    filename=\"soil_layer_ab_v2r20140529.dbf\",\n",
    ")\n",
    "\n",
    "urllib.request.urlretrieve(\n",
    "    url=\"https://sis.agr.gc.ca/soildata/sk/soil_name_sk_v2r20130705.dbf\",\n",
    "    filename=\"soil_name_sk_v2r20130705.dbf\",\n",
    ")\n",
    "urllib.request.urlretrieve(\n",
    "    url=\"https://sis.agr.gc.ca/soildata/sk/soil_layer_sk_v2r20130705.dbf\",\n",
    "    filename=\"soil_layer_sk_v2r20130705.dbf\",\n",
    ")\n",
    "\n",
    "os.chdir(f\"{soilData}/../..\")\n",
    "print(os.getcwd())"
   ]
  },
  {
   "cell_type": "markdown",
   "metadata": {},
   "source": [
    "Pull data"
   ]
  },
  {
   "cell_type": "code",
   "execution_count": null,
   "metadata": {},
   "outputs": [],
   "source": [
    "%run Ergot/importErgot.ipynb"
   ]
  },
  {
   "cell_type": "code",
   "execution_count": null,
   "metadata": {},
   "outputs": [],
   "source": [
    "%run WeatherStation/importBoundariesAndStations.ipynb"
   ]
  },
  {
   "cell_type": "code",
   "execution_count": null,
   "metadata": {},
   "outputs": [],
   "source": [
    "%run WeatherStation/scrapeDaily.py"
   ]
  },
  {
   "cell_type": "code",
   "execution_count": null,
   "metadata": {},
   "outputs": [],
   "source": [
    "%run WeatherStation/scrapeHourlyParallel.py"
   ]
  },
  {
   "cell_type": "code",
   "execution_count": null,
   "metadata": {},
   "outputs": [],
   "source": [
    "%run SatelliteCopernicus/pullCopernicusData.py"
   ]
  },
  {
   "cell_type": "code",
   "execution_count": null,
   "metadata": {},
   "outputs": [],
   "source": [
    "%run Soil/importSoil.ipynb"
   ]
  },
  {
   "cell_type": "markdown",
   "metadata": {},
   "source": [
    "Aggregate data"
   ]
  },
  {
   "cell_type": "code",
   "execution_count": null,
   "metadata": {},
   "outputs": [],
   "source": [
    "%run Ergot/aggregateErgot.py"
   ]
  },
  {
   "cell_type": "code",
   "execution_count": null,
   "metadata": {},
   "outputs": [],
   "source": [
    "%run Ergot/featureEngErgot.py"
   ]
  },
  {
   "cell_type": "code",
   "execution_count": null,
   "metadata": {},
   "outputs": [],
   "source": [
    "%run WeatherStation/CombineProvinceData.py"
   ]
  },
  {
   "cell_type": "code",
   "execution_count": null,
   "metadata": {},
   "outputs": [],
   "source": [
    "%run Soil/soilAggregation.ipynb"
   ]
  },
  {
   "cell_type": "markdown",
   "metadata": {},
   "source": [
    "Build datasets"
   ]
  },
  {
   "cell_type": "code",
   "execution_count": null,
   "metadata": {},
   "outputs": [],
   "source": [
    "SetCreator()"
   ]
  },
  {
   "cell_type": "code",
   "execution_count": null,
   "metadata": {},
   "outputs": [],
   "source": [
    "%run Datasets/DatasetJS.py"
   ]
  }
 ],
 "metadata": {
  "kernelspec": {
   "display_name": "env",
   "language": "python",
   "name": "python3"
  },
  "language_info": {
   "codemirror_mode": {
    "name": "ipython",
    "version": 3
   },
   "file_extension": ".py",
   "mimetype": "text/x-python",
   "name": "python",
   "nbconvert_exporter": "python",
   "pygments_lexer": "ipython3",
   "version": "3.8.0"
  },
  "orig_nbformat": 4
 },
 "nbformat": 4,
 "nbformat_minor": 2
}
